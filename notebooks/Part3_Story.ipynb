{
 "cells": [
  {
   "cell_type": "code",
   "execution_count": 1,
   "metadata": {},
   "outputs": [
    {
     "name": "stderr",
     "output_type": "stream",
     "text": [
      "/anaconda3/lib/python3.7/site-packages/sklearn/utils/deprecation.py:144: FutureWarning: The sklearn.metrics.scorer module is  deprecated in version 0.22 and will be removed in version 0.24. The corresponding classes / functions should instead be imported from sklearn.metrics. Anything that cannot be imported from sklearn.metrics is now part of the private API.\n",
      "  warnings.warn(message, FutureWarning)\n",
      "/anaconda3/lib/python3.7/site-packages/sklearn/utils/deprecation.py:144: FutureWarning: The sklearn.feature_selection.base module is  deprecated in version 0.22 and will be removed in version 0.24. The corresponding classes / functions should instead be imported from sklearn.feature_selection. Anything that cannot be imported from sklearn.feature_selection is now part of the private API.\n",
      "  warnings.warn(message, FutureWarning)\n"
     ]
    }
   ],
   "source": [
    "# Packages\n",
    "import pandas as pd\n",
    "import numpy as np\n",
    "import seaborn as sns\n",
    "import matplotlib.pyplot as plt\n",
    "import missingno as msno\n",
    "from sklearn import metrics\n",
    "from sklearn.metrics import plot_confusion_matrix\n",
    "from sklearn.ensemble import RandomForestClassifier\n",
    "from sklearn.dummy import DummyClassifier\n",
    "from sklearn.model_selection import train_test_split\n",
    "from sklearn.model_selection import GridSearchCV\n",
    "from sklearn.model_selection import KFold\n",
    "from sklearn.feature_selection import RFE\n",
    "from sklearn.feature_selection import SelectKBest\n",
    "from sklearn.feature_selection import chi2\n",
    "from sklearn.metrics import recall_score\n",
    "from sklearn.metrics import make_scorer\n",
    "from skater.core.explanations import Interpretation\n",
    "from skater.model import InMemoryModel\n",
    "import eli5\n",
    "from eli5 import show_prediction\n",
    "from sklearn.inspection import partial_dependence\n",
    "from sklearn.inspection import plot_partial_dependence\n",
    "import plotly\n",
    "from plotly import graph_objs as go, offline as po, tools\n",
    "import numpy as np\n",
    "import json\n",
    "import ipywidgets as widgets\n",
    "from IPython.display import display\n",
    "from ipywidgets import HTML\n",
    "import plotly.graph_objs as go\n",
    "from ipywidgets import interact\n",
    "import plotly.figure_factory as ff\n",
    "from sklearn.metrics import confusion_matrix\n",
    "from IPython.display import Image"
   ]
  },
  {
   "cell_type": "code",
   "execution_count": 2,
   "metadata": {},
   "outputs": [],
   "source": [
    "# Dataset\n",
    "## Load data\n",
    "path = \"data/PatientInfo.csv\"\n",
    "df = pd.read_csv(path)"
   ]
  },
  {
   "cell_type": "code",
   "execution_count": 3,
   "metadata": {},
   "outputs": [],
   "source": [
    "# Dataprep\n",
    "# Reduce data \n",
    "df.drop(columns=['patient_id','infection_case', 'symptom_onset_date', 'global_num', 'birth_year', 'country', 'city', 'infection_order', 'infected_by', 'contact_number', 'released_date', 'deceased_date'], inplace = True)\n",
    "\n",
    "# New column \"Days since first case\"\n",
    "df['confirmed_date'] = pd.to_datetime(df['confirmed_date'], errors='coerce')\n",
    "firstCase = df['confirmed_date'].min()\n",
    "df['Days since first case'] = df['confirmed_date'] - firstCase\n",
    "df.drop(columns = ['confirmed_date'], inplace = True)\n",
    "\n",
    "# Binarising \n",
    "df = df[df['sex'].notna()]\n",
    "gender = {'male': 0,'female': 1} \n",
    "df.sex = [gender[item] for item in df.sex]\n",
    "\n",
    "# OneHotEncoding\n",
    "df = pd.get_dummies(df, columns=[\"disease\"], prefix='', prefix_sep='')\n",
    "df = pd.get_dummies(df, columns=[\"province\"], prefix='', prefix_sep='')\n",
    "\n",
    "# Clean age\n",
    "df['age'] = df['age'].str.replace(r's$', '')\n",
    "df = df[df['age'].notna()]\n",
    "df = df.astype({\"age\": int})\n",
    "\n",
    "# Convert timedeltas to integer\n",
    "df['Days since first case'] = df['Days since first case'].dt.days\n",
    "\n",
    "# Remove \"Isolated state\"\n",
    "df = df[df['state'] != 'isolated']\n",
    "\n",
    "# Rename a column\n",
    "df = df.rename(columns={'True': 'Existing illness'})"
   ]
  },
  {
   "cell_type": "code",
   "execution_count": 4,
   "metadata": {},
   "outputs": [],
   "source": [
    "# Split into test and training data\n",
    "X = df.drop(columns = ['state', 'Daegu'])\n",
    "y = df[['state']]\n",
    "X_train, X_test, y_train, y_test = train_test_split(X, y, test_size=0.40, shuffle=True, random_state=5)"
   ]
  },
  {
   "cell_type": "code",
   "execution_count": 5,
   "metadata": {},
   "outputs": [],
   "source": [
    "# Train model with tuned parameters\n",
    "rfc = RandomForestClassifier(max_depth=20, max_features=2, n_estimators=20, random_state=5)\n",
    "rfc = rfc.fit(X_train,y_train.values.ravel())"
   ]
  },
  {
   "cell_type": "markdown",
   "metadata": {},
   "source": [
    "# <span style=\"color:orange\">3:</span> What affects risk of fatal attacks for individuals"
   ]
  },
  {
   "cell_type": "code",
   "execution_count": 21,
   "metadata": {},
   "outputs": [
    {
     "data": {
      "application/vnd.jupyter.widget-view+json": {
       "model_id": "dc34dd2160d94dfb9b17cc3f092cd6ad",
       "version_major": 2,
       "version_minor": 0
      },
      "text/plain": [
       "Output(layout=Layout(border='0px solid black'))"
      ]
     },
     "metadata": {},
     "output_type": "display_data"
    }
   ],
   "source": [
    "out = widgets.Output(layout={'border': '0px solid black'})\n",
    "with out:\n",
    "    im = Image(filename=\"images/mathematical.gif\")\n",
    "    display(im)\n",
    "out"
   ]
  },
  {
   "cell_type": "markdown",
   "metadata": {},
   "source": [
    "In this section anonymised health data from 3388 covid-19 patients in Korea will be analysed, with the goal of determining which factors increase the risk of having a fatal case, and which does not. \n",
    "\n",
    "For each patient, the following data has been used:\n",
    "* The sex of the patient\n",
    "* The age of the patient\n",
    "* When the patient contracted covid-19 relative to the first case in the county\n",
    "* If the patient had an existing illness together with covid-19\n",
    "* What region the patient is from\n",
    "\n",
    "The analysis is done using a *Random Forest Classification Machine-learning model*, and in the following you will be walked through the following parts in order.\n",
    "\n",
    "1. Presentation of the model and its performance\n",
    "1. Analysis of the results\n",
    "1. Presentation of a risk-profiling tool for you to play around with the model yourself"
   ]
  },
  {
   "cell_type": "markdown",
   "metadata": {},
   "source": [
    "## <span style=\"color:orange\">3.1:</span> The model and how it performs"
   ]
  },
  {
   "cell_type": "markdown",
   "metadata": {},
   "source": [
    "The model tries to predict whether a person with covid-19 is going to suffer a fatal case ('Deceased') or survive ('Release'). It makes its predictions by infering a great number of rules based on the information about the patients, but let's not discuss the details here, lets instead ask the question we really care about: \n",
    "\n",
    "\"*Is the model any good?*\"\n",
    "\n",
    "When tested on 579 patients the model had not seen before; It predicted 557 of them correct, wrongly predicting 6 patients as 'Deceased' which were in fact 'Released', and 16 patients as 'Released' which were in fact 'Deceased'. Surely this performance is quite good for someone that does not even have a medical degree! \n",
    "\n",
    "In the following, the brain of the model will be extracted, and you will have the opportunity to take a look inside of it to see what the model bases its decisions on. "
   ]
  },
  {
   "cell_type": "markdown",
   "metadata": {},
   "source": [
    "## <span style=\"color:orange\">3.2:</span> Inside the brain: How does the model make decisions? "
   ]
  },
  {
   "cell_type": "code",
   "execution_count": 9,
   "metadata": {},
   "outputs": [
    {
     "data": {
      "application/vnd.jupyter.widget-view+json": {
       "model_id": "3f3f9c45cc8146acb21fdc4fa73f182f",
       "version_major": 2,
       "version_minor": 0
      },
      "text/plain": [
       "Output(layout=Layout(border='0px solid black'))"
      ]
     },
     "metadata": {},
     "output_type": "display_data"
    }
   ],
   "source": [
    "out = widgets.Output(layout={'border': '0px solid black'})\n",
    "with out:\n",
    "    im = Image(filename=\"images/sagan.gif\")\n",
    "    display(im)\n",
    "out"
   ]
  },
  {
   "cell_type": "markdown",
   "metadata": {},
   "source": [
    "Indeed it does Sagan, and so it does for the predictions of the patients; Except the brain is not actually inside someones head, rather its a set of mathmatical calculations being done on a chip... Anyhow... Time to investigate!\n",
    "\n",
    "First, a bar-chart will be shown, presenting how important each feature (sex, age, etc.) is to the model when it makes a prediction. The chart can be seen below, try to hover your mouse over some of the bars!"
   ]
  },
  {
   "cell_type": "code",
   "execution_count": 10,
   "metadata": {},
   "outputs": [],
   "source": [
    "# Extract feature importances for plotting\n",
    "feature_importance = pd.Series(rfc.feature_importances_, index=X.columns)\n",
    "featureNames = feature_importance.index.tolist()\n",
    "featureImportance = np.multiply(feature_importance.tolist(),100)\n",
    "\n",
    "# Group regions\n",
    "regionImportance = sum(featureImportance[4:-1])\n",
    "featureImportance = featureImportance[0:4]\n",
    "featureImportance = np.append(featureImportance,regionImportance)\n",
    "featureNames = featureNames[0:4]\n",
    "featureNames.append('Regions')\n",
    "featureNames[0] = 'Sex'\n",
    "featureNames[1] = 'Age'"
   ]
  },
  {
   "cell_type": "code",
   "execution_count": 11,
   "metadata": {},
   "outputs": [
    {
     "data": {
      "application/vnd.jupyter.widget-view+json": {
       "model_id": "6c6e1a3ec17749ea86bfef4ac1a797a9",
       "version_major": 2,
       "version_minor": 0
      },
      "text/plain": [
       "FigureWidget({\n",
       "    'data': [{'text': [Potentially biased, Good predicter, Potentially biased,\n",
       "                …"
      ]
     },
     "metadata": {},
     "output_type": "display_data"
    }
   ],
   "source": [
    "# Construct plotly barchart\n",
    "fig = go.FigureWidget()\n",
    "fig.layout.title = \"Relative importance when predicting chance of survival of COVID-19 patients\"\n",
    "fig.add_bar(x=featureNames, y=featureImportance, text = ['Potentially biased', 'Good predicter', 'Potentially biased', 'Good predicter', 'Potentially biased'])\n",
    "fig.update_layout(xaxis={'categoryorder':'total descending'}, width=900, height=700)\n",
    "fig"
   ]
  },
  {
   "cell_type": "markdown",
   "metadata": {},
   "source": [
    "Hopefully this graph has made you wonder; 'What is relative importance?' and why does some bars say 'Potentially biased' or 'Good predicter' when I hover over them? \n",
    "\n",
    "**Relative importance** is simply how important the model thinks a feature is when making rules, and the model thinks features that are good at separating people are better. So if you could say \"All women die\" and \"All men survive\", then 'Sex' would be very very important! Luckily this is not the case!\n",
    "\n",
    "**'Potentially biased' and 'Good predicter'** simply refers to the fact that not all of these features are proven to affect covid-19 fatality. 'Age' and 'Existing illness' are scientifically proven to increase risk of suffering a fatal case, making them 'Good predictors', however, 'Days since first case', 'Regions' and 'Sex' are not. This does not mean that the model could not have discovered something that is in fact true, it just means that there is a chance that the model has found something that it thinks is important, but which in reality is not. For instance, it may think that the region \"ABCDEFG\" is highly correlated with suffering fatal attacks while in reality its just because this region is a special region only consisting of nursing homes! (Not a real example). \n",
    "\n",
    "This graph only tells us how important the model think each feature is, but what does it mean if your 'Age' is 80, and what if it is 20? Time to zoom in some more!\n"
   ]
  },
  {
   "cell_type": "code",
   "execution_count": 12,
   "metadata": {},
   "outputs": [
    {
     "data": {
      "application/vnd.jupyter.widget-view+json": {
       "model_id": "50b8ab65f2d14d01bc7e5cdd7f9df0ee",
       "version_major": 2,
       "version_minor": 0
      },
      "text/plain": [
       "Output(layout=Layout(border='0px solid black'))"
      ]
     },
     "metadata": {},
     "output_type": "display_data"
    }
   ],
   "source": [
    "out = widgets.Output(layout={'border': '0px solid black'})\n",
    "with out:\n",
    "    im = Image(filename=\"images/zoom.gif\")\n",
    "    display(im)\n",
    "out"
   ]
  },
  {
   "cell_type": "markdown",
   "metadata": {},
   "source": [
    "Below you will see an interactive plot of how each feature impacts a prediction. You can choose which feature from the bar-graph you wish to investigate using the dropdown menu (except regions, unfortunately there is nothing to see there!). Have a go at it!"
   ]
  },
  {
   "cell_type": "code",
   "execution_count": 13,
   "metadata": {},
   "outputs": [],
   "source": [
    "# Get partial dependence graph data\n",
    "\n",
    "# Sex\n",
    "sex_y, sex_x = partial_dependence(rfc, X_train, [0])\n",
    "sex_y = np.multiply(sex_y[0],100)\n",
    "sex_x = ['Male', 'Female']\n",
    "\n",
    "# Age\n",
    "age_y, age_x = partial_dependence(rfc, X_train, [1])\n",
    "age_y = np.multiply(age_y[0],100)\n",
    "age_x = age_x[0]\n",
    "\n",
    "# Days since first case\n",
    "dsfc_y, dsfc_x = partial_dependence(rfc, X_train, [2])\n",
    "dsfc_y = np.multiply(dsfc_y[0],100)\n",
    "dsfc_x = dsfc_x[0]\n",
    "\n",
    "# Existing illness\n",
    "ei_y, ei_x = partial_dependence(rfc, X_train, [3])\n",
    "ei_y = np.multiply(ei_y[0],100)\n",
    "ei_x = ['No existing illness', 'Existing illness present']"
   ]
  },
  {
   "cell_type": "code",
   "execution_count": 14,
   "metadata": {},
   "outputs": [
    {
     "data": {
      "application/vnd.plotly.v1+json": {
       "config": {
        "plotlyServerURL": "https://plot.ly"
       },
       "data": [
        {
         "type": "scatter",
         "x": [
          3,
          6,
          11,
          13,
          16,
          17,
          21,
          27,
          29,
          30,
          31,
          32,
          33,
          34,
          35,
          36,
          37,
          38,
          39,
          40,
          41,
          42,
          43,
          44,
          45,
          46,
          47,
          48,
          49,
          50,
          51,
          52,
          53,
          54,
          55,
          56,
          57,
          58,
          59,
          60,
          61,
          62,
          63,
          64,
          65,
          66,
          67,
          68,
          69,
          70,
          71,
          72,
          73,
          74,
          75,
          76,
          77,
          78,
          79,
          82,
          84,
          85,
          87,
          91,
          92
         ],
         "y": [
          95.33737024221483,
          95.33737024221483,
          95.33737024221483,
          95.33737024221483,
          95.33737024221483,
          95.33737024221483,
          94.61072664359901,
          94.53719723183428,
          94.53719723183428,
          91.28027681660922,
          92.69031141868516,
          95.42820069204168,
          95.87370242214548,
          96.39705882352962,
          95.93533737024231,
          94.87910899653998,
          95.52436562860449,
          95.99365628604397,
          95.96020761245676,
          97.00259515570941,
          97.1107266435988,
          97.8287197231834,
          97.90224913494814,
          97.66878810347673,
          97.34179848409956,
          97.71193771626295,
          96.25865051903114,
          97.0112456747405,
          97.65138408304499,
          97.69109782950622,
          97.89438502673812,
          97.66514627241293,
          97.28019817552737,
          96.25511167033652,
          95.1910978295064,
          95.09738387333574,
          95.98406207402745,
          95.59550959421239,
          90.61043829296452,
          95.93742791234152,
          95.78820645905427,
          96.06177912341407,
          96.1569348327567,
          96.13675028835065,
          95.29764994233021,
          95.29764994233021,
          95.47931084198422,
          94.38307381776282,
          94.38307381776282,
          95.61577277970011,
          95.61577277970011,
          96.7143886966551,
          96.55002883506347,
          96.13220876585927,
          96.13220876585927,
          96.13220876585927,
          96.13220876585927,
          96.13220876585927,
          96.13220876585927,
          96.13220876585927,
          96.13220876585927,
          96.13220876585927,
          96.13220876585927,
          96.13220876585927,
          96.13220876585927
         ]
        }
       ],
       "layout": {
        "height": 500,
        "template": {
         "data": {
          "bar": [
           {
            "error_x": {
             "color": "#2a3f5f"
            },
            "error_y": {
             "color": "#2a3f5f"
            },
            "marker": {
             "line": {
              "color": "#E5ECF6",
              "width": 0.5
             }
            },
            "type": "bar"
           }
          ],
          "barpolar": [
           {
            "marker": {
             "line": {
              "color": "#E5ECF6",
              "width": 0.5
             }
            },
            "type": "barpolar"
           }
          ],
          "carpet": [
           {
            "aaxis": {
             "endlinecolor": "#2a3f5f",
             "gridcolor": "white",
             "linecolor": "white",
             "minorgridcolor": "white",
             "startlinecolor": "#2a3f5f"
            },
            "baxis": {
             "endlinecolor": "#2a3f5f",
             "gridcolor": "white",
             "linecolor": "white",
             "minorgridcolor": "white",
             "startlinecolor": "#2a3f5f"
            },
            "type": "carpet"
           }
          ],
          "choropleth": [
           {
            "colorbar": {
             "outlinewidth": 0,
             "ticks": ""
            },
            "type": "choropleth"
           }
          ],
          "contour": [
           {
            "colorbar": {
             "outlinewidth": 0,
             "ticks": ""
            },
            "colorscale": [
             [
              0,
              "#0d0887"
             ],
             [
              0.1111111111111111,
              "#46039f"
             ],
             [
              0.2222222222222222,
              "#7201a8"
             ],
             [
              0.3333333333333333,
              "#9c179e"
             ],
             [
              0.4444444444444444,
              "#bd3786"
             ],
             [
              0.5555555555555556,
              "#d8576b"
             ],
             [
              0.6666666666666666,
              "#ed7953"
             ],
             [
              0.7777777777777778,
              "#fb9f3a"
             ],
             [
              0.8888888888888888,
              "#fdca26"
             ],
             [
              1,
              "#f0f921"
             ]
            ],
            "type": "contour"
           }
          ],
          "contourcarpet": [
           {
            "colorbar": {
             "outlinewidth": 0,
             "ticks": ""
            },
            "type": "contourcarpet"
           }
          ],
          "heatmap": [
           {
            "colorbar": {
             "outlinewidth": 0,
             "ticks": ""
            },
            "colorscale": [
             [
              0,
              "#0d0887"
             ],
             [
              0.1111111111111111,
              "#46039f"
             ],
             [
              0.2222222222222222,
              "#7201a8"
             ],
             [
              0.3333333333333333,
              "#9c179e"
             ],
             [
              0.4444444444444444,
              "#bd3786"
             ],
             [
              0.5555555555555556,
              "#d8576b"
             ],
             [
              0.6666666666666666,
              "#ed7953"
             ],
             [
              0.7777777777777778,
              "#fb9f3a"
             ],
             [
              0.8888888888888888,
              "#fdca26"
             ],
             [
              1,
              "#f0f921"
             ]
            ],
            "type": "heatmap"
           }
          ],
          "heatmapgl": [
           {
            "colorbar": {
             "outlinewidth": 0,
             "ticks": ""
            },
            "colorscale": [
             [
              0,
              "#0d0887"
             ],
             [
              0.1111111111111111,
              "#46039f"
             ],
             [
              0.2222222222222222,
              "#7201a8"
             ],
             [
              0.3333333333333333,
              "#9c179e"
             ],
             [
              0.4444444444444444,
              "#bd3786"
             ],
             [
              0.5555555555555556,
              "#d8576b"
             ],
             [
              0.6666666666666666,
              "#ed7953"
             ],
             [
              0.7777777777777778,
              "#fb9f3a"
             ],
             [
              0.8888888888888888,
              "#fdca26"
             ],
             [
              1,
              "#f0f921"
             ]
            ],
            "type": "heatmapgl"
           }
          ],
          "histogram": [
           {
            "marker": {
             "colorbar": {
              "outlinewidth": 0,
              "ticks": ""
             }
            },
            "type": "histogram"
           }
          ],
          "histogram2d": [
           {
            "colorbar": {
             "outlinewidth": 0,
             "ticks": ""
            },
            "colorscale": [
             [
              0,
              "#0d0887"
             ],
             [
              0.1111111111111111,
              "#46039f"
             ],
             [
              0.2222222222222222,
              "#7201a8"
             ],
             [
              0.3333333333333333,
              "#9c179e"
             ],
             [
              0.4444444444444444,
              "#bd3786"
             ],
             [
              0.5555555555555556,
              "#d8576b"
             ],
             [
              0.6666666666666666,
              "#ed7953"
             ],
             [
              0.7777777777777778,
              "#fb9f3a"
             ],
             [
              0.8888888888888888,
              "#fdca26"
             ],
             [
              1,
              "#f0f921"
             ]
            ],
            "type": "histogram2d"
           }
          ],
          "histogram2dcontour": [
           {
            "colorbar": {
             "outlinewidth": 0,
             "ticks": ""
            },
            "colorscale": [
             [
              0,
              "#0d0887"
             ],
             [
              0.1111111111111111,
              "#46039f"
             ],
             [
              0.2222222222222222,
              "#7201a8"
             ],
             [
              0.3333333333333333,
              "#9c179e"
             ],
             [
              0.4444444444444444,
              "#bd3786"
             ],
             [
              0.5555555555555556,
              "#d8576b"
             ],
             [
              0.6666666666666666,
              "#ed7953"
             ],
             [
              0.7777777777777778,
              "#fb9f3a"
             ],
             [
              0.8888888888888888,
              "#fdca26"
             ],
             [
              1,
              "#f0f921"
             ]
            ],
            "type": "histogram2dcontour"
           }
          ],
          "mesh3d": [
           {
            "colorbar": {
             "outlinewidth": 0,
             "ticks": ""
            },
            "type": "mesh3d"
           }
          ],
          "parcoords": [
           {
            "line": {
             "colorbar": {
              "outlinewidth": 0,
              "ticks": ""
             }
            },
            "type": "parcoords"
           }
          ],
          "pie": [
           {
            "automargin": true,
            "type": "pie"
           }
          ],
          "scatter": [
           {
            "marker": {
             "colorbar": {
              "outlinewidth": 0,
              "ticks": ""
             }
            },
            "type": "scatter"
           }
          ],
          "scatter3d": [
           {
            "line": {
             "colorbar": {
              "outlinewidth": 0,
              "ticks": ""
             }
            },
            "marker": {
             "colorbar": {
              "outlinewidth": 0,
              "ticks": ""
             }
            },
            "type": "scatter3d"
           }
          ],
          "scattercarpet": [
           {
            "marker": {
             "colorbar": {
              "outlinewidth": 0,
              "ticks": ""
             }
            },
            "type": "scattercarpet"
           }
          ],
          "scattergeo": [
           {
            "marker": {
             "colorbar": {
              "outlinewidth": 0,
              "ticks": ""
             }
            },
            "type": "scattergeo"
           }
          ],
          "scattergl": [
           {
            "marker": {
             "colorbar": {
              "outlinewidth": 0,
              "ticks": ""
             }
            },
            "type": "scattergl"
           }
          ],
          "scattermapbox": [
           {
            "marker": {
             "colorbar": {
              "outlinewidth": 0,
              "ticks": ""
             }
            },
            "type": "scattermapbox"
           }
          ],
          "scatterpolar": [
           {
            "marker": {
             "colorbar": {
              "outlinewidth": 0,
              "ticks": ""
             }
            },
            "type": "scatterpolar"
           }
          ],
          "scatterpolargl": [
           {
            "marker": {
             "colorbar": {
              "outlinewidth": 0,
              "ticks": ""
             }
            },
            "type": "scatterpolargl"
           }
          ],
          "scatterternary": [
           {
            "marker": {
             "colorbar": {
              "outlinewidth": 0,
              "ticks": ""
             }
            },
            "type": "scatterternary"
           }
          ],
          "surface": [
           {
            "colorbar": {
             "outlinewidth": 0,
             "ticks": ""
            },
            "colorscale": [
             [
              0,
              "#0d0887"
             ],
             [
              0.1111111111111111,
              "#46039f"
             ],
             [
              0.2222222222222222,
              "#7201a8"
             ],
             [
              0.3333333333333333,
              "#9c179e"
             ],
             [
              0.4444444444444444,
              "#bd3786"
             ],
             [
              0.5555555555555556,
              "#d8576b"
             ],
             [
              0.6666666666666666,
              "#ed7953"
             ],
             [
              0.7777777777777778,
              "#fb9f3a"
             ],
             [
              0.8888888888888888,
              "#fdca26"
             ],
             [
              1,
              "#f0f921"
             ]
            ],
            "type": "surface"
           }
          ],
          "table": [
           {
            "cells": {
             "fill": {
              "color": "#EBF0F8"
             },
             "line": {
              "color": "white"
             }
            },
            "header": {
             "fill": {
              "color": "#C8D4E3"
             },
             "line": {
              "color": "white"
             }
            },
            "type": "table"
           }
          ]
         },
         "layout": {
          "annotationdefaults": {
           "arrowcolor": "#2a3f5f",
           "arrowhead": 0,
           "arrowwidth": 1
          },
          "coloraxis": {
           "colorbar": {
            "outlinewidth": 0,
            "ticks": ""
           }
          },
          "colorscale": {
           "diverging": [
            [
             0,
             "#8e0152"
            ],
            [
             0.1,
             "#c51b7d"
            ],
            [
             0.2,
             "#de77ae"
            ],
            [
             0.3,
             "#f1b6da"
            ],
            [
             0.4,
             "#fde0ef"
            ],
            [
             0.5,
             "#f7f7f7"
            ],
            [
             0.6,
             "#e6f5d0"
            ],
            [
             0.7,
             "#b8e186"
            ],
            [
             0.8,
             "#7fbc41"
            ],
            [
             0.9,
             "#4d9221"
            ],
            [
             1,
             "#276419"
            ]
           ],
           "sequential": [
            [
             0,
             "#0d0887"
            ],
            [
             0.1111111111111111,
             "#46039f"
            ],
            [
             0.2222222222222222,
             "#7201a8"
            ],
            [
             0.3333333333333333,
             "#9c179e"
            ],
            [
             0.4444444444444444,
             "#bd3786"
            ],
            [
             0.5555555555555556,
             "#d8576b"
            ],
            [
             0.6666666666666666,
             "#ed7953"
            ],
            [
             0.7777777777777778,
             "#fb9f3a"
            ],
            [
             0.8888888888888888,
             "#fdca26"
            ],
            [
             1,
             "#f0f921"
            ]
           ],
           "sequentialminus": [
            [
             0,
             "#0d0887"
            ],
            [
             0.1111111111111111,
             "#46039f"
            ],
            [
             0.2222222222222222,
             "#7201a8"
            ],
            [
             0.3333333333333333,
             "#9c179e"
            ],
            [
             0.4444444444444444,
             "#bd3786"
            ],
            [
             0.5555555555555556,
             "#d8576b"
            ],
            [
             0.6666666666666666,
             "#ed7953"
            ],
            [
             0.7777777777777778,
             "#fb9f3a"
            ],
            [
             0.8888888888888888,
             "#fdca26"
            ],
            [
             1,
             "#f0f921"
            ]
           ]
          },
          "colorway": [
           "#636efa",
           "#EF553B",
           "#00cc96",
           "#ab63fa",
           "#FFA15A",
           "#19d3f3",
           "#FF6692",
           "#B6E880",
           "#FF97FF",
           "#FECB52"
          ],
          "font": {
           "color": "#2a3f5f"
          },
          "geo": {
           "bgcolor": "white",
           "lakecolor": "white",
           "landcolor": "#E5ECF6",
           "showlakes": true,
           "showland": true,
           "subunitcolor": "white"
          },
          "hoverlabel": {
           "align": "left"
          },
          "hovermode": "closest",
          "mapbox": {
           "style": "light"
          },
          "paper_bgcolor": "white",
          "plot_bgcolor": "#E5ECF6",
          "polar": {
           "angularaxis": {
            "gridcolor": "white",
            "linecolor": "white",
            "ticks": ""
           },
           "bgcolor": "#E5ECF6",
           "radialaxis": {
            "gridcolor": "white",
            "linecolor": "white",
            "ticks": ""
           }
          },
          "scene": {
           "xaxis": {
            "backgroundcolor": "#E5ECF6",
            "gridcolor": "white",
            "gridwidth": 2,
            "linecolor": "white",
            "showbackground": true,
            "ticks": "",
            "zerolinecolor": "white"
           },
           "yaxis": {
            "backgroundcolor": "#E5ECF6",
            "gridcolor": "white",
            "gridwidth": 2,
            "linecolor": "white",
            "showbackground": true,
            "ticks": "",
            "zerolinecolor": "white"
           },
           "zaxis": {
            "backgroundcolor": "#E5ECF6",
            "gridcolor": "white",
            "gridwidth": 2,
            "linecolor": "white",
            "showbackground": true,
            "ticks": "",
            "zerolinecolor": "white"
           }
          },
          "shapedefaults": {
           "line": {
            "color": "#2a3f5f"
           }
          },
          "ternary": {
           "aaxis": {
            "gridcolor": "white",
            "linecolor": "white",
            "ticks": ""
           },
           "baxis": {
            "gridcolor": "white",
            "linecolor": "white",
            "ticks": ""
           },
           "bgcolor": "#E5ECF6",
           "caxis": {
            "gridcolor": "white",
            "linecolor": "white",
            "ticks": ""
           }
          },
          "title": {
           "x": 0.05
          },
          "xaxis": {
           "automargin": true,
           "gridcolor": "white",
           "linecolor": "white",
           "ticks": "",
           "title": {
            "standoff": 15
           },
           "zerolinecolor": "white",
           "zerolinewidth": 2
          },
          "yaxis": {
           "automargin": true,
           "gridcolor": "white",
           "linecolor": "white",
           "ticks": "",
           "title": {
            "standoff": 15
           },
           "zerolinecolor": "white",
           "zerolinewidth": 2
          }
         }
        },
        "title": {
         "text": "How each feature impacts a prediction"
        },
        "updatemenus": [
         {
          "buttons": [
           {
            "args": [
             {
              "x": [
               [
                3,
                6,
                11,
                13,
                16,
                17,
                21,
                27,
                29,
                30,
                31,
                32,
                33,
                34,
                35,
                36,
                37,
                38,
                39,
                40,
                41,
                42,
                43,
                44,
                45,
                46,
                47,
                48,
                49,
                50,
                51,
                52,
                53,
                54,
                55,
                56,
                57,
                58,
                59,
                60,
                61,
                62,
                63,
                64,
                65,
                66,
                67,
                68,
                69,
                70,
                71,
                72,
                73,
                74,
                75,
                76,
                77,
                78,
                79,
                82,
                84,
                85,
                87,
                91,
                92
               ]
              ],
              "xaxis": "test",
              "y": [
               [
                95.33737024221483,
                95.33737024221483,
                95.33737024221483,
                95.33737024221483,
                95.33737024221483,
                95.33737024221483,
                94.61072664359901,
                94.53719723183428,
                94.53719723183428,
                91.28027681660922,
                92.69031141868516,
                95.42820069204168,
                95.87370242214548,
                96.39705882352962,
                95.93533737024231,
                94.87910899653998,
                95.52436562860449,
                95.99365628604397,
                95.96020761245676,
                97.00259515570941,
                97.1107266435988,
                97.8287197231834,
                97.90224913494814,
                97.66878810347673,
                97.34179848409956,
                97.71193771626295,
                96.25865051903114,
                97.0112456747405,
                97.65138408304499,
                97.69109782950622,
                97.89438502673812,
                97.66514627241293,
                97.28019817552737,
                96.25511167033652,
                95.1910978295064,
                95.09738387333574,
                95.98406207402745,
                95.59550959421239,
                90.61043829296452,
                95.93742791234152,
                95.78820645905427,
                96.06177912341407,
                96.1569348327567,
                96.13675028835065,
                95.29764994233021,
                95.29764994233021,
                95.47931084198422,
                94.38307381776282,
                94.38307381776282,
                95.61577277970011,
                95.61577277970011,
                96.7143886966551,
                96.55002883506347,
                96.13220876585927,
                96.13220876585927,
                96.13220876585927,
                96.13220876585927,
                96.13220876585927,
                96.13220876585927,
                96.13220876585927,
                96.13220876585927,
                96.13220876585927,
                96.13220876585927,
                96.13220876585927,
                96.13220876585927
               ]
              ]
             }
            ],
            "label": "Days since first case",
            "method": "restyle"
           },
           {
            "args": [
             {
              "x": [
               [
                0,
                10,
                20,
                30,
                40,
                50,
                60,
                70,
                80,
                90
               ]
              ],
              "xaxis": "nooo",
              "y": [
               [
                99.21280276816614,
                99.21280276816614,
                99.21280276816614,
                99.00086505190315,
                98.71972318339107,
                98.91003460207621,
                97.11292531718591,
                79.49610726643606,
                78.69237106607379,
                71.47786908881221
               ]
              ]
             }
            ],
            "label": "Age",
            "method": "restyle"
           },
           {
            "args": [
             {
              "x": [
               [
                "No existing illness",
                "Existing illness present"
               ]
              ],
              "y": [
               [
                97.28498311089146,
                48.30565167243365
               ]
              ]
             }
            ],
            "label": "Existing illness",
            "method": "restyle"
           },
           {
            "args": [
             {
              "x": [
               [
                "Male",
                "Female"
               ]
              ],
              "y": [
               [
                94.61320383768494,
                97.99075218322628
               ]
              ]
             }
            ],
            "label": "Sex",
            "method": "restyle"
           }
          ],
          "direction": "down",
          "showactive": true
         }
        ],
        "width": 900,
        "xaxis": {
         "title": {
          "text": "Value according to dropdown selected"
         }
        },
        "yaxis": {
         "title": {
          "text": "Chance of survival in %"
         }
        }
       }
      },
      "text/html": [
       "<div>\n",
       "        \n",
       "        \n",
       "            <div id=\"74bcda7f-64b9-4e5e-8ac2-04412d4f9922\" class=\"plotly-graph-div\" style=\"height:500px; width:900px;\"></div>\n",
       "            <script type=\"text/javascript\">\n",
       "                require([\"plotly\"], function(Plotly) {\n",
       "                    window.PLOTLYENV=window.PLOTLYENV || {};\n",
       "                    \n",
       "                if (document.getElementById(\"74bcda7f-64b9-4e5e-8ac2-04412d4f9922\")) {\n",
       "                    Plotly.newPlot(\n",
       "                        '74bcda7f-64b9-4e5e-8ac2-04412d4f9922',\n",
       "                        [{\"type\": \"scatter\", \"x\": [3.0, 6.0, 11.0, 13.0, 16.0, 17.0, 21.0, 27.0, 29.0, 30.0, 31.0, 32.0, 33.0, 34.0, 35.0, 36.0, 37.0, 38.0, 39.0, 40.0, 41.0, 42.0, 43.0, 44.0, 45.0, 46.0, 47.0, 48.0, 49.0, 50.0, 51.0, 52.0, 53.0, 54.0, 55.0, 56.0, 57.0, 58.0, 59.0, 60.0, 61.0, 62.0, 63.0, 64.0, 65.0, 66.0, 67.0, 68.0, 69.0, 70.0, 71.0, 72.0, 73.0, 74.0, 75.0, 76.0, 77.0, 78.0, 79.0, 82.0, 84.0, 85.0, 87.0, 91.0, 92.0], \"y\": [95.33737024221483, 95.33737024221483, 95.33737024221483, 95.33737024221483, 95.33737024221483, 95.33737024221483, 94.61072664359901, 94.53719723183428, 94.53719723183428, 91.28027681660922, 92.69031141868516, 95.42820069204168, 95.87370242214548, 96.39705882352962, 95.93533737024231, 94.87910899653998, 95.52436562860449, 95.99365628604397, 95.96020761245676, 97.00259515570941, 97.1107266435988, 97.8287197231834, 97.90224913494814, 97.66878810347673, 97.34179848409956, 97.71193771626295, 96.25865051903114, 97.0112456747405, 97.65138408304499, 97.69109782950622, 97.89438502673812, 97.66514627241293, 97.28019817552737, 96.25511167033652, 95.1910978295064, 95.09738387333574, 95.98406207402745, 95.59550959421239, 90.61043829296452, 95.93742791234152, 95.78820645905427, 96.06177912341407, 96.1569348327567, 96.13675028835065, 95.29764994233021, 95.29764994233021, 95.47931084198422, 94.38307381776282, 94.38307381776282, 95.61577277970011, 95.61577277970011, 96.7143886966551, 96.55002883506347, 96.13220876585927, 96.13220876585927, 96.13220876585927, 96.13220876585927, 96.13220876585927, 96.13220876585927, 96.13220876585927, 96.13220876585927, 96.13220876585927, 96.13220876585927, 96.13220876585927, 96.13220876585927]}],\n",
       "                        {\"height\": 500, \"template\": {\"data\": {\"bar\": [{\"error_x\": {\"color\": \"#2a3f5f\"}, \"error_y\": {\"color\": \"#2a3f5f\"}, \"marker\": {\"line\": {\"color\": \"#E5ECF6\", \"width\": 0.5}}, \"type\": \"bar\"}], \"barpolar\": [{\"marker\": {\"line\": {\"color\": \"#E5ECF6\", \"width\": 0.5}}, \"type\": \"barpolar\"}], \"carpet\": [{\"aaxis\": {\"endlinecolor\": \"#2a3f5f\", \"gridcolor\": \"white\", \"linecolor\": \"white\", \"minorgridcolor\": \"white\", \"startlinecolor\": \"#2a3f5f\"}, \"baxis\": {\"endlinecolor\": \"#2a3f5f\", \"gridcolor\": \"white\", \"linecolor\": \"white\", \"minorgridcolor\": \"white\", \"startlinecolor\": \"#2a3f5f\"}, \"type\": \"carpet\"}], \"choropleth\": [{\"colorbar\": {\"outlinewidth\": 0, \"ticks\": \"\"}, \"type\": \"choropleth\"}], \"contour\": [{\"colorbar\": {\"outlinewidth\": 0, \"ticks\": \"\"}, \"colorscale\": [[0.0, \"#0d0887\"], [0.1111111111111111, \"#46039f\"], [0.2222222222222222, \"#7201a8\"], [0.3333333333333333, \"#9c179e\"], [0.4444444444444444, \"#bd3786\"], [0.5555555555555556, \"#d8576b\"], [0.6666666666666666, \"#ed7953\"], [0.7777777777777778, \"#fb9f3a\"], [0.8888888888888888, \"#fdca26\"], [1.0, \"#f0f921\"]], \"type\": \"contour\"}], \"contourcarpet\": [{\"colorbar\": {\"outlinewidth\": 0, \"ticks\": \"\"}, \"type\": \"contourcarpet\"}], \"heatmap\": [{\"colorbar\": {\"outlinewidth\": 0, \"ticks\": \"\"}, \"colorscale\": [[0.0, \"#0d0887\"], [0.1111111111111111, \"#46039f\"], [0.2222222222222222, \"#7201a8\"], [0.3333333333333333, \"#9c179e\"], [0.4444444444444444, \"#bd3786\"], [0.5555555555555556, \"#d8576b\"], [0.6666666666666666, \"#ed7953\"], [0.7777777777777778, \"#fb9f3a\"], [0.8888888888888888, \"#fdca26\"], [1.0, \"#f0f921\"]], \"type\": \"heatmap\"}], \"heatmapgl\": [{\"colorbar\": {\"outlinewidth\": 0, \"ticks\": \"\"}, \"colorscale\": [[0.0, \"#0d0887\"], [0.1111111111111111, \"#46039f\"], [0.2222222222222222, \"#7201a8\"], [0.3333333333333333, \"#9c179e\"], [0.4444444444444444, \"#bd3786\"], [0.5555555555555556, \"#d8576b\"], [0.6666666666666666, \"#ed7953\"], [0.7777777777777778, \"#fb9f3a\"], [0.8888888888888888, \"#fdca26\"], [1.0, \"#f0f921\"]], \"type\": \"heatmapgl\"}], \"histogram\": [{\"marker\": {\"colorbar\": {\"outlinewidth\": 0, \"ticks\": \"\"}}, \"type\": \"histogram\"}], \"histogram2d\": [{\"colorbar\": {\"outlinewidth\": 0, \"ticks\": \"\"}, \"colorscale\": [[0.0, \"#0d0887\"], [0.1111111111111111, \"#46039f\"], [0.2222222222222222, \"#7201a8\"], [0.3333333333333333, \"#9c179e\"], [0.4444444444444444, \"#bd3786\"], [0.5555555555555556, \"#d8576b\"], [0.6666666666666666, \"#ed7953\"], [0.7777777777777778, \"#fb9f3a\"], [0.8888888888888888, \"#fdca26\"], [1.0, \"#f0f921\"]], \"type\": \"histogram2d\"}], \"histogram2dcontour\": [{\"colorbar\": {\"outlinewidth\": 0, \"ticks\": \"\"}, \"colorscale\": [[0.0, \"#0d0887\"], [0.1111111111111111, \"#46039f\"], [0.2222222222222222, \"#7201a8\"], [0.3333333333333333, \"#9c179e\"], [0.4444444444444444, \"#bd3786\"], [0.5555555555555556, \"#d8576b\"], [0.6666666666666666, \"#ed7953\"], [0.7777777777777778, \"#fb9f3a\"], [0.8888888888888888, \"#fdca26\"], [1.0, \"#f0f921\"]], \"type\": \"histogram2dcontour\"}], \"mesh3d\": [{\"colorbar\": {\"outlinewidth\": 0, \"ticks\": \"\"}, \"type\": \"mesh3d\"}], \"parcoords\": [{\"line\": {\"colorbar\": {\"outlinewidth\": 0, \"ticks\": \"\"}}, \"type\": \"parcoords\"}], \"pie\": [{\"automargin\": true, \"type\": \"pie\"}], \"scatter\": [{\"marker\": {\"colorbar\": {\"outlinewidth\": 0, \"ticks\": \"\"}}, \"type\": \"scatter\"}], \"scatter3d\": [{\"line\": {\"colorbar\": {\"outlinewidth\": 0, \"ticks\": \"\"}}, \"marker\": {\"colorbar\": {\"outlinewidth\": 0, \"ticks\": \"\"}}, \"type\": \"scatter3d\"}], \"scattercarpet\": [{\"marker\": {\"colorbar\": {\"outlinewidth\": 0, \"ticks\": \"\"}}, \"type\": \"scattercarpet\"}], \"scattergeo\": [{\"marker\": {\"colorbar\": {\"outlinewidth\": 0, \"ticks\": \"\"}}, \"type\": \"scattergeo\"}], \"scattergl\": [{\"marker\": {\"colorbar\": {\"outlinewidth\": 0, \"ticks\": \"\"}}, \"type\": \"scattergl\"}], \"scattermapbox\": [{\"marker\": {\"colorbar\": {\"outlinewidth\": 0, \"ticks\": \"\"}}, \"type\": \"scattermapbox\"}], \"scatterpolar\": [{\"marker\": {\"colorbar\": {\"outlinewidth\": 0, \"ticks\": \"\"}}, \"type\": \"scatterpolar\"}], \"scatterpolargl\": [{\"marker\": {\"colorbar\": {\"outlinewidth\": 0, \"ticks\": \"\"}}, \"type\": \"scatterpolargl\"}], \"scatterternary\": [{\"marker\": {\"colorbar\": {\"outlinewidth\": 0, \"ticks\": \"\"}}, \"type\": \"scatterternary\"}], \"surface\": [{\"colorbar\": {\"outlinewidth\": 0, \"ticks\": \"\"}, \"colorscale\": [[0.0, \"#0d0887\"], [0.1111111111111111, \"#46039f\"], [0.2222222222222222, \"#7201a8\"], [0.3333333333333333, \"#9c179e\"], [0.4444444444444444, \"#bd3786\"], [0.5555555555555556, \"#d8576b\"], [0.6666666666666666, \"#ed7953\"], [0.7777777777777778, \"#fb9f3a\"], [0.8888888888888888, \"#fdca26\"], [1.0, \"#f0f921\"]], \"type\": \"surface\"}], \"table\": [{\"cells\": {\"fill\": {\"color\": \"#EBF0F8\"}, \"line\": {\"color\": \"white\"}}, \"header\": {\"fill\": {\"color\": \"#C8D4E3\"}, \"line\": {\"color\": \"white\"}}, \"type\": \"table\"}]}, \"layout\": {\"annotationdefaults\": {\"arrowcolor\": \"#2a3f5f\", \"arrowhead\": 0, \"arrowwidth\": 1}, \"coloraxis\": {\"colorbar\": {\"outlinewidth\": 0, \"ticks\": \"\"}}, \"colorscale\": {\"diverging\": [[0, \"#8e0152\"], [0.1, \"#c51b7d\"], [0.2, \"#de77ae\"], [0.3, \"#f1b6da\"], [0.4, \"#fde0ef\"], [0.5, \"#f7f7f7\"], [0.6, \"#e6f5d0\"], [0.7, \"#b8e186\"], [0.8, \"#7fbc41\"], [0.9, \"#4d9221\"], [1, \"#276419\"]], \"sequential\": [[0.0, \"#0d0887\"], [0.1111111111111111, \"#46039f\"], [0.2222222222222222, \"#7201a8\"], [0.3333333333333333, \"#9c179e\"], [0.4444444444444444, \"#bd3786\"], [0.5555555555555556, \"#d8576b\"], [0.6666666666666666, \"#ed7953\"], [0.7777777777777778, \"#fb9f3a\"], [0.8888888888888888, \"#fdca26\"], [1.0, \"#f0f921\"]], \"sequentialminus\": [[0.0, \"#0d0887\"], [0.1111111111111111, \"#46039f\"], [0.2222222222222222, \"#7201a8\"], [0.3333333333333333, \"#9c179e\"], [0.4444444444444444, \"#bd3786\"], [0.5555555555555556, \"#d8576b\"], [0.6666666666666666, \"#ed7953\"], [0.7777777777777778, \"#fb9f3a\"], [0.8888888888888888, \"#fdca26\"], [1.0, \"#f0f921\"]]}, \"colorway\": [\"#636efa\", \"#EF553B\", \"#00cc96\", \"#ab63fa\", \"#FFA15A\", \"#19d3f3\", \"#FF6692\", \"#B6E880\", \"#FF97FF\", \"#FECB52\"], \"font\": {\"color\": \"#2a3f5f\"}, \"geo\": {\"bgcolor\": \"white\", \"lakecolor\": \"white\", \"landcolor\": \"#E5ECF6\", \"showlakes\": true, \"showland\": true, \"subunitcolor\": \"white\"}, \"hoverlabel\": {\"align\": \"left\"}, \"hovermode\": \"closest\", \"mapbox\": {\"style\": \"light\"}, \"paper_bgcolor\": \"white\", \"plot_bgcolor\": \"#E5ECF6\", \"polar\": {\"angularaxis\": {\"gridcolor\": \"white\", \"linecolor\": \"white\", \"ticks\": \"\"}, \"bgcolor\": \"#E5ECF6\", \"radialaxis\": {\"gridcolor\": \"white\", \"linecolor\": \"white\", \"ticks\": \"\"}}, \"scene\": {\"xaxis\": {\"backgroundcolor\": \"#E5ECF6\", \"gridcolor\": \"white\", \"gridwidth\": 2, \"linecolor\": \"white\", \"showbackground\": true, \"ticks\": \"\", \"zerolinecolor\": \"white\"}, \"yaxis\": {\"backgroundcolor\": \"#E5ECF6\", \"gridcolor\": \"white\", \"gridwidth\": 2, \"linecolor\": \"white\", \"showbackground\": true, \"ticks\": \"\", \"zerolinecolor\": \"white\"}, \"zaxis\": {\"backgroundcolor\": \"#E5ECF6\", \"gridcolor\": \"white\", \"gridwidth\": 2, \"linecolor\": \"white\", \"showbackground\": true, \"ticks\": \"\", \"zerolinecolor\": \"white\"}}, \"shapedefaults\": {\"line\": {\"color\": \"#2a3f5f\"}}, \"ternary\": {\"aaxis\": {\"gridcolor\": \"white\", \"linecolor\": \"white\", \"ticks\": \"\"}, \"baxis\": {\"gridcolor\": \"white\", \"linecolor\": \"white\", \"ticks\": \"\"}, \"bgcolor\": \"#E5ECF6\", \"caxis\": {\"gridcolor\": \"white\", \"linecolor\": \"white\", \"ticks\": \"\"}}, \"title\": {\"x\": 0.05}, \"xaxis\": {\"automargin\": true, \"gridcolor\": \"white\", \"linecolor\": \"white\", \"ticks\": \"\", \"title\": {\"standoff\": 15}, \"zerolinecolor\": \"white\", \"zerolinewidth\": 2}, \"yaxis\": {\"automargin\": true, \"gridcolor\": \"white\", \"linecolor\": \"white\", \"ticks\": \"\", \"title\": {\"standoff\": 15}, \"zerolinecolor\": \"white\", \"zerolinewidth\": 2}}}, \"title\": {\"text\": \"How each feature impacts a prediction\"}, \"updatemenus\": [{\"buttons\": [{\"args\": [{\"x\": [[3.0, 6.0, 11.0, 13.0, 16.0, 17.0, 21.0, 27.0, 29.0, 30.0, 31.0, 32.0, 33.0, 34.0, 35.0, 36.0, 37.0, 38.0, 39.0, 40.0, 41.0, 42.0, 43.0, 44.0, 45.0, 46.0, 47.0, 48.0, 49.0, 50.0, 51.0, 52.0, 53.0, 54.0, 55.0, 56.0, 57.0, 58.0, 59.0, 60.0, 61.0, 62.0, 63.0, 64.0, 65.0, 66.0, 67.0, 68.0, 69.0, 70.0, 71.0, 72.0, 73.0, 74.0, 75.0, 76.0, 77.0, 78.0, 79.0, 82.0, 84.0, 85.0, 87.0, 91.0, 92.0]], \"xaxis\": \"test\", \"y\": [[95.33737024221483, 95.33737024221483, 95.33737024221483, 95.33737024221483, 95.33737024221483, 95.33737024221483, 94.61072664359901, 94.53719723183428, 94.53719723183428, 91.28027681660922, 92.69031141868516, 95.42820069204168, 95.87370242214548, 96.39705882352962, 95.93533737024231, 94.87910899653998, 95.52436562860449, 95.99365628604397, 95.96020761245676, 97.00259515570941, 97.1107266435988, 97.8287197231834, 97.90224913494814, 97.66878810347673, 97.34179848409956, 97.71193771626295, 96.25865051903114, 97.0112456747405, 97.65138408304499, 97.69109782950622, 97.89438502673812, 97.66514627241293, 97.28019817552737, 96.25511167033652, 95.1910978295064, 95.09738387333574, 95.98406207402745, 95.59550959421239, 90.61043829296452, 95.93742791234152, 95.78820645905427, 96.06177912341407, 96.1569348327567, 96.13675028835065, 95.29764994233021, 95.29764994233021, 95.47931084198422, 94.38307381776282, 94.38307381776282, 95.61577277970011, 95.61577277970011, 96.7143886966551, 96.55002883506347, 96.13220876585927, 96.13220876585927, 96.13220876585927, 96.13220876585927, 96.13220876585927, 96.13220876585927, 96.13220876585927, 96.13220876585927, 96.13220876585927, 96.13220876585927, 96.13220876585927, 96.13220876585927]]}], \"label\": \"Days since first case\", \"method\": \"restyle\"}, {\"args\": [{\"x\": [[0, 10, 20, 30, 40, 50, 60, 70, 80, 90]], \"xaxis\": \"nooo\", \"y\": [[99.21280276816614, 99.21280276816614, 99.21280276816614, 99.00086505190315, 98.71972318339107, 98.91003460207621, 97.11292531718591, 79.49610726643606, 78.69237106607379, 71.47786908881221]]}], \"label\": \"Age\", \"method\": \"restyle\"}, {\"args\": [{\"x\": [[\"No existing illness\", \"Existing illness present\"]], \"y\": [[97.28498311089146, 48.30565167243365]]}], \"label\": \"Existing illness\", \"method\": \"restyle\"}, {\"args\": [{\"x\": [[\"Male\", \"Female\"]], \"y\": [[94.61320383768494, 97.99075218322628]]}], \"label\": \"Sex\", \"method\": \"restyle\"}], \"direction\": \"down\", \"showactive\": true}], \"width\": 900, \"xaxis\": {\"title\": {\"text\": \"Value according to dropdown selected\"}}, \"yaxis\": {\"title\": {\"text\": \"Chance of survival in %\"}}},\n",
       "                        {\"responsive\": true}\n",
       "                    ).then(function(){\n",
       "                            \n",
       "var gd = document.getElementById('74bcda7f-64b9-4e5e-8ac2-04412d4f9922');\n",
       "var x = new MutationObserver(function (mutations, observer) {{\n",
       "        var display = window.getComputedStyle(gd).display;\n",
       "        if (!display || display === 'none') {{\n",
       "            console.log([gd, 'removed!']);\n",
       "            Plotly.purge(gd);\n",
       "            observer.disconnect();\n",
       "        }}\n",
       "}});\n",
       "\n",
       "// Listen for the removal of the full notebook cells\n",
       "var notebookContainer = gd.closest('#notebook-container');\n",
       "if (notebookContainer) {{\n",
       "    x.observe(notebookContainer, {childList: true});\n",
       "}}\n",
       "\n",
       "// Listen for the clearing of the current output cell\n",
       "var outputEl = gd.closest('.output');\n",
       "if (outputEl) {{\n",
       "    x.observe(outputEl, {childList: true});\n",
       "}}\n",
       "\n",
       "                        })\n",
       "                };\n",
       "                });\n",
       "            </script>\n",
       "        </div>"
      ]
     },
     "metadata": {},
     "output_type": "display_data"
    }
   ],
   "source": [
    "# Make interactive PDP plots\n",
    "\n",
    "# Show first line\n",
    "initLine = go.Scatter(x=dsfc_x, y=dsfc_y)\n",
    "\n",
    "# Construct dropdown menu and graph-changes\n",
    "updatemenus = [\n",
    "    {\n",
    "        'buttons': [\n",
    "            {\n",
    "                'method': 'restyle',\n",
    "                'label': 'Days since first case',\n",
    "                'args': [\n",
    "                    {'x': [dsfc_x], 'y': [dsfc_y], 'xaxis': \"test\"},\n",
    "                ]\n",
    "            },\n",
    "            {\n",
    "                'method': 'restyle',\n",
    "                'label': 'Age',\n",
    "                'args': [\n",
    "                    {'x': [age_x], 'y': [age_y], 'xaxis': \"nooo\"},\n",
    "                ]\n",
    "            },\n",
    "            {\n",
    "                'method': 'restyle',\n",
    "                'label': 'Existing illness',\n",
    "                'args': [\n",
    "                    {'x': [ei_x], 'y': [ei_y]},\n",
    "                ]\n",
    "            },\n",
    "            {\n",
    "                'method': 'restyle',\n",
    "                'label': 'Sex',\n",
    "                'args': [\n",
    "                    {'x': [sex_x], 'y': [sex_y]},\n",
    "                ]\n",
    "            }\n",
    "        ],\n",
    "        'direction': 'down',\n",
    "        'showactive': True,\n",
    "    }\n",
    "]\n",
    "\n",
    "# Update layout based on dropdown\n",
    "layout = go.Layout(\n",
    "    title_text = \"How each feature impacts a prediction\",\n",
    "    yaxis_title=\"Chance of survival in %\",\n",
    "    xaxis_title=\"Value according to dropdown selected\",\n",
    "    width=900, \n",
    "    height=500,\n",
    "    updatemenus=updatemenus,\n",
    ")\n",
    "\n",
    "# Plot figure\n",
    "figure = go.Figure(data=[initLine], layout=layout)\n",
    "figure"
   ]
  },
  {
   "cell_type": "markdown",
   "metadata": {},
   "source": [
    "*Age* seems to draw a clear picture, patients above 60 seems to be significantly harder impacted by the disease than those below! *Existing illness* is the same, nearly a 50% drop in chance of survival if an existing illness is present. No wonder it is recommended to avoid physical contact with especially sick and elderly!\n",
    "\n",
    "*Sex* is a quite interesting (no pun intended), it seems that female has an almost 5% higher chance of survival. However, remember that this is 'Potentially biased' and it is known that the dataset contains more female than male, so don't take this as hard facts. \n",
    "\n",
    "*Days since first case* seems a bit harder to interpret. The feature could show nothing and purely be hidden bias, or perhabs the model is able to see something that we simply don't. Perhabs survival rate is a bit lower in the beginning due to the virus being all new, then it rises as awareness spreads around day 40, and starts flattening out at a generally higher level than earlier after day 70. This graph is hard to interpret, is it bias or is the model on to something. What do you think? \n",
    "\n",
    "Interpretting the model has shown some interesting insights of how COVID-19 increases risk of having a fatal case, but besides just knowing this, how could this information be used in a smart way? This aspect will be discovered in the final part of the analysis."
   ]
  },
  {
   "cell_type": "markdown",
   "metadata": {},
   "source": [
    "## <span style=\"color:orange\">3.3:</span> Using technology to battle pandemics "
   ]
  },
  {
   "cell_type": "code",
   "execution_count": 15,
   "metadata": {},
   "outputs": [
    {
     "data": {
      "application/vnd.jupyter.widget-view+json": {
       "model_id": "f4f3e558f43a45788b5ed6a21ac657e0",
       "version_major": 2,
       "version_minor": 0
      },
      "text/plain": [
       "Output(layout=Layout(border='0px solid black'))"
      ]
     },
     "metadata": {},
     "output_type": "display_data"
    }
   ],
   "source": [
    "out = widgets.Output(layout={'border': '0px solid black'})\n",
    "with out:\n",
    "    im = Image(filename=\"images/phones.gif\")\n",
    "    display(im)\n",
    "out"
   ]
  },
  {
   "cell_type": "markdown",
   "metadata": {},
   "source": [
    "Most people use their phones every day and carries it all around with them. They watch their news on it, communicate on it, look up recipies on it, people use their phones for almost everything; So why not use it as a tool in fighting global pandemics? \n",
    "\n",
    "South Korea already uses smartphones in battling covid-19 by providing emergency messages if you have been near a person with covid-19 [(Source),](https://www.aljazeera.com/news/2020/04/korea-smartphone-apps-tracking-coronavirus-won-stop-buzzing-200408074008185.html) so why not use smartphones even more?\n",
    "\n",
    "Below you will have the opportunity to type in your own personal information and let the model make a prediction about you as if you had just contracted covid-19. The model will provide you with two options:\n",
    "1. **Risk profile:** Where you will get a personalized risk-profile as if it was given to you by the Korean government. The idea is that something like this could be implemented in a covid-19 app, and let citizens get personalized risk-assessments as a tool to make people take this more seriously.\n",
    "1. **Prediction info:** Where you will be able to see what the model has based its recommendation on, and whether it predicts that you are likely to suffer a fatal case ('Deceased') from covid-19 or if you are more likely to survive ('Released'). This has been included for the more tech-savy that wish to investigate how the predictions work hands-on. \n",
    "\n",
    "Try to play around with some different inputs and see what outputs you get! (*Pssst! There are three different risk profiles*)."
   ]
  },
  {
   "cell_type": "code",
   "execution_count": 16,
   "metadata": {},
   "outputs": [
    {
     "data": {
      "application/vnd.jupyter.widget-view+json": {
       "model_id": "31ea7d2073ad4ef3b6620e5eb67c5834",
       "version_major": 2,
       "version_minor": 0
      },
      "text/plain": [
       "Accordion(children=(ToggleButtons(options=('Male', 'Female'), value='Male'), IntSlider(value=0, continuous_upd…"
      ]
     },
     "metadata": {},
     "output_type": "display_data"
    }
   ],
   "source": [
    "## Specify sex picker\n",
    "#sexPick = widgets.RadioButtons(options=['Male','Female'],value='Male',layout={'width': 'max-content'})\n",
    "\n",
    "sexPick = widgets.ToggleButtons(\n",
    "                                options=['Male', 'Female'],\n",
    "                                description='',\n",
    "                                disabled=False,\n",
    "                                button_style='')\n",
    "\n",
    "\n",
    "# Specificy age picker\n",
    "#agePick = widgets.Dropdown(options=[('0', 0), ('10', 10), ('20', 20), \n",
    "                                    #('30',30), ('40',40), ('50',50), \n",
    "                                    #('60',60),('70',70),('80', 80),('90',90)],\n",
    "                                    #value=20,\n",
    "                                    #layout={'width': 'max-content'},\n",
    "                                    #description='Pick closest:',)\n",
    "agePick = widgets.IntSlider(\n",
    "                            value=0,\n",
    "                            min=0,\n",
    "                            max=90,\n",
    "                            step=10,\n",
    "                            description='Pick closest:',\n",
    "                            disabled=False,\n",
    "                            continuous_update=False,\n",
    "                            orientation='horizontal',\n",
    "                            readout=True,\n",
    "                            readout_format='d')\n",
    "\n",
    "# Specify existing illness picker\n",
    "#eiPick = widgets.RadioButtons(options=['Yes','No'],value = 'No', layout={'width': 'max-content'})\n",
    "\n",
    "eiPick = widgets.ToggleButtons(\n",
    "                                options=['Yes', 'No'],\n",
    "                                description='',\n",
    "                                disabled=False,\n",
    "                                button_style='')\n",
    "\n",
    "# Specify 'Days since first case' picker\n",
    "dsfcPick = widgets.IntRangeSlider(value=[20, 40],\n",
    "                                       min=0,\n",
    "                                       max=73,\n",
    "                                       step=1,\n",
    "                                       description='Approx:',\n",
    "                                       disabled=False,\n",
    "                                       continuous_update=False,\n",
    "                                       orientation='horizontal',\n",
    "                                       readout=True,\n",
    "                                       readout_format='d',)\n",
    "\n",
    "# Specify regions picker\n",
    "#regPick = widgets.Dropdown(options=['Busan','Chungcheongbuk-do','Chungcheongnam-do',\n",
    "#                                    'Daejeon','Gangwon-do','Gwangju','Gyeonggi-do',\n",
    "#                                    'Gyeongsangbuk-do','Gyeongsangnam-do','Incheon',\n",
    "#                                    'Jeju-do','Jeollabuk-do','Jeollanam-do','Sejong','Seoul',\n",
    "#                                    'Ulsan'],\n",
    "#                                    value='Busan',\n",
    "#                                    description='Pick:',\n",
    "#                                    disabled=False,)\n",
    "\n",
    "regPick = widgets.ToggleButtons(options=['Busan','Chungcheongbuk-do','Chungcheongnam-do',\n",
    "                                         'Daejeon','Gangwon-do','Gwangju','Gyeonggi-do',\n",
    "                                         'Gyeongsangbuk-do','Gyeongsangnam-do','Incheon',\n",
    "                                         'Jeju-do','Jeollabuk-do','Jeollanam-do','Sejong','Seoul',\n",
    "                                         'Ulsan'],\n",
    "                                          value='Busan',\n",
    "                                          description='Choose',\n",
    "                                          disabled=False)\n",
    "\n",
    "# Build tabs\n",
    "accordion = widgets.Accordion(children=[sexPick,agePick,eiPick,dsfcPick,regPick])\n",
    "accordion.set_title(0, 'Sex')\n",
    "accordion.set_title(1, 'Age')\n",
    "accordion.set_title(2, 'Existing illness')\n",
    "accordion.set_title(3, 'Days since first case')\n",
    "accordion.set_title(4, 'Region')\n",
    "accordion"
   ]
  },
  {
   "cell_type": "code",
   "execution_count": 17,
   "metadata": {},
   "outputs": [],
   "source": [
    "# Function takes input from widgets and returns person information to be used for prediction\n",
    "def personalInfo(sex, age, ei, dsfc, reg):\n",
    "\n",
    "    # Get average dsfc\n",
    "    dsfc = sum(dsfc)/2\n",
    "    \n",
    "    # Set all regions to 0\n",
    "    busan = 0\n",
    "    Chungcheongbuk_do = 0\n",
    "    Chungcheongnam_do = 0\n",
    "    Daejeon = 0\n",
    "    Gangwon_do = 0\n",
    "    Gwangju = 0\n",
    "    Gyeonggi_do = 0\n",
    "    Gyeongsangbuk_do = 0\n",
    "    Gyeongsangnam_do = 0\n",
    "    Incheon = 0\n",
    "    Jeju_do = 0\n",
    "    Jeollabuk_do = 0\n",
    "    Jeollanam_do = 0\n",
    "    Sejong = 0\n",
    "    Seoul = 0\n",
    "    Ulsan = 0\n",
    "    \n",
    "    # Set sex\n",
    "    if sex == 'Male':\n",
    "        sex = 0\n",
    "    else:\n",
    "        sex = 1\n",
    "        \n",
    "    # Set existing illes\n",
    "    if ei == \"Yes\":\n",
    "        ei = 1\n",
    "    else:\n",
    "        ei = 0   \n",
    "    \n",
    "    # Set region \n",
    "    if reg == \"Busan\":\n",
    "        busan = 1\n",
    "    elif reg == \"Chungcheongbuk-do\":\n",
    "        Chungcheongbuk_do = 1\n",
    "    elif reg == \"Chungcheongnam-do\":\n",
    "        Chungcheongnam_do = 1\n",
    "    elif reg == \"Daejeon\":\n",
    "        Daejeon = 1\n",
    "    elif reg == \"Gangwon-do\":\n",
    "        Gangwon_do = 1\n",
    "    elif reg == \"Gwangju\":\n",
    "        Gwangju = 1\n",
    "    elif reg == \"Gyeonggi-do\":\n",
    "        Gyeonggi_do = 1\n",
    "    elif reg == \"Gyeongsangbuk-do\":\n",
    "        Gyeongsangbuk_do = 1\n",
    "    elif reg == \"Gyeongsangnam-do\":\n",
    "        Gyeongsangnam_do = 1\n",
    "    elif reg == \"Incheon\":\n",
    "        Incheon = 1\n",
    "    elif reg == \"Jeju-do\":\n",
    "        Jeju_do = 1\n",
    "    elif reg == \"Jeollabuk-do\":\n",
    "        Jeollabuk_do = 1\n",
    "    elif reg == \"Jeollanam-do\":\n",
    "        Jeollanam_do = 1\n",
    "    elif reg == \"Sejong\":\n",
    "        Sejong = 1\n",
    "    elif reg == \"Seoul\":\n",
    "        Seoul = 1\n",
    "    elif reg == \"Ulsan\":\n",
    "        Ulsan = 1\n",
    "    \n",
    "    # Construct dataframe for prediction\n",
    "    X_pred = pd.DataFrame({\"sex\":[sex], \n",
    "                            \"age\":[age],  \n",
    "                            \"Days since first case\":[dsfc],\n",
    "                            \"Existing illness\":[ei],\n",
    "                            \"Busan\":[busan],\n",
    "                            \"Chungcheongbuk-do\":[Chungcheongbuk_do],\n",
    "                            \"Chungcheongnam-do\":[Chungcheongnam_do],\n",
    "                            \"Daejeon\":[Daejeon],\n",
    "                            \"Gangwon-do\":[Gangwon_do],\n",
    "                            \"Gwangju\":[Gwangju],\n",
    "                            \"Gyeonggi-do\":[Gyeonggi_do],\n",
    "                            \"Gyeongsangbuk-do\":[Gyeongsangbuk_do],\n",
    "                            \"Gyeongsangnam-do\":[Gyeongsangnam_do],\n",
    "                            \"Incheon\":[Incheon],\n",
    "                            \"Jeju-do\":[Jeju_do],\n",
    "                            \"Jeollabuk-do\":[Jeollabuk_do],\n",
    "                            \"Jeollanam-do\":[Jeollanam_do],\n",
    "                            \"Sejong\":[Sejong],\n",
    "                            \"Seoul\":[Seoul],\n",
    "                            \"Ulsan\":[Ulsan]})\n",
    "    return X_pred"
   ]
  },
  {
   "cell_type": "code",
   "execution_count": 18,
   "metadata": {},
   "outputs": [],
   "source": [
    "# Function takes a profile for prediction and returns a risk profile\n",
    "# - HIGH\n",
    "# - MEDIUM\n",
    "# - LOW\n",
    "def riskProfile(personal_info):\n",
    "    \n",
    "    # Predict using model\n",
    "    prediction = rfc.predict_proba(personal_info)\n",
    "    \n",
    "    if prediction[0][1] <= 0.5:\n",
    "        # High risk\n",
    "        x = \"High risk\"\n",
    "    elif (prediction[0][1] > 0.5) & (prediction[0][1] <= 0.8):\n",
    "        x = \"Medium risk\"\n",
    "    else:\n",
    "        x = \"Low risk\"\n",
    "        \n",
    "    return x"
   ]
  },
  {
   "cell_type": "code",
   "execution_count": 19,
   "metadata": {},
   "outputs": [
    {
     "data": {
      "application/vnd.jupyter.widget-view+json": {
       "model_id": "06e3bdd2b716478fbedef7353cbd3bc1",
       "version_major": 2,
       "version_minor": 0
      },
      "text/plain": [
       "Button(description='Get risk-profile', style=ButtonStyle())"
      ]
     },
     "metadata": {},
     "output_type": "display_data"
    },
    {
     "data": {
      "application/vnd.jupyter.widget-view+json": {
       "model_id": "ee580bbc8e9144d584ce712c0c39bb60",
       "version_major": 2,
       "version_minor": 0
      },
      "text/plain": [
       "Button(description='Get prediction info', style=ButtonStyle())"
      ]
     },
     "metadata": {},
     "output_type": "display_data"
    },
    {
     "data": {
      "application/vnd.jupyter.widget-view+json": {
       "model_id": "ec99f9cb558441f0869de56c64e13907",
       "version_major": 2,
       "version_minor": 0
      },
      "text/plain": [
       "Output(layout=Layout(border='0px solid black'))"
      ]
     },
     "metadata": {},
     "output_type": "display_data"
    }
   ],
   "source": [
    "# Construct button with images\n",
    "\n",
    "highrisk = Image(filename='images/highrisk.png',width=700)\n",
    "mediumrisk = Image(filename='images/mediumrisk.png',width=700)\n",
    "lowrisk = Image(filename='images/lowrisk.png',width=700)\n",
    "\n",
    "btn = widgets.Button(description='Get risk-profile')\n",
    "out = widgets.Output(layout={'border': '0px solid black'})\n",
    "display(btn)\n",
    "\n",
    "def btn_eventhandler(obj):\n",
    "    out.clear_output()\n",
    "    info = personalInfo(sexPick.value, agePick.value, eiPick.value, dsfcPick.value, regPick.value)\n",
    "    prof = riskProfile(info)\n",
    "    with out:\n",
    "        if prof == \"High risk\":\n",
    "            display(highrisk)\n",
    "        elif prof == \"Medium risk\":\n",
    "            display(mediumrisk)\n",
    "        else:\n",
    "            display(lowrisk)\n",
    "\n",
    "btn.on_click(btn_eventhandler)\n",
    "out\n",
    "\n",
    "# Construct button with risk predictions\n",
    "\n",
    "btn2 = widgets.Button(description='Get prediction info')\n",
    "out = widgets.Output(layout={'border': '0px solid black'})\n",
    "display(btn2)\n",
    "\n",
    "def btn_eventhandler(obj):\n",
    "    out.clear_output()\n",
    "    info = personalInfo(sexPick.value, agePick.value, eiPick.value, dsfcPick.value, regPick.value)\n",
    "    with out:\n",
    "        print(\"This table shows the prediction y = 'prediction' together with the probability of survival.\")\n",
    "        print(\"The contribution indicates how much 'Feature' with 'Value' contributed to the prediction.\")\n",
    "        print(\"Existing illness present = 1. Sex female = 1. Region = 1 means person is from that region.\")\n",
    "        print(\"If no features specifically lowers chance of survival, the model will have a high <BIAS> towards saying 'Released'.\")\n",
    "        display(show_prediction(rfc, info, show_feature_values=True, feature_names = info.columns.to_numpy()))\n",
    "\n",
    "btn2.on_click(btn_eventhandler)\n",
    "out"
   ]
  },
  {
   "cell_type": "markdown",
   "metadata": {},
   "source": [
    "------------"
   ]
  },
  {
   "cell_type": "markdown",
   "metadata": {},
   "source": [
    "Lets wrap it up with some key-takeaways. \n",
    "\n",
    "Specifically... \n",
    "1. Higher age and existing illness significantly lowers chance of surviving COVID-19\n",
    "1. Males *might* be slightly more prone to suffering fatal COVID-19 cases \n",
    "1. 'Days since first case' was an important feature for the model when trying to predict fatal cases\n",
    "\n",
    "And on a more general level...\n",
    "1. Machine learning could be a good tool to learn more about pandemics by utilizing patient data as the pandemic spreads\n",
    "1. Machine learning could be used to provide personalized recommendations to increase citizens compliance and reduce spreading\n"
   ]
  },
  {
   "cell_type": "code",
   "execution_count": 20,
   "metadata": {},
   "outputs": [
    {
     "data": {
      "application/vnd.jupyter.widget-view+json": {
       "model_id": "823788f3787c47989612084dd295f88c",
       "version_major": 2,
       "version_minor": 0
      },
      "text/plain": [
       "Output(layout=Layout(border='0px solid black'))"
      ]
     },
     "metadata": {},
     "output_type": "display_data"
    }
   ],
   "source": [
    "out2 = widgets.Output(layout={'border': '0px solid black'})\n",
    "with out2:\n",
    "    im = Image(filename=\"images/bye.gif\")\n",
    "    display(im)\n",
    "out2"
   ]
  },
  {
   "cell_type": "code",
   "execution_count": null,
   "metadata": {},
   "outputs": [],
   "source": []
  }
 ],
 "metadata": {
  "kernelspec": {
   "display_name": "Python 3",
   "language": "python",
   "name": "python3"
  },
  "language_info": {
   "codemirror_mode": {
    "name": "ipython",
    "version": 3
   },
   "file_extension": ".py",
   "mimetype": "text/x-python",
   "name": "python",
   "nbconvert_exporter": "python",
   "pygments_lexer": "ipython3",
   "version": "3.7.1"
  }
 },
 "nbformat": 4,
 "nbformat_minor": 4
}
