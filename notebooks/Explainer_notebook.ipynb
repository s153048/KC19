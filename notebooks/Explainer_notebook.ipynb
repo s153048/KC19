{
 "cells": [
  {
   "cell_type": "markdown",
   "metadata": {},
   "source": [
    "# Explainer notebook"
   ]
  },
  {
   "cell_type": "markdown",
   "metadata": {},
   "source": [
    "This notebook contains all analysis and code used to make the website. The notebook will be structured as follows:\n",
    "\n",
    "1. Motivation\n",
    "1. Part 1 (Basic stats + data analysis + references)\n",
    "1. Part 2 (Basic stats + data analysis + references)\n",
    "1. Part 3 (Basic stats + data analysis + references)\n",
    "1. Genres\n",
    "1. Visualizations\n",
    "1. Discussion\n",
    "1. Contributions\n",
    "1. References\n",
    "\n",
    "Part 1, 2 and 3 corresponds to the three parts of the website and have been divided to aid readability of the notebooks."
   ]
  },
  {
   "cell_type": "markdown",
   "metadata": {},
   "source": [
    "# <span style=\"color:orange\">1:</span> Motivation"
   ]
  },
  {
   "cell_type": "markdown",
   "metadata": {},
   "source": [
    "In this part the following will be described:\n",
    "1. What is the dataset\n",
    "1. Why was this particular dataset chosen\n",
    "1. What is the goal for the end user's experience"
   ]
  },
  {
   "cell_type": "markdown",
   "metadata": {},
   "source": [
    "## <span style=\"color:orange\">1.1:</span> What is the dataset? "
   ]
  },
  {
   "cell_type": "markdown",
   "metadata": {},
   "source": [
    "The dataset used is the 'Data Science for COVID-19' (DS4C) which is provided by the 'Korea Centers for Disease Control & Prevention' (KCDC) but is updated and maintained by students and academic faculties throughout South Korea [1] [2]. \n",
    "\n",
    "The dataset is continually expanded as more data becomes available and is updated approximately bi-weekly. \n",
    "\n",
    "The dataset is comprised of files each of which has been explained briefly below based on [3]. \n",
    "1. **Case data**\n",
    "    * **Case:** Data of COVID-19 infection cases in South Korea\n",
    "1. **Patient data**\n",
    "    * **PatientInfo:** Epidemiological data of COVID-19 patients in South Korea\n",
    "    * **PatientRoute:** Route data of COVID-19 patients in South Korea\n",
    "1. **Time series data**\n",
    "    * **Time:** Time series data of COVID-19 status in South Korea\n",
    "    * **TimeAge:** Time series data of COVID-19 status in terms of the age in South Korea\n",
    "    * **TimeGender:** Time series data of COVID-19 status in terms of gender in South Korea\n",
    "    * **TimeProvince:** Time series data of COVID-19 status in terms of the Province in South Korea\n",
    "1. **Additional data**\n",
    "    * **Region:** Location and statistical data of the regions in South Korea\n",
    "    * **Weather:** Data of the weather in the regions of South Korea\n",
    "    * **SearchTrend:** Trend data of the keywords searched in NAVER which is one of the largest portals in South Korea\n",
    "    * **SeoulFloating:** Data of floating population in Seoul, South Korea (from SK Telecom Big Data Hub)\n",
    "    * **Policy:** Data of the government policy for COVID-19 in South Korea\n",
    "    \n",
    "The structure of the dataset can be seen below where same color means similar properties, lines mean values are partially shared and dotted lines mean weak relevance [3]. \n",
    "\n",
    "<img src=\"images/datastructure.png\" width=\"700\">"
   ]
  },
  {
   "cell_type": "markdown",
   "metadata": {},
   "source": [
    "Additional information about the dataset can be gained from [3]. "
   ]
  },
  {
   "cell_type": "markdown",
   "metadata": {},
   "source": [
    "## <span style=\"color:orange\">1.2:</span> Why was it chosen? "
   ]
  },
  {
   "cell_type": "markdown",
   "metadata": {},
   "source": [
    "When investigating COVID-19 datasets it quickly became apparent that not a lot of information was shared besides 'Number of cases', 'Survivers' and 'Deceased'. This is extremely high-level information and did not seem to allow for exciting deep-dives to unravel new information about the disease. \n",
    "\n",
    "That is however not the case for the DS4C dataset. The dataset provides extremely detailed information on all levels, from individual movements and patient information to regional information, policies and time series data. Additionally, South Korea has been a front-runner in successfully battling the COVID-19 pandemic, and having the opportunity to do a detailed analytical deepdive into their data seemed like a no-brainer as other countries where the pandemic started later can still benefit from learnings of the early countries."
   ]
  },
  {
   "cell_type": "markdown",
   "metadata": {},
   "source": [
    "## <span style=\"color:orange\">1.3:</span> What is the goal?"
   ]
  },
  {
   "cell_type": "markdown",
   "metadata": {},
   "source": [
    "The goal in terms of end user experience is \"*to learn how one might reduce the risk of covid-19 country-wide*\", meaning both how to reduce spreading but also how to reduce fatal cases. \n",
    "\n",
    "To learn how to reduce covid-19 risks, the story will start from the very top and gradually zoom in and become more detailed. The story has been outlined as such: \n",
    "\n",
    "1.  Show the general state of South Korea and explain why it went as it did from a top-level perspective\n",
    "1. Zoom in once and explain how the virus spread geographically and country-wise and why to infer conclusions of risk-reduction\n",
    "1. Zoom in again and explain how the virus spread city-wise and why to infer conclusions of risk-reduction\n",
    "1. Zoom in again and explain how the virus impacts individuals and how to infer conclusions of risk-reduction\n",
    "1.  Zoom out and connect the dots to a collection of findings\n",
    "\n",
    "This will take the user on a journey that will allow great understanding of the virus in little time, from high level geographics to localized movements and individual factors; Making it a tool suitable both for governments wishing to strengthen their grip on the virus as well as for individuals wanting to protect themselves."
   ]
  },
  {
   "cell_type": "markdown",
   "metadata": {},
   "source": [
    "# <span style=\"color:orange\">2:</span> Part 1 - Global numbers and nation-wise spatio-temporal evolution"
   ]
  },
  {
   "cell_type": "markdown",
   "metadata": {},
   "source": [
    "Here 'Basic stats' and 'Data analysis' related to *Part 1 - Global numbers and nation-wise spatio-temporal evolution* will be described. The description have been left in another notebook to aid readability.\n",
    "\n",
    "[Access the notebook here](https://github.com/s153048/KC19/blob/master/notebooks/Part1_Explained.ipynb)\n",
    "\n",
    "**NOTE** that some interactive features might not be viewable in nbviewer, these can be viewed either on the website or by downloading the github and running the notebook locally. "
   ]
  },
  {
   "cell_type": "markdown",
   "metadata": {},
   "source": [
    "# <span style=\"color:orange\">3:</span> Part 2 - Patient activity in Seoul"
   ]
  },
  {
   "cell_type": "markdown",
   "metadata": {},
   "source": [
    "Here 'Basic stats' and 'Data analysis' related to *Part 2 - Patient activity in Seoul* will be described. The description have been left in another notebook to aid readability.\n",
    "\n",
    "[Access the notebook here](https://github.com/s153048/KC19/blob/master/notebooks/Part2_Explained.ipynb)\n",
    "\n",
    "**NOTE** that some interactive features might not be viewable in nbviewer, these can be viewed either on the website or by downloading the github and running the notebook locally. "
   ]
  },
  {
   "cell_type": "markdown",
   "metadata": {},
   "source": [
    "# <span style=\"color:orange\">4:</span> Part 3 - What affects risk of fatal cases for individuals"
   ]
  },
  {
   "cell_type": "markdown",
   "metadata": {},
   "source": [
    "Here 'Basic stats' and 'Data analysis' related to *Part 3 - What affects risk of fatal attacks for individuals* will be described. The description have been left in another notebook to aid readability.\n",
    "\n",
    "[Access the notebook here](https://github.com/s153048/KC19/blob/master/notebooks/Part3_Explained.ipynb)\n",
    "\n",
    "**NOTE** that some interactive features might not be viewable in nbviewer, these can be viewed either on the website or by downloading the github and running the notebook locally. "
   ]
  },
  {
   "cell_type": "markdown",
   "metadata": {},
   "source": [
    "# <span style=\"color:orange\">5:</span> Genres "
   ]
  },
  {
   "cell_type": "markdown",
   "metadata": {},
   "source": [
    "## <span style=\"color:orange\">5.1:</span> Graphics genres used \n",
    "\n",
    "Several genres have been used throughout the website [4]. \n",
    "1. **Magazine style**\n",
    "    * Is used generally to explain what can be seen from the graphs, and to explain insights when no graphs are present, for instance when investigative analysis have been done or when the machine learning model was explained instead of showed.\n",
    "1. **Annotated chart**\n",
    "    * Is used for instance to convey what government actions have been put in place by the South Korean Government by annotating a chart over cases with the actions taken, allowing the reader to investigate the connections herself.\n",
    "1. **Slide show**\n",
    "    * An adation of slide shows have been used in multiple places to allow the user to use a dropdown menu to select which angle she wishes to view the data from. For instance by choosing if she wants to see cumulative or non cumulative data in part 1, or to shuffle between different features in part 3.\n",
    "1. **Animation**\n",
    "    * Is used in multiple places as well, for instance in part 1 where the geographical spreading of the virus is shown using two movies, and in part 2 where the local movements of Seoul can be seen day by day. \n",
    "    \n",
    "The genres have all been chosen with a purpose. The magazine style has been chosen to guide the viewer, and to help her understand the data even though she is not a scientist herself. The annotated charts and the slideshow aims at engaging the reader in looking closer at the data, by giving her the ability to make her own conclusions and investigate the data on her own. Finally, the animation has been used to convey otherwise difficult messages in a nice 'just lean back and enjoy it' kind of way. \n",
    "\n",
    "## <span style=\"color:orange\">5.2:</span> Narrative structure used \n",
    "\n",
    "The narrative structure of the website has been designed to let the reader engage in complex analysis in an easy-to-read manner while being as engaging as possible to let the reader feel like she discovered the insights herself instead of just being told something. This was achieved by using the following structural tools, each of which will be explained below [4].\n",
    "1. **Order**\n",
    "    1. Linear\n",
    "1. **Interactivity**\n",
    "    1. Hover highlighting / Details\n",
    "    1. Filtering / Selection / Search\n",
    "    1. Navigation buttons\n",
    "    1. Explicit instruction\n",
    "    1. Tacit tutorial \n",
    "1. **Messaging**\n",
    "    1. Captions/Headlines\n",
    "    1. Annotations\n",
    "    1. Accompanying text\n",
    "    1. Comment repitition\n",
    "    1. Introductory text\n",
    "    1. Summary synthesis\n",
    "    \n",
    "    \n",
    "The linear order was chosen as 'Random access' and 'User directed paths' might lead to confusion for the reader as the data investigation is somewhat complicated and needs a certain amount of guidance to be fully understood. \n",
    "\n",
    "For interactivity, 'Hovering', 'Filtering/Selection' and 'Navigation buttons' was provided to let the user engage with the graphs at her own pace to increase engagement, while still providing instructions to ease understanding through the use of 'Explicit instructions', or the use of 'Tacit tutorial' in the risk-profiling part where the user was first shown how the model works and was then given free-pass to play with it as she liked. \n",
    "\n",
    "For messaging, the main goal was to drive the linear story-line and guide the reader through the different charts and interactions to ease understanding and increase engagement. 'Captions and headlines' were generally provided as a quick overview, with 'Annotations' being used in for instance the government actions chart. 'Accompanying text', \n",
    "'Comment repitition', 'Introductory text' and 'Summary synthesis' were all used. The goal of these was to introduce the data to be seen to ease understanding, then accompany it with text and comment repition to make sure the reader got the write take-aways, and finally; Summary synthesis were used to make sure the reader did not forget some important takeaways after the intensive read! "
   ]
  },
  {
   "cell_type": "markdown",
   "metadata": {},
   "source": [
    "# <span style=\"color:orange\">6:</span> Visualizations "
   ]
  },
  {
   "cell_type": "markdown",
   "metadata": {},
   "source": [
    "Here, each visualization will be explained. The explanations will include small images of the figure for reference and will be dividded into each part to ease readability. "
   ]
  },
  {
   "cell_type": "markdown",
   "metadata": {},
   "source": [
    "## <span style=\"color:orange\">6.1:</span> Part 1 - Global numbers and nation-wise spatio-temporal evolution"
   ]
  },
  {
   "cell_type": "markdown",
   "metadata": {},
   "source": [
    "**Visualization 1: Line**\n",
    "\n",
    "To show the evolution with time of tested, positive and negative individuals a line plot was chosen, since it showcases the temporal evolution in an objective and minimalist manner. A drop-down menu is present to include information from both accumulated and daily statistics.\n",
    "<img src=\"images/pedro_f1.png\" width=\"300\">\n",
    "\n",
    "**Visualization 3: Line**\n",
    "\n",
    "To show the evolution with time in detail of positive, released and deceased individuals a line plot was chosen for the same reasons as the previous item. A drop-down menu is present to include information from both accumulated and daily statistics.\n",
    "<img src=\"images/pedro_f3.png\" width=\"300\">\n",
    "\n",
    "**Visualization 4: Line**\n",
    "\n",
    "To show the evolution with time in detail of deceased individuals a line plot was chosen for the same reasons as the previous items. A drop-down menu is present to include information from both total population tested and positive individuals only statistics.\n",
    "<img src=\"images/pedro_f4.png\" width=\"300\">\n",
    "\n",
    "**Visualization 5: Line**\n",
    "\n",
    "To show possible correlations between goverment actions and number of confirmed citizens a line plot with annotations was chosen, showing evolution of the indicators with clear distinction of before/after the actions.\n",
    "<img src=\"images/pedro_f5.png\" width=\"300\">\n",
    "\n",
    "**Visualization 6: Geo-plot**\n",
    "\n",
    "To show how the disease spreaded geographically with time, a heatmap with time was chose in order to communicate several dimensions at once, but without overwhelming the reader: time, coordinates and intensity are present.\n",
    "<img src=\"images/pedro_f6.png\" width=\"300\">\n",
    "\n",
    "**Visualization 7: Bar**\n",
    "\n",
    "To show in more details how the disease and all its indicators have spreaded throughout the provinces, a time-animated bar chart with hovering annotations was chosen, delivering a lot of information but with some interactivity and possibility of only seeing for the chosen provinces, thus not overwhelming the reader.\n",
    "<img src=\"images/pedro_f7.png\" width=\"300\">"
   ]
  },
  {
   "cell_type": "markdown",
   "metadata": {},
   "source": [
    "## <span style=\"color:orange\">6.2:</span> Part 2 - COVID-19 patient activity in Seoul"
   ]
  },
  {
   "cell_type": "markdown",
   "metadata": {},
   "source": [
    "**Visualization 1: Patient activity by districts**\n",
    "\n",
    "In order to get a sense of how the patient activity is spread over the city of Seoul, the total amount of activities is calculated for each district, and plotted with the shapes of the district in an interactive map. A color palette is used to distinguish the amount of activity, so that the user can identify the overall activity level in each district. The picture below shows the global view of the visual.\n",
    "<img src=\"images/viz2-1.png\" width=\"300\">\n",
    "\n",
    "**Visualization 2: Building types by districts**\n",
    "\n",
    "To visualize the infrastructures and their type in each district, the building shapes and their types are downloaded from OpenStreetMaps and plotted in a second interactive map. This plot enables the user to learn more about what is the main vocation of a district (e.g. residential, business, nightlife, ...). The picture below shows the plot with a zoom into the district of Yongsan-gu.\n",
    "<img src=\"images/viz2-2.png\" width=\"300\">\n",
    "\n",
    "**Visualization 3: Patient activity and building types by districts**\n",
    "\n",
    "The final visual of this part is a combination of the two previous visuals and precise patient activity data. It contains three layers:\n",
    "1. Districts colored by number of patient activities registered\n",
    "2. Buildings colored by building type\n",
    "3. Precise patient activity locations represented by red dots\n",
    "\n",
    "This map enables the user to investigate the data in a visual and interactive way by using the Bokeh tools. The aim is to connect the dots between patient acitivity levels, infrastructures and districts. The animation below shows how the visual can be used.\n",
    "<img src=\"images/gif2.gif\" width=\"300\">\n",
    "\n",
    "Note: this final map has been combined with an slider to select the date, so that the district colors and patient activity locations adapt to the date selected. Unfortunately, the slider in combination with Bokeh is a feature not yet supported by the website, and it is therefore not possible to use the map properly there. Instead, the interested user can visualize the fully functional plot in the notebook."
   ]
  },
  {
   "cell_type": "markdown",
   "metadata": {},
   "source": [
    "## <span style=\"color:orange\">6.3:</span> Part 3 - What affects risk of fatal attacks for individuals"
   ]
  },
  {
   "cell_type": "markdown",
   "metadata": {},
   "source": [
    "**Visualization 1: Model**\n",
    "\n",
    "To explain the machine-learning model it was chosen to not show any visualizations and simply explain it with as few as possible written words. This is to no discourage less tech-savy readers while still explaining where the results to be presented comes from and if the reader should trust them or not. \n",
    "<img src=\"images/p3_model.png\" width=\"300\">\n",
    "\n",
    "**Visualization 2: Bar**\n",
    "\n",
    "To explain the feature importances of the model, a bar chart with a simple hover feature was chosen. The bar chart was chosen to convey the information in the most easy to comprehend way, and a simple interactivity was chosen to let the user engage in a small talk about machine-learning 'Bias'. \n",
    "<img src=\"images/p3_bar.png\" width=\"300\">\n",
    "\n",
    "**Visualization 3: Line**\n",
    "\n",
    "To explain the partial dependence of each feature a simple line-chart was chosen. The line chart had a drop-down feature letting the user investigate the partial dependencies herself. The line chart was chosen to show how results change depending on the value of the feature, and the dropdown was chosen as to give the user the sense of discovery rather than just showing all four charts at once. \n",
    "<img src=\"images/p3_line.png\" width=\"300\">\n",
    "\n",
    "**Visualization 4: Input output**\n",
    "\n",
    "For the final 'Visualization' a fully interactive menu where the reader could enter her own info was constructed. This was chosen for two reason; Firstly, to let the user experience how models can be used not just to investigate data, but also as a government tool to provide personalized recommendations to citizens. Secondly, to let the user experience what features impacted their personalized predictions, to make a connection between previously discovered information and let the user play around with the data herself to understand it better. \n",
    "<img src=\"images/p3_choose.png\" width=\"300\">\n",
    "<img src=\"images/p3_risk.png\" width=\"300\">\n",
    "<img src=\"images/p3_pred.png\" width=\"300\">"
   ]
  },
  {
   "cell_type": "markdown",
   "metadata": {},
   "source": [
    "# <span style=\"color:orange\">7:</span> Discussion"
   ]
  },
  {
   "cell_type": "markdown",
   "metadata": {},
   "source": [
    "Critically analyzing the achievements of the present document:\n",
    "1. What went well?\n",
    "    * The storyline mimics a natural inquisitive line of thought when exploring a problem. Looking globally, visualizing geographically, then looking at population dynamics and finalizing with individual consequences. This makes it easier for the reader to follow;\n",
    "    * The visualizations are clean and light, but at the same time pack plenty of information;\n",
    "     Interactivity makes the notebook/website very engaging.\n",
    "1. What could be improved and why?\n",
    "    * Further data gathering and analysis for relations between goverment actions and impacts on how the disease spreads. This is of utter interest since it could be carried to other nations in the form of recommendations;\n",
    "    * In order to build a proper website an additional skill-set of development would be needed, which was not the case of any group member;\n",
    "    * The lack of data for machine learning presents itself as a problem, resulting in potentially biased models."
   ]
  },
  {
   "cell_type": "markdown",
   "metadata": {},
   "source": [
    "# <span style=\"color:orange\">8:</span> Contributions"
   ]
  },
  {
   "cell_type": "markdown",
   "metadata": {},
   "source": [
    "Contributions:\n",
    "* s153048 Mikkel Lehmann - 1, 2.3, 3.3, 4, 5, 6 (Part 3 + website)\n",
    "* s182244 Jacques Michel - 2.2, 3.2, 5, 6 (Part 2)\n",
    "* s190050 Pedro Germani - 2.1, 3.1, 5, 6 (Part 1)"
   ]
  },
  {
   "cell_type": "markdown",
   "metadata": {},
   "source": [
    "# <span style=\"color:orange\">9:</span> References"
   ]
  },
  {
   "cell_type": "markdown",
   "metadata": {},
   "source": [
    "Note: This section contains only references used in this notebook, the three separate notebooks contains references related to the parts individually. \n",
    "\n",
    "1. https://github.com/ThisIsIsaac/Data-Science-for-COVID-19\n",
    "1. http://www.cdc.go.kr/\n",
    "1. https://www.kaggle.com/kimjihoo/ds4c-what-is-this-dataset-detailed-description\n",
    "1. http://vis.stanford.edu/files/2010-Narrative-InfoVis.pdf"
   ]
  }
 ],
 "metadata": {
  "kernelspec": {
   "display_name": "Python 3",
   "language": "python",
   "name": "python3"
  },
  "language_info": {
   "codemirror_mode": {
    "name": "ipython",
    "version": 3
   },
   "file_extension": ".py",
   "mimetype": "text/x-python",
   "name": "python",
   "nbconvert_exporter": "python",
   "pygments_lexer": "ipython3",
   "version": "3.7.1"
  }
 },
 "nbformat": 4,
 "nbformat_minor": 4
}
