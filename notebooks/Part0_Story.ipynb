{
 "cells": [
  {
   "cell_type": "markdown",
   "metadata": {},
   "source": [
    "# <span style=\"color:orange\">0:</span> Socio-geographic study of COVID-19 cases in South Korea"
   ]
  },
  {
   "cell_type": "markdown",
   "metadata": {},
   "source": [
    "---"
   ]
  },
  {
   "cell_type": "markdown",
   "metadata": {},
   "source": [
    "This website has been prepared as part of the course 02806 'Social data analysis and visualization' 2020 at the Technical University of Denmark. \n",
    "\n",
    "A detailed [Explainer notebook](https://github.com/s153048/KC19/blob/master/notebooks/Explainer_notebook.ipynb) is available for in-depth technical discussions of the parts presented on this website. The site is hosted using [voila](https://github.com/voila-dashboards/voila) and [heroku](https://www.heroku.com/) and the [git repository](https://github.com/s153048/KC19) of the site is available at the link. "
   ]
  },
  {
   "cell_type": "markdown",
   "metadata": {},
   "source": [
    "_____"
   ]
  },
  {
   "cell_type": "markdown",
   "metadata": {},
   "source": [
    "On this website, the [DS4C: Data Science for COVID-19 in South Korea](https://www.kaggle.com/kimjihoo/coronavirusdataset) dataset will be investigated and presented in an interactive manner with the goal of determining *how one might reduce the risk of COVID-19 country-wide*. You will be taken on a journey through the COVID-19 pandemic in Korea starting from the top-level media perspective of 'Total cases' moving all the way down to understanding how the disease spreads locally in the city and how it increases risk of fatality significantly more for some than for others. You will see how the disease spreads through the country and you will experience the power of machine learning, so get comfortable and enjoy the read. "
   ]
  },
  {
   "cell_type": "markdown",
   "metadata": {},
   "source": [
    "*Outline:*\n",
    "1. Global numbers and nation-wise spatio-temporal evolution\n",
    "2. Patient activity in Seoul\n",
    "3. What affects risk of fatal cases for individuals\n",
    "4. Conclusion: How to reduce the risk of COVID-19 country-wide"
   ]
  },
  {
   "cell_type": "code",
   "execution_count": null,
   "metadata": {},
   "outputs": [],
   "source": []
  }
 ],
 "metadata": {
  "kernelspec": {
   "display_name": "Python 3",
   "language": "python",
   "name": "python3"
  },
  "language_info": {
   "codemirror_mode": {
    "name": "ipython",
    "version": 3
   },
   "file_extension": ".py",
   "mimetype": "text/x-python",
   "name": "python",
   "nbconvert_exporter": "python",
   "pygments_lexer": "ipython3",
   "version": "3.7.1"
  }
 },
 "nbformat": 4,
 "nbformat_minor": 4
}
