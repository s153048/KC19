{
 "cells": [
  {
   "cell_type": "markdown",
   "metadata": {},
   "source": [
    "# <span style=\"color:orange\">4:</span> Conclusion: How to reduce the risk of COVID-19 country-wide"
   ]
  },
  {
   "cell_type": "markdown",
   "metadata": {},
   "source": [
    "Although these findings are not exactly a new COVID-19 vaccine, some interesting insights were highlighted leading to the following recommendations based on the data herein:\n",
    "\n",
    "1. **On a country level:** Airports seem a key entrance for virusses, and setting up checkpoints around them and limiting access seems like a key move. Additionally, serious regulation of densely populated areas seems key to avoid spreading.\n",
    "1. **On a city level:** Restraining the use of public transportation and limiting high-density social activities such as nightlife areas seems key to reduce spreading around the city and avoid spreading on the local level. \n",
    "1. **On an individual level:** Taking extra care around elderly and sick is key in avoiding fatalities, but other factors such as sex could play a role. Additionally, providing personalized risk-profiles could aid in compliance.\n",
    "\n",
    "These recommendations can be adapted by governments, or be seen as inspirational advice for curious individuals.\n",
    "\n",
    "Additionally, this website shows that data science, visualization techniques and machine learning could play an important role in future pandemic strategies. By collecting detailed informations about the disease quickly, algorithms can be trained and data be visualized by hordes of scientists to understand the disease at a deeper level faster, aiding the traditional lab-based scienses to provide a strong unified front against the virus. Technology could, and should, be used more exhaustively as was shown in this website with the personalized risk profiling and as has already been done in South Korea by utilizing smartphones in notifying people of high-risk areas. With such vast data and so powerful technology possesed by nearly every citizen, why not take the advantage of it and use it for something truly good, such as battling a global pandemic?  \n",
    "\n",
    "We hope you have enjoyed the read. Stay safe. Wash your hands. And remember that all will be well and good if we stay together, by staying apart. "
   ]
  },
  {
   "cell_type": "code",
   "execution_count": 4,
   "metadata": {},
   "outputs": [
    {
     "data": {
      "application/vnd.jupyter.widget-view+json": {
       "model_id": "c75b8722fcdd4d849c3c4f337efcc505",
       "version_major": 2,
       "version_minor": 0
      },
      "text/plain": [
       "Output(layout=Layout(border='0px solid black'))"
      ]
     },
     "metadata": {},
     "output_type": "display_data"
    }
   ],
   "source": [
    "from IPython.display import Image\n",
    "import ipywidgets as widgets\n",
    "\n",
    "gif = widgets.Output(layout={'border': '0px solid black'})\n",
    "with gif:\n",
    "    im = Image(filename=\"images/goodbye.gif\")\n",
    "    display(im)\n",
    "gif"
   ]
  },
  {
   "cell_type": "code",
   "execution_count": null,
   "metadata": {},
   "outputs": [],
   "source": []
  }
 ],
 "metadata": {
  "kernelspec": {
   "display_name": "Python 3",
   "language": "python",
   "name": "python3"
  },
  "language_info": {
   "codemirror_mode": {
    "name": "ipython",
    "version": 3
   },
   "file_extension": ".py",
   "mimetype": "text/x-python",
   "name": "python",
   "nbconvert_exporter": "python",
   "pygments_lexer": "ipython3",
   "version": "3.7.1"
  }
 },
 "nbformat": 4,
 "nbformat_minor": 4
}
