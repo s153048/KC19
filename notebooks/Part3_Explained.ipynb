{
 "cells": [
  {
   "cell_type": "markdown",
   "metadata": {},
   "source": [
    "# <span style=\"color:orange\">3:</span>  What affects risk of fatal attacks for individuals"
   ]
  },
  {
   "cell_type": "markdown",
   "metadata": {},
   "source": [
    "*Here \"2. Basic stats\" and \"3. Data analysis\" will be described for part 3 of the analysis. The descriptions will be done fluenty as described below.*\n",
    "\n",
    "\n",
    "This part analyses social data of COVID-19 patients in South Korea.\n",
    "\n",
    "The goal is to construct a machine learning model for predicting risk of dying from COVID-19, interpret the results and construct a widget that citizens of South Korea can use to get a personal risk-profile with recommendations. \n",
    "\n",
    "The analysis is divided into seven parts:\n",
    "\n",
    "1. **Investigation:** Where the data is investigated descriptively\n",
    "1. **Preparation:** Where the data is prepared for machine learning\n",
    "2. **Modelling:** Where the model is being trained and evaluated\n",
    "3. **Interpretation:** Where the model is being interpreted\n",
    "4. **Beautify & Widgetting:** Where the personalized risk-profiling widget is being constructed and pretty and interactive graphs made based on previous data\n",
    "1. **Conclusion and discussion:** As title suggests\n",
    "1. **References:** As title suggests"
   ]
  },
  {
   "cell_type": "markdown",
   "metadata": {},
   "source": [
    "## <span style=\"color:orange\">1:</span> Investigation "
   ]
  },
  {
   "cell_type": "markdown",
   "metadata": {},
   "source": [
    "Import all packages needed."
   ]
  },
  {
   "cell_type": "code",
   "execution_count": 5,
   "metadata": {},
   "outputs": [],
   "source": [
    "import pandas as pd\n",
    "import numpy as np\n",
    "import seaborn as sns\n",
    "import matplotlib.pyplot as plt\n",
    "import missingno as msno\n",
    "from sklearn import metrics\n",
    "from sklearn.metrics import plot_confusion_matrix\n",
    "from sklearn.ensemble import RandomForestClassifier\n",
    "from sklearn.dummy import DummyClassifier\n",
    "from sklearn.model_selection import train_test_split\n",
    "from sklearn.model_selection import GridSearchCV\n",
    "from sklearn.model_selection import KFold\n",
    "from sklearn.feature_selection import RFE\n",
    "from sklearn.feature_selection import SelectKBest\n",
    "from sklearn.feature_selection import chi2\n",
    "from sklearn.metrics import recall_score\n",
    "from sklearn.metrics import make_scorer\n",
    "from skater.core.explanations import Interpretation\n",
    "from skater.model import InMemoryModel\n",
    "import eli5\n",
    "from eli5 import show_prediction\n",
    "from sklearn.inspection import partial_dependence\n",
    "from sklearn.inspection import plot_partial_dependence\n",
    "import plotly\n",
    "from plotly import graph_objs as go, offline as po, tools\n",
    "import numpy as np\n",
    "import json\n",
    "import ipywidgets as widgets\n",
    "from IPython.display import display\n",
    "from ipywidgets import HTML\n",
    "import plotly.graph_objs as go\n",
    "from ipywidgets import interact\n",
    "import plotly.figure_factory as ff\n",
    "from sklearn.metrics import confusion_matrix\n",
    "from IPython.display import Image"
   ]
  },
  {
   "cell_type": "markdown",
   "metadata": {},
   "source": [
    "The dataset used is the PatientInfo dataset. The dataset holds various information related to each COVID-19 patient registered."
   ]
  },
  {
   "cell_type": "code",
   "execution_count": 6,
   "metadata": {},
   "outputs": [
    {
     "data": {
      "text/html": [
       "<div>\n",
       "<style scoped>\n",
       "    .dataframe tbody tr th:only-of-type {\n",
       "        vertical-align: middle;\n",
       "    }\n",
       "\n",
       "    .dataframe tbody tr th {\n",
       "        vertical-align: top;\n",
       "    }\n",
       "\n",
       "    .dataframe thead th {\n",
       "        text-align: right;\n",
       "    }\n",
       "</style>\n",
       "<table border=\"1\" class=\"dataframe\">\n",
       "  <thead>\n",
       "    <tr style=\"text-align: right;\">\n",
       "      <th></th>\n",
       "      <th>patient_id</th>\n",
       "      <th>global_num</th>\n",
       "      <th>sex</th>\n",
       "      <th>birth_year</th>\n",
       "      <th>age</th>\n",
       "      <th>country</th>\n",
       "      <th>province</th>\n",
       "      <th>city</th>\n",
       "      <th>disease</th>\n",
       "      <th>infection_case</th>\n",
       "      <th>infection_order</th>\n",
       "      <th>infected_by</th>\n",
       "      <th>contact_number</th>\n",
       "      <th>symptom_onset_date</th>\n",
       "      <th>confirmed_date</th>\n",
       "      <th>released_date</th>\n",
       "      <th>deceased_date</th>\n",
       "      <th>state</th>\n",
       "    </tr>\n",
       "  </thead>\n",
       "  <tbody>\n",
       "    <tr>\n",
       "      <th>0</th>\n",
       "      <td>1000000001</td>\n",
       "      <td>2.0</td>\n",
       "      <td>male</td>\n",
       "      <td>1964.0</td>\n",
       "      <td>50s</td>\n",
       "      <td>Korea</td>\n",
       "      <td>Seoul</td>\n",
       "      <td>Gangseo-gu</td>\n",
       "      <td>NaN</td>\n",
       "      <td>overseas inflow</td>\n",
       "      <td>1.0</td>\n",
       "      <td>NaN</td>\n",
       "      <td>75.0</td>\n",
       "      <td>2020-01-22</td>\n",
       "      <td>2020-01-23</td>\n",
       "      <td>2020-02-05</td>\n",
       "      <td>NaN</td>\n",
       "      <td>released</td>\n",
       "    </tr>\n",
       "    <tr>\n",
       "      <th>1</th>\n",
       "      <td>1000000002</td>\n",
       "      <td>5.0</td>\n",
       "      <td>male</td>\n",
       "      <td>1987.0</td>\n",
       "      <td>30s</td>\n",
       "      <td>Korea</td>\n",
       "      <td>Seoul</td>\n",
       "      <td>Jungnang-gu</td>\n",
       "      <td>NaN</td>\n",
       "      <td>overseas inflow</td>\n",
       "      <td>1.0</td>\n",
       "      <td>NaN</td>\n",
       "      <td>31.0</td>\n",
       "      <td>NaN</td>\n",
       "      <td>2020-01-30</td>\n",
       "      <td>2020-03-02</td>\n",
       "      <td>NaN</td>\n",
       "      <td>released</td>\n",
       "    </tr>\n",
       "    <tr>\n",
       "      <th>2</th>\n",
       "      <td>1000000003</td>\n",
       "      <td>6.0</td>\n",
       "      <td>male</td>\n",
       "      <td>1964.0</td>\n",
       "      <td>50s</td>\n",
       "      <td>Korea</td>\n",
       "      <td>Seoul</td>\n",
       "      <td>Jongno-gu</td>\n",
       "      <td>NaN</td>\n",
       "      <td>contact with patient</td>\n",
       "      <td>2.0</td>\n",
       "      <td>2.002000e+09</td>\n",
       "      <td>17.0</td>\n",
       "      <td>NaN</td>\n",
       "      <td>2020-01-30</td>\n",
       "      <td>2020-02-19</td>\n",
       "      <td>NaN</td>\n",
       "      <td>released</td>\n",
       "    </tr>\n",
       "    <tr>\n",
       "      <th>3</th>\n",
       "      <td>1000000004</td>\n",
       "      <td>7.0</td>\n",
       "      <td>male</td>\n",
       "      <td>1991.0</td>\n",
       "      <td>20s</td>\n",
       "      <td>Korea</td>\n",
       "      <td>Seoul</td>\n",
       "      <td>Mapo-gu</td>\n",
       "      <td>NaN</td>\n",
       "      <td>overseas inflow</td>\n",
       "      <td>1.0</td>\n",
       "      <td>NaN</td>\n",
       "      <td>9.0</td>\n",
       "      <td>2020-01-26</td>\n",
       "      <td>2020-01-30</td>\n",
       "      <td>2020-02-15</td>\n",
       "      <td>NaN</td>\n",
       "      <td>released</td>\n",
       "    </tr>\n",
       "    <tr>\n",
       "      <th>4</th>\n",
       "      <td>1000000005</td>\n",
       "      <td>9.0</td>\n",
       "      <td>female</td>\n",
       "      <td>1992.0</td>\n",
       "      <td>20s</td>\n",
       "      <td>Korea</td>\n",
       "      <td>Seoul</td>\n",
       "      <td>Seongbuk-gu</td>\n",
       "      <td>NaN</td>\n",
       "      <td>contact with patient</td>\n",
       "      <td>2.0</td>\n",
       "      <td>1.000000e+09</td>\n",
       "      <td>2.0</td>\n",
       "      <td>NaN</td>\n",
       "      <td>2020-01-31</td>\n",
       "      <td>2020-02-24</td>\n",
       "      <td>NaN</td>\n",
       "      <td>released</td>\n",
       "    </tr>\n",
       "  </tbody>\n",
       "</table>\n",
       "</div>"
      ],
      "text/plain": [
       "   patient_id  global_num     sex  birth_year  age country province  \\\n",
       "0  1000000001         2.0    male      1964.0  50s   Korea    Seoul   \n",
       "1  1000000002         5.0    male      1987.0  30s   Korea    Seoul   \n",
       "2  1000000003         6.0    male      1964.0  50s   Korea    Seoul   \n",
       "3  1000000004         7.0    male      1991.0  20s   Korea    Seoul   \n",
       "4  1000000005         9.0  female      1992.0  20s   Korea    Seoul   \n",
       "\n",
       "          city disease        infection_case  infection_order   infected_by  \\\n",
       "0   Gangseo-gu     NaN       overseas inflow              1.0           NaN   \n",
       "1  Jungnang-gu     NaN       overseas inflow              1.0           NaN   \n",
       "2    Jongno-gu     NaN  contact with patient              2.0  2.002000e+09   \n",
       "3      Mapo-gu     NaN       overseas inflow              1.0           NaN   \n",
       "4  Seongbuk-gu     NaN  contact with patient              2.0  1.000000e+09   \n",
       "\n",
       "   contact_number symptom_onset_date confirmed_date released_date  \\\n",
       "0            75.0         2020-01-22     2020-01-23    2020-02-05   \n",
       "1            31.0                NaN     2020-01-30    2020-03-02   \n",
       "2            17.0                NaN     2020-01-30    2020-02-19   \n",
       "3             9.0         2020-01-26     2020-01-30    2020-02-15   \n",
       "4             2.0                NaN     2020-01-31    2020-02-24   \n",
       "\n",
       "  deceased_date     state  \n",
       "0           NaN  released  \n",
       "1           NaN  released  \n",
       "2           NaN  released  \n",
       "3           NaN  released  \n",
       "4           NaN  released  "
      ]
     },
     "execution_count": 6,
     "metadata": {},
     "output_type": "execute_result"
    }
   ],
   "source": [
    "## Load data\n",
    "path = \"data/PatientInfo.csv\"\n",
    "df = pd.read_csv(path)\n",
    "df.head(5)"
   ]
  },
  {
   "cell_type": "code",
   "execution_count": 7,
   "metadata": {},
   "outputs": [
    {
     "name": "stdout",
     "output_type": "stream",
     "text": [
      "Basic stats of the dataset\n",
      "\n",
      "Number of patients:  3388\n",
      "Attributes pr. patient:  18\n"
     ]
    }
   ],
   "source": [
    "print(\"Basic stats of the dataset\\n\")\n",
    "print(\"Number of patients: \", df['patient_id'].count())\n",
    "print(\"Attributes pr. patient: \", len(df.columns))"
   ]
  },
  {
   "cell_type": "markdown",
   "metadata": {},
   "source": [
    "To get an idea of the contents of the dataset, some basic graphs will be presented below; Showing distributions of a select number of attributes of the data. The graphs shows:\n",
    "\n",
    "1. Distribution of gender\n",
    "1. Distribution of age\n",
    "1. Distribution of provinces\n",
    "1. Distribution of type of infection cases\n",
    "1. Distribution of other infections simultanious with COVID-19 (disease column)\n",
    "1. Distribution of released, isolated and deceased patients"
   ]
  },
  {
   "cell_type": "code",
   "execution_count": 8,
   "metadata": {},
   "outputs": [
    {
     "data": {
      "image/png": "[encoded data removed]",
      "text/plain": [
       "<Figure size 720x1440 with 6 Axes>"
      ]
     },
     "metadata": {
      "needs_background": "light"
     },
     "output_type": "display_data"
    }
   ],
   "source": [
    "# Get columns of relevance\n",
    "df_dists = df.drop(columns = ['patient_id', 'global_num', 'birth_year', 'country', 'city', 'infection_order', 'infected_by', 'contact_number', 'symptom_onset_date', 'released_date', 'confirmed_date', 'deceased_date'])\n",
    "df_dists['disease'].fillna(0, inplace = True)\n",
    "\n",
    "# Define indices\n",
    "I, J = 2*[0, 1, 2], 3*[0, 1]\n",
    "\n",
    "# Construct plots\n",
    "fig, axs = plt.subplots(3, 2, figsize = [10, 20])\n",
    "\n",
    "for column, i, j in zip(df_dists.columns, I, J):\n",
    "    y = df_dists.groupby(column)[column].count().to_numpy()\n",
    "    x = df_dists.groupby(column)[column].count().index.to_numpy()\n",
    "    axs[i,j].bar(x, y)\n",
    "    axs[i,j].set_title(column, fontsize=20)\n",
    "    axs[i,j].set_ylabel('Patient count', rotation = 90)\n",
    "    axs[i,j].tick_params(labelrotation=90)\n",
    "    \n",
    "fig.tight_layout()\n",
    "plt.show()   "
   ]
  },
  {
   "cell_type": "markdown",
   "metadata": {},
   "source": [
    "A couple of things can be noted from each graph. Below are some important notes for each distribution:\n",
    "\n",
    "1. **Sex:** There exists a small majority of females in the dataset. \n",
    "2. **Disease:** Most patients do not have an existing disease, only very few have. \n",
    "3. **Infeciton case:** Most cases come from \"contact with patient\", \"etc\" or \"overseas inflow\"\n",
    "4. **age:** There seems to be most people in their 20s, but except for that a normal distribution with most people in their 50s\n",
    "5. **Province:** Most people come from three major provinces, \"Seoul\", \"Gyenggi-do\" and \"Gyeongsangbuk-do\".\n",
    "6. **State:** Most people are currently \"isolated\" however, in prediction only \"deceased\" and \"released\" are relevant why a big part of the data will not be able to be used in the modelling. \n",
    "\n",
    "In conclusion, it is easy to see that this data is still in its infantry and more information would be helpful. However, for a basic model there does seem to be enough patients and feature to create a proof of concept model, and hopefully learn something about the features as well."
   ]
  },
  {
   "cell_type": "markdown",
   "metadata": {},
   "source": [
    "## <span style=\"color:orange\">2:</span> Prepare data"
   ]
  },
  {
   "cell_type": "markdown",
   "metadata": {},
   "source": [
    "The data must be prepared such that it is fit for the machine-learning task. In the block below, the following things have been done. \n",
    "\n",
    "1. **Drop data:** Features (columns) of the dataframe that cannot help the model with predictions are removed. For instance \"infected by\" should not have an impact on the risk of death as the virus is the same no matter who you were infected by. \n",
    "1. **Feature construction:** Some features may not be interesting in itself (such as the date of virus contraction) however, the day of contraction compared to the first case in the country may, as early cases could be hypothesised to have less treatments available, and later cases more. As such, this new feature is created based on existing information. \n",
    "1. **Feature formatting:** In this project scikit-learn has been used as the machine learning foundation. However, as the package does not work well with categorical variables, all of these (sex, disease and province column) are OneHotEncoded. Additionally, columns are formattet to be strictly integers instead of mixed types (for instance, age represented by \"50\" instead of \"50s\") as the model will not be able to interpret the features otherwise. \n",
    "1. **Data removal:** As a lot of the dataset refers to \"isolated\" people which is not a good classification label. As such, this portion of the dataset must be removed to make room for a binary classification (released vs. diseased).\n",
    "1. **Misc:** Renaming etc."
   ]
  },
  {
   "cell_type": "code",
   "execution_count": 9,
   "metadata": {},
   "outputs": [
    {
     "data": {
      "text/html": [
       "<div>\n",
       "<style scoped>\n",
       "    .dataframe tbody tr th:only-of-type {\n",
       "        vertical-align: middle;\n",
       "    }\n",
       "\n",
       "    .dataframe tbody tr th {\n",
       "        vertical-align: top;\n",
       "    }\n",
       "\n",
       "    .dataframe thead th {\n",
       "        text-align: right;\n",
       "    }\n",
       "</style>\n",
       "<table border=\"1\" class=\"dataframe\">\n",
       "  <thead>\n",
       "    <tr style=\"text-align: right;\">\n",
       "      <th></th>\n",
       "      <th>sex</th>\n",
       "      <th>age</th>\n",
       "      <th>state</th>\n",
       "      <th>Days since first case</th>\n",
       "      <th>Existing illness</th>\n",
       "      <th>Busan</th>\n",
       "      <th>Chungcheongbuk-do</th>\n",
       "      <th>Chungcheongnam-do</th>\n",
       "      <th>Daegu</th>\n",
       "      <th>Daejeon</th>\n",
       "      <th>...</th>\n",
       "      <th>Gyeonggi-do</th>\n",
       "      <th>Gyeongsangbuk-do</th>\n",
       "      <th>Gyeongsangnam-do</th>\n",
       "      <th>Incheon</th>\n",
       "      <th>Jeju-do</th>\n",
       "      <th>Jeollabuk-do</th>\n",
       "      <th>Jeollanam-do</th>\n",
       "      <th>Sejong</th>\n",
       "      <th>Seoul</th>\n",
       "      <th>Ulsan</th>\n",
       "    </tr>\n",
       "  </thead>\n",
       "  <tbody>\n",
       "    <tr>\n",
       "      <th>0</th>\n",
       "      <td>0</td>\n",
       "      <td>50</td>\n",
       "      <td>released</td>\n",
       "      <td>3.0</td>\n",
       "      <td>0</td>\n",
       "      <td>0</td>\n",
       "      <td>0</td>\n",
       "      <td>0</td>\n",
       "      <td>0</td>\n",
       "      <td>0</td>\n",
       "      <td>...</td>\n",
       "      <td>0</td>\n",
       "      <td>0</td>\n",
       "      <td>0</td>\n",
       "      <td>0</td>\n",
       "      <td>0</td>\n",
       "      <td>0</td>\n",
       "      <td>0</td>\n",
       "      <td>0</td>\n",
       "      <td>1</td>\n",
       "      <td>0</td>\n",
       "    </tr>\n",
       "    <tr>\n",
       "      <th>1</th>\n",
       "      <td>0</td>\n",
       "      <td>30</td>\n",
       "      <td>released</td>\n",
       "      <td>10.0</td>\n",
       "      <td>0</td>\n",
       "      <td>0</td>\n",
       "      <td>0</td>\n",
       "      <td>0</td>\n",
       "      <td>0</td>\n",
       "      <td>0</td>\n",
       "      <td>...</td>\n",
       "      <td>0</td>\n",
       "      <td>0</td>\n",
       "      <td>0</td>\n",
       "      <td>0</td>\n",
       "      <td>0</td>\n",
       "      <td>0</td>\n",
       "      <td>0</td>\n",
       "      <td>0</td>\n",
       "      <td>1</td>\n",
       "      <td>0</td>\n",
       "    </tr>\n",
       "    <tr>\n",
       "      <th>2</th>\n",
       "      <td>0</td>\n",
       "      <td>50</td>\n",
       "      <td>released</td>\n",
       "      <td>10.0</td>\n",
       "      <td>0</td>\n",
       "      <td>0</td>\n",
       "      <td>0</td>\n",
       "      <td>0</td>\n",
       "      <td>0</td>\n",
       "      <td>0</td>\n",
       "      <td>...</td>\n",
       "      <td>0</td>\n",
       "      <td>0</td>\n",
       "      <td>0</td>\n",
       "      <td>0</td>\n",
       "      <td>0</td>\n",
       "      <td>0</td>\n",
       "      <td>0</td>\n",
       "      <td>0</td>\n",
       "      <td>1</td>\n",
       "      <td>0</td>\n",
       "    </tr>\n",
       "    <tr>\n",
       "      <th>3</th>\n",
       "      <td>0</td>\n",
       "      <td>20</td>\n",
       "      <td>released</td>\n",
       "      <td>10.0</td>\n",
       "      <td>0</td>\n",
       "      <td>0</td>\n",
       "      <td>0</td>\n",
       "      <td>0</td>\n",
       "      <td>0</td>\n",
       "      <td>0</td>\n",
       "      <td>...</td>\n",
       "      <td>0</td>\n",
       "      <td>0</td>\n",
       "      <td>0</td>\n",
       "      <td>0</td>\n",
       "      <td>0</td>\n",
       "      <td>0</td>\n",
       "      <td>0</td>\n",
       "      <td>0</td>\n",
       "      <td>1</td>\n",
       "      <td>0</td>\n",
       "    </tr>\n",
       "    <tr>\n",
       "      <th>4</th>\n",
       "      <td>1</td>\n",
       "      <td>20</td>\n",
       "      <td>released</td>\n",
       "      <td>11.0</td>\n",
       "      <td>0</td>\n",
       "      <td>0</td>\n",
       "      <td>0</td>\n",
       "      <td>0</td>\n",
       "      <td>0</td>\n",
       "      <td>0</td>\n",
       "      <td>...</td>\n",
       "      <td>0</td>\n",
       "      <td>0</td>\n",
       "      <td>0</td>\n",
       "      <td>0</td>\n",
       "      <td>0</td>\n",
       "      <td>0</td>\n",
       "      <td>0</td>\n",
       "      <td>0</td>\n",
       "      <td>1</td>\n",
       "      <td>0</td>\n",
       "    </tr>\n",
       "  </tbody>\n",
       "</table>\n",
       "<p>5 rows × 22 columns</p>\n",
       "</div>"
      ],
      "text/plain": [
       "   sex  age     state  Days since first case  Existing illness  Busan  \\\n",
       "0    0   50  released                    3.0                 0      0   \n",
       "1    0   30  released                   10.0                 0      0   \n",
       "2    0   50  released                   10.0                 0      0   \n",
       "3    0   20  released                   10.0                 0      0   \n",
       "4    1   20  released                   11.0                 0      0   \n",
       "\n",
       "   Chungcheongbuk-do  Chungcheongnam-do  Daegu  Daejeon  ...  Gyeonggi-do  \\\n",
       "0                  0                  0      0        0  ...            0   \n",
       "1                  0                  0      0        0  ...            0   \n",
       "2                  0                  0      0        0  ...            0   \n",
       "3                  0                  0      0        0  ...            0   \n",
       "4                  0                  0      0        0  ...            0   \n",
       "\n",
       "   Gyeongsangbuk-do  Gyeongsangnam-do  Incheon  Jeju-do  Jeollabuk-do  \\\n",
       "0                 0                 0        0        0             0   \n",
       "1                 0                 0        0        0             0   \n",
       "2                 0                 0        0        0             0   \n",
       "3                 0                 0        0        0             0   \n",
       "4                 0                 0        0        0             0   \n",
       "\n",
       "   Jeollanam-do  Sejong  Seoul  Ulsan  \n",
       "0             0       0      1      0  \n",
       "1             0       0      1      0  \n",
       "2             0       0      1      0  \n",
       "3             0       0      1      0  \n",
       "4             0       0      1      0  \n",
       "\n",
       "[5 rows x 22 columns]"
      ]
     },
     "execution_count": 9,
     "metadata": {},
     "output_type": "execute_result"
    }
   ],
   "source": [
    "# Reduce data \n",
    "df.drop(columns=['patient_id','infection_case', 'symptom_onset_date', 'global_num', 'birth_year', 'country', 'city', 'infection_order', 'infected_by', 'contact_number', 'released_date', 'deceased_date'], inplace = True)\n",
    "\n",
    "# New column \"Days since first case\"\n",
    "df['confirmed_date'] = pd.to_datetime(df['confirmed_date'], errors='coerce')\n",
    "firstCase = df['confirmed_date'].min()\n",
    "df['Days since first case'] = df['confirmed_date'] - firstCase\n",
    "df.drop(columns = ['confirmed_date'], inplace = True)\n",
    "\n",
    "# Binarising \n",
    "df = df[df['sex'].notna()]\n",
    "gender = {'male': 0,'female': 1} \n",
    "df.sex = [gender[item] for item in df.sex]\n",
    "\n",
    "# OneHotEncoding\n",
    "df = pd.get_dummies(df, columns=[\"disease\"], prefix='', prefix_sep='')\n",
    "df = pd.get_dummies(df, columns=[\"province\"], prefix='', prefix_sep='')\n",
    "\n",
    "# Clean age\n",
    "df['age'] = df['age'].str.replace(r's$', '')\n",
    "df = df[df['age'].notna()]\n",
    "df = df.astype({\"age\": int})\n",
    "\n",
    "# Convert timedeltas to integer\n",
    "df['Days since first case'] = df['Days since first case'].dt.days\n",
    "\n",
    "# Remove \"Isolated state\"\n",
    "df = df[df['state'] != 'isolated']\n",
    "\n",
    "# Rename a column\n",
    "df = df.rename(columns={'True': 'Existing illness'})\n",
    "\n",
    "df.head(5)"
   ]
  },
  {
   "cell_type": "markdown",
   "metadata": {},
   "source": [
    "A quick investigation of the dataframe to see if NaN's are present show that the dataset is complete and ready for modelling using 'Missingno' [1]. "
   ]
  },
  {
   "cell_type": "code",
   "execution_count": 10,
   "metadata": {},
   "outputs": [
    {
     "data": {
      "text/plain": [
       "<matplotlib.axes._subplots.AxesSubplot at 0x1a1bc3f5f8>"
      ]
     },
     "execution_count": 10,
     "metadata": {},
     "output_type": "execute_result"
    },
    {
     "data": {
      "image/png": "[encoded data removed]",
      "text/plain": [
       "<Figure size 1800x720 with 2 Axes>"
      ]
     },
     "metadata": {
      "needs_background": "light"
     },
     "output_type": "display_data"
    }
   ],
   "source": [
    "msno.matrix(df) # Nans will show up as empty space and indicated on the y-axis to the right if any exists"
   ]
  },
  {
   "cell_type": "markdown",
   "metadata": {},
   "source": [
    "## <span style=\"color:orange\">3:</span> Modelling "
   ]
  },
  {
   "cell_type": "markdown",
   "metadata": {},
   "source": [
    "In order to create the most robust and trustworthy model, the following steps will be executed:\n",
    "\n",
    "1. Create naive baseline model\n",
    "1. Create initial random forest classifier\n",
    "1. Feature selection \n",
    "1. Hyperparameter tuning \n",
    "1. Final model evaluation \n",
    "\n",
    "The same training and test dataset will be used for all models. The sklearning library will be used throughout this section [4]."
   ]
  },
  {
   "cell_type": "code",
   "execution_count": 11,
   "metadata": {},
   "outputs": [],
   "source": [
    "# Split into test and training data\n",
    "X = df.drop(columns = ['state'])\n",
    "y = df[['state']]\n",
    "X_train, X_test, y_train, y_test = train_test_split(X, y, test_size=0.40, shuffle=True, random_state=5)"
   ]
  },
  {
   "cell_type": "markdown",
   "metadata": {},
   "source": [
    "Additionally, as evaluation criteria it is important to note that 'accuracy' is a poor performance criteria as the dataset is extremely unbalanced as can be seen below."
   ]
  },
  {
   "cell_type": "code",
   "execution_count": 12,
   "metadata": {},
   "outputs": [
    {
     "data": {
      "text/plain": [
       "state\n",
       "deceased      69\n",
       "released    1858\n",
       "Name: state, dtype: int64"
      ]
     },
     "execution_count": 12,
     "metadata": {},
     "output_type": "execute_result"
    }
   ],
   "source": [
    "df.groupby('state')['state'].count()"
   ]
  },
  {
   "cell_type": "markdown",
   "metadata": {},
   "source": [
    "For imbalanced datasets, measures such as F-measure or AOC usually provide are better evaluation, however, these will still put a lot of weight on predicting who will survive as can be read in [2] [3]. However, considering the problem at hand, it will be much worse to classify a high-risk person as low-risk, than it will to classify a low-risk person as high-risk. As such, 'Recall' will be used as an evaluation criteria. Recall aims at improving how good the model is at finding positive samples, which in this instance is people that are predicted to die from COVID-19. "
   ]
  },
  {
   "cell_type": "markdown",
   "metadata": {},
   "source": [
    "### <span style=\"color:orange\">3.1:</span> Naive baseline model  "
   ]
  },
  {
   "cell_type": "code",
   "execution_count": 13,
   "metadata": {},
   "outputs": [
    {
     "name": "stdout",
     "output_type": "stream",
     "text": [
      "Recall:  [0. 1.]\n"
     ]
    },
    {
     "data": {
      "image/png": "[encoded data removed]",
      "text/plain": [
       "<Figure size 432x288 with 2 Axes>"
      ]
     },
     "metadata": {
      "needs_background": "light"
     },
     "output_type": "display_data"
    },
    {
     "data": {
      "image/png": "[encoded data removed]",
      "text/plain": [
       "<Figure size 432x288 with 2 Axes>"
      ]
     },
     "metadata": {
      "needs_background": "light"
     },
     "output_type": "display_data"
    }
   ],
   "source": [
    "# Train classifier\n",
    "dummy_clf = DummyClassifier(strategy=\"most_frequent\")\n",
    "dummy_clf.fit(X_train, y_train)\n",
    "\n",
    "# Predict\n",
    "y_pred = dummy_clf.predict(X_test)\n",
    "yhat = dummy_clf.predict_proba(X_test)\n",
    "y_prob = yhat[:, 1]\n",
    "\n",
    "# Evaluate\n",
    "eval_F1 = metrics.f1_score(y_test, y_pred, average=None)\n",
    "eval_AUC = metrics.roc_auc_score(y_test, y_prob)\n",
    "eval_Recall = metrics.recall_score(y_test, y_pred, average=None)\n",
    "\n",
    "# Print results\n",
    "print(\"Recall: \", eval_Recall)\n",
    "#print(\"AUC: \", eval_AUC)\n",
    "#print(\"\\nF1-score\\n\", \"deceased: \", eval_F1[0], \"\\n\", \"released: \", eval_F1[1])\n",
    "\n",
    "# Plot non-normalized confusion matrix\n",
    "titles_options = [(\"Confusion matrix, without normalization\", None), (\"Normalized confusion matrix\", 'true')]\n",
    "for title, normalize in titles_options:\n",
    "    disp = plot_confusion_matrix(dummy_clf, X_test, y_test, cmap=plt.cm.Blues, normalize=normalize)\n",
    "    disp.ax_.set_title(title)\n",
    "plt.show()"
   ]
  },
  {
   "cell_type": "markdown",
   "metadata": {},
   "source": [
    "Here it can be seen that the recall evaluates the model as useless, as it did not find a single positive person. \n",
    "\n",
    "By calculating the accuracy of the model it becomes apparent why this is not a good measure for the dataset."
   ]
  },
  {
   "cell_type": "code",
   "execution_count": 14,
   "metadata": {},
   "outputs": [
    {
     "name": "stdout",
     "output_type": "stream",
     "text": [
      "Accuracy for the dummy classifier is:  0.9610894941634242\n"
     ]
    }
   ],
   "source": [
    "print(\"Accuracy for the dummy classifier is: \", metrics.accuracy_score(y_test, y_pred))"
   ]
  },
  {
   "cell_type": "markdown",
   "metadata": {},
   "source": [
    "Not a very good evaluation criteria!"
   ]
  },
  {
   "cell_type": "markdown",
   "metadata": {},
   "source": [
    "### <span style=\"color:orange\">3.2:</span> Initial Random Forest Classification"
   ]
  },
  {
   "cell_type": "markdown",
   "metadata": {},
   "source": [
    "The initial model will be a simple model with best-guess parameters without any tuning. "
   ]
  },
  {
   "cell_type": "code",
   "execution_count": 15,
   "metadata": {},
   "outputs": [
    {
     "name": "stdout",
     "output_type": "stream",
     "text": [
      "Recall:  [0.33333333 1.        ]\n"
     ]
    },
    {
     "data": {
      "image/png": "[encoded data removed]",
      "text/plain": [
       "<Figure size 432x288 with 2 Axes>"
      ]
     },
     "metadata": {
      "needs_background": "light"
     },
     "output_type": "display_data"
    },
    {
     "data": {
      "image/png": "[encoded data removed]",
      "text/plain": [
       "<Figure size 432x288 with 2 Axes>"
      ]
     },
     "metadata": {
      "needs_background": "light"
     },
     "output_type": "display_data"
    }
   ],
   "source": [
    "# Build model\n",
    "clf = RandomForestClassifier(max_depth=5, random_state=5)\n",
    "clf = clf.fit(X_train,y_train.values.ravel())\n",
    "\n",
    "#Predict the response for test dataset\n",
    "y_pred = clf.predict(X_test)\n",
    "yhat = clf.predict_proba(X_test)\n",
    "y_prob = yhat[:, 1]\n",
    "\n",
    "# Evaluate\n",
    "eval_Recall = metrics.recall_score(y_test, y_pred, average=None)\n",
    "print(\"Recall: \", eval_Recall)\n",
    "\n",
    "# Plot non-normalized confusion matrix\n",
    "titles_options = [(\"Confusion matrix, without normalization\", None), (\"Normalized confusion matrix\", 'true')]\n",
    "for title, normalize in titles_options:\n",
    "    disp = plot_confusion_matrix(clf, X_test, y_test, cmap=plt.cm.Blues, normalize=normalize)\n",
    "    disp.ax_.set_title(title)\n",
    "plt.show()"
   ]
  },
  {
   "cell_type": "markdown",
   "metadata": {},
   "source": [
    "The model certainly performs better than the baseline, however, many of the deceased are still being misclassified as released and only 33% of deceased are being classified correctly."
   ]
  },
  {
   "cell_type": "markdown",
   "metadata": {},
   "source": [
    "### <span style=\"color:orange\">3.3:</span> Feature selection\n",
    "\n",
    "Although feature selection and hyperparameter tuning optimally is done simultaniously, [5] suggests performing feature selection after initial model construction and tuning hyperparameters after for simplicity. "
   ]
  },
  {
   "cell_type": "markdown",
   "metadata": {},
   "source": [
    "The features of the dataset will be investigated from three different angles:\n",
    "1. **Chi-squared testing:** Sklearn's Kbest\n",
    "1. **Feature importance:** From RFC\n",
    "1. **Pearson correlations:** Heatmap investigation\n",
    "\n"
   ]
  },
  {
   "cell_type": "markdown",
   "metadata": {},
   "source": [
    "#### <span style=\"color:orange\">3.3.1:</span> Kbest\n",
    "\n",
    "Kbest is a univariate feature selection that selects the best feature based on some univariate statistical test. Here the Chi-squared has been chosen. The statistical test essentially returns a p-value based on how important the feature is. "
   ]
  },
  {
   "cell_type": "code",
   "execution_count": 16,
   "metadata": {},
   "outputs": [
    {
     "name": "stdout",
     "output_type": "stream",
     "text": [
      "                  Feature        Score\n",
      "1                     age  1794.304616\n",
      "3        Existing illness   484.695652\n",
      "7                   Daegu   442.150362\n",
      "19                  Seoul    11.688245\n",
      "0                     sex     4.819397\n",
      "6       Chungcheongnam-do     4.716362\n",
      "12       Gyeongsangbuk-do     4.224252\n",
      "13       Gyeongsangnam-do     3.565124\n",
      "14                Incheon     2.042519\n",
      "2   Days since first case     1.960635\n",
      "18                 Sejong     1.485468\n",
      "5       Chungcheongbuk-do     1.448332\n",
      "8                 Daejeon     1.262648\n",
      "10                Gwangju     0.779871\n",
      "9              Gangwon-do     0.740068\n"
     ]
    }
   ],
   "source": [
    "# Extract top 15 best features\n",
    "bestfeatures = SelectKBest(score_func=chi2, k=15)\n",
    "fit = bestfeatures.fit(X,y)\n",
    "dfscores = pd.DataFrame(fit.scores_)\n",
    "dfcolumns = pd.DataFrame(X.columns)\n",
    "\n",
    "# Print scores\n",
    "featureScores = pd.concat([dfcolumns,dfscores],axis=1)\n",
    "featureScores.columns = ['Feature','Score'] \n",
    "print(featureScores.nlargest(15,'Score'))  "
   ]
  },
  {
   "cell_type": "markdown",
   "metadata": {},
   "source": [
    "'Age' and 'Existing illness' seems to be best predicters. However, Daegu seems to attract a score almost as high as 'Existing illness' which seems odd. "
   ]
  },
  {
   "cell_type": "markdown",
   "metadata": {},
   "source": [
    "#### <span style=\"color:orange\">3.3.2:</span> Feature importance\n",
    "\n",
    "When the random forest classifier decides which splits to make in each tree it is based on some impurity measure. The weighted averages of each impurity measure can be used as a feature evaluation criteria for the classifier with each value essentially describing how good the feature is at making pure splits in the tree."
   ]
  },
  {
   "cell_type": "code",
   "execution_count": 17,
   "metadata": {},
   "outputs": [
    {
     "data": {
      "image/png": "[encoded data removed]",
      "text/plain": [
       "<Figure size 432x288 with 1 Axes>"
      ]
     },
     "metadata": {
      "needs_background": "light"
     },
     "output_type": "display_data"
    }
   ],
   "source": [
    "feature_importance = pd.Series(clf.feature_importances_, index=X.columns)\n",
    "feature_importance.nlargest(15).plot(kind='barh')\n",
    "plt.show()"
   ]
  },
  {
   "cell_type": "markdown",
   "metadata": {},
   "source": [
    "The initial model seems to weigh existing illness highest, and Daegu as the second highest! Daegu seems to be the place not to be during COVID-19! ... Unless there could be some error in the data? "
   ]
  },
  {
   "cell_type": "markdown",
   "metadata": {},
   "source": [
    "#### <span style=\"color:orange\">3.3.3:</span> Pearson correlations\n",
    "\n",
    "The pearson correlation simply looks at how features are correlated, and albeit being a simple measure it can show tremendous amounts of insides in the dataset."
   ]
  },
  {
   "cell_type": "code",
   "execution_count": 18,
   "metadata": {},
   "outputs": [
    {
     "data": {
      "image/png": "[encoded data removed]",
      "text/plain": [
       "<Figure size 1440x1080 with 2 Axes>"
      ]
     },
     "metadata": {
      "needs_background": "light"
     },
     "output_type": "display_data"
    }
   ],
   "source": [
    "df_corr = pd.get_dummies(df, columns=[\"state\"], prefix='', prefix_sep='')\n",
    "plt.figure(figsize=(20,15))\n",
    "cor = df_corr.corr()\n",
    "sns.heatmap(cor, annot=True, cmap=plt.cm.Reds)\n",
    "plt.show()"
   ]
  },
  {
   "cell_type": "markdown",
   "metadata": {},
   "source": [
    "Here it can be seen that \"Age\", \"Existing illness\" and \"Daegu\" have the highest correlation with the labels \"Deceased\"/\"Released\". However, \"Daegu\" also have a very high correlation with \"Existing illness\" which might hint as to where the issue lies! After a quick analysis it can indeed be seen that the PatientInfo dataset has an issue with 'Daegu'. This can be seen from the fact that the other datasets contain significantly more information on 'Daegu' than the PatientInfo dataset why it seems some data has been lost. The data that has been left for 'Daegu' primarily consists of patients with Existing illness therefor heavily biasing the data towards this region. "
   ]
  },
  {
   "cell_type": "markdown",
   "metadata": {},
   "source": [
    "**In conclusion:** Daegu will be removed from the features due to quality issues and a heavy bias. The rest of the regions will be kept. Although they individually shows low importance as a sum they might improve the model. The feature removal will undoubtly remove some accuracy but it will make the results more reliable."
   ]
  },
  {
   "cell_type": "code",
   "execution_count": 19,
   "metadata": {},
   "outputs": [],
   "source": [
    "# Split into test and training data\n",
    "X = df.drop(columns = ['state', 'Daegu'])\n",
    "y = df[['state']]\n",
    "X_train, X_test, y_train, y_test = train_test_split(X, y, test_size=0.40, shuffle=True, random_state=5)"
   ]
  },
  {
   "cell_type": "markdown",
   "metadata": {},
   "source": [
    "### <span style=\"color:orange\">3.4:</span> Hyperparameter tuning"
   ]
  },
  {
   "cell_type": "markdown",
   "metadata": {},
   "source": [
    "The hyperparameter tuning of the model will be done using Grid Search Crossvalidation.\n",
    "Grid search cross validation selects an interval of the different parameters and completely exhausts combinations to find the optimal hyperparameters [6]."
   ]
  },
  {
   "cell_type": "code",
   "execution_count": 20,
   "metadata": {},
   "outputs": [],
   "source": [
    "# Setup parameters for tuning #20, 2, 20\n",
    "parameters = {\n",
    "    'max_depth': [2, 3, 5, 6, 8, 10, 20],\n",
    "    'max_features': [2, 3, 5, 10, 21],\n",
    "    'n_estimators': [5, 7, 10, 15, 20, 50, 100, 200]\n",
    "}"
   ]
  },
  {
   "cell_type": "code",
   "execution_count": 21,
   "metadata": {},
   "outputs": [],
   "source": [
    "# Construct 5-fold crossvalidation\n",
    "#CV = KFold(5,shuffle=True,random_state=5).split(X_train)\n",
    "\n",
    "# Setup evaluation and gridsearch\n",
    "#recall_scorer = make_scorer(recall_score, pos_label=\"deceased\")\n",
    "#rfc = GridSearchCV(RandomForestClassifier(random_state = 5), parameters,n_jobs=-1,scoring=recall_scorer,cv=CV)\n",
    "\n",
    "# Fit model\n",
    "#rfc.fit(X_train,y_train.values.ravel())\n",
    "\n",
    "# Print best parameters\n",
    "#print('Best parameters:',rfc.best_params_)\n",
    "\n",
    "# Evaluate results\n",
    "#y_pred = rfc.predict(X_test)\n",
    "#yhat = rfc.predict_proba(X_test)\n",
    "#y_prob = yhat[:, 1]\n",
    "\n",
    "# Print Recall\n",
    "#eval_Recall = metrics.recall_score(y_test, y_pred, average=None)\n",
    "#print(\"Recall: \", eval_Recall)"
   ]
  },
  {
   "cell_type": "code",
   "execution_count": 22,
   "metadata": {},
   "outputs": [
    {
     "name": "stdout",
     "output_type": "stream",
     "text": [
      "Recall:  [0.4        0.98920378]\n"
     ]
    }
   ],
   "source": [
    "# Train model with tuned parameters\n",
    "rfc = RandomForestClassifier(max_depth=20, max_features=2, n_estimators=20, random_state=5)\n",
    "rfc = rfc.fit(X_train,y_train.values.ravel())\n",
    "\n",
    "# Evaluate results\n",
    "y_pred = rfc.predict(X_test)\n",
    "yhat = rfc.predict_proba(X_test)\n",
    "y_prob = yhat[:, 1]\n",
    "\n",
    "# Print Recall\n",
    "eval_Recall = metrics.recall_score(y_test, y_pred, average=None)\n",
    "print(\"Recall: \", eval_Recall)"
   ]
  },
  {
   "cell_type": "markdown",
   "metadata": {},
   "source": [
    "Comparing to the baseline, the model slightly improves correct classifications for unseen data."
   ]
  },
  {
   "cell_type": "markdown",
   "metadata": {},
   "source": [
    "### <span style=\"color:orange\">3.5:</span> Final evaluation"
   ]
  },
  {
   "cell_type": "markdown",
   "metadata": {},
   "source": [
    "Tuning various parameters found that the best model predicts 40% of deceased correct for unseen data, slightly outperforming  the simple model as was seen above, and significantly outperforming the naive model. Performance on unseen data can be seen below.\n",
    "\n",
    "Altough the predictions seem bad, the model still predicts 70% correct for the whole dataset, and even correctly picking out 10 people from a total of 26 deceased out of 780 people of the test-set is still quite a feat. So whilst the model certainly does not perform good, it also certainly does not perform bad, and with more patient data it is very likely that the model could be improved even further. Extra data could be general health data such as weight, medical history, smoker/nonsmoker etc. \n",
    "\n",
    "**Model:** Random Forest Classifier\n",
    "\n",
    "**Parameters:** max_depth = 20, max_features = 2, n_estimators = 20"
   ]
  },
  {
   "cell_type": "code",
   "execution_count": 23,
   "metadata": {},
   "outputs": [
    {
     "data": {
      "image/png": "[encoded data removed]",
      "text/plain": [
       "<Figure size 432x288 with 2 Axes>"
      ]
     },
     "metadata": {
      "needs_background": "light"
     },
     "output_type": "display_data"
    },
    {
     "data": {
      "image/png": "[encoded data removed]",
      "text/plain": [
       "<Figure size 432x288 with 2 Axes>"
      ]
     },
     "metadata": {
      "needs_background": "light"
     },
     "output_type": "display_data"
    }
   ],
   "source": [
    "# Plot non-normalized confusion matrix\n",
    "titles_options = [(\"Confusion matrix, without normalization\", None), (\"Normalized confusion matrix\", 'true')]\n",
    "for title, normalize in titles_options:\n",
    "    disp = plot_confusion_matrix(rfc, X_test, y_test, cmap=plt.cm.Blues, normalize=normalize)\n",
    "    disp.ax_.set_title(title)\n",
    "plt.show()"
   ]
  },
  {
   "cell_type": "markdown",
   "metadata": {},
   "source": [
    "# <span style=\"color:orange\">4:</span> Interpretation"
   ]
  },
  {
   "cell_type": "markdown",
   "metadata": {},
   "source": [
    "The model will be interpreted in two ways:\n",
    "\n",
    "1. What features are the most important?\n",
    "2. How does the values of each feature affect the risk of death? "
   ]
  },
  {
   "cell_type": "markdown",
   "metadata": {},
   "source": [
    "## <span style=\"color:orange\">4.1:</span> Feature importance"
   ]
  },
  {
   "cell_type": "markdown",
   "metadata": {},
   "source": [
    "First, the model will be investigated by a simple feature importance using the RFC's impurity measure [7]. "
   ]
  },
  {
   "cell_type": "code",
   "execution_count": 24,
   "metadata": {},
   "outputs": [
    {
     "data": {
      "image/png": "[encoded data removed]",
      "text/plain": [
       "<Figure size 432x288 with 1 Axes>"
      ]
     },
     "metadata": {
      "needs_background": "light"
     },
     "output_type": "display_data"
    }
   ],
   "source": [
    "# Plot feature importance\n",
    "feature_importance = pd.Series(rfc.feature_importances_, index=X.columns)\n",
    "feature_importance.nlargest(21).plot(kind='barh')\n",
    "plt.show()"
   ]
  },
  {
   "cell_type": "markdown",
   "metadata": {},
   "source": [
    "Here it becomes evident that the days since first case is, in fact, a big predictor for whether someone will die or survive from the virus. Age and existing illness are also decent predictors, while regions and sex does not seem very good. The feature importance is the 'impurity feature importance' as described earlier. "
   ]
  },
  {
   "cell_type": "markdown",
   "metadata": {},
   "source": [
    "## <span style=\"color:orange\">4.2:</span> Prediction investigations"
   ]
  },
  {
   "cell_type": "markdown",
   "metadata": {},
   "source": [
    "Now, investigations as to how a deceased vs. a released person is predicted will be done using ELI5 [8]."
   ]
  },
  {
   "cell_type": "code",
   "execution_count": 25,
   "metadata": {},
   "outputs": [],
   "source": [
    "# Find deceased correct predictions\n",
    "predictions = rfc.predict(X_test)\n",
    "\n",
    "deceasedCorrect = [0, 0, 0, 0, 0, 0, 0, 0, 0, 0, 0, 0, 0, 0, 0]\n",
    "i = 0\n",
    "for n in range(0, len(y_test)):\n",
    "    if (predictions[n] == 'deceased') & (y_test.iloc[n,0] == 'deceased'):\n",
    "        deceasedCorrect[i] = n\n",
    "        i += 1\n",
    "        \n",
    "# Find deceased wrong predictions\n",
    "deceasedWrong = [0, 0, 0, 0, 0, 0, 0, 0, 0, 0, 0, 0, 0, 0, 0]\n",
    "i = 0\n",
    "for n in range(0, len(y_test)):\n",
    "    if (predictions[n] == 'deceased') & (y_test.iloc[n,0] == 'released'):\n",
    "        deceasedWrong[i] = n\n",
    "        i += 1\n",
    "        if i == 12:\n",
    "            break"
   ]
  },
  {
   "cell_type": "markdown",
   "metadata": {},
   "source": [
    "Here, two plots showing deceased correct predictions will be shown. "
   ]
  },
  {
   "cell_type": "code",
   "execution_count": 26,
   "metadata": {},
   "outputs": [
    {
     "name": "stdout",
     "output_type": "stream",
     "text": [
      "Actual Label: deceased\n"
     ]
    },
    {
     "data": {
      "text/html": [
       "\n",
       "    <style>\n",
       "    table.eli5-weights tr:hover {\n",
       "        filter: brightness(85%);\n",
       "    }\n",
       "</style>\n",
       "\n",
       "\n",
       "\n",
       "    \n",
       "\n",
       "    \n",
       "\n",
       "    \n",
       "\n",
       "    \n",
       "\n",
       "    \n",
       "\n",
       "    \n",
       "\n",
       "\n",
       "    \n",
       "\n",
       "    \n",
       "\n",
       "    \n",
       "\n",
       "    \n",
       "        \n",
       "\n",
       "    \n",
       "\n",
       "        \n",
       "            \n",
       "                \n",
       "                \n",
       "    \n",
       "        <p style=\"margin-bottom: 0.5em; margin-top: 0em\">\n",
       "            <b>\n",
       "    \n",
       "        y=deceased\n",
       "    \n",
       "</b>\n",
       "\n",
       "    \n",
       "    (probability <b>0.800</b>)\n",
       "\n",
       "top features\n",
       "        </p>\n",
       "    \n",
       "    <table class=\"eli5-weights\"\n",
       "           style=\"border-collapse: collapse; border: none; margin-top: 0em; table-layout: auto; margin-bottom: 2em;\">\n",
       "        <thead>\n",
       "        <tr style=\"border: none;\">\n",
       "            \n",
       "                <th style=\"padding: 0 1em 0 0.5em; text-align: right; border: none;\" title=\"Feature contribution already accounts for the feature value (for linear models, contribution = weight * feature value), and the sum of feature contributions is equal to the score or, for some classifiers, to the probability. Feature values are shown if &quot;show_feature_values&quot; is True.\">\n",
       "                    Contribution<sup>?</sup>\n",
       "                </th>\n",
       "            \n",
       "            <th style=\"padding: 0 0.5em 0 0.5em; text-align: left; border: none;\">Feature</th>\n",
       "            \n",
       "                <th style=\"padding: 0 0.5em 0 1em; text-align: right; border: none;\">Value</th>\n",
       "            \n",
       "        </tr>\n",
       "        </thead>\n",
       "        <tbody>\n",
       "        \n",
       "            <tr style=\"background-color: hsl(120, 100.00%, 80.00%); border: none;\">\n",
       "    <td style=\"padding: 0 1em 0 0.5em; text-align: right; border: none;\">\n",
       "        +0.578\n",
       "    </td>\n",
       "    <td style=\"padding: 0 0.5em 0 0.5em; text-align: left; border: none;\">\n",
       "        Existing illness\n",
       "    </td>\n",
       "    \n",
       "        <td style=\"padding: 0 0.5em 0 1em; text-align: right; border: none;\">\n",
       "            1.000\n",
       "        </td>\n",
       "    \n",
       "</tr>\n",
       "        \n",
       "            <tr style=\"background-color: hsl(120, 100.00%, 93.23%); border: none;\">\n",
       "    <td style=\"padding: 0 1em 0 0.5em; text-align: right; border: none;\">\n",
       "        +0.123\n",
       "    </td>\n",
       "    <td style=\"padding: 0 0.5em 0 0.5em; text-align: left; border: none;\">\n",
       "        age\n",
       "    </td>\n",
       "    \n",
       "        <td style=\"padding: 0 0.5em 0 1em; text-align: right; border: none;\">\n",
       "            70.000\n",
       "        </td>\n",
       "    \n",
       "</tr>\n",
       "        \n",
       "            <tr style=\"background-color: hsl(120, 100.00%, 96.75%); border: none;\">\n",
       "    <td style=\"padding: 0 1em 0 0.5em; text-align: right; border: none;\">\n",
       "        +0.043\n",
       "    </td>\n",
       "    <td style=\"padding: 0 0.5em 0 0.5em; text-align: left; border: none;\">\n",
       "        Incheon\n",
       "    </td>\n",
       "    \n",
       "        <td style=\"padding: 0 0.5em 0 1em; text-align: right; border: none;\">\n",
       "            0.000\n",
       "        </td>\n",
       "    \n",
       "</tr>\n",
       "        \n",
       "            <tr style=\"background-color: hsl(120, 100.00%, 97.25%); border: none;\">\n",
       "    <td style=\"padding: 0 1em 0 0.5em; text-align: right; border: none;\">\n",
       "        +0.034\n",
       "    </td>\n",
       "    <td style=\"padding: 0 0.5em 0 0.5em; text-align: left; border: none;\">\n",
       "        &lt;BIAS&gt;\n",
       "    </td>\n",
       "    \n",
       "        <td style=\"padding: 0 0.5em 0 1em; text-align: right; border: none;\">\n",
       "            1.000\n",
       "        </td>\n",
       "    \n",
       "</tr>\n",
       "        \n",
       "            <tr style=\"background-color: hsl(120, 100.00%, 97.86%); border: none;\">\n",
       "    <td style=\"padding: 0 1em 0 0.5em; text-align: right; border: none;\">\n",
       "        +0.024\n",
       "    </td>\n",
       "    <td style=\"padding: 0 0.5em 0 0.5em; text-align: left; border: none;\">\n",
       "        sex\n",
       "    </td>\n",
       "    \n",
       "        <td style=\"padding: 0 0.5em 0 1em; text-align: right; border: none;\">\n",
       "            0.000\n",
       "        </td>\n",
       "    \n",
       "</tr>\n",
       "        \n",
       "            <tr style=\"background-color: hsl(120, 100.00%, 98.86%); border: none;\">\n",
       "    <td style=\"padding: 0 1em 0 0.5em; text-align: right; border: none;\">\n",
       "        +0.010\n",
       "    </td>\n",
       "    <td style=\"padding: 0 0.5em 0 0.5em; text-align: left; border: none;\">\n",
       "        Gyeongsangbuk-do\n",
       "    </td>\n",
       "    \n",
       "        <td style=\"padding: 0 0.5em 0 1em; text-align: right; border: none;\">\n",
       "            0.000\n",
       "        </td>\n",
       "    \n",
       "</tr>\n",
       "        \n",
       "            <tr style=\"background-color: hsl(120, 100.00%, 99.15%); border: none;\">\n",
       "    <td style=\"padding: 0 1em 0 0.5em; text-align: right; border: none;\">\n",
       "        +0.006\n",
       "    </td>\n",
       "    <td style=\"padding: 0 0.5em 0 0.5em; text-align: left; border: none;\">\n",
       "        Seoul\n",
       "    </td>\n",
       "    \n",
       "        <td style=\"padding: 0 0.5em 0 1em; text-align: right; border: none;\">\n",
       "            0.000\n",
       "        </td>\n",
       "    \n",
       "</tr>\n",
       "        \n",
       "            <tr style=\"background-color: hsl(120, 100.00%, 99.18%); border: none;\">\n",
       "    <td style=\"padding: 0 1em 0 0.5em; text-align: right; border: none;\">\n",
       "        +0.006\n",
       "    </td>\n",
       "    <td style=\"padding: 0 0.5em 0 0.5em; text-align: left; border: none;\">\n",
       "        Daejeon\n",
       "    </td>\n",
       "    \n",
       "        <td style=\"padding: 0 0.5em 0 1em; text-align: right; border: none;\">\n",
       "            0.000\n",
       "        </td>\n",
       "    \n",
       "</tr>\n",
       "        \n",
       "            <tr style=\"background-color: hsl(120, 100.00%, 99.33%); border: none;\">\n",
       "    <td style=\"padding: 0 1em 0 0.5em; text-align: right; border: none;\">\n",
       "        +0.004\n",
       "    </td>\n",
       "    <td style=\"padding: 0 0.5em 0 0.5em; text-align: left; border: none;\">\n",
       "        Busan\n",
       "    </td>\n",
       "    \n",
       "        <td style=\"padding: 0 0.5em 0 1em; text-align: right; border: none;\">\n",
       "            0.000\n",
       "        </td>\n",
       "    \n",
       "</tr>\n",
       "        \n",
       "            <tr style=\"background-color: hsl(120, 100.00%, 99.50%); border: none;\">\n",
       "    <td style=\"padding: 0 1em 0 0.5em; text-align: right; border: none;\">\n",
       "        +0.003\n",
       "    </td>\n",
       "    <td style=\"padding: 0 0.5em 0 0.5em; text-align: left; border: none;\">\n",
       "        Chungcheongbuk-do\n",
       "    </td>\n",
       "    \n",
       "        <td style=\"padding: 0 0.5em 0 1em; text-align: right; border: none;\">\n",
       "            0.000\n",
       "        </td>\n",
       "    \n",
       "</tr>\n",
       "        \n",
       "            <tr style=\"background-color: hsl(120, 100.00%, 99.70%); border: none;\">\n",
       "    <td style=\"padding: 0 1em 0 0.5em; text-align: right; border: none;\">\n",
       "        +0.001\n",
       "    </td>\n",
       "    <td style=\"padding: 0 0.5em 0 0.5em; text-align: left; border: none;\">\n",
       "        Ulsan\n",
       "    </td>\n",
       "    \n",
       "        <td style=\"padding: 0 0.5em 0 1em; text-align: right; border: none;\">\n",
       "            0.000\n",
       "        </td>\n",
       "    \n",
       "</tr>\n",
       "        \n",
       "            <tr style=\"background-color: hsl(120, 100.00%, 99.73%); border: none;\">\n",
       "    <td style=\"padding: 0 1em 0 0.5em; text-align: right; border: none;\">\n",
       "        +0.001\n",
       "    </td>\n",
       "    <td style=\"padding: 0 0.5em 0 0.5em; text-align: left; border: none;\">\n",
       "        Gyeongsangnam-do\n",
       "    </td>\n",
       "    \n",
       "        <td style=\"padding: 0 0.5em 0 1em; text-align: right; border: none;\">\n",
       "            0.000\n",
       "        </td>\n",
       "    \n",
       "</tr>\n",
       "        \n",
       "            <tr style=\"background-color: hsl(120, 100.00%, 99.78%); border: none;\">\n",
       "    <td style=\"padding: 0 1em 0 0.5em; text-align: right; border: none;\">\n",
       "        +0.001\n",
       "    </td>\n",
       "    <td style=\"padding: 0 0.5em 0 0.5em; text-align: left; border: none;\">\n",
       "        Chungcheongnam-do\n",
       "    </td>\n",
       "    \n",
       "        <td style=\"padding: 0 0.5em 0 1em; text-align: right; border: none;\">\n",
       "            0.000\n",
       "        </td>\n",
       "    \n",
       "</tr>\n",
       "        \n",
       "            <tr style=\"background-color: hsl(120, 100.00%, 99.79%); border: none;\">\n",
       "    <td style=\"padding: 0 1em 0 0.5em; text-align: right; border: none;\">\n",
       "        +0.001\n",
       "    </td>\n",
       "    <td style=\"padding: 0 0.5em 0 0.5em; text-align: left; border: none;\">\n",
       "        Gyeonggi-do\n",
       "    </td>\n",
       "    \n",
       "        <td style=\"padding: 0 0.5em 0 1em; text-align: right; border: none;\">\n",
       "            0.000\n",
       "        </td>\n",
       "    \n",
       "</tr>\n",
       "        \n",
       "            <tr style=\"background-color: hsl(120, 100.00%, 99.83%); border: none;\">\n",
       "    <td style=\"padding: 0 1em 0 0.5em; text-align: right; border: none;\">\n",
       "        +0.001\n",
       "    </td>\n",
       "    <td style=\"padding: 0 0.5em 0 0.5em; text-align: left; border: none;\">\n",
       "        Sejong\n",
       "    </td>\n",
       "    \n",
       "        <td style=\"padding: 0 0.5em 0 1em; text-align: right; border: none;\">\n",
       "            0.000\n",
       "        </td>\n",
       "    \n",
       "</tr>\n",
       "        \n",
       "            <tr style=\"background-color: hsl(120, 100.00%, 99.88%); border: none;\">\n",
       "    <td style=\"padding: 0 1em 0 0.5em; text-align: right; border: none;\">\n",
       "        +0.000\n",
       "    </td>\n",
       "    <td style=\"padding: 0 0.5em 0 0.5em; text-align: left; border: none;\">\n",
       "        Jeju-do\n",
       "    </td>\n",
       "    \n",
       "        <td style=\"padding: 0 0.5em 0 1em; text-align: right; border: none;\">\n",
       "            0.000\n",
       "        </td>\n",
       "    \n",
       "</tr>\n",
       "        \n",
       "            <tr style=\"background-color: hsl(120, 100.00%, 99.96%); border: none;\">\n",
       "    <td style=\"padding: 0 1em 0 0.5em; text-align: right; border: none;\">\n",
       "        +0.000\n",
       "    </td>\n",
       "    <td style=\"padding: 0 0.5em 0 0.5em; text-align: left; border: none;\">\n",
       "        Gwangju\n",
       "    </td>\n",
       "    \n",
       "        <td style=\"padding: 0 0.5em 0 1em; text-align: right; border: none;\">\n",
       "            0.000\n",
       "        </td>\n",
       "    \n",
       "</tr>\n",
       "        \n",
       "            <tr style=\"background-color: hsl(120, 100.00%, 99.99%); border: none;\">\n",
       "    <td style=\"padding: 0 1em 0 0.5em; text-align: right; border: none;\">\n",
       "        +0.000\n",
       "    </td>\n",
       "    <td style=\"padding: 0 0.5em 0 0.5em; text-align: left; border: none;\">\n",
       "        Jeollabuk-do\n",
       "    </td>\n",
       "    \n",
       "        <td style=\"padding: 0 0.5em 0 1em; text-align: right; border: none;\">\n",
       "            0.000\n",
       "        </td>\n",
       "    \n",
       "</tr>\n",
       "        \n",
       "            <tr style=\"background-color: hsl(120, 100.00%, 100.00%); border: none;\">\n",
       "    <td style=\"padding: 0 1em 0 0.5em; text-align: right; border: none;\">\n",
       "        +0.000\n",
       "    </td>\n",
       "    <td style=\"padding: 0 0.5em 0 0.5em; text-align: left; border: none;\">\n",
       "        Jeollanam-do\n",
       "    </td>\n",
       "    \n",
       "        <td style=\"padding: 0 0.5em 0 1em; text-align: right; border: none;\">\n",
       "            0.000\n",
       "        </td>\n",
       "    \n",
       "</tr>\n",
       "        \n",
       "        \n",
       "\n",
       "        \n",
       "        \n",
       "            <tr style=\"background-color: hsl(0, 100.00%, 99.92%); border: none;\">\n",
       "    <td style=\"padding: 0 1em 0 0.5em; text-align: right; border: none;\">\n",
       "        -0.000\n",
       "    </td>\n",
       "    <td style=\"padding: 0 0.5em 0 0.5em; text-align: left; border: none;\">\n",
       "        Gangwon-do\n",
       "    </td>\n",
       "    \n",
       "        <td style=\"padding: 0 0.5em 0 1em; text-align: right; border: none;\">\n",
       "            0.000\n",
       "        </td>\n",
       "    \n",
       "</tr>\n",
       "        \n",
       "            <tr style=\"background-color: hsl(0, 100.00%, 97.11%); border: none;\">\n",
       "    <td style=\"padding: 0 1em 0 0.5em; text-align: right; border: none;\">\n",
       "        -0.036\n",
       "    </td>\n",
       "    <td style=\"padding: 0 0.5em 0 0.5em; text-align: left; border: none;\">\n",
       "        Days since first case\n",
       "    </td>\n",
       "    \n",
       "        <td style=\"padding: 0 0.5em 0 1em; text-align: right; border: none;\">\n",
       "            48.000\n",
       "        </td>\n",
       "    \n",
       "</tr>\n",
       "        \n",
       "\n",
       "        </tbody>\n",
       "    </table>\n",
       "\n",
       "            \n",
       "        \n",
       "\n",
       "        \n",
       "\n",
       "\n",
       "\n",
       "    \n",
       "\n",
       "    \n",
       "\n",
       "    \n",
       "\n",
       "    \n",
       "\n",
       "\n",
       "    \n",
       "\n",
       "    \n",
       "\n",
       "    \n",
       "\n",
       "    \n",
       "\n",
       "    \n",
       "\n",
       "    \n",
       "\n",
       "\n",
       "    \n",
       "\n",
       "    \n",
       "\n",
       "    \n",
       "\n",
       "    \n",
       "\n",
       "    \n",
       "\n",
       "    \n",
       "\n",
       "\n",
       "\n"
      ],
      "text/plain": [
       "<IPython.core.display.HTML object>"
      ]
     },
     "execution_count": 26,
     "metadata": {},
     "output_type": "execute_result"
    }
   ],
   "source": [
    "# deceasedCorrect \n",
    "i = deceasedCorrect[3]\n",
    "print('Actual Label:', y_test.iloc[i,0])\n",
    "show_prediction(rfc, X_test.iloc[[i]], show_feature_values=True, feature_names = X.columns.to_numpy())"
   ]
  },
  {
   "cell_type": "code",
   "execution_count": 27,
   "metadata": {},
   "outputs": [
    {
     "name": "stdout",
     "output_type": "stream",
     "text": [
      "Actual Label: deceased\n"
     ]
    },
    {
     "data": {
      "text/html": [
       "\n",
       "    <style>\n",
       "    table.eli5-weights tr:hover {\n",
       "        filter: brightness(85%);\n",
       "    }\n",
       "</style>\n",
       "\n",
       "\n",
       "\n",
       "    \n",
       "\n",
       "    \n",
       "\n",
       "    \n",
       "\n",
       "    \n",
       "\n",
       "    \n",
       "\n",
       "    \n",
       "\n",
       "\n",
       "    \n",
       "\n",
       "    \n",
       "\n",
       "    \n",
       "\n",
       "    \n",
       "        \n",
       "\n",
       "    \n",
       "\n",
       "        \n",
       "            \n",
       "                \n",
       "                \n",
       "    \n",
       "        <p style=\"margin-bottom: 0.5em; margin-top: 0em\">\n",
       "            <b>\n",
       "    \n",
       "        y=deceased\n",
       "    \n",
       "</b>\n",
       "\n",
       "    \n",
       "    (probability <b>0.792</b>)\n",
       "\n",
       "top features\n",
       "        </p>\n",
       "    \n",
       "    <table class=\"eli5-weights\"\n",
       "           style=\"border-collapse: collapse; border: none; margin-top: 0em; table-layout: auto; margin-bottom: 2em;\">\n",
       "        <thead>\n",
       "        <tr style=\"border: none;\">\n",
       "            \n",
       "                <th style=\"padding: 0 1em 0 0.5em; text-align: right; border: none;\" title=\"Feature contribution already accounts for the feature value (for linear models, contribution = weight * feature value), and the sum of feature contributions is equal to the score or, for some classifiers, to the probability. Feature values are shown if &quot;show_feature_values&quot; is True.\">\n",
       "                    Contribution<sup>?</sup>\n",
       "                </th>\n",
       "            \n",
       "            <th style=\"padding: 0 0.5em 0 0.5em; text-align: left; border: none;\">Feature</th>\n",
       "            \n",
       "                <th style=\"padding: 0 0.5em 0 1em; text-align: right; border: none;\">Value</th>\n",
       "            \n",
       "        </tr>\n",
       "        </thead>\n",
       "        <tbody>\n",
       "        \n",
       "            <tr style=\"background-color: hsl(120, 100.00%, 80.00%); border: none;\">\n",
       "    <td style=\"padding: 0 1em 0 0.5em; text-align: right; border: none;\">\n",
       "        +0.302\n",
       "    </td>\n",
       "    <td style=\"padding: 0 0.5em 0 0.5em; text-align: left; border: none;\">\n",
       "        age\n",
       "    </td>\n",
       "    \n",
       "        <td style=\"padding: 0 0.5em 0 1em; text-align: right; border: none;\">\n",
       "            70.000\n",
       "        </td>\n",
       "    \n",
       "</tr>\n",
       "        \n",
       "            <tr style=\"background-color: hsl(120, 100.00%, 80.26%); border: none;\">\n",
       "    <td style=\"padding: 0 1em 0 0.5em; text-align: right; border: none;\">\n",
       "        +0.296\n",
       "    </td>\n",
       "    <td style=\"padding: 0 0.5em 0 0.5em; text-align: left; border: none;\">\n",
       "        Days since first case\n",
       "    </td>\n",
       "    \n",
       "        <td style=\"padding: 0 0.5em 0 1em; text-align: right; border: none;\">\n",
       "            60.000\n",
       "        </td>\n",
       "    \n",
       "</tr>\n",
       "        \n",
       "            <tr style=\"background-color: hsl(120, 100.00%, 89.72%); border: none;\">\n",
       "    <td style=\"padding: 0 1em 0 0.5em; text-align: right; border: none;\">\n",
       "        +0.117\n",
       "    </td>\n",
       "    <td style=\"padding: 0 0.5em 0 0.5em; text-align: left; border: none;\">\n",
       "        sex\n",
       "    </td>\n",
       "    \n",
       "        <td style=\"padding: 0 0.5em 0 1em; text-align: right; border: none;\">\n",
       "            0.000\n",
       "        </td>\n",
       "    \n",
       "</tr>\n",
       "        \n",
       "            <tr style=\"background-color: hsl(120, 100.00%, 95.66%); border: none;\">\n",
       "    <td style=\"padding: 0 1em 0 0.5em; text-align: right; border: none;\">\n",
       "        +0.034\n",
       "    </td>\n",
       "    <td style=\"padding: 0 0.5em 0 0.5em; text-align: left; border: none;\">\n",
       "        &lt;BIAS&gt;\n",
       "    </td>\n",
       "    \n",
       "        <td style=\"padding: 0 0.5em 0 1em; text-align: right; border: none;\">\n",
       "            1.000\n",
       "        </td>\n",
       "    \n",
       "</tr>\n",
       "        \n",
       "            <tr style=\"background-color: hsl(120, 100.00%, 97.15%); border: none;\">\n",
       "    <td style=\"padding: 0 1em 0 0.5em; text-align: right; border: none;\">\n",
       "        +0.019\n",
       "    </td>\n",
       "    <td style=\"padding: 0 0.5em 0 0.5em; text-align: left; border: none;\">\n",
       "        Gyeongsangbuk-do\n",
       "    </td>\n",
       "    \n",
       "        <td style=\"padding: 0 0.5em 0 1em; text-align: right; border: none;\">\n",
       "            1.000\n",
       "        </td>\n",
       "    \n",
       "</tr>\n",
       "        \n",
       "            <tr style=\"background-color: hsl(120, 100.00%, 98.04%); border: none;\">\n",
       "    <td style=\"padding: 0 1em 0 0.5em; text-align: right; border: none;\">\n",
       "        +0.011\n",
       "    </td>\n",
       "    <td style=\"padding: 0 0.5em 0 0.5em; text-align: left; border: none;\">\n",
       "        Seoul\n",
       "    </td>\n",
       "    \n",
       "        <td style=\"padding: 0 0.5em 0 1em; text-align: right; border: none;\">\n",
       "            0.000\n",
       "        </td>\n",
       "    \n",
       "</tr>\n",
       "        \n",
       "            <tr style=\"background-color: hsl(120, 100.00%, 98.63%); border: none;\">\n",
       "    <td style=\"padding: 0 1em 0 0.5em; text-align: right; border: none;\">\n",
       "        +0.007\n",
       "    </td>\n",
       "    <td style=\"padding: 0 0.5em 0 0.5em; text-align: left; border: none;\">\n",
       "        Chungcheongbuk-do\n",
       "    </td>\n",
       "    \n",
       "        <td style=\"padding: 0 0.5em 0 1em; text-align: right; border: none;\">\n",
       "            0.000\n",
       "        </td>\n",
       "    \n",
       "</tr>\n",
       "        \n",
       "            <tr style=\"background-color: hsl(120, 100.00%, 98.78%); border: none;\">\n",
       "    <td style=\"padding: 0 1em 0 0.5em; text-align: right; border: none;\">\n",
       "        +0.006\n",
       "    </td>\n",
       "    <td style=\"padding: 0 0.5em 0 0.5em; text-align: left; border: none;\">\n",
       "        Daejeon\n",
       "    </td>\n",
       "    \n",
       "        <td style=\"padding: 0 0.5em 0 1em; text-align: right; border: none;\">\n",
       "            0.000\n",
       "        </td>\n",
       "    \n",
       "</tr>\n",
       "        \n",
       "            <tr style=\"background-color: hsl(120, 100.00%, 98.78%); border: none;\">\n",
       "    <td style=\"padding: 0 1em 0 0.5em; text-align: right; border: none;\">\n",
       "        +0.006\n",
       "    </td>\n",
       "    <td style=\"padding: 0 0.5em 0 0.5em; text-align: left; border: none;\">\n",
       "        Busan\n",
       "    </td>\n",
       "    \n",
       "        <td style=\"padding: 0 0.5em 0 1em; text-align: right; border: none;\">\n",
       "            0.000\n",
       "        </td>\n",
       "    \n",
       "</tr>\n",
       "        \n",
       "            <tr style=\"background-color: hsl(120, 100.00%, 99.09%); border: none;\">\n",
       "    <td style=\"padding: 0 1em 0 0.5em; text-align: right; border: none;\">\n",
       "        +0.004\n",
       "    </td>\n",
       "    <td style=\"padding: 0 0.5em 0 0.5em; text-align: left; border: none;\">\n",
       "        Ulsan\n",
       "    </td>\n",
       "    \n",
       "        <td style=\"padding: 0 0.5em 0 1em; text-align: right; border: none;\">\n",
       "            0.000\n",
       "        </td>\n",
       "    \n",
       "</tr>\n",
       "        \n",
       "            <tr style=\"background-color: hsl(120, 100.00%, 99.18%); border: none;\">\n",
       "    <td style=\"padding: 0 1em 0 0.5em; text-align: right; border: none;\">\n",
       "        +0.003\n",
       "    </td>\n",
       "    <td style=\"padding: 0 0.5em 0 0.5em; text-align: left; border: none;\">\n",
       "        Sejong\n",
       "    </td>\n",
       "    \n",
       "        <td style=\"padding: 0 0.5em 0 1em; text-align: right; border: none;\">\n",
       "            0.000\n",
       "        </td>\n",
       "    \n",
       "</tr>\n",
       "        \n",
       "            <tr style=\"background-color: hsl(120, 100.00%, 99.55%); border: none;\">\n",
       "    <td style=\"padding: 0 1em 0 0.5em; text-align: right; border: none;\">\n",
       "        +0.001\n",
       "    </td>\n",
       "    <td style=\"padding: 0 0.5em 0 0.5em; text-align: left; border: none;\">\n",
       "        Gyeongsangnam-do\n",
       "    </td>\n",
       "    \n",
       "        <td style=\"padding: 0 0.5em 0 1em; text-align: right; border: none;\">\n",
       "            0.000\n",
       "        </td>\n",
       "    \n",
       "</tr>\n",
       "        \n",
       "            <tr style=\"background-color: hsl(120, 100.00%, 99.64%); border: none;\">\n",
       "    <td style=\"padding: 0 1em 0 0.5em; text-align: right; border: none;\">\n",
       "        +0.001\n",
       "    </td>\n",
       "    <td style=\"padding: 0 0.5em 0 0.5em; text-align: left; border: none;\">\n",
       "        Gyeonggi-do\n",
       "    </td>\n",
       "    \n",
       "        <td style=\"padding: 0 0.5em 0 1em; text-align: right; border: none;\">\n",
       "            0.000\n",
       "        </td>\n",
       "    \n",
       "</tr>\n",
       "        \n",
       "            <tr style=\"background-color: hsl(120, 100.00%, 99.64%); border: none;\">\n",
       "    <td style=\"padding: 0 1em 0 0.5em; text-align: right; border: none;\">\n",
       "        +0.001\n",
       "    </td>\n",
       "    <td style=\"padding: 0 0.5em 0 0.5em; text-align: left; border: none;\">\n",
       "        Chungcheongnam-do\n",
       "    </td>\n",
       "    \n",
       "        <td style=\"padding: 0 0.5em 0 1em; text-align: right; border: none;\">\n",
       "            0.000\n",
       "        </td>\n",
       "    \n",
       "</tr>\n",
       "        \n",
       "            <tr style=\"background-color: hsl(120, 100.00%, 99.75%); border: none;\">\n",
       "    <td style=\"padding: 0 1em 0 0.5em; text-align: right; border: none;\">\n",
       "        +0.001\n",
       "    </td>\n",
       "    <td style=\"padding: 0 0.5em 0 0.5em; text-align: left; border: none;\">\n",
       "        Gwangju\n",
       "    </td>\n",
       "    \n",
       "        <td style=\"padding: 0 0.5em 0 1em; text-align: right; border: none;\">\n",
       "            0.000\n",
       "        </td>\n",
       "    \n",
       "</tr>\n",
       "        \n",
       "            <tr style=\"background-color: hsl(120, 100.00%, 99.85%); border: none;\">\n",
       "    <td style=\"padding: 0 1em 0 0.5em; text-align: right; border: none;\">\n",
       "        +0.000\n",
       "    </td>\n",
       "    <td style=\"padding: 0 0.5em 0 0.5em; text-align: left; border: none;\">\n",
       "        Incheon\n",
       "    </td>\n",
       "    \n",
       "        <td style=\"padding: 0 0.5em 0 1em; text-align: right; border: none;\">\n",
       "            0.000\n",
       "        </td>\n",
       "    \n",
       "</tr>\n",
       "        \n",
       "            <tr style=\"background-color: hsl(120, 100.00%, 99.99%); border: none;\">\n",
       "    <td style=\"padding: 0 1em 0 0.5em; text-align: right; border: none;\">\n",
       "        +0.000\n",
       "    </td>\n",
       "    <td style=\"padding: 0 0.5em 0 0.5em; text-align: left; border: none;\">\n",
       "        Jeju-do\n",
       "    </td>\n",
       "    \n",
       "        <td style=\"padding: 0 0.5em 0 1em; text-align: right; border: none;\">\n",
       "            0.000\n",
       "        </td>\n",
       "    \n",
       "</tr>\n",
       "        \n",
       "            <tr style=\"background-color: hsl(120, 100.00%, 99.99%); border: none;\">\n",
       "    <td style=\"padding: 0 1em 0 0.5em; text-align: right; border: none;\">\n",
       "        +0.000\n",
       "    </td>\n",
       "    <td style=\"padding: 0 0.5em 0 0.5em; text-align: left; border: none;\">\n",
       "        Jeollabuk-do\n",
       "    </td>\n",
       "    \n",
       "        <td style=\"padding: 0 0.5em 0 1em; text-align: right; border: none;\">\n",
       "            0.000\n",
       "        </td>\n",
       "    \n",
       "</tr>\n",
       "        \n",
       "            <tr style=\"background-color: hsl(120, 100.00%, 100.00%); border: none;\">\n",
       "    <td style=\"padding: 0 1em 0 0.5em; text-align: right; border: none;\">\n",
       "        +0.000\n",
       "    </td>\n",
       "    <td style=\"padding: 0 0.5em 0 0.5em; text-align: left; border: none;\">\n",
       "        Jeollanam-do\n",
       "    </td>\n",
       "    \n",
       "        <td style=\"padding: 0 0.5em 0 1em; text-align: right; border: none;\">\n",
       "            0.000\n",
       "        </td>\n",
       "    \n",
       "</tr>\n",
       "        \n",
       "        \n",
       "\n",
       "        \n",
       "        \n",
       "            <tr style=\"background-color: hsl(0, 100.00%, 99.87%); border: none;\">\n",
       "    <td style=\"padding: 0 1em 0 0.5em; text-align: right; border: none;\">\n",
       "        -0.000\n",
       "    </td>\n",
       "    <td style=\"padding: 0 0.5em 0 0.5em; text-align: left; border: none;\">\n",
       "        Gangwon-do\n",
       "    </td>\n",
       "    \n",
       "        <td style=\"padding: 0 0.5em 0 1em; text-align: right; border: none;\">\n",
       "            0.000\n",
       "        </td>\n",
       "    \n",
       "</tr>\n",
       "        \n",
       "            <tr style=\"background-color: hsl(0, 100.00%, 97.64%); border: none;\">\n",
       "    <td style=\"padding: 0 1em 0 0.5em; text-align: right; border: none;\">\n",
       "        -0.014\n",
       "    </td>\n",
       "    <td style=\"padding: 0 0.5em 0 0.5em; text-align: left; border: none;\">\n",
       "        Existing illness\n",
       "    </td>\n",
       "    \n",
       "        <td style=\"padding: 0 0.5em 0 1em; text-align: right; border: none;\">\n",
       "            0.000\n",
       "        </td>\n",
       "    \n",
       "</tr>\n",
       "        \n",
       "\n",
       "        </tbody>\n",
       "    </table>\n",
       "\n",
       "            \n",
       "        \n",
       "\n",
       "        \n",
       "\n",
       "\n",
       "\n",
       "    \n",
       "\n",
       "    \n",
       "\n",
       "    \n",
       "\n",
       "    \n",
       "\n",
       "\n",
       "    \n",
       "\n",
       "    \n",
       "\n",
       "    \n",
       "\n",
       "    \n",
       "\n",
       "    \n",
       "\n",
       "    \n",
       "\n",
       "\n",
       "    \n",
       "\n",
       "    \n",
       "\n",
       "    \n",
       "\n",
       "    \n",
       "\n",
       "    \n",
       "\n",
       "    \n",
       "\n",
       "\n",
       "\n"
      ],
      "text/plain": [
       "<IPython.core.display.HTML object>"
      ]
     },
     "execution_count": 27,
     "metadata": {},
     "output_type": "execute_result"
    }
   ],
   "source": [
    "# deceasedCorrect \n",
    "i = deceasedCorrect[4]\n",
    "print('Actual Label:', y_test.iloc[i,0])\n",
    "show_prediction(rfc, X_test.iloc[[i]], show_feature_values=True, feature_names = X.columns.to_numpy())"
   ]
  },
  {
   "cell_type": "markdown",
   "metadata": {},
   "source": [
    "From the two predictions it can be seen that both existing illness and age are big predicters. But also that days since first case and sex have some say.\n",
    "\n",
    "Below, wrong predictions and 'released' predictions will be shown."
   ]
  },
  {
   "cell_type": "code",
   "execution_count": 28,
   "metadata": {},
   "outputs": [
    {
     "name": "stdout",
     "output_type": "stream",
     "text": [
      "Actual Label: released\n"
     ]
    },
    {
     "data": {
      "text/html": [
       "\n",
       "    <style>\n",
       "    table.eli5-weights tr:hover {\n",
       "        filter: brightness(85%);\n",
       "    }\n",
       "</style>\n",
       "\n",
       "\n",
       "\n",
       "    \n",
       "\n",
       "    \n",
       "\n",
       "    \n",
       "\n",
       "    \n",
       "\n",
       "    \n",
       "\n",
       "    \n",
       "\n",
       "\n",
       "    \n",
       "\n",
       "    \n",
       "\n",
       "    \n",
       "\n",
       "    \n",
       "        \n",
       "\n",
       "    \n",
       "\n",
       "        \n",
       "            \n",
       "                \n",
       "                \n",
       "    \n",
       "        <p style=\"margin-bottom: 0.5em; margin-top: 0em\">\n",
       "            <b>\n",
       "    \n",
       "        y=deceased\n",
       "    \n",
       "</b>\n",
       "\n",
       "    \n",
       "    (probability <b>0.725</b>)\n",
       "\n",
       "top features\n",
       "        </p>\n",
       "    \n",
       "    <table class=\"eli5-weights\"\n",
       "           style=\"border-collapse: collapse; border: none; margin-top: 0em; table-layout: auto; margin-bottom: 2em;\">\n",
       "        <thead>\n",
       "        <tr style=\"border: none;\">\n",
       "            \n",
       "                <th style=\"padding: 0 1em 0 0.5em; text-align: right; border: none;\" title=\"Feature contribution already accounts for the feature value (for linear models, contribution = weight * feature value), and the sum of feature contributions is equal to the score or, for some classifiers, to the probability. Feature values are shown if &quot;show_feature_values&quot; is True.\">\n",
       "                    Contribution<sup>?</sup>\n",
       "                </th>\n",
       "            \n",
       "            <th style=\"padding: 0 0.5em 0 0.5em; text-align: left; border: none;\">Feature</th>\n",
       "            \n",
       "                <th style=\"padding: 0 0.5em 0 1em; text-align: right; border: none;\">Value</th>\n",
       "            \n",
       "        </tr>\n",
       "        </thead>\n",
       "        <tbody>\n",
       "        \n",
       "            <tr style=\"background-color: hsl(120, 100.00%, 80.00%); border: none;\">\n",
       "    <td style=\"padding: 0 1em 0 0.5em; text-align: right; border: none;\">\n",
       "        +0.512\n",
       "    </td>\n",
       "    <td style=\"padding: 0 0.5em 0 0.5em; text-align: left; border: none;\">\n",
       "        Days since first case\n",
       "    </td>\n",
       "    \n",
       "        <td style=\"padding: 0 0.5em 0 1em; text-align: right; border: none;\">\n",
       "            39.000\n",
       "        </td>\n",
       "    \n",
       "</tr>\n",
       "        \n",
       "            <tr style=\"background-color: hsl(120, 100.00%, 88.61%); border: none;\">\n",
       "    <td style=\"padding: 0 1em 0 0.5em; text-align: right; border: none;\">\n",
       "        +0.229\n",
       "    </td>\n",
       "    <td style=\"padding: 0 0.5em 0 0.5em; text-align: left; border: none;\">\n",
       "        age\n",
       "    </td>\n",
       "    \n",
       "        <td style=\"padding: 0 0.5em 0 1em; text-align: right; border: none;\">\n",
       "            80.000\n",
       "        </td>\n",
       "    \n",
       "</tr>\n",
       "        \n",
       "            <tr style=\"background-color: hsl(120, 100.00%, 97.01%); border: none;\">\n",
       "    <td style=\"padding: 0 1em 0 0.5em; text-align: right; border: none;\">\n",
       "        +0.034\n",
       "    </td>\n",
       "    <td style=\"padding: 0 0.5em 0 0.5em; text-align: left; border: none;\">\n",
       "        &lt;BIAS&gt;\n",
       "    </td>\n",
       "    \n",
       "        <td style=\"padding: 0 0.5em 0 1em; text-align: right; border: none;\">\n",
       "            1.000\n",
       "        </td>\n",
       "    \n",
       "</tr>\n",
       "        \n",
       "            <tr style=\"background-color: hsl(120, 100.00%, 99.28%); border: none;\">\n",
       "    <td style=\"padding: 0 1em 0 0.5em; text-align: right; border: none;\">\n",
       "        +0.004\n",
       "    </td>\n",
       "    <td style=\"padding: 0 0.5em 0 0.5em; text-align: left; border: none;\">\n",
       "        Seoul\n",
       "    </td>\n",
       "    \n",
       "        <td style=\"padding: 0 0.5em 0 1em; text-align: right; border: none;\">\n",
       "            0.000\n",
       "        </td>\n",
       "    \n",
       "</tr>\n",
       "        \n",
       "            <tr style=\"background-color: hsl(120, 100.00%, 99.69%); border: none;\">\n",
       "    <td style=\"padding: 0 1em 0 0.5em; text-align: right; border: none;\">\n",
       "        +0.001\n",
       "    </td>\n",
       "    <td style=\"padding: 0 0.5em 0 0.5em; text-align: left; border: none;\">\n",
       "        Chungcheongbuk-do\n",
       "    </td>\n",
       "    \n",
       "        <td style=\"padding: 0 0.5em 0 1em; text-align: right; border: none;\">\n",
       "            0.000\n",
       "        </td>\n",
       "    \n",
       "</tr>\n",
       "        \n",
       "            <tr style=\"background-color: hsl(120, 100.00%, 99.73%); border: none;\">\n",
       "    <td style=\"padding: 0 1em 0 0.5em; text-align: right; border: none;\">\n",
       "        +0.001\n",
       "    </td>\n",
       "    <td style=\"padding: 0 0.5em 0 0.5em; text-align: left; border: none;\">\n",
       "        Daejeon\n",
       "    </td>\n",
       "    \n",
       "        <td style=\"padding: 0 0.5em 0 1em; text-align: right; border: none;\">\n",
       "            0.000\n",
       "        </td>\n",
       "    \n",
       "</tr>\n",
       "        \n",
       "            <tr style=\"background-color: hsl(120, 100.00%, 99.74%); border: none;\">\n",
       "    <td style=\"padding: 0 1em 0 0.5em; text-align: right; border: none;\">\n",
       "        +0.001\n",
       "    </td>\n",
       "    <td style=\"padding: 0 0.5em 0 0.5em; text-align: left; border: none;\">\n",
       "        Gwangju\n",
       "    </td>\n",
       "    \n",
       "        <td style=\"padding: 0 0.5em 0 1em; text-align: right; border: none;\">\n",
       "            0.000\n",
       "        </td>\n",
       "    \n",
       "</tr>\n",
       "        \n",
       "            <tr style=\"background-color: hsl(120, 100.00%, 99.76%); border: none;\">\n",
       "    <td style=\"padding: 0 1em 0 0.5em; text-align: right; border: none;\">\n",
       "        +0.001\n",
       "    </td>\n",
       "    <td style=\"padding: 0 0.5em 0 0.5em; text-align: left; border: none;\">\n",
       "        Chungcheongnam-do\n",
       "    </td>\n",
       "    \n",
       "        <td style=\"padding: 0 0.5em 0 1em; text-align: right; border: none;\">\n",
       "            0.000\n",
       "        </td>\n",
       "    \n",
       "</tr>\n",
       "        \n",
       "            <tr style=\"background-color: hsl(120, 100.00%, 99.86%); border: none;\">\n",
       "    <td style=\"padding: 0 1em 0 0.5em; text-align: right; border: none;\">\n",
       "        +0.000\n",
       "    </td>\n",
       "    <td style=\"padding: 0 0.5em 0 0.5em; text-align: left; border: none;\">\n",
       "        Gyeongsangnam-do\n",
       "    </td>\n",
       "    \n",
       "        <td style=\"padding: 0 0.5em 0 1em; text-align: right; border: none;\">\n",
       "            0.000\n",
       "        </td>\n",
       "    \n",
       "</tr>\n",
       "        \n",
       "            <tr style=\"background-color: hsl(120, 100.00%, 99.88%); border: none;\">\n",
       "    <td style=\"padding: 0 1em 0 0.5em; text-align: right; border: none;\">\n",
       "        +0.000\n",
       "    </td>\n",
       "    <td style=\"padding: 0 0.5em 0 0.5em; text-align: left; border: none;\">\n",
       "        Sejong\n",
       "    </td>\n",
       "    \n",
       "        <td style=\"padding: 0 0.5em 0 1em; text-align: right; border: none;\">\n",
       "            0.000\n",
       "        </td>\n",
       "    \n",
       "</tr>\n",
       "        \n",
       "            <tr style=\"background-color: hsl(120, 100.00%, 99.92%); border: none;\">\n",
       "    <td style=\"padding: 0 1em 0 0.5em; text-align: right; border: none;\">\n",
       "        +0.000\n",
       "    </td>\n",
       "    <td style=\"padding: 0 0.5em 0 0.5em; text-align: left; border: none;\">\n",
       "        Ulsan\n",
       "    </td>\n",
       "    \n",
       "        <td style=\"padding: 0 0.5em 0 1em; text-align: right; border: none;\">\n",
       "            0.000\n",
       "        </td>\n",
       "    \n",
       "</tr>\n",
       "        \n",
       "            <tr style=\"background-color: hsl(120, 100.00%, 99.96%); border: none;\">\n",
       "    <td style=\"padding: 0 1em 0 0.5em; text-align: right; border: none;\">\n",
       "        +0.000\n",
       "    </td>\n",
       "    <td style=\"padding: 0 0.5em 0 0.5em; text-align: left; border: none;\">\n",
       "        Incheon\n",
       "    </td>\n",
       "    \n",
       "        <td style=\"padding: 0 0.5em 0 1em; text-align: right; border: none;\">\n",
       "            0.000\n",
       "        </td>\n",
       "    \n",
       "</tr>\n",
       "        \n",
       "            <tr style=\"background-color: hsl(120, 100.00%, 99.99%); border: none;\">\n",
       "    <td style=\"padding: 0 1em 0 0.5em; text-align: right; border: none;\">\n",
       "        +0.000\n",
       "    </td>\n",
       "    <td style=\"padding: 0 0.5em 0 0.5em; text-align: left; border: none;\">\n",
       "        Jeollanam-do\n",
       "    </td>\n",
       "    \n",
       "        <td style=\"padding: 0 0.5em 0 1em; text-align: right; border: none;\">\n",
       "            0.000\n",
       "        </td>\n",
       "    \n",
       "</tr>\n",
       "        \n",
       "            <tr style=\"background-color: hsl(120, 100.00%, 99.99%); border: none;\">\n",
       "    <td style=\"padding: 0 1em 0 0.5em; text-align: right; border: none;\">\n",
       "        +0.000\n",
       "    </td>\n",
       "    <td style=\"padding: 0 0.5em 0 0.5em; text-align: left; border: none;\">\n",
       "        Jeju-do\n",
       "    </td>\n",
       "    \n",
       "        <td style=\"padding: 0 0.5em 0 1em; text-align: right; border: none;\">\n",
       "            0.000\n",
       "        </td>\n",
       "    \n",
       "</tr>\n",
       "        \n",
       "            <tr style=\"background-color: hsl(120, 100.00%, 99.99%); border: none;\">\n",
       "    <td style=\"padding: 0 1em 0 0.5em; text-align: right; border: none;\">\n",
       "        +0.000\n",
       "    </td>\n",
       "    <td style=\"padding: 0 0.5em 0 0.5em; text-align: left; border: none;\">\n",
       "        Jeollabuk-do\n",
       "    </td>\n",
       "    \n",
       "        <td style=\"padding: 0 0.5em 0 1em; text-align: right; border: none;\">\n",
       "            0.000\n",
       "        </td>\n",
       "    \n",
       "</tr>\n",
       "        \n",
       "        \n",
       "\n",
       "        \n",
       "        \n",
       "            <tr style=\"background-color: hsl(0, 100.00%, 99.95%); border: none;\">\n",
       "    <td style=\"padding: 0 1em 0 0.5em; text-align: right; border: none;\">\n",
       "        -0.000\n",
       "    </td>\n",
       "    <td style=\"padding: 0 0.5em 0 0.5em; text-align: left; border: none;\">\n",
       "        Gyeonggi-do\n",
       "    </td>\n",
       "    \n",
       "        <td style=\"padding: 0 0.5em 0 1em; text-align: right; border: none;\">\n",
       "            0.000\n",
       "        </td>\n",
       "    \n",
       "</tr>\n",
       "        \n",
       "            <tr style=\"background-color: hsl(0, 100.00%, 99.86%); border: none;\">\n",
       "    <td style=\"padding: 0 1em 0 0.5em; text-align: right; border: none;\">\n",
       "        -0.000\n",
       "    </td>\n",
       "    <td style=\"padding: 0 0.5em 0 0.5em; text-align: left; border: none;\">\n",
       "        Gangwon-do\n",
       "    </td>\n",
       "    \n",
       "        <td style=\"padding: 0 0.5em 0 1em; text-align: right; border: none;\">\n",
       "            0.000\n",
       "        </td>\n",
       "    \n",
       "</tr>\n",
       "        \n",
       "            <tr style=\"background-color: hsl(0, 100.00%, 99.11%); border: none;\">\n",
       "    <td style=\"padding: 0 1em 0 0.5em; text-align: right; border: none;\">\n",
       "        -0.006\n",
       "    </td>\n",
       "    <td style=\"padding: 0 0.5em 0 0.5em; text-align: left; border: none;\">\n",
       "        Busan\n",
       "    </td>\n",
       "    \n",
       "        <td style=\"padding: 0 0.5em 0 1em; text-align: right; border: none;\">\n",
       "            0.000\n",
       "        </td>\n",
       "    \n",
       "</tr>\n",
       "        \n",
       "            <tr style=\"background-color: hsl(0, 100.00%, 99.05%); border: none;\">\n",
       "    <td style=\"padding: 0 1em 0 0.5em; text-align: right; border: none;\">\n",
       "        -0.007\n",
       "    </td>\n",
       "    <td style=\"padding: 0 0.5em 0 0.5em; text-align: left; border: none;\">\n",
       "        Gyeongsangbuk-do\n",
       "    </td>\n",
       "    \n",
       "        <td style=\"padding: 0 0.5em 0 1em; text-align: right; border: none;\">\n",
       "            1.000\n",
       "        </td>\n",
       "    \n",
       "</tr>\n",
       "        \n",
       "            <tr style=\"background-color: hsl(0, 100.00%, 98.58%); border: none;\">\n",
       "    <td style=\"padding: 0 1em 0 0.5em; text-align: right; border: none;\">\n",
       "        -0.012\n",
       "    </td>\n",
       "    <td style=\"padding: 0 0.5em 0 0.5em; text-align: left; border: none;\">\n",
       "        Existing illness\n",
       "    </td>\n",
       "    \n",
       "        <td style=\"padding: 0 0.5em 0 1em; text-align: right; border: none;\">\n",
       "            0.000\n",
       "        </td>\n",
       "    \n",
       "</tr>\n",
       "        \n",
       "            <tr style=\"background-color: hsl(0, 100.00%, 96.95%); border: none;\">\n",
       "    <td style=\"padding: 0 1em 0 0.5em; text-align: right; border: none;\">\n",
       "        -0.035\n",
       "    </td>\n",
       "    <td style=\"padding: 0 0.5em 0 0.5em; text-align: left; border: none;\">\n",
       "        sex\n",
       "    </td>\n",
       "    \n",
       "        <td style=\"padding: 0 0.5em 0 1em; text-align: right; border: none;\">\n",
       "            1.000\n",
       "        </td>\n",
       "    \n",
       "</tr>\n",
       "        \n",
       "\n",
       "        </tbody>\n",
       "    </table>\n",
       "\n",
       "            \n",
       "        \n",
       "\n",
       "        \n",
       "\n",
       "\n",
       "\n",
       "    \n",
       "\n",
       "    \n",
       "\n",
       "    \n",
       "\n",
       "    \n",
       "\n",
       "\n",
       "    \n",
       "\n",
       "    \n",
       "\n",
       "    \n",
       "\n",
       "    \n",
       "\n",
       "    \n",
       "\n",
       "    \n",
       "\n",
       "\n",
       "    \n",
       "\n",
       "    \n",
       "\n",
       "    \n",
       "\n",
       "    \n",
       "\n",
       "    \n",
       "\n",
       "    \n",
       "\n",
       "\n",
       "\n"
      ],
      "text/plain": [
       "<IPython.core.display.HTML object>"
      ]
     },
     "execution_count": 28,
     "metadata": {},
     "output_type": "execute_result"
    }
   ],
   "source": [
    "# deceasedWrong\n",
    "i = deceasedWrong[1]\n",
    "print('Actual Label:', y_test.iloc[i,0])\n",
    "show_prediction(rfc, X_test.iloc[[i]], show_feature_values=True, feature_names = X.columns.to_numpy())"
   ]
  },
  {
   "cell_type": "markdown",
   "metadata": {},
   "source": [
    "Here is a good example of where the predictions fail. And old female person surviving the virus. This is a good example of why such limited features are not enough. "
   ]
  },
  {
   "cell_type": "markdown",
   "metadata": {},
   "source": [
    "Below a correct 'released' prediction shows the heavy bias in the model. When no values reach a certain point, the model is simply biased to predict 'released'. "
   ]
  },
  {
   "cell_type": "code",
   "execution_count": 29,
   "metadata": {},
   "outputs": [
    {
     "name": "stdout",
     "output_type": "stream",
     "text": [
      "Actual Label: released\n"
     ]
    },
    {
     "data": {
      "text/html": [
       "\n",
       "    <style>\n",
       "    table.eli5-weights tr:hover {\n",
       "        filter: brightness(85%);\n",
       "    }\n",
       "</style>\n",
       "\n",
       "\n",
       "\n",
       "    \n",
       "\n",
       "    \n",
       "\n",
       "    \n",
       "\n",
       "    \n",
       "\n",
       "    \n",
       "\n",
       "    \n",
       "\n",
       "\n",
       "    \n",
       "\n",
       "    \n",
       "\n",
       "    \n",
       "\n",
       "    \n",
       "        \n",
       "\n",
       "    \n",
       "\n",
       "        \n",
       "            \n",
       "                \n",
       "                \n",
       "    \n",
       "        <p style=\"margin-bottom: 0.5em; margin-top: 0em\">\n",
       "            <b>\n",
       "    \n",
       "        y=released\n",
       "    \n",
       "</b>\n",
       "\n",
       "    \n",
       "    (probability <b>1.000</b>)\n",
       "\n",
       "top features\n",
       "        </p>\n",
       "    \n",
       "    <table class=\"eli5-weights\"\n",
       "           style=\"border-collapse: collapse; border: none; margin-top: 0em; table-layout: auto; margin-bottom: 2em;\">\n",
       "        <thead>\n",
       "        <tr style=\"border: none;\">\n",
       "            \n",
       "                <th style=\"padding: 0 1em 0 0.5em; text-align: right; border: none;\" title=\"Feature contribution already accounts for the feature value (for linear models, contribution = weight * feature value), and the sum of feature contributions is equal to the score or, for some classifiers, to the probability. Feature values are shown if &quot;show_feature_values&quot; is True.\">\n",
       "                    Contribution<sup>?</sup>\n",
       "                </th>\n",
       "            \n",
       "            <th style=\"padding: 0 0.5em 0 0.5em; text-align: left; border: none;\">Feature</th>\n",
       "            \n",
       "                <th style=\"padding: 0 0.5em 0 1em; text-align: right; border: none;\">Value</th>\n",
       "            \n",
       "        </tr>\n",
       "        </thead>\n",
       "        <tbody>\n",
       "        \n",
       "            <tr style=\"background-color: hsl(120, 100.00%, 80.00%); border: none;\">\n",
       "    <td style=\"padding: 0 1em 0 0.5em; text-align: right; border: none;\">\n",
       "        +0.966\n",
       "    </td>\n",
       "    <td style=\"padding: 0 0.5em 0 0.5em; text-align: left; border: none;\">\n",
       "        &lt;BIAS&gt;\n",
       "    </td>\n",
       "    \n",
       "        <td style=\"padding: 0 0.5em 0 1em; text-align: right; border: none;\">\n",
       "            1.000\n",
       "        </td>\n",
       "    \n",
       "</tr>\n",
       "        \n",
       "            <tr style=\"background-color: hsl(120, 100.00%, 98.78%); border: none;\">\n",
       "    <td style=\"padding: 0 1em 0 0.5em; text-align: right; border: none;\">\n",
       "        +0.018\n",
       "    </td>\n",
       "    <td style=\"padding: 0 0.5em 0 0.5em; text-align: left; border: none;\">\n",
       "        age\n",
       "    </td>\n",
       "    \n",
       "        <td style=\"padding: 0 0.5em 0 1em; text-align: right; border: none;\">\n",
       "            20.000\n",
       "        </td>\n",
       "    \n",
       "</tr>\n",
       "        \n",
       "            <tr style=\"background-color: hsl(120, 100.00%, 98.86%); border: none;\">\n",
       "    <td style=\"padding: 0 1em 0 0.5em; text-align: right; border: none;\">\n",
       "        +0.016\n",
       "    </td>\n",
       "    <td style=\"padding: 0 0.5em 0 0.5em; text-align: left; border: none;\">\n",
       "        Gyeongsangnam-do\n",
       "    </td>\n",
       "    \n",
       "        <td style=\"padding: 0 0.5em 0 1em; text-align: right; border: none;\">\n",
       "            1.000\n",
       "        </td>\n",
       "    \n",
       "</tr>\n",
       "        \n",
       "            <tr style=\"background-color: hsl(120, 100.00%, 99.23%); border: none;\">\n",
       "    <td style=\"padding: 0 1em 0 0.5em; text-align: right; border: none;\">\n",
       "        +0.009\n",
       "    </td>\n",
       "    <td style=\"padding: 0 0.5em 0 0.5em; text-align: left; border: none;\">\n",
       "        Days since first case\n",
       "    </td>\n",
       "    \n",
       "        <td style=\"padding: 0 0.5em 0 1em; text-align: right; border: none;\">\n",
       "            69.000\n",
       "        </td>\n",
       "    \n",
       "</tr>\n",
       "        \n",
       "            <tr style=\"background-color: hsl(120, 100.00%, 99.55%); border: none;\">\n",
       "    <td style=\"padding: 0 1em 0 0.5em; text-align: right; border: none;\">\n",
       "        +0.004\n",
       "    </td>\n",
       "    <td style=\"padding: 0 0.5em 0 0.5em; text-align: left; border: none;\">\n",
       "        Existing illness\n",
       "    </td>\n",
       "    \n",
       "        <td style=\"padding: 0 0.5em 0 1em; text-align: right; border: none;\">\n",
       "            0.000\n",
       "        </td>\n",
       "    \n",
       "</tr>\n",
       "        \n",
       "            <tr style=\"background-color: hsl(120, 100.00%, 99.55%); border: none;\">\n",
       "    <td style=\"padding: 0 1em 0 0.5em; text-align: right; border: none;\">\n",
       "        +0.004\n",
       "    </td>\n",
       "    <td style=\"padding: 0 0.5em 0 0.5em; text-align: left; border: none;\">\n",
       "        Gyeongsangbuk-do\n",
       "    </td>\n",
       "    \n",
       "        <td style=\"padding: 0 0.5em 0 1em; text-align: right; border: none;\">\n",
       "            0.000\n",
       "        </td>\n",
       "    \n",
       "</tr>\n",
       "        \n",
       "        \n",
       "\n",
       "        \n",
       "        \n",
       "            <tr style=\"background-color: hsl(0, 100.00%, 100.00%); border: none;\">\n",
       "    <td style=\"padding: 0 1em 0 0.5em; text-align: right; border: none;\">\n",
       "        -0.000\n",
       "    </td>\n",
       "    <td style=\"padding: 0 0.5em 0 0.5em; text-align: left; border: none;\">\n",
       "        Jeollanam-do\n",
       "    </td>\n",
       "    \n",
       "        <td style=\"padding: 0 0.5em 0 1em; text-align: right; border: none;\">\n",
       "            0.000\n",
       "        </td>\n",
       "    \n",
       "</tr>\n",
       "        \n",
       "            <tr style=\"background-color: hsl(0, 100.00%, 100.00%); border: none;\">\n",
       "    <td style=\"padding: 0 1em 0 0.5em; text-align: right; border: none;\">\n",
       "        -0.000\n",
       "    </td>\n",
       "    <td style=\"padding: 0 0.5em 0 0.5em; text-align: left; border: none;\">\n",
       "        Jeollabuk-do\n",
       "    </td>\n",
       "    \n",
       "        <td style=\"padding: 0 0.5em 0 1em; text-align: right; border: none;\">\n",
       "            0.000\n",
       "        </td>\n",
       "    \n",
       "</tr>\n",
       "        \n",
       "            <tr style=\"background-color: hsl(0, 100.00%, 99.99%); border: none;\">\n",
       "    <td style=\"padding: 0 1em 0 0.5em; text-align: right; border: none;\">\n",
       "        -0.000\n",
       "    </td>\n",
       "    <td style=\"padding: 0 0.5em 0 0.5em; text-align: left; border: none;\">\n",
       "        Jeju-do\n",
       "    </td>\n",
       "    \n",
       "        <td style=\"padding: 0 0.5em 0 1em; text-align: right; border: none;\">\n",
       "            0.000\n",
       "        </td>\n",
       "    \n",
       "</tr>\n",
       "        \n",
       "            <tr style=\"background-color: hsl(0, 100.00%, 99.97%); border: none;\">\n",
       "    <td style=\"padding: 0 1em 0 0.5em; text-align: right; border: none;\">\n",
       "        -0.000\n",
       "    </td>\n",
       "    <td style=\"padding: 0 0.5em 0 0.5em; text-align: left; border: none;\">\n",
       "        Gwangju\n",
       "    </td>\n",
       "    \n",
       "        <td style=\"padding: 0 0.5em 0 1em; text-align: right; border: none;\">\n",
       "            0.000\n",
       "        </td>\n",
       "    \n",
       "</tr>\n",
       "        \n",
       "            <tr style=\"background-color: hsl(0, 100.00%, 99.96%); border: none;\">\n",
       "    <td style=\"padding: 0 1em 0 0.5em; text-align: right; border: none;\">\n",
       "        -0.000\n",
       "    </td>\n",
       "    <td style=\"padding: 0 0.5em 0 0.5em; text-align: left; border: none;\">\n",
       "        Gangwon-do\n",
       "    </td>\n",
       "    \n",
       "        <td style=\"padding: 0 0.5em 0 1em; text-align: right; border: none;\">\n",
       "            0.000\n",
       "        </td>\n",
       "    \n",
       "</tr>\n",
       "        \n",
       "            <tr style=\"background-color: hsl(0, 100.00%, 99.94%); border: none;\">\n",
       "    <td style=\"padding: 0 1em 0 0.5em; text-align: right; border: none;\">\n",
       "        -0.000\n",
       "    </td>\n",
       "    <td style=\"padding: 0 0.5em 0 0.5em; text-align: left; border: none;\">\n",
       "        Daejeon\n",
       "    </td>\n",
       "    \n",
       "        <td style=\"padding: 0 0.5em 0 1em; text-align: right; border: none;\">\n",
       "            0.000\n",
       "        </td>\n",
       "    \n",
       "</tr>\n",
       "        \n",
       "            <tr style=\"background-color: hsl(0, 100.00%, 99.93%); border: none;\">\n",
       "    <td style=\"padding: 0 1em 0 0.5em; text-align: right; border: none;\">\n",
       "        -0.000\n",
       "    </td>\n",
       "    <td style=\"padding: 0 0.5em 0 0.5em; text-align: left; border: none;\">\n",
       "        Ulsan\n",
       "    </td>\n",
       "    \n",
       "        <td style=\"padding: 0 0.5em 0 1em; text-align: right; border: none;\">\n",
       "            0.000\n",
       "        </td>\n",
       "    \n",
       "</tr>\n",
       "        \n",
       "            <tr style=\"background-color: hsl(0, 100.00%, 99.93%); border: none;\">\n",
       "    <td style=\"padding: 0 1em 0 0.5em; text-align: right; border: none;\">\n",
       "        -0.000\n",
       "    </td>\n",
       "    <td style=\"padding: 0 0.5em 0 0.5em; text-align: left; border: none;\">\n",
       "        Chungcheongbuk-do\n",
       "    </td>\n",
       "    \n",
       "        <td style=\"padding: 0 0.5em 0 1em; text-align: right; border: none;\">\n",
       "            0.000\n",
       "        </td>\n",
       "    \n",
       "</tr>\n",
       "        \n",
       "            <tr style=\"background-color: hsl(0, 100.00%, 99.91%); border: none;\">\n",
       "    <td style=\"padding: 0 1em 0 0.5em; text-align: right; border: none;\">\n",
       "        -0.000\n",
       "    </td>\n",
       "    <td style=\"padding: 0 0.5em 0 0.5em; text-align: left; border: none;\">\n",
       "        Sejong\n",
       "    </td>\n",
       "    \n",
       "        <td style=\"padding: 0 0.5em 0 1em; text-align: right; border: none;\">\n",
       "            0.000\n",
       "        </td>\n",
       "    \n",
       "</tr>\n",
       "        \n",
       "            <tr style=\"background-color: hsl(0, 100.00%, 99.86%); border: none;\">\n",
       "    <td style=\"padding: 0 1em 0 0.5em; text-align: right; border: none;\">\n",
       "        -0.001\n",
       "    </td>\n",
       "    <td style=\"padding: 0 0.5em 0 0.5em; text-align: left; border: none;\">\n",
       "        Busan\n",
       "    </td>\n",
       "    \n",
       "        <td style=\"padding: 0 0.5em 0 1em; text-align: right; border: none;\">\n",
       "            0.000\n",
       "        </td>\n",
       "    \n",
       "</tr>\n",
       "        \n",
       "            <tr style=\"background-color: hsl(0, 100.00%, 99.86%); border: none;\">\n",
       "    <td style=\"padding: 0 1em 0 0.5em; text-align: right; border: none;\">\n",
       "        -0.001\n",
       "    </td>\n",
       "    <td style=\"padding: 0 0.5em 0 0.5em; text-align: left; border: none;\">\n",
       "        Incheon\n",
       "    </td>\n",
       "    \n",
       "        <td style=\"padding: 0 0.5em 0 1em; text-align: right; border: none;\">\n",
       "            0.000\n",
       "        </td>\n",
       "    \n",
       "</tr>\n",
       "        \n",
       "            <tr style=\"background-color: hsl(0, 100.00%, 99.86%); border: none;\">\n",
       "    <td style=\"padding: 0 1em 0 0.5em; text-align: right; border: none;\">\n",
       "        -0.001\n",
       "    </td>\n",
       "    <td style=\"padding: 0 0.5em 0 0.5em; text-align: left; border: none;\">\n",
       "        Gyeonggi-do\n",
       "    </td>\n",
       "    \n",
       "        <td style=\"padding: 0 0.5em 0 1em; text-align: right; border: none;\">\n",
       "            0.000\n",
       "        </td>\n",
       "    \n",
       "</tr>\n",
       "        \n",
       "            <tr style=\"background-color: hsl(0, 100.00%, 99.85%); border: none;\">\n",
       "    <td style=\"padding: 0 1em 0 0.5em; text-align: right; border: none;\">\n",
       "        -0.001\n",
       "    </td>\n",
       "    <td style=\"padding: 0 0.5em 0 0.5em; text-align: left; border: none;\">\n",
       "        Chungcheongnam-do\n",
       "    </td>\n",
       "    \n",
       "        <td style=\"padding: 0 0.5em 0 1em; text-align: right; border: none;\">\n",
       "            0.000\n",
       "        </td>\n",
       "    \n",
       "</tr>\n",
       "        \n",
       "            <tr style=\"background-color: hsl(0, 100.00%, 99.81%); border: none;\">\n",
       "    <td style=\"padding: 0 1em 0 0.5em; text-align: right; border: none;\">\n",
       "        -0.001\n",
       "    </td>\n",
       "    <td style=\"padding: 0 0.5em 0 0.5em; text-align: left; border: none;\">\n",
       "        Seoul\n",
       "    </td>\n",
       "    \n",
       "        <td style=\"padding: 0 0.5em 0 1em; text-align: right; border: none;\">\n",
       "            0.000\n",
       "        </td>\n",
       "    \n",
       "</tr>\n",
       "        \n",
       "            <tr style=\"background-color: hsl(0, 100.00%, 99.11%); border: none;\">\n",
       "    <td style=\"padding: 0 1em 0 0.5em; text-align: right; border: none;\">\n",
       "        -0.011\n",
       "    </td>\n",
       "    <td style=\"padding: 0 0.5em 0 0.5em; text-align: left; border: none;\">\n",
       "        sex\n",
       "    </td>\n",
       "    \n",
       "        <td style=\"padding: 0 0.5em 0 1em; text-align: right; border: none;\">\n",
       "            0.000\n",
       "        </td>\n",
       "    \n",
       "</tr>\n",
       "        \n",
       "\n",
       "        </tbody>\n",
       "    </table>\n",
       "\n",
       "            \n",
       "        \n",
       "\n",
       "        \n",
       "\n",
       "\n",
       "\n",
       "    \n",
       "\n",
       "    \n",
       "\n",
       "    \n",
       "\n",
       "    \n",
       "\n",
       "\n",
       "    \n",
       "\n",
       "    \n",
       "\n",
       "    \n",
       "\n",
       "    \n",
       "\n",
       "    \n",
       "\n",
       "    \n",
       "\n",
       "\n",
       "    \n",
       "\n",
       "    \n",
       "\n",
       "    \n",
       "\n",
       "    \n",
       "\n",
       "    \n",
       "\n",
       "    \n",
       "\n",
       "\n",
       "\n"
      ],
      "text/plain": [
       "<IPython.core.display.HTML object>"
      ]
     },
     "execution_count": 29,
     "metadata": {},
     "output_type": "execute_result"
    }
   ],
   "source": [
    "# deceasedWrong\n",
    "i = 2\n",
    "print('Actual Label:', y_test.iloc[i,0])\n",
    "show_prediction(rfc, X_test.iloc[[i]], show_feature_values=True, feature_names = X.columns.to_numpy())"
   ]
  },
  {
   "cell_type": "markdown",
   "metadata": {},
   "source": [
    "## <span style=\"color:orange\">4.3:</span> Partial dependence plots"
   ]
  },
  {
   "cell_type": "markdown",
   "metadata": {},
   "source": [
    "Here, how each feature affects the predictions will be investigated. The regions will not be investigated as previous results has not found anything particular interesting within them, and as they are OneHotEncoded categorical variables the plot would not provide much information."
   ]
  },
  {
   "cell_type": "code",
   "execution_count": 30,
   "metadata": {},
   "outputs": [
    {
     "data": {
      "image/png": "[encoded data removed]",
      "text/plain": [
       "<Figure size 1440x720 with 5 Axes>"
      ]
     },
     "metadata": {
      "needs_background": "light"
     },
     "output_type": "display_data"
    }
   ],
   "source": [
    "# Partial dependence plots\n",
    "features = ['age', 'sex', 'Days since first case', 'Existing illness']\n",
    "plot_partial_dependence(rfc, X_train, features, n_jobs=3)\n",
    "fig = plt.gcf().set_size_inches(20, 10)"
   ]
  },
  {
   "cell_type": "markdown",
   "metadata": {},
   "source": [
    "The plots shows probability of 'released' on the y-axis, meaning a lower value is increased risk of 'deceased'. \n",
    "\n",
    "From this brief overview, the model has found that:\n",
    "\n",
    "1. As age reaches 50, risk of death starts significantly increasing\n",
    "1. Male are slightly more prone to death than female\n",
    "1. Having an existing illness significantly increase risk of 'deceased'\n",
    "1. Days since first case is harder to read, but there does seem to be a slight rise in the middle.\n",
    "\n",
    "However, the model should not be taken as ground truth as it is prone to bias."
   ]
  },
  {
   "cell_type": "markdown",
   "metadata": {},
   "source": [
    "# <span style=\"color:orange\">5:</span> Beautiful graphs and widgetting"
   ]
  },
  {
   "cell_type": "markdown",
   "metadata": {},
   "source": [
    "Here the beautiful graphs and widgets for the storyline will be constructed. The following plots will be made:\n",
    "\n",
    "1. A confusion matrix showing how good the model performs\n",
    "1. A bar chart showing feature importance of best model\n",
    "2. A drop-down menu where the user can select each feature and see a ppd. graph of that feature\n",
    "3. A widget where the user can put in their own numbers and get a prediction + explanation + recommendation\n",
    "\n",
    "The plots will be made using Plotly and Ipywidgets [9] [10]."
   ]
  },
  {
   "cell_type": "markdown",
   "metadata": {},
   "source": [
    "First, the confusion plot will be constructed using plotly with custom colors to replicate the look from sklearn. The plot will be normalized but show actual numbers on hovering and is inspired by [11]."
   ]
  },
  {
   "cell_type": "code",
   "execution_count": 31,
   "metadata": {},
   "outputs": [],
   "source": [
    "# Get data\n",
    "y_pred = rfc.predict(X_test)\n",
    "cmNorm = confusion_matrix(y_test, y_pred, normalize='true').round(2)\n",
    "cmRaw = confusion_matrix(y_test, y_pred, normalize=None)\n",
    "\n",
    "# Invert it manually to fit heatmap\n",
    "cmNorm = [[0.01, 0.99],\n",
    "          [0.4, 0.6]]\n",
    "\n",
    "cmRaw = [[12, 18],\n",
    "         [8, 733]]"
   ]
  },
  {
   "cell_type": "code",
   "execution_count": 50,
   "metadata": {},
   "outputs": [
    {
     "data": {
      "application/vnd.plotly.v1+json": {
       "config": {
        "plotlyServerURL": "https://plot.ly"
       },
       "data": [
        {
         "colorscale": [
          [
           0,
           "rgb(247, 251, 255)"
          ],
          [
           0.5,
           "rgb(102, 171, 212)"
          ],
          [
           1,
           "rgb(8,49,107)"
          ]
         ],
         "hoverinfo": "text",
         "reversescale": false,
         "showscale": true,
         "text": [
          [
           "Actual: 6",
           "Actual: 547"
          ],
          [
           "Actual: 10",
           "Actual: 16"
          ]
         ],
         "type": "heatmap",
         "x": [
          "Deceased",
          "Released"
         ],
         "y": [
          "Released",
          "Deceased"
         ],
         "z": [
          [
           0.01,
           0.99
          ],
          [
           0.4,
           0.6
          ]
         ]
        }
       ],
       "layout": {
        "annotations": [
         {
          "font": {
           "color": "#000000"
          },
          "showarrow": false,
          "text": "0.01",
          "x": "Deceased",
          "xref": "x",
          "y": "Released",
          "yref": "y"
         },
         {
          "font": {
           "color": "#FFFFFF"
          },
          "showarrow": false,
          "text": "0.99",
          "x": "Released",
          "xref": "x",
          "y": "Released",
          "yref": "y"
         },
         {
          "font": {
           "color": "#000000"
          },
          "showarrow": false,
          "text": "0.4",
          "x": "Deceased",
          "xref": "x",
          "y": "Deceased",
          "yref": "y"
         },
         {
          "font": {
           "color": "#FFFFFF"
          },
          "showarrow": false,
          "text": "0.6",
          "x": "Released",
          "xref": "x",
          "y": "Deceased",
          "yref": "y"
         },
         {
          "font": {
           "color": "black",
           "size": 20
          },
          "showarrow": false,
          "text": "What the model predicted",
          "x": 0.5,
          "xref": "paper",
          "y": -0.1,
          "yref": "paper"
         },
         {
          "font": {
           "color": "black",
           "size": 20
          },
          "showarrow": false,
          "text": "What the patient actually was",
          "textangle": -90,
          "x": -0.2,
          "xref": "paper",
          "y": 0.5,
          "yref": "paper"
         }
        ],
        "height": 700,
        "margin": {
         "l": 200,
         "t": 50
        },
        "template": {
         "data": {
          "bar": [
           {
            "error_x": {
             "color": "#2a3f5f"
            },
            "error_y": {
             "color": "#2a3f5f"
            },
            "marker": {
             "line": {
              "color": "#E5ECF6",
              "width": 0.5
             }
            },
            "type": "bar"
           }
          ],
          "barpolar": [
           {
            "marker": {
             "line": {
              "color": "#E5ECF6",
              "width": 0.5
             }
            },
            "type": "barpolar"
           }
          ],
          "carpet": [
           {
            "aaxis": {
             "endlinecolor": "#2a3f5f",
             "gridcolor": "white",
             "linecolor": "white",
             "minorgridcolor": "white",
             "startlinecolor": "#2a3f5f"
            },
            "baxis": {
             "endlinecolor": "#2a3f5f",
             "gridcolor": "white",
             "linecolor": "white",
             "minorgridcolor": "white",
             "startlinecolor": "#2a3f5f"
            },
            "type": "carpet"
           }
          ],
          "choropleth": [
           {
            "colorbar": {
             "outlinewidth": 0,
             "ticks": ""
            },
            "type": "choropleth"
           }
          ],
          "contour": [
           {
            "colorbar": {
             "outlinewidth": 0,
             "ticks": ""
            },
            "colorscale": [
             [
              0,
              "#0d0887"
             ],
             [
              0.1111111111111111,
              "#46039f"
             ],
             [
              0.2222222222222222,
              "#7201a8"
             ],
             [
              0.3333333333333333,
              "#9c179e"
             ],
             [
              0.4444444444444444,
              "#bd3786"
             ],
             [
              0.5555555555555556,
              "#d8576b"
             ],
             [
              0.6666666666666666,
              "#ed7953"
             ],
             [
              0.7777777777777778,
              "#fb9f3a"
             ],
             [
              0.8888888888888888,
              "#fdca26"
             ],
             [
              1,
              "#f0f921"
             ]
            ],
            "type": "contour"
           }
          ],
          "contourcarpet": [
           {
            "colorbar": {
             "outlinewidth": 0,
             "ticks": ""
            },
            "type": "contourcarpet"
           }
          ],
          "heatmap": [
           {
            "colorbar": {
             "outlinewidth": 0,
             "ticks": ""
            },
            "colorscale": [
             [
              0,
              "#0d0887"
             ],
             [
              0.1111111111111111,
              "#46039f"
             ],
             [
              0.2222222222222222,
              "#7201a8"
             ],
             [
              0.3333333333333333,
              "#9c179e"
             ],
             [
              0.4444444444444444,
              "#bd3786"
             ],
             [
              0.5555555555555556,
              "#d8576b"
             ],
             [
              0.6666666666666666,
              "#ed7953"
             ],
             [
              0.7777777777777778,
              "#fb9f3a"
             ],
             [
              0.8888888888888888,
              "#fdca26"
             ],
             [
              1,
              "#f0f921"
             ]
            ],
            "type": "heatmap"
           }
          ],
          "heatmapgl": [
           {
            "colorbar": {
             "outlinewidth": 0,
             "ticks": ""
            },
            "colorscale": [
             [
              0,
              "#0d0887"
             ],
             [
              0.1111111111111111,
              "#46039f"
             ],
             [
              0.2222222222222222,
              "#7201a8"
             ],
             [
              0.3333333333333333,
              "#9c179e"
             ],
             [
              0.4444444444444444,
              "#bd3786"
             ],
             [
              0.5555555555555556,
              "#d8576b"
             ],
             [
              0.6666666666666666,
              "#ed7953"
             ],
             [
              0.7777777777777778,
              "#fb9f3a"
             ],
             [
              0.8888888888888888,
              "#fdca26"
             ],
             [
              1,
              "#f0f921"
             ]
            ],
            "type": "heatmapgl"
           }
          ],
          "histogram": [
           {
            "marker": {
             "colorbar": {
              "outlinewidth": 0,
              "ticks": ""
             }
            },
            "type": "histogram"
           }
          ],
          "histogram2d": [
           {
            "colorbar": {
             "outlinewidth": 0,
             "ticks": ""
            },
            "colorscale": [
             [
              0,
              "#0d0887"
             ],
             [
              0.1111111111111111,
              "#46039f"
             ],
             [
              0.2222222222222222,
              "#7201a8"
             ],
             [
              0.3333333333333333,
              "#9c179e"
             ],
             [
              0.4444444444444444,
              "#bd3786"
             ],
             [
              0.5555555555555556,
              "#d8576b"
             ],
             [
              0.6666666666666666,
              "#ed7953"
             ],
             [
              0.7777777777777778,
              "#fb9f3a"
             ],
             [
              0.8888888888888888,
              "#fdca26"
             ],
             [
              1,
              "#f0f921"
             ]
            ],
            "type": "histogram2d"
           }
          ],
          "histogram2dcontour": [
           {
            "colorbar": {
             "outlinewidth": 0,
             "ticks": ""
            },
            "colorscale": [
             [
              0,
              "#0d0887"
             ],
             [
              0.1111111111111111,
              "#46039f"
             ],
             [
              0.2222222222222222,
              "#7201a8"
             ],
             [
              0.3333333333333333,
              "#9c179e"
             ],
             [
              0.4444444444444444,
              "#bd3786"
             ],
             [
              0.5555555555555556,
              "#d8576b"
             ],
             [
              0.6666666666666666,
              "#ed7953"
             ],
             [
              0.7777777777777778,
              "#fb9f3a"
             ],
             [
              0.8888888888888888,
              "#fdca26"
             ],
             [
              1,
              "#f0f921"
             ]
            ],
            "type": "histogram2dcontour"
           }
          ],
          "mesh3d": [
           {
            "colorbar": {
             "outlinewidth": 0,
             "ticks": ""
            },
            "type": "mesh3d"
           }
          ],
          "parcoords": [
           {
            "line": {
             "colorbar": {
              "outlinewidth": 0,
              "ticks": ""
             }
            },
            "type": "parcoords"
           }
          ],
          "pie": [
           {
            "automargin": true,
            "type": "pie"
           }
          ],
          "scatter": [
           {
            "marker": {
             "colorbar": {
              "outlinewidth": 0,
              "ticks": ""
             }
            },
            "type": "scatter"
           }
          ],
          "scatter3d": [
           {
            "line": {
             "colorbar": {
              "outlinewidth": 0,
              "ticks": ""
             }
            },
            "marker": {
             "colorbar": {
              "outlinewidth": 0,
              "ticks": ""
             }
            },
            "type": "scatter3d"
           }
          ],
          "scattercarpet": [
           {
            "marker": {
             "colorbar": {
              "outlinewidth": 0,
              "ticks": ""
             }
            },
            "type": "scattercarpet"
           }
          ],
          "scattergeo": [
           {
            "marker": {
             "colorbar": {
              "outlinewidth": 0,
              "ticks": ""
             }
            },
            "type": "scattergeo"
           }
          ],
          "scattergl": [
           {
            "marker": {
             "colorbar": {
              "outlinewidth": 0,
              "ticks": ""
             }
            },
            "type": "scattergl"
           }
          ],
          "scattermapbox": [
           {
            "marker": {
             "colorbar": {
              "outlinewidth": 0,
              "ticks": ""
             }
            },
            "type": "scattermapbox"
           }
          ],
          "scatterpolar": [
           {
            "marker": {
             "colorbar": {
              "outlinewidth": 0,
              "ticks": ""
             }
            },
            "type": "scatterpolar"
           }
          ],
          "scatterpolargl": [
           {
            "marker": {
             "colorbar": {
              "outlinewidth": 0,
              "ticks": ""
             }
            },
            "type": "scatterpolargl"
           }
          ],
          "scatterternary": [
           {
            "marker": {
             "colorbar": {
              "outlinewidth": 0,
              "ticks": ""
             }
            },
            "type": "scatterternary"
           }
          ],
          "surface": [
           {
            "colorbar": {
             "outlinewidth": 0,
             "ticks": ""
            },
            "colorscale": [
             [
              0,
              "#0d0887"
             ],
             [
              0.1111111111111111,
              "#46039f"
             ],
             [
              0.2222222222222222,
              "#7201a8"
             ],
             [
              0.3333333333333333,
              "#9c179e"
             ],
             [
              0.4444444444444444,
              "#bd3786"
             ],
             [
              0.5555555555555556,
              "#d8576b"
             ],
             [
              0.6666666666666666,
              "#ed7953"
             ],
             [
              0.7777777777777778,
              "#fb9f3a"
             ],
             [
              0.8888888888888888,
              "#fdca26"
             ],
             [
              1,
              "#f0f921"
             ]
            ],
            "type": "surface"
           }
          ],
          "table": [
           {
            "cells": {
             "fill": {
              "color": "#EBF0F8"
             },
             "line": {
              "color": "white"
             }
            },
            "header": {
             "fill": {
              "color": "#C8D4E3"
             },
             "line": {
              "color": "white"
             }
            },
            "type": "table"
           }
          ]
         },
         "layout": {
          "annotationdefaults": {
           "arrowcolor": "#2a3f5f",
           "arrowhead": 0,
           "arrowwidth": 1
          },
          "coloraxis": {
           "colorbar": {
            "outlinewidth": 0,
            "ticks": ""
           }
          },
          "colorscale": {
           "diverging": [
            [
             0,
             "#8e0152"
            ],
            [
             0.1,
             "#c51b7d"
            ],
            [
             0.2,
             "#de77ae"
            ],
            [
             0.3,
             "#f1b6da"
            ],
            [
             0.4,
             "#fde0ef"
            ],
            [
             0.5,
             "#f7f7f7"
            ],
            [
             0.6,
             "#e6f5d0"
            ],
            [
             0.7,
             "#b8e186"
            ],
            [
             0.8,
             "#7fbc41"
            ],
            [
             0.9,
             "#4d9221"
            ],
            [
             1,
             "#276419"
            ]
           ],
           "sequential": [
            [
             0,
             "#0d0887"
            ],
            [
             0.1111111111111111,
             "#46039f"
            ],
            [
             0.2222222222222222,
             "#7201a8"
            ],
            [
             0.3333333333333333,
             "#9c179e"
            ],
            [
             0.4444444444444444,
             "#bd3786"
            ],
            [
             0.5555555555555556,
             "#d8576b"
            ],
            [
             0.6666666666666666,
             "#ed7953"
            ],
            [
             0.7777777777777778,
             "#fb9f3a"
            ],
            [
             0.8888888888888888,
             "#fdca26"
            ],
            [
             1,
             "#f0f921"
            ]
           ],
           "sequentialminus": [
            [
             0,
             "#0d0887"
            ],
            [
             0.1111111111111111,
             "#46039f"
            ],
            [
             0.2222222222222222,
             "#7201a8"
            ],
            [
             0.3333333333333333,
             "#9c179e"
            ],
            [
             0.4444444444444444,
             "#bd3786"
            ],
            [
             0.5555555555555556,
             "#d8576b"
            ],
            [
             0.6666666666666666,
             "#ed7953"
            ],
            [
             0.7777777777777778,
             "#fb9f3a"
            ],
            [
             0.8888888888888888,
             "#fdca26"
            ],
            [
             1,
             "#f0f921"
            ]
           ]
          },
          "colorway": [
           "#636efa",
           "#EF553B",
           "#00cc96",
           "#ab63fa",
           "#FFA15A",
           "#19d3f3",
           "#FF6692",
           "#B6E880",
           "#FF97FF",
           "#FECB52"
          ],
          "font": {
           "color": "#2a3f5f"
          },
          "geo": {
           "bgcolor": "white",
           "lakecolor": "white",
           "landcolor": "#E5ECF6",
           "showlakes": true,
           "showland": true,
           "subunitcolor": "white"
          },
          "hoverlabel": {
           "align": "left"
          },
          "hovermode": "closest",
          "mapbox": {
           "style": "light"
          },
          "paper_bgcolor": "white",
          "plot_bgcolor": "#E5ECF6",
          "polar": {
           "angularaxis": {
            "gridcolor": "white",
            "linecolor": "white",
            "ticks": ""
           },
           "bgcolor": "#E5ECF6",
           "radialaxis": {
            "gridcolor": "white",
            "linecolor": "white",
            "ticks": ""
           }
          },
          "scene": {
           "xaxis": {
            "backgroundcolor": "#E5ECF6",
            "gridcolor": "white",
            "gridwidth": 2,
            "linecolor": "white",
            "showbackground": true,
            "ticks": "",
            "zerolinecolor": "white"
           },
           "yaxis": {
            "backgroundcolor": "#E5ECF6",
            "gridcolor": "white",
            "gridwidth": 2,
            "linecolor": "white",
            "showbackground": true,
            "ticks": "",
            "zerolinecolor": "white"
           },
           "zaxis": {
            "backgroundcolor": "#E5ECF6",
            "gridcolor": "white",
            "gridwidth": 2,
            "linecolor": "white",
            "showbackground": true,
            "ticks": "",
            "zerolinecolor": "white"
           }
          },
          "shapedefaults": {
           "line": {
            "color": "#2a3f5f"
           }
          },
          "ternary": {
           "aaxis": {
            "gridcolor": "white",
            "linecolor": "white",
            "ticks": ""
           },
           "baxis": {
            "gridcolor": "white",
            "linecolor": "white",
            "ticks": ""
           },
           "bgcolor": "#E5ECF6",
           "caxis": {
            "gridcolor": "white",
            "linecolor": "white",
            "ticks": ""
           }
          },
          "title": {
           "x": 0.05
          },
          "xaxis": {
           "automargin": true,
           "gridcolor": "white",
           "linecolor": "white",
           "ticks": "",
           "title": {
            "standoff": 15
           },
           "zerolinecolor": "white",
           "zerolinewidth": 2
          },
          "yaxis": {
           "automargin": true,
           "gridcolor": "white",
           "linecolor": "white",
           "ticks": "",
           "title": {
            "standoff": 15
           },
           "zerolinecolor": "white",
           "zerolinewidth": 2
          }
         }
        },
        "title": {
         "text": "How well did the model performe on unseen data?"
        },
        "width": 900,
        "xaxis": {
         "dtick": 1,
         "gridcolor": "rgb(0, 0, 0)",
         "side": "bottom",
         "ticks": ""
        },
        "yaxis": {
         "dtick": 1,
         "ticks": "",
         "ticksuffix": "  "
        }
       }
      },
      "text/html": [
       "<div>\n",
       "        \n",
       "        \n",
       "            <div id=\"106d4df6-2357-4636-9e6d-ce35bfed1fd3\" class=\"plotly-graph-div\" style=\"height:700px; width:900px;\"></div>\n",
       "            <script type=\"text/javascript\">\n",
       "                require([\"plotly\"], function(Plotly) {\n",
       "                    window.PLOTLYENV=window.PLOTLYENV || {};\n",
       "                    \n",
       "                if (document.getElementById(\"106d4df6-2357-4636-9e6d-ce35bfed1fd3\")) {\n",
       "                    Plotly.newPlot(\n",
       "                        '106d4df6-2357-4636-9e6d-ce35bfed1fd3',\n",
       "                        [{\"colorscale\": [[0, \"rgb(247, 251, 255)\"], [0.5, \"rgb(102, 171, 212)\"], [1, \"rgb(8,49,107)\"]], \"hoverinfo\": \"text\", \"reversescale\": false, \"showscale\": true, \"text\": [[\"Actual: 6\", \"Actual: 547\"], [\"Actual: 10\", \"Actual: 16\"]], \"type\": \"heatmap\", \"x\": [\"Deceased\", \"Released\"], \"y\": [\"Released\", \"Deceased\"], \"z\": [[0.01, 0.99], [0.4, 0.6]]}],\n",
       "                        {\"annotations\": [{\"font\": {\"color\": \"#000000\"}, \"showarrow\": false, \"text\": \"0.01\", \"x\": \"Deceased\", \"xref\": \"x\", \"y\": \"Released\", \"yref\": \"y\"}, {\"font\": {\"color\": \"#FFFFFF\"}, \"showarrow\": false, \"text\": \"0.99\", \"x\": \"Released\", \"xref\": \"x\", \"y\": \"Released\", \"yref\": \"y\"}, {\"font\": {\"color\": \"#000000\"}, \"showarrow\": false, \"text\": \"0.4\", \"x\": \"Deceased\", \"xref\": \"x\", \"y\": \"Deceased\", \"yref\": \"y\"}, {\"font\": {\"color\": \"#FFFFFF\"}, \"showarrow\": false, \"text\": \"0.6\", \"x\": \"Released\", \"xref\": \"x\", \"y\": \"Deceased\", \"yref\": \"y\"}, {\"font\": {\"color\": \"black\", \"size\": 20}, \"showarrow\": false, \"text\": \"What the model predicted\", \"x\": 0.5, \"xref\": \"paper\", \"y\": -0.1, \"yref\": \"paper\"}, {\"font\": {\"color\": \"black\", \"size\": 20}, \"showarrow\": false, \"text\": \"What the patient actually was\", \"textangle\": -90, \"x\": -0.2, \"xref\": \"paper\", \"y\": 0.5, \"yref\": \"paper\"}], \"height\": 700, \"margin\": {\"l\": 200, \"t\": 50}, \"template\": {\"data\": {\"bar\": [{\"error_x\": {\"color\": \"#2a3f5f\"}, \"error_y\": {\"color\": \"#2a3f5f\"}, \"marker\": {\"line\": {\"color\": \"#E5ECF6\", \"width\": 0.5}}, \"type\": \"bar\"}], \"barpolar\": [{\"marker\": {\"line\": {\"color\": \"#E5ECF6\", \"width\": 0.5}}, \"type\": \"barpolar\"}], \"carpet\": [{\"aaxis\": {\"endlinecolor\": \"#2a3f5f\", \"gridcolor\": \"white\", \"linecolor\": \"white\", \"minorgridcolor\": \"white\", \"startlinecolor\": \"#2a3f5f\"}, \"baxis\": {\"endlinecolor\": \"#2a3f5f\", \"gridcolor\": \"white\", \"linecolor\": \"white\", \"minorgridcolor\": \"white\", \"startlinecolor\": \"#2a3f5f\"}, \"type\": \"carpet\"}], \"choropleth\": [{\"colorbar\": {\"outlinewidth\": 0, \"ticks\": \"\"}, \"type\": \"choropleth\"}], \"contour\": [{\"colorbar\": {\"outlinewidth\": 0, \"ticks\": \"\"}, \"colorscale\": [[0.0, \"#0d0887\"], [0.1111111111111111, \"#46039f\"], [0.2222222222222222, \"#7201a8\"], [0.3333333333333333, \"#9c179e\"], [0.4444444444444444, \"#bd3786\"], [0.5555555555555556, \"#d8576b\"], [0.6666666666666666, \"#ed7953\"], [0.7777777777777778, \"#fb9f3a\"], [0.8888888888888888, \"#fdca26\"], [1.0, \"#f0f921\"]], \"type\": \"contour\"}], \"contourcarpet\": [{\"colorbar\": {\"outlinewidth\": 0, \"ticks\": \"\"}, \"type\": \"contourcarpet\"}], \"heatmap\": [{\"colorbar\": {\"outlinewidth\": 0, \"ticks\": \"\"}, \"colorscale\": [[0.0, \"#0d0887\"], [0.1111111111111111, \"#46039f\"], [0.2222222222222222, \"#7201a8\"], [0.3333333333333333, \"#9c179e\"], [0.4444444444444444, \"#bd3786\"], [0.5555555555555556, \"#d8576b\"], [0.6666666666666666, \"#ed7953\"], [0.7777777777777778, \"#fb9f3a\"], [0.8888888888888888, \"#fdca26\"], [1.0, \"#f0f921\"]], \"type\": \"heatmap\"}], \"heatmapgl\": [{\"colorbar\": {\"outlinewidth\": 0, \"ticks\": \"\"}, \"colorscale\": [[0.0, \"#0d0887\"], [0.1111111111111111, \"#46039f\"], [0.2222222222222222, \"#7201a8\"], [0.3333333333333333, \"#9c179e\"], [0.4444444444444444, \"#bd3786\"], [0.5555555555555556, \"#d8576b\"], [0.6666666666666666, \"#ed7953\"], [0.7777777777777778, \"#fb9f3a\"], [0.8888888888888888, \"#fdca26\"], [1.0, \"#f0f921\"]], \"type\": \"heatmapgl\"}], \"histogram\": [{\"marker\": {\"colorbar\": {\"outlinewidth\": 0, \"ticks\": \"\"}}, \"type\": \"histogram\"}], \"histogram2d\": [{\"colorbar\": {\"outlinewidth\": 0, \"ticks\": \"\"}, \"colorscale\": [[0.0, \"#0d0887\"], [0.1111111111111111, \"#46039f\"], [0.2222222222222222, \"#7201a8\"], [0.3333333333333333, \"#9c179e\"], [0.4444444444444444, \"#bd3786\"], [0.5555555555555556, \"#d8576b\"], [0.6666666666666666, \"#ed7953\"], [0.7777777777777778, \"#fb9f3a\"], [0.8888888888888888, \"#fdca26\"], [1.0, \"#f0f921\"]], \"type\": \"histogram2d\"}], \"histogram2dcontour\": [{\"colorbar\": {\"outlinewidth\": 0, \"ticks\": \"\"}, \"colorscale\": [[0.0, \"#0d0887\"], [0.1111111111111111, \"#46039f\"], [0.2222222222222222, \"#7201a8\"], [0.3333333333333333, \"#9c179e\"], [0.4444444444444444, \"#bd3786\"], [0.5555555555555556, \"#d8576b\"], [0.6666666666666666, \"#ed7953\"], [0.7777777777777778, \"#fb9f3a\"], [0.8888888888888888, \"#fdca26\"], [1.0, \"#f0f921\"]], \"type\": \"histogram2dcontour\"}], \"mesh3d\": [{\"colorbar\": {\"outlinewidth\": 0, \"ticks\": \"\"}, \"type\": \"mesh3d\"}], \"parcoords\": [{\"line\": {\"colorbar\": {\"outlinewidth\": 0, \"ticks\": \"\"}}, \"type\": \"parcoords\"}], \"pie\": [{\"automargin\": true, \"type\": \"pie\"}], \"scatter\": [{\"marker\": {\"colorbar\": {\"outlinewidth\": 0, \"ticks\": \"\"}}, \"type\": \"scatter\"}], \"scatter3d\": [{\"line\": {\"colorbar\": {\"outlinewidth\": 0, \"ticks\": \"\"}}, \"marker\": {\"colorbar\": {\"outlinewidth\": 0, \"ticks\": \"\"}}, \"type\": \"scatter3d\"}], \"scattercarpet\": [{\"marker\": {\"colorbar\": {\"outlinewidth\": 0, \"ticks\": \"\"}}, \"type\": \"scattercarpet\"}], \"scattergeo\": [{\"marker\": {\"colorbar\": {\"outlinewidth\": 0, \"ticks\": \"\"}}, \"type\": \"scattergeo\"}], \"scattergl\": [{\"marker\": {\"colorbar\": {\"outlinewidth\": 0, \"ticks\": \"\"}}, \"type\": \"scattergl\"}], \"scattermapbox\": [{\"marker\": {\"colorbar\": {\"outlinewidth\": 0, \"ticks\": \"\"}}, \"type\": \"scattermapbox\"}], \"scatterpolar\": [{\"marker\": {\"colorbar\": {\"outlinewidth\": 0, \"ticks\": \"\"}}, \"type\": \"scatterpolar\"}], \"scatterpolargl\": [{\"marker\": {\"colorbar\": {\"outlinewidth\": 0, \"ticks\": \"\"}}, \"type\": \"scatterpolargl\"}], \"scatterternary\": [{\"marker\": {\"colorbar\": {\"outlinewidth\": 0, \"ticks\": \"\"}}, \"type\": \"scatterternary\"}], \"surface\": [{\"colorbar\": {\"outlinewidth\": 0, \"ticks\": \"\"}, \"colorscale\": [[0.0, \"#0d0887\"], [0.1111111111111111, \"#46039f\"], [0.2222222222222222, \"#7201a8\"], [0.3333333333333333, \"#9c179e\"], [0.4444444444444444, \"#bd3786\"], [0.5555555555555556, \"#d8576b\"], [0.6666666666666666, \"#ed7953\"], [0.7777777777777778, \"#fb9f3a\"], [0.8888888888888888, \"#fdca26\"], [1.0, \"#f0f921\"]], \"type\": \"surface\"}], \"table\": [{\"cells\": {\"fill\": {\"color\": \"#EBF0F8\"}, \"line\": {\"color\": \"white\"}}, \"header\": {\"fill\": {\"color\": \"#C8D4E3\"}, \"line\": {\"color\": \"white\"}}, \"type\": \"table\"}]}, \"layout\": {\"annotationdefaults\": {\"arrowcolor\": \"#2a3f5f\", \"arrowhead\": 0, \"arrowwidth\": 1}, \"coloraxis\": {\"colorbar\": {\"outlinewidth\": 0, \"ticks\": \"\"}}, \"colorscale\": {\"diverging\": [[0, \"#8e0152\"], [0.1, \"#c51b7d\"], [0.2, \"#de77ae\"], [0.3, \"#f1b6da\"], [0.4, \"#fde0ef\"], [0.5, \"#f7f7f7\"], [0.6, \"#e6f5d0\"], [0.7, \"#b8e186\"], [0.8, \"#7fbc41\"], [0.9, \"#4d9221\"], [1, \"#276419\"]], \"sequential\": [[0.0, \"#0d0887\"], [0.1111111111111111, \"#46039f\"], [0.2222222222222222, \"#7201a8\"], [0.3333333333333333, \"#9c179e\"], [0.4444444444444444, \"#bd3786\"], [0.5555555555555556, \"#d8576b\"], [0.6666666666666666, \"#ed7953\"], [0.7777777777777778, \"#fb9f3a\"], [0.8888888888888888, \"#fdca26\"], [1.0, \"#f0f921\"]], \"sequentialminus\": [[0.0, \"#0d0887\"], [0.1111111111111111, \"#46039f\"], [0.2222222222222222, \"#7201a8\"], [0.3333333333333333, \"#9c179e\"], [0.4444444444444444, \"#bd3786\"], [0.5555555555555556, \"#d8576b\"], [0.6666666666666666, \"#ed7953\"], [0.7777777777777778, \"#fb9f3a\"], [0.8888888888888888, \"#fdca26\"], [1.0, \"#f0f921\"]]}, \"colorway\": [\"#636efa\", \"#EF553B\", \"#00cc96\", \"#ab63fa\", \"#FFA15A\", \"#19d3f3\", \"#FF6692\", \"#B6E880\", \"#FF97FF\", \"#FECB52\"], \"font\": {\"color\": \"#2a3f5f\"}, \"geo\": {\"bgcolor\": \"white\", \"lakecolor\": \"white\", \"landcolor\": \"#E5ECF6\", \"showlakes\": true, \"showland\": true, \"subunitcolor\": \"white\"}, \"hoverlabel\": {\"align\": \"left\"}, \"hovermode\": \"closest\", \"mapbox\": {\"style\": \"light\"}, \"paper_bgcolor\": \"white\", \"plot_bgcolor\": \"#E5ECF6\", \"polar\": {\"angularaxis\": {\"gridcolor\": \"white\", \"linecolor\": \"white\", \"ticks\": \"\"}, \"bgcolor\": \"#E5ECF6\", \"radialaxis\": {\"gridcolor\": \"white\", \"linecolor\": \"white\", \"ticks\": \"\"}}, \"scene\": {\"xaxis\": {\"backgroundcolor\": \"#E5ECF6\", \"gridcolor\": \"white\", \"gridwidth\": 2, \"linecolor\": \"white\", \"showbackground\": true, \"ticks\": \"\", \"zerolinecolor\": \"white\"}, \"yaxis\": {\"backgroundcolor\": \"#E5ECF6\", \"gridcolor\": \"white\", \"gridwidth\": 2, \"linecolor\": \"white\", \"showbackground\": true, \"ticks\": \"\", \"zerolinecolor\": \"white\"}, \"zaxis\": {\"backgroundcolor\": \"#E5ECF6\", \"gridcolor\": \"white\", \"gridwidth\": 2, \"linecolor\": \"white\", \"showbackground\": true, \"ticks\": \"\", \"zerolinecolor\": \"white\"}}, \"shapedefaults\": {\"line\": {\"color\": \"#2a3f5f\"}}, \"ternary\": {\"aaxis\": {\"gridcolor\": \"white\", \"linecolor\": \"white\", \"ticks\": \"\"}, \"baxis\": {\"gridcolor\": \"white\", \"linecolor\": \"white\", \"ticks\": \"\"}, \"bgcolor\": \"#E5ECF6\", \"caxis\": {\"gridcolor\": \"white\", \"linecolor\": \"white\", \"ticks\": \"\"}}, \"title\": {\"x\": 0.05}, \"xaxis\": {\"automargin\": true, \"gridcolor\": \"white\", \"linecolor\": \"white\", \"ticks\": \"\", \"title\": {\"standoff\": 15}, \"zerolinecolor\": \"white\", \"zerolinewidth\": 2}, \"yaxis\": {\"automargin\": true, \"gridcolor\": \"white\", \"linecolor\": \"white\", \"ticks\": \"\", \"title\": {\"standoff\": 15}, \"zerolinecolor\": \"white\", \"zerolinewidth\": 2}}}, \"title\": {\"text\": \"How well did the model performe on unseen data?\"}, \"width\": 900, \"xaxis\": {\"dtick\": 1, \"gridcolor\": \"rgb(0, 0, 0)\", \"side\": \"bottom\", \"ticks\": \"\"}, \"yaxis\": {\"dtick\": 1, \"ticks\": \"\", \"ticksuffix\": \"  \"}},\n",
       "                        {\"responsive\": true}\n",
       "                    ).then(function(){\n",
       "                            \n",
       "var gd = document.getElementById('106d4df6-2357-4636-9e6d-ce35bfed1fd3');\n",
       "var x = new MutationObserver(function (mutations, observer) {{\n",
       "        var display = window.getComputedStyle(gd).display;\n",
       "        if (!display || display === 'none') {{\n",
       "            console.log([gd, 'removed!']);\n",
       "            Plotly.purge(gd);\n",
       "            observer.disconnect();\n",
       "        }}\n",
       "}});\n",
       "\n",
       "// Listen for the removal of the full notebook cells\n",
       "var notebookContainer = gd.closest('#notebook-container');\n",
       "if (notebookContainer) {{\n",
       "    x.observe(notebookContainer, {childList: true});\n",
       "}}\n",
       "\n",
       "// Listen for the clearing of the current output cell\n",
       "var outputEl = gd.closest('.output');\n",
       "if (outputEl) {{\n",
       "    x.observe(outputEl, {childList: true});\n",
       "}}\n",
       "\n",
       "                        })\n",
       "                };\n",
       "                });\n",
       "            </script>\n",
       "        </div>"
      ]
     },
     "metadata": {},
     "output_type": "display_data"
    }
   ],
   "source": [
    "# Set labels\n",
    "x = ['Deceased', 'Released']\n",
    "y =  ['Released', 'Deceased']\n",
    "\n",
    "# Custom colorscale to match Sklearn\n",
    "colorscale = [[0, 'rgb(247, 251, 255)'], [0.5, 'rgb(102, 171, 212)'], [1, 'rgb(8,49,107)']]\n",
    "\n",
    "# Set hovertext of actual numbers \n",
    "hover = [[\"Actual: 6\", \"Actual: 547\"],\n",
    "         [\"Actual: 10\", \"Actual: 16\"]]\n",
    "\n",
    "# set up figure \n",
    "fig = ff.create_annotated_heatmap(cmNorm, x=x, y=y, text = hover, hoverinfo='text', colorscale=colorscale)\n",
    "\n",
    "# add title\n",
    "fig.update_layout(title_text=\"How well did the model performe on unseen data?\")\n",
    "\n",
    "# add custom xaxis title\n",
    "fig.add_annotation(dict(font=dict(color=\"black\",size=20),\n",
    "                        x=0.5,\n",
    "                        y=-0.1,\n",
    "                        showarrow=False,\n",
    "                        text=\"What the model predicted\",\n",
    "                        xref=\"paper\",\n",
    "                        yref=\"paper\"))\n",
    "\n",
    "# add custom yaxis title\n",
    "fig.add_annotation(dict(font=dict(color=\"black\",size=20),\n",
    "                        x=-0.2,\n",
    "                        y=0.5,\n",
    "                        showarrow=False,\n",
    "                        text=\"What the patient actually was\",\n",
    "                        textangle=-90,\n",
    "                        xref=\"paper\",\n",
    "                        yref=\"paper\"))\n",
    "\n",
    "# adjust margins to make room for yaxis title\n",
    "fig.update_layout(margin=dict(t=50, l=200), width=900, height=700)\n",
    "fig.update_xaxes(side=\"bottom\")\n",
    "\n",
    "# add colorbar\n",
    "fig['data'][0]['showscale'] = True\n",
    "fig"
   ]
  },
  {
   "cell_type": "markdown",
   "metadata": {},
   "source": [
    "Secondly, the bar charts of the feature importances will be constructed using plotly. The bar-chart will not contain much interactivity except for the possibility to get some extra information when hovering over each bar. Here potential biases from some of the variables is highlighted, for instace, \"Days since first case\" and \"Regions\" are potentially prone to bias. Age and existing illness are known good predictors as they have been confirmed scientifically."
   ]
  },
  {
   "cell_type": "code",
   "execution_count": 44,
   "metadata": {},
   "outputs": [],
   "source": [
    "# Extract feature importances for plotting\n",
    "featureNames = feature_importance.index.tolist()\n",
    "featureImportance = np.multiply(feature_importance.tolist(),100)\n",
    "\n",
    "# Group regions\n",
    "regionImportance = sum(featureImportance[4:-1])\n",
    "featureImportance = featureImportance[0:4]\n",
    "featureImportance = np.append(featureImportance,regionImportance)\n",
    "featureNames = featureNames[0:4]\n",
    "featureNames.append('Regions')\n",
    "featureNames[0] = 'Sex'\n",
    "featureNames[1] = 'Age'"
   ]
  },
  {
   "cell_type": "code",
   "execution_count": 59,
   "metadata": {},
   "outputs": [
    {
     "data": {
      "application/vnd.jupyter.widget-view+json": {
       "model_id": "bece5ff36fd943bb99eae76080074e35",
       "version_major": 2,
       "version_minor": 0
      },
      "text/plain": [
       "FigureWidget({\n",
       "    'data': [{'text': [Potentially biased, Good predicter, Potentially biased,\n",
       "                …"
      ]
     },
     "metadata": {},
     "output_type": "display_data"
    }
   ],
   "source": [
    "# Construct plotly barchart\n",
    "fig = go.FigureWidget()\n",
    "fig.layout.title = \"Relative importance when predicting chance of survival of COVID-19 patients\"\n",
    "fig.add_bar(x=featureNames, y=featureImportance, text = ['Potentially biased', 'Good predicter', 'Potentially biased', 'Good predicter', 'Potentially biased'])\n",
    "fig.update_layout(xaxis={'categoryorder':'total descending'}, width=900, height=700)\n",
    "fig"
   ]
  },
  {
   "cell_type": "markdown",
   "metadata": {},
   "source": [
    "Then, an interactive dropdown chart will be constructed, such that the reader can choose which feature from the graph above to investigate. Regions will not be shown as investigations show that these does not really shown anything of interest. The plot is inspired by [12]."
   ]
  },
  {
   "cell_type": "code",
   "execution_count": 35,
   "metadata": {},
   "outputs": [],
   "source": [
    "# Get partial dependence graph data\n",
    "\n",
    "# Sex\n",
    "sex_y, sex_x = partial_dependence(rfc, X_train, [0])\n",
    "sex_y = np.multiply(sex_y[0],100)\n",
    "sex_x = ['Male', 'Female']\n",
    "\n",
    "# Age\n",
    "age_y, age_x = partial_dependence(rfc, X_train, [1])\n",
    "age_y = np.multiply(age_y[0],100)\n",
    "age_x = age_x[0]\n",
    "\n",
    "# Days since first case\n",
    "dsfc_y, dsfc_x = partial_dependence(rfc, X_train, [2])\n",
    "dsfc_y = np.multiply(dsfc_y[0],100)\n",
    "dsfc_x = dsfc_x[0]\n",
    "\n",
    "# Existing illness\n",
    "ei_y, ei_x = partial_dependence(rfc, X_train, [3])\n",
    "ei_y = np.multiply(ei_y[0],100)\n",
    "ei_x = ['No existing illness', 'Existing illness present']"
   ]
  },
  {
   "cell_type": "code",
   "execution_count": 58,
   "metadata": {},
   "outputs": [
    {
     "data": {
      "application/vnd.plotly.v1+json": {
       "config": {
        "plotlyServerURL": "https://plot.ly"
       },
       "data": [
        {
         "type": "scatter",
         "x": [
          3,
          6,
          11,
          13,
          16,
          17,
          21,
          27,
          29,
          30,
          31,
          32,
          33,
          34,
          35,
          36,
          37,
          38,
          39,
          40,
          41,
          42,
          43,
          44,
          45,
          46,
          47,
          48,
          49,
          50,
          51,
          52,
          53,
          54,
          55,
          56,
          57,
          58,
          59,
          60,
          61,
          62,
          63,
          64,
          65,
          66,
          67,
          68,
          69,
          70,
          71,
          72,
          73,
          74,
          75,
          76,
          77,
          78,
          79,
          82,
          84,
          85,
          87,
          91,
          92
         ],
         "y": [
          95.33737024221483,
          95.33737024221483,
          95.33737024221483,
          95.33737024221483,
          95.33737024221483,
          95.33737024221483,
          94.61072664359901,
          94.53719723183428,
          94.53719723183428,
          91.28027681660922,
          92.69031141868516,
          95.42820069204168,
          95.87370242214548,
          96.39705882352962,
          95.93533737024231,
          94.87910899653998,
          95.52436562860449,
          95.99365628604397,
          95.96020761245676,
          97.00259515570941,
          97.1107266435988,
          97.8287197231834,
          97.90224913494814,
          97.66878810347673,
          97.34179848409956,
          97.71193771626295,
          96.25865051903114,
          97.0112456747405,
          97.65138408304499,
          97.69109782950622,
          97.89438502673812,
          97.66514627241293,
          97.28019817552737,
          96.25511167033652,
          95.1910978295064,
          95.09738387333574,
          95.98406207402745,
          95.59550959421239,
          90.61043829296452,
          95.93742791234152,
          95.78820645905427,
          96.06177912341407,
          96.1569348327567,
          96.13675028835065,
          95.29764994233021,
          95.29764994233021,
          95.47931084198422,
          94.38307381776282,
          94.38307381776282,
          95.61577277970011,
          95.61577277970011,
          96.7143886966551,
          96.55002883506347,
          96.13220876585927,
          96.13220876585927,
          96.13220876585927,
          96.13220876585927,
          96.13220876585927,
          96.13220876585927,
          96.13220876585927,
          96.13220876585927,
          96.13220876585927,
          96.13220876585927,
          96.13220876585927,
          96.13220876585927
         ]
        }
       ],
       "layout": {
        "height": 500,
        "template": {
         "data": {
          "bar": [
           {
            "error_x": {
             "color": "#2a3f5f"
            },
            "error_y": {
             "color": "#2a3f5f"
            },
            "marker": {
             "line": {
              "color": "#E5ECF6",
              "width": 0.5
             }
            },
            "type": "bar"
           }
          ],
          "barpolar": [
           {
            "marker": {
             "line": {
              "color": "#E5ECF6",
              "width": 0.5
             }
            },
            "type": "barpolar"
           }
          ],
          "carpet": [
           {
            "aaxis": {
             "endlinecolor": "#2a3f5f",
             "gridcolor": "white",
             "linecolor": "white",
             "minorgridcolor": "white",
             "startlinecolor": "#2a3f5f"
            },
            "baxis": {
             "endlinecolor": "#2a3f5f",
             "gridcolor": "white",
             "linecolor": "white",
             "minorgridcolor": "white",
             "startlinecolor": "#2a3f5f"
            },
            "type": "carpet"
           }
          ],
          "choropleth": [
           {
            "colorbar": {
             "outlinewidth": 0,
             "ticks": ""
            },
            "type": "choropleth"
           }
          ],
          "contour": [
           {
            "colorbar": {
             "outlinewidth": 0,
             "ticks": ""
            },
            "colorscale": [
             [
              0,
              "#0d0887"
             ],
             [
              0.1111111111111111,
              "#46039f"
             ],
             [
              0.2222222222222222,
              "#7201a8"
             ],
             [
              0.3333333333333333,
              "#9c179e"
             ],
             [
              0.4444444444444444,
              "#bd3786"
             ],
             [
              0.5555555555555556,
              "#d8576b"
             ],
             [
              0.6666666666666666,
              "#ed7953"
             ],
             [
              0.7777777777777778,
              "#fb9f3a"
             ],
             [
              0.8888888888888888,
              "#fdca26"
             ],
             [
              1,
              "#f0f921"
             ]
            ],
            "type": "contour"
           }
          ],
          "contourcarpet": [
           {
            "colorbar": {
             "outlinewidth": 0,
             "ticks": ""
            },
            "type": "contourcarpet"
           }
          ],
          "heatmap": [
           {
            "colorbar": {
             "outlinewidth": 0,
             "ticks": ""
            },
            "colorscale": [
             [
              0,
              "#0d0887"
             ],
             [
              0.1111111111111111,
              "#46039f"
             ],
             [
              0.2222222222222222,
              "#7201a8"
             ],
             [
              0.3333333333333333,
              "#9c179e"
             ],
             [
              0.4444444444444444,
              "#bd3786"
             ],
             [
              0.5555555555555556,
              "#d8576b"
             ],
             [
              0.6666666666666666,
              "#ed7953"
             ],
             [
              0.7777777777777778,
              "#fb9f3a"
             ],
             [
              0.8888888888888888,
              "#fdca26"
             ],
             [
              1,
              "#f0f921"
             ]
            ],
            "type": "heatmap"
           }
          ],
          "heatmapgl": [
           {
            "colorbar": {
             "outlinewidth": 0,
             "ticks": ""
            },
            "colorscale": [
             [
              0,
              "#0d0887"
             ],
             [
              0.1111111111111111,
              "#46039f"
             ],
             [
              0.2222222222222222,
              "#7201a8"
             ],
             [
              0.3333333333333333,
              "#9c179e"
             ],
             [
              0.4444444444444444,
              "#bd3786"
             ],
             [
              0.5555555555555556,
              "#d8576b"
             ],
             [
              0.6666666666666666,
              "#ed7953"
             ],
             [
              0.7777777777777778,
              "#fb9f3a"
             ],
             [
              0.8888888888888888,
              "#fdca26"
             ],
             [
              1,
              "#f0f921"
             ]
            ],
            "type": "heatmapgl"
           }
          ],
          "histogram": [
           {
            "marker": {
             "colorbar": {
              "outlinewidth": 0,
              "ticks": ""
             }
            },
            "type": "histogram"
           }
          ],
          "histogram2d": [
           {
            "colorbar": {
             "outlinewidth": 0,
             "ticks": ""
            },
            "colorscale": [
             [
              0,
              "#0d0887"
             ],
             [
              0.1111111111111111,
              "#46039f"
             ],
             [
              0.2222222222222222,
              "#7201a8"
             ],
             [
              0.3333333333333333,
              "#9c179e"
             ],
             [
              0.4444444444444444,
              "#bd3786"
             ],
             [
              0.5555555555555556,
              "#d8576b"
             ],
             [
              0.6666666666666666,
              "#ed7953"
             ],
             [
              0.7777777777777778,
              "#fb9f3a"
             ],
             [
              0.8888888888888888,
              "#fdca26"
             ],
             [
              1,
              "#f0f921"
             ]
            ],
            "type": "histogram2d"
           }
          ],
          "histogram2dcontour": [
           {
            "colorbar": {
             "outlinewidth": 0,
             "ticks": ""
            },
            "colorscale": [
             [
              0,
              "#0d0887"
             ],
             [
              0.1111111111111111,
              "#46039f"
             ],
             [
              0.2222222222222222,
              "#7201a8"
             ],
             [
              0.3333333333333333,
              "#9c179e"
             ],
             [
              0.4444444444444444,
              "#bd3786"
             ],
             [
              0.5555555555555556,
              "#d8576b"
             ],
             [
              0.6666666666666666,
              "#ed7953"
             ],
             [
              0.7777777777777778,
              "#fb9f3a"
             ],
             [
              0.8888888888888888,
              "#fdca26"
             ],
             [
              1,
              "#f0f921"
             ]
            ],
            "type": "histogram2dcontour"
           }
          ],
          "mesh3d": [
           {
            "colorbar": {
             "outlinewidth": 0,
             "ticks": ""
            },
            "type": "mesh3d"
           }
          ],
          "parcoords": [
           {
            "line": {
             "colorbar": {
              "outlinewidth": 0,
              "ticks": ""
             }
            },
            "type": "parcoords"
           }
          ],
          "pie": [
           {
            "automargin": true,
            "type": "pie"
           }
          ],
          "scatter": [
           {
            "marker": {
             "colorbar": {
              "outlinewidth": 0,
              "ticks": ""
             }
            },
            "type": "scatter"
           }
          ],
          "scatter3d": [
           {
            "line": {
             "colorbar": {
              "outlinewidth": 0,
              "ticks": ""
             }
            },
            "marker": {
             "colorbar": {
              "outlinewidth": 0,
              "ticks": ""
             }
            },
            "type": "scatter3d"
           }
          ],
          "scattercarpet": [
           {
            "marker": {
             "colorbar": {
              "outlinewidth": 0,
              "ticks": ""
             }
            },
            "type": "scattercarpet"
           }
          ],
          "scattergeo": [
           {
            "marker": {
             "colorbar": {
              "outlinewidth": 0,
              "ticks": ""
             }
            },
            "type": "scattergeo"
           }
          ],
          "scattergl": [
           {
            "marker": {
             "colorbar": {
              "outlinewidth": 0,
              "ticks": ""
             }
            },
            "type": "scattergl"
           }
          ],
          "scattermapbox": [
           {
            "marker": {
             "colorbar": {
              "outlinewidth": 0,
              "ticks": ""
             }
            },
            "type": "scattermapbox"
           }
          ],
          "scatterpolar": [
           {
            "marker": {
             "colorbar": {
              "outlinewidth": 0,
              "ticks": ""
             }
            },
            "type": "scatterpolar"
           }
          ],
          "scatterpolargl": [
           {
            "marker": {
             "colorbar": {
              "outlinewidth": 0,
              "ticks": ""
             }
            },
            "type": "scatterpolargl"
           }
          ],
          "scatterternary": [
           {
            "marker": {
             "colorbar": {
              "outlinewidth": 0,
              "ticks": ""
             }
            },
            "type": "scatterternary"
           }
          ],
          "surface": [
           {
            "colorbar": {
             "outlinewidth": 0,
             "ticks": ""
            },
            "colorscale": [
             [
              0,
              "#0d0887"
             ],
             [
              0.1111111111111111,
              "#46039f"
             ],
             [
              0.2222222222222222,
              "#7201a8"
             ],
             [
              0.3333333333333333,
              "#9c179e"
             ],
             [
              0.4444444444444444,
              "#bd3786"
             ],
             [
              0.5555555555555556,
              "#d8576b"
             ],
             [
              0.6666666666666666,
              "#ed7953"
             ],
             [
              0.7777777777777778,
              "#fb9f3a"
             ],
             [
              0.8888888888888888,
              "#fdca26"
             ],
             [
              1,
              "#f0f921"
             ]
            ],
            "type": "surface"
           }
          ],
          "table": [
           {
            "cells": {
             "fill": {
              "color": "#EBF0F8"
             },
             "line": {
              "color": "white"
             }
            },
            "header": {
             "fill": {
              "color": "#C8D4E3"
             },
             "line": {
              "color": "white"
             }
            },
            "type": "table"
           }
          ]
         },
         "layout": {
          "annotationdefaults": {
           "arrowcolor": "#2a3f5f",
           "arrowhead": 0,
           "arrowwidth": 1
          },
          "coloraxis": {
           "colorbar": {
            "outlinewidth": 0,
            "ticks": ""
           }
          },
          "colorscale": {
           "diverging": [
            [
             0,
             "#8e0152"
            ],
            [
             0.1,
             "#c51b7d"
            ],
            [
             0.2,
             "#de77ae"
            ],
            [
             0.3,
             "#f1b6da"
            ],
            [
             0.4,
             "#fde0ef"
            ],
            [
             0.5,
             "#f7f7f7"
            ],
            [
             0.6,
             "#e6f5d0"
            ],
            [
             0.7,
             "#b8e186"
            ],
            [
             0.8,
             "#7fbc41"
            ],
            [
             0.9,
             "#4d9221"
            ],
            [
             1,
             "#276419"
            ]
           ],
           "sequential": [
            [
             0,
             "#0d0887"
            ],
            [
             0.1111111111111111,
             "#46039f"
            ],
            [
             0.2222222222222222,
             "#7201a8"
            ],
            [
             0.3333333333333333,
             "#9c179e"
            ],
            [
             0.4444444444444444,
             "#bd3786"
            ],
            [
             0.5555555555555556,
             "#d8576b"
            ],
            [
             0.6666666666666666,
             "#ed7953"
            ],
            [
             0.7777777777777778,
             "#fb9f3a"
            ],
            [
             0.8888888888888888,
             "#fdca26"
            ],
            [
             1,
             "#f0f921"
            ]
           ],
           "sequentialminus": [
            [
             0,
             "#0d0887"
            ],
            [
             0.1111111111111111,
             "#46039f"
            ],
            [
             0.2222222222222222,
             "#7201a8"
            ],
            [
             0.3333333333333333,
             "#9c179e"
            ],
            [
             0.4444444444444444,
             "#bd3786"
            ],
            [
             0.5555555555555556,
             "#d8576b"
            ],
            [
             0.6666666666666666,
             "#ed7953"
            ],
            [
             0.7777777777777778,
             "#fb9f3a"
            ],
            [
             0.8888888888888888,
             "#fdca26"
            ],
            [
             1,
             "#f0f921"
            ]
           ]
          },
          "colorway": [
           "#636efa",
           "#EF553B",
           "#00cc96",
           "#ab63fa",
           "#FFA15A",
           "#19d3f3",
           "#FF6692",
           "#B6E880",
           "#FF97FF",
           "#FECB52"
          ],
          "font": {
           "color": "#2a3f5f"
          },
          "geo": {
           "bgcolor": "white",
           "lakecolor": "white",
           "landcolor": "#E5ECF6",
           "showlakes": true,
           "showland": true,
           "subunitcolor": "white"
          },
          "hoverlabel": {
           "align": "left"
          },
          "hovermode": "closest",
          "mapbox": {
           "style": "light"
          },
          "paper_bgcolor": "white",
          "plot_bgcolor": "#E5ECF6",
          "polar": {
           "angularaxis": {
            "gridcolor": "white",
            "linecolor": "white",
            "ticks": ""
           },
           "bgcolor": "#E5ECF6",
           "radialaxis": {
            "gridcolor": "white",
            "linecolor": "white",
            "ticks": ""
           }
          },
          "scene": {
           "xaxis": {
            "backgroundcolor": "#E5ECF6",
            "gridcolor": "white",
            "gridwidth": 2,
            "linecolor": "white",
            "showbackground": true,
            "ticks": "",
            "zerolinecolor": "white"
           },
           "yaxis": {
            "backgroundcolor": "#E5ECF6",
            "gridcolor": "white",
            "gridwidth": 2,
            "linecolor": "white",
            "showbackground": true,
            "ticks": "",
            "zerolinecolor": "white"
           },
           "zaxis": {
            "backgroundcolor": "#E5ECF6",
            "gridcolor": "white",
            "gridwidth": 2,
            "linecolor": "white",
            "showbackground": true,
            "ticks": "",
            "zerolinecolor": "white"
           }
          },
          "shapedefaults": {
           "line": {
            "color": "#2a3f5f"
           }
          },
          "ternary": {
           "aaxis": {
            "gridcolor": "white",
            "linecolor": "white",
            "ticks": ""
           },
           "baxis": {
            "gridcolor": "white",
            "linecolor": "white",
            "ticks": ""
           },
           "bgcolor": "#E5ECF6",
           "caxis": {
            "gridcolor": "white",
            "linecolor": "white",
            "ticks": ""
           }
          },
          "title": {
           "x": 0.05
          },
          "xaxis": {
           "automargin": true,
           "gridcolor": "white",
           "linecolor": "white",
           "ticks": "",
           "title": {
            "standoff": 15
           },
           "zerolinecolor": "white",
           "zerolinewidth": 2
          },
          "yaxis": {
           "automargin": true,
           "gridcolor": "white",
           "linecolor": "white",
           "ticks": "",
           "title": {
            "standoff": 15
           },
           "zerolinecolor": "white",
           "zerolinewidth": 2
          }
         }
        },
        "title": {
         "text": "How each feature impacts a prediction"
        },
        "updatemenus": [
         {
          "buttons": [
           {
            "args": [
             {
              "x": [
               [
                3,
                6,
                11,
                13,
                16,
                17,
                21,
                27,
                29,
                30,
                31,
                32,
                33,
                34,
                35,
                36,
                37,
                38,
                39,
                40,
                41,
                42,
                43,
                44,
                45,
                46,
                47,
                48,
                49,
                50,
                51,
                52,
                53,
                54,
                55,
                56,
                57,
                58,
                59,
                60,
                61,
                62,
                63,
                64,
                65,
                66,
                67,
                68,
                69,
                70,
                71,
                72,
                73,
                74,
                75,
                76,
                77,
                78,
                79,
                82,
                84,
                85,
                87,
                91,
                92
               ]
              ],
              "xaxis": "test",
              "y": [
               [
                95.33737024221483,
                95.33737024221483,
                95.33737024221483,
                95.33737024221483,
                95.33737024221483,
                95.33737024221483,
                94.61072664359901,
                94.53719723183428,
                94.53719723183428,
                91.28027681660922,
                92.69031141868516,
                95.42820069204168,
                95.87370242214548,
                96.39705882352962,
                95.93533737024231,
                94.87910899653998,
                95.52436562860449,
                95.99365628604397,
                95.96020761245676,
                97.00259515570941,
                97.1107266435988,
                97.8287197231834,
                97.90224913494814,
                97.66878810347673,
                97.34179848409956,
                97.71193771626295,
                96.25865051903114,
                97.0112456747405,
                97.65138408304499,
                97.69109782950622,
                97.89438502673812,
                97.66514627241293,
                97.28019817552737,
                96.25511167033652,
                95.1910978295064,
                95.09738387333574,
                95.98406207402745,
                95.59550959421239,
                90.61043829296452,
                95.93742791234152,
                95.78820645905427,
                96.06177912341407,
                96.1569348327567,
                96.13675028835065,
                95.29764994233021,
                95.29764994233021,
                95.47931084198422,
                94.38307381776282,
                94.38307381776282,
                95.61577277970011,
                95.61577277970011,
                96.7143886966551,
                96.55002883506347,
                96.13220876585927,
                96.13220876585927,
                96.13220876585927,
                96.13220876585927,
                96.13220876585927,
                96.13220876585927,
                96.13220876585927,
                96.13220876585927,
                96.13220876585927,
                96.13220876585927,
                96.13220876585927,
                96.13220876585927
               ]
              ]
             }
            ],
            "label": "Days since first case",
            "method": "restyle"
           },
           {
            "args": [
             {
              "x": [
               [
                0,
                10,
                20,
                30,
                40,
                50,
                60,
                70,
                80,
                90
               ]
              ],
              "xaxis": "nooo",
              "y": [
               [
                99.21280276816614,
                99.21280276816614,
                99.21280276816614,
                99.00086505190315,
                98.71972318339107,
                98.91003460207621,
                97.11292531718591,
                79.49610726643606,
                78.69237106607379,
                71.47786908881221
               ]
              ]
             }
            ],
            "label": "Age",
            "method": "restyle"
           },
           {
            "args": [
             {
              "x": [
               [
                "No existing illness",
                "Existing illness present"
               ]
              ],
              "y": [
               [
                97.28498311089146,
                48.30565167243365
               ]
              ]
             }
            ],
            "label": "Existing illness",
            "method": "restyle"
           },
           {
            "args": [
             {
              "x": [
               [
                "Male",
                "Female"
               ]
              ],
              "y": [
               [
                94.61320383768494,
                97.99075218322628
               ]
              ]
             }
            ],
            "label": "Sex",
            "method": "restyle"
           }
          ],
          "direction": "down",
          "showactive": true
         }
        ],
        "width": 900,
        "xaxis": {
         "title": {
          "text": "Value according to dropdown selected"
         }
        },
        "yaxis": {
         "title": {
          "text": "Chance of survival in %"
         }
        }
       }
      },
      "text/html": [
       "<div>\n",
       "        \n",
       "        \n",
       "            <div id=\"2cdadd55-4401-48a6-83db-a2fdc84a8950\" class=\"plotly-graph-div\" style=\"height:500px; width:900px;\"></div>\n",
       "            <script type=\"text/javascript\">\n",
       "                require([\"plotly\"], function(Plotly) {\n",
       "                    window.PLOTLYENV=window.PLOTLYENV || {};\n",
       "                    \n",
       "                if (document.getElementById(\"2cdadd55-4401-48a6-83db-a2fdc84a8950\")) {\n",
       "                    Plotly.newPlot(\n",
       "                        '2cdadd55-4401-48a6-83db-a2fdc84a8950',\n",
       "                        [{\"type\": \"scatter\", \"x\": [3.0, 6.0, 11.0, 13.0, 16.0, 17.0, 21.0, 27.0, 29.0, 30.0, 31.0, 32.0, 33.0, 34.0, 35.0, 36.0, 37.0, 38.0, 39.0, 40.0, 41.0, 42.0, 43.0, 44.0, 45.0, 46.0, 47.0, 48.0, 49.0, 50.0, 51.0, 52.0, 53.0, 54.0, 55.0, 56.0, 57.0, 58.0, 59.0, 60.0, 61.0, 62.0, 63.0, 64.0, 65.0, 66.0, 67.0, 68.0, 69.0, 70.0, 71.0, 72.0, 73.0, 74.0, 75.0, 76.0, 77.0, 78.0, 79.0, 82.0, 84.0, 85.0, 87.0, 91.0, 92.0], \"y\": [95.33737024221483, 95.33737024221483, 95.33737024221483, 95.33737024221483, 95.33737024221483, 95.33737024221483, 94.61072664359901, 94.53719723183428, 94.53719723183428, 91.28027681660922, 92.69031141868516, 95.42820069204168, 95.87370242214548, 96.39705882352962, 95.93533737024231, 94.87910899653998, 95.52436562860449, 95.99365628604397, 95.96020761245676, 97.00259515570941, 97.1107266435988, 97.8287197231834, 97.90224913494814, 97.66878810347673, 97.34179848409956, 97.71193771626295, 96.25865051903114, 97.0112456747405, 97.65138408304499, 97.69109782950622, 97.89438502673812, 97.66514627241293, 97.28019817552737, 96.25511167033652, 95.1910978295064, 95.09738387333574, 95.98406207402745, 95.59550959421239, 90.61043829296452, 95.93742791234152, 95.78820645905427, 96.06177912341407, 96.1569348327567, 96.13675028835065, 95.29764994233021, 95.29764994233021, 95.47931084198422, 94.38307381776282, 94.38307381776282, 95.61577277970011, 95.61577277970011, 96.7143886966551, 96.55002883506347, 96.13220876585927, 96.13220876585927, 96.13220876585927, 96.13220876585927, 96.13220876585927, 96.13220876585927, 96.13220876585927, 96.13220876585927, 96.13220876585927, 96.13220876585927, 96.13220876585927, 96.13220876585927]}],\n",
       "                        {\"height\": 500, \"template\": {\"data\": {\"bar\": [{\"error_x\": {\"color\": \"#2a3f5f\"}, \"error_y\": {\"color\": \"#2a3f5f\"}, \"marker\": {\"line\": {\"color\": \"#E5ECF6\", \"width\": 0.5}}, \"type\": \"bar\"}], \"barpolar\": [{\"marker\": {\"line\": {\"color\": \"#E5ECF6\", \"width\": 0.5}}, \"type\": \"barpolar\"}], \"carpet\": [{\"aaxis\": {\"endlinecolor\": \"#2a3f5f\", \"gridcolor\": \"white\", \"linecolor\": \"white\", \"minorgridcolor\": \"white\", \"startlinecolor\": \"#2a3f5f\"}, \"baxis\": {\"endlinecolor\": \"#2a3f5f\", \"gridcolor\": \"white\", \"linecolor\": \"white\", \"minorgridcolor\": \"white\", \"startlinecolor\": \"#2a3f5f\"}, \"type\": \"carpet\"}], \"choropleth\": [{\"colorbar\": {\"outlinewidth\": 0, \"ticks\": \"\"}, \"type\": \"choropleth\"}], \"contour\": [{\"colorbar\": {\"outlinewidth\": 0, \"ticks\": \"\"}, \"colorscale\": [[0.0, \"#0d0887\"], [0.1111111111111111, \"#46039f\"], [0.2222222222222222, \"#7201a8\"], [0.3333333333333333, \"#9c179e\"], [0.4444444444444444, \"#bd3786\"], [0.5555555555555556, \"#d8576b\"], [0.6666666666666666, \"#ed7953\"], [0.7777777777777778, \"#fb9f3a\"], [0.8888888888888888, \"#fdca26\"], [1.0, \"#f0f921\"]], \"type\": \"contour\"}], \"contourcarpet\": [{\"colorbar\": {\"outlinewidth\": 0, \"ticks\": \"\"}, \"type\": \"contourcarpet\"}], \"heatmap\": [{\"colorbar\": {\"outlinewidth\": 0, \"ticks\": \"\"}, \"colorscale\": [[0.0, \"#0d0887\"], [0.1111111111111111, \"#46039f\"], [0.2222222222222222, \"#7201a8\"], [0.3333333333333333, \"#9c179e\"], [0.4444444444444444, \"#bd3786\"], [0.5555555555555556, \"#d8576b\"], [0.6666666666666666, \"#ed7953\"], [0.7777777777777778, \"#fb9f3a\"], [0.8888888888888888, \"#fdca26\"], [1.0, \"#f0f921\"]], \"type\": \"heatmap\"}], \"heatmapgl\": [{\"colorbar\": {\"outlinewidth\": 0, \"ticks\": \"\"}, \"colorscale\": [[0.0, \"#0d0887\"], [0.1111111111111111, \"#46039f\"], [0.2222222222222222, \"#7201a8\"], [0.3333333333333333, \"#9c179e\"], [0.4444444444444444, \"#bd3786\"], [0.5555555555555556, \"#d8576b\"], [0.6666666666666666, \"#ed7953\"], [0.7777777777777778, \"#fb9f3a\"], [0.8888888888888888, \"#fdca26\"], [1.0, \"#f0f921\"]], \"type\": \"heatmapgl\"}], \"histogram\": [{\"marker\": {\"colorbar\": {\"outlinewidth\": 0, \"ticks\": \"\"}}, \"type\": \"histogram\"}], \"histogram2d\": [{\"colorbar\": {\"outlinewidth\": 0, \"ticks\": \"\"}, \"colorscale\": [[0.0, \"#0d0887\"], [0.1111111111111111, \"#46039f\"], [0.2222222222222222, \"#7201a8\"], [0.3333333333333333, \"#9c179e\"], [0.4444444444444444, \"#bd3786\"], [0.5555555555555556, \"#d8576b\"], [0.6666666666666666, \"#ed7953\"], [0.7777777777777778, \"#fb9f3a\"], [0.8888888888888888, \"#fdca26\"], [1.0, \"#f0f921\"]], \"type\": \"histogram2d\"}], \"histogram2dcontour\": [{\"colorbar\": {\"outlinewidth\": 0, \"ticks\": \"\"}, \"colorscale\": [[0.0, \"#0d0887\"], [0.1111111111111111, \"#46039f\"], [0.2222222222222222, \"#7201a8\"], [0.3333333333333333, \"#9c179e\"], [0.4444444444444444, \"#bd3786\"], [0.5555555555555556, \"#d8576b\"], [0.6666666666666666, \"#ed7953\"], [0.7777777777777778, \"#fb9f3a\"], [0.8888888888888888, \"#fdca26\"], [1.0, \"#f0f921\"]], \"type\": \"histogram2dcontour\"}], \"mesh3d\": [{\"colorbar\": {\"outlinewidth\": 0, \"ticks\": \"\"}, \"type\": \"mesh3d\"}], \"parcoords\": [{\"line\": {\"colorbar\": {\"outlinewidth\": 0, \"ticks\": \"\"}}, \"type\": \"parcoords\"}], \"pie\": [{\"automargin\": true, \"type\": \"pie\"}], \"scatter\": [{\"marker\": {\"colorbar\": {\"outlinewidth\": 0, \"ticks\": \"\"}}, \"type\": \"scatter\"}], \"scatter3d\": [{\"line\": {\"colorbar\": {\"outlinewidth\": 0, \"ticks\": \"\"}}, \"marker\": {\"colorbar\": {\"outlinewidth\": 0, \"ticks\": \"\"}}, \"type\": \"scatter3d\"}], \"scattercarpet\": [{\"marker\": {\"colorbar\": {\"outlinewidth\": 0, \"ticks\": \"\"}}, \"type\": \"scattercarpet\"}], \"scattergeo\": [{\"marker\": {\"colorbar\": {\"outlinewidth\": 0, \"ticks\": \"\"}}, \"type\": \"scattergeo\"}], \"scattergl\": [{\"marker\": {\"colorbar\": {\"outlinewidth\": 0, \"ticks\": \"\"}}, \"type\": \"scattergl\"}], \"scattermapbox\": [{\"marker\": {\"colorbar\": {\"outlinewidth\": 0, \"ticks\": \"\"}}, \"type\": \"scattermapbox\"}], \"scatterpolar\": [{\"marker\": {\"colorbar\": {\"outlinewidth\": 0, \"ticks\": \"\"}}, \"type\": \"scatterpolar\"}], \"scatterpolargl\": [{\"marker\": {\"colorbar\": {\"outlinewidth\": 0, \"ticks\": \"\"}}, \"type\": \"scatterpolargl\"}], \"scatterternary\": [{\"marker\": {\"colorbar\": {\"outlinewidth\": 0, \"ticks\": \"\"}}, \"type\": \"scatterternary\"}], \"surface\": [{\"colorbar\": {\"outlinewidth\": 0, \"ticks\": \"\"}, \"colorscale\": [[0.0, \"#0d0887\"], [0.1111111111111111, \"#46039f\"], [0.2222222222222222, \"#7201a8\"], [0.3333333333333333, \"#9c179e\"], [0.4444444444444444, \"#bd3786\"], [0.5555555555555556, \"#d8576b\"], [0.6666666666666666, \"#ed7953\"], [0.7777777777777778, \"#fb9f3a\"], [0.8888888888888888, \"#fdca26\"], [1.0, \"#f0f921\"]], \"type\": \"surface\"}], \"table\": [{\"cells\": {\"fill\": {\"color\": \"#EBF0F8\"}, \"line\": {\"color\": \"white\"}}, \"header\": {\"fill\": {\"color\": \"#C8D4E3\"}, \"line\": {\"color\": \"white\"}}, \"type\": \"table\"}]}, \"layout\": {\"annotationdefaults\": {\"arrowcolor\": \"#2a3f5f\", \"arrowhead\": 0, \"arrowwidth\": 1}, \"coloraxis\": {\"colorbar\": {\"outlinewidth\": 0, \"ticks\": \"\"}}, \"colorscale\": {\"diverging\": [[0, \"#8e0152\"], [0.1, \"#c51b7d\"], [0.2, \"#de77ae\"], [0.3, \"#f1b6da\"], [0.4, \"#fde0ef\"], [0.5, \"#f7f7f7\"], [0.6, \"#e6f5d0\"], [0.7, \"#b8e186\"], [0.8, \"#7fbc41\"], [0.9, \"#4d9221\"], [1, \"#276419\"]], \"sequential\": [[0.0, \"#0d0887\"], [0.1111111111111111, \"#46039f\"], [0.2222222222222222, \"#7201a8\"], [0.3333333333333333, \"#9c179e\"], [0.4444444444444444, \"#bd3786\"], [0.5555555555555556, \"#d8576b\"], [0.6666666666666666, \"#ed7953\"], [0.7777777777777778, \"#fb9f3a\"], [0.8888888888888888, \"#fdca26\"], [1.0, \"#f0f921\"]], \"sequentialminus\": [[0.0, \"#0d0887\"], [0.1111111111111111, \"#46039f\"], [0.2222222222222222, \"#7201a8\"], [0.3333333333333333, \"#9c179e\"], [0.4444444444444444, \"#bd3786\"], [0.5555555555555556, \"#d8576b\"], [0.6666666666666666, \"#ed7953\"], [0.7777777777777778, \"#fb9f3a\"], [0.8888888888888888, \"#fdca26\"], [1.0, \"#f0f921\"]]}, \"colorway\": [\"#636efa\", \"#EF553B\", \"#00cc96\", \"#ab63fa\", \"#FFA15A\", \"#19d3f3\", \"#FF6692\", \"#B6E880\", \"#FF97FF\", \"#FECB52\"], \"font\": {\"color\": \"#2a3f5f\"}, \"geo\": {\"bgcolor\": \"white\", \"lakecolor\": \"white\", \"landcolor\": \"#E5ECF6\", \"showlakes\": true, \"showland\": true, \"subunitcolor\": \"white\"}, \"hoverlabel\": {\"align\": \"left\"}, \"hovermode\": \"closest\", \"mapbox\": {\"style\": \"light\"}, \"paper_bgcolor\": \"white\", \"plot_bgcolor\": \"#E5ECF6\", \"polar\": {\"angularaxis\": {\"gridcolor\": \"white\", \"linecolor\": \"white\", \"ticks\": \"\"}, \"bgcolor\": \"#E5ECF6\", \"radialaxis\": {\"gridcolor\": \"white\", \"linecolor\": \"white\", \"ticks\": \"\"}}, \"scene\": {\"xaxis\": {\"backgroundcolor\": \"#E5ECF6\", \"gridcolor\": \"white\", \"gridwidth\": 2, \"linecolor\": \"white\", \"showbackground\": true, \"ticks\": \"\", \"zerolinecolor\": \"white\"}, \"yaxis\": {\"backgroundcolor\": \"#E5ECF6\", \"gridcolor\": \"white\", \"gridwidth\": 2, \"linecolor\": \"white\", \"showbackground\": true, \"ticks\": \"\", \"zerolinecolor\": \"white\"}, \"zaxis\": {\"backgroundcolor\": \"#E5ECF6\", \"gridcolor\": \"white\", \"gridwidth\": 2, \"linecolor\": \"white\", \"showbackground\": true, \"ticks\": \"\", \"zerolinecolor\": \"white\"}}, \"shapedefaults\": {\"line\": {\"color\": \"#2a3f5f\"}}, \"ternary\": {\"aaxis\": {\"gridcolor\": \"white\", \"linecolor\": \"white\", \"ticks\": \"\"}, \"baxis\": {\"gridcolor\": \"white\", \"linecolor\": \"white\", \"ticks\": \"\"}, \"bgcolor\": \"#E5ECF6\", \"caxis\": {\"gridcolor\": \"white\", \"linecolor\": \"white\", \"ticks\": \"\"}}, \"title\": {\"x\": 0.05}, \"xaxis\": {\"automargin\": true, \"gridcolor\": \"white\", \"linecolor\": \"white\", \"ticks\": \"\", \"title\": {\"standoff\": 15}, \"zerolinecolor\": \"white\", \"zerolinewidth\": 2}, \"yaxis\": {\"automargin\": true, \"gridcolor\": \"white\", \"linecolor\": \"white\", \"ticks\": \"\", \"title\": {\"standoff\": 15}, \"zerolinecolor\": \"white\", \"zerolinewidth\": 2}}}, \"title\": {\"text\": \"How each feature impacts a prediction\"}, \"updatemenus\": [{\"buttons\": [{\"args\": [{\"x\": [[3.0, 6.0, 11.0, 13.0, 16.0, 17.0, 21.0, 27.0, 29.0, 30.0, 31.0, 32.0, 33.0, 34.0, 35.0, 36.0, 37.0, 38.0, 39.0, 40.0, 41.0, 42.0, 43.0, 44.0, 45.0, 46.0, 47.0, 48.0, 49.0, 50.0, 51.0, 52.0, 53.0, 54.0, 55.0, 56.0, 57.0, 58.0, 59.0, 60.0, 61.0, 62.0, 63.0, 64.0, 65.0, 66.0, 67.0, 68.0, 69.0, 70.0, 71.0, 72.0, 73.0, 74.0, 75.0, 76.0, 77.0, 78.0, 79.0, 82.0, 84.0, 85.0, 87.0, 91.0, 92.0]], \"xaxis\": \"test\", \"y\": [[95.33737024221483, 95.33737024221483, 95.33737024221483, 95.33737024221483, 95.33737024221483, 95.33737024221483, 94.61072664359901, 94.53719723183428, 94.53719723183428, 91.28027681660922, 92.69031141868516, 95.42820069204168, 95.87370242214548, 96.39705882352962, 95.93533737024231, 94.87910899653998, 95.52436562860449, 95.99365628604397, 95.96020761245676, 97.00259515570941, 97.1107266435988, 97.8287197231834, 97.90224913494814, 97.66878810347673, 97.34179848409956, 97.71193771626295, 96.25865051903114, 97.0112456747405, 97.65138408304499, 97.69109782950622, 97.89438502673812, 97.66514627241293, 97.28019817552737, 96.25511167033652, 95.1910978295064, 95.09738387333574, 95.98406207402745, 95.59550959421239, 90.61043829296452, 95.93742791234152, 95.78820645905427, 96.06177912341407, 96.1569348327567, 96.13675028835065, 95.29764994233021, 95.29764994233021, 95.47931084198422, 94.38307381776282, 94.38307381776282, 95.61577277970011, 95.61577277970011, 96.7143886966551, 96.55002883506347, 96.13220876585927, 96.13220876585927, 96.13220876585927, 96.13220876585927, 96.13220876585927, 96.13220876585927, 96.13220876585927, 96.13220876585927, 96.13220876585927, 96.13220876585927, 96.13220876585927, 96.13220876585927]]}], \"label\": \"Days since first case\", \"method\": \"restyle\"}, {\"args\": [{\"x\": [[0, 10, 20, 30, 40, 50, 60, 70, 80, 90]], \"xaxis\": \"nooo\", \"y\": [[99.21280276816614, 99.21280276816614, 99.21280276816614, 99.00086505190315, 98.71972318339107, 98.91003460207621, 97.11292531718591, 79.49610726643606, 78.69237106607379, 71.47786908881221]]}], \"label\": \"Age\", \"method\": \"restyle\"}, {\"args\": [{\"x\": [[\"No existing illness\", \"Existing illness present\"]], \"y\": [[97.28498311089146, 48.30565167243365]]}], \"label\": \"Existing illness\", \"method\": \"restyle\"}, {\"args\": [{\"x\": [[\"Male\", \"Female\"]], \"y\": [[94.61320383768494, 97.99075218322628]]}], \"label\": \"Sex\", \"method\": \"restyle\"}], \"direction\": \"down\", \"showactive\": true}], \"width\": 900, \"xaxis\": {\"title\": {\"text\": \"Value according to dropdown selected\"}}, \"yaxis\": {\"title\": {\"text\": \"Chance of survival in %\"}}},\n",
       "                        {\"responsive\": true}\n",
       "                    ).then(function(){\n",
       "                            \n",
       "var gd = document.getElementById('2cdadd55-4401-48a6-83db-a2fdc84a8950');\n",
       "var x = new MutationObserver(function (mutations, observer) {{\n",
       "        var display = window.getComputedStyle(gd).display;\n",
       "        if (!display || display === 'none') {{\n",
       "            console.log([gd, 'removed!']);\n",
       "            Plotly.purge(gd);\n",
       "            observer.disconnect();\n",
       "        }}\n",
       "}});\n",
       "\n",
       "// Listen for the removal of the full notebook cells\n",
       "var notebookContainer = gd.closest('#notebook-container');\n",
       "if (notebookContainer) {{\n",
       "    x.observe(notebookContainer, {childList: true});\n",
       "}}\n",
       "\n",
       "// Listen for the clearing of the current output cell\n",
       "var outputEl = gd.closest('.output');\n",
       "if (outputEl) {{\n",
       "    x.observe(outputEl, {childList: true});\n",
       "}}\n",
       "\n",
       "                        })\n",
       "                };\n",
       "                });\n",
       "            </script>\n",
       "        </div>"
      ]
     },
     "metadata": {},
     "output_type": "display_data"
    }
   ],
   "source": [
    "# Make interactive PDP plots\n",
    "\n",
    "# Show first line\n",
    "initLine = go.Scatter(x=dsfc_x, y=dsfc_y)\n",
    "\n",
    "# Construct dropdown menu and graph-changes\n",
    "updatemenus = [\n",
    "    {\n",
    "        'buttons': [\n",
    "            {\n",
    "                'method': 'restyle',\n",
    "                'label': 'Days since first case',\n",
    "                'args': [\n",
    "                    {'x': [dsfc_x], 'y': [dsfc_y], 'xaxis': \"test\"},\n",
    "                ]\n",
    "            },\n",
    "            {\n",
    "                'method': 'restyle',\n",
    "                'label': 'Age',\n",
    "                'args': [\n",
    "                    {'x': [age_x], 'y': [age_y], 'xaxis': \"nooo\"},\n",
    "                ]\n",
    "            },\n",
    "            {\n",
    "                'method': 'restyle',\n",
    "                'label': 'Existing illness',\n",
    "                'args': [\n",
    "                    {'x': [ei_x], 'y': [ei_y]},\n",
    "                ]\n",
    "            },\n",
    "            {\n",
    "                'method': 'restyle',\n",
    "                'label': 'Sex',\n",
    "                'args': [\n",
    "                    {'x': [sex_x], 'y': [sex_y]},\n",
    "                ]\n",
    "            }\n",
    "        ],\n",
    "        'direction': 'down',\n",
    "        'showactive': True,\n",
    "    }\n",
    "]\n",
    "\n",
    "# Update layout based on dropdown\n",
    "layout = go.Layout(\n",
    "    title_text = \"How each feature impacts a prediction\",\n",
    "    yaxis_title=\"Chance of survival in %\",\n",
    "    xaxis_title=\"Value according to dropdown selected\",\n",
    "    width=900, \n",
    "    height=500,\n",
    "    updatemenus=updatemenus,\n",
    ")\n",
    "\n",
    "# Plot figure\n",
    "figure = go.Figure(data=[initLine], layout=layout)\n",
    "figure"
   ]
  },
  {
   "cell_type": "markdown",
   "metadata": {},
   "source": [
    "The graphs are identical to the previous PDP plots, however, investigating \"Days since first case\" now shows more granularity, and an interesting pattern emerges, showing lower chance of fatality in the beginning, then a steep drop followed by a rise and a new drop and a slight rise again. No conclusions can be made, but many hypothesis could; For instance, a slightly higher chance of death in the beginning is the disease was not very known, then less chance in the middle as awareness increased dramatically and then slight increase but a higher base level in the end as it reaches elderly in society and awareness relaxing slightly. \n",
    "\n",
    "Finally, the risk-profiling widget will be constructed. First, the user will be given a task of inputting his/her own values in the tabs below. This part is inspired by [13]."
   ]
  },
  {
   "cell_type": "code",
   "execution_count": 60,
   "metadata": {},
   "outputs": [
    {
     "data": {
      "application/vnd.jupyter.widget-view+json": {
       "model_id": "a62f79069f124e6ebae7f1ee18ca7505",
       "version_major": 2,
       "version_minor": 0
      },
      "text/plain": [
       "Accordion(children=(RadioButtons(layout=Layout(width='max-content'), options=('Male', 'Female'), value='Male')…"
      ]
     },
     "metadata": {},
     "output_type": "display_data"
    }
   ],
   "source": [
    "# Specify sex picker\n",
    "sexPick = widgets.RadioButtons(options=['Male','Female'],value='Male',layout={'width': 'max-content'})\n",
    "# Specificy age picker\n",
    "agePick = widgets.Dropdown(options=[('0', 0), ('10', 10), ('20', 20), \n",
    "                                    ('30',30), ('40',40), ('50',50), \n",
    "                                    ('60',60),('70',70),('80', 80),('90',90)],\n",
    "                                    value=20,\n",
    "                                    layout={'width': 'max-content'},\n",
    "                                    description='Pick closest:',)\n",
    "# Specify existing illness picker\n",
    "eiPick = widgets.RadioButtons(options=['Yes','No'],value = 'No', layout={'width': 'max-content'})\n",
    "\n",
    "# Specify 'Days since first case' picker\n",
    "dsfcPick = widgets.IntRangeSlider(value=[20, 40],\n",
    "                                       min=0,\n",
    "                                       max=73,\n",
    "                                       step=1,\n",
    "                                       description='Approx:',\n",
    "                                       disabled=False,\n",
    "                                       continuous_update=False,\n",
    "                                       orientation='horizontal',\n",
    "                                       readout=True,\n",
    "                                       readout_format='d',)\n",
    "\n",
    "# Specify regions picker\n",
    "regPick = widgets.Dropdown(options=['Busan','Chungcheongbuk-do','Chungcheongnam-do',\n",
    "                                    'Daejeon','Gangwon-do','Gwangju','Gyeonggi-do',\n",
    "                                    'Gyeongsangbuk-do','Gyeongsangnam-do','Incheon',\n",
    "                                    'Jeju-do','Jeollabuk-do','Jeollanam-do','Sejong','Seoul',\n",
    "                                    'Ulsan'],\n",
    "                                    value='Busan',\n",
    "                                    description='Pick:',\n",
    "                                    disabled=False,)\n",
    "\n",
    "# Build tabs\n",
    "accordion = widgets.Accordion(children=[sexPick,agePick,eiPick,dsfcPick,regPick])\n",
    "accordion.set_title(0, 'Sex')\n",
    "accordion.set_title(1, 'Age')\n",
    "accordion.set_title(2, 'Existing illness')\n",
    "accordion.set_title(3, 'Days since first case')\n",
    "accordion.set_title(4, 'Region')\n",
    "accordion"
   ]
  },
  {
   "cell_type": "markdown",
   "metadata": {},
   "source": [
    "Then, the values will be given to the RandomForestClassifier and predictions will be made."
   ]
  },
  {
   "cell_type": "code",
   "execution_count": 61,
   "metadata": {},
   "outputs": [],
   "source": [
    "# Function takes input from widgets and returns person information to be used for prediction\n",
    "def personalInfo(sex, age, ei, dsfc, reg):\n",
    "\n",
    "    # Get average dsfc\n",
    "    dsfc = sum(dsfc)/2\n",
    "    \n",
    "    # Set all regions to 0\n",
    "    busan = 0\n",
    "    Chungcheongbuk_do = 0\n",
    "    Chungcheongnam_do = 0\n",
    "    Daejeon = 0\n",
    "    Gangwon_do = 0\n",
    "    Gwangju = 0\n",
    "    Gyeonggi_do = 0\n",
    "    Gyeongsangbuk_do = 0\n",
    "    Gyeongsangnam_do = 0\n",
    "    Incheon = 0\n",
    "    Jeju_do = 0\n",
    "    Jeollabuk_do = 0\n",
    "    Jeollanam_do = 0\n",
    "    Sejong = 0\n",
    "    Seoul = 0\n",
    "    Ulsan = 0\n",
    "    \n",
    "    # Set sex\n",
    "    if sex == 'Male':\n",
    "        sex = 0\n",
    "    else:\n",
    "        sex = 1\n",
    "        \n",
    "    # Set existing illes\n",
    "    if ei == \"Yes\":\n",
    "        ei = 1\n",
    "    else:\n",
    "        ei = 0   \n",
    "    \n",
    "    # Set region \n",
    "    if reg == \"Busan\":\n",
    "        busan = 1\n",
    "    elif reg == \"Chungcheongbuk-do\":\n",
    "        Chungcheongbuk_do = 1\n",
    "    elif reg == \"Chungcheongnam-do\":\n",
    "        Chungcheongnam_do = 1\n",
    "    elif reg == \"Daejeon\":\n",
    "        Daejeon = 1\n",
    "    elif reg == \"Gangwon-do\":\n",
    "        Gangwon_do = 1\n",
    "    elif reg == \"Gwangju\":\n",
    "        Gwangju = 1\n",
    "    elif reg == \"Gyeonggi-do\":\n",
    "        Gyeonggi_do = 1\n",
    "    elif reg == \"Gyeongsangbuk-do\":\n",
    "        Gyeongsangbuk_do = 1\n",
    "    elif reg == \"Gyeongsangnam-do\":\n",
    "        Gyeongsangnam_do = 1\n",
    "    elif reg == \"Incheon\":\n",
    "        Incheon = 1\n",
    "    elif reg == \"Jeju-do\":\n",
    "        Jeju_do = 1\n",
    "    elif reg == \"Jeollabuk-do\":\n",
    "        Jeollabuk_do = 1\n",
    "    elif reg == \"Jeollanam-do\":\n",
    "        Jeollanam_do = 1\n",
    "    elif reg == \"Sejong\":\n",
    "        Sejong = 1\n",
    "    elif reg == \"Seoul\":\n",
    "        Seoul = 1\n",
    "    elif reg == \"Ulsan\":\n",
    "        Ulsan = 1\n",
    "    \n",
    "    # Construct dataframe for prediction\n",
    "    X_pred = pd.DataFrame({\"sex\":[sex], \n",
    "                            \"age\":[age],  \n",
    "                            \"Days since first case\":[dsfc],\n",
    "                            \"Existing illness\":[ei],\n",
    "                            \"Busan\":[busan],\n",
    "                            \"Chungcheongbuk-do\":[Chungcheongbuk_do],\n",
    "                            \"Chungcheongnam-do\":[Chungcheongnam_do],\n",
    "                            \"Daejeon\":[Daejeon],\n",
    "                            \"Gangwon-do\":[Gangwon_do],\n",
    "                            \"Gwangju\":[Gwangju],\n",
    "                            \"Gyeonggi-do\":[Gyeonggi_do],\n",
    "                            \"Gyeongsangbuk-do\":[Gyeongsangbuk_do],\n",
    "                            \"Gyeongsangnam-do\":[Gyeongsangnam_do],\n",
    "                            \"Incheon\":[Incheon],\n",
    "                            \"Jeju-do\":[Jeju_do],\n",
    "                            \"Jeollabuk-do\":[Jeollabuk_do],\n",
    "                            \"Jeollanam-do\":[Jeollanam_do],\n",
    "                            \"Sejong\":[Sejong],\n",
    "                            \"Seoul\":[Seoul],\n",
    "                            \"Ulsan\":[Ulsan]})\n",
    "    return X_pred"
   ]
  },
  {
   "cell_type": "code",
   "execution_count": 62,
   "metadata": {},
   "outputs": [],
   "source": [
    "# Function takes a profile for prediction and returns a risk profile\n",
    "# - HIGH\n",
    "# - MEDIUM\n",
    "# - LOW\n",
    "def riskProfile(personal_info):\n",
    "    \n",
    "    # Predict using model\n",
    "    prediction = rfc.predict_proba(personal_info)\n",
    "    \n",
    "    if prediction[0][1] <= 0.5:\n",
    "        # High risk\n",
    "        x = \"High risk\"\n",
    "    elif (prediction[0][1] > 0.5) & (prediction[0][1] <= 0.8):\n",
    "        x = \"Medium risk\"\n",
    "    else:\n",
    "        x = \"Low risk\"\n",
    "        \n",
    "    return x"
   ]
  },
  {
   "cell_type": "markdown",
   "metadata": {},
   "source": [
    "And finally a button takes the input from the user, and when the user clicks it returns the risk-profile."
   ]
  },
  {
   "cell_type": "code",
   "execution_count": 1,
   "metadata": {},
   "outputs": [
    {
     "ename": "NameError",
     "evalue": "name 'Image' is not defined",
     "output_type": "error",
     "traceback": [
      "\u001b[0;31m---------------------------------------------------------------------------\u001b[0m",
      "\u001b[0;31mNameError\u001b[0m                                 Traceback (most recent call last)",
      "\u001b[0;32m<ipython-input-1-5e4a83a89c43>\u001b[0m in \u001b[0;36m<module>\u001b[0;34m\u001b[0m\n\u001b[1;32m      1\u001b[0m \u001b[0;31m# Construct button with images\u001b[0m\u001b[0;34m\u001b[0m\u001b[0;34m\u001b[0m\u001b[0;34m\u001b[0m\u001b[0m\n\u001b[1;32m      2\u001b[0m \u001b[0;34m\u001b[0m\u001b[0m\n\u001b[0;32m----> 3\u001b[0;31m \u001b[0mhighrisk\u001b[0m \u001b[0;34m=\u001b[0m \u001b[0mImage\u001b[0m\u001b[0;34m(\u001b[0m\u001b[0mfilename\u001b[0m\u001b[0;34m=\u001b[0m\u001b[0;34m'images/highrisk.png'\u001b[0m\u001b[0;34m,\u001b[0m\u001b[0mwidth\u001b[0m\u001b[0;34m=\u001b[0m\u001b[0;36m700\u001b[0m\u001b[0;34m)\u001b[0m\u001b[0;34m\u001b[0m\u001b[0;34m\u001b[0m\u001b[0m\n\u001b[0m\u001b[1;32m      4\u001b[0m \u001b[0mmediumrisk\u001b[0m \u001b[0;34m=\u001b[0m \u001b[0mImage\u001b[0m\u001b[0;34m(\u001b[0m\u001b[0mfilename\u001b[0m\u001b[0;34m=\u001b[0m\u001b[0;34m'images/mediumrisk.png'\u001b[0m\u001b[0;34m,\u001b[0m\u001b[0mwidth\u001b[0m\u001b[0;34m=\u001b[0m\u001b[0;36m700\u001b[0m\u001b[0;34m)\u001b[0m\u001b[0;34m\u001b[0m\u001b[0;34m\u001b[0m\u001b[0m\n\u001b[1;32m      5\u001b[0m \u001b[0mlowrisk\u001b[0m \u001b[0;34m=\u001b[0m \u001b[0mImage\u001b[0m\u001b[0;34m(\u001b[0m\u001b[0mfilename\u001b[0m\u001b[0;34m=\u001b[0m\u001b[0;34m'images/lowrisk.png'\u001b[0m\u001b[0;34m,\u001b[0m\u001b[0mwidth\u001b[0m\u001b[0;34m=\u001b[0m\u001b[0;36m700\u001b[0m\u001b[0;34m)\u001b[0m\u001b[0;34m\u001b[0m\u001b[0;34m\u001b[0m\u001b[0m\n",
      "\u001b[0;31mNameError\u001b[0m: name 'Image' is not defined"
     ]
    }
   ],
   "source": [
    "# Construct button with images\n",
    "\n",
    "highrisk = Image(filename='images/highrisk.png',width=700)\n",
    "mediumrisk = Image(filename='images/mediumrisk.png',width=700)\n",
    "lowrisk = Image(filename='images/lowrisk.png',width=700)\n",
    "\n",
    "btn = widgets.Button(description='Get risk-profile')\n",
    "out = widgets.Output(layout={'border': '0px solid black'})\n",
    "display(btn)\n",
    "\n",
    "def btn_eventhandler(obj):\n",
    "    out.clear_output()\n",
    "    info = personalInfo(sexPick.value, agePick.value, eiPick.value, dsfcPick.value, regPick.value)\n",
    "    prof = riskProfile(info)\n",
    "    with out:\n",
    "        if prof == \"High risk\":\n",
    "            display(highrisk)\n",
    "        elif prof == \"Medium risk\":\n",
    "            display(mediumrisk)\n",
    "        else:\n",
    "            display(lowrisk)\n",
    "\n",
    "btn.on_click(btn_eventhandler)\n",
    "out\n",
    "\n",
    "# Construct button with risk predictions\n",
    "\n",
    "btn2 = widgets.Button(description='Get prediction info')\n",
    "out = widgets.Output(layout={'border': '0px solid black'})\n",
    "display(btn2)\n",
    "\n",
    "def btn_eventhandler(obj):\n",
    "    out.clear_output()\n",
    "    info = personalInfo(sexPick.value, agePick.value, eiPick.value, dsfcPick.value, regPick.value)\n",
    "    with out:\n",
    "        print(\"This table shows the prediction y = 'prediction' together with the probability of survival.\")\n",
    "        print(\"The contribution indicates how much 'Feature' with 'Value' contributed to the prediction.\")\n",
    "        print(\"Existing illness present = 1. Sex female = 1. Region = 1 means person is from that region.\")\n",
    "        print(\"If no features specifically lowers chance of survival, the model will have a high <BIAS> towards saying 'Released'.\")\n",
    "        display(show_prediction(rfc, info, show_feature_values=True, feature_names = info.columns.to_numpy()))\n",
    "\n",
    "btn2.on_click(btn_eventhandler)\n",
    "out"
   ]
  },
  {
   "cell_type": "markdown",
   "metadata": {},
   "source": [
    "The risk profile is based on some information from the official South Korean KCDC, however, the profiles are made only for show as an MVP. The idea behind the profile is that, given citizens have an app, personalizing risk profiles could increase compliance and spread awareness quicker among tech-users. However, privacy issues and the potential that people getting a \"high-risk\" profile directly presented should be considered before deploying something like this.\n",
    "\n",
    "The actually prediction info is here included mainly to let the user play around with the model and see how different inputs affect the output. This part is not mend as being something that would necesarily be provided to the general public."
   ]
  },
  {
   "cell_type": "markdown",
   "metadata": {},
   "source": [
    "# <span style=\"color:orange\">6:</span> Conclusion and discussion\n",
    "\n",
    "There are multiple points which could be discussed here, but it will be kept brief.\n",
    "\n",
    "## <span style=\"color:orange\">6.1:</span> Discussion\n",
    "\n",
    "For the dataset used, it must be noted that it is highly imbalanced and highly prone to bias. Additionally, the dataset used is very new which means that; 1. It is prone to errors (as discovered) and 2. It may include skewed distributions due to recency - for instance, are there more female attracting COVID-19, or is it just that right now more data for female has been entered into the dataset by chance. \n",
    "\n",
    "The dataset is far from perfect and would genererally not be advised for machinelearning, however, this part shows that some interesting insights can still be extracted, although these were already known. The machine learning used here is not very sophisticated and only one type of model (RandomForestClassifier) was tried, however, due to the limitations of the dataset it was argued that time would not be well spend going too much into detail with the ML.  \n",
    "\n",
    "## <span style=\"color:orange\">6.2:</span> Concluding remarks\n",
    "\n",
    "In conclusion, it is shown that ML can be used to drive an interpretable analysis gaining insights into a spreading pandemic, and that it can be used to create user-interactive modules that can be used to create a storyline with multiple purposes in 1: Educating the reader about COVID-19, 2: Educating the reader about ML and 3: Showing an MVP of how governments could use ML in battling global pandemics.\n",
    "\n",
    "The story-elements have not been brought to live through vivid descriptions and story-telling. This is done only on the website. \n",
    "\n",
    "The main learnings specifically was that old 'Age' and presence of 'Existing illness' significantly increases risk of death from COVID-19. Additionally, the 'sex' male seems more prone to suffering fatal attacks. Finally, 'Days since first case' seems to have some say in whether the attack will be fatal or not- perhabs reflecting preparedness of society. "
   ]
  },
  {
   "cell_type": "markdown",
   "metadata": {},
   "source": [
    "# <span style=\"color:orange\">7:</span> References\n",
    "1. https://github.com/ResidentMario/missingno\n",
    "1. https://sci2s.ugr.es/imbalanced#Evaluation%20in%20imbalanced%20domains\n",
    "1. https://scikit-learn.org/stable/modules/model_evaluation.html#scoring-parameter\n",
    "1. https://scikit-learn.org/stable/\n",
    "1. https://stats.stackexchange.com/questions/264533/how-should-feature-selection-and-hyperparameter-optimization-be-ordered-in-the-m\n",
    "1. https://towardsdatascience.com/hyperparameter-tuning-the-random-forest-in-python-using-scikit-learn-28d2aa77dd74\n",
    "1. https://towardsdatascience.com/explaining-feature-importance-by-example-of-a-random-forest-d9166011959e\n",
    "1. https://eli5.readthedocs.io/en/latest/overview.html\n",
    "1. https://plotly.com/python/\n",
    "1. https://ipywidgets.readthedocs.io/en/latest/\n",
    "1. https://stackoverflow.com/questions/60860121/plotly-how-to-make-an-annotated-confusion-matrix-using-a-heatmap\n",
    "1. https://www.kaggle.com/jrmistry/plotly-how-to-change-plot-data-using-dropdowns\n",
    "1. https://towardsdatascience.com/bring-your-jupyter-notebook-to-life-with-interactive-widgets-bc12e03f0916\n"
   ]
  },
  {
   "cell_type": "code",
   "execution_count": null,
   "metadata": {},
   "outputs": [],
   "source": []
  }
 ],
 "metadata": {
  "kernelspec": {
   "display_name": "Python 3",
   "language": "python",
   "name": "python3"
  },
  "language_info": {
   "codemirror_mode": {
    "name": "ipython",
    "version": 3
   },
   "file_extension": ".py",
   "mimetype": "text/x-python",
   "name": "python",
   "nbconvert_exporter": "python",
   "pygments_lexer": "ipython3",
   "version": "3.7.1"
  },
  "widgets": {
   "application/vnd.jupyter.widget-state+json": {
    "state": {
     "00e791d6f46047228b4b951c115ad8d9": {
      "buffers": [
       {
        "data": "Bjz6D32w2j9R8Lrz5QznPwDAYWaQ+x0/9Aj+t2pZ0z88Bcej5cjCPxDKsIyAo7c/5OE05l/Xxz/Oo1u9qh3WP+j7e2ejZNk/VJ9il/w94T+KlYE6FdTaPycjGXJR7eU/DGIYx30ryj9KFuu8iRnsP8CsZ0R+C5w/qeWnR3h05T/+WqgzH7XaPwsJuX3J4OE/3KoG/zL4wT9ESHS8Y1vJP18n3RKzn+k/EAY2s//77j9YDr5IJA/UP5SWEsKBJ+Y/3sd1Q2EL7D/jC1EnnqDsP1gcjBp1xbU/kKZ5Ef3+oz/8qPLQAL3FP+eerk6+Gew/iGT6EkItuT8ujF9lbfPaP7irpfEHp+4/yErKpLAP4T+slCh52yPmP+API3loMdQ/MB0iy9D35T+VcKblQLXqP6C5X4QpupI/twF/pi4B6D+xfaQCwKTvP8CoMRn58Oc/9q6RW8vy0T+edOO4xkHpP9D/WAIFbbo/IADBm0mq3D/7emLgNhPtPyIaOv+SytI/arf0QOlq0j8IlGW4xqTAP4AotIru1JM/st2qSwW55T9QMpFOoRbLP3g1ZGq3/tA/NNSsRO913z8Q5zfkVVKrPz+sdOIrX+I/VPhNfwDIwj8SPgtJl9viP06P7KRrZOY/kAIS0ZYyuj8qeZmv5H/aP53k+K2GOOY/XCZTxOmB2j8wtf3wf5OpPxxvLjgQJuE/R1OPRM495T/Yayu7+HngPz+EHsgeOu4/C1KIEw/F4j9hxCkiq+jsP0TtKmfFmME/QDBGrs7TwT94pYJBJtbpP5qxToyJc9k/8NBvilMqxT9o7nF5Jq7tP+5skbzLQdY/ASWNGqcG6D+wWIEgYDvnP/3EwiILROw/nkuXah/14z8Cb2ptuAfoP+4ZG7ZZVNY/TC3aon9G0T/z2gKTGavsP/D8DJfYZds/AvMLPPjf7j9NEP6p6TrlPyKQS2zu5OM/2LQu+f1fvT/dmkFMN2LuP/Ss10Jcy9w/53DE7yqC4j9O1gnT6R7aP6zrNGzmVs4//xwWK3zo7D/YlzQVlVviPwDuSBeDg2c/opmcsKa/4z8=",
        "encoding": "base64",
        "path": [
         "_data",
         0,
         "x",
         "value"
        ]
       },
       {
        "data": "0gqhBMDn1D9kOQn0qN3gPz4P1j6jWew/Ut/D+4Hd1j9a8Q5PuBLtPzCc3umQ8uM/QKBuonEzkD84p1Mn873tP4aONNrTG+Y/ccNHnBHq7z/8QY/3QA/GP1xd4guqjcE/IpDEcNLX7T95dNuZVUzmP9AhXydj5bA/CnII2sAs6D/uktX0wB/oP898MsBqie0/h1ATks/E5j/gTYPFONC/P8BkujJ1W5Q/YCW+jQ3Xmj+AdkFBYPycP4xYoiHYg88/paUnVVmF6z8XUu2kGj7hP1fk3re3sOE/nf8cxerx6j/w1XmH0sm/P/CBuzgl3tE/jb9HOoq+4j/v9Kup7QbvP+areKX18+E/ADgQaEYYkz/YtihpyJ7pP5xvetsZ0s0/qqhzRs7T6T+yT2pztdLYP/zqAYcious/gxS2pWvo5z/gqbZRuMzhP1BcymVdd8E/MEzQCYitrj+Qdv1dXRC/P5B1pvqAz6Y/wM0FObyEuz+8e9wpC+TMPwndJETO0OY/DQeeljPp4T/AlDgh87aJP4hkawnobLI/bHlxfe3z7j+UPBkF4S3iPxz6LkGDBco/rpM34Rom0D9Tf6Xga83nP4z2BE/VA8k/hgp8CX6a4j/wNzNcZwrvPw299rY4Ges/7GTH1FSzzj+ChqJJ7JnfP5xR7V+t1uM/J3SS8wKH6j/sSiaMvRHEPyDrV9OjBZM/UBZFofjssT+c0YI+RyDfP/jfDAsNZ+M/kTXS7Qc04j84LkFsqk/UP8v1b1i+ou8/m4mV2EWN4j/U/xGkO1TYP23T3CheoeE/N3Cql8fZ5z+CPtkZW2rlPyTiDilx9NA/0Kp02FH7sD+4rbOhda/XP2cKTFSlJuQ/VNaGYfvmyj8zGabQkhboP4AmaOuICLE/vDDDqACp0D+Js5KkjMDpP9Bt5V50wsg/F2xOqnZ25D/0y1tjGcrgP0lAfuIGmO0/oJyYstrZ0D8Q30t30+KwP0VIFw6phec/tH7ysq616D84YKnU0wztPzWMvxa30u0/gHlDbaSSjD/MK6irk//NP8h8BvelvOM/aSeXeVde7j8=",
        "encoding": "base64",
        "path": [
         "_data",
         0,
         "y",
         "value"
        ]
       }
      ],
      "model_module": "plotlywidget",
      "model_module_version": "4.6.0",
      "model_name": "FigureModel",
      "state": {
       "_config": {
        "plotlyServerURL": "https://plot.ly"
       },
       "_data": [
        {
         "marker": {
          "color": [
           "#a3a7e4",
           "#a3a7e4",
           "#a3a7e4",
           "#a3a7e4",
           "#a3a7e4",
           "#a3a7e4",
           "#a3a7e4",
           "#a3a7e4",
           "#a3a7e4",
           "#a3a7e4",
           "#a3a7e4",
           "#a3a7e4",
           "#a3a7e4",
           "#a3a7e4",
           "#a3a7e4",
           "#a3a7e4",
           "#a3a7e4",
           "#a3a7e4",
           "#a3a7e4",
           "#a3a7e4",
           "#a3a7e4",
           "#a3a7e4",
           "#a3a7e4",
           "#a3a7e4",
           "#a3a7e4",
           "#a3a7e4",
           "#a3a7e4",
           "#a3a7e4",
           "#a3a7e4",
           "#a3a7e4",
           "#a3a7e4",
           "#a3a7e4",
           "#a3a7e4",
           "#a3a7e4",
           "#a3a7e4",
           "#a3a7e4",
           "#a3a7e4",
           "#a3a7e4",
           "#a3a7e4",
           "#a3a7e4",
           "#a3a7e4",
           "#a3a7e4",
           "#a3a7e4",
           "#a3a7e4",
           "#a3a7e4",
           "#a3a7e4",
           "#a3a7e4",
           "#a3a7e4",
           "#a3a7e4",
           "#a3a7e4",
           "#a3a7e4",
           "#a3a7e4",
           "#a3a7e4",
           "#a3a7e4",
           "#a3a7e4",
           "#a3a7e4",
           "#a3a7e4",
           "#a3a7e4",
           "#a3a7e4",
           "#a3a7e4",
           "#a3a7e4",
           "#a3a7e4",
           "#a3a7e4",
           "#a3a7e4",
           "#a3a7e4",
           "#a3a7e4",
           "#a3a7e4",
           "#a3a7e4",
           "#a3a7e4",
           "#a3a7e4",
           "#a3a7e4",
           "#a3a7e4",
           "#a3a7e4",
           "#a3a7e4",
           "#a3a7e4",
           "#a3a7e4",
           "#a3a7e4",
           "#a3a7e4",
           "#a3a7e4",
           "#a3a7e4",
           "#a3a7e4",
           "#a3a7e4",
           "#a3a7e4",
           "#a3a7e4",
           "#a3a7e4",
           "#a3a7e4",
           "#a3a7e4",
           "#a3a7e4",
           "#a3a7e4",
           "#a3a7e4",
           "#a3a7e4",
           "#a3a7e4",
           "#a3a7e4",
           "#a3a7e4",
           "#a3a7e4",
           "#bae2be",
           "#a3a7e4",
           "#a3a7e4",
           "#a3a7e4",
           "#a3a7e4"
          ],
          "size": [
           10,
           10,
           10,
           10,
           10,
           10,
           10,
           10,
           10,
           10,
           10,
           10,
           10,
           10,
           10,
           10,
           10,
           10,
           10,
           10,
           10,
           10,
           10,
           10,
           10,
           10,
           10,
           10,
           10,
           10,
           10,
           10,
           10,
           10,
           10,
           10,
           10,
           10,
           10,
           10,
           10,
           10,
           10,
           10,
           10,
           10,
           10,
           10,
           10,
           10,
           10,
           10,
           10,
           10,
           10,
           10,
           10,
           10,
           10,
           10,
           10,
           10,
           10,
           10,
           10,
           10,
           10,
           10,
           10,
           10,
           10,
           10,
           10,
           10,
           10,
           10,
           10,
           10,
           10,
           10,
           10,
           10,
           10,
           10,
           10,
           10,
           10,
           10,
           10,
           10,
           10,
           10,
           10,
           10,
           10,
           20,
           10,
           10,
           10,
           10
          ]
         },
         "mode": "markers",
         "type": "scatter",
         "uid": "452c4876-9800-4a74-8aec-5af570605591",
         "x": {
          "dtype": "float64",
          "shape": [
           100
          ],
          "value": {}
         },
         "y": {
          "dtype": "float64",
          "shape": [
           100
          ],
          "value": {}
         }
        }
       ],
       "_js2py_relayout": {},
       "_js2py_restyle": {},
       "_js2py_update": {},
       "_last_layout_edit_id": 4,
       "_last_trace_edit_id": 3,
       "_layout": {
        "hovermode": "closest",
        "template": {
         "data": {
          "bar": [
           {
            "error_x": {
             "color": "#2a3f5f"
            },
            "error_y": {
             "color": "#2a3f5f"
            },
            "marker": {
             "line": {
              "color": "#E5ECF6",
              "width": 0.5
             }
            },
            "type": "bar"
           }
          ],
          "barpolar": [
           {
            "marker": {
             "line": {
              "color": "#E5ECF6",
              "width": 0.5
             }
            },
            "type": "barpolar"
           }
          ],
          "carpet": [
           {
            "aaxis": {
             "endlinecolor": "#2a3f5f",
             "gridcolor": "white",
             "linecolor": "white",
             "minorgridcolor": "white",
             "startlinecolor": "#2a3f5f"
            },
            "baxis": {
             "endlinecolor": "#2a3f5f",
             "gridcolor": "white",
             "linecolor": "white",
             "minorgridcolor": "white",
             "startlinecolor": "#2a3f5f"
            },
            "type": "carpet"
           }
          ],
          "choropleth": [
           {
            "colorbar": {
             "outlinewidth": 0,
             "ticks": ""
            },
            "type": "choropleth"
           }
          ],
          "contour": [
           {
            "colorbar": {
             "outlinewidth": 0,
             "ticks": ""
            },
            "colorscale": [
             [
              0,
              "#0d0887"
             ],
             [
              0.1111111111111111,
              "#46039f"
             ],
             [
              0.2222222222222222,
              "#7201a8"
             ],
             [
              0.3333333333333333,
              "#9c179e"
             ],
             [
              0.4444444444444444,
              "#bd3786"
             ],
             [
              0.5555555555555556,
              "#d8576b"
             ],
             [
              0.6666666666666666,
              "#ed7953"
             ],
             [
              0.7777777777777778,
              "#fb9f3a"
             ],
             [
              0.8888888888888888,
              "#fdca26"
             ],
             [
              1,
              "#f0f921"
             ]
            ],
            "type": "contour"
           }
          ],
          "contourcarpet": [
           {
            "colorbar": {
             "outlinewidth": 0,
             "ticks": ""
            },
            "type": "contourcarpet"
           }
          ],
          "heatmap": [
           {
            "colorbar": {
             "outlinewidth": 0,
             "ticks": ""
            },
            "colorscale": [
             [
              0,
              "#0d0887"
             ],
             [
              0.1111111111111111,
              "#46039f"
             ],
             [
              0.2222222222222222,
              "#7201a8"
             ],
             [
              0.3333333333333333,
              "#9c179e"
             ],
             [
              0.4444444444444444,
              "#bd3786"
             ],
             [
              0.5555555555555556,
              "#d8576b"
             ],
             [
              0.6666666666666666,
              "#ed7953"
             ],
             [
              0.7777777777777778,
              "#fb9f3a"
             ],
             [
              0.8888888888888888,
              "#fdca26"
             ],
             [
              1,
              "#f0f921"
             ]
            ],
            "type": "heatmap"
           }
          ],
          "heatmapgl": [
           {
            "colorbar": {
             "outlinewidth": 0,
             "ticks": ""
            },
            "colorscale": [
             [
              0,
              "#0d0887"
             ],
             [
              0.1111111111111111,
              "#46039f"
             ],
             [
              0.2222222222222222,
              "#7201a8"
             ],
             [
              0.3333333333333333,
              "#9c179e"
             ],
             [
              0.4444444444444444,
              "#bd3786"
             ],
             [
              0.5555555555555556,
              "#d8576b"
             ],
             [
              0.6666666666666666,
              "#ed7953"
             ],
             [
              0.7777777777777778,
              "#fb9f3a"
             ],
             [
              0.8888888888888888,
              "#fdca26"
             ],
             [
              1,
              "#f0f921"
             ]
            ],
            "type": "heatmapgl"
           }
          ],
          "histogram": [
           {
            "marker": {
             "colorbar": {
              "outlinewidth": 0,
              "ticks": ""
             }
            },
            "type": "histogram"
           }
          ],
          "histogram2d": [
           {
            "colorbar": {
             "outlinewidth": 0,
             "ticks": ""
            },
            "colorscale": [
             [
              0,
              "#0d0887"
             ],
             [
              0.1111111111111111,
              "#46039f"
             ],
             [
              0.2222222222222222,
              "#7201a8"
             ],
             [
              0.3333333333333333,
              "#9c179e"
             ],
             [
              0.4444444444444444,
              "#bd3786"
             ],
             [
              0.5555555555555556,
              "#d8576b"
             ],
             [
              0.6666666666666666,
              "#ed7953"
             ],
             [
              0.7777777777777778,
              "#fb9f3a"
             ],
             [
              0.8888888888888888,
              "#fdca26"
             ],
             [
              1,
              "#f0f921"
             ]
            ],
            "type": "histogram2d"
           }
          ],
          "histogram2dcontour": [
           {
            "colorbar": {
             "outlinewidth": 0,
             "ticks": ""
            },
            "colorscale": [
             [
              0,
              "#0d0887"
             ],
             [
              0.1111111111111111,
              "#46039f"
             ],
             [
              0.2222222222222222,
              "#7201a8"
             ],
             [
              0.3333333333333333,
              "#9c179e"
             ],
             [
              0.4444444444444444,
              "#bd3786"
             ],
             [
              0.5555555555555556,
              "#d8576b"
             ],
             [
              0.6666666666666666,
              "#ed7953"
             ],
             [
              0.7777777777777778,
              "#fb9f3a"
             ],
             [
              0.8888888888888888,
              "#fdca26"
             ],
             [
              1,
              "#f0f921"
             ]
            ],
            "type": "histogram2dcontour"
           }
          ],
          "mesh3d": [
           {
            "colorbar": {
             "outlinewidth": 0,
             "ticks": ""
            },
            "type": "mesh3d"
           }
          ],
          "parcoords": [
           {
            "line": {
             "colorbar": {
              "outlinewidth": 0,
              "ticks": ""
             }
            },
            "type": "parcoords"
           }
          ],
          "pie": [
           {
            "automargin": true,
            "type": "pie"
           }
          ],
          "scatter": [
           {
            "marker": {
             "colorbar": {
              "outlinewidth": 0,
              "ticks": ""
             }
            },
            "type": "scatter"
           }
          ],
          "scatter3d": [
           {
            "line": {
             "colorbar": {
              "outlinewidth": 0,
              "ticks": ""
             }
            },
            "marker": {
             "colorbar": {
              "outlinewidth": 0,
              "ticks": ""
             }
            },
            "type": "scatter3d"
           }
          ],
          "scattercarpet": [
           {
            "marker": {
             "colorbar": {
              "outlinewidth": 0,
              "ticks": ""
             }
            },
            "type": "scattercarpet"
           }
          ],
          "scattergeo": [
           {
            "marker": {
             "colorbar": {
              "outlinewidth": 0,
              "ticks": ""
             }
            },
            "type": "scattergeo"
           }
          ],
          "scattergl": [
           {
            "marker": {
             "colorbar": {
              "outlinewidth": 0,
              "ticks": ""
             }
            },
            "type": "scattergl"
           }
          ],
          "scattermapbox": [
           {
            "marker": {
             "colorbar": {
              "outlinewidth": 0,
              "ticks": ""
             }
            },
            "type": "scattermapbox"
           }
          ],
          "scatterpolar": [
           {
            "marker": {
             "colorbar": {
              "outlinewidth": 0,
              "ticks": ""
             }
            },
            "type": "scatterpolar"
           }
          ],
          "scatterpolargl": [
           {
            "marker": {
             "colorbar": {
              "outlinewidth": 0,
              "ticks": ""
             }
            },
            "type": "scatterpolargl"
           }
          ],
          "scatterternary": [
           {
            "marker": {
             "colorbar": {
              "outlinewidth": 0,
              "ticks": ""
             }
            },
            "type": "scatterternary"
           }
          ],
          "surface": [
           {
            "colorbar": {
             "outlinewidth": 0,
             "ticks": ""
            },
            "colorscale": [
             [
              0,
              "#0d0887"
             ],
             [
              0.1111111111111111,
              "#46039f"
             ],
             [
              0.2222222222222222,
              "#7201a8"
             ],
             [
              0.3333333333333333,
              "#9c179e"
             ],
             [
              0.4444444444444444,
              "#bd3786"
             ],
             [
              0.5555555555555556,
              "#d8576b"
             ],
             [
              0.6666666666666666,
              "#ed7953"
             ],
             [
              0.7777777777777778,
              "#fb9f3a"
             ],
             [
              0.8888888888888888,
              "#fdca26"
             ],
             [
              1,
              "#f0f921"
             ]
            ],
            "type": "surface"
           }
          ],
          "table": [
           {
            "cells": {
             "fill": {
              "color": "#EBF0F8"
             },
             "line": {
              "color": "white"
             }
            },
            "header": {
             "fill": {
              "color": "#C8D4E3"
             },
             "line": {
              "color": "white"
             }
            },
            "type": "table"
           }
          ]
         },
         "layout": {
          "annotationdefaults": {
           "arrowcolor": "#2a3f5f",
           "arrowhead": 0,
           "arrowwidth": 1
          },
          "coloraxis": {
           "colorbar": {
            "outlinewidth": 0,
            "ticks": ""
           }
          },
          "colorscale": {
           "diverging": [
            [
             0,
             "#8e0152"
            ],
            [
             0.1,
             "#c51b7d"
            ],
            [
             0.2,
             "#de77ae"
            ],
            [
             0.3,
             "#f1b6da"
            ],
            [
             0.4,
             "#fde0ef"
            ],
            [
             0.5,
             "#f7f7f7"
            ],
            [
             0.6,
             "#e6f5d0"
            ],
            [
             0.7,
             "#b8e186"
            ],
            [
             0.8,
             "#7fbc41"
            ],
            [
             0.9,
             "#4d9221"
            ],
            [
             1,
             "#276419"
            ]
           ],
           "sequential": [
            [
             0,
             "#0d0887"
            ],
            [
             0.1111111111111111,
             "#46039f"
            ],
            [
             0.2222222222222222,
             "#7201a8"
            ],
            [
             0.3333333333333333,
             "#9c179e"
            ],
            [
             0.4444444444444444,
             "#bd3786"
            ],
            [
             0.5555555555555556,
             "#d8576b"
            ],
            [
             0.6666666666666666,
             "#ed7953"
            ],
            [
             0.7777777777777778,
             "#fb9f3a"
            ],
            [
             0.8888888888888888,
             "#fdca26"
            ],
            [
             1,
             "#f0f921"
            ]
           ],
           "sequentialminus": [
            [
             0,
             "#0d0887"
            ],
            [
             0.1111111111111111,
             "#46039f"
            ],
            [
             0.2222222222222222,
             "#7201a8"
            ],
            [
             0.3333333333333333,
             "#9c179e"
            ],
            [
             0.4444444444444444,
             "#bd3786"
            ],
            [
             0.5555555555555556,
             "#d8576b"
            ],
            [
             0.6666666666666666,
             "#ed7953"
            ],
            [
             0.7777777777777778,
             "#fb9f3a"
            ],
            [
             0.8888888888888888,
             "#fdca26"
            ],
            [
             1,
             "#f0f921"
            ]
           ]
          },
          "colorway": [
           "#636efa",
           "#EF553B",
           "#00cc96",
           "#ab63fa",
           "#FFA15A",
           "#19d3f3",
           "#FF6692",
           "#B6E880",
           "#FF97FF",
           "#FECB52"
          ],
          "font": {
           "color": "#2a3f5f"
          },
          "geo": {
           "bgcolor": "white",
           "lakecolor": "white",
           "landcolor": "#E5ECF6",
           "showlakes": true,
           "showland": true,
           "subunitcolor": "white"
          },
          "hoverlabel": {
           "align": "left"
          },
          "hovermode": "closest",
          "mapbox": {
           "style": "light"
          },
          "paper_bgcolor": "white",
          "plot_bgcolor": "#E5ECF6",
          "polar": {
           "angularaxis": {
            "gridcolor": "white",
            "linecolor": "white",
            "ticks": ""
           },
           "bgcolor": "#E5ECF6",
           "radialaxis": {
            "gridcolor": "white",
            "linecolor": "white",
            "ticks": ""
           }
          },
          "scene": {
           "xaxis": {
            "backgroundcolor": "#E5ECF6",
            "gridcolor": "white",
            "gridwidth": 2,
            "linecolor": "white",
            "showbackground": true,
            "ticks": "",
            "zerolinecolor": "white"
           },
           "yaxis": {
            "backgroundcolor": "#E5ECF6",
            "gridcolor": "white",
            "gridwidth": 2,
            "linecolor": "white",
            "showbackground": true,
            "ticks": "",
            "zerolinecolor": "white"
           },
           "zaxis": {
            "backgroundcolor": "#E5ECF6",
            "gridcolor": "white",
            "gridwidth": 2,
            "linecolor": "white",
            "showbackground": true,
            "ticks": "",
            "zerolinecolor": "white"
           }
          },
          "shapedefaults": {
           "line": {
            "color": "#2a3f5f"
           }
          },
          "ternary": {
           "aaxis": {
            "gridcolor": "white",
            "linecolor": "white",
            "ticks": ""
           },
           "baxis": {
            "gridcolor": "white",
            "linecolor": "white",
            "ticks": ""
           },
           "bgcolor": "#E5ECF6",
           "caxis": {
            "gridcolor": "white",
            "linecolor": "white",
            "ticks": ""
           }
          },
          "title": {
           "x": 0.05
          },
          "xaxis": {
           "automargin": true,
           "gridcolor": "white",
           "linecolor": "white",
           "ticks": "",
           "title": {
            "standoff": 15
           },
           "zerolinecolor": "white",
           "zerolinewidth": 2
          },
          "yaxis": {
           "automargin": true,
           "gridcolor": "white",
           "linecolor": "white",
           "ticks": "",
           "title": {
            "standoff": 15
           },
           "zerolinecolor": "white",
           "zerolinewidth": 2
          }
         }
        }
       },
       "_model_module_version": "4.6.0",
       "_py2js_addTraces": {},
       "_py2js_animate": {},
       "_py2js_deleteTraces": {},
       "_py2js_moveTraces": {},
       "_py2js_removeLayoutProps": {},
       "_py2js_removeTraceProps": {},
       "_view_count": 1,
       "_view_module_version": "4.6.0"
      }
     },
     "01b4b8f66b684f5987ef35ef5c10c859": {
      "model_module": "@jupyter-widgets/base",
      "model_module_version": "1.2.0",
      "model_name": "LayoutModel",
      "state": {}
     },
     "0a95f040bbea4391a5e91920009e782a": {
      "model_module": "@jupyter-widgets/controls",
      "model_module_version": "1.5.0",
      "model_name": "SliderStyleModel",
      "state": {
       "description_width": ""
      }
     },
     "10eeb54e5e4b459db05626bedd056730": {
      "model_module": "@jupyter-widgets/base",
      "model_module_version": "1.2.0",
      "model_name": "LayoutModel",
      "state": {}
     },
     "19aca3e900964e22ab232989d222ee83": {
      "model_module": "@jupyter-widgets/controls",
      "model_module_version": "1.5.0",
      "model_name": "SliderStyleModel",
      "state": {
       "description_width": ""
      }
     },
     "19f11ad57e344e8bade1a6a7f853a619": {
      "model_module": "@jupyter-widgets/base",
      "model_module_version": "1.2.0",
      "model_name": "LayoutModel",
      "state": {}
     },
     "209c710f3e284778951ec0422ec50582": {
      "model_module": "@jupyter-widgets/controls",
      "model_module_version": "1.5.0",
      "model_name": "HTMLModel",
      "state": {
       "layout": "IPY_MODEL_64ea842ea0594699979b055cfd389330",
       "style": "IPY_MODEL_4d988042182d4145a814bba749ae217e",
       "value": "The slider value is 0"
      }
     },
     "2110d2fe51f04263b64b919bda173ffc": {
      "model_module": "@jupyter-widgets/controls",
      "model_module_version": "1.5.0",
      "model_name": "HTMLModel",
      "state": {
       "layout": "IPY_MODEL_01b4b8f66b684f5987ef35ef5c10c859",
       "style": "IPY_MODEL_54264faa1a064175a7115b44bfda8a48",
       "value": "The slider value is 53"
      }
     },
     "29def56f2a0a474b91def16a26047830": {
      "model_module": "@jupyter-widgets/controls",
      "model_module_version": "1.5.0",
      "model_name": "ButtonModel",
      "state": {
       "description": "Medium",
       "layout": "IPY_MODEL_3b745e01d8064cdbb7ecfa76628ef1be",
       "style": "IPY_MODEL_f18b7d7a4d1f4e32b540384902d1a726"
      }
     },
     "2dc3006d6f854e98a03252ffee13c9fa": {
      "model_module": "@jupyter-widgets/controls",
      "model_module_version": "1.5.0",
      "model_name": "ButtonModel",
      "state": {
       "description": "Medium",
       "layout": "IPY_MODEL_9b95673162a1466eb259c3d7bf6b947b",
       "style": "IPY_MODEL_efb3ab3d9cb949ea855c89bc3fec1a32"
      }
     },
     "331ab7578b4745a787aea51ca7d56455": {
      "model_module": "@jupyter-widgets/controls",
      "model_module_version": "1.5.0",
      "model_name": "SliderStyleModel",
      "state": {
       "description_width": ""
      }
     },
     "332f9bdfd1d245819555b92f21c1dfdc": {
      "model_module": "@jupyter-widgets/controls",
      "model_module_version": "1.5.0",
      "model_name": "SliderStyleModel",
      "state": {
       "description_width": ""
      }
     },
     "33b3fd03f8e94026b072a10f2e4fbf6f": {
      "model_module": "@jupyter-widgets/controls",
      "model_module_version": "1.5.0",
      "model_name": "SliderStyleModel",
      "state": {
       "description_width": ""
      }
     },
     "3a78b95195d54746b8dc5490f0c67cbf": {
      "model_module": "@jupyter-widgets/base",
      "model_module_version": "1.2.0",
      "model_name": "LayoutModel",
      "state": {}
     },
     "3b745e01d8064cdbb7ecfa76628ef1be": {
      "model_module": "@jupyter-widgets/base",
      "model_module_version": "1.2.0",
      "model_name": "LayoutModel",
      "state": {}
     },
     "4d988042182d4145a814bba749ae217e": {
      "model_module": "@jupyter-widgets/controls",
      "model_module_version": "1.5.0",
      "model_name": "DescriptionStyleModel",
      "state": {
       "description_width": ""
      }
     },
     "54264faa1a064175a7115b44bfda8a48": {
      "model_module": "@jupyter-widgets/controls",
      "model_module_version": "1.5.0",
      "model_name": "DescriptionStyleModel",
      "state": {
       "description_width": ""
      }
     },
     "5cb1e105b256411685a004f03ada39c1": {
      "model_module": "@jupyter-widgets/base",
      "model_module_version": "1.2.0",
      "model_name": "LayoutModel",
      "state": {}
     },
     "625c15c375de415d95fc31d780b3e88e": {
      "model_module": "@jupyter-widgets/base",
      "model_module_version": "1.2.0",
      "model_name": "LayoutModel",
      "state": {}
     },
     "64ea842ea0594699979b055cfd389330": {
      "model_module": "@jupyter-widgets/base",
      "model_module_version": "1.2.0",
      "model_name": "LayoutModel",
      "state": {}
     },
     "69ca9566fbfb48369cffa996830f86b7": {
      "model_module": "@jupyter-widgets/controls",
      "model_module_version": "1.5.0",
      "model_name": "IntSliderModel",
      "state": {
       "layout": "IPY_MODEL_19f11ad57e344e8bade1a6a7f853a619",
       "style": "IPY_MODEL_33b3fd03f8e94026b072a10f2e4fbf6f",
       "value": 52
      }
     },
     "6e03f0e635eb492a9d7440062a9fa06f": {
      "model_module": "@jupyter-widgets/controls",
      "model_module_version": "1.5.0",
      "model_name": "SliderStyleModel",
      "state": {
       "description_width": ""
      }
     },
     "7904df6197834da691edbceef432c40b": {
      "model_module": "@jupyter-widgets/controls",
      "model_module_version": "1.5.0",
      "model_name": "IntSliderModel",
      "state": {
       "layout": "IPY_MODEL_c03f42ffb29e4f8d9464784c3d998e5e",
       "style": "IPY_MODEL_332f9bdfd1d245819555b92f21c1dfdc",
       "value": 88
      }
     },
     "7a25d523800c4aaf8695917ce5cd0160": {
      "buffers": [
       {
        "data": "Bjz6D32w2j9R8Lrz5QznPwDAYWaQ+x0/9Aj+t2pZ0z88Bcej5cjCPxDKsIyAo7c/5OE05l/Xxz/Oo1u9qh3WP+j7e2ejZNk/VJ9il/w94T+KlYE6FdTaPycjGXJR7eU/DGIYx30ryj9KFuu8iRnsP8CsZ0R+C5w/qeWnR3h05T/+WqgzH7XaPwsJuX3J4OE/3KoG/zL4wT9ESHS8Y1vJP18n3RKzn+k/EAY2s//77j9YDr5IJA/UP5SWEsKBJ+Y/3sd1Q2EL7D/jC1EnnqDsP1gcjBp1xbU/kKZ5Ef3+oz/8qPLQAL3FP+eerk6+Gew/iGT6EkItuT8ujF9lbfPaP7irpfEHp+4/yErKpLAP4T+slCh52yPmP+API3loMdQ/MB0iy9D35T+VcKblQLXqP6C5X4QpupI/twF/pi4B6D+xfaQCwKTvP8CoMRn58Oc/9q6RW8vy0T+edOO4xkHpP9D/WAIFbbo/IADBm0mq3D/7emLgNhPtPyIaOv+SytI/arf0QOlq0j8IlGW4xqTAP4AotIru1JM/st2qSwW55T9QMpFOoRbLP3g1ZGq3/tA/NNSsRO913z8Q5zfkVVKrPz+sdOIrX+I/VPhNfwDIwj8SPgtJl9viP06P7KRrZOY/kAIS0ZYyuj8qeZmv5H/aP53k+K2GOOY/XCZTxOmB2j8wtf3wf5OpPxxvLjgQJuE/R1OPRM495T/Yayu7+HngPz+EHsgeOu4/C1KIEw/F4j9hxCkiq+jsP0TtKmfFmME/QDBGrs7TwT94pYJBJtbpP5qxToyJc9k/8NBvilMqxT9o7nF5Jq7tP+5skbzLQdY/ASWNGqcG6D+wWIEgYDvnP/3EwiILROw/nkuXah/14z8Cb2ptuAfoP+4ZG7ZZVNY/TC3aon9G0T/z2gKTGavsP/D8DJfYZds/AvMLPPjf7j9NEP6p6TrlPyKQS2zu5OM/2LQu+f1fvT/dmkFMN2LuP/Ss10Jcy9w/53DE7yqC4j9O1gnT6R7aP6zrNGzmVs4//xwWK3zo7D/YlzQVlVviPwDuSBeDg2c/opmcsKa/4z8=",
        "encoding": "base64",
        "path": [
         "_data",
         0,
         "x",
         "value"
        ]
       },
       {
        "data": "0gqhBMDn1D9kOQn0qN3gPz4P1j6jWew/Ut/D+4Hd1j9a8Q5PuBLtPzCc3umQ8uM/QKBuonEzkD84p1Mn873tP4aONNrTG+Y/ccNHnBHq7z/8QY/3QA/GP1xd4guqjcE/IpDEcNLX7T95dNuZVUzmP9AhXydj5bA/CnII2sAs6D/uktX0wB/oP898MsBqie0/h1ATks/E5j/gTYPFONC/P8BkujJ1W5Q/YCW+jQ3Xmj+AdkFBYPycP4xYoiHYg88/paUnVVmF6z8XUu2kGj7hP1fk3re3sOE/nf8cxerx6j/w1XmH0sm/P/CBuzgl3tE/jb9HOoq+4j/v9Kup7QbvP+areKX18+E/ADgQaEYYkz/YtihpyJ7pP5xvetsZ0s0/qqhzRs7T6T+yT2pztdLYP/zqAYcious/gxS2pWvo5z/gqbZRuMzhP1BcymVdd8E/MEzQCYitrj+Qdv1dXRC/P5B1pvqAz6Y/wM0FObyEuz+8e9wpC+TMPwndJETO0OY/DQeeljPp4T/AlDgh87aJP4hkawnobLI/bHlxfe3z7j+UPBkF4S3iPxz6LkGDBco/rpM34Rom0D9Tf6Xga83nP4z2BE/VA8k/hgp8CX6a4j/wNzNcZwrvPw299rY4Ges/7GTH1FSzzj+ChqJJ7JnfP5xR7V+t1uM/J3SS8wKH6j/sSiaMvRHEPyDrV9OjBZM/UBZFofjssT+c0YI+RyDfP/jfDAsNZ+M/kTXS7Qc04j84LkFsqk/UP8v1b1i+ou8/m4mV2EWN4j/U/xGkO1TYP23T3CheoeE/N3Cql8fZ5z+CPtkZW2rlPyTiDilx9NA/0Kp02FH7sD+4rbOhda/XP2cKTFSlJuQ/VNaGYfvmyj8zGabQkhboP4AmaOuICLE/vDDDqACp0D+Js5KkjMDpP9Bt5V50wsg/F2xOqnZ25D/0y1tjGcrgP0lAfuIGmO0/oJyYstrZ0D8Q30t30+KwP0VIFw6phec/tH7ysq616D84YKnU0wztPzWMvxa30u0/gHlDbaSSjD/MK6irk//NP8h8BvelvOM/aSeXeVde7j8=",
        "encoding": "base64",
        "path": [
         "_data",
         0,
         "y",
         "value"
        ]
       }
      ],
      "model_module": "plotlywidget",
      "model_module_version": "4.6.0",
      "model_name": "FigureModel",
      "state": {
       "_config": {
        "plotlyServerURL": "https://plot.ly"
       },
       "_data": [
        {
         "marker": {
          "color": [
           "#a3a7e4",
           "#a3a7e4",
           "#a3a7e4",
           "#a3a7e4",
           "#a3a7e4",
           "#a3a7e4",
           "#a3a7e4",
           "#a3a7e4",
           "#a3a7e4",
           "#a3a7e4",
           "#a3a7e4",
           "#a3a7e4",
           "#a3a7e4",
           "#a3a7e4",
           "#a3a7e4",
           "#a3a7e4",
           "#a3a7e4",
           "#a3a7e4",
           "#bae2be",
           "#a3a7e4",
           "#a3a7e4",
           "#a3a7e4",
           "#a3a7e4",
           "#a3a7e4",
           "#a3a7e4",
           "#a3a7e4",
           "#a3a7e4",
           "#a3a7e4",
           "#a3a7e4",
           "#a3a7e4",
           "#a3a7e4",
           "#a3a7e4",
           "#a3a7e4",
           "#a3a7e4",
           "#a3a7e4",
           "#a3a7e4",
           "#a3a7e4",
           "#a3a7e4",
           "#a3a7e4",
           "#a3a7e4",
           "#a3a7e4",
           "#a3a7e4",
           "#a3a7e4",
           "#a3a7e4",
           "#a3a7e4",
           "#a3a7e4",
           "#a3a7e4",
           "#a3a7e4",
           "#a3a7e4",
           "#a3a7e4",
           "#a3a7e4",
           "#a3a7e4",
           "#a3a7e4",
           "#a3a7e4",
           "#a3a7e4",
           "#a3a7e4",
           "#a3a7e4",
           "#a3a7e4",
           "#a3a7e4",
           "#a3a7e4",
           "#a3a7e4",
           "#a3a7e4",
           "#a3a7e4",
           "#a3a7e4",
           "#a3a7e4",
           "#a3a7e4",
           "#a3a7e4",
           "#a3a7e4",
           "#a3a7e4",
           "#a3a7e4",
           "#a3a7e4",
           "#a3a7e4",
           "#bae2be",
           "#a3a7e4",
           "#a3a7e4",
           "#a3a7e4",
           "#a3a7e4",
           "#a3a7e4",
           "#a3a7e4",
           "#a3a7e4",
           "#a3a7e4",
           "#a3a7e4",
           "#a3a7e4",
           "#a3a7e4",
           "#a3a7e4",
           "#a3a7e4",
           "#a3a7e4",
           "#a3a7e4",
           "#a3a7e4",
           "#a3a7e4",
           "#a3a7e4",
           "#a3a7e4",
           "#a3a7e4",
           "#a3a7e4",
           "#a3a7e4",
           "#a3a7e4",
           "#a3a7e4",
           "#a3a7e4",
           "#a3a7e4",
           "#a3a7e4"
          ],
          "size": [
           10,
           10,
           10,
           10,
           10,
           10,
           10,
           10,
           10,
           10,
           10,
           10,
           10,
           10,
           10,
           10,
           10,
           10,
           20,
           10,
           10,
           10,
           10,
           10,
           10,
           10,
           10,
           10,
           10,
           10,
           10,
           10,
           10,
           10,
           10,
           10,
           10,
           10,
           10,
           10,
           10,
           10,
           10,
           10,
           10,
           10,
           10,
           10,
           10,
           10,
           10,
           10,
           10,
           10,
           10,
           10,
           10,
           10,
           10,
           10,
           10,
           10,
           10,
           10,
           10,
           10,
           10,
           10,
           10,
           10,
           10,
           10,
           20,
           10,
           10,
           10,
           10,
           10,
           10,
           10,
           10,
           10,
           10,
           10,
           10,
           10,
           10,
           10,
           10,
           10,
           10,
           10,
           10,
           10,
           10,
           10,
           10,
           10,
           10,
           10
          ]
         },
         "mode": "markers",
         "type": "scatter",
         "uid": "ad67abab-a846-4abe-aae7-9c0b93208059",
         "x": {
          "dtype": "float64",
          "shape": [
           100
          ],
          "value": {}
         },
         "y": {
          "dtype": "float64",
          "shape": [
           100
          ],
          "value": {}
         }
        }
       ],
       "_js2py_relayout": {},
       "_js2py_restyle": {},
       "_js2py_update": {},
       "_last_layout_edit_id": 5,
       "_last_trace_edit_id": 4,
       "_layout": {
        "hovermode": "closest",
        "template": {
         "data": {
          "bar": [
           {
            "error_x": {
             "color": "#2a3f5f"
            },
            "error_y": {
             "color": "#2a3f5f"
            },
            "marker": {
             "line": {
              "color": "#E5ECF6",
              "width": 0.5
             }
            },
            "type": "bar"
           }
          ],
          "barpolar": [
           {
            "marker": {
             "line": {
              "color": "#E5ECF6",
              "width": 0.5
             }
            },
            "type": "barpolar"
           }
          ],
          "carpet": [
           {
            "aaxis": {
             "endlinecolor": "#2a3f5f",
             "gridcolor": "white",
             "linecolor": "white",
             "minorgridcolor": "white",
             "startlinecolor": "#2a3f5f"
            },
            "baxis": {
             "endlinecolor": "#2a3f5f",
             "gridcolor": "white",
             "linecolor": "white",
             "minorgridcolor": "white",
             "startlinecolor": "#2a3f5f"
            },
            "type": "carpet"
           }
          ],
          "choropleth": [
           {
            "colorbar": {
             "outlinewidth": 0,
             "ticks": ""
            },
            "type": "choropleth"
           }
          ],
          "contour": [
           {
            "colorbar": {
             "outlinewidth": 0,
             "ticks": ""
            },
            "colorscale": [
             [
              0,
              "#0d0887"
             ],
             [
              0.1111111111111111,
              "#46039f"
             ],
             [
              0.2222222222222222,
              "#7201a8"
             ],
             [
              0.3333333333333333,
              "#9c179e"
             ],
             [
              0.4444444444444444,
              "#bd3786"
             ],
             [
              0.5555555555555556,
              "#d8576b"
             ],
             [
              0.6666666666666666,
              "#ed7953"
             ],
             [
              0.7777777777777778,
              "#fb9f3a"
             ],
             [
              0.8888888888888888,
              "#fdca26"
             ],
             [
              1,
              "#f0f921"
             ]
            ],
            "type": "contour"
           }
          ],
          "contourcarpet": [
           {
            "colorbar": {
             "outlinewidth": 0,
             "ticks": ""
            },
            "type": "contourcarpet"
           }
          ],
          "heatmap": [
           {
            "colorbar": {
             "outlinewidth": 0,
             "ticks": ""
            },
            "colorscale": [
             [
              0,
              "#0d0887"
             ],
             [
              0.1111111111111111,
              "#46039f"
             ],
             [
              0.2222222222222222,
              "#7201a8"
             ],
             [
              0.3333333333333333,
              "#9c179e"
             ],
             [
              0.4444444444444444,
              "#bd3786"
             ],
             [
              0.5555555555555556,
              "#d8576b"
             ],
             [
              0.6666666666666666,
              "#ed7953"
             ],
             [
              0.7777777777777778,
              "#fb9f3a"
             ],
             [
              0.8888888888888888,
              "#fdca26"
             ],
             [
              1,
              "#f0f921"
             ]
            ],
            "type": "heatmap"
           }
          ],
          "heatmapgl": [
           {
            "colorbar": {
             "outlinewidth": 0,
             "ticks": ""
            },
            "colorscale": [
             [
              0,
              "#0d0887"
             ],
             [
              0.1111111111111111,
              "#46039f"
             ],
             [
              0.2222222222222222,
              "#7201a8"
             ],
             [
              0.3333333333333333,
              "#9c179e"
             ],
             [
              0.4444444444444444,
              "#bd3786"
             ],
             [
              0.5555555555555556,
              "#d8576b"
             ],
             [
              0.6666666666666666,
              "#ed7953"
             ],
             [
              0.7777777777777778,
              "#fb9f3a"
             ],
             [
              0.8888888888888888,
              "#fdca26"
             ],
             [
              1,
              "#f0f921"
             ]
            ],
            "type": "heatmapgl"
           }
          ],
          "histogram": [
           {
            "marker": {
             "colorbar": {
              "outlinewidth": 0,
              "ticks": ""
             }
            },
            "type": "histogram"
           }
          ],
          "histogram2d": [
           {
            "colorbar": {
             "outlinewidth": 0,
             "ticks": ""
            },
            "colorscale": [
             [
              0,
              "#0d0887"
             ],
             [
              0.1111111111111111,
              "#46039f"
             ],
             [
              0.2222222222222222,
              "#7201a8"
             ],
             [
              0.3333333333333333,
              "#9c179e"
             ],
             [
              0.4444444444444444,
              "#bd3786"
             ],
             [
              0.5555555555555556,
              "#d8576b"
             ],
             [
              0.6666666666666666,
              "#ed7953"
             ],
             [
              0.7777777777777778,
              "#fb9f3a"
             ],
             [
              0.8888888888888888,
              "#fdca26"
             ],
             [
              1,
              "#f0f921"
             ]
            ],
            "type": "histogram2d"
           }
          ],
          "histogram2dcontour": [
           {
            "colorbar": {
             "outlinewidth": 0,
             "ticks": ""
            },
            "colorscale": [
             [
              0,
              "#0d0887"
             ],
             [
              0.1111111111111111,
              "#46039f"
             ],
             [
              0.2222222222222222,
              "#7201a8"
             ],
             [
              0.3333333333333333,
              "#9c179e"
             ],
             [
              0.4444444444444444,
              "#bd3786"
             ],
             [
              0.5555555555555556,
              "#d8576b"
             ],
             [
              0.6666666666666666,
              "#ed7953"
             ],
             [
              0.7777777777777778,
              "#fb9f3a"
             ],
             [
              0.8888888888888888,
              "#fdca26"
             ],
             [
              1,
              "#f0f921"
             ]
            ],
            "type": "histogram2dcontour"
           }
          ],
          "mesh3d": [
           {
            "colorbar": {
             "outlinewidth": 0,
             "ticks": ""
            },
            "type": "mesh3d"
           }
          ],
          "parcoords": [
           {
            "line": {
             "colorbar": {
              "outlinewidth": 0,
              "ticks": ""
             }
            },
            "type": "parcoords"
           }
          ],
          "pie": [
           {
            "automargin": true,
            "type": "pie"
           }
          ],
          "scatter": [
           {
            "marker": {
             "colorbar": {
              "outlinewidth": 0,
              "ticks": ""
             }
            },
            "type": "scatter"
           }
          ],
          "scatter3d": [
           {
            "line": {
             "colorbar": {
              "outlinewidth": 0,
              "ticks": ""
             }
            },
            "marker": {
             "colorbar": {
              "outlinewidth": 0,
              "ticks": ""
             }
            },
            "type": "scatter3d"
           }
          ],
          "scattercarpet": [
           {
            "marker": {
             "colorbar": {
              "outlinewidth": 0,
              "ticks": ""
             }
            },
            "type": "scattercarpet"
           }
          ],
          "scattergeo": [
           {
            "marker": {
             "colorbar": {
              "outlinewidth": 0,
              "ticks": ""
             }
            },
            "type": "scattergeo"
           }
          ],
          "scattergl": [
           {
            "marker": {
             "colorbar": {
              "outlinewidth": 0,
              "ticks": ""
             }
            },
            "type": "scattergl"
           }
          ],
          "scattermapbox": [
           {
            "marker": {
             "colorbar": {
              "outlinewidth": 0,
              "ticks": ""
             }
            },
            "type": "scattermapbox"
           }
          ],
          "scatterpolar": [
           {
            "marker": {
             "colorbar": {
              "outlinewidth": 0,
              "ticks": ""
             }
            },
            "type": "scatterpolar"
           }
          ],
          "scatterpolargl": [
           {
            "marker": {
             "colorbar": {
              "outlinewidth": 0,
              "ticks": ""
             }
            },
            "type": "scatterpolargl"
           }
          ],
          "scatterternary": [
           {
            "marker": {
             "colorbar": {
              "outlinewidth": 0,
              "ticks": ""
             }
            },
            "type": "scatterternary"
           }
          ],
          "surface": [
           {
            "colorbar": {
             "outlinewidth": 0,
             "ticks": ""
            },
            "colorscale": [
             [
              0,
              "#0d0887"
             ],
             [
              0.1111111111111111,
              "#46039f"
             ],
             [
              0.2222222222222222,
              "#7201a8"
             ],
             [
              0.3333333333333333,
              "#9c179e"
             ],
             [
              0.4444444444444444,
              "#bd3786"
             ],
             [
              0.5555555555555556,
              "#d8576b"
             ],
             [
              0.6666666666666666,
              "#ed7953"
             ],
             [
              0.7777777777777778,
              "#fb9f3a"
             ],
             [
              0.8888888888888888,
              "#fdca26"
             ],
             [
              1,
              "#f0f921"
             ]
            ],
            "type": "surface"
           }
          ],
          "table": [
           {
            "cells": {
             "fill": {
              "color": "#EBF0F8"
             },
             "line": {
              "color": "white"
             }
            },
            "header": {
             "fill": {
              "color": "#C8D4E3"
             },
             "line": {
              "color": "white"
             }
            },
            "type": "table"
           }
          ]
         },
         "layout": {
          "annotationdefaults": {
           "arrowcolor": "#2a3f5f",
           "arrowhead": 0,
           "arrowwidth": 1
          },
          "coloraxis": {
           "colorbar": {
            "outlinewidth": 0,
            "ticks": ""
           }
          },
          "colorscale": {
           "diverging": [
            [
             0,
             "#8e0152"
            ],
            [
             0.1,
             "#c51b7d"
            ],
            [
             0.2,
             "#de77ae"
            ],
            [
             0.3,
             "#f1b6da"
            ],
            [
             0.4,
             "#fde0ef"
            ],
            [
             0.5,
             "#f7f7f7"
            ],
            [
             0.6,
             "#e6f5d0"
            ],
            [
             0.7,
             "#b8e186"
            ],
            [
             0.8,
             "#7fbc41"
            ],
            [
             0.9,
             "#4d9221"
            ],
            [
             1,
             "#276419"
            ]
           ],
           "sequential": [
            [
             0,
             "#0d0887"
            ],
            [
             0.1111111111111111,
             "#46039f"
            ],
            [
             0.2222222222222222,
             "#7201a8"
            ],
            [
             0.3333333333333333,
             "#9c179e"
            ],
            [
             0.4444444444444444,
             "#bd3786"
            ],
            [
             0.5555555555555556,
             "#d8576b"
            ],
            [
             0.6666666666666666,
             "#ed7953"
            ],
            [
             0.7777777777777778,
             "#fb9f3a"
            ],
            [
             0.8888888888888888,
             "#fdca26"
            ],
            [
             1,
             "#f0f921"
            ]
           ],
           "sequentialminus": [
            [
             0,
             "#0d0887"
            ],
            [
             0.1111111111111111,
             "#46039f"
            ],
            [
             0.2222222222222222,
             "#7201a8"
            ],
            [
             0.3333333333333333,
             "#9c179e"
            ],
            [
             0.4444444444444444,
             "#bd3786"
            ],
            [
             0.5555555555555556,
             "#d8576b"
            ],
            [
             0.6666666666666666,
             "#ed7953"
            ],
            [
             0.7777777777777778,
             "#fb9f3a"
            ],
            [
             0.8888888888888888,
             "#fdca26"
            ],
            [
             1,
             "#f0f921"
            ]
           ]
          },
          "colorway": [
           "#636efa",
           "#EF553B",
           "#00cc96",
           "#ab63fa",
           "#FFA15A",
           "#19d3f3",
           "#FF6692",
           "#B6E880",
           "#FF97FF",
           "#FECB52"
          ],
          "font": {
           "color": "#2a3f5f"
          },
          "geo": {
           "bgcolor": "white",
           "lakecolor": "white",
           "landcolor": "#E5ECF6",
           "showlakes": true,
           "showland": true,
           "subunitcolor": "white"
          },
          "hoverlabel": {
           "align": "left"
          },
          "hovermode": "closest",
          "mapbox": {
           "style": "light"
          },
          "paper_bgcolor": "white",
          "plot_bgcolor": "#E5ECF6",
          "polar": {
           "angularaxis": {
            "gridcolor": "white",
            "linecolor": "white",
            "ticks": ""
           },
           "bgcolor": "#E5ECF6",
           "radialaxis": {
            "gridcolor": "white",
            "linecolor": "white",
            "ticks": ""
           }
          },
          "scene": {
           "xaxis": {
            "backgroundcolor": "#E5ECF6",
            "gridcolor": "white",
            "gridwidth": 2,
            "linecolor": "white",
            "showbackground": true,
            "ticks": "",
            "zerolinecolor": "white"
           },
           "yaxis": {
            "backgroundcolor": "#E5ECF6",
            "gridcolor": "white",
            "gridwidth": 2,
            "linecolor": "white",
            "showbackground": true,
            "ticks": "",
            "zerolinecolor": "white"
           },
           "zaxis": {
            "backgroundcolor": "#E5ECF6",
            "gridcolor": "white",
            "gridwidth": 2,
            "linecolor": "white",
            "showbackground": true,
            "ticks": "",
            "zerolinecolor": "white"
           }
          },
          "shapedefaults": {
           "line": {
            "color": "#2a3f5f"
           }
          },
          "ternary": {
           "aaxis": {
            "gridcolor": "white",
            "linecolor": "white",
            "ticks": ""
           },
           "baxis": {
            "gridcolor": "white",
            "linecolor": "white",
            "ticks": ""
           },
           "bgcolor": "#E5ECF6",
           "caxis": {
            "gridcolor": "white",
            "linecolor": "white",
            "ticks": ""
           }
          },
          "title": {
           "x": 0.05
          },
          "xaxis": {
           "automargin": true,
           "gridcolor": "white",
           "linecolor": "white",
           "ticks": "",
           "title": {
            "standoff": 15
           },
           "zerolinecolor": "white",
           "zerolinewidth": 2
          },
          "yaxis": {
           "automargin": true,
           "gridcolor": "white",
           "linecolor": "white",
           "ticks": "",
           "title": {
            "standoff": 15
           },
           "zerolinecolor": "white",
           "zerolinewidth": 2
          }
         }
        }
       },
       "_model_module_version": "4.6.0",
       "_py2js_addTraces": {},
       "_py2js_animate": {},
       "_py2js_deleteTraces": {},
       "_py2js_moveTraces": {},
       "_py2js_removeLayoutProps": {},
       "_py2js_removeTraceProps": {},
       "_view_count": 0,
       "_view_module_version": "4.6.0"
      }
     },
     "7c1e33f37c754170a9ff4eb0c3b9cd90": {
      "model_module": "@jupyter-widgets/controls",
      "model_module_version": "1.5.0",
      "model_name": "IntSliderModel",
      "state": {
       "layout": "IPY_MODEL_dcf951e79db9449ca0123c0ff4b5efb4",
       "style": "IPY_MODEL_331ab7578b4745a787aea51ca7d56455",
       "value": 25
      }
     },
     "8cba04c5735942458eeec7b92e67e5ae": {
      "model_module": "@jupyter-widgets/controls",
      "model_module_version": "1.5.0",
      "model_name": "ButtonModel",
      "state": {
       "description": "Medium",
       "layout": "IPY_MODEL_9d6e3f799c3c404e8c9571dfc3584045",
       "style": "IPY_MODEL_d0a4e70c657a4a449cd3965c3b4a81c8"
      }
     },
     "95fdbc27919644bf8217d114a65b0acf": {
      "model_module": "@jupyter-widgets/controls",
      "model_module_version": "1.5.0",
      "model_name": "IntSliderModel",
      "state": {
       "description": "Slider:",
       "layout": "IPY_MODEL_10eeb54e5e4b459db05626bedd056730",
       "max": 10,
       "style": "IPY_MODEL_6e03f0e635eb492a9d7440062a9fa06f",
       "value": 7
      }
     },
     "9b95673162a1466eb259c3d7bf6b947b": {
      "model_module": "@jupyter-widgets/base",
      "model_module_version": "1.2.0",
      "model_name": "LayoutModel",
      "state": {}
     },
     "9cfb9358fb804847bdff6755ba0fb0bc": {
      "buffers": [
       {
        "data": "Bjz6D32w2j9R8Lrz5QznPwDAYWaQ+x0/9Aj+t2pZ0z88Bcej5cjCPxDKsIyAo7c/5OE05l/Xxz/Oo1u9qh3WP+j7e2ejZNk/VJ9il/w94T+KlYE6FdTaPycjGXJR7eU/DGIYx30ryj9KFuu8iRnsP8CsZ0R+C5w/qeWnR3h05T/+WqgzH7XaPwsJuX3J4OE/3KoG/zL4wT9ESHS8Y1vJP18n3RKzn+k/EAY2s//77j9YDr5IJA/UP5SWEsKBJ+Y/3sd1Q2EL7D/jC1EnnqDsP1gcjBp1xbU/kKZ5Ef3+oz/8qPLQAL3FP+eerk6+Gew/iGT6EkItuT8ujF9lbfPaP7irpfEHp+4/yErKpLAP4T+slCh52yPmP+API3loMdQ/MB0iy9D35T+VcKblQLXqP6C5X4QpupI/twF/pi4B6D+xfaQCwKTvP8CoMRn58Oc/9q6RW8vy0T+edOO4xkHpP9D/WAIFbbo/IADBm0mq3D/7emLgNhPtPyIaOv+SytI/arf0QOlq0j8IlGW4xqTAP4AotIru1JM/st2qSwW55T9QMpFOoRbLP3g1ZGq3/tA/NNSsRO913z8Q5zfkVVKrPz+sdOIrX+I/VPhNfwDIwj8SPgtJl9viP06P7KRrZOY/kAIS0ZYyuj8qeZmv5H/aP53k+K2GOOY/XCZTxOmB2j8wtf3wf5OpPxxvLjgQJuE/R1OPRM495T/Yayu7+HngPz+EHsgeOu4/C1KIEw/F4j9hxCkiq+jsP0TtKmfFmME/QDBGrs7TwT94pYJBJtbpP5qxToyJc9k/8NBvilMqxT9o7nF5Jq7tP+5skbzLQdY/ASWNGqcG6D+wWIEgYDvnP/3EwiILROw/nkuXah/14z8Cb2ptuAfoP+4ZG7ZZVNY/TC3aon9G0T/z2gKTGavsP/D8DJfYZds/AvMLPPjf7j9NEP6p6TrlPyKQS2zu5OM/2LQu+f1fvT/dmkFMN2LuP/Ss10Jcy9w/53DE7yqC4j9O1gnT6R7aP6zrNGzmVs4//xwWK3zo7D/YlzQVlVviPwDuSBeDg2c/opmcsKa/4z8=",
        "encoding": "base64",
        "path": [
         "_data",
         0,
         "x",
         "value"
        ]
       },
       {
        "data": "0gqhBMDn1D9kOQn0qN3gPz4P1j6jWew/Ut/D+4Hd1j9a8Q5PuBLtPzCc3umQ8uM/QKBuonEzkD84p1Mn873tP4aONNrTG+Y/ccNHnBHq7z/8QY/3QA/GP1xd4guqjcE/IpDEcNLX7T95dNuZVUzmP9AhXydj5bA/CnII2sAs6D/uktX0wB/oP898MsBqie0/h1ATks/E5j/gTYPFONC/P8BkujJ1W5Q/YCW+jQ3Xmj+AdkFBYPycP4xYoiHYg88/paUnVVmF6z8XUu2kGj7hP1fk3re3sOE/nf8cxerx6j/w1XmH0sm/P/CBuzgl3tE/jb9HOoq+4j/v9Kup7QbvP+areKX18+E/ADgQaEYYkz/YtihpyJ7pP5xvetsZ0s0/qqhzRs7T6T+yT2pztdLYP/zqAYcious/gxS2pWvo5z/gqbZRuMzhP1BcymVdd8E/MEzQCYitrj+Qdv1dXRC/P5B1pvqAz6Y/wM0FObyEuz+8e9wpC+TMPwndJETO0OY/DQeeljPp4T/AlDgh87aJP4hkawnobLI/bHlxfe3z7j+UPBkF4S3iPxz6LkGDBco/rpM34Rom0D9Tf6Xga83nP4z2BE/VA8k/hgp8CX6a4j/wNzNcZwrvPw299rY4Ges/7GTH1FSzzj+ChqJJ7JnfP5xR7V+t1uM/J3SS8wKH6j/sSiaMvRHEPyDrV9OjBZM/UBZFofjssT+c0YI+RyDfP/jfDAsNZ+M/kTXS7Qc04j84LkFsqk/UP8v1b1i+ou8/m4mV2EWN4j/U/xGkO1TYP23T3CheoeE/N3Cql8fZ5z+CPtkZW2rlPyTiDilx9NA/0Kp02FH7sD+4rbOhda/XP2cKTFSlJuQ/VNaGYfvmyj8zGabQkhboP4AmaOuICLE/vDDDqACp0D+Js5KkjMDpP9Bt5V50wsg/F2xOqnZ25D/0y1tjGcrgP0lAfuIGmO0/oJyYstrZ0D8Q30t30+KwP0VIFw6phec/tH7ysq616D84YKnU0wztPzWMvxa30u0/gHlDbaSSjD/MK6irk//NP8h8BvelvOM/aSeXeVde7j8=",
        "encoding": "base64",
        "path": [
         "_data",
         0,
         "y",
         "value"
        ]
       }
      ],
      "model_module": "plotlywidget",
      "model_module_version": "4.6.0",
      "model_name": "FigureModel",
      "state": {
       "_config": {
        "plotlyServerURL": "https://plot.ly"
       },
       "_data": [
        {
         "marker": {
          "color": [
           "#a3a7e4",
           "#a3a7e4",
           "#a3a7e4",
           "#a3a7e4",
           "#a3a7e4",
           "#a3a7e4",
           "#a3a7e4",
           "#a3a7e4",
           "#a3a7e4",
           "#a3a7e4",
           "#a3a7e4",
           "#a3a7e4",
           "#a3a7e4",
           "#a3a7e4",
           "#a3a7e4",
           "#a3a7e4",
           "#a3a7e4",
           "#a3a7e4",
           "#a3a7e4",
           "#a3a7e4",
           "#a3a7e4",
           "#a3a7e4",
           "#a3a7e4",
           "#a3a7e4",
           "#a3a7e4",
           "#a3a7e4",
           "#a3a7e4",
           "#a3a7e4",
           "#a3a7e4",
           "#a3a7e4",
           "#a3a7e4",
           "#a3a7e4",
           "#a3a7e4",
           "#a3a7e4",
           "#a3a7e4",
           "#a3a7e4",
           "#a3a7e4",
           "#a3a7e4",
           "#a3a7e4",
           "#a3a7e4",
           "#a3a7e4",
           "#a3a7e4",
           "#a3a7e4",
           "#a3a7e4",
           "#a3a7e4",
           "#a3a7e4",
           "#a3a7e4",
           "#a3a7e4",
           "#a3a7e4",
           "#a3a7e4",
           "#a3a7e4",
           "#a3a7e4",
           "#a3a7e4",
           "#a3a7e4",
           "#a3a7e4",
           "#a3a7e4",
           "#a3a7e4",
           "#a3a7e4",
           "#a3a7e4",
           "#a3a7e4",
           "#a3a7e4",
           "#a3a7e4",
           "#a3a7e4",
           "#a3a7e4",
           "#a3a7e4",
           "#a3a7e4",
           "#a3a7e4",
           "#a3a7e4",
           "#a3a7e4",
           "#a3a7e4",
           "#a3a7e4",
           "#a3a7e4",
           "#a3a7e4",
           "#a3a7e4",
           "#a3a7e4",
           "#a3a7e4",
           "#a3a7e4",
           "#a3a7e4",
           "#a3a7e4",
           "#a3a7e4",
           "#a3a7e4",
           "#a3a7e4",
           "#a3a7e4",
           "#a3a7e4",
           "#a3a7e4",
           "#a3a7e4",
           "#a3a7e4",
           "#a3a7e4",
           "#a3a7e4",
           "#a3a7e4",
           "#a3a7e4",
           "#a3a7e4",
           "#a3a7e4",
           "#a3a7e4",
           "#a3a7e4",
           "#a3a7e4",
           "#a3a7e4",
           "#a3a7e4",
           "#a3a7e4",
           "#a3a7e4"
          ],
          "size": [
           10,
           10,
           10,
           10,
           10,
           10,
           10,
           10,
           10,
           10,
           10,
           10,
           10,
           10,
           10,
           10,
           10,
           10,
           10,
           10,
           10,
           10,
           10,
           10,
           10,
           10,
           10,
           10,
           10,
           10,
           10,
           10,
           10,
           10,
           10,
           10,
           10,
           10,
           10,
           10,
           10,
           10,
           10,
           10,
           10,
           10,
           10,
           10,
           10,
           10,
           10,
           10,
           10,
           10,
           10,
           10,
           10,
           10,
           10,
           10,
           10,
           10,
           10,
           10,
           10,
           10,
           10,
           10,
           10,
           10,
           10,
           10,
           10,
           10,
           10,
           10,
           10,
           10,
           10,
           10,
           10,
           10,
           10,
           10,
           10,
           10,
           10,
           10,
           10,
           10,
           10,
           10,
           10,
           10,
           10,
           10,
           10,
           10,
           10,
           10
          ]
         },
         "mode": "markers",
         "type": "scatter",
         "uid": "ea383f52-ca78-40f7-8396-f32c55b94aa6",
         "x": {
          "dtype": "float64",
          "shape": [
           100
          ],
          "value": {}
         },
         "y": {
          "dtype": "float64",
          "shape": [
           100
          ],
          "value": {}
         }
        }
       ],
       "_js2py_layoutDelta": {},
       "_js2py_pointsCallback": {},
       "_js2py_relayout": {},
       "_js2py_restyle": {},
       "_js2py_traceDeltas": {},
       "_js2py_update": {},
       "_last_layout_edit_id": 3,
       "_last_trace_edit_id": 2,
       "_layout": {
        "hovermode": "closest",
        "template": {
         "data": {
          "bar": [
           {
            "error_x": {
             "color": "#2a3f5f"
            },
            "error_y": {
             "color": "#2a3f5f"
            },
            "marker": {
             "line": {
              "color": "#E5ECF6",
              "width": 0.5
             }
            },
            "type": "bar"
           }
          ],
          "barpolar": [
           {
            "marker": {
             "line": {
              "color": "#E5ECF6",
              "width": 0.5
             }
            },
            "type": "barpolar"
           }
          ],
          "carpet": [
           {
            "aaxis": {
             "endlinecolor": "#2a3f5f",
             "gridcolor": "white",
             "linecolor": "white",
             "minorgridcolor": "white",
             "startlinecolor": "#2a3f5f"
            },
            "baxis": {
             "endlinecolor": "#2a3f5f",
             "gridcolor": "white",
             "linecolor": "white",
             "minorgridcolor": "white",
             "startlinecolor": "#2a3f5f"
            },
            "type": "carpet"
           }
          ],
          "choropleth": [
           {
            "colorbar": {
             "outlinewidth": 0,
             "ticks": ""
            },
            "type": "choropleth"
           }
          ],
          "contour": [
           {
            "colorbar": {
             "outlinewidth": 0,
             "ticks": ""
            },
            "colorscale": [
             [
              0,
              "#0d0887"
             ],
             [
              0.1111111111111111,
              "#46039f"
             ],
             [
              0.2222222222222222,
              "#7201a8"
             ],
             [
              0.3333333333333333,
              "#9c179e"
             ],
             [
              0.4444444444444444,
              "#bd3786"
             ],
             [
              0.5555555555555556,
              "#d8576b"
             ],
             [
              0.6666666666666666,
              "#ed7953"
             ],
             [
              0.7777777777777778,
              "#fb9f3a"
             ],
             [
              0.8888888888888888,
              "#fdca26"
             ],
             [
              1,
              "#f0f921"
             ]
            ],
            "type": "contour"
           }
          ],
          "contourcarpet": [
           {
            "colorbar": {
             "outlinewidth": 0,
             "ticks": ""
            },
            "type": "contourcarpet"
           }
          ],
          "heatmap": [
           {
            "colorbar": {
             "outlinewidth": 0,
             "ticks": ""
            },
            "colorscale": [
             [
              0,
              "#0d0887"
             ],
             [
              0.1111111111111111,
              "#46039f"
             ],
             [
              0.2222222222222222,
              "#7201a8"
             ],
             [
              0.3333333333333333,
              "#9c179e"
             ],
             [
              0.4444444444444444,
              "#bd3786"
             ],
             [
              0.5555555555555556,
              "#d8576b"
             ],
             [
              0.6666666666666666,
              "#ed7953"
             ],
             [
              0.7777777777777778,
              "#fb9f3a"
             ],
             [
              0.8888888888888888,
              "#fdca26"
             ],
             [
              1,
              "#f0f921"
             ]
            ],
            "type": "heatmap"
           }
          ],
          "heatmapgl": [
           {
            "colorbar": {
             "outlinewidth": 0,
             "ticks": ""
            },
            "colorscale": [
             [
              0,
              "#0d0887"
             ],
             [
              0.1111111111111111,
              "#46039f"
             ],
             [
              0.2222222222222222,
              "#7201a8"
             ],
             [
              0.3333333333333333,
              "#9c179e"
             ],
             [
              0.4444444444444444,
              "#bd3786"
             ],
             [
              0.5555555555555556,
              "#d8576b"
             ],
             [
              0.6666666666666666,
              "#ed7953"
             ],
             [
              0.7777777777777778,
              "#fb9f3a"
             ],
             [
              0.8888888888888888,
              "#fdca26"
             ],
             [
              1,
              "#f0f921"
             ]
            ],
            "type": "heatmapgl"
           }
          ],
          "histogram": [
           {
            "marker": {
             "colorbar": {
              "outlinewidth": 0,
              "ticks": ""
             }
            },
            "type": "histogram"
           }
          ],
          "histogram2d": [
           {
            "colorbar": {
             "outlinewidth": 0,
             "ticks": ""
            },
            "colorscale": [
             [
              0,
              "#0d0887"
             ],
             [
              0.1111111111111111,
              "#46039f"
             ],
             [
              0.2222222222222222,
              "#7201a8"
             ],
             [
              0.3333333333333333,
              "#9c179e"
             ],
             [
              0.4444444444444444,
              "#bd3786"
             ],
             [
              0.5555555555555556,
              "#d8576b"
             ],
             [
              0.6666666666666666,
              "#ed7953"
             ],
             [
              0.7777777777777778,
              "#fb9f3a"
             ],
             [
              0.8888888888888888,
              "#fdca26"
             ],
             [
              1,
              "#f0f921"
             ]
            ],
            "type": "histogram2d"
           }
          ],
          "histogram2dcontour": [
           {
            "colorbar": {
             "outlinewidth": 0,
             "ticks": ""
            },
            "colorscale": [
             [
              0,
              "#0d0887"
             ],
             [
              0.1111111111111111,
              "#46039f"
             ],
             [
              0.2222222222222222,
              "#7201a8"
             ],
             [
              0.3333333333333333,
              "#9c179e"
             ],
             [
              0.4444444444444444,
              "#bd3786"
             ],
             [
              0.5555555555555556,
              "#d8576b"
             ],
             [
              0.6666666666666666,
              "#ed7953"
             ],
             [
              0.7777777777777778,
              "#fb9f3a"
             ],
             [
              0.8888888888888888,
              "#fdca26"
             ],
             [
              1,
              "#f0f921"
             ]
            ],
            "type": "histogram2dcontour"
           }
          ],
          "mesh3d": [
           {
            "colorbar": {
             "outlinewidth": 0,
             "ticks": ""
            },
            "type": "mesh3d"
           }
          ],
          "parcoords": [
           {
            "line": {
             "colorbar": {
              "outlinewidth": 0,
              "ticks": ""
             }
            },
            "type": "parcoords"
           }
          ],
          "pie": [
           {
            "automargin": true,
            "type": "pie"
           }
          ],
          "scatter": [
           {
            "marker": {
             "colorbar": {
              "outlinewidth": 0,
              "ticks": ""
             }
            },
            "type": "scatter"
           }
          ],
          "scatter3d": [
           {
            "line": {
             "colorbar": {
              "outlinewidth": 0,
              "ticks": ""
             }
            },
            "marker": {
             "colorbar": {
              "outlinewidth": 0,
              "ticks": ""
             }
            },
            "type": "scatter3d"
           }
          ],
          "scattercarpet": [
           {
            "marker": {
             "colorbar": {
              "outlinewidth": 0,
              "ticks": ""
             }
            },
            "type": "scattercarpet"
           }
          ],
          "scattergeo": [
           {
            "marker": {
             "colorbar": {
              "outlinewidth": 0,
              "ticks": ""
             }
            },
            "type": "scattergeo"
           }
          ],
          "scattergl": [
           {
            "marker": {
             "colorbar": {
              "outlinewidth": 0,
              "ticks": ""
             }
            },
            "type": "scattergl"
           }
          ],
          "scattermapbox": [
           {
            "marker": {
             "colorbar": {
              "outlinewidth": 0,
              "ticks": ""
             }
            },
            "type": "scattermapbox"
           }
          ],
          "scatterpolar": [
           {
            "marker": {
             "colorbar": {
              "outlinewidth": 0,
              "ticks": ""
             }
            },
            "type": "scatterpolar"
           }
          ],
          "scatterpolargl": [
           {
            "marker": {
             "colorbar": {
              "outlinewidth": 0,
              "ticks": ""
             }
            },
            "type": "scatterpolargl"
           }
          ],
          "scatterternary": [
           {
            "marker": {
             "colorbar": {
              "outlinewidth": 0,
              "ticks": ""
             }
            },
            "type": "scatterternary"
           }
          ],
          "surface": [
           {
            "colorbar": {
             "outlinewidth": 0,
             "ticks": ""
            },
            "colorscale": [
             [
              0,
              "#0d0887"
             ],
             [
              0.1111111111111111,
              "#46039f"
             ],
             [
              0.2222222222222222,
              "#7201a8"
             ],
             [
              0.3333333333333333,
              "#9c179e"
             ],
             [
              0.4444444444444444,
              "#bd3786"
             ],
             [
              0.5555555555555556,
              "#d8576b"
             ],
             [
              0.6666666666666666,
              "#ed7953"
             ],
             [
              0.7777777777777778,
              "#fb9f3a"
             ],
             [
              0.8888888888888888,
              "#fdca26"
             ],
             [
              1,
              "#f0f921"
             ]
            ],
            "type": "surface"
           }
          ],
          "table": [
           {
            "cells": {
             "fill": {
              "color": "#EBF0F8"
             },
             "line": {
              "color": "white"
             }
            },
            "header": {
             "fill": {
              "color": "#C8D4E3"
             },
             "line": {
              "color": "white"
             }
            },
            "type": "table"
           }
          ]
         },
         "layout": {
          "annotationdefaults": {
           "arrowcolor": "#2a3f5f",
           "arrowhead": 0,
           "arrowwidth": 1
          },
          "coloraxis": {
           "colorbar": {
            "outlinewidth": 0,
            "ticks": ""
           }
          },
          "colorscale": {
           "diverging": [
            [
             0,
             "#8e0152"
            ],
            [
             0.1,
             "#c51b7d"
            ],
            [
             0.2,
             "#de77ae"
            ],
            [
             0.3,
             "#f1b6da"
            ],
            [
             0.4,
             "#fde0ef"
            ],
            [
             0.5,
             "#f7f7f7"
            ],
            [
             0.6,
             "#e6f5d0"
            ],
            [
             0.7,
             "#b8e186"
            ],
            [
             0.8,
             "#7fbc41"
            ],
            [
             0.9,
             "#4d9221"
            ],
            [
             1,
             "#276419"
            ]
           ],
           "sequential": [
            [
             0,
             "#0d0887"
            ],
            [
             0.1111111111111111,
             "#46039f"
            ],
            [
             0.2222222222222222,
             "#7201a8"
            ],
            [
             0.3333333333333333,
             "#9c179e"
            ],
            [
             0.4444444444444444,
             "#bd3786"
            ],
            [
             0.5555555555555556,
             "#d8576b"
            ],
            [
             0.6666666666666666,
             "#ed7953"
            ],
            [
             0.7777777777777778,
             "#fb9f3a"
            ],
            [
             0.8888888888888888,
             "#fdca26"
            ],
            [
             1,
             "#f0f921"
            ]
           ],
           "sequentialminus": [
            [
             0,
             "#0d0887"
            ],
            [
             0.1111111111111111,
             "#46039f"
            ],
            [
             0.2222222222222222,
             "#7201a8"
            ],
            [
             0.3333333333333333,
             "#9c179e"
            ],
            [
             0.4444444444444444,
             "#bd3786"
            ],
            [
             0.5555555555555556,
             "#d8576b"
            ],
            [
             0.6666666666666666,
             "#ed7953"
            ],
            [
             0.7777777777777778,
             "#fb9f3a"
            ],
            [
             0.8888888888888888,
             "#fdca26"
            ],
            [
             1,
             "#f0f921"
            ]
           ]
          },
          "colorway": [
           "#636efa",
           "#EF553B",
           "#00cc96",
           "#ab63fa",
           "#FFA15A",
           "#19d3f3",
           "#FF6692",
           "#B6E880",
           "#FF97FF",
           "#FECB52"
          ],
          "font": {
           "color": "#2a3f5f"
          },
          "geo": {
           "bgcolor": "white",
           "lakecolor": "white",
           "landcolor": "#E5ECF6",
           "showlakes": true,
           "showland": true,
           "subunitcolor": "white"
          },
          "hoverlabel": {
           "align": "left"
          },
          "hovermode": "closest",
          "mapbox": {
           "style": "light"
          },
          "paper_bgcolor": "white",
          "plot_bgcolor": "#E5ECF6",
          "polar": {
           "angularaxis": {
            "gridcolor": "white",
            "linecolor": "white",
            "ticks": ""
           },
           "bgcolor": "#E5ECF6",
           "radialaxis": {
            "gridcolor": "white",
            "linecolor": "white",
            "ticks": ""
           }
          },
          "scene": {
           "xaxis": {
            "backgroundcolor": "#E5ECF6",
            "gridcolor": "white",
            "gridwidth": 2,
            "linecolor": "white",
            "showbackground": true,
            "ticks": "",
            "zerolinecolor": "white"
           },
           "yaxis": {
            "backgroundcolor": "#E5ECF6",
            "gridcolor": "white",
            "gridwidth": 2,
            "linecolor": "white",
            "showbackground": true,
            "ticks": "",
            "zerolinecolor": "white"
           },
           "zaxis": {
            "backgroundcolor": "#E5ECF6",
            "gridcolor": "white",
            "gridwidth": 2,
            "linecolor": "white",
            "showbackground": true,
            "ticks": "",
            "zerolinecolor": "white"
           }
          },
          "shapedefaults": {
           "line": {
            "color": "#2a3f5f"
           }
          },
          "ternary": {
           "aaxis": {
            "gridcolor": "white",
            "linecolor": "white",
            "ticks": ""
           },
           "baxis": {
            "gridcolor": "white",
            "linecolor": "white",
            "ticks": ""
           },
           "bgcolor": "#E5ECF6",
           "caxis": {
            "gridcolor": "white",
            "linecolor": "white",
            "ticks": ""
           }
          },
          "title": {
           "x": 0.05
          },
          "xaxis": {
           "automargin": true,
           "gridcolor": "white",
           "linecolor": "white",
           "ticks": "",
           "title": {
            "standoff": 15
           },
           "zerolinecolor": "white",
           "zerolinewidth": 2
          },
          "yaxis": {
           "automargin": true,
           "gridcolor": "white",
           "linecolor": "white",
           "ticks": "",
           "title": {
            "standoff": 15
           },
           "zerolinecolor": "white",
           "zerolinewidth": 2
          }
         }
        }
       },
       "_model_module_version": "4.6.0",
       "_py2js_addTraces": {},
       "_py2js_animate": {},
       "_py2js_deleteTraces": {},
       "_py2js_moveTraces": {},
       "_py2js_removeLayoutProps": {},
       "_py2js_removeTraceProps": {},
       "_py2js_update": {},
       "_view_count": 0,
       "_view_module_version": "4.6.0"
      }
     },
     "9d6e3f799c3c404e8c9571dfc3584045": {
      "model_module": "@jupyter-widgets/base",
      "model_module_version": "1.2.0",
      "model_name": "LayoutModel",
      "state": {}
     },
     "9d961366fe4e4b1cb91636e74a4a609c": {
      "model_module": "@jupyter-widgets/controls",
      "model_module_version": "1.5.0",
      "model_name": "DescriptionStyleModel",
      "state": {
       "description_width": ""
      }
     },
     "a119ee17b5cc496b82ffa0a64316f990": {
      "model_module": "@jupyter-widgets/controls",
      "model_module_version": "1.5.0",
      "model_name": "HTMLModel",
      "state": {
       "layout": "IPY_MODEL_3a78b95195d54746b8dc5490f0c67cbf",
       "style": "IPY_MODEL_9d961366fe4e4b1cb91636e74a4a609c",
       "value": "The slider value is 0"
      }
     },
     "a1ef142d37d24e66870d6589937afb1f": {
      "model_module": "@jupyter-widgets/controls",
      "model_module_version": "1.5.0",
      "model_name": "ButtonModel",
      "state": {
       "description": "Medium",
       "layout": "IPY_MODEL_5cb1e105b256411685a004f03ada39c1",
       "style": "IPY_MODEL_fa2e5b8ae0bb44f491af7b290860abaa"
      }
     },
     "a42264899c3846bfb4f39495c12dbc1c": {
      "buffers": [
       {
        "data": "Bjz6D32w2j9R8Lrz5QznPwDAYWaQ+x0/9Aj+t2pZ0z88Bcej5cjCPxDKsIyAo7c/5OE05l/Xxz/Oo1u9qh3WP+j7e2ejZNk/VJ9il/w94T+KlYE6FdTaPycjGXJR7eU/DGIYx30ryj9KFuu8iRnsP8CsZ0R+C5w/qeWnR3h05T/+WqgzH7XaPwsJuX3J4OE/3KoG/zL4wT9ESHS8Y1vJP18n3RKzn+k/EAY2s//77j9YDr5IJA/UP5SWEsKBJ+Y/3sd1Q2EL7D/jC1EnnqDsP1gcjBp1xbU/kKZ5Ef3+oz/8qPLQAL3FP+eerk6+Gew/iGT6EkItuT8ujF9lbfPaP7irpfEHp+4/yErKpLAP4T+slCh52yPmP+API3loMdQ/MB0iy9D35T+VcKblQLXqP6C5X4QpupI/twF/pi4B6D+xfaQCwKTvP8CoMRn58Oc/9q6RW8vy0T+edOO4xkHpP9D/WAIFbbo/IADBm0mq3D/7emLgNhPtPyIaOv+SytI/arf0QOlq0j8IlGW4xqTAP4AotIru1JM/st2qSwW55T9QMpFOoRbLP3g1ZGq3/tA/NNSsRO913z8Q5zfkVVKrPz+sdOIrX+I/VPhNfwDIwj8SPgtJl9viP06P7KRrZOY/kAIS0ZYyuj8qeZmv5H/aP53k+K2GOOY/XCZTxOmB2j8wtf3wf5OpPxxvLjgQJuE/R1OPRM495T/Yayu7+HngPz+EHsgeOu4/C1KIEw/F4j9hxCkiq+jsP0TtKmfFmME/QDBGrs7TwT94pYJBJtbpP5qxToyJc9k/8NBvilMqxT9o7nF5Jq7tP+5skbzLQdY/ASWNGqcG6D+wWIEgYDvnP/3EwiILROw/nkuXah/14z8Cb2ptuAfoP+4ZG7ZZVNY/TC3aon9G0T/z2gKTGavsP/D8DJfYZds/AvMLPPjf7j9NEP6p6TrlPyKQS2zu5OM/2LQu+f1fvT/dmkFMN2LuP/Ss10Jcy9w/53DE7yqC4j9O1gnT6R7aP6zrNGzmVs4//xwWK3zo7D/YlzQVlVviPwDuSBeDg2c/opmcsKa/4z8=",
        "encoding": "base64",
        "path": [
         "_data",
         0,
         "x",
         "value"
        ]
       },
       {
        "data": "0gqhBMDn1D9kOQn0qN3gPz4P1j6jWew/Ut/D+4Hd1j9a8Q5PuBLtPzCc3umQ8uM/QKBuonEzkD84p1Mn873tP4aONNrTG+Y/ccNHnBHq7z/8QY/3QA/GP1xd4guqjcE/IpDEcNLX7T95dNuZVUzmP9AhXydj5bA/CnII2sAs6D/uktX0wB/oP898MsBqie0/h1ATks/E5j/gTYPFONC/P8BkujJ1W5Q/YCW+jQ3Xmj+AdkFBYPycP4xYoiHYg88/paUnVVmF6z8XUu2kGj7hP1fk3re3sOE/nf8cxerx6j/w1XmH0sm/P/CBuzgl3tE/jb9HOoq+4j/v9Kup7QbvP+areKX18+E/ADgQaEYYkz/YtihpyJ7pP5xvetsZ0s0/qqhzRs7T6T+yT2pztdLYP/zqAYcious/gxS2pWvo5z/gqbZRuMzhP1BcymVdd8E/MEzQCYitrj+Qdv1dXRC/P5B1pvqAz6Y/wM0FObyEuz+8e9wpC+TMPwndJETO0OY/DQeeljPp4T/AlDgh87aJP4hkawnobLI/bHlxfe3z7j+UPBkF4S3iPxz6LkGDBco/rpM34Rom0D9Tf6Xga83nP4z2BE/VA8k/hgp8CX6a4j/wNzNcZwrvPw299rY4Ges/7GTH1FSzzj+ChqJJ7JnfP5xR7V+t1uM/J3SS8wKH6j/sSiaMvRHEPyDrV9OjBZM/UBZFofjssT+c0YI+RyDfP/jfDAsNZ+M/kTXS7Qc04j84LkFsqk/UP8v1b1i+ou8/m4mV2EWN4j/U/xGkO1TYP23T3CheoeE/N3Cql8fZ5z+CPtkZW2rlPyTiDilx9NA/0Kp02FH7sD+4rbOhda/XP2cKTFSlJuQ/VNaGYfvmyj8zGabQkhboP4AmaOuICLE/vDDDqACp0D+Js5KkjMDpP9Bt5V50wsg/F2xOqnZ25D/0y1tjGcrgP0lAfuIGmO0/oJyYstrZ0D8Q30t30+KwP0VIFw6phec/tH7ysq616D84YKnU0wztPzWMvxa30u0/gHlDbaSSjD/MK6irk//NP8h8BvelvOM/aSeXeVde7j8=",
        "encoding": "base64",
        "path": [
         "_data",
         0,
         "y",
         "value"
        ]
       }
      ],
      "model_module": "plotlywidget",
      "model_module_version": "4.6.0",
      "model_name": "FigureModel",
      "state": {
       "_config": {
        "plotlyServerURL": "https://plot.ly"
       },
       "_data": [
        {
         "marker": {
          "color": [
           "#a3a7e4",
           "#a3a7e4",
           "#a3a7e4",
           "#a3a7e4",
           "#a3a7e4",
           "#a3a7e4",
           "#a3a7e4",
           "#a3a7e4",
           "#a3a7e4",
           "#a3a7e4",
           "#a3a7e4",
           "#a3a7e4",
           "#a3a7e4",
           "#a3a7e4",
           "#a3a7e4",
           "#a3a7e4",
           "#a3a7e4",
           "#a3a7e4",
           "#a3a7e4",
           "#a3a7e4",
           "#a3a7e4",
           "#a3a7e4",
           "#a3a7e4",
           "#a3a7e4",
           "#a3a7e4",
           "#a3a7e4",
           "#a3a7e4",
           "#a3a7e4",
           "#a3a7e4",
           "#a3a7e4",
           "#a3a7e4",
           "#a3a7e4",
           "#a3a7e4",
           "#a3a7e4",
           "#a3a7e4",
           "#a3a7e4",
           "#a3a7e4",
           "#a3a7e4",
           "#a3a7e4",
           "#a3a7e4",
           "#a3a7e4",
           "#a3a7e4",
           "#a3a7e4",
           "#a3a7e4",
           "#a3a7e4",
           "#a3a7e4",
           "#a3a7e4",
           "#a3a7e4",
           "#a3a7e4",
           "#a3a7e4",
           "#a3a7e4",
           "#a3a7e4",
           "#a3a7e4",
           "#a3a7e4",
           "#a3a7e4",
           "#a3a7e4",
           "#a3a7e4",
           "#a3a7e4",
           "#a3a7e4",
           "#a3a7e4",
           "#a3a7e4",
           "#a3a7e4",
           "#a3a7e4",
           "#a3a7e4",
           "#a3a7e4",
           "#a3a7e4",
           "#a3a7e4",
           "#a3a7e4",
           "#a3a7e4",
           "#a3a7e4",
           "#a3a7e4",
           "#a3a7e4",
           "#a3a7e4",
           "#a3a7e4",
           "#a3a7e4",
           "#a3a7e4",
           "#a3a7e4",
           "#a3a7e4",
           "#a3a7e4",
           "#a3a7e4",
           "#a3a7e4",
           "#a3a7e4",
           "#a3a7e4",
           "#a3a7e4",
           "#a3a7e4",
           "#a3a7e4",
           "#a3a7e4",
           "#a3a7e4",
           "#a3a7e4",
           "#a3a7e4",
           "#a3a7e4",
           "#a3a7e4",
           "#a3a7e4",
           "#a3a7e4",
           "#a3a7e4",
           "#a3a7e4",
           "#a3a7e4",
           "#a3a7e4",
           "#a3a7e4",
           "#a3a7e4"
          ],
          "size": [
           10,
           10,
           10,
           10,
           10,
           10,
           10,
           10,
           10,
           10,
           10,
           10,
           10,
           10,
           10,
           10,
           10,
           10,
           10,
           10,
           10,
           10,
           10,
           10,
           10,
           10,
           10,
           10,
           10,
           10,
           10,
           10,
           10,
           10,
           10,
           10,
           10,
           10,
           10,
           10,
           10,
           10,
           10,
           10,
           10,
           10,
           10,
           10,
           10,
           10,
           10,
           10,
           10,
           10,
           10,
           10,
           10,
           10,
           10,
           10,
           10,
           10,
           10,
           10,
           10,
           10,
           10,
           10,
           10,
           10,
           10,
           10,
           10,
           10,
           10,
           10,
           10,
           10,
           10,
           10,
           10,
           10,
           10,
           10,
           10,
           10,
           10,
           10,
           10,
           10,
           10,
           10,
           10,
           10,
           10,
           10,
           10,
           10,
           10,
           10
          ]
         },
         "mode": "markers",
         "type": "scatter",
         "uid": "fb01ff90-aad8-4a81-aced-aa60568cd819",
         "x": {
          "dtype": "float64",
          "shape": [
           100
          ],
          "value": {}
         },
         "y": {
          "dtype": "float64",
          "shape": [
           100
          ],
          "value": {}
         }
        }
       ],
       "_js2py_relayout": {},
       "_js2py_restyle": {},
       "_js2py_update": {},
       "_last_layout_edit_id": 3,
       "_last_trace_edit_id": 2,
       "_layout": {
        "hovermode": "closest",
        "template": {
         "data": {
          "bar": [
           {
            "error_x": {
             "color": "#2a3f5f"
            },
            "error_y": {
             "color": "#2a3f5f"
            },
            "marker": {
             "line": {
              "color": "#E5ECF6",
              "width": 0.5
             }
            },
            "type": "bar"
           }
          ],
          "barpolar": [
           {
            "marker": {
             "line": {
              "color": "#E5ECF6",
              "width": 0.5
             }
            },
            "type": "barpolar"
           }
          ],
          "carpet": [
           {
            "aaxis": {
             "endlinecolor": "#2a3f5f",
             "gridcolor": "white",
             "linecolor": "white",
             "minorgridcolor": "white",
             "startlinecolor": "#2a3f5f"
            },
            "baxis": {
             "endlinecolor": "#2a3f5f",
             "gridcolor": "white",
             "linecolor": "white",
             "minorgridcolor": "white",
             "startlinecolor": "#2a3f5f"
            },
            "type": "carpet"
           }
          ],
          "choropleth": [
           {
            "colorbar": {
             "outlinewidth": 0,
             "ticks": ""
            },
            "type": "choropleth"
           }
          ],
          "contour": [
           {
            "colorbar": {
             "outlinewidth": 0,
             "ticks": ""
            },
            "colorscale": [
             [
              0,
              "#0d0887"
             ],
             [
              0.1111111111111111,
              "#46039f"
             ],
             [
              0.2222222222222222,
              "#7201a8"
             ],
             [
              0.3333333333333333,
              "#9c179e"
             ],
             [
              0.4444444444444444,
              "#bd3786"
             ],
             [
              0.5555555555555556,
              "#d8576b"
             ],
             [
              0.6666666666666666,
              "#ed7953"
             ],
             [
              0.7777777777777778,
              "#fb9f3a"
             ],
             [
              0.8888888888888888,
              "#fdca26"
             ],
             [
              1,
              "#f0f921"
             ]
            ],
            "type": "contour"
           }
          ],
          "contourcarpet": [
           {
            "colorbar": {
             "outlinewidth": 0,
             "ticks": ""
            },
            "type": "contourcarpet"
           }
          ],
          "heatmap": [
           {
            "colorbar": {
             "outlinewidth": 0,
             "ticks": ""
            },
            "colorscale": [
             [
              0,
              "#0d0887"
             ],
             [
              0.1111111111111111,
              "#46039f"
             ],
             [
              0.2222222222222222,
              "#7201a8"
             ],
             [
              0.3333333333333333,
              "#9c179e"
             ],
             [
              0.4444444444444444,
              "#bd3786"
             ],
             [
              0.5555555555555556,
              "#d8576b"
             ],
             [
              0.6666666666666666,
              "#ed7953"
             ],
             [
              0.7777777777777778,
              "#fb9f3a"
             ],
             [
              0.8888888888888888,
              "#fdca26"
             ],
             [
              1,
              "#f0f921"
             ]
            ],
            "type": "heatmap"
           }
          ],
          "heatmapgl": [
           {
            "colorbar": {
             "outlinewidth": 0,
             "ticks": ""
            },
            "colorscale": [
             [
              0,
              "#0d0887"
             ],
             [
              0.1111111111111111,
              "#46039f"
             ],
             [
              0.2222222222222222,
              "#7201a8"
             ],
             [
              0.3333333333333333,
              "#9c179e"
             ],
             [
              0.4444444444444444,
              "#bd3786"
             ],
             [
              0.5555555555555556,
              "#d8576b"
             ],
             [
              0.6666666666666666,
              "#ed7953"
             ],
             [
              0.7777777777777778,
              "#fb9f3a"
             ],
             [
              0.8888888888888888,
              "#fdca26"
             ],
             [
              1,
              "#f0f921"
             ]
            ],
            "type": "heatmapgl"
           }
          ],
          "histogram": [
           {
            "marker": {
             "colorbar": {
              "outlinewidth": 0,
              "ticks": ""
             }
            },
            "type": "histogram"
           }
          ],
          "histogram2d": [
           {
            "colorbar": {
             "outlinewidth": 0,
             "ticks": ""
            },
            "colorscale": [
             [
              0,
              "#0d0887"
             ],
             [
              0.1111111111111111,
              "#46039f"
             ],
             [
              0.2222222222222222,
              "#7201a8"
             ],
             [
              0.3333333333333333,
              "#9c179e"
             ],
             [
              0.4444444444444444,
              "#bd3786"
             ],
             [
              0.5555555555555556,
              "#d8576b"
             ],
             [
              0.6666666666666666,
              "#ed7953"
             ],
             [
              0.7777777777777778,
              "#fb9f3a"
             ],
             [
              0.8888888888888888,
              "#fdca26"
             ],
             [
              1,
              "#f0f921"
             ]
            ],
            "type": "histogram2d"
           }
          ],
          "histogram2dcontour": [
           {
            "colorbar": {
             "outlinewidth": 0,
             "ticks": ""
            },
            "colorscale": [
             [
              0,
              "#0d0887"
             ],
             [
              0.1111111111111111,
              "#46039f"
             ],
             [
              0.2222222222222222,
              "#7201a8"
             ],
             [
              0.3333333333333333,
              "#9c179e"
             ],
             [
              0.4444444444444444,
              "#bd3786"
             ],
             [
              0.5555555555555556,
              "#d8576b"
             ],
             [
              0.6666666666666666,
              "#ed7953"
             ],
             [
              0.7777777777777778,
              "#fb9f3a"
             ],
             [
              0.8888888888888888,
              "#fdca26"
             ],
             [
              1,
              "#f0f921"
             ]
            ],
            "type": "histogram2dcontour"
           }
          ],
          "mesh3d": [
           {
            "colorbar": {
             "outlinewidth": 0,
             "ticks": ""
            },
            "type": "mesh3d"
           }
          ],
          "parcoords": [
           {
            "line": {
             "colorbar": {
              "outlinewidth": 0,
              "ticks": ""
             }
            },
            "type": "parcoords"
           }
          ],
          "pie": [
           {
            "automargin": true,
            "type": "pie"
           }
          ],
          "scatter": [
           {
            "marker": {
             "colorbar": {
              "outlinewidth": 0,
              "ticks": ""
             }
            },
            "type": "scatter"
           }
          ],
          "scatter3d": [
           {
            "line": {
             "colorbar": {
              "outlinewidth": 0,
              "ticks": ""
             }
            },
            "marker": {
             "colorbar": {
              "outlinewidth": 0,
              "ticks": ""
             }
            },
            "type": "scatter3d"
           }
          ],
          "scattercarpet": [
           {
            "marker": {
             "colorbar": {
              "outlinewidth": 0,
              "ticks": ""
             }
            },
            "type": "scattercarpet"
           }
          ],
          "scattergeo": [
           {
            "marker": {
             "colorbar": {
              "outlinewidth": 0,
              "ticks": ""
             }
            },
            "type": "scattergeo"
           }
          ],
          "scattergl": [
           {
            "marker": {
             "colorbar": {
              "outlinewidth": 0,
              "ticks": ""
             }
            },
            "type": "scattergl"
           }
          ],
          "scattermapbox": [
           {
            "marker": {
             "colorbar": {
              "outlinewidth": 0,
              "ticks": ""
             }
            },
            "type": "scattermapbox"
           }
          ],
          "scatterpolar": [
           {
            "marker": {
             "colorbar": {
              "outlinewidth": 0,
              "ticks": ""
             }
            },
            "type": "scatterpolar"
           }
          ],
          "scatterpolargl": [
           {
            "marker": {
             "colorbar": {
              "outlinewidth": 0,
              "ticks": ""
             }
            },
            "type": "scatterpolargl"
           }
          ],
          "scatterternary": [
           {
            "marker": {
             "colorbar": {
              "outlinewidth": 0,
              "ticks": ""
             }
            },
            "type": "scatterternary"
           }
          ],
          "surface": [
           {
            "colorbar": {
             "outlinewidth": 0,
             "ticks": ""
            },
            "colorscale": [
             [
              0,
              "#0d0887"
             ],
             [
              0.1111111111111111,
              "#46039f"
             ],
             [
              0.2222222222222222,
              "#7201a8"
             ],
             [
              0.3333333333333333,
              "#9c179e"
             ],
             [
              0.4444444444444444,
              "#bd3786"
             ],
             [
              0.5555555555555556,
              "#d8576b"
             ],
             [
              0.6666666666666666,
              "#ed7953"
             ],
             [
              0.7777777777777778,
              "#fb9f3a"
             ],
             [
              0.8888888888888888,
              "#fdca26"
             ],
             [
              1,
              "#f0f921"
             ]
            ],
            "type": "surface"
           }
          ],
          "table": [
           {
            "cells": {
             "fill": {
              "color": "#EBF0F8"
             },
             "line": {
              "color": "white"
             }
            },
            "header": {
             "fill": {
              "color": "#C8D4E3"
             },
             "line": {
              "color": "white"
             }
            },
            "type": "table"
           }
          ]
         },
         "layout": {
          "annotationdefaults": {
           "arrowcolor": "#2a3f5f",
           "arrowhead": 0,
           "arrowwidth": 1
          },
          "coloraxis": {
           "colorbar": {
            "outlinewidth": 0,
            "ticks": ""
           }
          },
          "colorscale": {
           "diverging": [
            [
             0,
             "#8e0152"
            ],
            [
             0.1,
             "#c51b7d"
            ],
            [
             0.2,
             "#de77ae"
            ],
            [
             0.3,
             "#f1b6da"
            ],
            [
             0.4,
             "#fde0ef"
            ],
            [
             0.5,
             "#f7f7f7"
            ],
            [
             0.6,
             "#e6f5d0"
            ],
            [
             0.7,
             "#b8e186"
            ],
            [
             0.8,
             "#7fbc41"
            ],
            [
             0.9,
             "#4d9221"
            ],
            [
             1,
             "#276419"
            ]
           ],
           "sequential": [
            [
             0,
             "#0d0887"
            ],
            [
             0.1111111111111111,
             "#46039f"
            ],
            [
             0.2222222222222222,
             "#7201a8"
            ],
            [
             0.3333333333333333,
             "#9c179e"
            ],
            [
             0.4444444444444444,
             "#bd3786"
            ],
            [
             0.5555555555555556,
             "#d8576b"
            ],
            [
             0.6666666666666666,
             "#ed7953"
            ],
            [
             0.7777777777777778,
             "#fb9f3a"
            ],
            [
             0.8888888888888888,
             "#fdca26"
            ],
            [
             1,
             "#f0f921"
            ]
           ],
           "sequentialminus": [
            [
             0,
             "#0d0887"
            ],
            [
             0.1111111111111111,
             "#46039f"
            ],
            [
             0.2222222222222222,
             "#7201a8"
            ],
            [
             0.3333333333333333,
             "#9c179e"
            ],
            [
             0.4444444444444444,
             "#bd3786"
            ],
            [
             0.5555555555555556,
             "#d8576b"
            ],
            [
             0.6666666666666666,
             "#ed7953"
            ],
            [
             0.7777777777777778,
             "#fb9f3a"
            ],
            [
             0.8888888888888888,
             "#fdca26"
            ],
            [
             1,
             "#f0f921"
            ]
           ]
          },
          "colorway": [
           "#636efa",
           "#EF553B",
           "#00cc96",
           "#ab63fa",
           "#FFA15A",
           "#19d3f3",
           "#FF6692",
           "#B6E880",
           "#FF97FF",
           "#FECB52"
          ],
          "font": {
           "color": "#2a3f5f"
          },
          "geo": {
           "bgcolor": "white",
           "lakecolor": "white",
           "landcolor": "#E5ECF6",
           "showlakes": true,
           "showland": true,
           "subunitcolor": "white"
          },
          "hoverlabel": {
           "align": "left"
          },
          "hovermode": "closest",
          "mapbox": {
           "style": "light"
          },
          "paper_bgcolor": "white",
          "plot_bgcolor": "#E5ECF6",
          "polar": {
           "angularaxis": {
            "gridcolor": "white",
            "linecolor": "white",
            "ticks": ""
           },
           "bgcolor": "#E5ECF6",
           "radialaxis": {
            "gridcolor": "white",
            "linecolor": "white",
            "ticks": ""
           }
          },
          "scene": {
           "xaxis": {
            "backgroundcolor": "#E5ECF6",
            "gridcolor": "white",
            "gridwidth": 2,
            "linecolor": "white",
            "showbackground": true,
            "ticks": "",
            "zerolinecolor": "white"
           },
           "yaxis": {
            "backgroundcolor": "#E5ECF6",
            "gridcolor": "white",
            "gridwidth": 2,
            "linecolor": "white",
            "showbackground": true,
            "ticks": "",
            "zerolinecolor": "white"
           },
           "zaxis": {
            "backgroundcolor": "#E5ECF6",
            "gridcolor": "white",
            "gridwidth": 2,
            "linecolor": "white",
            "showbackground": true,
            "ticks": "",
            "zerolinecolor": "white"
           }
          },
          "shapedefaults": {
           "line": {
            "color": "#2a3f5f"
           }
          },
          "ternary": {
           "aaxis": {
            "gridcolor": "white",
            "linecolor": "white",
            "ticks": ""
           },
           "baxis": {
            "gridcolor": "white",
            "linecolor": "white",
            "ticks": ""
           },
           "bgcolor": "#E5ECF6",
           "caxis": {
            "gridcolor": "white",
            "linecolor": "white",
            "ticks": ""
           }
          },
          "title": {
           "x": 0.05
          },
          "xaxis": {
           "automargin": true,
           "gridcolor": "white",
           "linecolor": "white",
           "ticks": "",
           "title": {
            "standoff": 15
           },
           "zerolinecolor": "white",
           "zerolinewidth": 2
          },
          "yaxis": {
           "automargin": true,
           "gridcolor": "white",
           "linecolor": "white",
           "ticks": "",
           "title": {
            "standoff": 15
           },
           "zerolinecolor": "white",
           "zerolinewidth": 2
          }
         }
        }
       },
       "_model_module_version": "4.6.0",
       "_py2js_addTraces": {},
       "_py2js_animate": {},
       "_py2js_deleteTraces": {},
       "_py2js_moveTraces": {},
       "_py2js_removeLayoutProps": {},
       "_py2js_removeTraceProps": {},
       "_py2js_update": {},
       "_view_count": 0,
       "_view_module_version": "4.6.0"
      }
     },
     "c03f42ffb29e4f8d9464784c3d998e5e": {
      "model_module": "@jupyter-widgets/base",
      "model_module_version": "1.2.0",
      "model_name": "LayoutModel",
      "state": {}
     },
     "d0a4e70c657a4a449cd3965c3b4a81c8": {
      "model_module": "@jupyter-widgets/controls",
      "model_module_version": "1.5.0",
      "model_name": "ButtonStyleModel",
      "state": {}
     },
     "d5f81d15357d47a3b925f59ab39eed9c": {
      "model_module": "@jupyter-widgets/base",
      "model_module_version": "1.2.0",
      "model_name": "LayoutModel",
      "state": {}
     },
     "dcf951e79db9449ca0123c0ff4b5efb4": {
      "model_module": "@jupyter-widgets/base",
      "model_module_version": "1.2.0",
      "model_name": "LayoutModel",
      "state": {}
     },
     "e00d51f5700d4f0e8e04458a1986f5d7": {
      "model_module": "@jupyter-widgets/controls",
      "model_module_version": "1.5.0",
      "model_name": "IntSliderModel",
      "state": {
       "layout": "IPY_MODEL_d5f81d15357d47a3b925f59ab39eed9c",
       "style": "IPY_MODEL_0a95f040bbea4391a5e91920009e782a",
       "value": 53
      }
     },
     "efb3ab3d9cb949ea855c89bc3fec1a32": {
      "model_module": "@jupyter-widgets/controls",
      "model_module_version": "1.5.0",
      "model_name": "ButtonStyleModel",
      "state": {}
     },
     "f131357d61b2412aa045268608efcf8c": {
      "model_module": "@jupyter-widgets/controls",
      "model_module_version": "1.5.0",
      "model_name": "IntSliderModel",
      "state": {
       "description": "Slider:",
       "layout": "IPY_MODEL_625c15c375de415d95fc31d780b3e88e",
       "max": 10,
       "style": "IPY_MODEL_19aca3e900964e22ab232989d222ee83",
       "value": 6
      }
     },
     "f18b7d7a4d1f4e32b540384902d1a726": {
      "model_module": "@jupyter-widgets/controls",
      "model_module_version": "1.5.0",
      "model_name": "ButtonStyleModel",
      "state": {}
     },
     "fa2e5b8ae0bb44f491af7b290860abaa": {
      "model_module": "@jupyter-widgets/controls",
      "model_module_version": "1.5.0",
      "model_name": "ButtonStyleModel",
      "state": {}
     }
    },
    "version_major": 2,
    "version_minor": 0
   }
  }
 },
 "nbformat": 4,
 "nbformat_minor": 2
}
