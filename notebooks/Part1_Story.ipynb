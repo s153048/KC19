{
 "cells": [
  {
   "cell_type": "code",
   "execution_count": 1,
   "metadata": {},
   "outputs": [
    {
     "data": {
      "text/html": [
       "        <script type=\"text/javascript\">\n",
       "        window.PlotlyConfig = {MathJaxConfig: 'local'};\n",
       "        if (window.MathJax) {MathJax.Hub.Config({SVG: {font: \"STIX-Web\"}});}\n",
       "        if (typeof require !== 'undefined') {\n",
       "        require.undef(\"plotly\");\n",
       "        requirejs.config({\n",
       "            paths: {\n",
       "                'plotly': ['https://cdn.plot.ly/plotly-latest.min']\n",
       "            }\n",
       "        });\n",
       "        require(['plotly'], function(Plotly) {\n",
       "            window._Plotly = Plotly;\n",
       "        });\n",
       "        }\n",
       "        </script>\n",
       "        "
      ]
     },
     "metadata": {},
     "output_type": "display_data"
    }
   ],
   "source": [
    "import pandas as pd\n",
    "import matplotlib.pyplot as plt\n",
    "import datetime as dt\n",
    "import numpy as np\n",
    "import random\n",
    "import plotly.offline\n",
    "import plotly.express as px\n",
    "import folium\n",
    "import plotly.graph_objects as go\n",
    "from datetime import timedelta\n",
    "from folium import plugins\n",
    "from folium.plugins import HeatMapWithTime"
   ]
  },
  {
   "cell_type": "code",
   "execution_count": 66,
   "metadata": {},
   "outputs": [],
   "source": [
    "# Loading files do dfs\n",
    "patInf = pd.read_csv('data/PatientInfo.csv')\n",
    "govMeas = pd.read_excel('data/govmeas.xlsx')\n",
    "timedf = pd.read_csv('data/Time.csv')\n",
    "patRou = pd.read_csv('data/PatientRoute.csv')"
   ]
  },
  {
   "cell_type": "code",
   "execution_count": 3,
   "metadata": {},
   "outputs": [],
   "source": [
    "timedf['date'] = pd.to_datetime(timedf['date'], format='%Y-%m-%d')\n",
    "patInf['confirmed_date'] = pd.to_datetime(patInf['confirmed_date'], format='%Y-%m-%d')\n",
    "patInf = patInf.rename(columns={'confirmed_date':'date'}) "
   ]
  },
  {
   "cell_type": "code",
   "execution_count": 4,
   "metadata": {},
   "outputs": [],
   "source": [
    "# Setting the days after the first test\n",
    "timedf['days_since0'] = timedf['date'].apply(lambda x: (x-timedf.date.min()).days)"
   ]
  },
  {
   "cell_type": "code",
   "execution_count": 5,
   "metadata": {},
   "outputs": [],
   "source": [
    "# Obtaining daily values from cumulative values\n",
    "timedf['conf_on_day'] = timedf['confirmed'].diff().fillna(timedf['confirmed'])\n",
    "timedf['test_on_day'] = timedf['test'].diff().fillna(timedf['test'])\n",
    "timedf['neg_on_day'] = timedf['negative'].diff().fillna(timedf['negative'])\n",
    "timedf['dec_on_day'] = timedf['deceased'].diff().fillna(timedf['deceased'])\n",
    "timedf['rel_on_day'] = timedf['released'].diff().fillna(timedf['released'])"
   ]
  },
  {
   "cell_type": "markdown",
   "metadata": {},
   "source": [
    "# COVID-19 in South Korea"
   ]
  },
  {
   "cell_type": "markdown",
   "metadata": {},
   "source": [
    "## \"Big numbers\""
   ]
  },
  {
   "cell_type": "markdown",
   "metadata": {},
   "source": [
    "Before we start doing any sort of reasoning on why or how things happen the way they do, let's try to give you some context by showing the usually media-loved big numbers about COVID-19 in South Korea. The plot below is interactive! Select on the drop-down menu on the left if you would like to see the cumulative or the daily numbers for tested population, and hover your mouse over the image to see specifics for each point. You can also zoom-in by clicking and dragging (just like most of the plots you will find here) so, take your time, have some fun! : D"
   ]
  },
  {
   "cell_type": "code",
   "execution_count": 26,
   "metadata": {},
   "outputs": [
    {
     "data": {
      "application/vnd.plotly.v1+json": {
       "config": {
        "plotlyServerURL": "https://plot.ly"
       },
       "data": [
        {
         "line": {
          "color": "black",
          "width": 2
         },
         "name": "Accum. Tested",
         "type": "scatter",
         "x": [
          0,
          1,
          2,
          3,
          4,
          5,
          6,
          7,
          8,
          9,
          10,
          11,
          12,
          13,
          14,
          15,
          16,
          17,
          18,
          19,
          20,
          21,
          22,
          23,
          24,
          25,
          26,
          27,
          28,
          29,
          30,
          31,
          32,
          33,
          34,
          35,
          36,
          37,
          38,
          39,
          40,
          41,
          42,
          43,
          44,
          45,
          46,
          47,
          48,
          49,
          50,
          51,
          52,
          53,
          54,
          55,
          56,
          57,
          58,
          59,
          60,
          61,
          62,
          63,
          64,
          65,
          66,
          67,
          68,
          69,
          70,
          71,
          72,
          73,
          74,
          75,
          76,
          77,
          78,
          79,
          80,
          81,
          82,
          83,
          84,
          85,
          86,
          87,
          88,
          89,
          90,
          91,
          92,
          93,
          94,
          95,
          96,
          97,
          98,
          99,
          100,
          101
         ],
         "y": [
          1,
          1,
          4,
          22,
          27,
          27,
          51,
          61,
          116,
          187,
          246,
          312,
          371,
          429,
          490,
          607,
          714,
          885,
          1352,
          2097,
          2598,
          3110,
          4325,
          5624,
          6511,
          7242,
          7734,
          8161,
          8718,
          9772,
          11173,
          13202,
          16400,
          21586,
          26179,
          32756,
          40304,
          53553,
          66652,
          81167,
          94055,
          98921,
          109591,
          125851,
          136707,
          146541,
          164740,
          178189,
          188518,
          196618,
          210144,
          222395,
          234998,
          248647,
          261335,
          268212,
          274504,
          286716,
          295647,
          307024,
          316664,
          327509,
          331780,
          338036,
          348582,
          357896,
          364942,
          376961,
          387925,
          394141,
          395194,
          410564,
          421547,
          431743,
          443273,
          455032,
          461233,
          466804,
          477304,
          486003,
          494711,
          503051,
          510479,
          514621,
          518743,
          527438,
          534552,
          538775,
          546463,
          554834,
          559109,
          563035,
          571014,
          577959,
          583971,
          589520,
          595161,
          598285,
          601660,
          608514,
          614197,
          619881
         ]
        },
        {
         "line": {
          "color": "gray",
          "width": 2
         },
         "name": "Accum. Negative",
         "type": "scatter",
         "x": [
          0,
          1,
          2,
          3,
          4,
          5,
          6,
          7,
          8,
          9,
          10,
          11,
          12,
          13,
          14,
          15,
          16,
          17,
          18,
          19,
          20,
          21,
          22,
          23,
          24,
          25,
          26,
          27,
          28,
          29,
          30,
          31,
          32,
          33,
          34,
          35,
          36,
          37,
          38,
          39,
          40,
          41,
          42,
          43,
          44,
          45,
          46,
          47,
          48,
          49,
          50,
          51,
          52,
          53,
          54,
          55,
          56,
          57,
          58,
          59,
          60,
          61,
          62,
          63,
          64,
          65,
          66,
          67,
          68,
          69,
          70,
          71,
          72,
          73,
          74,
          75,
          76,
          77,
          78,
          79,
          80,
          81,
          82,
          83,
          84,
          85,
          86,
          87,
          88,
          89,
          90,
          91,
          92,
          93,
          94,
          95,
          96,
          97,
          98,
          99,
          100,
          101
         ],
         "y": [
          0,
          0,
          3,
          21,
          25,
          25,
          47,
          56,
          97,
          155,
          199,
          245,
          289,
          327,
          414,
          462,
          522,
          693,
          1001,
          1134,
          1683,
          2552,
          3535,
          4811,
          5921,
          6679,
          7148,
          7647,
          7980,
          8923,
          9973,
          11238,
          13016,
          15116,
          17520,
          20292,
          25447,
          31576,
          39318,
          48593,
          55723,
          61825,
          71580,
          85484,
          102965,
          118965,
          136624,
          151802,
          162008,
          171778,
          184179,
          196100,
          209402,
          222728,
          235615,
          243778,
          251297,
          261105,
          270888,
          282555,
          292487,
          303006,
          308343,
          315447,
          324105,
          334481,
          341332,
          352410,
          361883,
          369530,
          372002,
          383886,
          395075,
          403882,
          414303,
          424732,
          431425,
          437225,
          446323,
          457761,
          468779,
          477303,
          485929,
          490321,
          494815,
          502223,
          508935,
          513894,
          521642,
          530631,
          536205,
          540380,
          547610,
          555144,
          563130,
          569212,
          575184,
          578558,
          582027,
          588559,
          595129,
          600482
         ]
        },
        {
         "line": {
          "color": "orange",
          "width": 2
         },
         "name": "Accum. Positive",
         "type": "scatter",
         "x": [
          0,
          1,
          2,
          3,
          4,
          5,
          6,
          7,
          8,
          9,
          10,
          11,
          12,
          13,
          14,
          15,
          16,
          17,
          18,
          19,
          20,
          21,
          22,
          23,
          24,
          25,
          26,
          27,
          28,
          29,
          30,
          31,
          32,
          33,
          34,
          35,
          36,
          37,
          38,
          39,
          40,
          41,
          42,
          43,
          44,
          45,
          46,
          47,
          48,
          49,
          50,
          51,
          52,
          53,
          54,
          55,
          56,
          57,
          58,
          59,
          60,
          61,
          62,
          63,
          64,
          65,
          66,
          67,
          68,
          69,
          70,
          71,
          72,
          73,
          74,
          75,
          76,
          77,
          78,
          79,
          80,
          81,
          82,
          83,
          84,
          85,
          86,
          87,
          88,
          89,
          90,
          91,
          92,
          93,
          94,
          95,
          96,
          97,
          98,
          99,
          100,
          101
         ],
         "y": [
          1,
          1,
          1,
          1,
          2,
          2,
          3,
          4,
          4,
          4,
          6,
          11,
          12,
          15,
          15,
          16,
          18,
          23,
          24,
          24,
          27,
          27,
          28,
          28,
          28,
          28,
          28,
          29,
          30,
          31,
          51,
          104,
          204,
          433,
          602,
          833,
          977,
          1261,
          1766,
          2337,
          3150,
          3736,
          4212,
          4812,
          5328,
          5766,
          6284,
          6767,
          7134,
          7382,
          7513,
          7755,
          7869,
          7979,
          8086,
          8126,
          8236,
          8320,
          8413,
          8565,
          8652,
          8799,
          8897,
          8961,
          9037,
          9137,
          9241,
          9332,
          9478,
          9583,
          9661,
          9786,
          9887,
          9976,
          10062,
          10156,
          10237,
          10284,
          10331,
          10384,
          10423,
          10450,
          10480,
          10512,
          10537,
          10564,
          10591,
          10613,
          10635,
          10653,
          10661,
          10674,
          10683,
          10694,
          10702,
          10708,
          10718,
          10728,
          10738,
          10752,
          10761,
          10765
         ]
        },
        {
         "line": {
          "color": "black",
          "width": 2
         },
         "name": "Daily Tested",
         "type": "scatter",
         "visible": false,
         "x": [
          0,
          1,
          2,
          3,
          4,
          5,
          6,
          7,
          8,
          9,
          10,
          11,
          12,
          13,
          14,
          15,
          16,
          17,
          18,
          19,
          20,
          21,
          22,
          23,
          24,
          25,
          26,
          27,
          28,
          29,
          30,
          31,
          32,
          33,
          34,
          35,
          36,
          37,
          38,
          39,
          40,
          41,
          42,
          43,
          44,
          45,
          46,
          47,
          48,
          49,
          50,
          51,
          52,
          53,
          54,
          55,
          56,
          57,
          58,
          59,
          60,
          61,
          62,
          63,
          64,
          65,
          66,
          67,
          68,
          69,
          70,
          71,
          72,
          73,
          74,
          75,
          76,
          77,
          78,
          79,
          80,
          81,
          82,
          83,
          84,
          85,
          86,
          87,
          88,
          89,
          90,
          91,
          92,
          93,
          94,
          95,
          96,
          97,
          98,
          99,
          100,
          101
         ],
         "y": [
          1,
          0,
          3,
          18,
          5,
          0,
          24,
          10,
          55,
          71,
          59,
          66,
          59,
          58,
          61,
          117,
          107,
          171,
          467,
          745,
          501,
          512,
          1215,
          1299,
          887,
          731,
          492,
          427,
          557,
          1054,
          1401,
          2029,
          3198,
          5186,
          4593,
          6577,
          7548,
          13249,
          13099,
          14515,
          12888,
          4866,
          10670,
          16260,
          10856,
          9834,
          18199,
          13449,
          10329,
          8100,
          13526,
          12251,
          12603,
          13649,
          12688,
          6877,
          6292,
          12212,
          8931,
          11377,
          9640,
          10845,
          4271,
          6256,
          10546,
          9314,
          7046,
          12019,
          10964,
          6216,
          1053,
          15370,
          10983,
          10196,
          11530,
          11759,
          6201,
          5571,
          10500,
          8699,
          8708,
          8340,
          7428,
          4142,
          4122,
          8695,
          7114,
          4223,
          7688,
          8371,
          4275,
          3926,
          7979,
          6945,
          6012,
          5549,
          5641,
          3124,
          3375,
          6854,
          5683,
          5684
         ]
        },
        {
         "line": {
          "color": "gray",
          "width": 2
         },
         "name": "Daily Negative",
         "type": "scatter",
         "visible": false,
         "x": [
          0,
          1,
          2,
          3,
          4,
          5,
          6,
          7,
          8,
          9,
          10,
          11,
          12,
          13,
          14,
          15,
          16,
          17,
          18,
          19,
          20,
          21,
          22,
          23,
          24,
          25,
          26,
          27,
          28,
          29,
          30,
          31,
          32,
          33,
          34,
          35,
          36,
          37,
          38,
          39,
          40,
          41,
          42,
          43,
          44,
          45,
          46,
          47,
          48,
          49,
          50,
          51,
          52,
          53,
          54,
          55,
          56,
          57,
          58,
          59,
          60,
          61,
          62,
          63,
          64,
          65,
          66,
          67,
          68,
          69,
          70,
          71,
          72,
          73,
          74,
          75,
          76,
          77,
          78,
          79,
          80,
          81,
          82,
          83,
          84,
          85,
          86,
          87,
          88,
          89,
          90,
          91,
          92,
          93,
          94,
          95,
          96,
          97,
          98,
          99,
          100,
          101
         ],
         "y": [
          0,
          0,
          3,
          18,
          4,
          0,
          22,
          9,
          41,
          58,
          44,
          46,
          44,
          38,
          87,
          48,
          60,
          171,
          308,
          133,
          549,
          869,
          983,
          1276,
          1110,
          758,
          469,
          499,
          333,
          943,
          1050,
          1265,
          1778,
          2100,
          2404,
          2772,
          5155,
          6129,
          7742,
          9275,
          7130,
          6102,
          9755,
          13904,
          17481,
          16000,
          17659,
          15178,
          10206,
          9770,
          12401,
          11921,
          13302,
          13326,
          12887,
          8163,
          7519,
          9808,
          9783,
          11667,
          9932,
          10519,
          5337,
          7104,
          8658,
          10376,
          6851,
          11078,
          9473,
          7647,
          2472,
          11884,
          11189,
          8807,
          10421,
          10429,
          6693,
          5800,
          9098,
          11438,
          11018,
          8524,
          8626,
          4392,
          4494,
          7408,
          6712,
          4959,
          7748,
          8989,
          5574,
          4175,
          7230,
          7534,
          7986,
          6082,
          5972,
          3374,
          3469,
          6532,
          6570,
          5353
         ]
        }
       ],
       "layout": {
        "height": 500,
        "hovermode": "x unified",
        "template": {
         "data": {
          "bar": [
           {
            "error_x": {
             "color": "#2a3f5f"
            },
            "error_y": {
             "color": "#2a3f5f"
            },
            "marker": {
             "line": {
              "color": "#E5ECF6",
              "width": 0.5
             }
            },
            "type": "bar"
           }
          ],
          "barpolar": [
           {
            "marker": {
             "line": {
              "color": "#E5ECF6",
              "width": 0.5
             }
            },
            "type": "barpolar"
           }
          ],
          "carpet": [
           {
            "aaxis": {
             "endlinecolor": "#2a3f5f",
             "gridcolor": "white",
             "linecolor": "white",
             "minorgridcolor": "white",
             "startlinecolor": "#2a3f5f"
            },
            "baxis": {
             "endlinecolor": "#2a3f5f",
             "gridcolor": "white",
             "linecolor": "white",
             "minorgridcolor": "white",
             "startlinecolor": "#2a3f5f"
            },
            "type": "carpet"
           }
          ],
          "choropleth": [
           {
            "colorbar": {
             "outlinewidth": 0,
             "ticks": ""
            },
            "type": "choropleth"
           }
          ],
          "contour": [
           {
            "colorbar": {
             "outlinewidth": 0,
             "ticks": ""
            },
            "colorscale": [
             [
              0,
              "#0d0887"
             ],
             [
              0.1111111111111111,
              "#46039f"
             ],
             [
              0.2222222222222222,
              "#7201a8"
             ],
             [
              0.3333333333333333,
              "#9c179e"
             ],
             [
              0.4444444444444444,
              "#bd3786"
             ],
             [
              0.5555555555555556,
              "#d8576b"
             ],
             [
              0.6666666666666666,
              "#ed7953"
             ],
             [
              0.7777777777777778,
              "#fb9f3a"
             ],
             [
              0.8888888888888888,
              "#fdca26"
             ],
             [
              1,
              "#f0f921"
             ]
            ],
            "type": "contour"
           }
          ],
          "contourcarpet": [
           {
            "colorbar": {
             "outlinewidth": 0,
             "ticks": ""
            },
            "type": "contourcarpet"
           }
          ],
          "heatmap": [
           {
            "colorbar": {
             "outlinewidth": 0,
             "ticks": ""
            },
            "colorscale": [
             [
              0,
              "#0d0887"
             ],
             [
              0.1111111111111111,
              "#46039f"
             ],
             [
              0.2222222222222222,
              "#7201a8"
             ],
             [
              0.3333333333333333,
              "#9c179e"
             ],
             [
              0.4444444444444444,
              "#bd3786"
             ],
             [
              0.5555555555555556,
              "#d8576b"
             ],
             [
              0.6666666666666666,
              "#ed7953"
             ],
             [
              0.7777777777777778,
              "#fb9f3a"
             ],
             [
              0.8888888888888888,
              "#fdca26"
             ],
             [
              1,
              "#f0f921"
             ]
            ],
            "type": "heatmap"
           }
          ],
          "heatmapgl": [
           {
            "colorbar": {
             "outlinewidth": 0,
             "ticks": ""
            },
            "colorscale": [
             [
              0,
              "#0d0887"
             ],
             [
              0.1111111111111111,
              "#46039f"
             ],
             [
              0.2222222222222222,
              "#7201a8"
             ],
             [
              0.3333333333333333,
              "#9c179e"
             ],
             [
              0.4444444444444444,
              "#bd3786"
             ],
             [
              0.5555555555555556,
              "#d8576b"
             ],
             [
              0.6666666666666666,
              "#ed7953"
             ],
             [
              0.7777777777777778,
              "#fb9f3a"
             ],
             [
              0.8888888888888888,
              "#fdca26"
             ],
             [
              1,
              "#f0f921"
             ]
            ],
            "type": "heatmapgl"
           }
          ],
          "histogram": [
           {
            "marker": {
             "colorbar": {
              "outlinewidth": 0,
              "ticks": ""
             }
            },
            "type": "histogram"
           }
          ],
          "histogram2d": [
           {
            "colorbar": {
             "outlinewidth": 0,
             "ticks": ""
            },
            "colorscale": [
             [
              0,
              "#0d0887"
             ],
             [
              0.1111111111111111,
              "#46039f"
             ],
             [
              0.2222222222222222,
              "#7201a8"
             ],
             [
              0.3333333333333333,
              "#9c179e"
             ],
             [
              0.4444444444444444,
              "#bd3786"
             ],
             [
              0.5555555555555556,
              "#d8576b"
             ],
             [
              0.6666666666666666,
              "#ed7953"
             ],
             [
              0.7777777777777778,
              "#fb9f3a"
             ],
             [
              0.8888888888888888,
              "#fdca26"
             ],
             [
              1,
              "#f0f921"
             ]
            ],
            "type": "histogram2d"
           }
          ],
          "histogram2dcontour": [
           {
            "colorbar": {
             "outlinewidth": 0,
             "ticks": ""
            },
            "colorscale": [
             [
              0,
              "#0d0887"
             ],
             [
              0.1111111111111111,
              "#46039f"
             ],
             [
              0.2222222222222222,
              "#7201a8"
             ],
             [
              0.3333333333333333,
              "#9c179e"
             ],
             [
              0.4444444444444444,
              "#bd3786"
             ],
             [
              0.5555555555555556,
              "#d8576b"
             ],
             [
              0.6666666666666666,
              "#ed7953"
             ],
             [
              0.7777777777777778,
              "#fb9f3a"
             ],
             [
              0.8888888888888888,
              "#fdca26"
             ],
             [
              1,
              "#f0f921"
             ]
            ],
            "type": "histogram2dcontour"
           }
          ],
          "mesh3d": [
           {
            "colorbar": {
             "outlinewidth": 0,
             "ticks": ""
            },
            "type": "mesh3d"
           }
          ],
          "parcoords": [
           {
            "line": {
             "colorbar": {
              "outlinewidth": 0,
              "ticks": ""
             }
            },
            "type": "parcoords"
           }
          ],
          "pie": [
           {
            "automargin": true,
            "type": "pie"
           }
          ],
          "scatter": [
           {
            "marker": {
             "colorbar": {
              "outlinewidth": 0,
              "ticks": ""
             }
            },
            "type": "scatter"
           }
          ],
          "scatter3d": [
           {
            "line": {
             "colorbar": {
              "outlinewidth": 0,
              "ticks": ""
             }
            },
            "marker": {
             "colorbar": {
              "outlinewidth": 0,
              "ticks": ""
             }
            },
            "type": "scatter3d"
           }
          ],
          "scattercarpet": [
           {
            "marker": {
             "colorbar": {
              "outlinewidth": 0,
              "ticks": ""
             }
            },
            "type": "scattercarpet"
           }
          ],
          "scattergeo": [
           {
            "marker": {
             "colorbar": {
              "outlinewidth": 0,
              "ticks": ""
             }
            },
            "type": "scattergeo"
           }
          ],
          "scattergl": [
           {
            "marker": {
             "colorbar": {
              "outlinewidth": 0,
              "ticks": ""
             }
            },
            "type": "scattergl"
           }
          ],
          "scattermapbox": [
           {
            "marker": {
             "colorbar": {
              "outlinewidth": 0,
              "ticks": ""
             }
            },
            "type": "scattermapbox"
           }
          ],
          "scatterpolar": [
           {
            "marker": {
             "colorbar": {
              "outlinewidth": 0,
              "ticks": ""
             }
            },
            "type": "scatterpolar"
           }
          ],
          "scatterpolargl": [
           {
            "marker": {
             "colorbar": {
              "outlinewidth": 0,
              "ticks": ""
             }
            },
            "type": "scatterpolargl"
           }
          ],
          "scatterternary": [
           {
            "marker": {
             "colorbar": {
              "outlinewidth": 0,
              "ticks": ""
             }
            },
            "type": "scatterternary"
           }
          ],
          "surface": [
           {
            "colorbar": {
             "outlinewidth": 0,
             "ticks": ""
            },
            "colorscale": [
             [
              0,
              "#0d0887"
             ],
             [
              0.1111111111111111,
              "#46039f"
             ],
             [
              0.2222222222222222,
              "#7201a8"
             ],
             [
              0.3333333333333333,
              "#9c179e"
             ],
             [
              0.4444444444444444,
              "#bd3786"
             ],
             [
              0.5555555555555556,
              "#d8576b"
             ],
             [
              0.6666666666666666,
              "#ed7953"
             ],
             [
              0.7777777777777778,
              "#fb9f3a"
             ],
             [
              0.8888888888888888,
              "#fdca26"
             ],
             [
              1,
              "#f0f921"
             ]
            ],
            "type": "surface"
           }
          ],
          "table": [
           {
            "cells": {
             "fill": {
              "color": "#EBF0F8"
             },
             "line": {
              "color": "white"
             }
            },
            "header": {
             "fill": {
              "color": "#C8D4E3"
             },
             "line": {
              "color": "white"
             }
            },
            "type": "table"
           }
          ]
         },
         "layout": {
          "annotationdefaults": {
           "arrowcolor": "#2a3f5f",
           "arrowhead": 0,
           "arrowwidth": 1
          },
          "coloraxis": {
           "colorbar": {
            "outlinewidth": 0,
            "ticks": ""
           }
          },
          "colorscale": {
           "diverging": [
            [
             0,
             "#8e0152"
            ],
            [
             0.1,
             "#c51b7d"
            ],
            [
             0.2,
             "#de77ae"
            ],
            [
             0.3,
             "#f1b6da"
            ],
            [
             0.4,
             "#fde0ef"
            ],
            [
             0.5,
             "#f7f7f7"
            ],
            [
             0.6,
             "#e6f5d0"
            ],
            [
             0.7,
             "#b8e186"
            ],
            [
             0.8,
             "#7fbc41"
            ],
            [
             0.9,
             "#4d9221"
            ],
            [
             1,
             "#276419"
            ]
           ],
           "sequential": [
            [
             0,
             "#0d0887"
            ],
            [
             0.1111111111111111,
             "#46039f"
            ],
            [
             0.2222222222222222,
             "#7201a8"
            ],
            [
             0.3333333333333333,
             "#9c179e"
            ],
            [
             0.4444444444444444,
             "#bd3786"
            ],
            [
             0.5555555555555556,
             "#d8576b"
            ],
            [
             0.6666666666666666,
             "#ed7953"
            ],
            [
             0.7777777777777778,
             "#fb9f3a"
            ],
            [
             0.8888888888888888,
             "#fdca26"
            ],
            [
             1,
             "#f0f921"
            ]
           ],
           "sequentialminus": [
            [
             0,
             "#0d0887"
            ],
            [
             0.1111111111111111,
             "#46039f"
            ],
            [
             0.2222222222222222,
             "#7201a8"
            ],
            [
             0.3333333333333333,
             "#9c179e"
            ],
            [
             0.4444444444444444,
             "#bd3786"
            ],
            [
             0.5555555555555556,
             "#d8576b"
            ],
            [
             0.6666666666666666,
             "#ed7953"
            ],
            [
             0.7777777777777778,
             "#fb9f3a"
            ],
            [
             0.8888888888888888,
             "#fdca26"
            ],
            [
             1,
             "#f0f921"
            ]
           ]
          },
          "colorway": [
           "#636efa",
           "#EF553B",
           "#00cc96",
           "#ab63fa",
           "#FFA15A",
           "#19d3f3",
           "#FF6692",
           "#B6E880",
           "#FF97FF",
           "#FECB52"
          ],
          "font": {
           "color": "#2a3f5f"
          },
          "geo": {
           "bgcolor": "white",
           "lakecolor": "white",
           "landcolor": "#E5ECF6",
           "showlakes": true,
           "showland": true,
           "subunitcolor": "white"
          },
          "hoverlabel": {
           "align": "left"
          },
          "hovermode": "closest",
          "mapbox": {
           "style": "light"
          },
          "paper_bgcolor": "white",
          "plot_bgcolor": "#E5ECF6",
          "polar": {
           "angularaxis": {
            "gridcolor": "white",
            "linecolor": "white",
            "ticks": ""
           },
           "bgcolor": "#E5ECF6",
           "radialaxis": {
            "gridcolor": "white",
            "linecolor": "white",
            "ticks": ""
           }
          },
          "scene": {
           "xaxis": {
            "backgroundcolor": "#E5ECF6",
            "gridcolor": "white",
            "gridwidth": 2,
            "linecolor": "white",
            "showbackground": true,
            "ticks": "",
            "zerolinecolor": "white"
           },
           "yaxis": {
            "backgroundcolor": "#E5ECF6",
            "gridcolor": "white",
            "gridwidth": 2,
            "linecolor": "white",
            "showbackground": true,
            "ticks": "",
            "zerolinecolor": "white"
           },
           "zaxis": {
            "backgroundcolor": "#E5ECF6",
            "gridcolor": "white",
            "gridwidth": 2,
            "linecolor": "white",
            "showbackground": true,
            "ticks": "",
            "zerolinecolor": "white"
           }
          },
          "shapedefaults": {
           "line": {
            "color": "#2a3f5f"
           }
          },
          "ternary": {
           "aaxis": {
            "gridcolor": "white",
            "linecolor": "white",
            "ticks": ""
           },
           "baxis": {
            "gridcolor": "white",
            "linecolor": "white",
            "ticks": ""
           },
           "bgcolor": "#E5ECF6",
           "caxis": {
            "gridcolor": "white",
            "linecolor": "white",
            "ticks": ""
           }
          },
          "title": {
           "x": 0.05
          },
          "xaxis": {
           "automargin": true,
           "gridcolor": "white",
           "linecolor": "white",
           "ticks": "",
           "title": {
            "standoff": 15
           },
           "zerolinecolor": "white",
           "zerolinewidth": 2
          },
          "yaxis": {
           "automargin": true,
           "gridcolor": "white",
           "linecolor": "white",
           "ticks": "",
           "title": {
            "standoff": 15
           },
           "zerolinecolor": "white",
           "zerolinewidth": 2
          }
         }
        },
        "title": {
         "text": "Tested population"
        },
        "updatemenus": [
         {
          "active": 0,
          "buttons": [
           {
            "args": [
             {
              "visible": [
               true,
               true,
               true,
               false,
               false
              ]
             },
             {
              "showlegend": true,
              "title": "Cumulative tested population"
             }
            ],
            "label": "Accum.",
            "method": "update"
           },
           {
            "args": [
             {
              "visible": [
               false,
               false,
               false,
               true,
               true
              ]
             },
             {
              "showlegend": true,
              "title": "Daily tested population"
             }
            ],
            "label": "Daily",
            "method": "update"
           }
          ]
         }
        ],
        "width": 900,
        "xaxis": {
         "title": {
          "text": "Number of days since first test (2020-01-20)"
         }
        },
        "yaxis": {
         "title": {
          "text": "Number of people"
         }
        }
       }
      },
      "text/html": [
       "<div>\n",
       "        \n",
       "        \n",
       "            <div id=\"b246abb9-b413-4d3b-94a6-b1834868e411\" class=\"plotly-graph-div\" style=\"height:500px; width:900px;\"></div>\n",
       "            <script type=\"text/javascript\">\n",
       "                require([\"plotly\"], function(Plotly) {\n",
       "                    window.PLOTLYENV=window.PLOTLYENV || {};\n",
       "                    \n",
       "                if (document.getElementById(\"b246abb9-b413-4d3b-94a6-b1834868e411\")) {\n",
       "                    Plotly.newPlot(\n",
       "                        'b246abb9-b413-4d3b-94a6-b1834868e411',\n",
       "                        [{\"line\": {\"color\": \"black\", \"width\": 2}, \"name\": \"Accum. Tested\", \"type\": \"scatter\", \"x\": [0, 1, 2, 3, 4, 5, 6, 7, 8, 9, 10, 11, 12, 13, 14, 15, 16, 17, 18, 19, 20, 21, 22, 23, 24, 25, 26, 27, 28, 29, 30, 31, 32, 33, 34, 35, 36, 37, 38, 39, 40, 41, 42, 43, 44, 45, 46, 47, 48, 49, 50, 51, 52, 53, 54, 55, 56, 57, 58, 59, 60, 61, 62, 63, 64, 65, 66, 67, 68, 69, 70, 71, 72, 73, 74, 75, 76, 77, 78, 79, 80, 81, 82, 83, 84, 85, 86, 87, 88, 89, 90, 91, 92, 93, 94, 95, 96, 97, 98, 99, 100, 101], \"y\": [1, 1, 4, 22, 27, 27, 51, 61, 116, 187, 246, 312, 371, 429, 490, 607, 714, 885, 1352, 2097, 2598, 3110, 4325, 5624, 6511, 7242, 7734, 8161, 8718, 9772, 11173, 13202, 16400, 21586, 26179, 32756, 40304, 53553, 66652, 81167, 94055, 98921, 109591, 125851, 136707, 146541, 164740, 178189, 188518, 196618, 210144, 222395, 234998, 248647, 261335, 268212, 274504, 286716, 295647, 307024, 316664, 327509, 331780, 338036, 348582, 357896, 364942, 376961, 387925, 394141, 395194, 410564, 421547, 431743, 443273, 455032, 461233, 466804, 477304, 486003, 494711, 503051, 510479, 514621, 518743, 527438, 534552, 538775, 546463, 554834, 559109, 563035, 571014, 577959, 583971, 589520, 595161, 598285, 601660, 608514, 614197, 619881]}, {\"line\": {\"color\": \"gray\", \"width\": 2}, \"name\": \"Accum. Negative\", \"type\": \"scatter\", \"x\": [0, 1, 2, 3, 4, 5, 6, 7, 8, 9, 10, 11, 12, 13, 14, 15, 16, 17, 18, 19, 20, 21, 22, 23, 24, 25, 26, 27, 28, 29, 30, 31, 32, 33, 34, 35, 36, 37, 38, 39, 40, 41, 42, 43, 44, 45, 46, 47, 48, 49, 50, 51, 52, 53, 54, 55, 56, 57, 58, 59, 60, 61, 62, 63, 64, 65, 66, 67, 68, 69, 70, 71, 72, 73, 74, 75, 76, 77, 78, 79, 80, 81, 82, 83, 84, 85, 86, 87, 88, 89, 90, 91, 92, 93, 94, 95, 96, 97, 98, 99, 100, 101], \"y\": [0, 0, 3, 21, 25, 25, 47, 56, 97, 155, 199, 245, 289, 327, 414, 462, 522, 693, 1001, 1134, 1683, 2552, 3535, 4811, 5921, 6679, 7148, 7647, 7980, 8923, 9973, 11238, 13016, 15116, 17520, 20292, 25447, 31576, 39318, 48593, 55723, 61825, 71580, 85484, 102965, 118965, 136624, 151802, 162008, 171778, 184179, 196100, 209402, 222728, 235615, 243778, 251297, 261105, 270888, 282555, 292487, 303006, 308343, 315447, 324105, 334481, 341332, 352410, 361883, 369530, 372002, 383886, 395075, 403882, 414303, 424732, 431425, 437225, 446323, 457761, 468779, 477303, 485929, 490321, 494815, 502223, 508935, 513894, 521642, 530631, 536205, 540380, 547610, 555144, 563130, 569212, 575184, 578558, 582027, 588559, 595129, 600482]}, {\"line\": {\"color\": \"orange\", \"width\": 2}, \"name\": \"Accum. Positive\", \"type\": \"scatter\", \"x\": [0, 1, 2, 3, 4, 5, 6, 7, 8, 9, 10, 11, 12, 13, 14, 15, 16, 17, 18, 19, 20, 21, 22, 23, 24, 25, 26, 27, 28, 29, 30, 31, 32, 33, 34, 35, 36, 37, 38, 39, 40, 41, 42, 43, 44, 45, 46, 47, 48, 49, 50, 51, 52, 53, 54, 55, 56, 57, 58, 59, 60, 61, 62, 63, 64, 65, 66, 67, 68, 69, 70, 71, 72, 73, 74, 75, 76, 77, 78, 79, 80, 81, 82, 83, 84, 85, 86, 87, 88, 89, 90, 91, 92, 93, 94, 95, 96, 97, 98, 99, 100, 101], \"y\": [1, 1, 1, 1, 2, 2, 3, 4, 4, 4, 6, 11, 12, 15, 15, 16, 18, 23, 24, 24, 27, 27, 28, 28, 28, 28, 28, 29, 30, 31, 51, 104, 204, 433, 602, 833, 977, 1261, 1766, 2337, 3150, 3736, 4212, 4812, 5328, 5766, 6284, 6767, 7134, 7382, 7513, 7755, 7869, 7979, 8086, 8126, 8236, 8320, 8413, 8565, 8652, 8799, 8897, 8961, 9037, 9137, 9241, 9332, 9478, 9583, 9661, 9786, 9887, 9976, 10062, 10156, 10237, 10284, 10331, 10384, 10423, 10450, 10480, 10512, 10537, 10564, 10591, 10613, 10635, 10653, 10661, 10674, 10683, 10694, 10702, 10708, 10718, 10728, 10738, 10752, 10761, 10765]}, {\"line\": {\"color\": \"black\", \"width\": 2}, \"name\": \"Daily Tested\", \"type\": \"scatter\", \"visible\": false, \"x\": [0, 1, 2, 3, 4, 5, 6, 7, 8, 9, 10, 11, 12, 13, 14, 15, 16, 17, 18, 19, 20, 21, 22, 23, 24, 25, 26, 27, 28, 29, 30, 31, 32, 33, 34, 35, 36, 37, 38, 39, 40, 41, 42, 43, 44, 45, 46, 47, 48, 49, 50, 51, 52, 53, 54, 55, 56, 57, 58, 59, 60, 61, 62, 63, 64, 65, 66, 67, 68, 69, 70, 71, 72, 73, 74, 75, 76, 77, 78, 79, 80, 81, 82, 83, 84, 85, 86, 87, 88, 89, 90, 91, 92, 93, 94, 95, 96, 97, 98, 99, 100, 101], \"y\": [1.0, 0.0, 3.0, 18.0, 5.0, 0.0, 24.0, 10.0, 55.0, 71.0, 59.0, 66.0, 59.0, 58.0, 61.0, 117.0, 107.0, 171.0, 467.0, 745.0, 501.0, 512.0, 1215.0, 1299.0, 887.0, 731.0, 492.0, 427.0, 557.0, 1054.0, 1401.0, 2029.0, 3198.0, 5186.0, 4593.0, 6577.0, 7548.0, 13249.0, 13099.0, 14515.0, 12888.0, 4866.0, 10670.0, 16260.0, 10856.0, 9834.0, 18199.0, 13449.0, 10329.0, 8100.0, 13526.0, 12251.0, 12603.0, 13649.0, 12688.0, 6877.0, 6292.0, 12212.0, 8931.0, 11377.0, 9640.0, 10845.0, 4271.0, 6256.0, 10546.0, 9314.0, 7046.0, 12019.0, 10964.0, 6216.0, 1053.0, 15370.0, 10983.0, 10196.0, 11530.0, 11759.0, 6201.0, 5571.0, 10500.0, 8699.0, 8708.0, 8340.0, 7428.0, 4142.0, 4122.0, 8695.0, 7114.0, 4223.0, 7688.0, 8371.0, 4275.0, 3926.0, 7979.0, 6945.0, 6012.0, 5549.0, 5641.0, 3124.0, 3375.0, 6854.0, 5683.0, 5684.0]}, {\"line\": {\"color\": \"gray\", \"width\": 2}, \"name\": \"Daily Negative\", \"type\": \"scatter\", \"visible\": false, \"x\": [0, 1, 2, 3, 4, 5, 6, 7, 8, 9, 10, 11, 12, 13, 14, 15, 16, 17, 18, 19, 20, 21, 22, 23, 24, 25, 26, 27, 28, 29, 30, 31, 32, 33, 34, 35, 36, 37, 38, 39, 40, 41, 42, 43, 44, 45, 46, 47, 48, 49, 50, 51, 52, 53, 54, 55, 56, 57, 58, 59, 60, 61, 62, 63, 64, 65, 66, 67, 68, 69, 70, 71, 72, 73, 74, 75, 76, 77, 78, 79, 80, 81, 82, 83, 84, 85, 86, 87, 88, 89, 90, 91, 92, 93, 94, 95, 96, 97, 98, 99, 100, 101], \"y\": [0.0, 0.0, 3.0, 18.0, 4.0, 0.0, 22.0, 9.0, 41.0, 58.0, 44.0, 46.0, 44.0, 38.0, 87.0, 48.0, 60.0, 171.0, 308.0, 133.0, 549.0, 869.0, 983.0, 1276.0, 1110.0, 758.0, 469.0, 499.0, 333.0, 943.0, 1050.0, 1265.0, 1778.0, 2100.0, 2404.0, 2772.0, 5155.0, 6129.0, 7742.0, 9275.0, 7130.0, 6102.0, 9755.0, 13904.0, 17481.0, 16000.0, 17659.0, 15178.0, 10206.0, 9770.0, 12401.0, 11921.0, 13302.0, 13326.0, 12887.0, 8163.0, 7519.0, 9808.0, 9783.0, 11667.0, 9932.0, 10519.0, 5337.0, 7104.0, 8658.0, 10376.0, 6851.0, 11078.0, 9473.0, 7647.0, 2472.0, 11884.0, 11189.0, 8807.0, 10421.0, 10429.0, 6693.0, 5800.0, 9098.0, 11438.0, 11018.0, 8524.0, 8626.0, 4392.0, 4494.0, 7408.0, 6712.0, 4959.0, 7748.0, 8989.0, 5574.0, 4175.0, 7230.0, 7534.0, 7986.0, 6082.0, 5972.0, 3374.0, 3469.0, 6532.0, 6570.0, 5353.0]}],\n",
       "                        {\"height\": 500, \"hovermode\": \"x unified\", \"template\": {\"data\": {\"bar\": [{\"error_x\": {\"color\": \"#2a3f5f\"}, \"error_y\": {\"color\": \"#2a3f5f\"}, \"marker\": {\"line\": {\"color\": \"#E5ECF6\", \"width\": 0.5}}, \"type\": \"bar\"}], \"barpolar\": [{\"marker\": {\"line\": {\"color\": \"#E5ECF6\", \"width\": 0.5}}, \"type\": \"barpolar\"}], \"carpet\": [{\"aaxis\": {\"endlinecolor\": \"#2a3f5f\", \"gridcolor\": \"white\", \"linecolor\": \"white\", \"minorgridcolor\": \"white\", \"startlinecolor\": \"#2a3f5f\"}, \"baxis\": {\"endlinecolor\": \"#2a3f5f\", \"gridcolor\": \"white\", \"linecolor\": \"white\", \"minorgridcolor\": \"white\", \"startlinecolor\": \"#2a3f5f\"}, \"type\": \"carpet\"}], \"choropleth\": [{\"colorbar\": {\"outlinewidth\": 0, \"ticks\": \"\"}, \"type\": \"choropleth\"}], \"contour\": [{\"colorbar\": {\"outlinewidth\": 0, \"ticks\": \"\"}, \"colorscale\": [[0.0, \"#0d0887\"], [0.1111111111111111, \"#46039f\"], [0.2222222222222222, \"#7201a8\"], [0.3333333333333333, \"#9c179e\"], [0.4444444444444444, \"#bd3786\"], [0.5555555555555556, \"#d8576b\"], [0.6666666666666666, \"#ed7953\"], [0.7777777777777778, \"#fb9f3a\"], [0.8888888888888888, \"#fdca26\"], [1.0, \"#f0f921\"]], \"type\": \"contour\"}], \"contourcarpet\": [{\"colorbar\": {\"outlinewidth\": 0, \"ticks\": \"\"}, \"type\": \"contourcarpet\"}], \"heatmap\": [{\"colorbar\": {\"outlinewidth\": 0, \"ticks\": \"\"}, \"colorscale\": [[0.0, \"#0d0887\"], [0.1111111111111111, \"#46039f\"], [0.2222222222222222, \"#7201a8\"], [0.3333333333333333, \"#9c179e\"], [0.4444444444444444, \"#bd3786\"], [0.5555555555555556, \"#d8576b\"], [0.6666666666666666, \"#ed7953\"], [0.7777777777777778, \"#fb9f3a\"], [0.8888888888888888, \"#fdca26\"], [1.0, \"#f0f921\"]], \"type\": \"heatmap\"}], \"heatmapgl\": [{\"colorbar\": {\"outlinewidth\": 0, \"ticks\": \"\"}, \"colorscale\": [[0.0, \"#0d0887\"], [0.1111111111111111, \"#46039f\"], [0.2222222222222222, \"#7201a8\"], [0.3333333333333333, \"#9c179e\"], [0.4444444444444444, \"#bd3786\"], [0.5555555555555556, \"#d8576b\"], [0.6666666666666666, \"#ed7953\"], [0.7777777777777778, \"#fb9f3a\"], [0.8888888888888888, \"#fdca26\"], [1.0, \"#f0f921\"]], \"type\": \"heatmapgl\"}], \"histogram\": [{\"marker\": {\"colorbar\": {\"outlinewidth\": 0, \"ticks\": \"\"}}, \"type\": \"histogram\"}], \"histogram2d\": [{\"colorbar\": {\"outlinewidth\": 0, \"ticks\": \"\"}, \"colorscale\": [[0.0, \"#0d0887\"], [0.1111111111111111, \"#46039f\"], [0.2222222222222222, \"#7201a8\"], [0.3333333333333333, \"#9c179e\"], [0.4444444444444444, \"#bd3786\"], [0.5555555555555556, \"#d8576b\"], [0.6666666666666666, \"#ed7953\"], [0.7777777777777778, \"#fb9f3a\"], [0.8888888888888888, \"#fdca26\"], [1.0, \"#f0f921\"]], \"type\": \"histogram2d\"}], \"histogram2dcontour\": [{\"colorbar\": {\"outlinewidth\": 0, \"ticks\": \"\"}, \"colorscale\": [[0.0, \"#0d0887\"], [0.1111111111111111, \"#46039f\"], [0.2222222222222222, \"#7201a8\"], [0.3333333333333333, \"#9c179e\"], [0.4444444444444444, \"#bd3786\"], [0.5555555555555556, \"#d8576b\"], [0.6666666666666666, \"#ed7953\"], [0.7777777777777778, \"#fb9f3a\"], [0.8888888888888888, \"#fdca26\"], [1.0, \"#f0f921\"]], \"type\": \"histogram2dcontour\"}], \"mesh3d\": [{\"colorbar\": {\"outlinewidth\": 0, \"ticks\": \"\"}, \"type\": \"mesh3d\"}], \"parcoords\": [{\"line\": {\"colorbar\": {\"outlinewidth\": 0, \"ticks\": \"\"}}, \"type\": \"parcoords\"}], \"pie\": [{\"automargin\": true, \"type\": \"pie\"}], \"scatter\": [{\"marker\": {\"colorbar\": {\"outlinewidth\": 0, \"ticks\": \"\"}}, \"type\": \"scatter\"}], \"scatter3d\": [{\"line\": {\"colorbar\": {\"outlinewidth\": 0, \"ticks\": \"\"}}, \"marker\": {\"colorbar\": {\"outlinewidth\": 0, \"ticks\": \"\"}}, \"type\": \"scatter3d\"}], \"scattercarpet\": [{\"marker\": {\"colorbar\": {\"outlinewidth\": 0, \"ticks\": \"\"}}, \"type\": \"scattercarpet\"}], \"scattergeo\": [{\"marker\": {\"colorbar\": {\"outlinewidth\": 0, \"ticks\": \"\"}}, \"type\": \"scattergeo\"}], \"scattergl\": [{\"marker\": {\"colorbar\": {\"outlinewidth\": 0, \"ticks\": \"\"}}, \"type\": \"scattergl\"}], \"scattermapbox\": [{\"marker\": {\"colorbar\": {\"outlinewidth\": 0, \"ticks\": \"\"}}, \"type\": \"scattermapbox\"}], \"scatterpolar\": [{\"marker\": {\"colorbar\": {\"outlinewidth\": 0, \"ticks\": \"\"}}, \"type\": \"scatterpolar\"}], \"scatterpolargl\": [{\"marker\": {\"colorbar\": {\"outlinewidth\": 0, \"ticks\": \"\"}}, \"type\": \"scatterpolargl\"}], \"scatterternary\": [{\"marker\": {\"colorbar\": {\"outlinewidth\": 0, \"ticks\": \"\"}}, \"type\": \"scatterternary\"}], \"surface\": [{\"colorbar\": {\"outlinewidth\": 0, \"ticks\": \"\"}, \"colorscale\": [[0.0, \"#0d0887\"], [0.1111111111111111, \"#46039f\"], [0.2222222222222222, \"#7201a8\"], [0.3333333333333333, \"#9c179e\"], [0.4444444444444444, \"#bd3786\"], [0.5555555555555556, \"#d8576b\"], [0.6666666666666666, \"#ed7953\"], [0.7777777777777778, \"#fb9f3a\"], [0.8888888888888888, \"#fdca26\"], [1.0, \"#f0f921\"]], \"type\": \"surface\"}], \"table\": [{\"cells\": {\"fill\": {\"color\": \"#EBF0F8\"}, \"line\": {\"color\": \"white\"}}, \"header\": {\"fill\": {\"color\": \"#C8D4E3\"}, \"line\": {\"color\": \"white\"}}, \"type\": \"table\"}]}, \"layout\": {\"annotationdefaults\": {\"arrowcolor\": \"#2a3f5f\", \"arrowhead\": 0, \"arrowwidth\": 1}, \"coloraxis\": {\"colorbar\": {\"outlinewidth\": 0, \"ticks\": \"\"}}, \"colorscale\": {\"diverging\": [[0, \"#8e0152\"], [0.1, \"#c51b7d\"], [0.2, \"#de77ae\"], [0.3, \"#f1b6da\"], [0.4, \"#fde0ef\"], [0.5, \"#f7f7f7\"], [0.6, \"#e6f5d0\"], [0.7, \"#b8e186\"], [0.8, \"#7fbc41\"], [0.9, \"#4d9221\"], [1, \"#276419\"]], \"sequential\": [[0.0, \"#0d0887\"], [0.1111111111111111, \"#46039f\"], [0.2222222222222222, \"#7201a8\"], [0.3333333333333333, \"#9c179e\"], [0.4444444444444444, \"#bd3786\"], [0.5555555555555556, \"#d8576b\"], [0.6666666666666666, \"#ed7953\"], [0.7777777777777778, \"#fb9f3a\"], [0.8888888888888888, \"#fdca26\"], [1.0, \"#f0f921\"]], \"sequentialminus\": [[0.0, \"#0d0887\"], [0.1111111111111111, \"#46039f\"], [0.2222222222222222, \"#7201a8\"], [0.3333333333333333, \"#9c179e\"], [0.4444444444444444, \"#bd3786\"], [0.5555555555555556, \"#d8576b\"], [0.6666666666666666, \"#ed7953\"], [0.7777777777777778, \"#fb9f3a\"], [0.8888888888888888, \"#fdca26\"], [1.0, \"#f0f921\"]]}, \"colorway\": [\"#636efa\", \"#EF553B\", \"#00cc96\", \"#ab63fa\", \"#FFA15A\", \"#19d3f3\", \"#FF6692\", \"#B6E880\", \"#FF97FF\", \"#FECB52\"], \"font\": {\"color\": \"#2a3f5f\"}, \"geo\": {\"bgcolor\": \"white\", \"lakecolor\": \"white\", \"landcolor\": \"#E5ECF6\", \"showlakes\": true, \"showland\": true, \"subunitcolor\": \"white\"}, \"hoverlabel\": {\"align\": \"left\"}, \"hovermode\": \"closest\", \"mapbox\": {\"style\": \"light\"}, \"paper_bgcolor\": \"white\", \"plot_bgcolor\": \"#E5ECF6\", \"polar\": {\"angularaxis\": {\"gridcolor\": \"white\", \"linecolor\": \"white\", \"ticks\": \"\"}, \"bgcolor\": \"#E5ECF6\", \"radialaxis\": {\"gridcolor\": \"white\", \"linecolor\": \"white\", \"ticks\": \"\"}}, \"scene\": {\"xaxis\": {\"backgroundcolor\": \"#E5ECF6\", \"gridcolor\": \"white\", \"gridwidth\": 2, \"linecolor\": \"white\", \"showbackground\": true, \"ticks\": \"\", \"zerolinecolor\": \"white\"}, \"yaxis\": {\"backgroundcolor\": \"#E5ECF6\", \"gridcolor\": \"white\", \"gridwidth\": 2, \"linecolor\": \"white\", \"showbackground\": true, \"ticks\": \"\", \"zerolinecolor\": \"white\"}, \"zaxis\": {\"backgroundcolor\": \"#E5ECF6\", \"gridcolor\": \"white\", \"gridwidth\": 2, \"linecolor\": \"white\", \"showbackground\": true, \"ticks\": \"\", \"zerolinecolor\": \"white\"}}, \"shapedefaults\": {\"line\": {\"color\": \"#2a3f5f\"}}, \"ternary\": {\"aaxis\": {\"gridcolor\": \"white\", \"linecolor\": \"white\", \"ticks\": \"\"}, \"baxis\": {\"gridcolor\": \"white\", \"linecolor\": \"white\", \"ticks\": \"\"}, \"bgcolor\": \"#E5ECF6\", \"caxis\": {\"gridcolor\": \"white\", \"linecolor\": \"white\", \"ticks\": \"\"}}, \"title\": {\"x\": 0.05}, \"xaxis\": {\"automargin\": true, \"gridcolor\": \"white\", \"linecolor\": \"white\", \"ticks\": \"\", \"title\": {\"standoff\": 15}, \"zerolinecolor\": \"white\", \"zerolinewidth\": 2}, \"yaxis\": {\"automargin\": true, \"gridcolor\": \"white\", \"linecolor\": \"white\", \"ticks\": \"\", \"title\": {\"standoff\": 15}, \"zerolinecolor\": \"white\", \"zerolinewidth\": 2}}}, \"title\": {\"text\": \"Tested population\"}, \"updatemenus\": [{\"active\": 0, \"buttons\": [{\"args\": [{\"visible\": [true, true, true, false, false]}, {\"showlegend\": true, \"title\": \"Cumulative tested population\"}], \"label\": \"Accum.\", \"method\": \"update\"}, {\"args\": [{\"visible\": [false, false, false, true, true]}, {\"showlegend\": true, \"title\": \"Daily tested population\"}], \"label\": \"Daily\", \"method\": \"update\"}]}], \"width\": 900, \"xaxis\": {\"title\": {\"text\": \"Number of days since first test (2020-01-20)\"}}, \"yaxis\": {\"title\": {\"text\": \"Number of people\"}}},\n",
       "                        {\"responsive\": true}\n",
       "                    ).then(function(){\n",
       "                            \n",
       "var gd = document.getElementById('b246abb9-b413-4d3b-94a6-b1834868e411');\n",
       "var x = new MutationObserver(function (mutations, observer) {{\n",
       "        var display = window.getComputedStyle(gd).display;\n",
       "        if (!display || display === 'none') {{\n",
       "            console.log([gd, 'removed!']);\n",
       "            Plotly.purge(gd);\n",
       "            observer.disconnect();\n",
       "        }}\n",
       "}});\n",
       "\n",
       "// Listen for the removal of the full notebook cells\n",
       "var notebookContainer = gd.closest('#notebook-container');\n",
       "if (notebookContainer) {{\n",
       "    x.observe(notebookContainer, {childList: true});\n",
       "}}\n",
       "\n",
       "// Listen for the clearing of the current output cell\n",
       "var outputEl = gd.closest('.output');\n",
       "if (outputEl) {{\n",
       "    x.observe(outputEl, {childList: true});\n",
       "}}\n",
       "\n",
       "                        })\n",
       "                };\n",
       "                });\n",
       "            </script>\n",
       "        </div>"
      ]
     },
     "metadata": {},
     "output_type": "display_data"
    }
   ],
   "source": [
    "import plotly.graph_objects as go\n",
    "layout = go.Layout(\n",
    "    title_text = \"Tested population\",\n",
    "    yaxis_title=\"Number of people\",\n",
    "    xaxis_title='Number of days since first test ({:})'.format(timedf.date.min().date()),\n",
    "    width=900, \n",
    "    height=500, hovermode='x unified'\n",
    ")\n",
    "\n",
    "fig = go.Figure(layout=layout)\n",
    "\n",
    "\n",
    "\n",
    "fig.add_trace(go.Scatter(x = timedf.days_since0, y = timedf.test, name = \"Accum. Tested\",\n",
    "                         line=dict(color='black', width=2)))\n",
    "fig.add_trace(go.Scatter(x = timedf.days_since0, y = timedf.negative, name = \"Accum. Negative\",\n",
    "                        line=dict(color='gray', width=2)))  \n",
    "fig.add_trace(go.Scatter(x = timedf.days_since0, y = timedf.confirmed, name = \"Accum. Positive\",\n",
    "                        line=dict(color='orange', width=2))) \n",
    "fig.add_trace(go.Scatter(x = timedf.days_since0, y = timedf.test_on_day, name = \"Daily Tested\", visible = False,\n",
    "                        line=dict(color='black', width=2)))\n",
    "fig.add_trace(go.Scatter(x = timedf.days_since0, y = timedf.neg_on_day, name = \"Daily Negative\", visible = False,\n",
    "                        line=dict(color='gray', width=2)))\n",
    "    \n",
    "fig.update_layout(\n",
    "    updatemenus=[go.layout.Updatemenu(\n",
    "        active=0,\n",
    "        buttons=list(\n",
    "            [dict(label = 'Accum.',\n",
    "                  method = 'update',\n",
    "                  args = [{'visible': [True, True, True, False, False]},\n",
    "                          {'title': 'Cumulative tested population',\n",
    "                           'showlegend':True}]),\n",
    "             dict(label = 'Daily',\n",
    "                  method = 'update',\n",
    "                  args = [{'visible': [False, False, False, True, True]},\n",
    "                          {'title': 'Daily tested population',\n",
    "                           'showlegend':True}]),\n",
    "            ])\n",
    "        )\n",
    "    ])\n",
    "\n",
    "fig.show()"
   ]
  },
  {
   "cell_type": "markdown",
   "metadata": {},
   "source": [
    "Okay, let's talk about what can be seen by the plot above:\n",
    "* Right before day 40, it seems as if the government started to do some mass testing on the population. Can you see how the numbers for daily tested show a jump?!\n",
    "* Also, as expected, most people test negative, which is great news.\n",
    "\n",
    "But what about those who tested positive? Let's look at those in more detail:"
   ]
  },
  {
   "cell_type": "code",
   "execution_count": 23,
   "metadata": {},
   "outputs": [
    {
     "data": {
      "application/vnd.plotly.v1+json": {
       "config": {
        "plotlyServerURL": "https://plot.ly"
       },
       "data": [
        {
         "line": {
          "color": "orange",
          "width": 2
         },
         "name": "Positive",
         "type": "scatter",
         "x": [
          0,
          1,
          2,
          3,
          4,
          5,
          6,
          7,
          8,
          9,
          10,
          11,
          12,
          13,
          14,
          15,
          16,
          17,
          18,
          19,
          20,
          21,
          22,
          23,
          24,
          25,
          26,
          27,
          28,
          29,
          30,
          31,
          32,
          33,
          34,
          35,
          36,
          37,
          38,
          39,
          40,
          41,
          42,
          43,
          44,
          45,
          46,
          47,
          48,
          49,
          50,
          51,
          52,
          53,
          54,
          55,
          56,
          57,
          58,
          59,
          60,
          61,
          62,
          63,
          64,
          65,
          66,
          67,
          68,
          69,
          70,
          71,
          72,
          73,
          74,
          75,
          76,
          77,
          78,
          79,
          80,
          81,
          82,
          83,
          84,
          85,
          86,
          87,
          88,
          89,
          90,
          91,
          92,
          93,
          94,
          95,
          96,
          97,
          98,
          99,
          100,
          101
         ],
         "y": [
          1,
          1,
          1,
          1,
          2,
          2,
          3,
          4,
          4,
          4,
          6,
          11,
          12,
          15,
          15,
          16,
          18,
          23,
          24,
          24,
          27,
          27,
          28,
          28,
          28,
          28,
          28,
          29,
          30,
          31,
          51,
          104,
          204,
          433,
          602,
          833,
          977,
          1261,
          1766,
          2337,
          3150,
          3736,
          4212,
          4812,
          5328,
          5766,
          6284,
          6767,
          7134,
          7382,
          7513,
          7755,
          7869,
          7979,
          8086,
          8126,
          8236,
          8320,
          8413,
          8565,
          8652,
          8799,
          8897,
          8961,
          9037,
          9137,
          9241,
          9332,
          9478,
          9583,
          9661,
          9786,
          9887,
          9976,
          10062,
          10156,
          10237,
          10284,
          10331,
          10384,
          10423,
          10450,
          10480,
          10512,
          10537,
          10564,
          10591,
          10613,
          10635,
          10653,
          10661,
          10674,
          10683,
          10694,
          10702,
          10708,
          10718,
          10728,
          10738,
          10752,
          10761,
          10765
         ]
        },
        {
         "line": {
          "color": "green",
          "width": 2
         },
         "name": "Released",
         "type": "scatter",
         "x": [
          0,
          1,
          2,
          3,
          4,
          5,
          6,
          7,
          8,
          9,
          10,
          11,
          12,
          13,
          14,
          15,
          16,
          17,
          18,
          19,
          20,
          21,
          22,
          23,
          24,
          25,
          26,
          27,
          28,
          29,
          30,
          31,
          32,
          33,
          34,
          35,
          36,
          37,
          38,
          39,
          40,
          41,
          42,
          43,
          44,
          45,
          46,
          47,
          48,
          49,
          50,
          51,
          52,
          53,
          54,
          55,
          56,
          57,
          58,
          59,
          60,
          61,
          62,
          63,
          64,
          65,
          66,
          67,
          68,
          69,
          70,
          71,
          72,
          73,
          74,
          75,
          76,
          77,
          78,
          79,
          80,
          81,
          82,
          83,
          84,
          85,
          86,
          87,
          88,
          89,
          90,
          91,
          92,
          93,
          94,
          95,
          96,
          97,
          98,
          99,
          100,
          101
         ],
         "y": [
          0,
          0,
          0,
          0,
          0,
          0,
          0,
          0,
          0,
          0,
          0,
          0,
          0,
          0,
          0,
          0,
          1,
          2,
          2,
          2,
          3,
          4,
          4,
          7,
          7,
          7,
          9,
          9,
          10,
          12,
          16,
          16,
          17,
          18,
          18,
          24,
          24,
          24,
          26,
          27,
          28,
          30,
          31,
          34,
          41,
          88,
          108,
          118,
          130,
          166,
          247,
          288,
          333,
          510,
          714,
          834,
          1137,
          1401,
          1540,
          1947,
          2233,
          2612,
          2909,
          3166,
          3507,
          3730,
          4144,
          4528,
          4811,
          5033,
          5228,
          5408,
          5567,
          5828,
          6021,
          6325,
          6463,
          6598,
          6694,
          6776,
          6973,
          7117,
          7243,
          7368,
          7447,
          7534,
          7616,
          7757,
          7829,
          7937,
          8042,
          8114,
          8213,
          8277,
          8411,
          8501,
          8635,
          8717,
          8764,
          8854,
          8922,
          9059
         ]
        },
        {
         "line": {
          "color": "red",
          "width": 2
         },
         "name": "Deceased",
         "type": "scatter",
         "x": [
          0,
          1,
          2,
          3,
          4,
          5,
          6,
          7,
          8,
          9,
          10,
          11,
          12,
          13,
          14,
          15,
          16,
          17,
          18,
          19,
          20,
          21,
          22,
          23,
          24,
          25,
          26,
          27,
          28,
          29,
          30,
          31,
          32,
          33,
          34,
          35,
          36,
          37,
          38,
          39,
          40,
          41,
          42,
          43,
          44,
          45,
          46,
          47,
          48,
          49,
          50,
          51,
          52,
          53,
          54,
          55,
          56,
          57,
          58,
          59,
          60,
          61,
          62,
          63,
          64,
          65,
          66,
          67,
          68,
          69,
          70,
          71,
          72,
          73,
          74,
          75,
          76,
          77,
          78,
          79,
          80,
          81,
          82,
          83,
          84,
          85,
          86,
          87,
          88,
          89,
          90,
          91,
          92,
          93,
          94,
          95,
          96,
          97,
          98,
          99,
          100,
          101
         ],
         "y": [
          0,
          0,
          0,
          0,
          0,
          0,
          0,
          0,
          0,
          0,
          0,
          0,
          0,
          0,
          0,
          0,
          0,
          0,
          0,
          0,
          0,
          0,
          0,
          0,
          0,
          0,
          0,
          0,
          0,
          0,
          0,
          1,
          2,
          2,
          6,
          8,
          12,
          12,
          13,
          13,
          17,
          18,
          22,
          28,
          32,
          35,
          42,
          44,
          50,
          51,
          54,
          60,
          66,
          67,
          72,
          75,
          75,
          81,
          84,
          91,
          94,
          102,
          104,
          111,
          120,
          126,
          131,
          139,
          144,
          152,
          158,
          162,
          165,
          169,
          174,
          177,
          183,
          186,
          192,
          200,
          204,
          208,
          211,
          214,
          217,
          222,
          225,
          229,
          230,
          232,
          234,
          236,
          237,
          238,
          240,
          240,
          240,
          242,
          243,
          244,
          246,
          247
         ]
        },
        {
         "line": {
          "color": "orange",
          "width": 2
         },
         "name": "Positive",
         "type": "scatter",
         "visible": false,
         "x": [
          0,
          1,
          2,
          3,
          4,
          5,
          6,
          7,
          8,
          9,
          10,
          11,
          12,
          13,
          14,
          15,
          16,
          17,
          18,
          19,
          20,
          21,
          22,
          23,
          24,
          25,
          26,
          27,
          28,
          29,
          30,
          31,
          32,
          33,
          34,
          35,
          36,
          37,
          38,
          39,
          40,
          41,
          42,
          43,
          44,
          45,
          46,
          47,
          48,
          49,
          50,
          51,
          52,
          53,
          54,
          55,
          56,
          57,
          58,
          59,
          60,
          61,
          62,
          63,
          64,
          65,
          66,
          67,
          68,
          69,
          70,
          71,
          72,
          73,
          74,
          75,
          76,
          77,
          78,
          79,
          80,
          81,
          82,
          83,
          84,
          85,
          86,
          87,
          88,
          89,
          90,
          91,
          92,
          93,
          94,
          95,
          96,
          97,
          98,
          99,
          100,
          101
         ],
         "y": [
          1,
          0,
          0,
          0,
          1,
          0,
          1,
          1,
          0,
          0,
          2,
          5,
          1,
          3,
          0,
          1,
          2,
          5,
          1,
          0,
          3,
          0,
          1,
          0,
          0,
          0,
          0,
          1,
          1,
          1,
          20,
          53,
          100,
          229,
          169,
          231,
          144,
          284,
          505,
          571,
          813,
          586,
          476,
          600,
          516,
          438,
          518,
          483,
          367,
          248,
          131,
          242,
          114,
          110,
          107,
          40,
          110,
          84,
          93,
          152,
          87,
          147,
          98,
          64,
          76,
          100,
          104,
          91,
          146,
          105,
          78,
          125,
          101,
          89,
          86,
          94,
          81,
          47,
          47,
          53,
          39,
          27,
          30,
          32,
          25,
          27,
          27,
          22,
          22,
          18,
          8,
          13,
          9,
          11,
          8,
          6,
          10,
          10,
          10,
          14,
          9,
          4
         ]
        },
        {
         "line": {
          "color": "green",
          "width": 2
         },
         "name": "Released",
         "type": "scatter",
         "visible": false,
         "x": [
          0,
          1,
          2,
          3,
          4,
          5,
          6,
          7,
          8,
          9,
          10,
          11,
          12,
          13,
          14,
          15,
          16,
          17,
          18,
          19,
          20,
          21,
          22,
          23,
          24,
          25,
          26,
          27,
          28,
          29,
          30,
          31,
          32,
          33,
          34,
          35,
          36,
          37,
          38,
          39,
          40,
          41,
          42,
          43,
          44,
          45,
          46,
          47,
          48,
          49,
          50,
          51,
          52,
          53,
          54,
          55,
          56,
          57,
          58,
          59,
          60,
          61,
          62,
          63,
          64,
          65,
          66,
          67,
          68,
          69,
          70,
          71,
          72,
          73,
          74,
          75,
          76,
          77,
          78,
          79,
          80,
          81,
          82,
          83,
          84,
          85,
          86,
          87,
          88,
          89,
          90,
          91,
          92,
          93,
          94,
          95,
          96,
          97,
          98,
          99,
          100,
          101
         ],
         "y": [
          0,
          0,
          0,
          0,
          0,
          0,
          0,
          0,
          0,
          0,
          0,
          0,
          0,
          0,
          0,
          0,
          1,
          1,
          0,
          0,
          1,
          1,
          0,
          3,
          0,
          0,
          2,
          0,
          1,
          2,
          4,
          0,
          1,
          1,
          0,
          6,
          0,
          0,
          2,
          1,
          1,
          2,
          1,
          3,
          7,
          47,
          20,
          10,
          12,
          36,
          81,
          41,
          45,
          177,
          204,
          120,
          303,
          264,
          139,
          407,
          286,
          379,
          297,
          257,
          341,
          223,
          414,
          384,
          283,
          222,
          195,
          180,
          159,
          261,
          193,
          304,
          138,
          135,
          96,
          82,
          197,
          144,
          126,
          125,
          79,
          87,
          82,
          141,
          72,
          108,
          105,
          72,
          99,
          64,
          134,
          90,
          134,
          82,
          47,
          90,
          68,
          137
         ]
        },
        {
         "line": {
          "color": "red",
          "width": 2
         },
         "name": "Deceased",
         "type": "scatter",
         "visible": false,
         "x": [
          0,
          1,
          2,
          3,
          4,
          5,
          6,
          7,
          8,
          9,
          10,
          11,
          12,
          13,
          14,
          15,
          16,
          17,
          18,
          19,
          20,
          21,
          22,
          23,
          24,
          25,
          26,
          27,
          28,
          29,
          30,
          31,
          32,
          33,
          34,
          35,
          36,
          37,
          38,
          39,
          40,
          41,
          42,
          43,
          44,
          45,
          46,
          47,
          48,
          49,
          50,
          51,
          52,
          53,
          54,
          55,
          56,
          57,
          58,
          59,
          60,
          61,
          62,
          63,
          64,
          65,
          66,
          67,
          68,
          69,
          70,
          71,
          72,
          73,
          74,
          75,
          76,
          77,
          78,
          79,
          80,
          81,
          82,
          83,
          84,
          85,
          86,
          87,
          88,
          89,
          90,
          91,
          92,
          93,
          94,
          95,
          96,
          97,
          98,
          99,
          100,
          101
         ],
         "y": [
          0,
          0,
          0,
          0,
          0,
          0,
          0,
          0,
          0,
          0,
          0,
          0,
          0,
          0,
          0,
          0,
          0,
          0,
          0,
          0,
          0,
          0,
          0,
          0,
          0,
          0,
          0,
          0,
          0,
          0,
          0,
          1,
          1,
          0,
          4,
          2,
          4,
          0,
          1,
          0,
          4,
          1,
          4,
          6,
          4,
          3,
          7,
          2,
          6,
          1,
          3,
          6,
          6,
          1,
          5,
          3,
          0,
          6,
          3,
          7,
          3,
          8,
          2,
          7,
          9,
          6,
          5,
          8,
          5,
          8,
          6,
          4,
          3,
          4,
          5,
          3,
          6,
          3,
          6,
          8,
          4,
          4,
          3,
          3,
          3,
          5,
          3,
          4,
          1,
          2,
          2,
          2,
          1,
          1,
          2,
          0,
          0,
          2,
          1,
          1,
          2,
          1
         ]
        }
       ],
       "layout": {
        "height": 500,
        "hovermode": "x unified",
        "template": {
         "data": {
          "bar": [
           {
            "error_x": {
             "color": "#2a3f5f"
            },
            "error_y": {
             "color": "#2a3f5f"
            },
            "marker": {
             "line": {
              "color": "#E5ECF6",
              "width": 0.5
             }
            },
            "type": "bar"
           }
          ],
          "barpolar": [
           {
            "marker": {
             "line": {
              "color": "#E5ECF6",
              "width": 0.5
             }
            },
            "type": "barpolar"
           }
          ],
          "carpet": [
           {
            "aaxis": {
             "endlinecolor": "#2a3f5f",
             "gridcolor": "white",
             "linecolor": "white",
             "minorgridcolor": "white",
             "startlinecolor": "#2a3f5f"
            },
            "baxis": {
             "endlinecolor": "#2a3f5f",
             "gridcolor": "white",
             "linecolor": "white",
             "minorgridcolor": "white",
             "startlinecolor": "#2a3f5f"
            },
            "type": "carpet"
           }
          ],
          "choropleth": [
           {
            "colorbar": {
             "outlinewidth": 0,
             "ticks": ""
            },
            "type": "choropleth"
           }
          ],
          "contour": [
           {
            "colorbar": {
             "outlinewidth": 0,
             "ticks": ""
            },
            "colorscale": [
             [
              0,
              "#0d0887"
             ],
             [
              0.1111111111111111,
              "#46039f"
             ],
             [
              0.2222222222222222,
              "#7201a8"
             ],
             [
              0.3333333333333333,
              "#9c179e"
             ],
             [
              0.4444444444444444,
              "#bd3786"
             ],
             [
              0.5555555555555556,
              "#d8576b"
             ],
             [
              0.6666666666666666,
              "#ed7953"
             ],
             [
              0.7777777777777778,
              "#fb9f3a"
             ],
             [
              0.8888888888888888,
              "#fdca26"
             ],
             [
              1,
              "#f0f921"
             ]
            ],
            "type": "contour"
           }
          ],
          "contourcarpet": [
           {
            "colorbar": {
             "outlinewidth": 0,
             "ticks": ""
            },
            "type": "contourcarpet"
           }
          ],
          "heatmap": [
           {
            "colorbar": {
             "outlinewidth": 0,
             "ticks": ""
            },
            "colorscale": [
             [
              0,
              "#0d0887"
             ],
             [
              0.1111111111111111,
              "#46039f"
             ],
             [
              0.2222222222222222,
              "#7201a8"
             ],
             [
              0.3333333333333333,
              "#9c179e"
             ],
             [
              0.4444444444444444,
              "#bd3786"
             ],
             [
              0.5555555555555556,
              "#d8576b"
             ],
             [
              0.6666666666666666,
              "#ed7953"
             ],
             [
              0.7777777777777778,
              "#fb9f3a"
             ],
             [
              0.8888888888888888,
              "#fdca26"
             ],
             [
              1,
              "#f0f921"
             ]
            ],
            "type": "heatmap"
           }
          ],
          "heatmapgl": [
           {
            "colorbar": {
             "outlinewidth": 0,
             "ticks": ""
            },
            "colorscale": [
             [
              0,
              "#0d0887"
             ],
             [
              0.1111111111111111,
              "#46039f"
             ],
             [
              0.2222222222222222,
              "#7201a8"
             ],
             [
              0.3333333333333333,
              "#9c179e"
             ],
             [
              0.4444444444444444,
              "#bd3786"
             ],
             [
              0.5555555555555556,
              "#d8576b"
             ],
             [
              0.6666666666666666,
              "#ed7953"
             ],
             [
              0.7777777777777778,
              "#fb9f3a"
             ],
             [
              0.8888888888888888,
              "#fdca26"
             ],
             [
              1,
              "#f0f921"
             ]
            ],
            "type": "heatmapgl"
           }
          ],
          "histogram": [
           {
            "marker": {
             "colorbar": {
              "outlinewidth": 0,
              "ticks": ""
             }
            },
            "type": "histogram"
           }
          ],
          "histogram2d": [
           {
            "colorbar": {
             "outlinewidth": 0,
             "ticks": ""
            },
            "colorscale": [
             [
              0,
              "#0d0887"
             ],
             [
              0.1111111111111111,
              "#46039f"
             ],
             [
              0.2222222222222222,
              "#7201a8"
             ],
             [
              0.3333333333333333,
              "#9c179e"
             ],
             [
              0.4444444444444444,
              "#bd3786"
             ],
             [
              0.5555555555555556,
              "#d8576b"
             ],
             [
              0.6666666666666666,
              "#ed7953"
             ],
             [
              0.7777777777777778,
              "#fb9f3a"
             ],
             [
              0.8888888888888888,
              "#fdca26"
             ],
             [
              1,
              "#f0f921"
             ]
            ],
            "type": "histogram2d"
           }
          ],
          "histogram2dcontour": [
           {
            "colorbar": {
             "outlinewidth": 0,
             "ticks": ""
            },
            "colorscale": [
             [
              0,
              "#0d0887"
             ],
             [
              0.1111111111111111,
              "#46039f"
             ],
             [
              0.2222222222222222,
              "#7201a8"
             ],
             [
              0.3333333333333333,
              "#9c179e"
             ],
             [
              0.4444444444444444,
              "#bd3786"
             ],
             [
              0.5555555555555556,
              "#d8576b"
             ],
             [
              0.6666666666666666,
              "#ed7953"
             ],
             [
              0.7777777777777778,
              "#fb9f3a"
             ],
             [
              0.8888888888888888,
              "#fdca26"
             ],
             [
              1,
              "#f0f921"
             ]
            ],
            "type": "histogram2dcontour"
           }
          ],
          "mesh3d": [
           {
            "colorbar": {
             "outlinewidth": 0,
             "ticks": ""
            },
            "type": "mesh3d"
           }
          ],
          "parcoords": [
           {
            "line": {
             "colorbar": {
              "outlinewidth": 0,
              "ticks": ""
             }
            },
            "type": "parcoords"
           }
          ],
          "pie": [
           {
            "automargin": true,
            "type": "pie"
           }
          ],
          "scatter": [
           {
            "marker": {
             "colorbar": {
              "outlinewidth": 0,
              "ticks": ""
             }
            },
            "type": "scatter"
           }
          ],
          "scatter3d": [
           {
            "line": {
             "colorbar": {
              "outlinewidth": 0,
              "ticks": ""
             }
            },
            "marker": {
             "colorbar": {
              "outlinewidth": 0,
              "ticks": ""
             }
            },
            "type": "scatter3d"
           }
          ],
          "scattercarpet": [
           {
            "marker": {
             "colorbar": {
              "outlinewidth": 0,
              "ticks": ""
             }
            },
            "type": "scattercarpet"
           }
          ],
          "scattergeo": [
           {
            "marker": {
             "colorbar": {
              "outlinewidth": 0,
              "ticks": ""
             }
            },
            "type": "scattergeo"
           }
          ],
          "scattergl": [
           {
            "marker": {
             "colorbar": {
              "outlinewidth": 0,
              "ticks": ""
             }
            },
            "type": "scattergl"
           }
          ],
          "scattermapbox": [
           {
            "marker": {
             "colorbar": {
              "outlinewidth": 0,
              "ticks": ""
             }
            },
            "type": "scattermapbox"
           }
          ],
          "scatterpolar": [
           {
            "marker": {
             "colorbar": {
              "outlinewidth": 0,
              "ticks": ""
             }
            },
            "type": "scatterpolar"
           }
          ],
          "scatterpolargl": [
           {
            "marker": {
             "colorbar": {
              "outlinewidth": 0,
              "ticks": ""
             }
            },
            "type": "scatterpolargl"
           }
          ],
          "scatterternary": [
           {
            "marker": {
             "colorbar": {
              "outlinewidth": 0,
              "ticks": ""
             }
            },
            "type": "scatterternary"
           }
          ],
          "surface": [
           {
            "colorbar": {
             "outlinewidth": 0,
             "ticks": ""
            },
            "colorscale": [
             [
              0,
              "#0d0887"
             ],
             [
              0.1111111111111111,
              "#46039f"
             ],
             [
              0.2222222222222222,
              "#7201a8"
             ],
             [
              0.3333333333333333,
              "#9c179e"
             ],
             [
              0.4444444444444444,
              "#bd3786"
             ],
             [
              0.5555555555555556,
              "#d8576b"
             ],
             [
              0.6666666666666666,
              "#ed7953"
             ],
             [
              0.7777777777777778,
              "#fb9f3a"
             ],
             [
              0.8888888888888888,
              "#fdca26"
             ],
             [
              1,
              "#f0f921"
             ]
            ],
            "type": "surface"
           }
          ],
          "table": [
           {
            "cells": {
             "fill": {
              "color": "#EBF0F8"
             },
             "line": {
              "color": "white"
             }
            },
            "header": {
             "fill": {
              "color": "#C8D4E3"
             },
             "line": {
              "color": "white"
             }
            },
            "type": "table"
           }
          ]
         },
         "layout": {
          "annotationdefaults": {
           "arrowcolor": "#2a3f5f",
           "arrowhead": 0,
           "arrowwidth": 1
          },
          "coloraxis": {
           "colorbar": {
            "outlinewidth": 0,
            "ticks": ""
           }
          },
          "colorscale": {
           "diverging": [
            [
             0,
             "#8e0152"
            ],
            [
             0.1,
             "#c51b7d"
            ],
            [
             0.2,
             "#de77ae"
            ],
            [
             0.3,
             "#f1b6da"
            ],
            [
             0.4,
             "#fde0ef"
            ],
            [
             0.5,
             "#f7f7f7"
            ],
            [
             0.6,
             "#e6f5d0"
            ],
            [
             0.7,
             "#b8e186"
            ],
            [
             0.8,
             "#7fbc41"
            ],
            [
             0.9,
             "#4d9221"
            ],
            [
             1,
             "#276419"
            ]
           ],
           "sequential": [
            [
             0,
             "#0d0887"
            ],
            [
             0.1111111111111111,
             "#46039f"
            ],
            [
             0.2222222222222222,
             "#7201a8"
            ],
            [
             0.3333333333333333,
             "#9c179e"
            ],
            [
             0.4444444444444444,
             "#bd3786"
            ],
            [
             0.5555555555555556,
             "#d8576b"
            ],
            [
             0.6666666666666666,
             "#ed7953"
            ],
            [
             0.7777777777777778,
             "#fb9f3a"
            ],
            [
             0.8888888888888888,
             "#fdca26"
            ],
            [
             1,
             "#f0f921"
            ]
           ],
           "sequentialminus": [
            [
             0,
             "#0d0887"
            ],
            [
             0.1111111111111111,
             "#46039f"
            ],
            [
             0.2222222222222222,
             "#7201a8"
            ],
            [
             0.3333333333333333,
             "#9c179e"
            ],
            [
             0.4444444444444444,
             "#bd3786"
            ],
            [
             0.5555555555555556,
             "#d8576b"
            ],
            [
             0.6666666666666666,
             "#ed7953"
            ],
            [
             0.7777777777777778,
             "#fb9f3a"
            ],
            [
             0.8888888888888888,
             "#fdca26"
            ],
            [
             1,
             "#f0f921"
            ]
           ]
          },
          "colorway": [
           "#636efa",
           "#EF553B",
           "#00cc96",
           "#ab63fa",
           "#FFA15A",
           "#19d3f3",
           "#FF6692",
           "#B6E880",
           "#FF97FF",
           "#FECB52"
          ],
          "font": {
           "color": "#2a3f5f"
          },
          "geo": {
           "bgcolor": "white",
           "lakecolor": "white",
           "landcolor": "#E5ECF6",
           "showlakes": true,
           "showland": true,
           "subunitcolor": "white"
          },
          "hoverlabel": {
           "align": "left"
          },
          "hovermode": "closest",
          "mapbox": {
           "style": "light"
          },
          "paper_bgcolor": "white",
          "plot_bgcolor": "#E5ECF6",
          "polar": {
           "angularaxis": {
            "gridcolor": "white",
            "linecolor": "white",
            "ticks": ""
           },
           "bgcolor": "#E5ECF6",
           "radialaxis": {
            "gridcolor": "white",
            "linecolor": "white",
            "ticks": ""
           }
          },
          "scene": {
           "xaxis": {
            "backgroundcolor": "#E5ECF6",
            "gridcolor": "white",
            "gridwidth": 2,
            "linecolor": "white",
            "showbackground": true,
            "ticks": "",
            "zerolinecolor": "white"
           },
           "yaxis": {
            "backgroundcolor": "#E5ECF6",
            "gridcolor": "white",
            "gridwidth": 2,
            "linecolor": "white",
            "showbackground": true,
            "ticks": "",
            "zerolinecolor": "white"
           },
           "zaxis": {
            "backgroundcolor": "#E5ECF6",
            "gridcolor": "white",
            "gridwidth": 2,
            "linecolor": "white",
            "showbackground": true,
            "ticks": "",
            "zerolinecolor": "white"
           }
          },
          "shapedefaults": {
           "line": {
            "color": "#2a3f5f"
           }
          },
          "ternary": {
           "aaxis": {
            "gridcolor": "white",
            "linecolor": "white",
            "ticks": ""
           },
           "baxis": {
            "gridcolor": "white",
            "linecolor": "white",
            "ticks": ""
           },
           "bgcolor": "#E5ECF6",
           "caxis": {
            "gridcolor": "white",
            "linecolor": "white",
            "ticks": ""
           }
          },
          "title": {
           "x": 0.05
          },
          "xaxis": {
           "automargin": true,
           "gridcolor": "white",
           "linecolor": "white",
           "ticks": "",
           "title": {
            "standoff": 15
           },
           "zerolinecolor": "white",
           "zerolinewidth": 2
          },
          "yaxis": {
           "automargin": true,
           "gridcolor": "white",
           "linecolor": "white",
           "ticks": "",
           "title": {
            "standoff": 15
           },
           "zerolinecolor": "white",
           "zerolinewidth": 2
          }
         }
        },
        "title": {
         "text": "Positive cases"
        },
        "updatemenus": [
         {
          "active": 0,
          "buttons": [
           {
            "args": [
             {
              "visible": [
               true,
               true,
               true,
               false,
               false,
               false
              ]
             },
             {
              "showlegend": true,
              "title": "Cumulative positive cases"
             }
            ],
            "label": "Accum.",
            "method": "update"
           },
           {
            "args": [
             {
              "visible": [
               false,
               false,
               false,
               true,
               true,
               true
              ]
             },
             {
              "showlegend": true,
              "title": "Daily positive cases"
             }
            ],
            "label": "Daily",
            "method": "update"
           }
          ]
         }
        ],
        "width": 900,
        "xaxis": {
         "title": {
          "text": "Number of days since first test (2020-01-20)"
         }
        },
        "yaxis": {
         "title": {
          "text": "Number of people"
         }
        }
       }
      },
      "text/html": [
       "<div>\n",
       "        \n",
       "        \n",
       "            <div id=\"9c9aeef2-684d-4106-b698-d11dea05d882\" class=\"plotly-graph-div\" style=\"height:500px; width:900px;\"></div>\n",
       "            <script type=\"text/javascript\">\n",
       "                require([\"plotly\"], function(Plotly) {\n",
       "                    window.PLOTLYENV=window.PLOTLYENV || {};\n",
       "                    \n",
       "                if (document.getElementById(\"9c9aeef2-684d-4106-b698-d11dea05d882\")) {\n",
       "                    Plotly.newPlot(\n",
       "                        '9c9aeef2-684d-4106-b698-d11dea05d882',\n",
       "                        [{\"line\": {\"color\": \"orange\", \"width\": 2}, \"name\": \"Positive\", \"type\": \"scatter\", \"x\": [0, 1, 2, 3, 4, 5, 6, 7, 8, 9, 10, 11, 12, 13, 14, 15, 16, 17, 18, 19, 20, 21, 22, 23, 24, 25, 26, 27, 28, 29, 30, 31, 32, 33, 34, 35, 36, 37, 38, 39, 40, 41, 42, 43, 44, 45, 46, 47, 48, 49, 50, 51, 52, 53, 54, 55, 56, 57, 58, 59, 60, 61, 62, 63, 64, 65, 66, 67, 68, 69, 70, 71, 72, 73, 74, 75, 76, 77, 78, 79, 80, 81, 82, 83, 84, 85, 86, 87, 88, 89, 90, 91, 92, 93, 94, 95, 96, 97, 98, 99, 100, 101], \"y\": [1, 1, 1, 1, 2, 2, 3, 4, 4, 4, 6, 11, 12, 15, 15, 16, 18, 23, 24, 24, 27, 27, 28, 28, 28, 28, 28, 29, 30, 31, 51, 104, 204, 433, 602, 833, 977, 1261, 1766, 2337, 3150, 3736, 4212, 4812, 5328, 5766, 6284, 6767, 7134, 7382, 7513, 7755, 7869, 7979, 8086, 8126, 8236, 8320, 8413, 8565, 8652, 8799, 8897, 8961, 9037, 9137, 9241, 9332, 9478, 9583, 9661, 9786, 9887, 9976, 10062, 10156, 10237, 10284, 10331, 10384, 10423, 10450, 10480, 10512, 10537, 10564, 10591, 10613, 10635, 10653, 10661, 10674, 10683, 10694, 10702, 10708, 10718, 10728, 10738, 10752, 10761, 10765]}, {\"line\": {\"color\": \"green\", \"width\": 2}, \"name\": \"Released\", \"type\": \"scatter\", \"x\": [0, 1, 2, 3, 4, 5, 6, 7, 8, 9, 10, 11, 12, 13, 14, 15, 16, 17, 18, 19, 20, 21, 22, 23, 24, 25, 26, 27, 28, 29, 30, 31, 32, 33, 34, 35, 36, 37, 38, 39, 40, 41, 42, 43, 44, 45, 46, 47, 48, 49, 50, 51, 52, 53, 54, 55, 56, 57, 58, 59, 60, 61, 62, 63, 64, 65, 66, 67, 68, 69, 70, 71, 72, 73, 74, 75, 76, 77, 78, 79, 80, 81, 82, 83, 84, 85, 86, 87, 88, 89, 90, 91, 92, 93, 94, 95, 96, 97, 98, 99, 100, 101], \"y\": [0, 0, 0, 0, 0, 0, 0, 0, 0, 0, 0, 0, 0, 0, 0, 0, 1, 2, 2, 2, 3, 4, 4, 7, 7, 7, 9, 9, 10, 12, 16, 16, 17, 18, 18, 24, 24, 24, 26, 27, 28, 30, 31, 34, 41, 88, 108, 118, 130, 166, 247, 288, 333, 510, 714, 834, 1137, 1401, 1540, 1947, 2233, 2612, 2909, 3166, 3507, 3730, 4144, 4528, 4811, 5033, 5228, 5408, 5567, 5828, 6021, 6325, 6463, 6598, 6694, 6776, 6973, 7117, 7243, 7368, 7447, 7534, 7616, 7757, 7829, 7937, 8042, 8114, 8213, 8277, 8411, 8501, 8635, 8717, 8764, 8854, 8922, 9059]}, {\"line\": {\"color\": \"red\", \"width\": 2}, \"name\": \"Deceased\", \"type\": \"scatter\", \"x\": [0, 1, 2, 3, 4, 5, 6, 7, 8, 9, 10, 11, 12, 13, 14, 15, 16, 17, 18, 19, 20, 21, 22, 23, 24, 25, 26, 27, 28, 29, 30, 31, 32, 33, 34, 35, 36, 37, 38, 39, 40, 41, 42, 43, 44, 45, 46, 47, 48, 49, 50, 51, 52, 53, 54, 55, 56, 57, 58, 59, 60, 61, 62, 63, 64, 65, 66, 67, 68, 69, 70, 71, 72, 73, 74, 75, 76, 77, 78, 79, 80, 81, 82, 83, 84, 85, 86, 87, 88, 89, 90, 91, 92, 93, 94, 95, 96, 97, 98, 99, 100, 101], \"y\": [0, 0, 0, 0, 0, 0, 0, 0, 0, 0, 0, 0, 0, 0, 0, 0, 0, 0, 0, 0, 0, 0, 0, 0, 0, 0, 0, 0, 0, 0, 0, 1, 2, 2, 6, 8, 12, 12, 13, 13, 17, 18, 22, 28, 32, 35, 42, 44, 50, 51, 54, 60, 66, 67, 72, 75, 75, 81, 84, 91, 94, 102, 104, 111, 120, 126, 131, 139, 144, 152, 158, 162, 165, 169, 174, 177, 183, 186, 192, 200, 204, 208, 211, 214, 217, 222, 225, 229, 230, 232, 234, 236, 237, 238, 240, 240, 240, 242, 243, 244, 246, 247]}, {\"line\": {\"color\": \"orange\", \"width\": 2}, \"name\": \"Positive\", \"type\": \"scatter\", \"visible\": false, \"x\": [0, 1, 2, 3, 4, 5, 6, 7, 8, 9, 10, 11, 12, 13, 14, 15, 16, 17, 18, 19, 20, 21, 22, 23, 24, 25, 26, 27, 28, 29, 30, 31, 32, 33, 34, 35, 36, 37, 38, 39, 40, 41, 42, 43, 44, 45, 46, 47, 48, 49, 50, 51, 52, 53, 54, 55, 56, 57, 58, 59, 60, 61, 62, 63, 64, 65, 66, 67, 68, 69, 70, 71, 72, 73, 74, 75, 76, 77, 78, 79, 80, 81, 82, 83, 84, 85, 86, 87, 88, 89, 90, 91, 92, 93, 94, 95, 96, 97, 98, 99, 100, 101], \"y\": [1.0, 0.0, 0.0, 0.0, 1.0, 0.0, 1.0, 1.0, 0.0, 0.0, 2.0, 5.0, 1.0, 3.0, 0.0, 1.0, 2.0, 5.0, 1.0, 0.0, 3.0, 0.0, 1.0, 0.0, 0.0, 0.0, 0.0, 1.0, 1.0, 1.0, 20.0, 53.0, 100.0, 229.0, 169.0, 231.0, 144.0, 284.0, 505.0, 571.0, 813.0, 586.0, 476.0, 600.0, 516.0, 438.0, 518.0, 483.0, 367.0, 248.0, 131.0, 242.0, 114.0, 110.0, 107.0, 40.0, 110.0, 84.0, 93.0, 152.0, 87.0, 147.0, 98.0, 64.0, 76.0, 100.0, 104.0, 91.0, 146.0, 105.0, 78.0, 125.0, 101.0, 89.0, 86.0, 94.0, 81.0, 47.0, 47.0, 53.0, 39.0, 27.0, 30.0, 32.0, 25.0, 27.0, 27.0, 22.0, 22.0, 18.0, 8.0, 13.0, 9.0, 11.0, 8.0, 6.0, 10.0, 10.0, 10.0, 14.0, 9.0, 4.0]}, {\"line\": {\"color\": \"green\", \"width\": 2}, \"name\": \"Released\", \"type\": \"scatter\", \"visible\": false, \"x\": [0, 1, 2, 3, 4, 5, 6, 7, 8, 9, 10, 11, 12, 13, 14, 15, 16, 17, 18, 19, 20, 21, 22, 23, 24, 25, 26, 27, 28, 29, 30, 31, 32, 33, 34, 35, 36, 37, 38, 39, 40, 41, 42, 43, 44, 45, 46, 47, 48, 49, 50, 51, 52, 53, 54, 55, 56, 57, 58, 59, 60, 61, 62, 63, 64, 65, 66, 67, 68, 69, 70, 71, 72, 73, 74, 75, 76, 77, 78, 79, 80, 81, 82, 83, 84, 85, 86, 87, 88, 89, 90, 91, 92, 93, 94, 95, 96, 97, 98, 99, 100, 101], \"y\": [0.0, 0.0, 0.0, 0.0, 0.0, 0.0, 0.0, 0.0, 0.0, 0.0, 0.0, 0.0, 0.0, 0.0, 0.0, 0.0, 1.0, 1.0, 0.0, 0.0, 1.0, 1.0, 0.0, 3.0, 0.0, 0.0, 2.0, 0.0, 1.0, 2.0, 4.0, 0.0, 1.0, 1.0, 0.0, 6.0, 0.0, 0.0, 2.0, 1.0, 1.0, 2.0, 1.0, 3.0, 7.0, 47.0, 20.0, 10.0, 12.0, 36.0, 81.0, 41.0, 45.0, 177.0, 204.0, 120.0, 303.0, 264.0, 139.0, 407.0, 286.0, 379.0, 297.0, 257.0, 341.0, 223.0, 414.0, 384.0, 283.0, 222.0, 195.0, 180.0, 159.0, 261.0, 193.0, 304.0, 138.0, 135.0, 96.0, 82.0, 197.0, 144.0, 126.0, 125.0, 79.0, 87.0, 82.0, 141.0, 72.0, 108.0, 105.0, 72.0, 99.0, 64.0, 134.0, 90.0, 134.0, 82.0, 47.0, 90.0, 68.0, 137.0]}, {\"line\": {\"color\": \"red\", \"width\": 2}, \"name\": \"Deceased\", \"type\": \"scatter\", \"visible\": false, \"x\": [0, 1, 2, 3, 4, 5, 6, 7, 8, 9, 10, 11, 12, 13, 14, 15, 16, 17, 18, 19, 20, 21, 22, 23, 24, 25, 26, 27, 28, 29, 30, 31, 32, 33, 34, 35, 36, 37, 38, 39, 40, 41, 42, 43, 44, 45, 46, 47, 48, 49, 50, 51, 52, 53, 54, 55, 56, 57, 58, 59, 60, 61, 62, 63, 64, 65, 66, 67, 68, 69, 70, 71, 72, 73, 74, 75, 76, 77, 78, 79, 80, 81, 82, 83, 84, 85, 86, 87, 88, 89, 90, 91, 92, 93, 94, 95, 96, 97, 98, 99, 100, 101], \"y\": [0.0, 0.0, 0.0, 0.0, 0.0, 0.0, 0.0, 0.0, 0.0, 0.0, 0.0, 0.0, 0.0, 0.0, 0.0, 0.0, 0.0, 0.0, 0.0, 0.0, 0.0, 0.0, 0.0, 0.0, 0.0, 0.0, 0.0, 0.0, 0.0, 0.0, 0.0, 1.0, 1.0, 0.0, 4.0, 2.0, 4.0, 0.0, 1.0, 0.0, 4.0, 1.0, 4.0, 6.0, 4.0, 3.0, 7.0, 2.0, 6.0, 1.0, 3.0, 6.0, 6.0, 1.0, 5.0, 3.0, 0.0, 6.0, 3.0, 7.0, 3.0, 8.0, 2.0, 7.0, 9.0, 6.0, 5.0, 8.0, 5.0, 8.0, 6.0, 4.0, 3.0, 4.0, 5.0, 3.0, 6.0, 3.0, 6.0, 8.0, 4.0, 4.0, 3.0, 3.0, 3.0, 5.0, 3.0, 4.0, 1.0, 2.0, 2.0, 2.0, 1.0, 1.0, 2.0, 0.0, 0.0, 2.0, 1.0, 1.0, 2.0, 1.0]}],\n",
       "                        {\"height\": 500, \"hovermode\": \"x unified\", \"template\": {\"data\": {\"bar\": [{\"error_x\": {\"color\": \"#2a3f5f\"}, \"error_y\": {\"color\": \"#2a3f5f\"}, \"marker\": {\"line\": {\"color\": \"#E5ECF6\", \"width\": 0.5}}, \"type\": \"bar\"}], \"barpolar\": [{\"marker\": {\"line\": {\"color\": \"#E5ECF6\", \"width\": 0.5}}, \"type\": \"barpolar\"}], \"carpet\": [{\"aaxis\": {\"endlinecolor\": \"#2a3f5f\", \"gridcolor\": \"white\", \"linecolor\": \"white\", \"minorgridcolor\": \"white\", \"startlinecolor\": \"#2a3f5f\"}, \"baxis\": {\"endlinecolor\": \"#2a3f5f\", \"gridcolor\": \"white\", \"linecolor\": \"white\", \"minorgridcolor\": \"white\", \"startlinecolor\": \"#2a3f5f\"}, \"type\": \"carpet\"}], \"choropleth\": [{\"colorbar\": {\"outlinewidth\": 0, \"ticks\": \"\"}, \"type\": \"choropleth\"}], \"contour\": [{\"colorbar\": {\"outlinewidth\": 0, \"ticks\": \"\"}, \"colorscale\": [[0.0, \"#0d0887\"], [0.1111111111111111, \"#46039f\"], [0.2222222222222222, \"#7201a8\"], [0.3333333333333333, \"#9c179e\"], [0.4444444444444444, \"#bd3786\"], [0.5555555555555556, \"#d8576b\"], [0.6666666666666666, \"#ed7953\"], [0.7777777777777778, \"#fb9f3a\"], [0.8888888888888888, \"#fdca26\"], [1.0, \"#f0f921\"]], \"type\": \"contour\"}], \"contourcarpet\": [{\"colorbar\": {\"outlinewidth\": 0, \"ticks\": \"\"}, \"type\": \"contourcarpet\"}], \"heatmap\": [{\"colorbar\": {\"outlinewidth\": 0, \"ticks\": \"\"}, \"colorscale\": [[0.0, \"#0d0887\"], [0.1111111111111111, \"#46039f\"], [0.2222222222222222, \"#7201a8\"], [0.3333333333333333, \"#9c179e\"], [0.4444444444444444, \"#bd3786\"], [0.5555555555555556, \"#d8576b\"], [0.6666666666666666, \"#ed7953\"], [0.7777777777777778, \"#fb9f3a\"], [0.8888888888888888, \"#fdca26\"], [1.0, \"#f0f921\"]], \"type\": \"heatmap\"}], \"heatmapgl\": [{\"colorbar\": {\"outlinewidth\": 0, \"ticks\": \"\"}, \"colorscale\": [[0.0, \"#0d0887\"], [0.1111111111111111, \"#46039f\"], [0.2222222222222222, \"#7201a8\"], [0.3333333333333333, \"#9c179e\"], [0.4444444444444444, \"#bd3786\"], [0.5555555555555556, \"#d8576b\"], [0.6666666666666666, \"#ed7953\"], [0.7777777777777778, \"#fb9f3a\"], [0.8888888888888888, \"#fdca26\"], [1.0, \"#f0f921\"]], \"type\": \"heatmapgl\"}], \"histogram\": [{\"marker\": {\"colorbar\": {\"outlinewidth\": 0, \"ticks\": \"\"}}, \"type\": \"histogram\"}], \"histogram2d\": [{\"colorbar\": {\"outlinewidth\": 0, \"ticks\": \"\"}, \"colorscale\": [[0.0, \"#0d0887\"], [0.1111111111111111, \"#46039f\"], [0.2222222222222222, \"#7201a8\"], [0.3333333333333333, \"#9c179e\"], [0.4444444444444444, \"#bd3786\"], [0.5555555555555556, \"#d8576b\"], [0.6666666666666666, \"#ed7953\"], [0.7777777777777778, \"#fb9f3a\"], [0.8888888888888888, \"#fdca26\"], [1.0, \"#f0f921\"]], \"type\": \"histogram2d\"}], \"histogram2dcontour\": [{\"colorbar\": {\"outlinewidth\": 0, \"ticks\": \"\"}, \"colorscale\": [[0.0, \"#0d0887\"], [0.1111111111111111, \"#46039f\"], [0.2222222222222222, \"#7201a8\"], [0.3333333333333333, \"#9c179e\"], [0.4444444444444444, \"#bd3786\"], [0.5555555555555556, \"#d8576b\"], [0.6666666666666666, \"#ed7953\"], [0.7777777777777778, \"#fb9f3a\"], [0.8888888888888888, \"#fdca26\"], [1.0, \"#f0f921\"]], \"type\": \"histogram2dcontour\"}], \"mesh3d\": [{\"colorbar\": {\"outlinewidth\": 0, \"ticks\": \"\"}, \"type\": \"mesh3d\"}], \"parcoords\": [{\"line\": {\"colorbar\": {\"outlinewidth\": 0, \"ticks\": \"\"}}, \"type\": \"parcoords\"}], \"pie\": [{\"automargin\": true, \"type\": \"pie\"}], \"scatter\": [{\"marker\": {\"colorbar\": {\"outlinewidth\": 0, \"ticks\": \"\"}}, \"type\": \"scatter\"}], \"scatter3d\": [{\"line\": {\"colorbar\": {\"outlinewidth\": 0, \"ticks\": \"\"}}, \"marker\": {\"colorbar\": {\"outlinewidth\": 0, \"ticks\": \"\"}}, \"type\": \"scatter3d\"}], \"scattercarpet\": [{\"marker\": {\"colorbar\": {\"outlinewidth\": 0, \"ticks\": \"\"}}, \"type\": \"scattercarpet\"}], \"scattergeo\": [{\"marker\": {\"colorbar\": {\"outlinewidth\": 0, \"ticks\": \"\"}}, \"type\": \"scattergeo\"}], \"scattergl\": [{\"marker\": {\"colorbar\": {\"outlinewidth\": 0, \"ticks\": \"\"}}, \"type\": \"scattergl\"}], \"scattermapbox\": [{\"marker\": {\"colorbar\": {\"outlinewidth\": 0, \"ticks\": \"\"}}, \"type\": \"scattermapbox\"}], \"scatterpolar\": [{\"marker\": {\"colorbar\": {\"outlinewidth\": 0, \"ticks\": \"\"}}, \"type\": \"scatterpolar\"}], \"scatterpolargl\": [{\"marker\": {\"colorbar\": {\"outlinewidth\": 0, \"ticks\": \"\"}}, \"type\": \"scatterpolargl\"}], \"scatterternary\": [{\"marker\": {\"colorbar\": {\"outlinewidth\": 0, \"ticks\": \"\"}}, \"type\": \"scatterternary\"}], \"surface\": [{\"colorbar\": {\"outlinewidth\": 0, \"ticks\": \"\"}, \"colorscale\": [[0.0, \"#0d0887\"], [0.1111111111111111, \"#46039f\"], [0.2222222222222222, \"#7201a8\"], [0.3333333333333333, \"#9c179e\"], [0.4444444444444444, \"#bd3786\"], [0.5555555555555556, \"#d8576b\"], [0.6666666666666666, \"#ed7953\"], [0.7777777777777778, \"#fb9f3a\"], [0.8888888888888888, \"#fdca26\"], [1.0, \"#f0f921\"]], \"type\": \"surface\"}], \"table\": [{\"cells\": {\"fill\": {\"color\": \"#EBF0F8\"}, \"line\": {\"color\": \"white\"}}, \"header\": {\"fill\": {\"color\": \"#C8D4E3\"}, \"line\": {\"color\": \"white\"}}, \"type\": \"table\"}]}, \"layout\": {\"annotationdefaults\": {\"arrowcolor\": \"#2a3f5f\", \"arrowhead\": 0, \"arrowwidth\": 1}, \"coloraxis\": {\"colorbar\": {\"outlinewidth\": 0, \"ticks\": \"\"}}, \"colorscale\": {\"diverging\": [[0, \"#8e0152\"], [0.1, \"#c51b7d\"], [0.2, \"#de77ae\"], [0.3, \"#f1b6da\"], [0.4, \"#fde0ef\"], [0.5, \"#f7f7f7\"], [0.6, \"#e6f5d0\"], [0.7, \"#b8e186\"], [0.8, \"#7fbc41\"], [0.9, \"#4d9221\"], [1, \"#276419\"]], \"sequential\": [[0.0, \"#0d0887\"], [0.1111111111111111, \"#46039f\"], [0.2222222222222222, \"#7201a8\"], [0.3333333333333333, \"#9c179e\"], [0.4444444444444444, \"#bd3786\"], [0.5555555555555556, \"#d8576b\"], [0.6666666666666666, \"#ed7953\"], [0.7777777777777778, \"#fb9f3a\"], [0.8888888888888888, \"#fdca26\"], [1.0, \"#f0f921\"]], \"sequentialminus\": [[0.0, \"#0d0887\"], [0.1111111111111111, \"#46039f\"], [0.2222222222222222, \"#7201a8\"], [0.3333333333333333, \"#9c179e\"], [0.4444444444444444, \"#bd3786\"], [0.5555555555555556, \"#d8576b\"], [0.6666666666666666, \"#ed7953\"], [0.7777777777777778, \"#fb9f3a\"], [0.8888888888888888, \"#fdca26\"], [1.0, \"#f0f921\"]]}, \"colorway\": [\"#636efa\", \"#EF553B\", \"#00cc96\", \"#ab63fa\", \"#FFA15A\", \"#19d3f3\", \"#FF6692\", \"#B6E880\", \"#FF97FF\", \"#FECB52\"], \"font\": {\"color\": \"#2a3f5f\"}, \"geo\": {\"bgcolor\": \"white\", \"lakecolor\": \"white\", \"landcolor\": \"#E5ECF6\", \"showlakes\": true, \"showland\": true, \"subunitcolor\": \"white\"}, \"hoverlabel\": {\"align\": \"left\"}, \"hovermode\": \"closest\", \"mapbox\": {\"style\": \"light\"}, \"paper_bgcolor\": \"white\", \"plot_bgcolor\": \"#E5ECF6\", \"polar\": {\"angularaxis\": {\"gridcolor\": \"white\", \"linecolor\": \"white\", \"ticks\": \"\"}, \"bgcolor\": \"#E5ECF6\", \"radialaxis\": {\"gridcolor\": \"white\", \"linecolor\": \"white\", \"ticks\": \"\"}}, \"scene\": {\"xaxis\": {\"backgroundcolor\": \"#E5ECF6\", \"gridcolor\": \"white\", \"gridwidth\": 2, \"linecolor\": \"white\", \"showbackground\": true, \"ticks\": \"\", \"zerolinecolor\": \"white\"}, \"yaxis\": {\"backgroundcolor\": \"#E5ECF6\", \"gridcolor\": \"white\", \"gridwidth\": 2, \"linecolor\": \"white\", \"showbackground\": true, \"ticks\": \"\", \"zerolinecolor\": \"white\"}, \"zaxis\": {\"backgroundcolor\": \"#E5ECF6\", \"gridcolor\": \"white\", \"gridwidth\": 2, \"linecolor\": \"white\", \"showbackground\": true, \"ticks\": \"\", \"zerolinecolor\": \"white\"}}, \"shapedefaults\": {\"line\": {\"color\": \"#2a3f5f\"}}, \"ternary\": {\"aaxis\": {\"gridcolor\": \"white\", \"linecolor\": \"white\", \"ticks\": \"\"}, \"baxis\": {\"gridcolor\": \"white\", \"linecolor\": \"white\", \"ticks\": \"\"}, \"bgcolor\": \"#E5ECF6\", \"caxis\": {\"gridcolor\": \"white\", \"linecolor\": \"white\", \"ticks\": \"\"}}, \"title\": {\"x\": 0.05}, \"xaxis\": {\"automargin\": true, \"gridcolor\": \"white\", \"linecolor\": \"white\", \"ticks\": \"\", \"title\": {\"standoff\": 15}, \"zerolinecolor\": \"white\", \"zerolinewidth\": 2}, \"yaxis\": {\"automargin\": true, \"gridcolor\": \"white\", \"linecolor\": \"white\", \"ticks\": \"\", \"title\": {\"standoff\": 15}, \"zerolinecolor\": \"white\", \"zerolinewidth\": 2}}}, \"title\": {\"text\": \"Positive cases\"}, \"updatemenus\": [{\"active\": 0, \"buttons\": [{\"args\": [{\"visible\": [true, true, true, false, false, false]}, {\"showlegend\": true, \"title\": \"Cumulative positive cases\"}], \"label\": \"Accum.\", \"method\": \"update\"}, {\"args\": [{\"visible\": [false, false, false, true, true, true]}, {\"showlegend\": true, \"title\": \"Daily positive cases\"}], \"label\": \"Daily\", \"method\": \"update\"}]}], \"width\": 900, \"xaxis\": {\"title\": {\"text\": \"Number of days since first test (2020-01-20)\"}}, \"yaxis\": {\"title\": {\"text\": \"Number of people\"}}},\n",
       "                        {\"responsive\": true}\n",
       "                    ).then(function(){\n",
       "                            \n",
       "var gd = document.getElementById('9c9aeef2-684d-4106-b698-d11dea05d882');\n",
       "var x = new MutationObserver(function (mutations, observer) {{\n",
       "        var display = window.getComputedStyle(gd).display;\n",
       "        if (!display || display === 'none') {{\n",
       "            console.log([gd, 'removed!']);\n",
       "            Plotly.purge(gd);\n",
       "            observer.disconnect();\n",
       "        }}\n",
       "}});\n",
       "\n",
       "// Listen for the removal of the full notebook cells\n",
       "var notebookContainer = gd.closest('#notebook-container');\n",
       "if (notebookContainer) {{\n",
       "    x.observe(notebookContainer, {childList: true});\n",
       "}}\n",
       "\n",
       "// Listen for the clearing of the current output cell\n",
       "var outputEl = gd.closest('.output');\n",
       "if (outputEl) {{\n",
       "    x.observe(outputEl, {childList: true});\n",
       "}}\n",
       "\n",
       "                        })\n",
       "                };\n",
       "                });\n",
       "            </script>\n",
       "        </div>"
      ]
     },
     "metadata": {},
     "output_type": "display_data"
    }
   ],
   "source": [
    "layout = go.Layout(\n",
    "    title_text = \"Positive cases\",\n",
    "    yaxis_title=\"Number of people\",\n",
    "    xaxis_title='Number of days since first test ({:})'.format(timedf.date.min().date()),\n",
    "    width=900, \n",
    "    height=500, hovermode='x unified'\n",
    ")\n",
    "\n",
    "fig = go.Figure(layout=layout)\n",
    "\n",
    "fig.add_trace(go.Scatter(x = timedf.days_since0, y = timedf.confirmed, name = \"Positive\",\n",
    "                        line=dict(color='orange', width=2)))\n",
    "fig.add_trace(go.Scatter(x = timedf.days_since0, y = timedf.released, name = \"Released\",\n",
    "                        line=dict(color='green', width=2)))\n",
    "fig.add_trace(go.Scatter(x = timedf.days_since0, y = timedf.deceased, name = \"Deceased\",\n",
    "                        line=dict(color='red', width=2)))\n",
    "\n",
    "fig.add_trace(go.Scatter(x = timedf.days_since0, y = timedf.conf_on_day, name = \"Positive\", visible = False,\n",
    "                        line=dict(color='orange', width=2)))\n",
    "fig.add_trace(go.Scatter(x = timedf.days_since0, y = timedf.rel_on_day, name = \"Released\", visible = False,\n",
    "                        line=dict(color='green', width=2)))  \n",
    "fig.add_trace(go.Scatter(x = timedf.days_since0, y = timedf.dec_on_day, name = \"Deceased\", visible = False,\n",
    "                        line=dict(color='red', width=2)))   \n",
    "    \n",
    "fig.update_layout(\n",
    "    updatemenus=[go.layout.Updatemenu(\n",
    "        active=0,\n",
    "        buttons=list(\n",
    "            [dict(label = 'Accum.',\n",
    "                  method = 'update',\n",
    "                  args = [{'visible': [True, True, True, False, False, False]},\n",
    "                          {'title': 'Cumulative positive cases',\n",
    "                           'showlegend':True}]),\n",
    "             dict(label = 'Daily',\n",
    "                  method = 'update',\n",
    "                  args = [{'visible': [False, False, False, True, True, True]},\n",
    "                          {'title': 'Daily positive cases',\n",
    "                           'showlegend':True}]),\n",
    "            ])\n",
    "        )\n",
    "    ])\n",
    "\n",
    "fig.show()"
   ]
  },
  {
   "cell_type": "markdown",
   "metadata": {},
   "source": [
    "Here you can see that the accumulated positive cases show the very famous \"S\" shape that the media loves talking about. When looking at the daily numbers, we can see that the peak on released people is shifted to the right on the plot when compared to the peak of positive tested. Makes sense, right? After someone is tested positive, it most likely stays isolated/internated, so that he/she can be released (hopefully) in the next 2 to 3 weeks."
   ]
  },
  {
   "cell_type": "markdown",
   "metadata": {},
   "source": [
    "The curve corresponding to the deceased people is too small for us to analyze there so, once again, let's focus on that one, this time in a different way: let's analyze the percentage of deceased people according to positive individuals (the number that is usually presented by the media) and according to the total tested population:"
   ]
  },
  {
   "cell_type": "code",
   "execution_count": 29,
   "metadata": {},
   "outputs": [
    {
     "data": {
      "application/vnd.plotly.v1+json": {
       "config": {
        "plotlyServerURL": "https://plot.ly"
       },
       "data": [
        {
         "line": {
          "color": "red",
          "width": 2
         },
         "name": "Deceased",
         "type": "scatter",
         "x": [
          0,
          1,
          2,
          3,
          4,
          5,
          6,
          7,
          8,
          9,
          10,
          11,
          12,
          13,
          14,
          15,
          16,
          17,
          18,
          19,
          20,
          21,
          22,
          23,
          24,
          25,
          26,
          27,
          28,
          29,
          30,
          31,
          32,
          33,
          34,
          35,
          36,
          37,
          38,
          39,
          40,
          41,
          42,
          43,
          44,
          45,
          46,
          47,
          48,
          49,
          50,
          51,
          52,
          53,
          54,
          55,
          56,
          57,
          58,
          59,
          60,
          61,
          62,
          63,
          64,
          65,
          66,
          67,
          68,
          69,
          70,
          71,
          72,
          73,
          74,
          75,
          76,
          77,
          78,
          79,
          80,
          81,
          82,
          83,
          84,
          85,
          86,
          87,
          88,
          89,
          90,
          91,
          92,
          93,
          94,
          95,
          96,
          97,
          98,
          99,
          100,
          101
         ],
         "y": [
          0,
          0,
          0,
          0,
          0,
          0,
          0,
          0,
          0,
          0,
          0,
          0,
          0,
          0,
          0,
          0,
          0,
          0,
          0,
          0,
          0,
          0,
          0,
          0,
          0,
          0,
          0,
          0,
          0,
          0,
          0,
          0.00757,
          0.0122,
          0.00927,
          0.02292,
          0.02442,
          0.02977,
          0.02241,
          0.0195,
          0.01602,
          0.01807,
          0.0182,
          0.02007,
          0.02225,
          0.02341,
          0.02388,
          0.02549,
          0.02469,
          0.02652,
          0.02594,
          0.0257,
          0.02698,
          0.02809,
          0.02695,
          0.02755,
          0.02796,
          0.02732,
          0.02825,
          0.02841,
          0.02964,
          0.02968,
          0.03114,
          0.03135,
          0.03284,
          0.03443,
          0.03521,
          0.0359,
          0.03687,
          0.03712,
          0.03856,
          0.03998,
          0.03946,
          0.03914,
          0.03914,
          0.03925,
          0.0389,
          0.03968,
          0.03985,
          0.04023,
          0.04115,
          0.04124,
          0.04135,
          0.04133,
          0.04158,
          0.04183,
          0.04209,
          0.04209,
          0.0425,
          0.04209,
          0.04181,
          0.04185,
          0.04192,
          0.04151,
          0.04118,
          0.0411,
          0.04071,
          0.04033,
          0.04045,
          0.04039,
          0.0401,
          0.04005,
          0.03985
         ]
        },
        {
         "line": {
          "color": "red",
          "width": 2
         },
         "name": "Deceased",
         "type": "scatter",
         "visible": false,
         "x": [
          0,
          1,
          2,
          3,
          4,
          5,
          6,
          7,
          8,
          9,
          10,
          11,
          12,
          13,
          14,
          15,
          16,
          17,
          18,
          19,
          20,
          21,
          22,
          23,
          24,
          25,
          26,
          27,
          28,
          29,
          30,
          31,
          32,
          33,
          34,
          35,
          36,
          37,
          38,
          39,
          40,
          41,
          42,
          43,
          44,
          45,
          46,
          47,
          48,
          49,
          50,
          51,
          52,
          53,
          54,
          55,
          56,
          57,
          58,
          59,
          60,
          61,
          62,
          63,
          64,
          65,
          66,
          67,
          68,
          69,
          70,
          71,
          72,
          73,
          74,
          75,
          76,
          77,
          78,
          79,
          80,
          81,
          82,
          83,
          84,
          85,
          86,
          87,
          88,
          89,
          90,
          91,
          92,
          93,
          94,
          95,
          96,
          97,
          98,
          99,
          100,
          101
         ],
         "y": [
          0,
          0,
          0,
          0,
          0,
          0,
          0,
          0,
          0,
          0,
          0,
          0,
          0,
          0,
          0,
          0,
          0,
          0,
          0,
          0,
          0,
          0,
          0,
          0,
          0,
          0,
          0,
          0,
          0,
          0,
          0,
          0.96154,
          0.98039,
          0.46189,
          0.99668,
          0.96038,
          1.22825,
          0.95163,
          0.73613,
          0.55627,
          0.53968,
          0.4818,
          0.52232,
          0.58188,
          0.6006,
          0.60701,
          0.66836,
          0.65021,
          0.70087,
          0.69087,
          0.71875,
          0.77369,
          0.83873,
          0.8397,
          0.89043,
          0.92296,
          0.91064,
          0.97356,
          0.99845,
          1.06246,
          1.08645,
          1.15922,
          1.16893,
          1.2387,
          1.32787,
          1.37901,
          1.4176,
          1.4895,
          1.51931,
          1.58614,
          1.63544,
          1.65543,
          1.66886,
          1.69407,
          1.72928,
          1.74281,
          1.78763,
          1.80863,
          1.85848,
          1.92604,
          1.95721,
          1.99043,
          2.01336,
          2.03577,
          2.05941,
          2.10148,
          2.12445,
          2.15773,
          2.16267,
          2.17779,
          2.19492,
          2.21098,
          2.21848,
          2.22555,
          2.24257,
          2.24131,
          2.23922,
          2.25578,
          2.26299,
          2.26935,
          2.28603,
          2.29447
         ]
        }
       ],
       "layout": {
        "height": 500,
        "hovermode": "x unified",
        "template": {
         "data": {
          "bar": [
           {
            "error_x": {
             "color": "#2a3f5f"
            },
            "error_y": {
             "color": "#2a3f5f"
            },
            "marker": {
             "line": {
              "color": "#E5ECF6",
              "width": 0.5
             }
            },
            "type": "bar"
           }
          ],
          "barpolar": [
           {
            "marker": {
             "line": {
              "color": "#E5ECF6",
              "width": 0.5
             }
            },
            "type": "barpolar"
           }
          ],
          "carpet": [
           {
            "aaxis": {
             "endlinecolor": "#2a3f5f",
             "gridcolor": "white",
             "linecolor": "white",
             "minorgridcolor": "white",
             "startlinecolor": "#2a3f5f"
            },
            "baxis": {
             "endlinecolor": "#2a3f5f",
             "gridcolor": "white",
             "linecolor": "white",
             "minorgridcolor": "white",
             "startlinecolor": "#2a3f5f"
            },
            "type": "carpet"
           }
          ],
          "choropleth": [
           {
            "colorbar": {
             "outlinewidth": 0,
             "ticks": ""
            },
            "type": "choropleth"
           }
          ],
          "contour": [
           {
            "colorbar": {
             "outlinewidth": 0,
             "ticks": ""
            },
            "colorscale": [
             [
              0,
              "#0d0887"
             ],
             [
              0.1111111111111111,
              "#46039f"
             ],
             [
              0.2222222222222222,
              "#7201a8"
             ],
             [
              0.3333333333333333,
              "#9c179e"
             ],
             [
              0.4444444444444444,
              "#bd3786"
             ],
             [
              0.5555555555555556,
              "#d8576b"
             ],
             [
              0.6666666666666666,
              "#ed7953"
             ],
             [
              0.7777777777777778,
              "#fb9f3a"
             ],
             [
              0.8888888888888888,
              "#fdca26"
             ],
             [
              1,
              "#f0f921"
             ]
            ],
            "type": "contour"
           }
          ],
          "contourcarpet": [
           {
            "colorbar": {
             "outlinewidth": 0,
             "ticks": ""
            },
            "type": "contourcarpet"
           }
          ],
          "heatmap": [
           {
            "colorbar": {
             "outlinewidth": 0,
             "ticks": ""
            },
            "colorscale": [
             [
              0,
              "#0d0887"
             ],
             [
              0.1111111111111111,
              "#46039f"
             ],
             [
              0.2222222222222222,
              "#7201a8"
             ],
             [
              0.3333333333333333,
              "#9c179e"
             ],
             [
              0.4444444444444444,
              "#bd3786"
             ],
             [
              0.5555555555555556,
              "#d8576b"
             ],
             [
              0.6666666666666666,
              "#ed7953"
             ],
             [
              0.7777777777777778,
              "#fb9f3a"
             ],
             [
              0.8888888888888888,
              "#fdca26"
             ],
             [
              1,
              "#f0f921"
             ]
            ],
            "type": "heatmap"
           }
          ],
          "heatmapgl": [
           {
            "colorbar": {
             "outlinewidth": 0,
             "ticks": ""
            },
            "colorscale": [
             [
              0,
              "#0d0887"
             ],
             [
              0.1111111111111111,
              "#46039f"
             ],
             [
              0.2222222222222222,
              "#7201a8"
             ],
             [
              0.3333333333333333,
              "#9c179e"
             ],
             [
              0.4444444444444444,
              "#bd3786"
             ],
             [
              0.5555555555555556,
              "#d8576b"
             ],
             [
              0.6666666666666666,
              "#ed7953"
             ],
             [
              0.7777777777777778,
              "#fb9f3a"
             ],
             [
              0.8888888888888888,
              "#fdca26"
             ],
             [
              1,
              "#f0f921"
             ]
            ],
            "type": "heatmapgl"
           }
          ],
          "histogram": [
           {
            "marker": {
             "colorbar": {
              "outlinewidth": 0,
              "ticks": ""
             }
            },
            "type": "histogram"
           }
          ],
          "histogram2d": [
           {
            "colorbar": {
             "outlinewidth": 0,
             "ticks": ""
            },
            "colorscale": [
             [
              0,
              "#0d0887"
             ],
             [
              0.1111111111111111,
              "#46039f"
             ],
             [
              0.2222222222222222,
              "#7201a8"
             ],
             [
              0.3333333333333333,
              "#9c179e"
             ],
             [
              0.4444444444444444,
              "#bd3786"
             ],
             [
              0.5555555555555556,
              "#d8576b"
             ],
             [
              0.6666666666666666,
              "#ed7953"
             ],
             [
              0.7777777777777778,
              "#fb9f3a"
             ],
             [
              0.8888888888888888,
              "#fdca26"
             ],
             [
              1,
              "#f0f921"
             ]
            ],
            "type": "histogram2d"
           }
          ],
          "histogram2dcontour": [
           {
            "colorbar": {
             "outlinewidth": 0,
             "ticks": ""
            },
            "colorscale": [
             [
              0,
              "#0d0887"
             ],
             [
              0.1111111111111111,
              "#46039f"
             ],
             [
              0.2222222222222222,
              "#7201a8"
             ],
             [
              0.3333333333333333,
              "#9c179e"
             ],
             [
              0.4444444444444444,
              "#bd3786"
             ],
             [
              0.5555555555555556,
              "#d8576b"
             ],
             [
              0.6666666666666666,
              "#ed7953"
             ],
             [
              0.7777777777777778,
              "#fb9f3a"
             ],
             [
              0.8888888888888888,
              "#fdca26"
             ],
             [
              1,
              "#f0f921"
             ]
            ],
            "type": "histogram2dcontour"
           }
          ],
          "mesh3d": [
           {
            "colorbar": {
             "outlinewidth": 0,
             "ticks": ""
            },
            "type": "mesh3d"
           }
          ],
          "parcoords": [
           {
            "line": {
             "colorbar": {
              "outlinewidth": 0,
              "ticks": ""
             }
            },
            "type": "parcoords"
           }
          ],
          "pie": [
           {
            "automargin": true,
            "type": "pie"
           }
          ],
          "scatter": [
           {
            "marker": {
             "colorbar": {
              "outlinewidth": 0,
              "ticks": ""
             }
            },
            "type": "scatter"
           }
          ],
          "scatter3d": [
           {
            "line": {
             "colorbar": {
              "outlinewidth": 0,
              "ticks": ""
             }
            },
            "marker": {
             "colorbar": {
              "outlinewidth": 0,
              "ticks": ""
             }
            },
            "type": "scatter3d"
           }
          ],
          "scattercarpet": [
           {
            "marker": {
             "colorbar": {
              "outlinewidth": 0,
              "ticks": ""
             }
            },
            "type": "scattercarpet"
           }
          ],
          "scattergeo": [
           {
            "marker": {
             "colorbar": {
              "outlinewidth": 0,
              "ticks": ""
             }
            },
            "type": "scattergeo"
           }
          ],
          "scattergl": [
           {
            "marker": {
             "colorbar": {
              "outlinewidth": 0,
              "ticks": ""
             }
            },
            "type": "scattergl"
           }
          ],
          "scattermapbox": [
           {
            "marker": {
             "colorbar": {
              "outlinewidth": 0,
              "ticks": ""
             }
            },
            "type": "scattermapbox"
           }
          ],
          "scatterpolar": [
           {
            "marker": {
             "colorbar": {
              "outlinewidth": 0,
              "ticks": ""
             }
            },
            "type": "scatterpolar"
           }
          ],
          "scatterpolargl": [
           {
            "marker": {
             "colorbar": {
              "outlinewidth": 0,
              "ticks": ""
             }
            },
            "type": "scatterpolargl"
           }
          ],
          "scatterternary": [
           {
            "marker": {
             "colorbar": {
              "outlinewidth": 0,
              "ticks": ""
             }
            },
            "type": "scatterternary"
           }
          ],
          "surface": [
           {
            "colorbar": {
             "outlinewidth": 0,
             "ticks": ""
            },
            "colorscale": [
             [
              0,
              "#0d0887"
             ],
             [
              0.1111111111111111,
              "#46039f"
             ],
             [
              0.2222222222222222,
              "#7201a8"
             ],
             [
              0.3333333333333333,
              "#9c179e"
             ],
             [
              0.4444444444444444,
              "#bd3786"
             ],
             [
              0.5555555555555556,
              "#d8576b"
             ],
             [
              0.6666666666666666,
              "#ed7953"
             ],
             [
              0.7777777777777778,
              "#fb9f3a"
             ],
             [
              0.8888888888888888,
              "#fdca26"
             ],
             [
              1,
              "#f0f921"
             ]
            ],
            "type": "surface"
           }
          ],
          "table": [
           {
            "cells": {
             "fill": {
              "color": "#EBF0F8"
             },
             "line": {
              "color": "white"
             }
            },
            "header": {
             "fill": {
              "color": "#C8D4E3"
             },
             "line": {
              "color": "white"
             }
            },
            "type": "table"
           }
          ]
         },
         "layout": {
          "annotationdefaults": {
           "arrowcolor": "#2a3f5f",
           "arrowhead": 0,
           "arrowwidth": 1
          },
          "coloraxis": {
           "colorbar": {
            "outlinewidth": 0,
            "ticks": ""
           }
          },
          "colorscale": {
           "diverging": [
            [
             0,
             "#8e0152"
            ],
            [
             0.1,
             "#c51b7d"
            ],
            [
             0.2,
             "#de77ae"
            ],
            [
             0.3,
             "#f1b6da"
            ],
            [
             0.4,
             "#fde0ef"
            ],
            [
             0.5,
             "#f7f7f7"
            ],
            [
             0.6,
             "#e6f5d0"
            ],
            [
             0.7,
             "#b8e186"
            ],
            [
             0.8,
             "#7fbc41"
            ],
            [
             0.9,
             "#4d9221"
            ],
            [
             1,
             "#276419"
            ]
           ],
           "sequential": [
            [
             0,
             "#0d0887"
            ],
            [
             0.1111111111111111,
             "#46039f"
            ],
            [
             0.2222222222222222,
             "#7201a8"
            ],
            [
             0.3333333333333333,
             "#9c179e"
            ],
            [
             0.4444444444444444,
             "#bd3786"
            ],
            [
             0.5555555555555556,
             "#d8576b"
            ],
            [
             0.6666666666666666,
             "#ed7953"
            ],
            [
             0.7777777777777778,
             "#fb9f3a"
            ],
            [
             0.8888888888888888,
             "#fdca26"
            ],
            [
             1,
             "#f0f921"
            ]
           ],
           "sequentialminus": [
            [
             0,
             "#0d0887"
            ],
            [
             0.1111111111111111,
             "#46039f"
            ],
            [
             0.2222222222222222,
             "#7201a8"
            ],
            [
             0.3333333333333333,
             "#9c179e"
            ],
            [
             0.4444444444444444,
             "#bd3786"
            ],
            [
             0.5555555555555556,
             "#d8576b"
            ],
            [
             0.6666666666666666,
             "#ed7953"
            ],
            [
             0.7777777777777778,
             "#fb9f3a"
            ],
            [
             0.8888888888888888,
             "#fdca26"
            ],
            [
             1,
             "#f0f921"
            ]
           ]
          },
          "colorway": [
           "#636efa",
           "#EF553B",
           "#00cc96",
           "#ab63fa",
           "#FFA15A",
           "#19d3f3",
           "#FF6692",
           "#B6E880",
           "#FF97FF",
           "#FECB52"
          ],
          "font": {
           "color": "#2a3f5f"
          },
          "geo": {
           "bgcolor": "white",
           "lakecolor": "white",
           "landcolor": "#E5ECF6",
           "showlakes": true,
           "showland": true,
           "subunitcolor": "white"
          },
          "hoverlabel": {
           "align": "left"
          },
          "hovermode": "closest",
          "mapbox": {
           "style": "light"
          },
          "paper_bgcolor": "white",
          "plot_bgcolor": "#E5ECF6",
          "polar": {
           "angularaxis": {
            "gridcolor": "white",
            "linecolor": "white",
            "ticks": ""
           },
           "bgcolor": "#E5ECF6",
           "radialaxis": {
            "gridcolor": "white",
            "linecolor": "white",
            "ticks": ""
           }
          },
          "scene": {
           "xaxis": {
            "backgroundcolor": "#E5ECF6",
            "gridcolor": "white",
            "gridwidth": 2,
            "linecolor": "white",
            "showbackground": true,
            "ticks": "",
            "zerolinecolor": "white"
           },
           "yaxis": {
            "backgroundcolor": "#E5ECF6",
            "gridcolor": "white",
            "gridwidth": 2,
            "linecolor": "white",
            "showbackground": true,
            "ticks": "",
            "zerolinecolor": "white"
           },
           "zaxis": {
            "backgroundcolor": "#E5ECF6",
            "gridcolor": "white",
            "gridwidth": 2,
            "linecolor": "white",
            "showbackground": true,
            "ticks": "",
            "zerolinecolor": "white"
           }
          },
          "shapedefaults": {
           "line": {
            "color": "#2a3f5f"
           }
          },
          "ternary": {
           "aaxis": {
            "gridcolor": "white",
            "linecolor": "white",
            "ticks": ""
           },
           "baxis": {
            "gridcolor": "white",
            "linecolor": "white",
            "ticks": ""
           },
           "bgcolor": "#E5ECF6",
           "caxis": {
            "gridcolor": "white",
            "linecolor": "white",
            "ticks": ""
           }
          },
          "title": {
           "x": 0.05
          },
          "xaxis": {
           "automargin": true,
           "gridcolor": "white",
           "linecolor": "white",
           "ticks": "",
           "title": {
            "standoff": 15
           },
           "zerolinecolor": "white",
           "zerolinewidth": 2
          },
          "yaxis": {
           "automargin": true,
           "gridcolor": "white",
           "linecolor": "white",
           "ticks": "",
           "title": {
            "standoff": 15
           },
           "zerolinecolor": "white",
           "zerolinewidth": 2
          }
         }
        },
        "title": {
         "text": "Cumulative percentage of deceased"
        },
        "updatemenus": [
         {
          "active": 0,
          "buttons": [
           {
            "args": [
             {
              "visible": [
               true,
               false
              ]
             },
             {
              "showlegend": false,
              "title": "Cumulative percentage of deceased over tested population"
             }
            ],
            "label": "Tested Pop.",
            "method": "update"
           },
           {
            "args": [
             {
              "visible": [
               false,
               true
              ]
             },
             {
              "showlegend": false,
              "title": "Cumulative percentage of deceased over positive cases"
             }
            ],
            "label": "Positive Pop.",
            "method": "update"
           }
          ]
         }
        ],
        "width": 900,
        "xaxis": {
         "title": {
          "text": "Number of days since first test (2020-01-20)"
         }
        },
        "yaxis": {
         "title": {
          "text": "Percentage"
         }
        }
       }
      },
      "text/html": [
       "<div>\n",
       "        \n",
       "        \n",
       "            <div id=\"36c310d5-6b2d-433d-9393-3d7490f27ba9\" class=\"plotly-graph-div\" style=\"height:500px; width:900px;\"></div>\n",
       "            <script type=\"text/javascript\">\n",
       "                require([\"plotly\"], function(Plotly) {\n",
       "                    window.PLOTLYENV=window.PLOTLYENV || {};\n",
       "                    \n",
       "                if (document.getElementById(\"36c310d5-6b2d-433d-9393-3d7490f27ba9\")) {\n",
       "                    Plotly.newPlot(\n",
       "                        '36c310d5-6b2d-433d-9393-3d7490f27ba9',\n",
       "                        [{\"line\": {\"color\": \"red\", \"width\": 2}, \"name\": \"Deceased\", \"type\": \"scatter\", \"x\": [0, 1, 2, 3, 4, 5, 6, 7, 8, 9, 10, 11, 12, 13, 14, 15, 16, 17, 18, 19, 20, 21, 22, 23, 24, 25, 26, 27, 28, 29, 30, 31, 32, 33, 34, 35, 36, 37, 38, 39, 40, 41, 42, 43, 44, 45, 46, 47, 48, 49, 50, 51, 52, 53, 54, 55, 56, 57, 58, 59, 60, 61, 62, 63, 64, 65, 66, 67, 68, 69, 70, 71, 72, 73, 74, 75, 76, 77, 78, 79, 80, 81, 82, 83, 84, 85, 86, 87, 88, 89, 90, 91, 92, 93, 94, 95, 96, 97, 98, 99, 100, 101], \"y\": [0.0, 0.0, 0.0, 0.0, 0.0, 0.0, 0.0, 0.0, 0.0, 0.0, 0.0, 0.0, 0.0, 0.0, 0.0, 0.0, 0.0, 0.0, 0.0, 0.0, 0.0, 0.0, 0.0, 0.0, 0.0, 0.0, 0.0, 0.0, 0.0, 0.0, 0.0, 0.00757, 0.0122, 0.00927, 0.02292, 0.02442, 0.02977, 0.02241, 0.0195, 0.01602, 0.01807, 0.0182, 0.02007, 0.02225, 0.02341, 0.02388, 0.02549, 0.02469, 0.02652, 0.02594, 0.0257, 0.02698, 0.02809, 0.02695, 0.02755, 0.02796, 0.02732, 0.02825, 0.02841, 0.02964, 0.02968, 0.03114, 0.03135, 0.03284, 0.03443, 0.03521, 0.0359, 0.03687, 0.03712, 0.03856, 0.03998, 0.03946, 0.03914, 0.03914, 0.03925, 0.0389, 0.03968, 0.03985, 0.04023, 0.04115, 0.04124, 0.04135, 0.04133, 0.04158, 0.04183, 0.04209, 0.04209, 0.0425, 0.04209, 0.04181, 0.04185, 0.04192, 0.04151, 0.04118, 0.0411, 0.04071, 0.04033, 0.04045, 0.04039, 0.0401, 0.04005, 0.03985]}, {\"line\": {\"color\": \"red\", \"width\": 2}, \"name\": \"Deceased\", \"type\": \"scatter\", \"visible\": false, \"x\": [0, 1, 2, 3, 4, 5, 6, 7, 8, 9, 10, 11, 12, 13, 14, 15, 16, 17, 18, 19, 20, 21, 22, 23, 24, 25, 26, 27, 28, 29, 30, 31, 32, 33, 34, 35, 36, 37, 38, 39, 40, 41, 42, 43, 44, 45, 46, 47, 48, 49, 50, 51, 52, 53, 54, 55, 56, 57, 58, 59, 60, 61, 62, 63, 64, 65, 66, 67, 68, 69, 70, 71, 72, 73, 74, 75, 76, 77, 78, 79, 80, 81, 82, 83, 84, 85, 86, 87, 88, 89, 90, 91, 92, 93, 94, 95, 96, 97, 98, 99, 100, 101], \"y\": [0.0, 0.0, 0.0, 0.0, 0.0, 0.0, 0.0, 0.0, 0.0, 0.0, 0.0, 0.0, 0.0, 0.0, 0.0, 0.0, 0.0, 0.0, 0.0, 0.0, 0.0, 0.0, 0.0, 0.0, 0.0, 0.0, 0.0, 0.0, 0.0, 0.0, 0.0, 0.96154, 0.98039, 0.46189, 0.99668, 0.96038, 1.22825, 0.95163, 0.73613, 0.55627, 0.53968, 0.4818, 0.52232, 0.58188, 0.6006, 0.60701, 0.66836, 0.65021, 0.70087, 0.69087, 0.71875, 0.77369, 0.83873, 0.8397, 0.89043, 0.92296, 0.91064, 0.97356, 0.99845, 1.06246, 1.08645, 1.15922, 1.16893, 1.2387, 1.32787, 1.37901, 1.4176, 1.4895, 1.51931, 1.58614, 1.63544, 1.65543, 1.66886, 1.69407, 1.72928, 1.74281, 1.78763, 1.80863, 1.85848, 1.92604, 1.95721, 1.99043, 2.01336, 2.03577, 2.05941, 2.10148, 2.12445, 2.15773, 2.16267, 2.17779, 2.19492, 2.21098, 2.21848, 2.22555, 2.24257, 2.24131, 2.23922, 2.25578, 2.26299, 2.26935, 2.28603, 2.29447]}],\n",
       "                        {\"height\": 500, \"hovermode\": \"x unified\", \"template\": {\"data\": {\"bar\": [{\"error_x\": {\"color\": \"#2a3f5f\"}, \"error_y\": {\"color\": \"#2a3f5f\"}, \"marker\": {\"line\": {\"color\": \"#E5ECF6\", \"width\": 0.5}}, \"type\": \"bar\"}], \"barpolar\": [{\"marker\": {\"line\": {\"color\": \"#E5ECF6\", \"width\": 0.5}}, \"type\": \"barpolar\"}], \"carpet\": [{\"aaxis\": {\"endlinecolor\": \"#2a3f5f\", \"gridcolor\": \"white\", \"linecolor\": \"white\", \"minorgridcolor\": \"white\", \"startlinecolor\": \"#2a3f5f\"}, \"baxis\": {\"endlinecolor\": \"#2a3f5f\", \"gridcolor\": \"white\", \"linecolor\": \"white\", \"minorgridcolor\": \"white\", \"startlinecolor\": \"#2a3f5f\"}, \"type\": \"carpet\"}], \"choropleth\": [{\"colorbar\": {\"outlinewidth\": 0, \"ticks\": \"\"}, \"type\": \"choropleth\"}], \"contour\": [{\"colorbar\": {\"outlinewidth\": 0, \"ticks\": \"\"}, \"colorscale\": [[0.0, \"#0d0887\"], [0.1111111111111111, \"#46039f\"], [0.2222222222222222, \"#7201a8\"], [0.3333333333333333, \"#9c179e\"], [0.4444444444444444, \"#bd3786\"], [0.5555555555555556, \"#d8576b\"], [0.6666666666666666, \"#ed7953\"], [0.7777777777777778, \"#fb9f3a\"], [0.8888888888888888, \"#fdca26\"], [1.0, \"#f0f921\"]], \"type\": \"contour\"}], \"contourcarpet\": [{\"colorbar\": {\"outlinewidth\": 0, \"ticks\": \"\"}, \"type\": \"contourcarpet\"}], \"heatmap\": [{\"colorbar\": {\"outlinewidth\": 0, \"ticks\": \"\"}, \"colorscale\": [[0.0, \"#0d0887\"], [0.1111111111111111, \"#46039f\"], [0.2222222222222222, \"#7201a8\"], [0.3333333333333333, \"#9c179e\"], [0.4444444444444444, \"#bd3786\"], [0.5555555555555556, \"#d8576b\"], [0.6666666666666666, \"#ed7953\"], [0.7777777777777778, \"#fb9f3a\"], [0.8888888888888888, \"#fdca26\"], [1.0, \"#f0f921\"]], \"type\": \"heatmap\"}], \"heatmapgl\": [{\"colorbar\": {\"outlinewidth\": 0, \"ticks\": \"\"}, \"colorscale\": [[0.0, \"#0d0887\"], [0.1111111111111111, \"#46039f\"], [0.2222222222222222, \"#7201a8\"], [0.3333333333333333, \"#9c179e\"], [0.4444444444444444, \"#bd3786\"], [0.5555555555555556, \"#d8576b\"], [0.6666666666666666, \"#ed7953\"], [0.7777777777777778, \"#fb9f3a\"], [0.8888888888888888, \"#fdca26\"], [1.0, \"#f0f921\"]], \"type\": \"heatmapgl\"}], \"histogram\": [{\"marker\": {\"colorbar\": {\"outlinewidth\": 0, \"ticks\": \"\"}}, \"type\": \"histogram\"}], \"histogram2d\": [{\"colorbar\": {\"outlinewidth\": 0, \"ticks\": \"\"}, \"colorscale\": [[0.0, \"#0d0887\"], [0.1111111111111111, \"#46039f\"], [0.2222222222222222, \"#7201a8\"], [0.3333333333333333, \"#9c179e\"], [0.4444444444444444, \"#bd3786\"], [0.5555555555555556, \"#d8576b\"], [0.6666666666666666, \"#ed7953\"], [0.7777777777777778, \"#fb9f3a\"], [0.8888888888888888, \"#fdca26\"], [1.0, \"#f0f921\"]], \"type\": \"histogram2d\"}], \"histogram2dcontour\": [{\"colorbar\": {\"outlinewidth\": 0, \"ticks\": \"\"}, \"colorscale\": [[0.0, \"#0d0887\"], [0.1111111111111111, \"#46039f\"], [0.2222222222222222, \"#7201a8\"], [0.3333333333333333, \"#9c179e\"], [0.4444444444444444, \"#bd3786\"], [0.5555555555555556, \"#d8576b\"], [0.6666666666666666, \"#ed7953\"], [0.7777777777777778, \"#fb9f3a\"], [0.8888888888888888, \"#fdca26\"], [1.0, \"#f0f921\"]], \"type\": \"histogram2dcontour\"}], \"mesh3d\": [{\"colorbar\": {\"outlinewidth\": 0, \"ticks\": \"\"}, \"type\": \"mesh3d\"}], \"parcoords\": [{\"line\": {\"colorbar\": {\"outlinewidth\": 0, \"ticks\": \"\"}}, \"type\": \"parcoords\"}], \"pie\": [{\"automargin\": true, \"type\": \"pie\"}], \"scatter\": [{\"marker\": {\"colorbar\": {\"outlinewidth\": 0, \"ticks\": \"\"}}, \"type\": \"scatter\"}], \"scatter3d\": [{\"line\": {\"colorbar\": {\"outlinewidth\": 0, \"ticks\": \"\"}}, \"marker\": {\"colorbar\": {\"outlinewidth\": 0, \"ticks\": \"\"}}, \"type\": \"scatter3d\"}], \"scattercarpet\": [{\"marker\": {\"colorbar\": {\"outlinewidth\": 0, \"ticks\": \"\"}}, \"type\": \"scattercarpet\"}], \"scattergeo\": [{\"marker\": {\"colorbar\": {\"outlinewidth\": 0, \"ticks\": \"\"}}, \"type\": \"scattergeo\"}], \"scattergl\": [{\"marker\": {\"colorbar\": {\"outlinewidth\": 0, \"ticks\": \"\"}}, \"type\": \"scattergl\"}], \"scattermapbox\": [{\"marker\": {\"colorbar\": {\"outlinewidth\": 0, \"ticks\": \"\"}}, \"type\": \"scattermapbox\"}], \"scatterpolar\": [{\"marker\": {\"colorbar\": {\"outlinewidth\": 0, \"ticks\": \"\"}}, \"type\": \"scatterpolar\"}], \"scatterpolargl\": [{\"marker\": {\"colorbar\": {\"outlinewidth\": 0, \"ticks\": \"\"}}, \"type\": \"scatterpolargl\"}], \"scatterternary\": [{\"marker\": {\"colorbar\": {\"outlinewidth\": 0, \"ticks\": \"\"}}, \"type\": \"scatterternary\"}], \"surface\": [{\"colorbar\": {\"outlinewidth\": 0, \"ticks\": \"\"}, \"colorscale\": [[0.0, \"#0d0887\"], [0.1111111111111111, \"#46039f\"], [0.2222222222222222, \"#7201a8\"], [0.3333333333333333, \"#9c179e\"], [0.4444444444444444, \"#bd3786\"], [0.5555555555555556, \"#d8576b\"], [0.6666666666666666, \"#ed7953\"], [0.7777777777777778, \"#fb9f3a\"], [0.8888888888888888, \"#fdca26\"], [1.0, \"#f0f921\"]], \"type\": \"surface\"}], \"table\": [{\"cells\": {\"fill\": {\"color\": \"#EBF0F8\"}, \"line\": {\"color\": \"white\"}}, \"header\": {\"fill\": {\"color\": \"#C8D4E3\"}, \"line\": {\"color\": \"white\"}}, \"type\": \"table\"}]}, \"layout\": {\"annotationdefaults\": {\"arrowcolor\": \"#2a3f5f\", \"arrowhead\": 0, \"arrowwidth\": 1}, \"coloraxis\": {\"colorbar\": {\"outlinewidth\": 0, \"ticks\": \"\"}}, \"colorscale\": {\"diverging\": [[0, \"#8e0152\"], [0.1, \"#c51b7d\"], [0.2, \"#de77ae\"], [0.3, \"#f1b6da\"], [0.4, \"#fde0ef\"], [0.5, \"#f7f7f7\"], [0.6, \"#e6f5d0\"], [0.7, \"#b8e186\"], [0.8, \"#7fbc41\"], [0.9, \"#4d9221\"], [1, \"#276419\"]], \"sequential\": [[0.0, \"#0d0887\"], [0.1111111111111111, \"#46039f\"], [0.2222222222222222, \"#7201a8\"], [0.3333333333333333, \"#9c179e\"], [0.4444444444444444, \"#bd3786\"], [0.5555555555555556, \"#d8576b\"], [0.6666666666666666, \"#ed7953\"], [0.7777777777777778, \"#fb9f3a\"], [0.8888888888888888, \"#fdca26\"], [1.0, \"#f0f921\"]], \"sequentialminus\": [[0.0, \"#0d0887\"], [0.1111111111111111, \"#46039f\"], [0.2222222222222222, \"#7201a8\"], [0.3333333333333333, \"#9c179e\"], [0.4444444444444444, \"#bd3786\"], [0.5555555555555556, \"#d8576b\"], [0.6666666666666666, \"#ed7953\"], [0.7777777777777778, \"#fb9f3a\"], [0.8888888888888888, \"#fdca26\"], [1.0, \"#f0f921\"]]}, \"colorway\": [\"#636efa\", \"#EF553B\", \"#00cc96\", \"#ab63fa\", \"#FFA15A\", \"#19d3f3\", \"#FF6692\", \"#B6E880\", \"#FF97FF\", \"#FECB52\"], \"font\": {\"color\": \"#2a3f5f\"}, \"geo\": {\"bgcolor\": \"white\", \"lakecolor\": \"white\", \"landcolor\": \"#E5ECF6\", \"showlakes\": true, \"showland\": true, \"subunitcolor\": \"white\"}, \"hoverlabel\": {\"align\": \"left\"}, \"hovermode\": \"closest\", \"mapbox\": {\"style\": \"light\"}, \"paper_bgcolor\": \"white\", \"plot_bgcolor\": \"#E5ECF6\", \"polar\": {\"angularaxis\": {\"gridcolor\": \"white\", \"linecolor\": \"white\", \"ticks\": \"\"}, \"bgcolor\": \"#E5ECF6\", \"radialaxis\": {\"gridcolor\": \"white\", \"linecolor\": \"white\", \"ticks\": \"\"}}, \"scene\": {\"xaxis\": {\"backgroundcolor\": \"#E5ECF6\", \"gridcolor\": \"white\", \"gridwidth\": 2, \"linecolor\": \"white\", \"showbackground\": true, \"ticks\": \"\", \"zerolinecolor\": \"white\"}, \"yaxis\": {\"backgroundcolor\": \"#E5ECF6\", \"gridcolor\": \"white\", \"gridwidth\": 2, \"linecolor\": \"white\", \"showbackground\": true, \"ticks\": \"\", \"zerolinecolor\": \"white\"}, \"zaxis\": {\"backgroundcolor\": \"#E5ECF6\", \"gridcolor\": \"white\", \"gridwidth\": 2, \"linecolor\": \"white\", \"showbackground\": true, \"ticks\": \"\", \"zerolinecolor\": \"white\"}}, \"shapedefaults\": {\"line\": {\"color\": \"#2a3f5f\"}}, \"ternary\": {\"aaxis\": {\"gridcolor\": \"white\", \"linecolor\": \"white\", \"ticks\": \"\"}, \"baxis\": {\"gridcolor\": \"white\", \"linecolor\": \"white\", \"ticks\": \"\"}, \"bgcolor\": \"#E5ECF6\", \"caxis\": {\"gridcolor\": \"white\", \"linecolor\": \"white\", \"ticks\": \"\"}}, \"title\": {\"x\": 0.05}, \"xaxis\": {\"automargin\": true, \"gridcolor\": \"white\", \"linecolor\": \"white\", \"ticks\": \"\", \"title\": {\"standoff\": 15}, \"zerolinecolor\": \"white\", \"zerolinewidth\": 2}, \"yaxis\": {\"automargin\": true, \"gridcolor\": \"white\", \"linecolor\": \"white\", \"ticks\": \"\", \"title\": {\"standoff\": 15}, \"zerolinecolor\": \"white\", \"zerolinewidth\": 2}}}, \"title\": {\"text\": \"Cumulative percentage of deceased\"}, \"updatemenus\": [{\"active\": 0, \"buttons\": [{\"args\": [{\"visible\": [true, false]}, {\"showlegend\": false, \"title\": \"Cumulative percentage of deceased over tested population\"}], \"label\": \"Tested Pop.\", \"method\": \"update\"}, {\"args\": [{\"visible\": [false, true]}, {\"showlegend\": false, \"title\": \"Cumulative percentage of deceased over positive cases\"}], \"label\": \"Positive Pop.\", \"method\": \"update\"}]}], \"width\": 900, \"xaxis\": {\"title\": {\"text\": \"Number of days since first test (2020-01-20)\"}}, \"yaxis\": {\"title\": {\"text\": \"Percentage\"}}},\n",
       "                        {\"responsive\": true}\n",
       "                    ).then(function(){\n",
       "                            \n",
       "var gd = document.getElementById('36c310d5-6b2d-433d-9393-3d7490f27ba9');\n",
       "var x = new MutationObserver(function (mutations, observer) {{\n",
       "        var display = window.getComputedStyle(gd).display;\n",
       "        if (!display || display === 'none') {{\n",
       "            console.log([gd, 'removed!']);\n",
       "            Plotly.purge(gd);\n",
       "            observer.disconnect();\n",
       "        }}\n",
       "}});\n",
       "\n",
       "// Listen for the removal of the full notebook cells\n",
       "var notebookContainer = gd.closest('#notebook-container');\n",
       "if (notebookContainer) {{\n",
       "    x.observe(notebookContainer, {childList: true});\n",
       "}}\n",
       "\n",
       "// Listen for the clearing of the current output cell\n",
       "var outputEl = gd.closest('.output');\n",
       "if (outputEl) {{\n",
       "    x.observe(outputEl, {childList: true});\n",
       "}}\n",
       "\n",
       "                        })\n",
       "                };\n",
       "                });\n",
       "            </script>\n",
       "        </div>"
      ]
     },
     "metadata": {},
     "output_type": "display_data"
    }
   ],
   "source": [
    "layout = go.Layout(\n",
    "    title_text = \"Cumulative percentage of deceased\",\n",
    "    yaxis_title=\"Percentage\",\n",
    "    xaxis_title='Number of days since first test ({:})'.format(timedf.date.min().date()),\n",
    "    width=900, \n",
    "    height=500, hovermode='x unified'\n",
    ")\n",
    "\n",
    "fig = go.Figure(layout=layout)\n",
    "\n",
    "fig.add_trace(go.Scatter(x = timedf.days_since0, y = round(timedf.deceased/timedf.test*100,5),name = \"Deceased\",\n",
    "                         line=dict(color='red', width=2)))\n",
    "\n",
    "\n",
    "fig.add_trace(go.Scatter(x = timedf.days_since0, y = round(timedf.deceased/timedf.confirmed*100,5), visible = False,\n",
    "                         name = \"Deceased\",\n",
    "                         line=dict(color='red', width=2)))\n",
    "\n",
    "    \n",
    "fig.update_layout(\n",
    "    updatemenus=[go.layout.Updatemenu(\n",
    "        active=0,\n",
    "        buttons=list(\n",
    "            [dict(label = 'Tested Pop.',\n",
    "                  method = 'update',\n",
    "                  args = [{'visible': [True, False]},\n",
    "                          {'title': 'Cumulative percentage of deceased over tested population',\n",
    "                           'showlegend':False}]),\n",
    "             dict(label = 'Positive Pop.',\n",
    "                  method = 'update',\n",
    "                  args = [{'visible': [False, True]},\n",
    "                          {'title': 'Cumulative percentage of deceased over positive cases',\n",
    "                           'showlegend':False}]),\n",
    "            ])\n",
    "        )\n",
    "    ])\n",
    "\n",
    "fig.show()"
   ]
  },
  {
   "cell_type": "markdown",
   "metadata": {},
   "source": [
    "Can you see the difference!? It's appaling! If you consider mortality as being the amount of people that die out of those who already have the disease, the number is a whopping 57 times bigger (2.3% vs. 0.04%) than the mortality when taking into account the whole tested population - the global mortality of the disease."
   ]
  },
  {
   "cell_type": "markdown",
   "metadata": {},
   "source": [
    "## What could have happened?"
   ]
  },
  {
   "cell_type": "markdown",
   "metadata": {},
   "source": [
    "Now that we have seen the dynamics of the disease with big numbers, let's try to explain why it behaved the way it did by using one more factor: goverment measures! The following plot will put into perspective the timing of South Korea's government actions and the daily variations of infected people:"
   ]
  },
  {
   "cell_type": "code",
   "execution_count": 30,
   "metadata": {},
   "outputs": [],
   "source": [
    "df = patInf.sort_values(by=['date']).reset_index(drop=True)\n",
    "\n",
    "#Removing entries without age, sex or province information (loss of 1.9% of total DB)\n",
    "df = df.dropna(subset=['age', 'sex','province'])\n",
    "df = pd.get_dummies(df, columns=['state'])"
   ]
  },
  {
   "cell_type": "code",
   "execution_count": 31,
   "metadata": {},
   "outputs": [],
   "source": [
    "# Setting new attribute of days since first action, adding the amount of days between first action and first datapoint\n",
    "# from df dataframe\n",
    "govMeas['days_since0'] = govMeas['DATE_IMPLEMENTED'].apply(lambda x: (x-govMeas.DATE_IMPLEMENTED.min()).days +\n",
    "                                                           (govMeas.DATE_IMPLEMENTED.min()-df.date.min()).days)\n",
    "govMeas = govMeas.sort_values(by=['days_since0'])"
   ]
  },
  {
   "cell_type": "code",
   "execution_count": 32,
   "metadata": {},
   "outputs": [
    {
     "data": {
      "image/png": "[encoded data removed]",
      "text/plain": [
       "<Figure size 1080x360 with 2 Axes>"
      ]
     },
     "metadata": {
      "needs_background": "light"
     },
     "output_type": "display_data"
    }
   ],
   "source": [
    "fig, ax1 = plt.subplots()\n",
    "\n",
    "# Creating left-hand y-axis, plotting percentage of new cases per total tested cases\n",
    "color = 'tab:red'\n",
    "ax1.set_xlabel('Number of days since first test ({:})'.format(timedf.date.min().date()))\n",
    "ax1.set_ylabel('New cases / tested (%)', color=color)\n",
    "ax1.set_ylim([0, 25])\n",
    "ax1.set_xlim([0,100])\n",
    "ax1.plot(timedf.days_since0, timedf.conf_on_day/timedf.test_on_day*100, color=color)\n",
    "ax1.tick_params(axis='y', labelcolor=color)\n",
    "\n",
    "# Creating right-hand y-axis, plotting new cases per day\n",
    "ax2 = ax1.twinx() \n",
    "color = 'tab:blue'\n",
    "ax2.set_ylabel('New cases', color=color)\n",
    "ax2.plot(timedf.days_since0, timedf.conf_on_day, color=color)\n",
    "ax2.tick_params(axis='y', labelcolor=color)\n",
    "ax2.set_ylim([0, 850])\n",
    "\n",
    "# Setting figure dimensions\n",
    "fig.set_figheight(5)\n",
    "fig.set_figwidth(15)\n",
    "\n",
    "# Setting tile\n",
    "plt.title('Government measures and confirmed cases daily evolution')\n",
    "\n",
    "# Creating a step to annotate government measures in cascade style\n",
    "step = timedf.conf_on_day.max()/len(govMeas)\n",
    "\n",
    "# Setting initial place and iteratable one\n",
    "init = timedf.conf_on_day.max()\n",
    "current = timedf.conf_on_day.max() + step\n",
    "\n",
    "# Making a vertical line and annotating its test on the left for each measure\n",
    "for cat,day in zip(govMeas.MEASURE,govMeas.days_since0):\n",
    "    current -= step\n",
    "    plt.axvline(linewidth=0.5, color='gray',x=day,ls='--')\n",
    "    plt.annotate(cat, xy=(day-0.1,current), verticalalignment='center', horizontalalignment='right',\n",
    "                annotation_clip=True)\n",
    "    \n",
    "plt.show()"
   ]
  },
  {
   "cell_type": "markdown",
   "metadata": {},
   "source": [
    "Okay, so what can we say about that plot? Like the butcher would say, let's go by parts (LOL):\n",
    "* The government seem to have acted fast, by the next day that mass testing started, schools were closed;\n",
    "* After this first action, 10 days of monitoring seem to have occured. Within those, although we can see a drastic reduction in new cases, the actions increase in frequency. Maybe it worked! Continuing seems like a good option;\n",
    "* From around day 50, when isolation and quarantines policies were implemented, the curve is pretty much stable, with some noise, up until day 75;\n",
    "* After day 75, the curve really starts going flat, enabling the government to, after a couple of weeks, implement relaxed social distancing, which does not seem to have caused a second wave up until day 101 (April 29th).\n",
    "\n",
    "It is hard to pinpoint what action was the most efficient one in reducing the new cases of the disease, since you can expect to see a delay between actions and result, if any. Nevertheless, we can make the assumption that the control of the disease was a success, and was probably due to fast acting by the government and population awareness (when your government closes schools, you know it is a serious matter!)."
   ]
  },
  {
   "cell_type": "markdown",
   "metadata": {},
   "source": [
    "## Geographical profile"
   ]
  },
  {
   "cell_type": "markdown",
   "metadata": {},
   "source": [
    "So now that we have seen the dimension of the big numbers for the country as whole, let's focus on how the disease spread through the territory. The plot below shows a movie with the days that have had any update of information since day 1, and red spots represent, obviously, the biggest percentage of sick people in that moment, taking into account the whole territory. You can zoom-in and out, hover your mouse above red spots to see what provinces are that we are dealing with, and control the frames per second to make the movie go faster (around 5 is usually good for visualizing). "
   ]
  },
  {
   "cell_type": "code",
   "execution_count": 33,
   "metadata": {},
   "outputs": [],
   "source": [
    "locs = patRou.groupby('province').mean().reset_index()[['province','latitude','longitude']]\n",
    "\n",
    "# Manually appending Sejong province, which was not on the dataset\n",
    "locs = locs.append({'province' : 'Sejong' , 'latitude' : 36.560407, 'longitude':127.258044} , ignore_index=True)"
   ]
  },
  {
   "cell_type": "code",
   "execution_count": 34,
   "metadata": {},
   "outputs": [],
   "source": [
    "# Creating a confirmed attribute from the other 3\n",
    "df['Confirmed'] = df['state_deceased'] + df['state_isolated'] + df['state_released']\n",
    "\n",
    "# Grouping by date and province\n",
    "temp = df.groupby(['date','province']).sum().reset_index()[['province','date','state_deceased',\n",
    "                                                            'state_isolated','state_released','Confirmed',]]\n",
    "\n",
    "temp = temp.rename(columns={'state_deceased':'Deceased',\n",
    "                                  'state_isolated':'Isolated',\n",
    "                                  'state_released':'Released'})\n",
    "\n",
    "df_plot = pd.DataFrame(columns=temp.columns)\n",
    "\n",
    "# Getting the cumulative sum for each state by date and province\n",
    "for province in temp.province.unique():\n",
    "    temp2 = temp[temp['province']==province]\n",
    "    temp2['Confirmed'] = temp2['Confirmed'].cumsum()\n",
    "    temp2['Released'] = temp2['Released'].cumsum()\n",
    "    temp2['Deceased'] = temp2['Deceased'].cumsum()\n",
    "    temp2['Isolated'] = temp2['Isolated'].cumsum()\n",
    "    df_plot = df_plot.append(temp2, ignore_index=True)\n",
    "\n",
    "# Merging the locations with the data so that geo-plots are possible\n",
    "df_plot = pd.merge(df_plot,locs,on='province',how='outer')\n",
    "df_plot = df_plot.sort_values(by=['date'])"
   ]
  },
  {
   "cell_type": "code",
   "execution_count": 35,
   "metadata": {},
   "outputs": [
    {
     "data": {
      "text/html": [
       "<div style=\"width:100%;\"><div style=\"position:relative;width:100%;height:0;padding-bottom:60%;\"><iframe src=\"about:blank\" style=\"position:absolute;width:100%;height:100%;left:0;top:0;border:none !important;\" data-html=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 onload=\"this.contentDocument.open();this.contentDocument.write(atob(this.getAttribute('data-html')));this.contentDocument.close();\" allowfullscreen webkitallowfullscreen mozallowfullscreen></iframe></div></div>"
      ],
      "text/plain": [
       "<folium.folium.Map at 0x2314617b240>"
      ]
     },
     "execution_count": 35,
     "metadata": {},
     "output_type": "execute_result"
    }
   ],
   "source": [
    "# list where, for each time, coordinates will have the amount of occurrences\n",
    "df_time_list = []\n",
    "\n",
    "# Adding both present and past numbers so that the spatio-temporal plot is not only a picture of the current moment,\n",
    "# but rather and evolution that stores values from past times.\n",
    "for time in df_plot.date.sort_values().unique():\n",
    "    df_time_list.append(df_plot.loc[df_plot.date <= time, ['latitude', 'longitude', 'Confirmed']].groupby([\n",
    "        'latitude','longitude']).sum().reset_index().values.tolist())\n",
    "\n",
    "mapSK = folium.Map(location=(35.5,128), zoom_start=7, tiles='Stamen Terrain',height=600,widht=800)\n",
    "\n",
    "# Adding circles to mark the provinces with hovering interactivity\n",
    "for province in locs.province:\n",
    "    folium.Circle(radius=1, location=[locs[locs['province']==province].latitude, \n",
    "                                        locs[locs['province']==province].longitude],\n",
    "                  tooltip=province,color='crimson', fill=True,).add_to(mapSK)\n",
    "\n",
    "# Create heatmap with movie\n",
    "HeatMapWithTime(df_time_list, radius=45, gradient={0.2: 'blue', 0.4: 'lime', 0.7: 'orange', 1: 'red'},\n",
    "                min_opacity=0.3, max_opacity=0.9, use_local_extrema=True).add_to(mapSK)\n",
    "\n",
    "# Display movie\n",
    "mapSK"
   ]
  },
  {
   "cell_type": "markdown",
   "metadata": {},
   "source": [
    "Very cool! We can see that the first person diagnosed with COVID-19 was from Incheon. The disease then spreaded to Seoul, also popping more to the south. Around day 20 the hottest spot moves to Daegu, and then to a place right to the north of it. From day 30 the plot does not change much anymore, since most places are now varying by the same amount."
   ]
  },
  {
   "cell_type": "markdown",
   "metadata": {},
   "source": [
    "A more geeky way of looking at the same data, with more layers, can be seen below. Press play, sit back, and enjoy those bars moving around =D. Oh! Don't forget to hover your mouse over the bars to get all the data from that moment, like the number of isolated, released, deceased and confirmed people."
   ]
  },
  {
   "cell_type": "code",
   "execution_count": 38,
   "metadata": {},
   "outputs": [],
   "source": [
    "df_plot['date'] = pd.to_datetime(df_plot['date'], format='%Y-%m-%d')"
   ]
  },
  {
   "cell_type": "code",
   "execution_count": 39,
   "metadata": {},
   "outputs": [],
   "source": [
    "df_plot = df_plot.set_index(['province', 'date']).reindex(pd.MultiIndex.from_product([df_plot['province'].unique(), df_plot['date'].unique()], \n",
    "                                       names=['province', 'date']))"
   ]
  },
  {
   "cell_type": "code",
   "execution_count": 40,
   "metadata": {},
   "outputs": [],
   "source": [
    "df_plot = df_plot.groupby(level='province').ffill().dropna().sort_index(level='date').reset_index()"
   ]
  },
  {
   "cell_type": "code",
   "execution_count": 41,
   "metadata": {},
   "outputs": [],
   "source": [
    "df_plot['Days'] = df_plot['date'].apply(lambda x: (x-df_plot.date.min()).days)"
   ]
  },
  {
   "cell_type": "code",
   "execution_count": 42,
   "metadata": {},
   "outputs": [
    {
     "data": {
      "application/vnd.plotly.v1+json": {
       "config": {
        "plotlyServerURL": "https://plot.ly"
       },
       "data": [
        {
         "alignmentgroup": "True",
         "customdata": [
          [
           1,
           0,
           1,
           0
          ]
         ],
         "hovertemplate": "<b>%{hovertext}</b><br><br>Days=0<br>province=%{x}<br>Confirmed=%{customdata[0]}<br>Isolated=%{customdata[1]}<br>Released=%{customdata[2]}<br>Deceased=%{customdata[3]}<extra></extra>",
         "hovertext": [
          "Incheon"
         ],
         "ids": [
          "Incheon"
         ],
         "legendgroup": "",
         "marker": {
          "color": "#636efa",
          "opacity": 0.75
         },
         "name": "",
         "offsetgroup": "",
         "orientation": "v",
         "showlegend": false,
         "textposition": "auto",
         "type": "bar",
         "x": [
          "Incheon"
         ],
         "xaxis": "x",
         "y": [
          1
         ],
         "yaxis": "y"
        }
       ],
       "frames": [
        {
         "data": [
          {
           "alignmentgroup": "True",
           "customdata": [
            [
             1,
             0,
             1,
             0
            ]
           ],
           "hovertemplate": "<b>%{hovertext}</b><br><br>Days=0<br>province=%{x}<br>Confirmed=%{customdata[0]}<br>Isolated=%{customdata[1]}<br>Released=%{customdata[2]}<br>Deceased=%{customdata[3]}<extra></extra>",
           "hovertext": [
            "Incheon"
           ],
           "ids": [
            "Incheon"
           ],
           "legendgroup": "",
           "marker": {
            "color": "#636efa",
            "opacity": 0.75
           },
           "name": "",
           "offsetgroup": "",
           "orientation": "v",
           "showlegend": false,
           "textposition": "auto",
           "type": "bar",
           "x": [
            "Incheon"
           ],
           "xaxis": "x",
           "y": [
            1
           ],
           "yaxis": "y"
          }
         ],
         "name": "0"
        },
        {
         "data": [
          {
           "alignmentgroup": "True",
           "customdata": [
            [
             1,
             0,
             1,
             0
            ],
            [
             1,
             0,
             1,
             0
            ]
           ],
           "hovertemplate": "<b>%{hovertext}</b><br><br>Days=3<br>province=%{x}<br>Confirmed=%{customdata[0]}<br>Isolated=%{customdata[1]}<br>Released=%{customdata[2]}<br>Deceased=%{customdata[3]}<extra></extra>",
           "hovertext": [
            "Incheon",
            "Seoul"
           ],
           "ids": [
            "Incheon",
            "Seoul"
           ],
           "legendgroup": "",
           "marker": {
            "color": "#636efa",
            "opacity": 0.75
           },
           "name": "",
           "offsetgroup": "",
           "orientation": "v",
           "showlegend": false,
           "textposition": "auto",
           "type": "bar",
           "x": [
            "Incheon",
            "Seoul"
           ],
           "xaxis": "x",
           "y": [
            1,
            1
           ],
           "yaxis": "y"
          }
         ],
         "name": "3"
        },
        {
         "data": [
          {
           "alignmentgroup": "True",
           "customdata": [
            [
             1,
             0,
             1,
             0
            ],
            [
             1,
             0,
             1,
             0
            ],
            [
             1,
             0,
             1,
             0
            ]
           ],
           "hovertemplate": "<b>%{hovertext}</b><br><br>Days=6<br>province=%{x}<br>Confirmed=%{customdata[0]}<br>Isolated=%{customdata[1]}<br>Released=%{customdata[2]}<br>Deceased=%{customdata[3]}<extra></extra>",
           "hovertext": [
            "Gyeonggi-do",
            "Incheon",
            "Seoul"
           ],
           "ids": [
            "Gyeonggi-do",
            "Incheon",
            "Seoul"
           ],
           "legendgroup": "",
           "marker": {
            "color": "#636efa",
            "opacity": 0.75
           },
           "name": "",
           "offsetgroup": "",
           "orientation": "v",
           "showlegend": false,
           "textposition": "auto",
           "type": "bar",
           "x": [
            "Gyeonggi-do",
            "Incheon",
            "Seoul"
           ],
           "xaxis": "x",
           "y": [
            1,
            1,
            1
           ],
           "yaxis": "y"
          }
         ],
         "name": "6"
        },
        {
         "data": [
          {
           "alignmentgroup": "True",
           "customdata": [
            [
             2,
             0,
             2,
             0
            ],
            [
             1,
             0,
             1,
             0
            ],
            [
             1,
             0,
             1,
             0
            ]
           ],
           "hovertemplate": "<b>%{hovertext}</b><br><br>Days=7<br>province=%{x}<br>Confirmed=%{customdata[0]}<br>Isolated=%{customdata[1]}<br>Released=%{customdata[2]}<br>Deceased=%{customdata[3]}<extra></extra>",
           "hovertext": [
            "Gyeonggi-do",
            "Incheon",
            "Seoul"
           ],
           "ids": [
            "Gyeonggi-do",
            "Incheon",
            "Seoul"
           ],
           "legendgroup": "",
           "marker": {
            "color": "#636efa",
            "opacity": 0.75
           },
           "name": "",
           "offsetgroup": "",
           "orientation": "v",
           "showlegend": false,
           "textposition": "auto",
           "type": "bar",
           "x": [
            "Gyeonggi-do",
            "Incheon",
            "Seoul"
           ],
           "xaxis": "x",
           "y": [
            2,
            1,
            1
           ],
           "yaxis": "y"
          }
         ],
         "name": "7"
        },
        {
         "data": [
          {
           "alignmentgroup": "True",
           "customdata": [
            [
             2,
             0,
             2,
             0
            ],
            [
             1,
             0,
             1,
             0
            ],
            [
             4,
             0,
             4,
             0
            ]
           ],
           "hovertemplate": "<b>%{hovertext}</b><br><br>Days=10<br>province=%{x}<br>Confirmed=%{customdata[0]}<br>Isolated=%{customdata[1]}<br>Released=%{customdata[2]}<br>Deceased=%{customdata[3]}<extra></extra>",
           "hovertext": [
            "Gyeonggi-do",
            "Incheon",
            "Seoul"
           ],
           "ids": [
            "Gyeonggi-do",
            "Incheon",
            "Seoul"
           ],
           "legendgroup": "",
           "marker": {
            "color": "#636efa",
            "opacity": 0.75
           },
           "name": "",
           "offsetgroup": "",
           "orientation": "v",
           "showlegend": false,
           "textposition": "auto",
           "type": "bar",
           "x": [
            "Gyeonggi-do",
            "Incheon",
            "Seoul"
           ],
           "xaxis": "x",
           "y": [
            2,
            1,
            4
           ],
           "yaxis": "y"
          }
         ],
         "name": "10"
        },
        {
         "data": [
          {
           "alignmentgroup": "True",
           "customdata": [
            [
             2,
             0,
             2,
             0
            ],
            [
             1,
             0,
             1,
             0
            ],
            [
             1,
             0,
             1,
             0
            ],
            [
             7,
             0,
             7,
             0
            ]
           ],
           "hovertemplate": "<b>%{hovertext}</b><br><br>Days=11<br>province=%{x}<br>Confirmed=%{customdata[0]}<br>Isolated=%{customdata[1]}<br>Released=%{customdata[2]}<br>Deceased=%{customdata[3]}<extra></extra>",
           "hovertext": [
            "Gyeonggi-do",
            "Incheon",
            "Jeollabuk-do",
            "Seoul"
           ],
           "ids": [
            "Gyeonggi-do",
            "Incheon",
            "Jeollabuk-do",
            "Seoul"
           ],
           "legendgroup": "",
           "marker": {
            "color": "#636efa",
            "opacity": 0.75
           },
           "name": "",
           "offsetgroup": "",
           "orientation": "v",
           "showlegend": false,
           "textposition": "auto",
           "type": "bar",
           "x": [
            "Gyeonggi-do",
            "Incheon",
            "Jeollabuk-do",
            "Seoul"
           ],
           "xaxis": "x",
           "y": [
            2,
            1,
            1,
            7
           ],
           "yaxis": "y"
          }
         ],
         "name": "11"
        },
        {
         "data": [
          {
           "alignmentgroup": "True",
           "customdata": [
            [
             3,
             0,
             3,
             0
            ],
            [
             1,
             0,
             1,
             0
            ],
            [
             1,
             0,
             1,
             0
            ],
            [
             7,
             0,
             7,
             0
            ]
           ],
           "hovertemplate": "<b>%{hovertext}</b><br><br>Days=12<br>province=%{x}<br>Confirmed=%{customdata[0]}<br>Isolated=%{customdata[1]}<br>Released=%{customdata[2]}<br>Deceased=%{customdata[3]}<extra></extra>",
           "hovertext": [
            "Gyeonggi-do",
            "Incheon",
            "Jeollabuk-do",
            "Seoul"
           ],
           "ids": [
            "Gyeonggi-do",
            "Incheon",
            "Jeollabuk-do",
            "Seoul"
           ],
           "legendgroup": "",
           "marker": {
            "color": "#636efa",
            "opacity": 0.75
           },
           "name": "",
           "offsetgroup": "",
           "orientation": "v",
           "showlegend": false,
           "textposition": "auto",
           "type": "bar",
           "x": [
            "Gyeonggi-do",
            "Incheon",
            "Jeollabuk-do",
            "Seoul"
           ],
           "xaxis": "x",
           "y": [
            3,
            1,
            1,
            7
           ],
           "yaxis": "y"
          }
         ],
         "name": "12"
        },
        {
         "data": [
          {
           "alignmentgroup": "True",
           "customdata": [
            [
             5,
             0,
             5,
             0
            ],
            [
             1,
             0,
             1,
             0
            ],
            [
             1,
             0,
             1,
             0
            ],
            [
             8,
             0,
             8,
             0
            ]
           ],
           "hovertemplate": "<b>%{hovertext}</b><br><br>Days=13<br>province=%{x}<br>Confirmed=%{customdata[0]}<br>Isolated=%{customdata[1]}<br>Released=%{customdata[2]}<br>Deceased=%{customdata[3]}<extra></extra>",
           "hovertext": [
            "Gyeonggi-do",
            "Incheon",
            "Jeollabuk-do",
            "Seoul"
           ],
           "ids": [
            "Gyeonggi-do",
            "Incheon",
            "Jeollabuk-do",
            "Seoul"
           ],
           "legendgroup": "",
           "marker": {
            "color": "#636efa",
            "opacity": 0.75
           },
           "name": "",
           "offsetgroup": "",
           "orientation": "v",
           "showlegend": false,
           "textposition": "auto",
           "type": "bar",
           "x": [
            "Gyeonggi-do",
            "Incheon",
            "Jeollabuk-do",
            "Seoul"
           ],
           "xaxis": "x",
           "y": [
            5,
            1,
            1,
            8
           ],
           "yaxis": "y"
          }
         ],
         "name": "13"
        },
        {
         "data": [
          {
           "alignmentgroup": "True",
           "customdata": [
            [
             1,
             0,
             1,
             0
            ],
            [
             5,
             0,
             5,
             0
            ],
            [
             1,
             0,
             1,
             0
            ],
            [
             1,
             0,
             1,
             0
            ],
            [
             8,
             0,
             8,
             0
            ]
           ],
           "hovertemplate": "<b>%{hovertext}</b><br><br>Days=14<br>province=%{x}<br>Confirmed=%{customdata[0]}<br>Isolated=%{customdata[1]}<br>Released=%{customdata[2]}<br>Deceased=%{customdata[3]}<extra></extra>",
           "hovertext": [
            "Gwangju",
            "Gyeonggi-do",
            "Incheon",
            "Jeollabuk-do",
            "Seoul"
           ],
           "ids": [
            "Gwangju",
            "Gyeonggi-do",
            "Incheon",
            "Jeollabuk-do",
            "Seoul"
           ],
           "legendgroup": "",
           "marker": {
            "color": "#636efa",
            "opacity": 0.75
           },
           "name": "",
           "offsetgroup": "",
           "orientation": "v",
           "showlegend": false,
           "textposition": "auto",
           "type": "bar",
           "x": [
            "Gwangju",
            "Gyeonggi-do",
            "Incheon",
            "Jeollabuk-do",
            "Seoul"
           ],
           "xaxis": "x",
           "y": [
            1,
            5,
            1,
            1,
            8
           ],
           "yaxis": "y"
          }
         ],
         "name": "14"
        },
        {
         "data": [
          {
           "alignmentgroup": "True",
           "customdata": [
            [
             2,
             0,
             2,
             0
            ],
            [
             7,
             0,
             7,
             0
            ],
            [
             1,
             0,
             1,
             0
            ],
            [
             1,
             0,
             1,
             0
            ],
            [
             10,
             0,
             10,
             0
            ]
           ],
           "hovertemplate": "<b>%{hovertext}</b><br><br>Days=16<br>province=%{x}<br>Confirmed=%{customdata[0]}<br>Isolated=%{customdata[1]}<br>Released=%{customdata[2]}<br>Deceased=%{customdata[3]}<extra></extra>",
           "hovertext": [
            "Gwangju",
            "Gyeonggi-do",
            "Incheon",
            "Jeollabuk-do",
            "Seoul"
           ],
           "ids": [
            "Gwangju",
            "Gyeonggi-do",
            "Incheon",
            "Jeollabuk-do",
            "Seoul"
           ],
           "legendgroup": "",
           "marker": {
            "color": "#636efa",
            "opacity": 0.75
           },
           "name": "",
           "offsetgroup": "",
           "orientation": "v",
           "showlegend": false,
           "textposition": "auto",
           "type": "bar",
           "x": [
            "Gwangju",
            "Gyeonggi-do",
            "Incheon",
            "Jeollabuk-do",
            "Seoul"
           ],
           "xaxis": "x",
           "y": [
            2,
            7,
            1,
            1,
            10
           ],
           "yaxis": "y"
          }
         ],
         "name": "16"
        },
        {
         "data": [
          {
           "alignmentgroup": "True",
           "customdata": [
            [
             2,
             0,
             2,
             0
            ],
            [
             7,
             0,
             7,
             0
            ],
            [
             1,
             0,
             1,
             0
            ],
            [
             1,
             0,
             1,
             0
            ],
            [
             1,
             0,
             1,
             0
            ],
            [
             11,
             0,
             11,
             0
            ]
           ],
           "hovertemplate": "<b>%{hovertext}</b><br><br>Days=17<br>province=%{x}<br>Confirmed=%{customdata[0]}<br>Isolated=%{customdata[1]}<br>Released=%{customdata[2]}<br>Deceased=%{customdata[3]}<extra></extra>",
           "hovertext": [
            "Gwangju",
            "Gyeonggi-do",
            "Incheon",
            "Jeollabuk-do",
            "Jeollanam-do",
            "Seoul"
           ],
           "ids": [
            "Gwangju",
            "Gyeonggi-do",
            "Incheon",
            "Jeollabuk-do",
            "Jeollanam-do",
            "Seoul"
           ],
           "legendgroup": "",
           "marker": {
            "color": "#636efa",
            "opacity": 0.75
           },
           "name": "",
           "offsetgroup": "",
           "orientation": "v",
           "showlegend": false,
           "textposition": "auto",
           "type": "bar",
           "x": [
            "Gwangju",
            "Gyeonggi-do",
            "Incheon",
            "Jeollabuk-do",
            "Jeollanam-do",
            "Seoul"
           ],
           "xaxis": "x",
           "y": [
            2,
            7,
            1,
            1,
            1,
            11
           ],
           "yaxis": "y"
          }
         ],
         "name": "17"
        },
        {
         "data": [
          {
           "alignmentgroup": "True",
           "customdata": [
            [
             2,
             0,
             2,
             0
            ],
            [
             7,
             0,
             7,
             0
            ],
            [
             1,
             0,
             1,
             0
            ],
            [
             1,
             0,
             1,
             0
            ],
            [
             1,
             0,
             1,
             0
            ],
            [
             12,
             0,
             12,
             0
            ]
           ],
           "hovertemplate": "<b>%{hovertext}</b><br><br>Days=18<br>province=%{x}<br>Confirmed=%{customdata[0]}<br>Isolated=%{customdata[1]}<br>Released=%{customdata[2]}<br>Deceased=%{customdata[3]}<extra></extra>",
           "hovertext": [
            "Gwangju",
            "Gyeonggi-do",
            "Incheon",
            "Jeollabuk-do",
            "Jeollanam-do",
            "Seoul"
           ],
           "ids": [
            "Gwangju",
            "Gyeonggi-do",
            "Incheon",
            "Jeollabuk-do",
            "Jeollanam-do",
            "Seoul"
           ],
           "legendgroup": "",
           "marker": {
            "color": "#636efa",
            "opacity": 0.75
           },
           "name": "",
           "offsetgroup": "",
           "orientation": "v",
           "showlegend": false,
           "textposition": "auto",
           "type": "bar",
           "x": [
            "Gwangju",
            "Gyeonggi-do",
            "Incheon",
            "Jeollabuk-do",
            "Jeollanam-do",
            "Seoul"
           ],
           "xaxis": "x",
           "y": [
            2,
            7,
            1,
            1,
            1,
            12
           ],
           "yaxis": "y"
          }
         ],
         "name": "18"
        },
        {
         "data": [
          {
           "alignmentgroup": "True",
           "customdata": [
            [
             2,
             0,
             2,
             0
            ],
            [
             10,
             1,
             9,
             0
            ],
            [
             1,
             0,
             1,
             0
            ],
            [
             1,
             0,
             1,
             0
            ],
            [
             1,
             0,
             1,
             0
            ],
            [
             12,
             0,
             12,
             0
            ]
           ],
           "hovertemplate": "<b>%{hovertext}</b><br><br>Days=20<br>province=%{x}<br>Confirmed=%{customdata[0]}<br>Isolated=%{customdata[1]}<br>Released=%{customdata[2]}<br>Deceased=%{customdata[3]}<extra></extra>",
           "hovertext": [
            "Gwangju",
            "Gyeonggi-do",
            "Incheon",
            "Jeollabuk-do",
            "Jeollanam-do",
            "Seoul"
           ],
           "ids": [
            "Gwangju",
            "Gyeonggi-do",
            "Incheon",
            "Jeollabuk-do",
            "Jeollanam-do",
            "Seoul"
           ],
           "legendgroup": "",
           "marker": {
            "color": "#636efa",
            "opacity": 0.75
           },
           "name": "",
           "offsetgroup": "",
           "orientation": "v",
           "showlegend": false,
           "textposition": "auto",
           "type": "bar",
           "x": [
            "Gwangju",
            "Gyeonggi-do",
            "Incheon",
            "Jeollabuk-do",
            "Jeollanam-do",
            "Seoul"
           ],
           "xaxis": "x",
           "y": [
            2,
            10,
            1,
            1,
            1,
            12
           ],
           "yaxis": "y"
          }
         ],
         "name": "20"
        },
        {
         "data": [
          {
           "alignmentgroup": "True",
           "customdata": [
            [
             2,
             0,
             2,
             0
            ],
            [
             11,
             1,
             10,
             0
            ],
            [
             1,
             0,
             1,
             0
            ],
            [
             1,
             0,
             1,
             0
            ],
            [
             1,
             0,
             1,
             0
            ],
            [
             12,
             0,
             12,
             0
            ]
           ],
           "hovertemplate": "<b>%{hovertext}</b><br><br>Days=21<br>province=%{x}<br>Confirmed=%{customdata[0]}<br>Isolated=%{customdata[1]}<br>Released=%{customdata[2]}<br>Deceased=%{customdata[3]}<extra></extra>",
           "hovertext": [
            "Gwangju",
            "Gyeonggi-do",
            "Incheon",
            "Jeollabuk-do",
            "Jeollanam-do",
            "Seoul"
           ],
           "ids": [
            "Gwangju",
            "Gyeonggi-do",
            "Incheon",
            "Jeollabuk-do",
            "Jeollanam-do",
            "Seoul"
           ],
           "legendgroup": "",
           "marker": {
            "color": "#636efa",
            "opacity": 0.75
           },
           "name": "",
           "offsetgroup": "",
           "orientation": "v",
           "showlegend": false,
           "textposition": "auto",
           "type": "bar",
           "x": [
            "Gwangju",
            "Gyeonggi-do",
            "Incheon",
            "Jeollabuk-do",
            "Jeollanam-do",
            "Seoul"
           ],
           "xaxis": "x",
           "y": [
            2,
            11,
            1,
            1,
            1,
            12
           ],
           "yaxis": "y"
          }
         ],
         "name": "21"
        },
        {
         "data": [
          {
           "alignmentgroup": "True",
           "customdata": [
            [
             2,
             0,
             2,
             0
            ],
            [
             11,
             1,
             10,
             0
            ],
            [
             1,
             0,
             1,
             0
            ],
            [
             1,
             0,
             1,
             0
            ],
            [
             1,
             0,
             1,
             0
            ],
            [
             14,
             0,
             14,
             0
            ]
           ],
           "hovertemplate": "<b>%{hovertext}</b><br><br>Days=27<br>province=%{x}<br>Confirmed=%{customdata[0]}<br>Isolated=%{customdata[1]}<br>Released=%{customdata[2]}<br>Deceased=%{customdata[3]}<extra></extra>",
           "hovertext": [
            "Gwangju",
            "Gyeonggi-do",
            "Incheon",
            "Jeollabuk-do",
            "Jeollanam-do",
            "Seoul"
           ],
           "ids": [
            "Gwangju",
            "Gyeonggi-do",
            "Incheon",
            "Jeollabuk-do",
            "Jeollanam-do",
            "Seoul"
           ],
           "legendgroup": "",
           "marker": {
            "color": "#636efa",
            "opacity": 0.75
           },
           "name": "",
           "offsetgroup": "",
           "orientation": "v",
           "showlegend": false,
           "textposition": "auto",
           "type": "bar",
           "x": [
            "Gwangju",
            "Gyeonggi-do",
            "Incheon",
            "Jeollabuk-do",
            "Jeollanam-do",
            "Seoul"
           ],
           "xaxis": "x",
           "y": [
            2,
            11,
            1,
            1,
            1,
            14
           ],
           "yaxis": "y"
          }
         ],
         "name": "27"
        },
        {
         "data": [
          {
           "alignmentgroup": "True",
           "customdata": [
            [
             6,
             5,
             0,
             1
            ],
            [
             2,
             0,
             2,
             0
            ],
            [
             12,
             1,
             11,
             0
            ],
            [
             2,
             0,
             2,
             0
            ],
            [
             1,
             0,
             1,
             0
            ],
            [
             1,
             0,
             1,
             0
            ],
            [
             1,
             0,
             1,
             0
            ],
            [
             14,
             0,
             14,
             0
            ]
           ],
           "hovertemplate": "<b>%{hovertext}</b><br><br>Days=29<br>province=%{x}<br>Confirmed=%{customdata[0]}<br>Isolated=%{customdata[1]}<br>Released=%{customdata[2]}<br>Deceased=%{customdata[3]}<extra></extra>",
           "hovertext": [
            "Daegu",
            "Gwangju",
            "Gyeonggi-do",
            "Gyeongsangbuk-do",
            "Incheon",
            "Jeollabuk-do",
            "Jeollanam-do",
            "Seoul"
           ],
           "ids": [
            "Daegu",
            "Gwangju",
            "Gyeonggi-do",
            "Gyeongsangbuk-do",
            "Incheon",
            "Jeollabuk-do",
            "Jeollanam-do",
            "Seoul"
           ],
           "legendgroup": "",
           "marker": {
            "color": "#636efa",
            "opacity": 0.75
           },
           "name": "",
           "offsetgroup": "",
           "orientation": "v",
           "showlegend": false,
           "textposition": "auto",
           "type": "bar",
           "x": [
            "Daegu",
            "Gwangju",
            "Gyeonggi-do",
            "Gyeongsangbuk-do",
            "Incheon",
            "Jeollabuk-do",
            "Jeollanam-do",
            "Seoul"
           ],
           "xaxis": "x",
           "y": [
            6,
            2,
            12,
            2,
            1,
            1,
            1,
            14
           ],
           "yaxis": "y"
          }
         ],
         "name": "29"
        },
        {
         "data": [
          {
           "alignmentgroup": "True",
           "customdata": [
            [
             26,
             21,
             4,
             1
            ],
            [
             2,
             0,
             2,
             0
            ],
            [
             12,
             1,
             11,
             0
            ],
            [
             8,
             0,
             6,
             2
            ],
            [
             1,
             0,
             1,
             0
            ],
            [
             1,
             0,
             1,
             0
            ],
            [
             1,
             0,
             1,
             0
            ],
            [
             16,
             1,
             15,
             0
            ]
           ],
           "hovertemplate": "<b>%{hovertext}</b><br><br>Days=30<br>province=%{x}<br>Confirmed=%{customdata[0]}<br>Isolated=%{customdata[1]}<br>Released=%{customdata[2]}<br>Deceased=%{customdata[3]}<extra></extra>",
           "hovertext": [
            "Daegu",
            "Gwangju",
            "Gyeonggi-do",
            "Gyeongsangbuk-do",
            "Incheon",
            "Jeollabuk-do",
            "Jeollanam-do",
            "Seoul"
           ],
           "ids": [
            "Daegu",
            "Gwangju",
            "Gyeonggi-do",
            "Gyeongsangbuk-do",
            "Incheon",
            "Jeollabuk-do",
            "Jeollanam-do",
            "Seoul"
           ],
           "legendgroup": "",
           "marker": {
            "color": "#636efa",
            "opacity": 0.75
           },
           "name": "",
           "offsetgroup": "",
           "orientation": "v",
           "showlegend": false,
           "textposition": "auto",
           "type": "bar",
           "x": [
            "Daegu",
            "Gwangju",
            "Gyeonggi-do",
            "Gyeongsangbuk-do",
            "Incheon",
            "Jeollabuk-do",
            "Jeollanam-do",
            "Seoul"
           ],
           "xaxis": "x",
           "y": [
            26,
            2,
            12,
            8,
            1,
            1,
            1,
            16
           ],
           "yaxis": "y"
          }
         ],
         "name": "30"
        },
        {
         "data": [
          {
           "alignmentgroup": "True",
           "customdata": [
            [
             1,
             0,
             1,
             0
            ],
            [
             44,
             39,
             4,
             1
            ],
            [
             3,
             0,
             3,
             0
            ],
            [
             12,
             1,
             11,
             0
            ],
            [
             20,
             6,
             11,
             3
            ],
            [
             3,
             0,
             3,
             0
            ],
            [
             1,
             0,
             1,
             0
            ],
            [
             1,
             0,
             1,
             0
            ],
            [
             2,
             0,
             2,
             0
            ],
            [
             1,
             0,
             1,
             0
            ],
            [
             21,
             1,
             20,
             0
            ]
           ],
           "hovertemplate": "<b>%{hovertext}</b><br><br>Days=31<br>province=%{x}<br>Confirmed=%{customdata[0]}<br>Isolated=%{customdata[1]}<br>Released=%{customdata[2]}<br>Deceased=%{customdata[3]}<extra></extra>",
           "hovertext": [
            "Chungcheongbuk-do",
            "Daegu",
            "Gwangju",
            "Gyeonggi-do",
            "Gyeongsangbuk-do",
            "Gyeongsangnam-do",
            "Incheon",
            "Jeju-do",
            "Jeollabuk-do",
            "Jeollanam-do",
            "Seoul"
           ],
           "ids": [
            "Chungcheongbuk-do",
            "Daegu",
            "Gwangju",
            "Gyeonggi-do",
            "Gyeongsangbuk-do",
            "Gyeongsangnam-do",
            "Incheon",
            "Jeju-do",
            "Jeollabuk-do",
            "Jeollanam-do",
            "Seoul"
           ],
           "legendgroup": "",
           "marker": {
            "color": "#636efa",
            "opacity": 0.75
           },
           "name": "",
           "offsetgroup": "",
           "orientation": "v",
           "showlegend": false,
           "textposition": "auto",
           "type": "bar",
           "x": [
            "Chungcheongbuk-do",
            "Daegu",
            "Gwangju",
            "Gyeonggi-do",
            "Gyeongsangbuk-do",
            "Gyeongsangnam-do",
            "Incheon",
            "Jeju-do",
            "Jeollabuk-do",
            "Jeollanam-do",
            "Seoul"
           ],
           "xaxis": "x",
           "y": [
            1,
            44,
            3,
            12,
            20,
            3,
            1,
            1,
            2,
            1,
            21
           ],
           "yaxis": "y"
          }
         ],
         "name": "31"
        },
        {
         "data": [
          {
           "alignmentgroup": "True",
           "customdata": [
            [
             2,
             0,
             2,
             0
            ],
            [
             1,
             0,
             1,
             0
            ],
            [
             1,
             0,
             1,
             0
            ],
            [
             45,
             39,
             4,
             2
            ],
            [
             1,
             0,
             1,
             0
            ],
            [
             6,
             0,
             6,
             0
            ],
            [
             14,
             3,
             11,
             0
            ],
            [
             42,
             16,
             21,
             5
            ],
            [
             4,
             0,
             4,
             0
            ],
            [
             1,
             0,
             1,
             0
            ],
            [
             1,
             0,
             1,
             0
            ],
            [
             3,
             0,
             3,
             0
            ],
            [
             1,
             0,
             1,
             0
            ],
            [
             1,
             0,
             1,
             0
            ],
            [
             23,
             1,
             22,
             0
            ]
           ],
           "hovertemplate": "<b>%{hovertext}</b><br><br>Days=32<br>province=%{x}<br>Confirmed=%{customdata[0]}<br>Isolated=%{customdata[1]}<br>Released=%{customdata[2]}<br>Deceased=%{customdata[3]}<extra></extra>",
           "hovertext": [
            "Busan",
            "Chungcheongbuk-do",
            "Chungcheongnam-do",
            "Daegu",
            "Daejeon",
            "Gwangju",
            "Gyeonggi-do",
            "Gyeongsangbuk-do",
            "Gyeongsangnam-do",
            "Incheon",
            "Jeju-do",
            "Jeollabuk-do",
            "Jeollanam-do",
            "Sejong",
            "Seoul"
           ],
           "ids": [
            "Busan",
            "Chungcheongbuk-do",
            "Chungcheongnam-do",
            "Daegu",
            "Daejeon",
            "Gwangju",
            "Gyeonggi-do",
            "Gyeongsangbuk-do",
            "Gyeongsangnam-do",
            "Incheon",
            "Jeju-do",
            "Jeollabuk-do",
            "Jeollanam-do",
            "Sejong",
            "Seoul"
           ],
           "legendgroup": "",
           "marker": {
            "color": "#636efa",
            "opacity": 0.75
           },
           "name": "",
           "offsetgroup": "",
           "orientation": "v",
           "showlegend": false,
           "textposition": "auto",
           "type": "bar",
           "x": [
            "Busan",
            "Chungcheongbuk-do",
            "Chungcheongnam-do",
            "Daegu",
            "Daejeon",
            "Gwangju",
            "Gyeonggi-do",
            "Gyeongsangbuk-do",
            "Gyeongsangnam-do",
            "Incheon",
            "Jeju-do",
            "Jeollabuk-do",
            "Jeollanam-do",
            "Sejong",
            "Seoul"
           ],
           "xaxis": "x",
           "y": [
            2,
            1,
            1,
            45,
            1,
            6,
            14,
            42,
            4,
            1,
            1,
            3,
            1,
            1,
            23
           ],
           "yaxis": "y"
          }
         ],
         "name": "32"
        },
        {
         "data": [
          {
           "alignmentgroup": "True",
           "customdata": [
            [
             16,
             2,
             14,
             0
            ],
            [
             3,
             0,
             3,
             0
            ],
            [
             1,
             0,
             1,
             0
            ],
            [
             45,
             39,
             4,
             2
            ],
            [
             2,
             0,
             2,
             0
            ],
            [
             4,
             1,
             3,
             0
            ],
            [
             8,
             0,
             8,
             0
            ],
            [
             21,
             8,
             13,
             0
            ],
            [
             69,
             28,
             32,
             9
            ],
            [
             8,
             1,
             7,
             0
            ],
            [
             2,
             0,
             2,
             0
            ],
            [
             2,
             0,
             2,
             0
            ],
            [
             3,
             0,
             3,
             0
            ],
            [
             1,
             0,
             1,
             0
            ],
            [
             1,
             0,
             1,
             0
            ],
            [
             27,
             1,
             26,
             0
            ],
            [
             1,
             0,
             1,
             0
            ]
           ],
           "hovertemplate": "<b>%{hovertext}</b><br><br>Days=33<br>province=%{x}<br>Confirmed=%{customdata[0]}<br>Isolated=%{customdata[1]}<br>Released=%{customdata[2]}<br>Deceased=%{customdata[3]}<extra></extra>",
           "hovertext": [
            "Busan",
            "Chungcheongbuk-do",
            "Chungcheongnam-do",
            "Daegu",
            "Daejeon",
            "Gangwon-do",
            "Gwangju",
            "Gyeonggi-do",
            "Gyeongsangbuk-do",
            "Gyeongsangnam-do",
            "Incheon",
            "Jeju-do",
            "Jeollabuk-do",
            "Jeollanam-do",
            "Sejong",
            "Seoul",
            "Ulsan"
           ],
           "ids": [
            "Busan",
            "Chungcheongbuk-do",
            "Chungcheongnam-do",
            "Daegu",
            "Daejeon",
            "Gangwon-do",
            "Gwangju",
            "Gyeonggi-do",
            "Gyeongsangbuk-do",
            "Gyeongsangnam-do",
            "Incheon",
            "Jeju-do",
            "Jeollabuk-do",
            "Jeollanam-do",
            "Sejong",
            "Seoul",
            "Ulsan"
           ],
           "legendgroup": "",
           "marker": {
            "color": "#636efa",
            "opacity": 0.75
           },
           "name": "",
           "offsetgroup": "",
           "orientation": "v",
           "showlegend": false,
           "textposition": "auto",
           "type": "bar",
           "x": [
            "Busan",
            "Chungcheongbuk-do",
            "Chungcheongnam-do",
            "Daegu",
            "Daejeon",
            "Gangwon-do",
            "Gwangju",
            "Gyeonggi-do",
            "Gyeongsangbuk-do",
            "Gyeongsangnam-do",
            "Incheon",
            "Jeju-do",
            "Jeollabuk-do",
            "Jeollanam-do",
            "Sejong",
            "Seoul",
            "Ulsan"
           ],
           "xaxis": "x",
           "y": [
            16,
            3,
            1,
            45,
            2,
            4,
            8,
            21,
            69,
            8,
            2,
            2,
            3,
            1,
            1,
            27,
            1
           ],
           "yaxis": "y"
          }
         ],
         "name": "33"
        },
        {
         "data": [
          {
           "alignmentgroup": "True",
           "customdata": [
            [
             38,
             2,
             36,
             0
            ],
            [
             3,
             0,
             3,
             0
            ],
            [
             1,
             0,
             1,
             0
            ],
            [
             45,
             39,
             4,
             2
            ],
            [
             3,
             1,
             2,
             0
            ],
            [
             4,
             1,
             3,
             0
            ],
            [
             9,
             0,
             9,
             0
            ],
            [
             25,
             12,
             13,
             0
            ],
            [
             102,
             43,
             50,
             9
            ],
            [
             17,
             1,
             16,
             0
            ],
            [
             2,
             0,
             2,
             0
            ],
            [
             2,
             0,
             2,
             0
            ],
            [
             3,
             0,
             3,
             0
            ],
            [
             1,
             0,
             1,
             0
            ],
            [
             1,
             0,
             1,
             0
            ],
            [
             31,
             1,
             30,
             0
            ],
            [
             1,
             0,
             1,
             0
            ]
           ],
           "hovertemplate": "<b>%{hovertext}</b><br><br>Days=34<br>province=%{x}<br>Confirmed=%{customdata[0]}<br>Isolated=%{customdata[1]}<br>Released=%{customdata[2]}<br>Deceased=%{customdata[3]}<extra></extra>",
           "hovertext": [
            "Busan",
            "Chungcheongbuk-do",
            "Chungcheongnam-do",
            "Daegu",
            "Daejeon",
            "Gangwon-do",
            "Gwangju",
            "Gyeonggi-do",
            "Gyeongsangbuk-do",
            "Gyeongsangnam-do",
            "Incheon",
            "Jeju-do",
            "Jeollabuk-do",
            "Jeollanam-do",
            "Sejong",
            "Seoul",
            "Ulsan"
           ],
           "ids": [
            "Busan",
            "Chungcheongbuk-do",
            "Chungcheongnam-do",
            "Daegu",
            "Daejeon",
            "Gangwon-do",
            "Gwangju",
            "Gyeonggi-do",
            "Gyeongsangbuk-do",
            "Gyeongsangnam-do",
            "Incheon",
            "Jeju-do",
            "Jeollabuk-do",
            "Jeollanam-do",
            "Sejong",
            "Seoul",
            "Ulsan"
           ],
           "legendgroup": "",
           "marker": {
            "color": "#636efa",
            "opacity": 0.75
           },
           "name": "",
           "offsetgroup": "",
           "orientation": "v",
           "showlegend": false,
           "textposition": "auto",
           "type": "bar",
           "x": [
            "Busan",
            "Chungcheongbuk-do",
            "Chungcheongnam-do",
            "Daegu",
            "Daejeon",
            "Gangwon-do",
            "Gwangju",
            "Gyeonggi-do",
            "Gyeongsangbuk-do",
            "Gyeongsangnam-do",
            "Incheon",
            "Jeju-do",
            "Jeollabuk-do",
            "Jeollanam-do",
            "Sejong",
            "Seoul",
            "Ulsan"
           ],
           "xaxis": "x",
           "y": [
            38,
            3,
            1,
            45,
            3,
            4,
            9,
            25,
            102,
            17,
            2,
            2,
            3,
            1,
            1,
            31,
            1
           ],
           "yaxis": "y"
          }
         ],
         "name": "34"
        },
        {
         "data": [
          {
           "alignmentgroup": "True",
           "customdata": [
            [
             44,
             2,
             42,
             0
            ],
            [
             3,
             0,
             3,
             0
            ],
            [
             1,
             0,
             1,
             0
            ],
            [
             46,
             39,
             4,
             3
            ],
            [
             3,
             1,
             2,
             0
            ],
            [
             4,
             1,
             3,
             0
            ],
            [
             9,
             0,
             9,
             0
            ],
            [
             37,
             22,
             15,
             0
            ],
            [
             130,
             49,
             72,
             9
            ],
            [
             23,
             1,
             22,
             0
            ],
            [
             2,
             0,
             2,
             0
            ],
            [
             2,
             0,
             2,
             0
            ],
            [
             3,
             0,
             3,
             0
            ],
            [
             1,
             0,
             1,
             0
            ],
            [
             1,
             0,
             1,
             0
            ],
            [
             33,
             1,
             32,
             0
            ],
            [
             2,
             0,
             2,
             0
            ]
           ],
           "hovertemplate": "<b>%{hovertext}</b><br><br>Days=35<br>province=%{x}<br>Confirmed=%{customdata[0]}<br>Isolated=%{customdata[1]}<br>Released=%{customdata[2]}<br>Deceased=%{customdata[3]}<extra></extra>",
           "hovertext": [
            "Busan",
            "Chungcheongbuk-do",
            "Chungcheongnam-do",
            "Daegu",
            "Daejeon",
            "Gangwon-do",
            "Gwangju",
            "Gyeonggi-do",
            "Gyeongsangbuk-do",
            "Gyeongsangnam-do",
            "Incheon",
            "Jeju-do",
            "Jeollabuk-do",
            "Jeollanam-do",
            "Sejong",
            "Seoul",
            "Ulsan"
           ],
           "ids": [
            "Busan",
            "Chungcheongbuk-do",
            "Chungcheongnam-do",
            "Daegu",
            "Daejeon",
            "Gangwon-do",
            "Gwangju",
            "Gyeonggi-do",
            "Gyeongsangbuk-do",
            "Gyeongsangnam-do",
            "Incheon",
            "Jeju-do",
            "Jeollabuk-do",
            "Jeollanam-do",
            "Sejong",
            "Seoul",
            "Ulsan"
           ],
           "legendgroup": "",
           "marker": {
            "color": "#636efa",
            "opacity": 0.75
           },
           "name": "",
           "offsetgroup": "",
           "orientation": "v",
           "showlegend": false,
           "textposition": "auto",
           "type": "bar",
           "x": [
            "Busan",
            "Chungcheongbuk-do",
            "Chungcheongnam-do",
            "Daegu",
            "Daejeon",
            "Gangwon-do",
            "Gwangju",
            "Gyeonggi-do",
            "Gyeongsangbuk-do",
            "Gyeongsangnam-do",
            "Incheon",
            "Jeju-do",
            "Jeollabuk-do",
            "Jeollanam-do",
            "Sejong",
            "Seoul",
            "Ulsan"
           ],
           "xaxis": "x",
           "y": [
            44,
            3,
            1,
            46,
            3,
            4,
            9,
            37,
            130,
            23,
            2,
            2,
            3,
            1,
            1,
            33,
            2
           ],
           "yaxis": "y"
          }
         ],
         "name": "35"
        },
        {
         "data": [
          {
           "alignmentgroup": "True",
           "customdata": [
            [
             55,
             2,
             53,
             0
            ],
            [
             6,
             0,
             6,
             0
            ],
            [
             4,
             0,
             4,
             0
            ],
            [
             47,
             39,
             4,
             4
            ],
            [
             3,
             1,
             2,
             0
            ],
            [
             4,
             1,
             3,
             0
            ],
            [
             9,
             0,
             9,
             0
            ],
            [
             44,
             26,
             17,
             1
            ],
            [
             182,
             66,
             106,
             10
            ],
            [
             28,
             1,
             27,
             0
            ],
            [
             3,
             0,
             3,
             0
            ],
            [
             2,
             0,
             2,
             0
            ],
            [
             3,
             0,
             3,
             0
            ],
            [
             1,
             0,
             1,
             0
            ],
            [
             1,
             0,
             1,
             0
            ],
            [
             41,
             1,
             40,
             0
            ],
            [
             4,
             0,
             4,
             0
            ]
           ],
           "hovertemplate": "<b>%{hovertext}</b><br><br>Days=36<br>province=%{x}<br>Confirmed=%{customdata[0]}<br>Isolated=%{customdata[1]}<br>Released=%{customdata[2]}<br>Deceased=%{customdata[3]}<extra></extra>",
           "hovertext": [
            "Busan",
            "Chungcheongbuk-do",
            "Chungcheongnam-do",
            "Daegu",
            "Daejeon",
            "Gangwon-do",
            "Gwangju",
            "Gyeonggi-do",
            "Gyeongsangbuk-do",
            "Gyeongsangnam-do",
            "Incheon",
            "Jeju-do",
            "Jeollabuk-do",
            "Jeollanam-do",
            "Sejong",
            "Seoul",
            "Ulsan"
           ],
           "ids": [
            "Busan",
            "Chungcheongbuk-do",
            "Chungcheongnam-do",
            "Daegu",
            "Daejeon",
            "Gangwon-do",
            "Gwangju",
            "Gyeonggi-do",
            "Gyeongsangbuk-do",
            "Gyeongsangnam-do",
            "Incheon",
            "Jeju-do",
            "Jeollabuk-do",
            "Jeollanam-do",
            "Sejong",
            "Seoul",
            "Ulsan"
           ],
           "legendgroup": "",
           "marker": {
            "color": "#636efa",
            "opacity": 0.75
           },
           "name": "",
           "offsetgroup": "",
           "orientation": "v",
           "showlegend": false,
           "textposition": "auto",
           "type": "bar",
           "x": [
            "Busan",
            "Chungcheongbuk-do",
            "Chungcheongnam-do",
            "Daegu",
            "Daejeon",
            "Gangwon-do",
            "Gwangju",
            "Gyeonggi-do",
            "Gyeongsangbuk-do",
            "Gyeongsangnam-do",
            "Incheon",
            "Jeju-do",
            "Jeollabuk-do",
            "Jeollanam-do",
            "Sejong",
            "Seoul",
            "Ulsan"
           ],
           "xaxis": "x",
           "y": [
            55,
            6,
            4,
            47,
            3,
            4,
            9,
            44,
            182,
            28,
            3,
            2,
            3,
            1,
            1,
            41,
            4
           ],
           "yaxis": "y"
          }
         ],
         "name": "36"
        },
        {
         "data": [
          {
           "alignmentgroup": "True",
           "customdata": [
            [
             60,
             2,
             58,
             0
            ],
            [
             7,
             0,
             7,
             0
            ],
            [
             9,
             0,
             9,
             0
            ],
            [
             48,
             39,
             4,
             5
            ],
            [
             8,
             1,
             7,
             0
            ],
            [
             4,
             1,
             3,
             0
            ],
            [
             9,
             0,
             9,
             0
            ],
            [
             53,
             28,
             24,
             1
            ],
            [
             250,
             82,
             156,
             12
            ],
            [
             40,
             1,
             39,
             0
            ],
            [
             3,
             0,
             3,
             0
            ],
            [
             2,
             0,
             2,
             0
            ],
            [
             4,
             1,
             3,
             0
            ],
            [
             1,
             0,
             1,
             0
            ],
            [
             1,
             0,
             1,
             0
            ],
            [
             51,
             1,
             50,
             0
            ],
            [
             5,
             0,
             5,
             0
            ]
           ],
           "hovertemplate": "<b>%{hovertext}</b><br><br>Days=37<br>province=%{x}<br>Confirmed=%{customdata[0]}<br>Isolated=%{customdata[1]}<br>Released=%{customdata[2]}<br>Deceased=%{customdata[3]}<extra></extra>",
           "hovertext": [
            "Busan",
            "Chungcheongbuk-do",
            "Chungcheongnam-do",
            "Daegu",
            "Daejeon",
            "Gangwon-do",
            "Gwangju",
            "Gyeonggi-do",
            "Gyeongsangbuk-do",
            "Gyeongsangnam-do",
            "Incheon",
            "Jeju-do",
            "Jeollabuk-do",
            "Jeollanam-do",
            "Sejong",
            "Seoul",
            "Ulsan"
           ],
           "ids": [
            "Busan",
            "Chungcheongbuk-do",
            "Chungcheongnam-do",
            "Daegu",
            "Daejeon",
            "Gangwon-do",
            "Gwangju",
            "Gyeonggi-do",
            "Gyeongsangbuk-do",
            "Gyeongsangnam-do",
            "Incheon",
            "Jeju-do",
            "Jeollabuk-do",
            "Jeollanam-do",
            "Sejong",
            "Seoul",
            "Ulsan"
           ],
           "legendgroup": "",
           "marker": {
            "color": "#636efa",
            "opacity": 0.75
           },
           "name": "",
           "offsetgroup": "",
           "orientation": "v",
           "showlegend": false,
           "textposition": "auto",
           "type": "bar",
           "x": [
            "Busan",
            "Chungcheongbuk-do",
            "Chungcheongnam-do",
            "Daegu",
            "Daejeon",
            "Gangwon-do",
            "Gwangju",
            "Gyeonggi-do",
            "Gyeongsangbuk-do",
            "Gyeongsangnam-do",
            "Incheon",
            "Jeju-do",
            "Jeollabuk-do",
            "Jeollanam-do",
            "Sejong",
            "Seoul",
            "Ulsan"
           ],
           "xaxis": "x",
           "y": [
            60,
            7,
            9,
            48,
            8,
            4,
            9,
            53,
            250,
            40,
            3,
            2,
            4,
            1,
            1,
            51,
            5
           ],
           "yaxis": "y"
          }
         ],
         "name": "37"
        },
        {
         "data": [
          {
           "alignmentgroup": "True",
           "customdata": [
            [
             66,
             2,
             64,
             0
            ],
            [
             10,
             0,
             10,
             0
            ],
            [
             18,
             0,
             18,
             0
            ],
            [
             50,
             39,
             4,
             7
            ],
            [
             9,
             1,
             8,
             0
            ],
            [
             5,
             1,
             4,
             0
            ],
            [
             9,
             0,
             9,
             0
            ],
            [
             63,
             32,
             30,
             1
            ],
            [
             302,
             102,
             188,
             12
            ],
            [
             45,
             1,
             44,
             0
            ],
            [
             3,
             0,
             3,
             0
            ],
            [
             2,
             0,
             2,
             0
            ],
            [
             5,
             2,
             3,
             0
            ],
            [
             1,
             0,
             1,
             0
            ],
            [
             1,
             0,
             1,
             0
            ],
            [
             69,
             1,
             68,
             0
            ],
            [
             10,
             0,
             10,
             0
            ]
           ],
           "hovertemplate": "<b>%{hovertext}</b><br><br>Days=38<br>province=%{x}<br>Confirmed=%{customdata[0]}<br>Isolated=%{customdata[1]}<br>Released=%{customdata[2]}<br>Deceased=%{customdata[3]}<extra></extra>",
           "hovertext": [
            "Busan",
            "Chungcheongbuk-do",
            "Chungcheongnam-do",
            "Daegu",
            "Daejeon",
            "Gangwon-do",
            "Gwangju",
            "Gyeonggi-do",
            "Gyeongsangbuk-do",
            "Gyeongsangnam-do",
            "Incheon",
            "Jeju-do",
            "Jeollabuk-do",
            "Jeollanam-do",
            "Sejong",
            "Seoul",
            "Ulsan"
           ],
           "ids": [
            "Busan",
            "Chungcheongbuk-do",
            "Chungcheongnam-do",
            "Daegu",
            "Daejeon",
            "Gangwon-do",
            "Gwangju",
            "Gyeonggi-do",
            "Gyeongsangbuk-do",
            "Gyeongsangnam-do",
            "Incheon",
            "Jeju-do",
            "Jeollabuk-do",
            "Jeollanam-do",
            "Sejong",
            "Seoul",
            "Ulsan"
           ],
           "legendgroup": "",
           "marker": {
            "color": "#636efa",
            "opacity": 0.75
           },
           "name": "",
           "offsetgroup": "",
           "orientation": "v",
           "showlegend": false,
           "textposition": "auto",
           "type": "bar",
           "x": [
            "Busan",
            "Chungcheongbuk-do",
            "Chungcheongnam-do",
            "Daegu",
            "Daejeon",
            "Gangwon-do",
            "Gwangju",
            "Gyeonggi-do",
            "Gyeongsangbuk-do",
            "Gyeongsangnam-do",
            "Incheon",
            "Jeju-do",
            "Jeollabuk-do",
            "Jeollanam-do",
            "Sejong",
            "Seoul",
            "Ulsan"
           ],
           "xaxis": "x",
           "y": [
            66,
            10,
            18,
            50,
            9,
            5,
            9,
            63,
            302,
            45,
            3,
            2,
            5,
            1,
            1,
            69,
            10
           ],
           "yaxis": "y"
          }
         ],
         "name": "38"
        },
        {
         "data": [
          {
           "alignmentgroup": "True",
           "customdata": [
            [
             71,
             2,
             68,
             1
            ],
            [
             10,
             0,
             10,
             0
            ],
            [
             45,
             1,
             44,
             0
            ],
            [
             53,
             39,
             4,
             10
            ],
            [
             12,
             1,
             11,
             0
            ],
            [
             5,
             1,
             4,
             0
            ],
            [
             9,
             0,
             9,
             0
            ],
            [
             74,
             39,
             34,
             1
            ],
            [
             360,
             126,
             220,
             14
            ],
            [
             57,
             1,
             56,
             0
            ],
            [
             6,
             1,
             5,
             0
            ],
            [
             2,
             0,
             2,
             0
            ],
            [
             5,
             2,
             3,
             0
            ],
            [
             2,
             1,
             1,
             0
            ],
            [
             1,
             0,
             1,
             0
            ],
            [
             76,
             1,
             75,
             0
            ],
            [
             16,
             0,
             15,
             1
            ]
           ],
           "hovertemplate": "<b>%{hovertext}</b><br><br>Days=39<br>province=%{x}<br>Confirmed=%{customdata[0]}<br>Isolated=%{customdata[1]}<br>Released=%{customdata[2]}<br>Deceased=%{customdata[3]}<extra></extra>",
           "hovertext": [
            "Busan",
            "Chungcheongbuk-do",
            "Chungcheongnam-do",
            "Daegu",
            "Daejeon",
            "Gangwon-do",
            "Gwangju",
            "Gyeonggi-do",
            "Gyeongsangbuk-do",
            "Gyeongsangnam-do",
            "Incheon",
            "Jeju-do",
            "Jeollabuk-do",
            "Jeollanam-do",
            "Sejong",
            "Seoul",
            "Ulsan"
           ],
           "ids": [
            "Busan",
            "Chungcheongbuk-do",
            "Chungcheongnam-do",
            "Daegu",
            "Daejeon",
            "Gangwon-do",
            "Gwangju",
            "Gyeonggi-do",
            "Gyeongsangbuk-do",
            "Gyeongsangnam-do",
            "Incheon",
            "Jeju-do",
            "Jeollabuk-do",
            "Jeollanam-do",
            "Sejong",
            "Seoul",
            "Ulsan"
           ],
           "legendgroup": "",
           "marker": {
            "color": "#636efa",
            "opacity": 0.75
           },
           "name": "",
           "offsetgroup": "",
           "orientation": "v",
           "showlegend": false,
           "textposition": "auto",
           "type": "bar",
           "x": [
            "Busan",
            "Chungcheongbuk-do",
            "Chungcheongnam-do",
            "Daegu",
            "Daejeon",
            "Gangwon-do",
            "Gwangju",
            "Gyeonggi-do",
            "Gyeongsangbuk-do",
            "Gyeongsangnam-do",
            "Incheon",
            "Jeju-do",
            "Jeollabuk-do",
            "Jeollanam-do",
            "Sejong",
            "Seoul",
            "Ulsan"
           ],
           "xaxis": "x",
           "y": [
            71,
            10,
            45,
            53,
            12,
            5,
            9,
            74,
            360,
            57,
            6,
            2,
            5,
            2,
            1,
            76,
            16
           ],
           "yaxis": "y"
          }
         ],
         "name": "39"
        },
        {
         "data": [
          {
           "alignmentgroup": "True",
           "customdata": [
            [
             76,
             2,
             73,
             1
            ],
            [
             11,
             0,
             11,
             0
            ],
            [
             62,
             1,
             61,
             0
            ],
            [
             56,
             39,
             4,
             13
            ],
            [
             12,
             1,
             11,
             0
            ],
            [
             6,
             1,
             5,
             0
            ],
            [
             9,
             0,
             9,
             0
            ],
            [
             84,
             45,
             38,
             1
            ],
            [
             411,
             136,
             261,
             14
            ],
            [
             58,
             1,
             57,
             0
            ],
            [
             6,
             1,
             5,
             0
            ],
            [
             2,
             0,
             2,
             0
            ],
            [
             6,
             3,
             3,
             0
            ],
            [
             3,
             1,
             2,
             0
            ],
            [
             1,
             0,
             1,
             0
            ],
            [
             86,
             1,
             85,
             0
            ],
            [
             16,
             0,
             15,
             1
            ]
           ],
           "hovertemplate": "<b>%{hovertext}</b><br><br>Days=40<br>province=%{x}<br>Confirmed=%{customdata[0]}<br>Isolated=%{customdata[1]}<br>Released=%{customdata[2]}<br>Deceased=%{customdata[3]}<extra></extra>",
           "hovertext": [
            "Busan",
            "Chungcheongbuk-do",
            "Chungcheongnam-do",
            "Daegu",
            "Daejeon",
            "Gangwon-do",
            "Gwangju",
            "Gyeonggi-do",
            "Gyeongsangbuk-do",
            "Gyeongsangnam-do",
            "Incheon",
            "Jeju-do",
            "Jeollabuk-do",
            "Jeollanam-do",
            "Sejong",
            "Seoul",
            "Ulsan"
           ],
           "ids": [
            "Busan",
            "Chungcheongbuk-do",
            "Chungcheongnam-do",
            "Daegu",
            "Daejeon",
            "Gangwon-do",
            "Gwangju",
            "Gyeonggi-do",
            "Gyeongsangbuk-do",
            "Gyeongsangnam-do",
            "Incheon",
            "Jeju-do",
            "Jeollabuk-do",
            "Jeollanam-do",
            "Sejong",
            "Seoul",
            "Ulsan"
           ],
           "legendgroup": "",
           "marker": {
            "color": "#636efa",
            "opacity": 0.75
           },
           "name": "",
           "offsetgroup": "",
           "orientation": "v",
           "showlegend": false,
           "textposition": "auto",
           "type": "bar",
           "x": [
            "Busan",
            "Chungcheongbuk-do",
            "Chungcheongnam-do",
            "Daegu",
            "Daejeon",
            "Gangwon-do",
            "Gwangju",
            "Gyeonggi-do",
            "Gyeongsangbuk-do",
            "Gyeongsangnam-do",
            "Incheon",
            "Jeju-do",
            "Jeollabuk-do",
            "Jeollanam-do",
            "Sejong",
            "Seoul",
            "Ulsan"
           ],
           "xaxis": "x",
           "y": [
            76,
            11,
            62,
            56,
            12,
            6,
            9,
            84,
            411,
            58,
            6,
            2,
            6,
            3,
            1,
            86,
            16
           ],
           "yaxis": "y"
          }
         ],
         "name": "40"
        },
        {
         "data": [
          {
           "alignmentgroup": "True",
           "customdata": [
            [
             79,
             2,
             76,
             1
            ],
            [
             11,
             0,
             11,
             0
            ],
            [
             76,
             1,
             75,
             0
            ],
            [
             61,
             39,
             4,
             18
            ],
            [
             13,
             1,
             12,
             0
            ],
            [
             16,
             1,
             15,
             0
            ],
            [
             9,
             0,
             9,
             0
            ],
            [
             93,
             50,
             42,
             1
            ],
            [
             488,
             146,
             328,
             14
            ],
            [
             60,
             1,
             59,
             0
            ],
            [
             7,
             1,
             6,
             0
            ],
            [
             2,
             0,
             2,
             0
            ],
            [
             6,
             3,
             3,
             0
            ],
            [
             4,
             1,
             3,
             0
            ],
            [
             1,
             0,
             1,
             0
            ],
            [
             93,
             2,
             91,
             0
            ],
            [
             19,
             0,
             18,
             1
            ]
           ],
           "hovertemplate": "<b>%{hovertext}</b><br><br>Days=41<br>province=%{x}<br>Confirmed=%{customdata[0]}<br>Isolated=%{customdata[1]}<br>Released=%{customdata[2]}<br>Deceased=%{customdata[3]}<extra></extra>",
           "hovertext": [
            "Busan",
            "Chungcheongbuk-do",
            "Chungcheongnam-do",
            "Daegu",
            "Daejeon",
            "Gangwon-do",
            "Gwangju",
            "Gyeonggi-do",
            "Gyeongsangbuk-do",
            "Gyeongsangnam-do",
            "Incheon",
            "Jeju-do",
            "Jeollabuk-do",
            "Jeollanam-do",
            "Sejong",
            "Seoul",
            "Ulsan"
           ],
           "ids": [
            "Busan",
            "Chungcheongbuk-do",
            "Chungcheongnam-do",
            "Daegu",
            "Daejeon",
            "Gangwon-do",
            "Gwangju",
            "Gyeonggi-do",
            "Gyeongsangbuk-do",
            "Gyeongsangnam-do",
            "Incheon",
            "Jeju-do",
            "Jeollabuk-do",
            "Jeollanam-do",
            "Sejong",
            "Seoul",
            "Ulsan"
           ],
           "legendgroup": "",
           "marker": {
            "color": "#636efa",
            "opacity": 0.75
           },
           "name": "",
           "offsetgroup": "",
           "orientation": "v",
           "showlegend": false,
           "textposition": "auto",
           "type": "bar",
           "x": [
            "Busan",
            "Chungcheongbuk-do",
            "Chungcheongnam-do",
            "Daegu",
            "Daejeon",
            "Gangwon-do",
            "Gwangju",
            "Gyeonggi-do",
            "Gyeongsangbuk-do",
            "Gyeongsangnam-do",
            "Incheon",
            "Jeju-do",
            "Jeollabuk-do",
            "Jeollanam-do",
            "Sejong",
            "Seoul",
            "Ulsan"
           ],
           "xaxis": "x",
           "y": [
            79,
            11,
            76,
            61,
            13,
            16,
            9,
            93,
            488,
            60,
            7,
            2,
            6,
            4,
            1,
            93,
            19
           ],
           "yaxis": "y"
          }
         ],
         "name": "41"
        },
        {
         "data": [
          {
           "alignmentgroup": "True",
           "customdata": [
            [
             80,
             2,
             77,
             1
            ],
            [
             11,
             0,
             11,
             0
            ],
            [
             79,
             1,
             78,
             0
            ],
            [
             61,
             39,
             4,
             18
            ],
            [
             13,
             1,
             12,
             0
            ],
            [
             18,
             1,
             17,
             0
            ],
            [
             12,
             0,
             12,
             0
            ],
            [
             95,
             51,
             43,
             1
            ],
            [
             536,
             149,
             372,
             15
            ],
            [
             61,
             1,
             60,
             0
            ],
            [
             7,
             1,
             6,
             0
            ],
            [
             3,
             0,
             3,
             0
            ],
            [
             7,
             3,
             4,
             0
            ],
            [
             4,
             1,
             3,
             0
            ],
            [
             1,
             0,
             1,
             0
            ],
            [
             99,
             2,
             97,
             0
            ],
            [
             19,
             0,
             18,
             1
            ]
           ],
           "hovertemplate": "<b>%{hovertext}</b><br><br>Days=42<br>province=%{x}<br>Confirmed=%{customdata[0]}<br>Isolated=%{customdata[1]}<br>Released=%{customdata[2]}<br>Deceased=%{customdata[3]}<extra></extra>",
           "hovertext": [
            "Busan",
            "Chungcheongbuk-do",
            "Chungcheongnam-do",
            "Daegu",
            "Daejeon",
            "Gangwon-do",
            "Gwangju",
            "Gyeonggi-do",
            "Gyeongsangbuk-do",
            "Gyeongsangnam-do",
            "Incheon",
            "Jeju-do",
            "Jeollabuk-do",
            "Jeollanam-do",
            "Sejong",
            "Seoul",
            "Ulsan"
           ],
           "ids": [
            "Busan",
            "Chungcheongbuk-do",
            "Chungcheongnam-do",
            "Daegu",
            "Daejeon",
            "Gangwon-do",
            "Gwangju",
            "Gyeonggi-do",
            "Gyeongsangbuk-do",
            "Gyeongsangnam-do",
            "Incheon",
            "Jeju-do",
            "Jeollabuk-do",
            "Jeollanam-do",
            "Sejong",
            "Seoul",
            "Ulsan"
           ],
           "legendgroup": "",
           "marker": {
            "color": "#636efa",
            "opacity": 0.75
           },
           "name": "",
           "offsetgroup": "",
           "orientation": "v",
           "showlegend": false,
           "textposition": "auto",
           "type": "bar",
           "x": [
            "Busan",
            "Chungcheongbuk-do",
            "Chungcheongnam-do",
            "Daegu",
            "Daejeon",
            "Gangwon-do",
            "Gwangju",
            "Gyeonggi-do",
            "Gyeongsangbuk-do",
            "Gyeongsangnam-do",
            "Incheon",
            "Jeju-do",
            "Jeollabuk-do",
            "Jeollanam-do",
            "Sejong",
            "Seoul",
            "Ulsan"
           ],
           "xaxis": "x",
           "y": [
            80,
            11,
            79,
            61,
            13,
            18,
            12,
            95,
            536,
            61,
            7,
            3,
            7,
            4,
            1,
            99,
            19
           ],
           "yaxis": "y"
          }
         ],
         "name": "42"
        },
        {
         "data": [
          {
           "alignmentgroup": "True",
           "customdata": [
            [
             83,
             2,
             80,
             1
            ],
            [
             11,
             0,
             11,
             0
            ],
            [
             81,
             1,
             80,
             0
            ],
            [
             61,
             39,
             4,
             18
            ],
            [
             14,
             1,
             13,
             0
            ],
            [
             19,
             2,
             17,
             0
            ],
            [
             12,
             0,
             12,
             0
            ],
            [
             103,
             57,
             45,
             1
            ],
            [
             627,
             154,
             457,
             16
            ],
            [
             63,
             1,
             62,
             0
            ],
            [
             9,
             1,
             8,
             0
            ],
            [
             3,
             0,
             3,
             0
            ],
            [
             7,
             3,
             4,
             0
            ],
            [
             4,
             1,
             3,
             0
            ],
            [
             1,
             0,
             1,
             0
            ],
            [
             99,
             2,
             97,
             0
            ],
            [
             21,
             0,
             20,
             1
            ]
           ],
           "hovertemplate": "<b>%{hovertext}</b><br><br>Days=43<br>province=%{x}<br>Confirmed=%{customdata[0]}<br>Isolated=%{customdata[1]}<br>Released=%{customdata[2]}<br>Deceased=%{customdata[3]}<extra></extra>",
           "hovertext": [
            "Busan",
            "Chungcheongbuk-do",
            "Chungcheongnam-do",
            "Daegu",
            "Daejeon",
            "Gangwon-do",
            "Gwangju",
            "Gyeonggi-do",
            "Gyeongsangbuk-do",
            "Gyeongsangnam-do",
            "Incheon",
            "Jeju-do",
            "Jeollabuk-do",
            "Jeollanam-do",
            "Sejong",
            "Seoul",
            "Ulsan"
           ],
           "ids": [
            "Busan",
            "Chungcheongbuk-do",
            "Chungcheongnam-do",
            "Daegu",
            "Daejeon",
            "Gangwon-do",
            "Gwangju",
            "Gyeonggi-do",
            "Gyeongsangbuk-do",
            "Gyeongsangnam-do",
            "Incheon",
            "Jeju-do",
            "Jeollabuk-do",
            "Jeollanam-do",
            "Sejong",
            "Seoul",
            "Ulsan"
           ],
           "legendgroup": "",
           "marker": {
            "color": "#636efa",
            "opacity": 0.75
           },
           "name": "",
           "offsetgroup": "",
           "orientation": "v",
           "showlegend": false,
           "textposition": "auto",
           "type": "bar",
           "x": [
            "Busan",
            "Chungcheongbuk-do",
            "Chungcheongnam-do",
            "Daegu",
            "Daejeon",
            "Gangwon-do",
            "Gwangju",
            "Gyeonggi-do",
            "Gyeongsangbuk-do",
            "Gyeongsangnam-do",
            "Incheon",
            "Jeju-do",
            "Jeollabuk-do",
            "Jeollanam-do",
            "Sejong",
            "Seoul",
            "Ulsan"
           ],
           "xaxis": "x",
           "y": [
            83,
            11,
            81,
            61,
            14,
            19,
            12,
            103,
            627,
            63,
            9,
            3,
            7,
            4,
            1,
            99,
            21
           ],
           "yaxis": "y"
          }
         ],
         "name": "43"
        },
        {
         "data": [
          {
           "alignmentgroup": "True",
           "customdata": [
            [
             84,
             2,
             81,
             1
            ],
            [
             12,
             0,
             12,
             0
            ],
            [
             84,
             1,
             83,
             0
            ],
            [
             61,
             39,
             4,
             18
            ],
            [
             17,
             1,
             16,
             0
            ],
            [
             23,
             3,
             19,
             1
            ],
            [
             13,
             0,
             13,
             0
            ],
            [
             110,
             63,
             46,
             1
            ],
            [
             709,
             169,
             523,
             17
            ],
            [
             71,
             2,
             69,
             0
            ],
            [
             9,
             1,
             8,
             0
            ],
            [
             4,
             0,
             4,
             0
            ],
            [
             7,
             3,
             4,
             0
            ],
            [
             4,
             1,
             3,
             0
            ],
            [
             1,
             0,
             1,
             0
            ],
            [
             104,
             3,
             101,
             0
            ],
            [
             21,
             0,
             20,
             1
            ]
           ],
           "hovertemplate": "<b>%{hovertext}</b><br><br>Days=44<br>province=%{x}<br>Confirmed=%{customdata[0]}<br>Isolated=%{customdata[1]}<br>Released=%{customdata[2]}<br>Deceased=%{customdata[3]}<extra></extra>",
           "hovertext": [
            "Busan",
            "Chungcheongbuk-do",
            "Chungcheongnam-do",
            "Daegu",
            "Daejeon",
            "Gangwon-do",
            "Gwangju",
            "Gyeonggi-do",
            "Gyeongsangbuk-do",
            "Gyeongsangnam-do",
            "Incheon",
            "Jeju-do",
            "Jeollabuk-do",
            "Jeollanam-do",
            "Sejong",
            "Seoul",
            "Ulsan"
           ],
           "ids": [
            "Busan",
            "Chungcheongbuk-do",
            "Chungcheongnam-do",
            "Daegu",
            "Daejeon",
            "Gangwon-do",
            "Gwangju",
            "Gyeonggi-do",
            "Gyeongsangbuk-do",
            "Gyeongsangnam-do",
            "Incheon",
            "Jeju-do",
            "Jeollabuk-do",
            "Jeollanam-do",
            "Sejong",
            "Seoul",
            "Ulsan"
           ],
           "legendgroup": "",
           "marker": {
            "color": "#636efa",
            "opacity": 0.75
           },
           "name": "",
           "offsetgroup": "",
           "orientation": "v",
           "showlegend": false,
           "textposition": "auto",
           "type": "bar",
           "x": [
            "Busan",
            "Chungcheongbuk-do",
            "Chungcheongnam-do",
            "Daegu",
            "Daejeon",
            "Gangwon-do",
            "Gwangju",
            "Gyeonggi-do",
            "Gyeongsangbuk-do",
            "Gyeongsangnam-do",
            "Incheon",
            "Jeju-do",
            "Jeollabuk-do",
            "Jeollanam-do",
            "Sejong",
            "Seoul",
            "Ulsan"
           ],
           "xaxis": "x",
           "y": [
            84,
            12,
            84,
            61,
            17,
            23,
            13,
            110,
            709,
            71,
            9,
            4,
            7,
            4,
            1,
            104,
            21
           ],
           "yaxis": "y"
          }
         ],
         "name": "44"
        },
        {
         "data": [
          {
           "alignmentgroup": "True",
           "customdata": [
            [
             85,
             2,
             82,
             1
            ],
            [
             15,
             1,
             14,
             0
            ],
            [
             89,
             1,
             88,
             0
            ],
            [
             62,
             39,
             4,
             19
            ],
            [
             17,
             1,
             16,
             0
            ],
            [
             24,
             3,
             20,
             1
            ],
            [
             13,
             0,
             13,
             0
            ],
            [
             120,
             72,
             47,
             1
            ],
            [
             827,
             223,
             586,
             18
            ],
            [
             75,
             2,
             73,
             0
            ],
            [
             9,
             1,
             8,
             0
            ],
            [
             4,
             0,
             4,
             0
            ],
            [
             7,
             3,
             4,
             0
            ],
            [
             4,
             1,
             3,
             0
            ],
            [
             1,
             0,
             1,
             0
            ],
            [
             106,
             3,
             103,
             0
            ],
            [
             21,
             0,
             20,
             1
            ]
           ],
           "hovertemplate": "<b>%{hovertext}</b><br><br>Days=45<br>province=%{x}<br>Confirmed=%{customdata[0]}<br>Isolated=%{customdata[1]}<br>Released=%{customdata[2]}<br>Deceased=%{customdata[3]}<extra></extra>",
           "hovertext": [
            "Busan",
            "Chungcheongbuk-do",
            "Chungcheongnam-do",
            "Daegu",
            "Daejeon",
            "Gangwon-do",
            "Gwangju",
            "Gyeonggi-do",
            "Gyeongsangbuk-do",
            "Gyeongsangnam-do",
            "Incheon",
            "Jeju-do",
            "Jeollabuk-do",
            "Jeollanam-do",
            "Sejong",
            "Seoul",
            "Ulsan"
           ],
           "ids": [
            "Busan",
            "Chungcheongbuk-do",
            "Chungcheongnam-do",
            "Daegu",
            "Daejeon",
            "Gangwon-do",
            "Gwangju",
            "Gyeonggi-do",
            "Gyeongsangbuk-do",
            "Gyeongsangnam-do",
            "Incheon",
            "Jeju-do",
            "Jeollabuk-do",
            "Jeollanam-do",
            "Sejong",
            "Seoul",
            "Ulsan"
           ],
           "legendgroup": "",
           "marker": {
            "color": "#636efa",
            "opacity": 0.75
           },
           "name": "",
           "offsetgroup": "",
           "orientation": "v",
           "showlegend": false,
           "textposition": "auto",
           "type": "bar",
           "x": [
            "Busan",
            "Chungcheongbuk-do",
            "Chungcheongnam-do",
            "Daegu",
            "Daejeon",
            "Gangwon-do",
            "Gwangju",
            "Gyeonggi-do",
            "Gyeongsangbuk-do",
            "Gyeongsangnam-do",
            "Incheon",
            "Jeju-do",
            "Jeollabuk-do",
            "Jeollanam-do",
            "Sejong",
            "Seoul",
            "Ulsan"
           ],
           "xaxis": "x",
           "y": [
            85,
            15,
            89,
            62,
            17,
            24,
            13,
            120,
            827,
            75,
            9,
            4,
            7,
            4,
            1,
            106,
            21
           ],
           "yaxis": "y"
          }
         ],
         "name": "45"
        },
        {
         "data": [
          {
           "alignmentgroup": "True",
           "customdata": [
            [
             88,
             2,
             85,
             1
            ],
            [
             20,
             2,
             18,
             0
            ],
            [
             92,
             2,
             90,
             0
            ],
            [
             62,
             39,
             4,
             19
            ],
            [
             17,
             1,
             16,
             0
            ],
            [
             24,
             3,
             20,
             1
            ],
            [
             13,
             0,
             13,
             0
            ],
            [
             131,
             83,
             47,
             1
            ],
            [
             894,
             234,
             640,
             20
            ],
            [
             78,
             2,
             76,
             0
            ],
            [
             9,
             1,
             8,
             0
            ],
            [
             4,
             0,
             4,
             0
            ],
            [
             7,
             3,
             4,
             0
            ],
            [
             4,
             1,
             3,
             0
            ],
            [
             1,
             0,
             1,
             0
            ],
            [
             113,
             3,
             110,
             0
            ],
            [
             21,
             0,
             20,
             1
            ]
           ],
           "hovertemplate": "<b>%{hovertext}</b><br><br>Days=46<br>province=%{x}<br>Confirmed=%{customdata[0]}<br>Isolated=%{customdata[1]}<br>Released=%{customdata[2]}<br>Deceased=%{customdata[3]}<extra></extra>",
           "hovertext": [
            "Busan",
            "Chungcheongbuk-do",
            "Chungcheongnam-do",
            "Daegu",
            "Daejeon",
            "Gangwon-do",
            "Gwangju",
            "Gyeonggi-do",
            "Gyeongsangbuk-do",
            "Gyeongsangnam-do",
            "Incheon",
            "Jeju-do",
            "Jeollabuk-do",
            "Jeollanam-do",
            "Sejong",
            "Seoul",
            "Ulsan"
           ],
           "ids": [
            "Busan",
            "Chungcheongbuk-do",
            "Chungcheongnam-do",
            "Daegu",
            "Daejeon",
            "Gangwon-do",
            "Gwangju",
            "Gyeonggi-do",
            "Gyeongsangbuk-do",
            "Gyeongsangnam-do",
            "Incheon",
            "Jeju-do",
            "Jeollabuk-do",
            "Jeollanam-do",
            "Sejong",
            "Seoul",
            "Ulsan"
           ],
           "legendgroup": "",
           "marker": {
            "color": "#636efa",
            "opacity": 0.75
           },
           "name": "",
           "offsetgroup": "",
           "orientation": "v",
           "showlegend": false,
           "textposition": "auto",
           "type": "bar",
           "x": [
            "Busan",
            "Chungcheongbuk-do",
            "Chungcheongnam-do",
            "Daegu",
            "Daejeon",
            "Gangwon-do",
            "Gwangju",
            "Gyeonggi-do",
            "Gyeongsangbuk-do",
            "Gyeongsangnam-do",
            "Incheon",
            "Jeju-do",
            "Jeollabuk-do",
            "Jeollanam-do",
            "Sejong",
            "Seoul",
            "Ulsan"
           ],
           "xaxis": "x",
           "y": [
            88,
            20,
            92,
            62,
            17,
            24,
            13,
            131,
            894,
            78,
            9,
            4,
            7,
            4,
            1,
            113,
            21
           ],
           "yaxis": "y"
          }
         ],
         "name": "46"
        },
        {
         "data": [
          {
           "alignmentgroup": "True",
           "customdata": [
            [
             89,
             2,
             86,
             1
            ],
            [
             24,
             2,
             22,
             0
            ],
            [
             96,
             2,
             94,
             0
            ],
            [
             62,
             39,
             4,
             19
            ],
            [
             17,
             1,
             16,
             0
            ],
            [
             25,
             3,
             21,
             1
            ],
            [
             14,
             0,
             14,
             0
            ],
            [
             141,
             93,
             47,
             1
            ],
            [
             920,
             240,
             658,
             22
            ],
            [
             79,
             2,
             77,
             0
            ],
            [
             9,
             1,
             8,
             0
            ],
            [
             4,
             0,
             4,
             0
            ],
            [
             7,
             3,
             4,
             0
            ],
            [
             4,
             1,
             3,
             0
            ],
            [
             2,
             0,
             2,
             0
            ],
            [
             120,
             3,
             116,
             1
            ],
            [
             22,
             0,
             21,
             1
            ]
           ],
           "hovertemplate": "<b>%{hovertext}</b><br><br>Days=47<br>province=%{x}<br>Confirmed=%{customdata[0]}<br>Isolated=%{customdata[1]}<br>Released=%{customdata[2]}<br>Deceased=%{customdata[3]}<extra></extra>",
           "hovertext": [
            "Busan",
            "Chungcheongbuk-do",
            "Chungcheongnam-do",
            "Daegu",
            "Daejeon",
            "Gangwon-do",
            "Gwangju",
            "Gyeonggi-do",
            "Gyeongsangbuk-do",
            "Gyeongsangnam-do",
            "Incheon",
            "Jeju-do",
            "Jeollabuk-do",
            "Jeollanam-do",
            "Sejong",
            "Seoul",
            "Ulsan"
           ],
           "ids": [
            "Busan",
            "Chungcheongbuk-do",
            "Chungcheongnam-do",
            "Daegu",
            "Daejeon",
            "Gangwon-do",
            "Gwangju",
            "Gyeonggi-do",
            "Gyeongsangbuk-do",
            "Gyeongsangnam-do",
            "Incheon",
            "Jeju-do",
            "Jeollabuk-do",
            "Jeollanam-do",
            "Sejong",
            "Seoul",
            "Ulsan"
           ],
           "legendgroup": "",
           "marker": {
            "color": "#636efa",
            "opacity": 0.75
           },
           "name": "",
           "offsetgroup": "",
           "orientation": "v",
           "showlegend": false,
           "textposition": "auto",
           "type": "bar",
           "x": [
            "Busan",
            "Chungcheongbuk-do",
            "Chungcheongnam-do",
            "Daegu",
            "Daejeon",
            "Gangwon-do",
            "Gwangju",
            "Gyeonggi-do",
            "Gyeongsangbuk-do",
            "Gyeongsangnam-do",
            "Incheon",
            "Jeju-do",
            "Jeollabuk-do",
            "Jeollanam-do",
            "Sejong",
            "Seoul",
            "Ulsan"
           ],
           "xaxis": "x",
           "y": [
            89,
            24,
            96,
            62,
            17,
            25,
            14,
            141,
            920,
            79,
            9,
            4,
            7,
            4,
            2,
            120,
            22
           ],
           "yaxis": "y"
          }
         ],
         "name": "47"
        },
        {
         "data": [
          {
           "alignmentgroup": "True",
           "customdata": [
            [
             89,
             2,
             86,
             1
            ],
            [
             25,
             2,
             23,
             0
            ],
            [
             100,
             2,
             98,
             0
            ],
            [
             63,
             39,
             4,
             20
            ],
            [
             17,
             1,
             16,
             0
            ],
            [
             26,
             4,
             21,
             1
            ],
            [
             15,
             0,
             15,
             0
            ],
            [
             153,
             103,
             49,
             1
            ],
            [
             942,
             243,
             677,
             22
            ],
            [
             79,
             2,
             77,
             0
            ],
            [
             9,
             1,
             8,
             0
            ],
            [
             4,
             0,
             4,
             0
            ],
            [
             7,
             3,
             4,
             0
            ],
            [
             4,
             1,
             3,
             0
            ],
            [
             4,
             0,
             4,
             0
            ],
            [
             130,
             3,
             126,
             1
            ],
            [
             22,
             0,
             21,
             1
            ]
           ],
           "hovertemplate": "<b>%{hovertext}</b><br><br>Days=48<br>province=%{x}<br>Confirmed=%{customdata[0]}<br>Isolated=%{customdata[1]}<br>Released=%{customdata[2]}<br>Deceased=%{customdata[3]}<extra></extra>",
           "hovertext": [
            "Busan",
            "Chungcheongbuk-do",
            "Chungcheongnam-do",
            "Daegu",
            "Daejeon",
            "Gangwon-do",
            "Gwangju",
            "Gyeonggi-do",
            "Gyeongsangbuk-do",
            "Gyeongsangnam-do",
            "Incheon",
            "Jeju-do",
            "Jeollabuk-do",
            "Jeollanam-do",
            "Sejong",
            "Seoul",
            "Ulsan"
           ],
           "ids": [
            "Busan",
            "Chungcheongbuk-do",
            "Chungcheongnam-do",
            "Daegu",
            "Daejeon",
            "Gangwon-do",
            "Gwangju",
            "Gyeonggi-do",
            "Gyeongsangbuk-do",
            "Gyeongsangnam-do",
            "Incheon",
            "Jeju-do",
            "Jeollabuk-do",
            "Jeollanam-do",
            "Sejong",
            "Seoul",
            "Ulsan"
           ],
           "legendgroup": "",
           "marker": {
            "color": "#636efa",
            "opacity": 0.75
           },
           "name": "",
           "offsetgroup": "",
           "orientation": "v",
           "showlegend": false,
           "textposition": "auto",
           "type": "bar",
           "x": [
            "Busan",
            "Chungcheongbuk-do",
            "Chungcheongnam-do",
            "Daegu",
            "Daejeon",
            "Gangwon-do",
            "Gwangju",
            "Gyeonggi-do",
            "Gyeongsangbuk-do",
            "Gyeongsangnam-do",
            "Incheon",
            "Jeju-do",
            "Jeollabuk-do",
            "Jeollanam-do",
            "Sejong",
            "Seoul",
            "Ulsan"
           ],
           "xaxis": "x",
           "y": [
            89,
            25,
            100,
            63,
            17,
            26,
            15,
            153,
            942,
            79,
            9,
            4,
            7,
            4,
            4,
            130,
            22
           ],
           "yaxis": "y"
          }
         ],
         "name": "48"
        },
        {
         "data": [
          {
           "alignmentgroup": "True",
           "customdata": [
            [
             89,
             2,
             86,
             1
            ],
            [
             26,
             2,
             24,
             0
            ],
            [
             102,
             2,
             100,
             0
            ],
            [
             63,
             39,
             4,
             20
            ],
            [
             17,
             1,
             16,
             0
            ],
            [
             26,
             4,
             21,
             1
            ],
            [
             15,
             0,
             15,
             0
            ],
            [
             165,
             114,
             50,
             1
            ],
            [
             955,
             246,
             687,
             22
            ],
            [
             79,
             2,
             77,
             0
            ],
            [
             22,
             4,
             18,
             0
            ],
            [
             4,
             0,
             4,
             0
            ],
            [
             7,
             3,
             4,
             0
            ],
            [
             4,
             1,
             3,
             0
            ],
            [
             6,
             0,
             6,
             0
            ],
            [
             156,
             8,
             147,
             1
            ],
            [
             22,
             0,
             21,
             1
            ]
           ],
           "hovertemplate": "<b>%{hovertext}</b><br><br>Days=49<br>province=%{x}<br>Confirmed=%{customdata[0]}<br>Isolated=%{customdata[1]}<br>Released=%{customdata[2]}<br>Deceased=%{customdata[3]}<extra></extra>",
           "hovertext": [
            "Busan",
            "Chungcheongbuk-do",
            "Chungcheongnam-do",
            "Daegu",
            "Daejeon",
            "Gangwon-do",
            "Gwangju",
            "Gyeonggi-do",
            "Gyeongsangbuk-do",
            "Gyeongsangnam-do",
            "Incheon",
            "Jeju-do",
            "Jeollabuk-do",
            "Jeollanam-do",
            "Sejong",
            "Seoul",
            "Ulsan"
           ],
           "ids": [
            "Busan",
            "Chungcheongbuk-do",
            "Chungcheongnam-do",
            "Daegu",
            "Daejeon",
            "Gangwon-do",
            "Gwangju",
            "Gyeonggi-do",
            "Gyeongsangbuk-do",
            "Gyeongsangnam-do",
            "Incheon",
            "Jeju-do",
            "Jeollabuk-do",
            "Jeollanam-do",
            "Sejong",
            "Seoul",
            "Ulsan"
           ],
           "legendgroup": "",
           "marker": {
            "color": "#636efa",
            "opacity": 0.75
           },
           "name": "",
           "offsetgroup": "",
           "orientation": "v",
           "showlegend": false,
           "textposition": "auto",
           "type": "bar",
           "x": [
            "Busan",
            "Chungcheongbuk-do",
            "Chungcheongnam-do",
            "Daegu",
            "Daejeon",
            "Gangwon-do",
            "Gwangju",
            "Gyeonggi-do",
            "Gyeongsangbuk-do",
            "Gyeongsangnam-do",
            "Incheon",
            "Jeju-do",
            "Jeollabuk-do",
            "Jeollanam-do",
            "Sejong",
            "Seoul",
            "Ulsan"
           ],
           "xaxis": "x",
           "y": [
            89,
            26,
            102,
            63,
            17,
            26,
            15,
            165,
            955,
            79,
            22,
            4,
            7,
            4,
            6,
            156,
            22
           ],
           "yaxis": "y"
          }
         ],
         "name": "49"
        },
        {
         "data": [
          {
           "alignmentgroup": "True",
           "customdata": [
            [
             91,
             2,
             88,
             1
            ],
            [
             27,
             2,
             25,
             0
            ],
            [
             112,
             2,
             110,
             0
            ],
            [
             63,
             39,
             4,
             20
            ],
            [
             17,
             1,
             16,
             0
            ],
            [
             27,
             4,
             22,
             1
            ],
            [
             15,
             0,
             15,
             0
            ],
            [
             175,
             123,
             51,
             1
            ],
            [
             969,
             251,
             694,
             24
            ],
            [
             80,
             2,
             78,
             0
            ],
            [
             25,
             4,
             21,
             0
            ],
            [
             4,
             0,
             4,
             0
            ],
            [
             7,
             3,
             4,
             0
            ],
            [
             4,
             1,
             3,
             0
            ],
            [
             12,
             1,
             11,
             0
            ],
            [
             202,
             11,
             190,
             1
            ],
            [
             23,
             0,
             22,
             1
            ]
           ],
           "hovertemplate": "<b>%{hovertext}</b><br><br>Days=50<br>province=%{x}<br>Confirmed=%{customdata[0]}<br>Isolated=%{customdata[1]}<br>Released=%{customdata[2]}<br>Deceased=%{customdata[3]}<extra></extra>",
           "hovertext": [
            "Busan",
            "Chungcheongbuk-do",
            "Chungcheongnam-do",
            "Daegu",
            "Daejeon",
            "Gangwon-do",
            "Gwangju",
            "Gyeonggi-do",
            "Gyeongsangbuk-do",
            "Gyeongsangnam-do",
            "Incheon",
            "Jeju-do",
            "Jeollabuk-do",
            "Jeollanam-do",
            "Sejong",
            "Seoul",
            "Ulsan"
           ],
           "ids": [
            "Busan",
            "Chungcheongbuk-do",
            "Chungcheongnam-do",
            "Daegu",
            "Daejeon",
            "Gangwon-do",
            "Gwangju",
            "Gyeonggi-do",
            "Gyeongsangbuk-do",
            "Gyeongsangnam-do",
            "Incheon",
            "Jeju-do",
            "Jeollabuk-do",
            "Jeollanam-do",
            "Sejong",
            "Seoul",
            "Ulsan"
           ],
           "legendgroup": "",
           "marker": {
            "color": "#636efa",
            "opacity": 0.75
           },
           "name": "",
           "offsetgroup": "",
           "orientation": "v",
           "showlegend": false,
           "textposition": "auto",
           "type": "bar",
           "x": [
            "Busan",
            "Chungcheongbuk-do",
            "Chungcheongnam-do",
            "Daegu",
            "Daejeon",
            "Gangwon-do",
            "Gwangju",
            "Gyeonggi-do",
            "Gyeongsangbuk-do",
            "Gyeongsangnam-do",
            "Incheon",
            "Jeju-do",
            "Jeollabuk-do",
            "Jeollanam-do",
            "Sejong",
            "Seoul",
            "Ulsan"
           ],
           "xaxis": "x",
           "y": [
            91,
            27,
            112,
            63,
            17,
            27,
            15,
            175,
            969,
            80,
            25,
            4,
            7,
            4,
            12,
            202,
            23
           ],
           "yaxis": "y"
          }
         ],
         "name": "50"
        },
        {
         "data": [
          {
           "alignmentgroup": "True",
           "customdata": [
            [
             93,
             2,
             90,
             1
            ],
            [
             27,
             2,
             25,
             0
            ],
            [
             113,
             2,
             111,
             0
            ],
            [
             63,
             39,
             4,
             20
            ],
            [
             19,
             2,
             17,
             0
            ],
            [
             27,
             4,
             22,
             1
            ],
            [
             15,
             0,
             15,
             0
            ],
            [
             180,
             127,
             52,
             1
            ],
            [
             983,
             256,
             702,
             25
            ],
            [
             81,
             2,
             79,
             0
            ],
            [
             26,
             4,
             22,
             0
            ],
            [
             4,
             0,
             4,
             0
            ],
            [
             7,
             3,
             4,
             0
            ],
            [
             4,
             1,
             3,
             0
            ],
            [
             19,
             2,
             17,
             0
            ],
            [
             220,
             13,
             206,
             1
            ],
            [
             23,
             0,
             22,
             1
            ]
           ],
           "hovertemplate": "<b>%{hovertext}</b><br><br>Days=51<br>province=%{x}<br>Confirmed=%{customdata[0]}<br>Isolated=%{customdata[1]}<br>Released=%{customdata[2]}<br>Deceased=%{customdata[3]}<extra></extra>",
           "hovertext": [
            "Busan",
            "Chungcheongbuk-do",
            "Chungcheongnam-do",
            "Daegu",
            "Daejeon",
            "Gangwon-do",
            "Gwangju",
            "Gyeonggi-do",
            "Gyeongsangbuk-do",
            "Gyeongsangnam-do",
            "Incheon",
            "Jeju-do",
            "Jeollabuk-do",
            "Jeollanam-do",
            "Sejong",
            "Seoul",
            "Ulsan"
           ],
           "ids": [
            "Busan",
            "Chungcheongbuk-do",
            "Chungcheongnam-do",
            "Daegu",
            "Daejeon",
            "Gangwon-do",
            "Gwangju",
            "Gyeonggi-do",
            "Gyeongsangbuk-do",
            "Gyeongsangnam-do",
            "Incheon",
            "Jeju-do",
            "Jeollabuk-do",
            "Jeollanam-do",
            "Sejong",
            "Seoul",
            "Ulsan"
           ],
           "legendgroup": "",
           "marker": {
            "color": "#636efa",
            "opacity": 0.75
           },
           "name": "",
           "offsetgroup": "",
           "orientation": "v",
           "showlegend": false,
           "textposition": "auto",
           "type": "bar",
           "x": [
            "Busan",
            "Chungcheongbuk-do",
            "Chungcheongnam-do",
            "Daegu",
            "Daejeon",
            "Gangwon-do",
            "Gwangju",
            "Gyeonggi-do",
            "Gyeongsangbuk-do",
            "Gyeongsangnam-do",
            "Incheon",
            "Jeju-do",
            "Jeollabuk-do",
            "Jeollanam-do",
            "Sejong",
            "Seoul",
            "Ulsan"
           ],
           "xaxis": "x",
           "y": [
            93,
            27,
            113,
            63,
            19,
            27,
            15,
            180,
            983,
            81,
            26,
            4,
            7,
            4,
            19,
            220,
            23
           ],
           "yaxis": "y"
          }
         ],
         "name": "51"
        },
        {
         "data": [
          {
           "alignmentgroup": "True",
           "customdata": [
            [
             94,
             2,
             91,
             1
            ],
            [
             27,
             2,
             25,
             0
            ],
            [
             113,
             2,
             111,
             0
            ],
            [
             63,
             39,
             4,
             20
            ],
            [
             21,
             2,
             19,
             0
            ],
            [
             27,
             4,
             22,
             1
            ],
            [
             15,
             0,
             15,
             0
            ],
            [
             186,
             133,
             52,
             1
            ],
            [
             984,
             256,
             703,
             25
            ],
            [
             81,
             2,
             79,
             0
            ],
            [
             27,
             4,
             23,
             0
            ],
            [
             4,
             0,
             4,
             0
            ],
            [
             7,
             3,
             4,
             0
            ],
            [
             4,
             1,
             3,
             0
            ],
            [
             30,
             3,
             27,
             0
            ],
            [
             231,
             14,
             216,
             1
            ],
            [
             25,
             0,
             24,
             1
            ]
           ],
           "hovertemplate": "<b>%{hovertext}</b><br><br>Days=52<br>province=%{x}<br>Confirmed=%{customdata[0]}<br>Isolated=%{customdata[1]}<br>Released=%{customdata[2]}<br>Deceased=%{customdata[3]}<extra></extra>",
           "hovertext": [
            "Busan",
            "Chungcheongbuk-do",
            "Chungcheongnam-do",
            "Daegu",
            "Daejeon",
            "Gangwon-do",
            "Gwangju",
            "Gyeonggi-do",
            "Gyeongsangbuk-do",
            "Gyeongsangnam-do",
            "Incheon",
            "Jeju-do",
            "Jeollabuk-do",
            "Jeollanam-do",
            "Sejong",
            "Seoul",
            "Ulsan"
           ],
           "ids": [
            "Busan",
            "Chungcheongbuk-do",
            "Chungcheongnam-do",
            "Daegu",
            "Daejeon",
            "Gangwon-do",
            "Gwangju",
            "Gyeonggi-do",
            "Gyeongsangbuk-do",
            "Gyeongsangnam-do",
            "Incheon",
            "Jeju-do",
            "Jeollabuk-do",
            "Jeollanam-do",
            "Sejong",
            "Seoul",
            "Ulsan"
           ],
           "legendgroup": "",
           "marker": {
            "color": "#636efa",
            "opacity": 0.75
           },
           "name": "",
           "offsetgroup": "",
           "orientation": "v",
           "showlegend": false,
           "textposition": "auto",
           "type": "bar",
           "x": [
            "Busan",
            "Chungcheongbuk-do",
            "Chungcheongnam-do",
            "Daegu",
            "Daejeon",
            "Gangwon-do",
            "Gwangju",
            "Gyeonggi-do",
            "Gyeongsangbuk-do",
            "Gyeongsangnam-do",
            "Incheon",
            "Jeju-do",
            "Jeollabuk-do",
            "Jeollanam-do",
            "Sejong",
            "Seoul",
            "Ulsan"
           ],
           "xaxis": "x",
           "y": [
            94,
            27,
            113,
            63,
            21,
            27,
            15,
            186,
            984,
            81,
            27,
            4,
            7,
            4,
            30,
            231,
            25
           ],
           "yaxis": "y"
          }
         ],
         "name": "52"
        },
        {
         "data": [
          {
           "alignmentgroup": "True",
           "customdata": [
            [
             98,
             3,
             92,
             3
            ],
            [
             28,
             2,
             26,
             0
            ],
            [
             113,
             2,
             111,
             0
            ],
            [
             63,
             39,
             4,
             20
            ],
            [
             21,
             2,
             19,
             0
            ],
            [
             27,
             4,
             22,
             1
            ],
            [
             15,
             0,
             15,
             0
            ],
            [
             201,
             147,
             53,
             1
            ],
            [
             988,
             257,
             706,
             25
            ],
            [
             81,
             2,
             79,
             0
            ],
            [
             28,
             4,
             24,
             0
            ],
            [
             4,
             0,
             4,
             0
            ],
            [
             7,
             3,
             4,
             0
            ],
            [
             4,
             1,
             3,
             0
            ],
            [
             31,
             3,
             28,
             0
            ],
            [
             240,
             15,
             224,
             1
            ],
            [
             25,
             0,
             24,
             1
            ]
           ],
           "hovertemplate": "<b>%{hovertext}</b><br><br>Days=53<br>province=%{x}<br>Confirmed=%{customdata[0]}<br>Isolated=%{customdata[1]}<br>Released=%{customdata[2]}<br>Deceased=%{customdata[3]}<extra></extra>",
           "hovertext": [
            "Busan",
            "Chungcheongbuk-do",
            "Chungcheongnam-do",
            "Daegu",
            "Daejeon",
            "Gangwon-do",
            "Gwangju",
            "Gyeonggi-do",
            "Gyeongsangbuk-do",
            "Gyeongsangnam-do",
            "Incheon",
            "Jeju-do",
            "Jeollabuk-do",
            "Jeollanam-do",
            "Sejong",
            "Seoul",
            "Ulsan"
           ],
           "ids": [
            "Busan",
            "Chungcheongbuk-do",
            "Chungcheongnam-do",
            "Daegu",
            "Daejeon",
            "Gangwon-do",
            "Gwangju",
            "Gyeonggi-do",
            "Gyeongsangbuk-do",
            "Gyeongsangnam-do",
            "Incheon",
            "Jeju-do",
            "Jeollabuk-do",
            "Jeollanam-do",
            "Sejong",
            "Seoul",
            "Ulsan"
           ],
           "legendgroup": "",
           "marker": {
            "color": "#636efa",
            "opacity": 0.75
           },
           "name": "",
           "offsetgroup": "",
           "orientation": "v",
           "showlegend": false,
           "textposition": "auto",
           "type": "bar",
           "x": [
            "Busan",
            "Chungcheongbuk-do",
            "Chungcheongnam-do",
            "Daegu",
            "Daejeon",
            "Gangwon-do",
            "Gwangju",
            "Gyeonggi-do",
            "Gyeongsangbuk-do",
            "Gyeongsangnam-do",
            "Incheon",
            "Jeju-do",
            "Jeollabuk-do",
            "Jeollanam-do",
            "Sejong",
            "Seoul",
            "Ulsan"
           ],
           "xaxis": "x",
           "y": [
            98,
            28,
            113,
            63,
            21,
            27,
            15,
            201,
            988,
            81,
            28,
            4,
            7,
            4,
            31,
            240,
            25
           ],
           "yaxis": "y"
          }
         ],
         "name": "53"
        },
        {
         "data": [
          {
           "alignmentgroup": "True",
           "customdata": [
            [
             100,
             3,
             94,
             3
            ],
            [
             31,
             2,
             29,
             0
            ],
            [
             113,
             2,
             111,
             0
            ],
            [
             63,
             39,
             4,
             20
            ],
            [
             21,
             2,
             19,
             0
            ],
            [
             27,
             4,
             22,
             1
            ],
            [
             16,
             0,
             16,
             0
            ],
            [
             211,
             156,
             54,
             1
            ],
            [
             994,
             259,
             710,
             25
            ],
            [
             81,
             2,
             79,
             0
            ],
            [
             30,
             4,
             26,
             0
            ],
            [
             4,
             0,
             4,
             0
            ],
            [
             7,
             3,
             4,
             0
            ],
            [
             4,
             1,
             3,
             0
            ],
            [
             32,
             3,
             29,
             0
            ],
            [
             248,
             17,
             230,
             1
            ],
            [
             26,
             0,
             25,
             1
            ]
           ],
           "hovertemplate": "<b>%{hovertext}</b><br><br>Days=54<br>province=%{x}<br>Confirmed=%{customdata[0]}<br>Isolated=%{customdata[1]}<br>Released=%{customdata[2]}<br>Deceased=%{customdata[3]}<extra></extra>",
           "hovertext": [
            "Busan",
            "Chungcheongbuk-do",
            "Chungcheongnam-do",
            "Daegu",
            "Daejeon",
            "Gangwon-do",
            "Gwangju",
            "Gyeonggi-do",
            "Gyeongsangbuk-do",
            "Gyeongsangnam-do",
            "Incheon",
            "Jeju-do",
            "Jeollabuk-do",
            "Jeollanam-do",
            "Sejong",
            "Seoul",
            "Ulsan"
           ],
           "ids": [
            "Busan",
            "Chungcheongbuk-do",
            "Chungcheongnam-do",
            "Daegu",
            "Daejeon",
            "Gangwon-do",
            "Gwangju",
            "Gyeonggi-do",
            "Gyeongsangbuk-do",
            "Gyeongsangnam-do",
            "Incheon",
            "Jeju-do",
            "Jeollabuk-do",
            "Jeollanam-do",
            "Sejong",
            "Seoul",
            "Ulsan"
           ],
           "legendgroup": "",
           "marker": {
            "color": "#636efa",
            "opacity": 0.75
           },
           "name": "",
           "offsetgroup": "",
           "orientation": "v",
           "showlegend": false,
           "textposition": "auto",
           "type": "bar",
           "x": [
            "Busan",
            "Chungcheongbuk-do",
            "Chungcheongnam-do",
            "Daegu",
            "Daejeon",
            "Gangwon-do",
            "Gwangju",
            "Gyeonggi-do",
            "Gyeongsangbuk-do",
            "Gyeongsangnam-do",
            "Incheon",
            "Jeju-do",
            "Jeollabuk-do",
            "Jeollanam-do",
            "Sejong",
            "Seoul",
            "Ulsan"
           ],
           "xaxis": "x",
           "y": [
            100,
            31,
            113,
            63,
            21,
            27,
            16,
            211,
            994,
            81,
            30,
            4,
            7,
            4,
            32,
            248,
            26
           ],
           "yaxis": "y"
          }
         ],
         "name": "54"
        },
        {
         "data": [
          {
           "alignmentgroup": "True",
           "customdata": [
            [
             101,
             3,
             95,
             3
            ],
            [
             31,
             2,
             29,
             0
            ],
            [
             113,
             2,
             111,
             0
            ],
            [
             63,
             39,
             4,
             20
            ],
            [
             21,
             2,
             19,
             0
            ],
            [
             27,
             4,
             22,
             1
            ],
            [
             16,
             0,
             16,
             0
            ],
            [
             231,
             176,
             54,
             1
            ],
            [
             1003,
             262,
             714,
             27
            ],
            [
             81,
             2,
             79,
             0
            ],
            [
             30,
             4,
             26,
             0
            ],
            [
             4,
             0,
             4,
             0
            ],
            [
             7,
             3,
             4,
             0
            ],
            [
             4,
             1,
             3,
             0
            ],
            [
             33,
             3,
             30,
             0
            ],
            [
             254,
             19,
             234,
             1
            ],
            [
             26,
             0,
             25,
             1
            ]
           ],
           "hovertemplate": "<b>%{hovertext}</b><br><br>Days=55<br>province=%{x}<br>Confirmed=%{customdata[0]}<br>Isolated=%{customdata[1]}<br>Released=%{customdata[2]}<br>Deceased=%{customdata[3]}<extra></extra>",
           "hovertext": [
            "Busan",
            "Chungcheongbuk-do",
            "Chungcheongnam-do",
            "Daegu",
            "Daejeon",
            "Gangwon-do",
            "Gwangju",
            "Gyeonggi-do",
            "Gyeongsangbuk-do",
            "Gyeongsangnam-do",
            "Incheon",
            "Jeju-do",
            "Jeollabuk-do",
            "Jeollanam-do",
            "Sejong",
            "Seoul",
            "Ulsan"
           ],
           "ids": [
            "Busan",
            "Chungcheongbuk-do",
            "Chungcheongnam-do",
            "Daegu",
            "Daejeon",
            "Gangwon-do",
            "Gwangju",
            "Gyeonggi-do",
            "Gyeongsangbuk-do",
            "Gyeongsangnam-do",
            "Incheon",
            "Jeju-do",
            "Jeollabuk-do",
            "Jeollanam-do",
            "Sejong",
            "Seoul",
            "Ulsan"
           ],
           "legendgroup": "",
           "marker": {
            "color": "#636efa",
            "opacity": 0.75
           },
           "name": "",
           "offsetgroup": "",
           "orientation": "v",
           "showlegend": false,
           "textposition": "auto",
           "type": "bar",
           "x": [
            "Busan",
            "Chungcheongbuk-do",
            "Chungcheongnam-do",
            "Daegu",
            "Daejeon",
            "Gangwon-do",
            "Gwangju",
            "Gyeonggi-do",
            "Gyeongsangbuk-do",
            "Gyeongsangnam-do",
            "Incheon",
            "Jeju-do",
            "Jeollabuk-do",
            "Jeollanam-do",
            "Sejong",
            "Seoul",
            "Ulsan"
           ],
           "xaxis": "x",
           "y": [
            101,
            31,
            113,
            63,
            21,
            27,
            16,
            231,
            1003,
            81,
            30,
            4,
            7,
            4,
            33,
            254,
            26
           ],
           "yaxis": "y"
          }
         ],
         "name": "55"
        },
        {
         "data": [
          {
           "alignmentgroup": "True",
           "customdata": [
            [
             101,
             3,
             95,
             3
            ],
            [
             31,
             2,
             29,
             0
            ],
            [
             113,
             2,
             111,
             0
            ],
            [
             63,
             39,
             4,
             20
            ],
            [
             21,
             2,
             19,
             0
            ],
            [
             27,
             4,
             22,
             1
            ],
            [
             16,
             0,
             16,
             0
            ],
            [
             264,
             209,
             54,
             1
            ],
            [
             1008,
             265,
             716,
             27
            ],
            [
             82,
             2,
             80,
             0
            ],
            [
             31,
             4,
             27,
             0
            ],
            [
             4,
             0,
             4,
             0
            ],
            [
             8,
             4,
             4,
             0
            ],
            [
             4,
             1,
             3,
             0
            ],
            [
             33,
             3,
             30,
             0
            ],
            [
             267,
             21,
             245,
             1
            ],
            [
             26,
             0,
             25,
             1
            ]
           ],
           "hovertemplate": "<b>%{hovertext}</b><br><br>Days=56<br>province=%{x}<br>Confirmed=%{customdata[0]}<br>Isolated=%{customdata[1]}<br>Released=%{customdata[2]}<br>Deceased=%{customdata[3]}<extra></extra>",
           "hovertext": [
            "Busan",
            "Chungcheongbuk-do",
            "Chungcheongnam-do",
            "Daegu",
            "Daejeon",
            "Gangwon-do",
            "Gwangju",
            "Gyeonggi-do",
            "Gyeongsangbuk-do",
            "Gyeongsangnam-do",
            "Incheon",
            "Jeju-do",
            "Jeollabuk-do",
            "Jeollanam-do",
            "Sejong",
            "Seoul",
            "Ulsan"
           ],
           "ids": [
            "Busan",
            "Chungcheongbuk-do",
            "Chungcheongnam-do",
            "Daegu",
            "Daejeon",
            "Gangwon-do",
            "Gwangju",
            "Gyeonggi-do",
            "Gyeongsangbuk-do",
            "Gyeongsangnam-do",
            "Incheon",
            "Jeju-do",
            "Jeollabuk-do",
            "Jeollanam-do",
            "Sejong",
            "Seoul",
            "Ulsan"
           ],
           "legendgroup": "",
           "marker": {
            "color": "#636efa",
            "opacity": 0.75
           },
           "name": "",
           "offsetgroup": "",
           "orientation": "v",
           "showlegend": false,
           "textposition": "auto",
           "type": "bar",
           "x": [
            "Busan",
            "Chungcheongbuk-do",
            "Chungcheongnam-do",
            "Daegu",
            "Daejeon",
            "Gangwon-do",
            "Gwangju",
            "Gyeonggi-do",
            "Gyeongsangbuk-do",
            "Gyeongsangnam-do",
            "Incheon",
            "Jeju-do",
            "Jeollabuk-do",
            "Jeollanam-do",
            "Sejong",
            "Seoul",
            "Ulsan"
           ],
           "xaxis": "x",
           "y": [
            101,
            31,
            113,
            63,
            21,
            27,
            16,
            264,
            1008,
            82,
            31,
            4,
            8,
            4,
            33,
            267,
            26
           ],
           "yaxis": "y"
          }
         ],
         "name": "56"
        },
        {
         "data": [
          {
           "alignmentgroup": "True",
           "customdata": [
            [
             102,
             3,
             96,
             3
            ],
            [
             32,
             2,
             30,
             0
            ],
            [
             116,
             2,
             114,
             0
            ],
            [
             63,
             39,
             4,
             20
            ],
            [
             21,
             2,
             19,
             0
            ],
            [
             28,
             4,
             23,
             1
            ],
            [
             18,
             0,
             18,
             0
            ],
            [
             279,
             224,
             54,
             1
            ],
            [
             1018,
             266,
             725,
             27
            ],
            [
             82,
             2,
             80,
             0
            ],
            [
             32,
             4,
             28,
             0
            ],
            [
             4,
             0,
             4,
             0
            ],
            [
             9,
             5,
             4,
             0
            ],
            [
             5,
             2,
             3,
             0
            ],
            [
             34,
             3,
             31,
             0
            ],
            [
             271,
             23,
             247,
             1
            ],
            [
             28,
             0,
             27,
             1
            ]
           ],
           "hovertemplate": "<b>%{hovertext}</b><br><br>Days=57<br>province=%{x}<br>Confirmed=%{customdata[0]}<br>Isolated=%{customdata[1]}<br>Released=%{customdata[2]}<br>Deceased=%{customdata[3]}<extra></extra>",
           "hovertext": [
            "Busan",
            "Chungcheongbuk-do",
            "Chungcheongnam-do",
            "Daegu",
            "Daejeon",
            "Gangwon-do",
            "Gwangju",
            "Gyeonggi-do",
            "Gyeongsangbuk-do",
            "Gyeongsangnam-do",
            "Incheon",
            "Jeju-do",
            "Jeollabuk-do",
            "Jeollanam-do",
            "Sejong",
            "Seoul",
            "Ulsan"
           ],
           "ids": [
            "Busan",
            "Chungcheongbuk-do",
            "Chungcheongnam-do",
            "Daegu",
            "Daejeon",
            "Gangwon-do",
            "Gwangju",
            "Gyeonggi-do",
            "Gyeongsangbuk-do",
            "Gyeongsangnam-do",
            "Incheon",
            "Jeju-do",
            "Jeollabuk-do",
            "Jeollanam-do",
            "Sejong",
            "Seoul",
            "Ulsan"
           ],
           "legendgroup": "",
           "marker": {
            "color": "#636efa",
            "opacity": 0.75
           },
           "name": "",
           "offsetgroup": "",
           "orientation": "v",
           "showlegend": false,
           "textposition": "auto",
           "type": "bar",
           "x": [
            "Busan",
            "Chungcheongbuk-do",
            "Chungcheongnam-do",
            "Daegu",
            "Daejeon",
            "Gangwon-do",
            "Gwangju",
            "Gyeonggi-do",
            "Gyeongsangbuk-do",
            "Gyeongsangnam-do",
            "Incheon",
            "Jeju-do",
            "Jeollabuk-do",
            "Jeollanam-do",
            "Sejong",
            "Seoul",
            "Ulsan"
           ],
           "xaxis": "x",
           "y": [
            102,
            32,
            116,
            63,
            21,
            28,
            18,
            279,
            1018,
            82,
            32,
            4,
            9,
            5,
            34,
            271,
            28
           ],
           "yaxis": "y"
          }
         ],
         "name": "57"
        },
        {
         "data": [
          {
           "alignmentgroup": "True",
           "customdata": [
            [
             104,
             3,
             98,
             3
            ],
            [
             33,
             2,
             31,
             0
            ],
            [
             116,
             2,
             114,
             0
            ],
            [
             63,
             39,
             4,
             20
            ],
            [
             21,
             2,
             19,
             0
            ],
            [
             28,
             4,
             23,
             1
            ],
            [
             18,
             0,
             18,
             0
            ],
            [
             300,
             245,
             54,
             1
            ],
            [
             1035,
             277,
             731,
             27
            ],
            [
             82,
             2,
             80,
             0
            ],
            [
             32,
             4,
             28,
             0
            ],
            [
             4,
             0,
             4,
             0
            ],
            [
             10,
             6,
             4,
             0
            ],
            [
             5,
             2,
             3,
             0
            ],
            [
             34,
             3,
             31,
             0
            ],
            [
             282,
             28,
             253,
             1
            ],
            [
             34,
             1,
             32,
             1
            ]
           ],
           "hovertemplate": "<b>%{hovertext}</b><br><br>Days=58<br>province=%{x}<br>Confirmed=%{customdata[0]}<br>Isolated=%{customdata[1]}<br>Released=%{customdata[2]}<br>Deceased=%{customdata[3]}<extra></extra>",
           "hovertext": [
            "Busan",
            "Chungcheongbuk-do",
            "Chungcheongnam-do",
            "Daegu",
            "Daejeon",
            "Gangwon-do",
            "Gwangju",
            "Gyeonggi-do",
            "Gyeongsangbuk-do",
            "Gyeongsangnam-do",
            "Incheon",
            "Jeju-do",
            "Jeollabuk-do",
            "Jeollanam-do",
            "Sejong",
            "Seoul",
            "Ulsan"
           ],
           "ids": [
            "Busan",
            "Chungcheongbuk-do",
            "Chungcheongnam-do",
            "Daegu",
            "Daejeon",
            "Gangwon-do",
            "Gwangju",
            "Gyeonggi-do",
            "Gyeongsangbuk-do",
            "Gyeongsangnam-do",
            "Incheon",
            "Jeju-do",
            "Jeollabuk-do",
            "Jeollanam-do",
            "Sejong",
            "Seoul",
            "Ulsan"
           ],
           "legendgroup": "",
           "marker": {
            "color": "#636efa",
            "opacity": 0.75
           },
           "name": "",
           "offsetgroup": "",
           "orientation": "v",
           "showlegend": false,
           "textposition": "auto",
           "type": "bar",
           "x": [
            "Busan",
            "Chungcheongbuk-do",
            "Chungcheongnam-do",
            "Daegu",
            "Daejeon",
            "Gangwon-do",
            "Gwangju",
            "Gyeonggi-do",
            "Gyeongsangbuk-do",
            "Gyeongsangnam-do",
            "Incheon",
            "Jeju-do",
            "Jeollabuk-do",
            "Jeollanam-do",
            "Sejong",
            "Seoul",
            "Ulsan"
           ],
           "xaxis": "x",
           "y": [
            104,
            33,
            116,
            63,
            21,
            28,
            18,
            300,
            1035,
            82,
            32,
            4,
            10,
            5,
            34,
            282,
            34
           ],
           "yaxis": "y"
          }
         ],
         "name": "58"
        },
        {
         "data": [
          {
           "alignmentgroup": "True",
           "customdata": [
            [
             104,
             3,
             98,
             3
            ],
            [
             33,
             2,
             31,
             0
            ],
            [
             117,
             3,
             114,
             0
            ],
            [
             63,
             39,
             4,
             20
            ],
            [
             21,
             2,
             19,
             0
            ],
            [
             28,
             4,
             23,
             1
            ],
            [
             18,
             0,
             18,
             0
            ],
            [
             312,
             256,
             55,
             1
            ],
            [
             1047,
             285,
             735,
             27
            ],
            [
             83,
             3,
             80,
             0
            ],
            [
             39,
             9,
             30,
             0
            ],
            [
             4,
             0,
             4,
             0
            ],
            [
             10,
             6,
             4,
             0
            ],
            [
             5,
             2,
             3,
             0
            ],
            [
             34,
             3,
             31,
             0
            ],
            [
             299,
             32,
             265,
             2
            ],
            [
             34,
             1,
             32,
             1
            ]
           ],
           "hovertemplate": "<b>%{hovertext}</b><br><br>Days=59<br>province=%{x}<br>Confirmed=%{customdata[0]}<br>Isolated=%{customdata[1]}<br>Released=%{customdata[2]}<br>Deceased=%{customdata[3]}<extra></extra>",
           "hovertext": [
            "Busan",
            "Chungcheongbuk-do",
            "Chungcheongnam-do",
            "Daegu",
            "Daejeon",
            "Gangwon-do",
            "Gwangju",
            "Gyeonggi-do",
            "Gyeongsangbuk-do",
            "Gyeongsangnam-do",
            "Incheon",
            "Jeju-do",
            "Jeollabuk-do",
            "Jeollanam-do",
            "Sejong",
            "Seoul",
            "Ulsan"
           ],
           "ids": [
            "Busan",
            "Chungcheongbuk-do",
            "Chungcheongnam-do",
            "Daegu",
            "Daejeon",
            "Gangwon-do",
            "Gwangju",
            "Gyeonggi-do",
            "Gyeongsangbuk-do",
            "Gyeongsangnam-do",
            "Incheon",
            "Jeju-do",
            "Jeollabuk-do",
            "Jeollanam-do",
            "Sejong",
            "Seoul",
            "Ulsan"
           ],
           "legendgroup": "",
           "marker": {
            "color": "#636efa",
            "opacity": 0.75
           },
           "name": "",
           "offsetgroup": "",
           "orientation": "v",
           "showlegend": false,
           "textposition": "auto",
           "type": "bar",
           "x": [
            "Busan",
            "Chungcheongbuk-do",
            "Chungcheongnam-do",
            "Daegu",
            "Daejeon",
            "Gangwon-do",
            "Gwangju",
            "Gyeonggi-do",
            "Gyeongsangbuk-do",
            "Gyeongsangnam-do",
            "Incheon",
            "Jeju-do",
            "Jeollabuk-do",
            "Jeollanam-do",
            "Sejong",
            "Seoul",
            "Ulsan"
           ],
           "xaxis": "x",
           "y": [
            104,
            33,
            117,
            63,
            21,
            28,
            18,
            312,
            1047,
            83,
            39,
            4,
            10,
            5,
            34,
            299,
            34
           ],
           "yaxis": "y"
          }
         ],
         "name": "59"
        },
        {
         "data": [
          {
           "alignmentgroup": "True",
           "customdata": [
            [
             104,
             3,
             98,
             3
            ],
            [
             34,
             2,
             32,
             0
            ],
            [
             117,
             3,
             114,
             0
            ],
            [
             63,
             39,
             4,
             20
            ],
            [
             21,
             2,
             19,
             0
            ],
            [
             28,
             4,
             23,
             1
            ],
            [
             19,
             1,
             18,
             0
            ],
            [
             323,
             266,
             56,
             1
            ],
            [
             1088,
             300,
             753,
             35
            ],
            [
             84,
             4,
             80,
             0
            ],
            [
             40,
             9,
             31,
             0
            ],
            [
             4,
             0,
             4,
             0
            ],
            [
             10,
             6,
             4,
             0
            ],
            [
             5,
             2,
             3,
             0
            ],
            [
             34,
             3,
             31,
             0
            ],
            [
             316,
             40,
             274,
             2
            ],
            [
             34,
             1,
             32,
             1
            ]
           ],
           "hovertemplate": "<b>%{hovertext}</b><br><br>Days=60<br>province=%{x}<br>Confirmed=%{customdata[0]}<br>Isolated=%{customdata[1]}<br>Released=%{customdata[2]}<br>Deceased=%{customdata[3]}<extra></extra>",
           "hovertext": [
            "Busan",
            "Chungcheongbuk-do",
            "Chungcheongnam-do",
            "Daegu",
            "Daejeon",
            "Gangwon-do",
            "Gwangju",
            "Gyeonggi-do",
            "Gyeongsangbuk-do",
            "Gyeongsangnam-do",
            "Incheon",
            "Jeju-do",
            "Jeollabuk-do",
            "Jeollanam-do",
            "Sejong",
            "Seoul",
            "Ulsan"
           ],
           "ids": [
            "Busan",
            "Chungcheongbuk-do",
            "Chungcheongnam-do",
            "Daegu",
            "Daejeon",
            "Gangwon-do",
            "Gwangju",
            "Gyeonggi-do",
            "Gyeongsangbuk-do",
            "Gyeongsangnam-do",
            "Incheon",
            "Jeju-do",
            "Jeollabuk-do",
            "Jeollanam-do",
            "Sejong",
            "Seoul",
            "Ulsan"
           ],
           "legendgroup": "",
           "marker": {
            "color": "#636efa",
            "opacity": 0.75
           },
           "name": "",
           "offsetgroup": "",
           "orientation": "v",
           "showlegend": false,
           "textposition": "auto",
           "type": "bar",
           "x": [
            "Busan",
            "Chungcheongbuk-do",
            "Chungcheongnam-do",
            "Daegu",
            "Daejeon",
            "Gangwon-do",
            "Gwangju",
            "Gyeonggi-do",
            "Gyeongsangbuk-do",
            "Gyeongsangnam-do",
            "Incheon",
            "Jeju-do",
            "Jeollabuk-do",
            "Jeollanam-do",
            "Sejong",
            "Seoul",
            "Ulsan"
           ],
           "xaxis": "x",
           "y": [
            104,
            34,
            117,
            63,
            21,
            28,
            19,
            323,
            1088,
            84,
            40,
            4,
            10,
            5,
            34,
            316,
            34
           ],
           "yaxis": "y"
          }
         ],
         "name": "60"
        },
        {
         "data": [
          {
           "alignmentgroup": "True",
           "customdata": [
            [
             104,
             3,
             98,
             3
            ],
            [
             35,
             2,
             33,
             0
            ],
            [
             118,
             3,
             115,
             0
            ],
            [
             63,
             39,
             4,
             20
            ],
            [
             23,
             3,
             20,
             0
            ],
            [
             28,
             4,
             23,
             1
            ],
            [
             19,
             1,
             18,
             0
            ],
            [
             338,
             281,
             56,
             1
            ],
            [
             1097,
             308,
             753,
             36
            ],
            [
             85,
             5,
             80,
             0
            ],
            [
             40,
             9,
             31,
             0
            ],
            [
             4,
             0,
             4,
             0
            ],
            [
             10,
             6,
             4,
             0
            ],
            [
             6,
             3,
             3,
             0
            ],
            [
             34,
             3,
             31,
             0
            ],
            [
             324,
             42,
             280,
             2
            ],
            [
             34,
             1,
             32,
             1
            ]
           ],
           "hovertemplate": "<b>%{hovertext}</b><br><br>Days=61<br>province=%{x}<br>Confirmed=%{customdata[0]}<br>Isolated=%{customdata[1]}<br>Released=%{customdata[2]}<br>Deceased=%{customdata[3]}<extra></extra>",
           "hovertext": [
            "Busan",
            "Chungcheongbuk-do",
            "Chungcheongnam-do",
            "Daegu",
            "Daejeon",
            "Gangwon-do",
            "Gwangju",
            "Gyeonggi-do",
            "Gyeongsangbuk-do",
            "Gyeongsangnam-do",
            "Incheon",
            "Jeju-do",
            "Jeollabuk-do",
            "Jeollanam-do",
            "Sejong",
            "Seoul",
            "Ulsan"
           ],
           "ids": [
            "Busan",
            "Chungcheongbuk-do",
            "Chungcheongnam-do",
            "Daegu",
            "Daejeon",
            "Gangwon-do",
            "Gwangju",
            "Gyeonggi-do",
            "Gyeongsangbuk-do",
            "Gyeongsangnam-do",
            "Incheon",
            "Jeju-do",
            "Jeollabuk-do",
            "Jeollanam-do",
            "Sejong",
            "Seoul",
            "Ulsan"
           ],
           "legendgroup": "",
           "marker": {
            "color": "#636efa",
            "opacity": 0.75
           },
           "name": "",
           "offsetgroup": "",
           "orientation": "v",
           "showlegend": false,
           "textposition": "auto",
           "type": "bar",
           "x": [
            "Busan",
            "Chungcheongbuk-do",
            "Chungcheongnam-do",
            "Daegu",
            "Daejeon",
            "Gangwon-do",
            "Gwangju",
            "Gyeonggi-do",
            "Gyeongsangbuk-do",
            "Gyeongsangnam-do",
            "Incheon",
            "Jeju-do",
            "Jeollabuk-do",
            "Jeollanam-do",
            "Sejong",
            "Seoul",
            "Ulsan"
           ],
           "xaxis": "x",
           "y": [
            104,
            35,
            118,
            63,
            23,
            28,
            19,
            338,
            1097,
            85,
            40,
            4,
            10,
            6,
            34,
            324,
            34
           ],
           "yaxis": "y"
          }
         ],
         "name": "61"
        },
        {
         "data": [
          {
           "alignmentgroup": "True",
           "customdata": [
            [
             107,
             3,
             101,
             3
            ],
            [
             38,
             2,
             36,
             0
            ],
            [
             118,
             3,
             115,
             0
            ],
            [
             63,
             39,
             4,
             20
            ],
            [
             23,
             3,
             20,
             0
            ],
            [
             28,
             4,
             23,
             1
            ],
            [
             19,
             1,
             18,
             0
            ],
            [
             353,
             294,
             58,
             1
            ],
            [
             1099,
             310,
             753,
             36
            ],
            [
             86,
             5,
             81,
             0
            ],
            [
             40,
             9,
             31,
             0
            ],
            [
             4,
             0,
             4,
             0
            ],
            [
             10,
             6,
             4,
             0
            ],
            [
             6,
             3,
             3,
             0
            ],
            [
             35,
             3,
             32,
             0
            ],
            [
             330,
             42,
             286,
             2
            ],
            [
             34,
             1,
             32,
             1
            ]
           ],
           "hovertemplate": "<b>%{hovertext}</b><br><br>Days=62<br>province=%{x}<br>Confirmed=%{customdata[0]}<br>Isolated=%{customdata[1]}<br>Released=%{customdata[2]}<br>Deceased=%{customdata[3]}<extra></extra>",
           "hovertext": [
            "Busan",
            "Chungcheongbuk-do",
            "Chungcheongnam-do",
            "Daegu",
            "Daejeon",
            "Gangwon-do",
            "Gwangju",
            "Gyeonggi-do",
            "Gyeongsangbuk-do",
            "Gyeongsangnam-do",
            "Incheon",
            "Jeju-do",
            "Jeollabuk-do",
            "Jeollanam-do",
            "Sejong",
            "Seoul",
            "Ulsan"
           ],
           "ids": [
            "Busan",
            "Chungcheongbuk-do",
            "Chungcheongnam-do",
            "Daegu",
            "Daejeon",
            "Gangwon-do",
            "Gwangju",
            "Gyeonggi-do",
            "Gyeongsangbuk-do",
            "Gyeongsangnam-do",
            "Incheon",
            "Jeju-do",
            "Jeollabuk-do",
            "Jeollanam-do",
            "Sejong",
            "Seoul",
            "Ulsan"
           ],
           "legendgroup": "",
           "marker": {
            "color": "#636efa",
            "opacity": 0.75
           },
           "name": "",
           "offsetgroup": "",
           "orientation": "v",
           "showlegend": false,
           "textposition": "auto",
           "type": "bar",
           "x": [
            "Busan",
            "Chungcheongbuk-do",
            "Chungcheongnam-do",
            "Daegu",
            "Daejeon",
            "Gangwon-do",
            "Gwangju",
            "Gyeonggi-do",
            "Gyeongsangbuk-do",
            "Gyeongsangnam-do",
            "Incheon",
            "Jeju-do",
            "Jeollabuk-do",
            "Jeollanam-do",
            "Sejong",
            "Seoul",
            "Ulsan"
           ],
           "xaxis": "x",
           "y": [
            107,
            38,
            118,
            63,
            23,
            28,
            19,
            353,
            1099,
            86,
            40,
            4,
            10,
            6,
            35,
            330,
            34
           ],
           "yaxis": "y"
          }
         ],
         "name": "62"
        },
        {
         "data": [
          {
           "alignmentgroup": "True",
           "customdata": [
            [
             107,
             3,
             101,
             3
            ],
            [
             38,
             2,
             36,
             0
            ],
            [
             118,
             3,
             115,
             0
            ],
            [
             63,
             39,
             4,
             20
            ],
            [
             23,
             3,
             20,
             0
            ],
            [
             29,
             5,
             23,
             1
            ],
            [
             19,
             1,
             18,
             0
            ],
            [
             365,
             306,
             58,
             1
            ],
            [
             1100,
             310,
             754,
             36
            ],
            [
             87,
             5,
             82,
             0
            ],
            [
             42,
             10,
             32,
             0
            ],
            [
             4,
             0,
             4,
             0
            ],
            [
             10,
             6,
             4,
             0
            ],
            [
             6,
             3,
             3,
             0
            ],
            [
             35,
             3,
             32,
             0
            ],
            [
             336,
             42,
             292,
             2
            ],
            [
             34,
             1,
             32,
             1
            ]
           ],
           "hovertemplate": "<b>%{hovertext}</b><br><br>Days=63<br>province=%{x}<br>Confirmed=%{customdata[0]}<br>Isolated=%{customdata[1]}<br>Released=%{customdata[2]}<br>Deceased=%{customdata[3]}<extra></extra>",
           "hovertext": [
            "Busan",
            "Chungcheongbuk-do",
            "Chungcheongnam-do",
            "Daegu",
            "Daejeon",
            "Gangwon-do",
            "Gwangju",
            "Gyeonggi-do",
            "Gyeongsangbuk-do",
            "Gyeongsangnam-do",
            "Incheon",
            "Jeju-do",
            "Jeollabuk-do",
            "Jeollanam-do",
            "Sejong",
            "Seoul",
            "Ulsan"
           ],
           "ids": [
            "Busan",
            "Chungcheongbuk-do",
            "Chungcheongnam-do",
            "Daegu",
            "Daejeon",
            "Gangwon-do",
            "Gwangju",
            "Gyeonggi-do",
            "Gyeongsangbuk-do",
            "Gyeongsangnam-do",
            "Incheon",
            "Jeju-do",
            "Jeollabuk-do",
            "Jeollanam-do",
            "Sejong",
            "Seoul",
            "Ulsan"
           ],
           "legendgroup": "",
           "marker": {
            "color": "#636efa",
            "opacity": 0.75
           },
           "name": "",
           "offsetgroup": "",
           "orientation": "v",
           "showlegend": false,
           "textposition": "auto",
           "type": "bar",
           "x": [
            "Busan",
            "Chungcheongbuk-do",
            "Chungcheongnam-do",
            "Daegu",
            "Daejeon",
            "Gangwon-do",
            "Gwangju",
            "Gyeonggi-do",
            "Gyeongsangbuk-do",
            "Gyeongsangnam-do",
            "Incheon",
            "Jeju-do",
            "Jeollabuk-do",
            "Jeollanam-do",
            "Sejong",
            "Seoul",
            "Ulsan"
           ],
           "xaxis": "x",
           "y": [
            107,
            38,
            118,
            63,
            23,
            29,
            19,
            365,
            1100,
            87,
            42,
            4,
            10,
            6,
            35,
            336,
            34
           ],
           "yaxis": "y"
          }
         ],
         "name": "63"
        },
        {
         "data": [
          {
           "alignmentgroup": "True",
           "customdata": [
            [
             108,
             3,
             102,
             3
            ],
            [
             38,
             2,
             36,
             0
            ],
            [
             121,
             3,
             118,
             0
            ],
            [
             63,
             39,
             4,
             20
            ],
            [
             26,
             4,
             22,
             0
            ],
            [
             30,
             5,
             24,
             1
            ],
            [
             19,
             1,
             18,
             0
            ],
            [
             388,
             329,
             58,
             1
            ],
            [
             1106,
             315,
             755,
             36
            ],
            [
             87,
             5,
             82,
             0
            ],
            [
             42,
             10,
             32,
             0
            ],
            [
             6,
             1,
             5,
             0
            ],
            [
             10,
             6,
             4,
             0
            ],
            [
             8,
             5,
             3,
             0
            ],
            [
             37,
             3,
             34,
             0
            ],
            [
             349,
             48,
             299,
             2
            ],
            [
             35,
             2,
             32,
             1
            ]
           ],
           "hovertemplate": "<b>%{hovertext}</b><br><br>Days=64<br>province=%{x}<br>Confirmed=%{customdata[0]}<br>Isolated=%{customdata[1]}<br>Released=%{customdata[2]}<br>Deceased=%{customdata[3]}<extra></extra>",
           "hovertext": [
            "Busan",
            "Chungcheongbuk-do",
            "Chungcheongnam-do",
            "Daegu",
            "Daejeon",
            "Gangwon-do",
            "Gwangju",
            "Gyeonggi-do",
            "Gyeongsangbuk-do",
            "Gyeongsangnam-do",
            "Incheon",
            "Jeju-do",
            "Jeollabuk-do",
            "Jeollanam-do",
            "Sejong",
            "Seoul",
            "Ulsan"
           ],
           "ids": [
            "Busan",
            "Chungcheongbuk-do",
            "Chungcheongnam-do",
            "Daegu",
            "Daejeon",
            "Gangwon-do",
            "Gwangju",
            "Gyeonggi-do",
            "Gyeongsangbuk-do",
            "Gyeongsangnam-do",
            "Incheon",
            "Jeju-do",
            "Jeollabuk-do",
            "Jeollanam-do",
            "Sejong",
            "Seoul",
            "Ulsan"
           ],
           "legendgroup": "",
           "marker": {
            "color": "#636efa",
            "opacity": 0.75
           },
           "name": "",
           "offsetgroup": "",
           "orientation": "v",
           "showlegend": false,
           "textposition": "auto",
           "type": "bar",
           "x": [
            "Busan",
            "Chungcheongbuk-do",
            "Chungcheongnam-do",
            "Daegu",
            "Daejeon",
            "Gangwon-do",
            "Gwangju",
            "Gyeonggi-do",
            "Gyeongsangbuk-do",
            "Gyeongsangnam-do",
            "Incheon",
            "Jeju-do",
            "Jeollabuk-do",
            "Jeollanam-do",
            "Sejong",
            "Seoul",
            "Ulsan"
           ],
           "xaxis": "x",
           "y": [
            108,
            38,
            121,
            63,
            26,
            30,
            19,
            388,
            1106,
            87,
            42,
            6,
            10,
            8,
            37,
            349,
            35
           ],
           "yaxis": "y"
          }
         ],
         "name": "64"
        },
        {
         "data": [
          {
           "alignmentgroup": "True",
           "customdata": [
            [
             109,
             4,
             102,
             3
            ],
            [
             39,
             2,
             37,
             0
            ],
            [
             122,
             3,
             119,
             0
            ],
            [
             63,
             39,
             4,
             20
            ],
            [
             29,
             4,
             25,
             0
            ],
            [
             30,
             5,
             24,
             1
            ],
            [
             19,
             1,
             18,
             0
            ],
            [
             403,
             342,
             60,
             1
            ],
            [
             1116,
             321,
             758,
             37
            ],
            [
             87,
             5,
             82,
             0
            ],
            [
             44,
             11,
             33,
             0
            ],
            [
             7,
             1,
             6,
             0
            ],
            [
             10,
             6,
             4,
             0
            ],
            [
             8,
             5,
             3,
             0
            ],
            [
             37,
             3,
             34,
             0
            ],
            [
             362,
             53,
             307,
             2
            ],
            [
             35,
             2,
             32,
             1
            ]
           ],
           "hovertemplate": "<b>%{hovertext}</b><br><br>Days=65<br>province=%{x}<br>Confirmed=%{customdata[0]}<br>Isolated=%{customdata[1]}<br>Released=%{customdata[2]}<br>Deceased=%{customdata[3]}<extra></extra>",
           "hovertext": [
            "Busan",
            "Chungcheongbuk-do",
            "Chungcheongnam-do",
            "Daegu",
            "Daejeon",
            "Gangwon-do",
            "Gwangju",
            "Gyeonggi-do",
            "Gyeongsangbuk-do",
            "Gyeongsangnam-do",
            "Incheon",
            "Jeju-do",
            "Jeollabuk-do",
            "Jeollanam-do",
            "Sejong",
            "Seoul",
            "Ulsan"
           ],
           "ids": [
            "Busan",
            "Chungcheongbuk-do",
            "Chungcheongnam-do",
            "Daegu",
            "Daejeon",
            "Gangwon-do",
            "Gwangju",
            "Gyeonggi-do",
            "Gyeongsangbuk-do",
            "Gyeongsangnam-do",
            "Incheon",
            "Jeju-do",
            "Jeollabuk-do",
            "Jeollanam-do",
            "Sejong",
            "Seoul",
            "Ulsan"
           ],
           "legendgroup": "",
           "marker": {
            "color": "#636efa",
            "opacity": 0.75
           },
           "name": "",
           "offsetgroup": "",
           "orientation": "v",
           "showlegend": false,
           "textposition": "auto",
           "type": "bar",
           "x": [
            "Busan",
            "Chungcheongbuk-do",
            "Chungcheongnam-do",
            "Daegu",
            "Daejeon",
            "Gangwon-do",
            "Gwangju",
            "Gyeonggi-do",
            "Gyeongsangbuk-do",
            "Gyeongsangnam-do",
            "Incheon",
            "Jeju-do",
            "Jeollabuk-do",
            "Jeollanam-do",
            "Sejong",
            "Seoul",
            "Ulsan"
           ],
           "xaxis": "x",
           "y": [
            109,
            39,
            122,
            63,
            29,
            30,
            19,
            403,
            1116,
            87,
            44,
            7,
            10,
            8,
            37,
            362,
            35
           ],
           "yaxis": "y"
          }
         ],
         "name": "65"
        },
        {
         "data": [
          {
           "alignmentgroup": "True",
           "customdata": [
            [
             110,
             5,
             102,
             3
            ],
            [
             41,
             3,
             38,
             0
            ],
            [
             122,
             3,
             119,
             0
            ],
            [
             63,
             39,
             4,
             20
            ],
            [
             30,
             5,
             25,
             0
            ],
            [
             30,
             5,
             24,
             1
            ],
            [
             20,
             1,
             19,
             0
            ],
            [
             416,
             355,
             60,
             1
            ],
            [
             1127,
             329,
             760,
             38
            ],
            [
             88,
             5,
             83,
             0
            ],
            [
             47,
             11,
             36,
             0
            ],
            [
             7,
             1,
             6,
             0
            ],
            [
             10,
             6,
             4,
             0
            ],
            [
             8,
             5,
             3,
             0
            ],
            [
             37,
             3,
             34,
             0
            ],
            [
             376,
             56,
             318,
             2
            ],
            [
             37,
             3,
             33,
             1
            ]
           ],
           "hovertemplate": "<b>%{hovertext}</b><br><br>Days=66<br>province=%{x}<br>Confirmed=%{customdata[0]}<br>Isolated=%{customdata[1]}<br>Released=%{customdata[2]}<br>Deceased=%{customdata[3]}<extra></extra>",
           "hovertext": [
            "Busan",
            "Chungcheongbuk-do",
            "Chungcheongnam-do",
            "Daegu",
            "Daejeon",
            "Gangwon-do",
            "Gwangju",
            "Gyeonggi-do",
            "Gyeongsangbuk-do",
            "Gyeongsangnam-do",
            "Incheon",
            "Jeju-do",
            "Jeollabuk-do",
            "Jeollanam-do",
            "Sejong",
            "Seoul",
            "Ulsan"
           ],
           "ids": [
            "Busan",
            "Chungcheongbuk-do",
            "Chungcheongnam-do",
            "Daegu",
            "Daejeon",
            "Gangwon-do",
            "Gwangju",
            "Gyeonggi-do",
            "Gyeongsangbuk-do",
            "Gyeongsangnam-do",
            "Incheon",
            "Jeju-do",
            "Jeollabuk-do",
            "Jeollanam-do",
            "Sejong",
            "Seoul",
            "Ulsan"
           ],
           "legendgroup": "",
           "marker": {
            "color": "#636efa",
            "opacity": 0.75
           },
           "name": "",
           "offsetgroup": "",
           "orientation": "v",
           "showlegend": false,
           "textposition": "auto",
           "type": "bar",
           "x": [
            "Busan",
            "Chungcheongbuk-do",
            "Chungcheongnam-do",
            "Daegu",
            "Daejeon",
            "Gangwon-do",
            "Gwangju",
            "Gyeonggi-do",
            "Gyeongsangbuk-do",
            "Gyeongsangnam-do",
            "Incheon",
            "Jeju-do",
            "Jeollabuk-do",
            "Jeollanam-do",
            "Sejong",
            "Seoul",
            "Ulsan"
           ],
           "xaxis": "x",
           "y": [
            110,
            41,
            122,
            63,
            30,
            30,
            20,
            416,
            1127,
            88,
            47,
            7,
            10,
            8,
            37,
            376,
            37
           ],
           "yaxis": "y"
          }
         ],
         "name": "66"
        },
        {
         "data": [
          {
           "alignmentgroup": "True",
           "customdata": [
            [
             112,
             5,
             104,
             3
            ],
            [
             41,
             3,
             38,
             0
            ],
            [
             124,
             3,
             121,
             0
            ],
            [
             63,
             39,
             4,
             20
            ],
            [
             30,
             5,
             25,
             0
            ],
            [
             31,
             6,
             24,
             1
            ],
            [
             20,
             1,
             19,
             0
            ],
            [
             435,
             374,
             60,
             1
            ],
            [
             1130,
             330,
             762,
             38
            ],
            [
             88,
             5,
             83,
             0
            ],
            [
             52,
             13,
             39,
             0
            ],
            [
             8,
             1,
             7,
             0
            ],
            [
             10,
             6,
             4,
             0
            ],
            [
             8,
             5,
             3,
             0
            ],
            [
             37,
             3,
             34,
             0
            ],
            [
             391,
             59,
             330,
             2
            ],
            [
             38,
             4,
             33,
             1
            ]
           ],
           "hovertemplate": "<b>%{hovertext}</b><br><br>Days=67<br>province=%{x}<br>Confirmed=%{customdata[0]}<br>Isolated=%{customdata[1]}<br>Released=%{customdata[2]}<br>Deceased=%{customdata[3]}<extra></extra>",
           "hovertext": [
            "Busan",
            "Chungcheongbuk-do",
            "Chungcheongnam-do",
            "Daegu",
            "Daejeon",
            "Gangwon-do",
            "Gwangju",
            "Gyeonggi-do",
            "Gyeongsangbuk-do",
            "Gyeongsangnam-do",
            "Incheon",
            "Jeju-do",
            "Jeollabuk-do",
            "Jeollanam-do",
            "Sejong",
            "Seoul",
            "Ulsan"
           ],
           "ids": [
            "Busan",
            "Chungcheongbuk-do",
            "Chungcheongnam-do",
            "Daegu",
            "Daejeon",
            "Gangwon-do",
            "Gwangju",
            "Gyeonggi-do",
            "Gyeongsangbuk-do",
            "Gyeongsangnam-do",
            "Incheon",
            "Jeju-do",
            "Jeollabuk-do",
            "Jeollanam-do",
            "Sejong",
            "Seoul",
            "Ulsan"
           ],
           "legendgroup": "",
           "marker": {
            "color": "#636efa",
            "opacity": 0.75
           },
           "name": "",
           "offsetgroup": "",
           "orientation": "v",
           "showlegend": false,
           "textposition": "auto",
           "type": "bar",
           "x": [
            "Busan",
            "Chungcheongbuk-do",
            "Chungcheongnam-do",
            "Daegu",
            "Daejeon",
            "Gangwon-do",
            "Gwangju",
            "Gyeonggi-do",
            "Gyeongsangbuk-do",
            "Gyeongsangnam-do",
            "Incheon",
            "Jeju-do",
            "Jeollabuk-do",
            "Jeollanam-do",
            "Sejong",
            "Seoul",
            "Ulsan"
           ],
           "xaxis": "x",
           "y": [
            112,
            41,
            124,
            63,
            30,
            31,
            20,
            435,
            1130,
            88,
            52,
            8,
            10,
            8,
            37,
            391,
            38
           ],
           "yaxis": "y"
          }
         ],
         "name": "67"
        },
        {
         "data": [
          {
           "alignmentgroup": "True",
           "customdata": [
            [
             114,
             5,
             106,
             3
            ],
            [
             41,
             3,
             38,
             0
            ],
            [
             125,
             4,
             121,
             0
            ],
            [
             63,
             39,
             4,
             20
            ],
            [
             33,
             5,
             28,
             0
            ],
            [
             33,
             8,
             24,
             1
            ],
            [
             20,
             1,
             19,
             0
            ],
            [
             455,
             393,
             61,
             1
            ],
            [
             1132,
             331,
             763,
             38
            ],
            [
             91,
             6,
             85,
             0
            ],
            [
             59,
             16,
             43,
             0
            ],
            [
             8,
             1,
             7,
             0
            ],
            [
             12,
             8,
             4,
             0
            ],
            [
             9,
             6,
             3,
             0
            ],
            [
             39,
             5,
             34,
             0
            ],
            [
             413,
             66,
             345,
             2
            ],
            [
             38,
             4,
             33,
             1
            ]
           ],
           "hovertemplate": "<b>%{hovertext}</b><br><br>Days=68<br>province=%{x}<br>Confirmed=%{customdata[0]}<br>Isolated=%{customdata[1]}<br>Released=%{customdata[2]}<br>Deceased=%{customdata[3]}<extra></extra>",
           "hovertext": [
            "Busan",
            "Chungcheongbuk-do",
            "Chungcheongnam-do",
            "Daegu",
            "Daejeon",
            "Gangwon-do",
            "Gwangju",
            "Gyeonggi-do",
            "Gyeongsangbuk-do",
            "Gyeongsangnam-do",
            "Incheon",
            "Jeju-do",
            "Jeollabuk-do",
            "Jeollanam-do",
            "Sejong",
            "Seoul",
            "Ulsan"
           ],
           "ids": [
            "Busan",
            "Chungcheongbuk-do",
            "Chungcheongnam-do",
            "Daegu",
            "Daejeon",
            "Gangwon-do",
            "Gwangju",
            "Gyeonggi-do",
            "Gyeongsangbuk-do",
            "Gyeongsangnam-do",
            "Incheon",
            "Jeju-do",
            "Jeollabuk-do",
            "Jeollanam-do",
            "Sejong",
            "Seoul",
            "Ulsan"
           ],
           "legendgroup": "",
           "marker": {
            "color": "#636efa",
            "opacity": 0.75
           },
           "name": "",
           "offsetgroup": "",
           "orientation": "v",
           "showlegend": false,
           "textposition": "auto",
           "type": "bar",
           "x": [
            "Busan",
            "Chungcheongbuk-do",
            "Chungcheongnam-do",
            "Daegu",
            "Daejeon",
            "Gangwon-do",
            "Gwangju",
            "Gyeonggi-do",
            "Gyeongsangbuk-do",
            "Gyeongsangnam-do",
            "Incheon",
            "Jeju-do",
            "Jeollabuk-do",
            "Jeollanam-do",
            "Sejong",
            "Seoul",
            "Ulsan"
           ],
           "xaxis": "x",
           "y": [
            114,
            41,
            125,
            63,
            33,
            33,
            20,
            455,
            1132,
            91,
            59,
            8,
            12,
            9,
            39,
            413,
            38
           ],
           "yaxis": "y"
          }
         ],
         "name": "68"
        },
        {
         "data": [
          {
           "alignmentgroup": "True",
           "customdata": [
            [
             116,
             6,
             107,
             3
            ],
            [
             44,
             5,
             39,
             0
            ],
            [
             125,
             4,
             121,
             0
            ],
            [
             63,
             39,
             4,
             20
            ],
            [
             33,
             5,
             28,
             0
            ],
            [
             35,
             8,
             26,
             1
            ],
            [
             20,
             1,
             19,
             0
            ],
            [
             466,
             404,
             61,
             1
            ],
            [
             1143,
             338,
             765,
             40
            ],
            [
             92,
             6,
             86,
             0
            ],
            [
             61,
             16,
             45,
             0
            ],
            [
             9,
             2,
             7,
             0
            ],
            [
             13,
             9,
             4,
             0
            ],
            [
             9,
             6,
             3,
             0
            ],
            [
             39,
             5,
             34,
             0
            ],
            [
             434,
             72,
             360,
             2
            ],
            [
             38,
             4,
             33,
             1
            ]
           ],
           "hovertemplate": "<b>%{hovertext}</b><br><br>Days=69<br>province=%{x}<br>Confirmed=%{customdata[0]}<br>Isolated=%{customdata[1]}<br>Released=%{customdata[2]}<br>Deceased=%{customdata[3]}<extra></extra>",
           "hovertext": [
            "Busan",
            "Chungcheongbuk-do",
            "Chungcheongnam-do",
            "Daegu",
            "Daejeon",
            "Gangwon-do",
            "Gwangju",
            "Gyeonggi-do",
            "Gyeongsangbuk-do",
            "Gyeongsangnam-do",
            "Incheon",
            "Jeju-do",
            "Jeollabuk-do",
            "Jeollanam-do",
            "Sejong",
            "Seoul",
            "Ulsan"
           ],
           "ids": [
            "Busan",
            "Chungcheongbuk-do",
            "Chungcheongnam-do",
            "Daegu",
            "Daejeon",
            "Gangwon-do",
            "Gwangju",
            "Gyeonggi-do",
            "Gyeongsangbuk-do",
            "Gyeongsangnam-do",
            "Incheon",
            "Jeju-do",
            "Jeollabuk-do",
            "Jeollanam-do",
            "Sejong",
            "Seoul",
            "Ulsan"
           ],
           "legendgroup": "",
           "marker": {
            "color": "#636efa",
            "opacity": 0.75
           },
           "name": "",
           "offsetgroup": "",
           "orientation": "v",
           "showlegend": false,
           "textposition": "auto",
           "type": "bar",
           "x": [
            "Busan",
            "Chungcheongbuk-do",
            "Chungcheongnam-do",
            "Daegu",
            "Daejeon",
            "Gangwon-do",
            "Gwangju",
            "Gyeonggi-do",
            "Gyeongsangbuk-do",
            "Gyeongsangnam-do",
            "Incheon",
            "Jeju-do",
            "Jeollabuk-do",
            "Jeollanam-do",
            "Sejong",
            "Seoul",
            "Ulsan"
           ],
           "xaxis": "x",
           "y": [
            116,
            44,
            125,
            63,
            33,
            35,
            20,
            466,
            1143,
            92,
            61,
            9,
            13,
            9,
            39,
            434,
            38
           ],
           "yaxis": "y"
          }
         ],
         "name": "69"
        },
        {
         "data": [
          {
           "alignmentgroup": "True",
           "customdata": [
            [
             116,
             6,
             107,
             3
            ],
            [
             44,
             5,
             39,
             0
            ],
            [
             126,
             5,
             121,
             0
            ],
            [
             63,
             39,
             4,
             20
            ],
            [
             35,
             5,
             30,
             0
            ],
            [
             35,
             8,
             26,
             1
            ],
            [
             20,
             1,
             19,
             0
            ],
            [
             478,
             416,
             61,
             1
            ],
            [
             1147,
             340,
             767,
             40
            ],
            [
             92,
             6,
             86,
             0
            ],
            [
             66,
             19,
             47,
             0
            ],
            [
             9,
             2,
             7,
             0
            ],
            [
             13,
             9,
             4,
             0
            ],
            [
             11,
             8,
             3,
             0
            ],
            [
             39,
             5,
             34,
             0
            ],
            [
             454,
             83,
             369,
             2
            ],
            [
             38,
             4,
             33,
             1
            ]
           ],
           "hovertemplate": "<b>%{hovertext}</b><br><br>Days=70<br>province=%{x}<br>Confirmed=%{customdata[0]}<br>Isolated=%{customdata[1]}<br>Released=%{customdata[2]}<br>Deceased=%{customdata[3]}<extra></extra>",
           "hovertext": [
            "Busan",
            "Chungcheongbuk-do",
            "Chungcheongnam-do",
            "Daegu",
            "Daejeon",
            "Gangwon-do",
            "Gwangju",
            "Gyeonggi-do",
            "Gyeongsangbuk-do",
            "Gyeongsangnam-do",
            "Incheon",
            "Jeju-do",
            "Jeollabuk-do",
            "Jeollanam-do",
            "Sejong",
            "Seoul",
            "Ulsan"
           ],
           "ids": [
            "Busan",
            "Chungcheongbuk-do",
            "Chungcheongnam-do",
            "Daegu",
            "Daejeon",
            "Gangwon-do",
            "Gwangju",
            "Gyeonggi-do",
            "Gyeongsangbuk-do",
            "Gyeongsangnam-do",
            "Incheon",
            "Jeju-do",
            "Jeollabuk-do",
            "Jeollanam-do",
            "Sejong",
            "Seoul",
            "Ulsan"
           ],
           "legendgroup": "",
           "marker": {
            "color": "#636efa",
            "opacity": 0.75
           },
           "name": "",
           "offsetgroup": "",
           "orientation": "v",
           "showlegend": false,
           "textposition": "auto",
           "type": "bar",
           "x": [
            "Busan",
            "Chungcheongbuk-do",
            "Chungcheongnam-do",
            "Daegu",
            "Daejeon",
            "Gangwon-do",
            "Gwangju",
            "Gyeonggi-do",
            "Gyeongsangbuk-do",
            "Gyeongsangnam-do",
            "Incheon",
            "Jeju-do",
            "Jeollabuk-do",
            "Jeollanam-do",
            "Sejong",
            "Seoul",
            "Ulsan"
           ],
           "xaxis": "x",
           "y": [
            116,
            44,
            126,
            63,
            35,
            35,
            20,
            478,
            1147,
            92,
            66,
            9,
            13,
            11,
            39,
            454,
            38
           ],
           "yaxis": "y"
          }
         ],
         "name": "70"
        },
        {
         "data": [
          {
           "alignmentgroup": "True",
           "customdata": [
            [
             119,
             6,
             110,
             3
            ],
            [
             44,
             5,
             39,
             0
            ],
            [
             129,
             6,
             123,
             0
            ],
            [
             63,
             39,
             4,
             20
            ],
            [
             35,
             5,
             30,
             0
            ],
            [
             37,
             9,
             27,
             1
            ],
            [
             24,
             4,
             20,
             0
            ],
            [
             501,
             439,
             61,
             1
            ],
            [
             1150,
             342,
             768,
             40
            ],
            [
             101,
             11,
             90,
             0
            ],
            [
             70,
             22,
             48,
             0
            ],
            [
             9,
             2,
             7,
             0
            ],
            [
             14,
             10,
             4,
             0
            ],
            [
             13,
             10,
             3,
             0
            ],
            [
             39,
             5,
             34,
             0
            ],
            [
             478,
             92,
             384,
             2
            ],
            [
             38,
             4,
             33,
             1
            ]
           ],
           "hovertemplate": "<b>%{hovertext}</b><br><br>Days=71<br>province=%{x}<br>Confirmed=%{customdata[0]}<br>Isolated=%{customdata[1]}<br>Released=%{customdata[2]}<br>Deceased=%{customdata[3]}<extra></extra>",
           "hovertext": [
            "Busan",
            "Chungcheongbuk-do",
            "Chungcheongnam-do",
            "Daegu",
            "Daejeon",
            "Gangwon-do",
            "Gwangju",
            "Gyeonggi-do",
            "Gyeongsangbuk-do",
            "Gyeongsangnam-do",
            "Incheon",
            "Jeju-do",
            "Jeollabuk-do",
            "Jeollanam-do",
            "Sejong",
            "Seoul",
            "Ulsan"
           ],
           "ids": [
            "Busan",
            "Chungcheongbuk-do",
            "Chungcheongnam-do",
            "Daegu",
            "Daejeon",
            "Gangwon-do",
            "Gwangju",
            "Gyeonggi-do",
            "Gyeongsangbuk-do",
            "Gyeongsangnam-do",
            "Incheon",
            "Jeju-do",
            "Jeollabuk-do",
            "Jeollanam-do",
            "Sejong",
            "Seoul",
            "Ulsan"
           ],
           "legendgroup": "",
           "marker": {
            "color": "#636efa",
            "opacity": 0.75
           },
           "name": "",
           "offsetgroup": "",
           "orientation": "v",
           "showlegend": false,
           "textposition": "auto",
           "type": "bar",
           "x": [
            "Busan",
            "Chungcheongbuk-do",
            "Chungcheongnam-do",
            "Daegu",
            "Daejeon",
            "Gangwon-do",
            "Gwangju",
            "Gyeonggi-do",
            "Gyeongsangbuk-do",
            "Gyeongsangnam-do",
            "Incheon",
            "Jeju-do",
            "Jeollabuk-do",
            "Jeollanam-do",
            "Sejong",
            "Seoul",
            "Ulsan"
           ],
           "xaxis": "x",
           "y": [
            119,
            44,
            129,
            63,
            35,
            37,
            24,
            501,
            1150,
            101,
            70,
            9,
            14,
            13,
            39,
            478,
            38
           ],
           "yaxis": "y"
          }
         ],
         "name": "71"
        },
        {
         "data": [
          {
           "alignmentgroup": "True",
           "customdata": [
            [
             119,
             6,
             110,
             3
            ],
            [
             44,
             5,
             39,
             0
            ],
            [
             131,
             7,
             124,
             0
            ],
            [
             63,
             39,
             4,
             20
            ],
            [
             35,
             5,
             30,
             0
            ],
            [
             37,
             9,
             27,
             1
            ],
            [
             25,
             5,
             20,
             0
            ],
            [
             520,
             458,
             61,
             1
            ],
            [
             1153,
             345,
             768,
             40
            ],
            [
             102,
             11,
             91,
             0
            ],
            [
             74,
             25,
             49,
             0
            ],
            [
             9,
             2,
             7,
             0
            ],
            [
             14,
             10,
             4,
             0
            ],
            [
             14,
             11,
             3,
             0
            ],
            [
             39,
             5,
             34,
             0
            ],
            [
             494,
             99,
             393,
             2
            ],
            [
             39,
             4,
             34,
             1
            ]
           ],
           "hovertemplate": "<b>%{hovertext}</b><br><br>Days=72<br>province=%{x}<br>Confirmed=%{customdata[0]}<br>Isolated=%{customdata[1]}<br>Released=%{customdata[2]}<br>Deceased=%{customdata[3]}<extra></extra>",
           "hovertext": [
            "Busan",
            "Chungcheongbuk-do",
            "Chungcheongnam-do",
            "Daegu",
            "Daejeon",
            "Gangwon-do",
            "Gwangju",
            "Gyeonggi-do",
            "Gyeongsangbuk-do",
            "Gyeongsangnam-do",
            "Incheon",
            "Jeju-do",
            "Jeollabuk-do",
            "Jeollanam-do",
            "Sejong",
            "Seoul",
            "Ulsan"
           ],
           "ids": [
            "Busan",
            "Chungcheongbuk-do",
            "Chungcheongnam-do",
            "Daegu",
            "Daejeon",
            "Gangwon-do",
            "Gwangju",
            "Gyeonggi-do",
            "Gyeongsangbuk-do",
            "Gyeongsangnam-do",
            "Incheon",
            "Jeju-do",
            "Jeollabuk-do",
            "Jeollanam-do",
            "Sejong",
            "Seoul",
            "Ulsan"
           ],
           "legendgroup": "",
           "marker": {
            "color": "#636efa",
            "opacity": 0.75
           },
           "name": "",
           "offsetgroup": "",
           "orientation": "v",
           "showlegend": false,
           "textposition": "auto",
           "type": "bar",
           "x": [
            "Busan",
            "Chungcheongbuk-do",
            "Chungcheongnam-do",
            "Daegu",
            "Daejeon",
            "Gangwon-do",
            "Gwangju",
            "Gyeonggi-do",
            "Gyeongsangbuk-do",
            "Gyeongsangnam-do",
            "Incheon",
            "Jeju-do",
            "Jeollabuk-do",
            "Jeollanam-do",
            "Sejong",
            "Seoul",
            "Ulsan"
           ],
           "xaxis": "x",
           "y": [
            119,
            44,
            131,
            63,
            35,
            37,
            25,
            520,
            1153,
            102,
            74,
            9,
            14,
            14,
            39,
            494,
            39
           ],
           "yaxis": "y"
          }
         ],
         "name": "72"
        },
        {
         "data": [
          {
           "alignmentgroup": "True",
           "customdata": [
            [
             119,
             6,
             110,
             3
            ],
            [
             44,
             5,
             39,
             0
            ],
            [
             132,
             7,
             125,
             0
            ],
            [
             63,
             39,
             4,
             20
            ],
            [
             35,
             5,
             30,
             0
            ],
            [
             39,
             11,
             27,
             1
            ],
            [
             26,
             5,
             21,
             0
            ],
            [
             546,
             484,
             61,
             1
            ],
            [
             1158,
             347,
             771,
             40
            ],
            [
             103,
             11,
             92,
             0
            ],
            [
             75,
             25,
             50,
             0
            ],
            [
             9,
             2,
             7,
             0
            ],
            [
             15,
             11,
             4,
             0
            ],
            [
             15,
             12,
             3,
             0
            ],
            [
             39,
             5,
             34,
             0
            ],
            [
             513,
             108,
             403,
             2
            ],
            [
             39,
             4,
             34,
             1
            ]
           ],
           "hovertemplate": "<b>%{hovertext}</b><br><br>Days=73<br>province=%{x}<br>Confirmed=%{customdata[0]}<br>Isolated=%{customdata[1]}<br>Released=%{customdata[2]}<br>Deceased=%{customdata[3]}<extra></extra>",
           "hovertext": [
            "Busan",
            "Chungcheongbuk-do",
            "Chungcheongnam-do",
            "Daegu",
            "Daejeon",
            "Gangwon-do",
            "Gwangju",
            "Gyeonggi-do",
            "Gyeongsangbuk-do",
            "Gyeongsangnam-do",
            "Incheon",
            "Jeju-do",
            "Jeollabuk-do",
            "Jeollanam-do",
            "Sejong",
            "Seoul",
            "Ulsan"
           ],
           "ids": [
            "Busan",
            "Chungcheongbuk-do",
            "Chungcheongnam-do",
            "Daegu",
            "Daejeon",
            "Gangwon-do",
            "Gwangju",
            "Gyeonggi-do",
            "Gyeongsangbuk-do",
            "Gyeongsangnam-do",
            "Incheon",
            "Jeju-do",
            "Jeollabuk-do",
            "Jeollanam-do",
            "Sejong",
            "Seoul",
            "Ulsan"
           ],
           "legendgroup": "",
           "marker": {
            "color": "#636efa",
            "opacity": 0.75
           },
           "name": "",
           "offsetgroup": "",
           "orientation": "v",
           "showlegend": false,
           "textposition": "auto",
           "type": "bar",
           "x": [
            "Busan",
            "Chungcheongbuk-do",
            "Chungcheongnam-do",
            "Daegu",
            "Daejeon",
            "Gangwon-do",
            "Gwangju",
            "Gyeonggi-do",
            "Gyeongsangbuk-do",
            "Gyeongsangnam-do",
            "Incheon",
            "Jeju-do",
            "Jeollabuk-do",
            "Jeollanam-do",
            "Sejong",
            "Seoul",
            "Ulsan"
           ],
           "xaxis": "x",
           "y": [
            119,
            44,
            132,
            63,
            35,
            39,
            26,
            546,
            1158,
            103,
            75,
            9,
            15,
            15,
            39,
            513,
            39
           ],
           "yaxis": "y"
          }
         ],
         "name": "73"
        },
        {
         "data": [
          {
           "alignmentgroup": "True",
           "customdata": [
            [
             119,
             6,
             110,
             3
            ],
            [
             44,
             5,
             39,
             0
            ],
            [
             133,
             7,
             126,
             0
            ],
            [
             63,
             39,
             4,
             20
            ],
            [
             35,
             5,
             30,
             0
            ],
            [
             40,
             11,
             27,
             2
            ],
            [
             26,
             5,
             21,
             0
            ],
            [
             563,
             501,
             61,
             1
            ],
            [
             1160,
             349,
             771,
             40
            ],
            [
             104,
             11,
             93,
             0
            ],
            [
             78,
             25,
             53,
             0
            ],
            [
             12,
             5,
             7,
             0
            ],
            [
             15,
             11,
             4,
             0
            ],
            [
             15,
             12,
             3,
             0
            ],
            [
             39,
             5,
             34,
             0
            ],
            [
             533,
             121,
             410,
             2
            ],
            [
             39,
             4,
             34,
             1
            ]
           ],
           "hovertemplate": "<b>%{hovertext}</b><br><br>Days=74<br>province=%{x}<br>Confirmed=%{customdata[0]}<br>Isolated=%{customdata[1]}<br>Released=%{customdata[2]}<br>Deceased=%{customdata[3]}<extra></extra>",
           "hovertext": [
            "Busan",
            "Chungcheongbuk-do",
            "Chungcheongnam-do",
            "Daegu",
            "Daejeon",
            "Gangwon-do",
            "Gwangju",
            "Gyeonggi-do",
            "Gyeongsangbuk-do",
            "Gyeongsangnam-do",
            "Incheon",
            "Jeju-do",
            "Jeollabuk-do",
            "Jeollanam-do",
            "Sejong",
            "Seoul",
            "Ulsan"
           ],
           "ids": [
            "Busan",
            "Chungcheongbuk-do",
            "Chungcheongnam-do",
            "Daegu",
            "Daejeon",
            "Gangwon-do",
            "Gwangju",
            "Gyeonggi-do",
            "Gyeongsangbuk-do",
            "Gyeongsangnam-do",
            "Incheon",
            "Jeju-do",
            "Jeollabuk-do",
            "Jeollanam-do",
            "Sejong",
            "Seoul",
            "Ulsan"
           ],
           "legendgroup": "",
           "marker": {
            "color": "#636efa",
            "opacity": 0.75
           },
           "name": "",
           "offsetgroup": "",
           "orientation": "v",
           "showlegend": false,
           "textposition": "auto",
           "type": "bar",
           "x": [
            "Busan",
            "Chungcheongbuk-do",
            "Chungcheongnam-do",
            "Daegu",
            "Daejeon",
            "Gangwon-do",
            "Gwangju",
            "Gyeonggi-do",
            "Gyeongsangbuk-do",
            "Gyeongsangnam-do",
            "Incheon",
            "Jeju-do",
            "Jeollabuk-do",
            "Jeollanam-do",
            "Sejong",
            "Seoul",
            "Ulsan"
           ],
           "xaxis": "x",
           "y": [
            119,
            44,
            133,
            63,
            35,
            40,
            26,
            563,
            1160,
            104,
            78,
            12,
            15,
            15,
            39,
            533,
            39
           ],
           "yaxis": "y"
          }
         ],
         "name": "74"
        },
        {
         "data": [
          {
           "alignmentgroup": "True",
           "customdata": [
            [
             119,
             6,
             110,
             3
            ],
            [
             44,
             5,
             39,
             0
            ],
            [
             133,
             7,
             126,
             0
            ],
            [
             63,
             39,
             4,
             20
            ],
            [
             36,
             5,
             31,
             0
            ],
            [
             42,
             13,
             27,
             2
            ],
            [
             27,
             6,
             21,
             0
            ],
            [
             576,
             514,
             61,
             1
            ],
            [
             1165,
             354,
             771,
             40
            ],
            [
             105,
             11,
             94,
             0
            ],
            [
             79,
             26,
             53,
             0
            ],
            [
             12,
             5,
             7,
             0
            ],
            [
             16,
             12,
             4,
             0
            ],
            [
             15,
             12,
             3,
             0
            ],
            [
             39,
             5,
             34,
             0
            ],
            [
             552,
             135,
             415,
             2
            ],
            [
             39,
             4,
             34,
             1
            ]
           ],
           "hovertemplate": "<b>%{hovertext}</b><br><br>Days=75<br>province=%{x}<br>Confirmed=%{customdata[0]}<br>Isolated=%{customdata[1]}<br>Released=%{customdata[2]}<br>Deceased=%{customdata[3]}<extra></extra>",
           "hovertext": [
            "Busan",
            "Chungcheongbuk-do",
            "Chungcheongnam-do",
            "Daegu",
            "Daejeon",
            "Gangwon-do",
            "Gwangju",
            "Gyeonggi-do",
            "Gyeongsangbuk-do",
            "Gyeongsangnam-do",
            "Incheon",
            "Jeju-do",
            "Jeollabuk-do",
            "Jeollanam-do",
            "Sejong",
            "Seoul",
            "Ulsan"
           ],
           "ids": [
            "Busan",
            "Chungcheongbuk-do",
            "Chungcheongnam-do",
            "Daegu",
            "Daejeon",
            "Gangwon-do",
            "Gwangju",
            "Gyeonggi-do",
            "Gyeongsangbuk-do",
            "Gyeongsangnam-do",
            "Incheon",
            "Jeju-do",
            "Jeollabuk-do",
            "Jeollanam-do",
            "Sejong",
            "Seoul",
            "Ulsan"
           ],
           "legendgroup": "",
           "marker": {
            "color": "#636efa",
            "opacity": 0.75
           },
           "name": "",
           "offsetgroup": "",
           "orientation": "v",
           "showlegend": false,
           "textposition": "auto",
           "type": "bar",
           "x": [
            "Busan",
            "Chungcheongbuk-do",
            "Chungcheongnam-do",
            "Daegu",
            "Daejeon",
            "Gangwon-do",
            "Gwangju",
            "Gyeonggi-do",
            "Gyeongsangbuk-do",
            "Gyeongsangnam-do",
            "Incheon",
            "Jeju-do",
            "Jeollabuk-do",
            "Jeollanam-do",
            "Sejong",
            "Seoul",
            "Ulsan"
           ],
           "xaxis": "x",
           "y": [
            119,
            44,
            133,
            63,
            36,
            42,
            27,
            576,
            1165,
            105,
            79,
            12,
            16,
            15,
            39,
            552,
            39
           ],
           "yaxis": "y"
          }
         ],
         "name": "75"
        },
        {
         "data": [
          {
           "alignmentgroup": "True",
           "customdata": [
            [
             119,
             6,
             110,
             3
            ],
            [
             44,
             5,
             39,
             0
            ],
            [
             134,
             8,
             126,
             0
            ],
            [
             63,
             39,
             4,
             20
            ],
            [
             38,
             5,
             33,
             0
            ],
            [
             43,
             13,
             28,
             2
            ],
            [
             27,
             6,
             21,
             0
            ],
            [
             583,
             521,
             61,
             1
            ],
            [
             1167,
             356,
             771,
             40
            ],
            [
             107,
             13,
             94,
             0
            ],
            [
             80,
             27,
             53,
             0
            ],
            [
             12,
             5,
             7,
             0
            ],
            [
             16,
             12,
             4,
             0
            ],
            [
             15,
             12,
             3,
             0
            ],
            [
             39,
             5,
             34,
             0
            ],
            [
             563,
             144,
             417,
             2
            ],
            [
             39,
             4,
             34,
             1
            ]
           ],
           "hovertemplate": "<b>%{hovertext}</b><br><br>Days=76<br>province=%{x}<br>Confirmed=%{customdata[0]}<br>Isolated=%{customdata[1]}<br>Released=%{customdata[2]}<br>Deceased=%{customdata[3]}<extra></extra>",
           "hovertext": [
            "Busan",
            "Chungcheongbuk-do",
            "Chungcheongnam-do",
            "Daegu",
            "Daejeon",
            "Gangwon-do",
            "Gwangju",
            "Gyeonggi-do",
            "Gyeongsangbuk-do",
            "Gyeongsangnam-do",
            "Incheon",
            "Jeju-do",
            "Jeollabuk-do",
            "Jeollanam-do",
            "Sejong",
            "Seoul",
            "Ulsan"
           ],
           "ids": [
            "Busan",
            "Chungcheongbuk-do",
            "Chungcheongnam-do",
            "Daegu",
            "Daejeon",
            "Gangwon-do",
            "Gwangju",
            "Gyeonggi-do",
            "Gyeongsangbuk-do",
            "Gyeongsangnam-do",
            "Incheon",
            "Jeju-do",
            "Jeollabuk-do",
            "Jeollanam-do",
            "Sejong",
            "Seoul",
            "Ulsan"
           ],
           "legendgroup": "",
           "marker": {
            "color": "#636efa",
            "opacity": 0.75
           },
           "name": "",
           "offsetgroup": "",
           "orientation": "v",
           "showlegend": false,
           "textposition": "auto",
           "type": "bar",
           "x": [
            "Busan",
            "Chungcheongbuk-do",
            "Chungcheongnam-do",
            "Daegu",
            "Daejeon",
            "Gangwon-do",
            "Gwangju",
            "Gyeonggi-do",
            "Gyeongsangbuk-do",
            "Gyeongsangnam-do",
            "Incheon",
            "Jeju-do",
            "Jeollabuk-do",
            "Jeollanam-do",
            "Sejong",
            "Seoul",
            "Ulsan"
           ],
           "xaxis": "x",
           "y": [
            119,
            44,
            134,
            63,
            38,
            43,
            27,
            583,
            1167,
            107,
            80,
            12,
            16,
            15,
            39,
            563,
            39
           ],
           "yaxis": "y"
          }
         ],
         "name": "76"
        },
        {
         "data": [
          {
           "alignmentgroup": "True",
           "customdata": [
            [
             120,
             7,
             110,
             3
            ],
            [
             44,
             5,
             39,
             0
            ],
            [
             135,
             8,
             127,
             0
            ],
            [
             63,
             39,
             4,
             20
            ],
            [
             38,
             5,
             33,
             0
            ],
            [
             45,
             14,
             29,
             2
            ],
            [
             27,
             6,
             21,
             0
            ],
            [
             591,
             529,
             61,
             1
            ],
            [
             1168,
             357,
             771,
             40
            ],
            [
             108,
             14,
             94,
             0
            ],
            [
             80,
             27,
             53,
             0
            ],
            [
             12,
             5,
             7,
             0
            ],
            [
             16,
             12,
             4,
             0
            ],
            [
             15,
             12,
             3,
             0
            ],
            [
             39,
             5,
             34,
             0
            ],
            [
             563,
             144,
             417,
             2
            ],
            [
             39,
             4,
             34,
             1
            ]
           ],
           "hovertemplate": "<b>%{hovertext}</b><br><br>Days=77<br>province=%{x}<br>Confirmed=%{customdata[0]}<br>Isolated=%{customdata[1]}<br>Released=%{customdata[2]}<br>Deceased=%{customdata[3]}<extra></extra>",
           "hovertext": [
            "Busan",
            "Chungcheongbuk-do",
            "Chungcheongnam-do",
            "Daegu",
            "Daejeon",
            "Gangwon-do",
            "Gwangju",
            "Gyeonggi-do",
            "Gyeongsangbuk-do",
            "Gyeongsangnam-do",
            "Incheon",
            "Jeju-do",
            "Jeollabuk-do",
            "Jeollanam-do",
            "Sejong",
            "Seoul",
            "Ulsan"
           ],
           "ids": [
            "Busan",
            "Chungcheongbuk-do",
            "Chungcheongnam-do",
            "Daegu",
            "Daejeon",
            "Gangwon-do",
            "Gwangju",
            "Gyeonggi-do",
            "Gyeongsangbuk-do",
            "Gyeongsangnam-do",
            "Incheon",
            "Jeju-do",
            "Jeollabuk-do",
            "Jeollanam-do",
            "Sejong",
            "Seoul",
            "Ulsan"
           ],
           "legendgroup": "",
           "marker": {
            "color": "#636efa",
            "opacity": 0.75
           },
           "name": "",
           "offsetgroup": "",
           "orientation": "v",
           "showlegend": false,
           "textposition": "auto",
           "type": "bar",
           "x": [
            "Busan",
            "Chungcheongbuk-do",
            "Chungcheongnam-do",
            "Daegu",
            "Daejeon",
            "Gangwon-do",
            "Gwangju",
            "Gyeonggi-do",
            "Gyeongsangbuk-do",
            "Gyeongsangnam-do",
            "Incheon",
            "Jeju-do",
            "Jeollabuk-do",
            "Jeollanam-do",
            "Sejong",
            "Seoul",
            "Ulsan"
           ],
           "xaxis": "x",
           "y": [
            120,
            44,
            135,
            63,
            38,
            45,
            27,
            591,
            1168,
            108,
            80,
            12,
            16,
            15,
            39,
            563,
            39
           ],
           "yaxis": "y"
          }
         ],
         "name": "77"
        },
        {
         "data": [
          {
           "alignmentgroup": "True",
           "customdata": [
            [
             122,
             8,
             111,
             3
            ],
            [
             44,
             5,
             39,
             0
            ],
            [
             136,
             9,
             127,
             0
            ],
            [
             63,
             39,
             4,
             20
            ],
            [
             38,
             5,
             33,
             0
            ],
            [
             46,
             15,
             29,
             2
            ],
            [
             27,
             6,
             21,
             0
            ],
            [
             599,
             537,
             61,
             1
            ],
            [
             1172,
             360,
             772,
             40
            ],
            [
             109,
             14,
             95,
             0
            ],
            [
             83,
             28,
             55,
             0
            ],
            [
             12,
             5,
             7,
             0
            ],
            [
             17,
             13,
             4,
             0
            ],
            [
             15,
             12,
             3,
             0
            ],
            [
             42,
             5,
             37,
             0
            ],
            [
             563,
             144,
             417,
             2
            ],
            [
             39,
             4,
             34,
             1
            ]
           ],
           "hovertemplate": "<b>%{hovertext}</b><br><br>Days=78<br>province=%{x}<br>Confirmed=%{customdata[0]}<br>Isolated=%{customdata[1]}<br>Released=%{customdata[2]}<br>Deceased=%{customdata[3]}<extra></extra>",
           "hovertext": [
            "Busan",
            "Chungcheongbuk-do",
            "Chungcheongnam-do",
            "Daegu",
            "Daejeon",
            "Gangwon-do",
            "Gwangju",
            "Gyeonggi-do",
            "Gyeongsangbuk-do",
            "Gyeongsangnam-do",
            "Incheon",
            "Jeju-do",
            "Jeollabuk-do",
            "Jeollanam-do",
            "Sejong",
            "Seoul",
            "Ulsan"
           ],
           "ids": [
            "Busan",
            "Chungcheongbuk-do",
            "Chungcheongnam-do",
            "Daegu",
            "Daejeon",
            "Gangwon-do",
            "Gwangju",
            "Gyeonggi-do",
            "Gyeongsangbuk-do",
            "Gyeongsangnam-do",
            "Incheon",
            "Jeju-do",
            "Jeollabuk-do",
            "Jeollanam-do",
            "Sejong",
            "Seoul",
            "Ulsan"
           ],
           "legendgroup": "",
           "marker": {
            "color": "#636efa",
            "opacity": 0.75
           },
           "name": "",
           "offsetgroup": "",
           "orientation": "v",
           "showlegend": false,
           "textposition": "auto",
           "type": "bar",
           "x": [
            "Busan",
            "Chungcheongbuk-do",
            "Chungcheongnam-do",
            "Daegu",
            "Daejeon",
            "Gangwon-do",
            "Gwangju",
            "Gyeonggi-do",
            "Gyeongsangbuk-do",
            "Gyeongsangnam-do",
            "Incheon",
            "Jeju-do",
            "Jeollabuk-do",
            "Jeollanam-do",
            "Sejong",
            "Seoul",
            "Ulsan"
           ],
           "xaxis": "x",
           "y": [
            122,
            44,
            136,
            63,
            38,
            46,
            27,
            599,
            1172,
            109,
            83,
            12,
            17,
            15,
            42,
            563,
            39
           ],
           "yaxis": "y"
          }
         ],
         "name": "78"
        },
        {
         "data": [
          {
           "alignmentgroup": "True",
           "customdata": [
            [
             122,
             8,
             111,
             3
            ],
            [
             44,
             5,
             39,
             0
            ],
            [
             136,
             9,
             127,
             0
            ],
            [
             63,
             39,
             4,
             20
            ],
            [
             39,
             5,
             34,
             0
            ],
            [
             46,
             15,
             29,
             2
            ],
            [
             27,
             6,
             21,
             0
            ],
            [
             608,
             546,
             61,
             1
            ],
            [
             1172,
             360,
             772,
             40
            ],
            [
             111,
             16,
             95,
             0
            ],
            [
             83,
             28,
             55,
             0
            ],
            [
             12,
             5,
             7,
             0
            ],
            [
             17,
             13,
             4,
             0
            ],
            [
             15,
             12,
             3,
             0
            ],
            [
             43,
             6,
             37,
             0
            ],
            [
             563,
             144,
             417,
             2
            ],
            [
             39,
             4,
             34,
             1
            ]
           ],
           "hovertemplate": "<b>%{hovertext}</b><br><br>Days=79<br>province=%{x}<br>Confirmed=%{customdata[0]}<br>Isolated=%{customdata[1]}<br>Released=%{customdata[2]}<br>Deceased=%{customdata[3]}<extra></extra>",
           "hovertext": [
            "Busan",
            "Chungcheongbuk-do",
            "Chungcheongnam-do",
            "Daegu",
            "Daejeon",
            "Gangwon-do",
            "Gwangju",
            "Gyeonggi-do",
            "Gyeongsangbuk-do",
            "Gyeongsangnam-do",
            "Incheon",
            "Jeju-do",
            "Jeollabuk-do",
            "Jeollanam-do",
            "Sejong",
            "Seoul",
            "Ulsan"
           ],
           "ids": [
            "Busan",
            "Chungcheongbuk-do",
            "Chungcheongnam-do",
            "Daegu",
            "Daejeon",
            "Gangwon-do",
            "Gwangju",
            "Gyeonggi-do",
            "Gyeongsangbuk-do",
            "Gyeongsangnam-do",
            "Incheon",
            "Jeju-do",
            "Jeollabuk-do",
            "Jeollanam-do",
            "Sejong",
            "Seoul",
            "Ulsan"
           ],
           "legendgroup": "",
           "marker": {
            "color": "#636efa",
            "opacity": 0.75
           },
           "name": "",
           "offsetgroup": "",
           "orientation": "v",
           "showlegend": false,
           "textposition": "auto",
           "type": "bar",
           "x": [
            "Busan",
            "Chungcheongbuk-do",
            "Chungcheongnam-do",
            "Daegu",
            "Daejeon",
            "Gangwon-do",
            "Gwangju",
            "Gyeonggi-do",
            "Gyeongsangbuk-do",
            "Gyeongsangnam-do",
            "Incheon",
            "Jeju-do",
            "Jeollabuk-do",
            "Jeollanam-do",
            "Sejong",
            "Seoul",
            "Ulsan"
           ],
           "xaxis": "x",
           "y": [
            122,
            44,
            136,
            63,
            39,
            46,
            27,
            608,
            1172,
            111,
            83,
            12,
            17,
            15,
            43,
            563,
            39
           ],
           "yaxis": "y"
          }
         ],
         "name": "79"
        },
        {
         "data": [
          {
           "alignmentgroup": "True",
           "customdata": [
            [
             123,
             9,
             111,
             3
            ],
            [
             44,
             5,
             39,
             0
            ],
            [
             136,
             9,
             127,
             0
            ],
            [
             63,
             39,
             4,
             20
            ],
            [
             39,
             5,
             34,
             0
            ],
            [
             46,
             15,
             29,
             2
            ],
            [
             27,
             6,
             21,
             0
            ],
            [
             616,
             554,
             61,
             1
            ],
            [
             1179,
             367,
             772,
             40
            ],
            [
             111,
             16,
             95,
             0
            ],
            [
             85,
             30,
             55,
             0
            ],
            [
             12,
             5,
             7,
             0
            ],
            [
             17,
             13,
             4,
             0
            ],
            [
             15,
             12,
             3,
             0
            ],
            [
             43,
             6,
             37,
             0
            ],
            [
             563,
             144,
             417,
             2
            ],
            [
             39,
             4,
             34,
             1
            ]
           ],
           "hovertemplate": "<b>%{hovertext}</b><br><br>Days=80<br>province=%{x}<br>Confirmed=%{customdata[0]}<br>Isolated=%{customdata[1]}<br>Released=%{customdata[2]}<br>Deceased=%{customdata[3]}<extra></extra>",
           "hovertext": [
            "Busan",
            "Chungcheongbuk-do",
            "Chungcheongnam-do",
            "Daegu",
            "Daejeon",
            "Gangwon-do",
            "Gwangju",
            "Gyeonggi-do",
            "Gyeongsangbuk-do",
            "Gyeongsangnam-do",
            "Incheon",
            "Jeju-do",
            "Jeollabuk-do",
            "Jeollanam-do",
            "Sejong",
            "Seoul",
            "Ulsan"
           ],
           "ids": [
            "Busan",
            "Chungcheongbuk-do",
            "Chungcheongnam-do",
            "Daegu",
            "Daejeon",
            "Gangwon-do",
            "Gwangju",
            "Gyeonggi-do",
            "Gyeongsangbuk-do",
            "Gyeongsangnam-do",
            "Incheon",
            "Jeju-do",
            "Jeollabuk-do",
            "Jeollanam-do",
            "Sejong",
            "Seoul",
            "Ulsan"
           ],
           "legendgroup": "",
           "marker": {
            "color": "#636efa",
            "opacity": 0.75
           },
           "name": "",
           "offsetgroup": "",
           "orientation": "v",
           "showlegend": false,
           "textposition": "auto",
           "type": "bar",
           "x": [
            "Busan",
            "Chungcheongbuk-do",
            "Chungcheongnam-do",
            "Daegu",
            "Daejeon",
            "Gangwon-do",
            "Gwangju",
            "Gyeonggi-do",
            "Gyeongsangbuk-do",
            "Gyeongsangnam-do",
            "Incheon",
            "Jeju-do",
            "Jeollabuk-do",
            "Jeollanam-do",
            "Sejong",
            "Seoul",
            "Ulsan"
           ],
           "xaxis": "x",
           "y": [
            123,
            44,
            136,
            63,
            39,
            46,
            27,
            616,
            1179,
            111,
            85,
            12,
            17,
            15,
            43,
            563,
            39
           ],
           "yaxis": "y"
          }
         ],
         "name": "80"
        },
        {
         "data": [
          {
           "alignmentgroup": "True",
           "customdata": [
            [
             123,
             9,
             111,
             3
            ],
            [
             44,
             5,
             39,
             0
            ],
            [
             136,
             9,
             127,
             0
            ],
            [
             63,
             39,
             4,
             20
            ],
            [
             39,
             5,
             34,
             0
            ],
            [
             46,
             15,
             29,
             2
            ],
            [
             27,
             6,
             21,
             0
            ],
            [
             624,
             562,
             61,
             1
            ],
            [
             1182,
             370,
             772,
             40
            ],
            [
             111,
             16,
             95,
             0
            ],
            [
             86,
             31,
             55,
             0
            ],
            [
             12,
             5,
             7,
             0
            ],
            [
             17,
             13,
             4,
             0
            ],
            [
             15,
             12,
             3,
             0
            ],
            [
             43,
             6,
             37,
             0
            ],
            [
             563,
             144,
             417,
             2
            ],
            [
             40,
             4,
             35,
             1
            ]
           ],
           "hovertemplate": "<b>%{hovertext}</b><br><br>Days=81<br>province=%{x}<br>Confirmed=%{customdata[0]}<br>Isolated=%{customdata[1]}<br>Released=%{customdata[2]}<br>Deceased=%{customdata[3]}<extra></extra>",
           "hovertext": [
            "Busan",
            "Chungcheongbuk-do",
            "Chungcheongnam-do",
            "Daegu",
            "Daejeon",
            "Gangwon-do",
            "Gwangju",
            "Gyeonggi-do",
            "Gyeongsangbuk-do",
            "Gyeongsangnam-do",
            "Incheon",
            "Jeju-do",
            "Jeollabuk-do",
            "Jeollanam-do",
            "Sejong",
            "Seoul",
            "Ulsan"
           ],
           "ids": [
            "Busan",
            "Chungcheongbuk-do",
            "Chungcheongnam-do",
            "Daegu",
            "Daejeon",
            "Gangwon-do",
            "Gwangju",
            "Gyeonggi-do",
            "Gyeongsangbuk-do",
            "Gyeongsangnam-do",
            "Incheon",
            "Jeju-do",
            "Jeollabuk-do",
            "Jeollanam-do",
            "Sejong",
            "Seoul",
            "Ulsan"
           ],
           "legendgroup": "",
           "marker": {
            "color": "#636efa",
            "opacity": 0.75
           },
           "name": "",
           "offsetgroup": "",
           "orientation": "v",
           "showlegend": false,
           "textposition": "auto",
           "type": "bar",
           "x": [
            "Busan",
            "Chungcheongbuk-do",
            "Chungcheongnam-do",
            "Daegu",
            "Daejeon",
            "Gangwon-do",
            "Gwangju",
            "Gyeonggi-do",
            "Gyeongsangbuk-do",
            "Gyeongsangnam-do",
            "Incheon",
            "Jeju-do",
            "Jeollabuk-do",
            "Jeollanam-do",
            "Sejong",
            "Seoul",
            "Ulsan"
           ],
           "xaxis": "x",
           "y": [
            123,
            44,
            136,
            63,
            39,
            46,
            27,
            624,
            1182,
            111,
            86,
            12,
            17,
            15,
            43,
            563,
            40
           ],
           "yaxis": "y"
          }
         ],
         "name": "81"
        },
        {
         "data": [
          {
           "alignmentgroup": "True",
           "customdata": [
            [
             123,
             9,
             111,
             3
            ],
            [
             44,
             5,
             39,
             0
            ],
            [
             137,
             10,
             127,
             0
            ],
            [
             63,
             39,
             4,
             20
            ],
            [
             39,
             5,
             34,
             0
            ],
            [
             46,
             15,
             29,
             2
            ],
            [
             27,
             6,
             21,
             0
            ],
            [
             629,
             567,
             61,
             1
            ],
            [
             1185,
             373,
             772,
             40
            ],
            [
             111,
             16,
             95,
             0
            ],
            [
             86,
             31,
             55,
             0
            ],
            [
             12,
             5,
             7,
             0
            ],
            [
             17,
             13,
             4,
             0
            ],
            [
             15,
             12,
             3,
             0
            ],
            [
             43,
             6,
             37,
             0
            ],
            [
             563,
             144,
             417,
             2
            ],
            [
             41,
             4,
             36,
             1
            ]
           ],
           "hovertemplate": "<b>%{hovertext}</b><br><br>Days=82<br>province=%{x}<br>Confirmed=%{customdata[0]}<br>Isolated=%{customdata[1]}<br>Released=%{customdata[2]}<br>Deceased=%{customdata[3]}<extra></extra>",
           "hovertext": [
            "Busan",
            "Chungcheongbuk-do",
            "Chungcheongnam-do",
            "Daegu",
            "Daejeon",
            "Gangwon-do",
            "Gwangju",
            "Gyeonggi-do",
            "Gyeongsangbuk-do",
            "Gyeongsangnam-do",
            "Incheon",
            "Jeju-do",
            "Jeollabuk-do",
            "Jeollanam-do",
            "Sejong",
            "Seoul",
            "Ulsan"
           ],
           "ids": [
            "Busan",
            "Chungcheongbuk-do",
            "Chungcheongnam-do",
            "Daegu",
            "Daejeon",
            "Gangwon-do",
            "Gwangju",
            "Gyeonggi-do",
            "Gyeongsangbuk-do",
            "Gyeongsangnam-do",
            "Incheon",
            "Jeju-do",
            "Jeollabuk-do",
            "Jeollanam-do",
            "Sejong",
            "Seoul",
            "Ulsan"
           ],
           "legendgroup": "",
           "marker": {
            "color": "#636efa",
            "opacity": 0.75
           },
           "name": "",
           "offsetgroup": "",
           "orientation": "v",
           "showlegend": false,
           "textposition": "auto",
           "type": "bar",
           "x": [
            "Busan",
            "Chungcheongbuk-do",
            "Chungcheongnam-do",
            "Daegu",
            "Daejeon",
            "Gangwon-do",
            "Gwangju",
            "Gyeonggi-do",
            "Gyeongsangbuk-do",
            "Gyeongsangnam-do",
            "Incheon",
            "Jeju-do",
            "Jeollabuk-do",
            "Jeollanam-do",
            "Sejong",
            "Seoul",
            "Ulsan"
           ],
           "xaxis": "x",
           "y": [
            123,
            44,
            137,
            63,
            39,
            46,
            27,
            629,
            1185,
            111,
            86,
            12,
            17,
            15,
            43,
            563,
            41
           ],
           "yaxis": "y"
          }
         ],
         "name": "82"
        },
        {
         "data": [
          {
           "alignmentgroup": "True",
           "customdata": [
            [
             123,
             9,
             111,
             3
            ],
            [
             44,
             5,
             39,
             0
            ],
            [
             137,
             10,
             127,
             0
            ],
            [
             63,
             39,
             4,
             20
            ],
            [
             39,
             5,
             34,
             0
            ],
            [
             46,
             15,
             29,
             2
            ],
            [
             27,
             6,
             21,
             0
            ],
            [
             634,
             572,
             61,
             1
            ],
            [
             1189,
             377,
             772,
             40
            ],
            [
             111,
             16,
             95,
             0
            ],
            [
             87,
             32,
             55,
             0
            ],
            [
             12,
             5,
             7,
             0
            ],
            [
             17,
             13,
             4,
             0
            ],
            [
             15,
             12,
             3,
             0
            ],
            [
             43,
             6,
             37,
             0
            ],
            [
             563,
             144,
             417,
             2
            ],
            [
             41,
             4,
             36,
             1
            ]
           ],
           "hovertemplate": "<b>%{hovertext}</b><br><br>Days=83<br>province=%{x}<br>Confirmed=%{customdata[0]}<br>Isolated=%{customdata[1]}<br>Released=%{customdata[2]}<br>Deceased=%{customdata[3]}<extra></extra>",
           "hovertext": [
            "Busan",
            "Chungcheongbuk-do",
            "Chungcheongnam-do",
            "Daegu",
            "Daejeon",
            "Gangwon-do",
            "Gwangju",
            "Gyeonggi-do",
            "Gyeongsangbuk-do",
            "Gyeongsangnam-do",
            "Incheon",
            "Jeju-do",
            "Jeollabuk-do",
            "Jeollanam-do",
            "Sejong",
            "Seoul",
            "Ulsan"
           ],
           "ids": [
            "Busan",
            "Chungcheongbuk-do",
            "Chungcheongnam-do",
            "Daegu",
            "Daejeon",
            "Gangwon-do",
            "Gwangju",
            "Gyeonggi-do",
            "Gyeongsangbuk-do",
            "Gyeongsangnam-do",
            "Incheon",
            "Jeju-do",
            "Jeollabuk-do",
            "Jeollanam-do",
            "Sejong",
            "Seoul",
            "Ulsan"
           ],
           "legendgroup": "",
           "marker": {
            "color": "#636efa",
            "opacity": 0.75
           },
           "name": "",
           "offsetgroup": "",
           "orientation": "v",
           "showlegend": false,
           "textposition": "auto",
           "type": "bar",
           "x": [
            "Busan",
            "Chungcheongbuk-do",
            "Chungcheongnam-do",
            "Daegu",
            "Daejeon",
            "Gangwon-do",
            "Gwangju",
            "Gyeonggi-do",
            "Gyeongsangbuk-do",
            "Gyeongsangnam-do",
            "Incheon",
            "Jeju-do",
            "Jeollabuk-do",
            "Jeollanam-do",
            "Sejong",
            "Seoul",
            "Ulsan"
           ],
           "xaxis": "x",
           "y": [
            123,
            44,
            137,
            63,
            39,
            46,
            27,
            634,
            1189,
            111,
            87,
            12,
            17,
            15,
            43,
            563,
            41
           ],
           "yaxis": "y"
          }
         ],
         "name": "83"
        },
        {
         "data": [
          {
           "alignmentgroup": "True",
           "customdata": [
            [
             123,
             9,
             111,
             3
            ],
            [
             44,
             5,
             39,
             0
            ],
            [
             137,
             10,
             127,
             0
            ],
            [
             63,
             39,
             4,
             20
            ],
            [
             39,
             5,
             34,
             0
            ],
            [
             46,
             15,
             29,
             2
            ],
            [
             27,
             6,
             21,
             0
            ],
            [
             641,
             579,
             61,
             1
            ],
            [
             1193,
             381,
             772,
             40
            ],
            [
             111,
             16,
             95,
             0
            ],
            [
             88,
             33,
             55,
             0
            ],
            [
             12,
             5,
             7,
             0
            ],
            [
             17,
             13,
             4,
             0
            ],
            [
             15,
             12,
             3,
             0
            ],
            [
             44,
             6,
             38,
             0
            ],
            [
             563,
             144,
             417,
             2
            ],
            [
             42,
             4,
             37,
             1
            ]
           ],
           "hovertemplate": "<b>%{hovertext}</b><br><br>Days=84<br>province=%{x}<br>Confirmed=%{customdata[0]}<br>Isolated=%{customdata[1]}<br>Released=%{customdata[2]}<br>Deceased=%{customdata[3]}<extra></extra>",
           "hovertext": [
            "Busan",
            "Chungcheongbuk-do",
            "Chungcheongnam-do",
            "Daegu",
            "Daejeon",
            "Gangwon-do",
            "Gwangju",
            "Gyeonggi-do",
            "Gyeongsangbuk-do",
            "Gyeongsangnam-do",
            "Incheon",
            "Jeju-do",
            "Jeollabuk-do",
            "Jeollanam-do",
            "Sejong",
            "Seoul",
            "Ulsan"
           ],
           "ids": [
            "Busan",
            "Chungcheongbuk-do",
            "Chungcheongnam-do",
            "Daegu",
            "Daejeon",
            "Gangwon-do",
            "Gwangju",
            "Gyeonggi-do",
            "Gyeongsangbuk-do",
            "Gyeongsangnam-do",
            "Incheon",
            "Jeju-do",
            "Jeollabuk-do",
            "Jeollanam-do",
            "Sejong",
            "Seoul",
            "Ulsan"
           ],
           "legendgroup": "",
           "marker": {
            "color": "#636efa",
            "opacity": 0.75
           },
           "name": "",
           "offsetgroup": "",
           "orientation": "v",
           "showlegend": false,
           "textposition": "auto",
           "type": "bar",
           "x": [
            "Busan",
            "Chungcheongbuk-do",
            "Chungcheongnam-do",
            "Daegu",
            "Daejeon",
            "Gangwon-do",
            "Gwangju",
            "Gyeonggi-do",
            "Gyeongsangbuk-do",
            "Gyeongsangnam-do",
            "Incheon",
            "Jeju-do",
            "Jeollabuk-do",
            "Jeollanam-do",
            "Sejong",
            "Seoul",
            "Ulsan"
           ],
           "xaxis": "x",
           "y": [
            123,
            44,
            137,
            63,
            39,
            46,
            27,
            641,
            1193,
            111,
            88,
            12,
            17,
            15,
            44,
            563,
            42
           ],
           "yaxis": "y"
          }
         ],
         "name": "84"
        },
        {
         "data": [
          {
           "alignmentgroup": "True",
           "customdata": [
            [
             124,
             10,
             111,
             3
            ],
            [
             44,
             5,
             39,
             0
            ],
            [
             137,
             10,
             127,
             0
            ],
            [
             63,
             39,
             4,
             20
            ],
            [
             39,
             5,
             34,
             0
            ],
            [
             48,
             17,
             29,
             2
            ],
            [
             28,
             7,
             21,
             0
            ],
            [
             646,
             584,
             61,
             1
            ],
            [
             1199,
             386,
             773,
             40
            ],
            [
             111,
             16,
             95,
             0
            ],
            [
             88,
             33,
             55,
             0
            ],
            [
             13,
             6,
             7,
             0
            ],
            [
             17,
             13,
             4,
             0
            ],
            [
             15,
             12,
             3,
             0
            ],
            [
             44,
             6,
             38,
             0
            ],
            [
             563,
             144,
             417,
             2
            ],
            [
             42,
             4,
             37,
             1
            ]
           ],
           "hovertemplate": "<b>%{hovertext}</b><br><br>Days=85<br>province=%{x}<br>Confirmed=%{customdata[0]}<br>Isolated=%{customdata[1]}<br>Released=%{customdata[2]}<br>Deceased=%{customdata[3]}<extra></extra>",
           "hovertext": [
            "Busan",
            "Chungcheongbuk-do",
            "Chungcheongnam-do",
            "Daegu",
            "Daejeon",
            "Gangwon-do",
            "Gwangju",
            "Gyeonggi-do",
            "Gyeongsangbuk-do",
            "Gyeongsangnam-do",
            "Incheon",
            "Jeju-do",
            "Jeollabuk-do",
            "Jeollanam-do",
            "Sejong",
            "Seoul",
            "Ulsan"
           ],
           "ids": [
            "Busan",
            "Chungcheongbuk-do",
            "Chungcheongnam-do",
            "Daegu",
            "Daejeon",
            "Gangwon-do",
            "Gwangju",
            "Gyeonggi-do",
            "Gyeongsangbuk-do",
            "Gyeongsangnam-do",
            "Incheon",
            "Jeju-do",
            "Jeollabuk-do",
            "Jeollanam-do",
            "Sejong",
            "Seoul",
            "Ulsan"
           ],
           "legendgroup": "",
           "marker": {
            "color": "#636efa",
            "opacity": 0.75
           },
           "name": "",
           "offsetgroup": "",
           "orientation": "v",
           "showlegend": false,
           "textposition": "auto",
           "type": "bar",
           "x": [
            "Busan",
            "Chungcheongbuk-do",
            "Chungcheongnam-do",
            "Daegu",
            "Daejeon",
            "Gangwon-do",
            "Gwangju",
            "Gyeonggi-do",
            "Gyeongsangbuk-do",
            "Gyeongsangnam-do",
            "Incheon",
            "Jeju-do",
            "Jeollabuk-do",
            "Jeollanam-do",
            "Sejong",
            "Seoul",
            "Ulsan"
           ],
           "xaxis": "x",
           "y": [
            124,
            44,
            137,
            63,
            39,
            48,
            28,
            646,
            1199,
            111,
            88,
            13,
            17,
            15,
            44,
            563,
            42
           ],
           "yaxis": "y"
          }
         ],
         "name": "85"
        },
        {
         "data": [
          {
           "alignmentgroup": "True",
           "customdata": [
            [
             127,
             13,
             111,
             3
            ],
            [
             44,
             5,
             39,
             0
            ],
            [
             138,
             11,
             127,
             0
            ],
            [
             63,
             39,
             4,
             20
            ],
            [
             39,
             5,
             34,
             0
            ],
            [
             48,
             17,
             29,
             2
            ],
            [
             28,
             7,
             21,
             0
            ],
            [
             649,
             587,
             61,
             1
            ],
            [
             1204,
             391,
             773,
             40
            ],
            [
             111,
             16,
             95,
             0
            ],
            [
             88,
             33,
             55,
             0
            ],
            [
             13,
             6,
             7,
             0
            ],
            [
             17,
             13,
             4,
             0
            ],
            [
             15,
             12,
             3,
             0
            ],
            [
             44,
             6,
             38,
             0
            ],
            [
             563,
             144,
             417,
             2
            ],
            [
             42,
             4,
             37,
             1
            ]
           ],
           "hovertemplate": "<b>%{hovertext}</b><br><br>Days=86<br>province=%{x}<br>Confirmed=%{customdata[0]}<br>Isolated=%{customdata[1]}<br>Released=%{customdata[2]}<br>Deceased=%{customdata[3]}<extra></extra>",
           "hovertext": [
            "Busan",
            "Chungcheongbuk-do",
            "Chungcheongnam-do",
            "Daegu",
            "Daejeon",
            "Gangwon-do",
            "Gwangju",
            "Gyeonggi-do",
            "Gyeongsangbuk-do",
            "Gyeongsangnam-do",
            "Incheon",
            "Jeju-do",
            "Jeollabuk-do",
            "Jeollanam-do",
            "Sejong",
            "Seoul",
            "Ulsan"
           ],
           "ids": [
            "Busan",
            "Chungcheongbuk-do",
            "Chungcheongnam-do",
            "Daegu",
            "Daejeon",
            "Gangwon-do",
            "Gwangju",
            "Gyeonggi-do",
            "Gyeongsangbuk-do",
            "Gyeongsangnam-do",
            "Incheon",
            "Jeju-do",
            "Jeollabuk-do",
            "Jeollanam-do",
            "Sejong",
            "Seoul",
            "Ulsan"
           ],
           "legendgroup": "",
           "marker": {
            "color": "#636efa",
            "opacity": 0.75
           },
           "name": "",
           "offsetgroup": "",
           "orientation": "v",
           "showlegend": false,
           "textposition": "auto",
           "type": "bar",
           "x": [
            "Busan",
            "Chungcheongbuk-do",
            "Chungcheongnam-do",
            "Daegu",
            "Daejeon",
            "Gangwon-do",
            "Gwangju",
            "Gyeonggi-do",
            "Gyeongsangbuk-do",
            "Gyeongsangnam-do",
            "Incheon",
            "Jeju-do",
            "Jeollabuk-do",
            "Jeollanam-do",
            "Sejong",
            "Seoul",
            "Ulsan"
           ],
           "xaxis": "x",
           "y": [
            127,
            44,
            138,
            63,
            39,
            48,
            28,
            649,
            1204,
            111,
            88,
            13,
            17,
            15,
            44,
            563,
            42
           ],
           "yaxis": "y"
          }
         ],
         "name": "86"
        },
        {
         "data": [
          {
           "alignmentgroup": "True",
           "customdata": [
            [
             127,
             13,
             111,
             3
            ],
            [
             44,
             5,
             39,
             0
            ],
            [
             138,
             11,
             127,
             0
            ],
            [
             63,
             39,
             4,
             20
            ],
            [
             39,
             5,
             34,
             0
            ],
            [
             48,
             17,
             29,
             2
            ],
            [
             30,
             9,
             21,
             0
            ],
            [
             650,
             588,
             61,
             1
            ],
            [
             1209,
             396,
             773,
             40
            ],
            [
             112,
             16,
             96,
             0
            ],
            [
             89,
             34,
             55,
             0
            ],
            [
             13,
             6,
             7,
             0
            ],
            [
             17,
             13,
             4,
             0
            ],
            [
             15,
             12,
             3,
             0
            ],
            [
             44,
             6,
             38,
             0
            ],
            [
             563,
             144,
             417,
             2
            ],
            [
             42,
             4,
             37,
             1
            ]
           ],
           "hovertemplate": "<b>%{hovertext}</b><br><br>Days=87<br>province=%{x}<br>Confirmed=%{customdata[0]}<br>Isolated=%{customdata[1]}<br>Released=%{customdata[2]}<br>Deceased=%{customdata[3]}<extra></extra>",
           "hovertext": [
            "Busan",
            "Chungcheongbuk-do",
            "Chungcheongnam-do",
            "Daegu",
            "Daejeon",
            "Gangwon-do",
            "Gwangju",
            "Gyeonggi-do",
            "Gyeongsangbuk-do",
            "Gyeongsangnam-do",
            "Incheon",
            "Jeju-do",
            "Jeollabuk-do",
            "Jeollanam-do",
            "Sejong",
            "Seoul",
            "Ulsan"
           ],
           "ids": [
            "Busan",
            "Chungcheongbuk-do",
            "Chungcheongnam-do",
            "Daegu",
            "Daejeon",
            "Gangwon-do",
            "Gwangju",
            "Gyeonggi-do",
            "Gyeongsangbuk-do",
            "Gyeongsangnam-do",
            "Incheon",
            "Jeju-do",
            "Jeollabuk-do",
            "Jeollanam-do",
            "Sejong",
            "Seoul",
            "Ulsan"
           ],
           "legendgroup": "",
           "marker": {
            "color": "#636efa",
            "opacity": 0.75
           },
           "name": "",
           "offsetgroup": "",
           "orientation": "v",
           "showlegend": false,
           "textposition": "auto",
           "type": "bar",
           "x": [
            "Busan",
            "Chungcheongbuk-do",
            "Chungcheongnam-do",
            "Daegu",
            "Daejeon",
            "Gangwon-do",
            "Gwangju",
            "Gyeonggi-do",
            "Gyeongsangbuk-do",
            "Gyeongsangnam-do",
            "Incheon",
            "Jeju-do",
            "Jeollabuk-do",
            "Jeollanam-do",
            "Sejong",
            "Seoul",
            "Ulsan"
           ],
           "xaxis": "x",
           "y": [
            127,
            44,
            138,
            63,
            39,
            48,
            30,
            650,
            1209,
            112,
            89,
            13,
            17,
            15,
            44,
            563,
            42
           ],
           "yaxis": "y"
          }
         ],
         "name": "87"
        },
        {
         "data": [
          {
           "alignmentgroup": "True",
           "customdata": [
            [
             127,
             13,
             111,
             3
            ],
            [
             44,
             5,
             39,
             0
            ],
            [
             140,
             13,
             127,
             0
            ],
            [
             63,
             39,
             4,
             20
            ],
            [
             39,
             5,
             34,
             0
            ],
            [
             49,
             18,
             29,
             2
            ],
            [
             30,
             9,
             21,
             0
            ],
            [
             654,
             592,
             61,
             1
            ],
            [
             1211,
             398,
             773,
             40
            ],
            [
             112,
             16,
             96,
             0
            ],
            [
             90,
             35,
             55,
             0
            ],
            [
             13,
             6,
             7,
             0
            ],
            [
             17,
             13,
             4,
             0
            ],
            [
             15,
             12,
             3,
             0
            ],
            [
             44,
             6,
             38,
             0
            ],
            [
             563,
             144,
             417,
             2
            ],
            [
             42,
             4,
             37,
             1
            ]
           ],
           "hovertemplate": "<b>%{hovertext}</b><br><br>Days=88<br>province=%{x}<br>Confirmed=%{customdata[0]}<br>Isolated=%{customdata[1]}<br>Released=%{customdata[2]}<br>Deceased=%{customdata[3]}<extra></extra>",
           "hovertext": [
            "Busan",
            "Chungcheongbuk-do",
            "Chungcheongnam-do",
            "Daegu",
            "Daejeon",
            "Gangwon-do",
            "Gwangju",
            "Gyeonggi-do",
            "Gyeongsangbuk-do",
            "Gyeongsangnam-do",
            "Incheon",
            "Jeju-do",
            "Jeollabuk-do",
            "Jeollanam-do",
            "Sejong",
            "Seoul",
            "Ulsan"
           ],
           "ids": [
            "Busan",
            "Chungcheongbuk-do",
            "Chungcheongnam-do",
            "Daegu",
            "Daejeon",
            "Gangwon-do",
            "Gwangju",
            "Gyeonggi-do",
            "Gyeongsangbuk-do",
            "Gyeongsangnam-do",
            "Incheon",
            "Jeju-do",
            "Jeollabuk-do",
            "Jeollanam-do",
            "Sejong",
            "Seoul",
            "Ulsan"
           ],
           "legendgroup": "",
           "marker": {
            "color": "#636efa",
            "opacity": 0.75
           },
           "name": "",
           "offsetgroup": "",
           "orientation": "v",
           "showlegend": false,
           "textposition": "auto",
           "type": "bar",
           "x": [
            "Busan",
            "Chungcheongbuk-do",
            "Chungcheongnam-do",
            "Daegu",
            "Daejeon",
            "Gangwon-do",
            "Gwangju",
            "Gyeonggi-do",
            "Gyeongsangbuk-do",
            "Gyeongsangnam-do",
            "Incheon",
            "Jeju-do",
            "Jeollabuk-do",
            "Jeollanam-do",
            "Sejong",
            "Seoul",
            "Ulsan"
           ],
           "xaxis": "x",
           "y": [
            127,
            44,
            140,
            63,
            39,
            49,
            30,
            654,
            1211,
            112,
            90,
            13,
            17,
            15,
            44,
            563,
            42
           ],
           "yaxis": "y"
          }
         ],
         "name": "88"
        },
        {
         "data": [
          {
           "alignmentgroup": "True",
           "customdata": [
            [
             129,
             15,
             111,
             3
            ],
            [
             44,
             5,
             39,
             0
            ],
            [
             140,
             13,
             127,
             0
            ],
            [
             63,
             39,
             4,
             20
            ],
            [
             39,
             5,
             34,
             0
            ],
            [
             49,
             18,
             29,
             2
            ],
            [
             30,
             9,
             21,
             0
            ],
            [
             654,
             592,
             61,
             1
            ],
            [
             1212,
             399,
             773,
             40
            ],
            [
             112,
             16,
             96,
             0
            ],
            [
             91,
             36,
             55,
             0
            ],
            [
             13,
             6,
             7,
             0
            ],
            [
             17,
             13,
             4,
             0
            ],
            [
             15,
             12,
             3,
             0
            ],
            [
             44,
             6,
             38,
             0
            ],
            [
             563,
             144,
             417,
             2
            ],
            [
             42,
             4,
             37,
             1
            ]
           ],
           "hovertemplate": "<b>%{hovertext}</b><br><br>Days=89<br>province=%{x}<br>Confirmed=%{customdata[0]}<br>Isolated=%{customdata[1]}<br>Released=%{customdata[2]}<br>Deceased=%{customdata[3]}<extra></extra>",
           "hovertext": [
            "Busan",
            "Chungcheongbuk-do",
            "Chungcheongnam-do",
            "Daegu",
            "Daejeon",
            "Gangwon-do",
            "Gwangju",
            "Gyeonggi-do",
            "Gyeongsangbuk-do",
            "Gyeongsangnam-do",
            "Incheon",
            "Jeju-do",
            "Jeollabuk-do",
            "Jeollanam-do",
            "Sejong",
            "Seoul",
            "Ulsan"
           ],
           "ids": [
            "Busan",
            "Chungcheongbuk-do",
            "Chungcheongnam-do",
            "Daegu",
            "Daejeon",
            "Gangwon-do",
            "Gwangju",
            "Gyeonggi-do",
            "Gyeongsangbuk-do",
            "Gyeongsangnam-do",
            "Incheon",
            "Jeju-do",
            "Jeollabuk-do",
            "Jeollanam-do",
            "Sejong",
            "Seoul",
            "Ulsan"
           ],
           "legendgroup": "",
           "marker": {
            "color": "#636efa",
            "opacity": 0.75
           },
           "name": "",
           "offsetgroup": "",
           "orientation": "v",
           "showlegend": false,
           "textposition": "auto",
           "type": "bar",
           "x": [
            "Busan",
            "Chungcheongbuk-do",
            "Chungcheongnam-do",
            "Daegu",
            "Daejeon",
            "Gangwon-do",
            "Gwangju",
            "Gyeonggi-do",
            "Gyeongsangbuk-do",
            "Gyeongsangnam-do",
            "Incheon",
            "Jeju-do",
            "Jeollabuk-do",
            "Jeollanam-do",
            "Sejong",
            "Seoul",
            "Ulsan"
           ],
           "xaxis": "x",
           "y": [
            129,
            44,
            140,
            63,
            39,
            49,
            30,
            654,
            1212,
            112,
            91,
            13,
            17,
            15,
            44,
            563,
            42
           ],
           "yaxis": "y"
          }
         ],
         "name": "89"
        },
        {
         "data": [
          {
           "alignmentgroup": "True",
           "customdata": [
            [
             129,
             15,
             111,
             3
            ],
            [
             44,
             5,
             39,
             0
            ],
            [
             140,
             13,
             127,
             0
            ],
            [
             63,
             39,
             4,
             20
            ],
            [
             39,
             5,
             34,
             0
            ],
            [
             49,
             18,
             29,
             2
            ],
            [
             30,
             9,
             21,
             0
            ],
            [
             656,
             594,
             61,
             1
            ],
            [
             1213,
             400,
             773,
             40
            ],
            [
             112,
             16,
             96,
             0
            ],
            [
             92,
             37,
             55,
             0
            ],
            [
             13,
             6,
             7,
             0
            ],
            [
             17,
             13,
             4,
             0
            ],
            [
             15,
             12,
             3,
             0
            ],
            [
             44,
             6,
             38,
             0
            ],
            [
             563,
             144,
             417,
             2
            ],
            [
             43,
             5,
             37,
             1
            ]
           ],
           "hovertemplate": "<b>%{hovertext}</b><br><br>Days=90<br>province=%{x}<br>Confirmed=%{customdata[0]}<br>Isolated=%{customdata[1]}<br>Released=%{customdata[2]}<br>Deceased=%{customdata[3]}<extra></extra>",
           "hovertext": [
            "Busan",
            "Chungcheongbuk-do",
            "Chungcheongnam-do",
            "Daegu",
            "Daejeon",
            "Gangwon-do",
            "Gwangju",
            "Gyeonggi-do",
            "Gyeongsangbuk-do",
            "Gyeongsangnam-do",
            "Incheon",
            "Jeju-do",
            "Jeollabuk-do",
            "Jeollanam-do",
            "Sejong",
            "Seoul",
            "Ulsan"
           ],
           "ids": [
            "Busan",
            "Chungcheongbuk-do",
            "Chungcheongnam-do",
            "Daegu",
            "Daejeon",
            "Gangwon-do",
            "Gwangju",
            "Gyeonggi-do",
            "Gyeongsangbuk-do",
            "Gyeongsangnam-do",
            "Incheon",
            "Jeju-do",
            "Jeollabuk-do",
            "Jeollanam-do",
            "Sejong",
            "Seoul",
            "Ulsan"
           ],
           "legendgroup": "",
           "marker": {
            "color": "#636efa",
            "opacity": 0.75
           },
           "name": "",
           "offsetgroup": "",
           "orientation": "v",
           "showlegend": false,
           "textposition": "auto",
           "type": "bar",
           "x": [
            "Busan",
            "Chungcheongbuk-do",
            "Chungcheongnam-do",
            "Daegu",
            "Daejeon",
            "Gangwon-do",
            "Gwangju",
            "Gyeonggi-do",
            "Gyeongsangbuk-do",
            "Gyeongsangnam-do",
            "Incheon",
            "Jeju-do",
            "Jeollabuk-do",
            "Jeollanam-do",
            "Sejong",
            "Seoul",
            "Ulsan"
           ],
           "xaxis": "x",
           "y": [
            129,
            44,
            140,
            63,
            39,
            49,
            30,
            656,
            1213,
            112,
            92,
            13,
            17,
            15,
            44,
            563,
            43
           ],
           "yaxis": "y"
          }
         ],
         "name": "90"
        },
        {
         "data": [
          {
           "alignmentgroup": "True",
           "customdata": [
            [
             129,
             15,
             111,
             3
            ],
            [
             44,
             5,
             39,
             0
            ],
            [
             140,
             13,
             127,
             0
            ],
            [
             63,
             39,
             4,
             20
            ],
            [
             39,
             5,
             34,
             0
            ],
            [
             49,
             18,
             29,
             2
            ],
            [
             30,
             9,
             21,
             0
            ],
            [
             658,
             596,
             61,
             1
            ],
            [
             1213,
             400,
             773,
             40
            ],
            [
             112,
             16,
             96,
             0
            ],
            [
             92,
             37,
             55,
             0
            ],
            [
             13,
             6,
             7,
             0
            ],
            [
             17,
             13,
             4,
             0
            ],
            [
             15,
             12,
             3,
             0
            ],
            [
             45,
             6,
             39,
             0
            ],
            [
             563,
             144,
             417,
             2
            ],
            [
             43,
             5,
             37,
             1
            ]
           ],
           "hovertemplate": "<b>%{hovertext}</b><br><br>Days=91<br>province=%{x}<br>Confirmed=%{customdata[0]}<br>Isolated=%{customdata[1]}<br>Released=%{customdata[2]}<br>Deceased=%{customdata[3]}<extra></extra>",
           "hovertext": [
            "Busan",
            "Chungcheongbuk-do",
            "Chungcheongnam-do",
            "Daegu",
            "Daejeon",
            "Gangwon-do",
            "Gwangju",
            "Gyeonggi-do",
            "Gyeongsangbuk-do",
            "Gyeongsangnam-do",
            "Incheon",
            "Jeju-do",
            "Jeollabuk-do",
            "Jeollanam-do",
            "Sejong",
            "Seoul",
            "Ulsan"
           ],
           "ids": [
            "Busan",
            "Chungcheongbuk-do",
            "Chungcheongnam-do",
            "Daegu",
            "Daejeon",
            "Gangwon-do",
            "Gwangju",
            "Gyeonggi-do",
            "Gyeongsangbuk-do",
            "Gyeongsangnam-do",
            "Incheon",
            "Jeju-do",
            "Jeollabuk-do",
            "Jeollanam-do",
            "Sejong",
            "Seoul",
            "Ulsan"
           ],
           "legendgroup": "",
           "marker": {
            "color": "#636efa",
            "opacity": 0.75
           },
           "name": "",
           "offsetgroup": "",
           "orientation": "v",
           "showlegend": false,
           "textposition": "auto",
           "type": "bar",
           "x": [
            "Busan",
            "Chungcheongbuk-do",
            "Chungcheongnam-do",
            "Daegu",
            "Daejeon",
            "Gangwon-do",
            "Gwangju",
            "Gyeonggi-do",
            "Gyeongsangbuk-do",
            "Gyeongsangnam-do",
            "Incheon",
            "Jeju-do",
            "Jeollabuk-do",
            "Jeollanam-do",
            "Sejong",
            "Seoul",
            "Ulsan"
           ],
           "xaxis": "x",
           "y": [
            129,
            44,
            140,
            63,
            39,
            49,
            30,
            658,
            1213,
            112,
            92,
            13,
            17,
            15,
            45,
            563,
            43
           ],
           "yaxis": "y"
          }
         ],
         "name": "91"
        },
        {
         "data": [
          {
           "alignmentgroup": "True",
           "customdata": [
            [
             131,
             17,
             111,
             3
            ],
            [
             44,
             5,
             39,
             0
            ],
            [
             141,
             14,
             127,
             0
            ],
            [
             63,
             39,
             4,
             20
            ],
            [
             40,
             6,
             34,
             0
            ],
            [
             49,
             18,
             29,
             2
            ],
            [
             30,
             9,
             21,
             0
            ],
            [
             658,
             596,
             61,
             1
            ],
            [
             1215,
             402,
             773,
             40
            ],
            [
             112,
             16,
             96,
             0
            ],
            [
             92,
             37,
             55,
             0
            ],
            [
             13,
             6,
             7,
             0
            ],
            [
             17,
             13,
             4,
             0
            ],
            [
             15,
             12,
             3,
             0
            ],
            [
             46,
             6,
             40,
             0
            ],
            [
             563,
             144,
             417,
             2
            ],
            [
             43,
             5,
             37,
             1
            ]
           ],
           "hovertemplate": "<b>%{hovertext}</b><br><br>Days=92<br>province=%{x}<br>Confirmed=%{customdata[0]}<br>Isolated=%{customdata[1]}<br>Released=%{customdata[2]}<br>Deceased=%{customdata[3]}<extra></extra>",
           "hovertext": [
            "Busan",
            "Chungcheongbuk-do",
            "Chungcheongnam-do",
            "Daegu",
            "Daejeon",
            "Gangwon-do",
            "Gwangju",
            "Gyeonggi-do",
            "Gyeongsangbuk-do",
            "Gyeongsangnam-do",
            "Incheon",
            "Jeju-do",
            "Jeollabuk-do",
            "Jeollanam-do",
            "Sejong",
            "Seoul",
            "Ulsan"
           ],
           "ids": [
            "Busan",
            "Chungcheongbuk-do",
            "Chungcheongnam-do",
            "Daegu",
            "Daejeon",
            "Gangwon-do",
            "Gwangju",
            "Gyeonggi-do",
            "Gyeongsangbuk-do",
            "Gyeongsangnam-do",
            "Incheon",
            "Jeju-do",
            "Jeollabuk-do",
            "Jeollanam-do",
            "Sejong",
            "Seoul",
            "Ulsan"
           ],
           "legendgroup": "",
           "marker": {
            "color": "#636efa",
            "opacity": 0.75
           },
           "name": "",
           "offsetgroup": "",
           "orientation": "v",
           "showlegend": false,
           "textposition": "auto",
           "type": "bar",
           "x": [
            "Busan",
            "Chungcheongbuk-do",
            "Chungcheongnam-do",
            "Daegu",
            "Daejeon",
            "Gangwon-do",
            "Gwangju",
            "Gyeonggi-do",
            "Gyeongsangbuk-do",
            "Gyeongsangnam-do",
            "Incheon",
            "Jeju-do",
            "Jeollabuk-do",
            "Jeollanam-do",
            "Sejong",
            "Seoul",
            "Ulsan"
           ],
           "xaxis": "x",
           "y": [
            131,
            44,
            141,
            63,
            40,
            49,
            30,
            658,
            1215,
            112,
            92,
            13,
            17,
            15,
            46,
            563,
            43
           ],
           "yaxis": "y"
          }
         ],
         "name": "92"
        },
        {
         "data": [
          {
           "alignmentgroup": "True",
           "customdata": [
            [
             132,
             18,
             111,
             3
            ],
            [
             44,
             5,
             39,
             0
            ],
            [
             141,
             14,
             127,
             0
            ],
            [
             63,
             39,
             4,
             20
            ],
            [
             40,
             6,
             34,
             0
            ],
            [
             49,
             18,
             29,
             2
            ],
            [
             30,
             9,
             21,
             0
            ],
            [
             659,
             597,
             61,
             1
            ],
            [
             1215,
             402,
             773,
             40
            ],
            [
             112,
             16,
             96,
             0
            ],
            [
             92,
             37,
             55,
             0
            ],
            [
             13,
             6,
             7,
             0
            ],
            [
             17,
             13,
             4,
             0
            ],
            [
             15,
             12,
             3,
             0
            ],
            [
             46,
             6,
             40,
             0
            ],
            [
             563,
             144,
             417,
             2
            ],
            [
             43,
             5,
             37,
             1
            ]
           ],
           "hovertemplate": "<b>%{hovertext}</b><br><br>Days=93<br>province=%{x}<br>Confirmed=%{customdata[0]}<br>Isolated=%{customdata[1]}<br>Released=%{customdata[2]}<br>Deceased=%{customdata[3]}<extra></extra>",
           "hovertext": [
            "Busan",
            "Chungcheongbuk-do",
            "Chungcheongnam-do",
            "Daegu",
            "Daejeon",
            "Gangwon-do",
            "Gwangju",
            "Gyeonggi-do",
            "Gyeongsangbuk-do",
            "Gyeongsangnam-do",
            "Incheon",
            "Jeju-do",
            "Jeollabuk-do",
            "Jeollanam-do",
            "Sejong",
            "Seoul",
            "Ulsan"
           ],
           "ids": [
            "Busan",
            "Chungcheongbuk-do",
            "Chungcheongnam-do",
            "Daegu",
            "Daejeon",
            "Gangwon-do",
            "Gwangju",
            "Gyeonggi-do",
            "Gyeongsangbuk-do",
            "Gyeongsangnam-do",
            "Incheon",
            "Jeju-do",
            "Jeollabuk-do",
            "Jeollanam-do",
            "Sejong",
            "Seoul",
            "Ulsan"
           ],
           "legendgroup": "",
           "marker": {
            "color": "#636efa",
            "opacity": 0.75
           },
           "name": "",
           "offsetgroup": "",
           "orientation": "v",
           "showlegend": false,
           "textposition": "auto",
           "type": "bar",
           "x": [
            "Busan",
            "Chungcheongbuk-do",
            "Chungcheongnam-do",
            "Daegu",
            "Daejeon",
            "Gangwon-do",
            "Gwangju",
            "Gyeonggi-do",
            "Gyeongsangbuk-do",
            "Gyeongsangnam-do",
            "Incheon",
            "Jeju-do",
            "Jeollabuk-do",
            "Jeollanam-do",
            "Sejong",
            "Seoul",
            "Ulsan"
           ],
           "xaxis": "x",
           "y": [
            132,
            44,
            141,
            63,
            40,
            49,
            30,
            659,
            1215,
            112,
            92,
            13,
            17,
            15,
            46,
            563,
            43
           ],
           "yaxis": "y"
          }
         ],
         "name": "93"
        },
        {
         "data": [
          {
           "alignmentgroup": "True",
           "customdata": [
            [
             133,
             19,
             111,
             3
            ],
            [
             44,
             5,
             39,
             0
            ],
            [
             141,
             14,
             127,
             0
            ],
            [
             63,
             39,
             4,
             20
            ],
            [
             40,
             6,
             34,
             0
            ],
            [
             49,
             18,
             29,
             2
            ],
            [
             30,
             9,
             21,
             0
            ],
            [
             660,
             598,
             61,
             1
            ],
            [
             1215,
             402,
             773,
             40
            ],
            [
             112,
             16,
             96,
             0
            ],
            [
             92,
             37,
             55,
             0
            ],
            [
             13,
             6,
             7,
             0
            ],
            [
             17,
             13,
             4,
             0
            ],
            [
             15,
             12,
             3,
             0
            ],
            [
             46,
             6,
             40,
             0
            ],
            [
             563,
             144,
             417,
             2
            ],
            [
             43,
             5,
             37,
             1
            ]
           ],
           "hovertemplate": "<b>%{hovertext}</b><br><br>Days=94<br>province=%{x}<br>Confirmed=%{customdata[0]}<br>Isolated=%{customdata[1]}<br>Released=%{customdata[2]}<br>Deceased=%{customdata[3]}<extra></extra>",
           "hovertext": [
            "Busan",
            "Chungcheongbuk-do",
            "Chungcheongnam-do",
            "Daegu",
            "Daejeon",
            "Gangwon-do",
            "Gwangju",
            "Gyeonggi-do",
            "Gyeongsangbuk-do",
            "Gyeongsangnam-do",
            "Incheon",
            "Jeju-do",
            "Jeollabuk-do",
            "Jeollanam-do",
            "Sejong",
            "Seoul",
            "Ulsan"
           ],
           "ids": [
            "Busan",
            "Chungcheongbuk-do",
            "Chungcheongnam-do",
            "Daegu",
            "Daejeon",
            "Gangwon-do",
            "Gwangju",
            "Gyeonggi-do",
            "Gyeongsangbuk-do",
            "Gyeongsangnam-do",
            "Incheon",
            "Jeju-do",
            "Jeollabuk-do",
            "Jeollanam-do",
            "Sejong",
            "Seoul",
            "Ulsan"
           ],
           "legendgroup": "",
           "marker": {
            "color": "#636efa",
            "opacity": 0.75
           },
           "name": "",
           "offsetgroup": "",
           "orientation": "v",
           "showlegend": false,
           "textposition": "auto",
           "type": "bar",
           "x": [
            "Busan",
            "Chungcheongbuk-do",
            "Chungcheongnam-do",
            "Daegu",
            "Daejeon",
            "Gangwon-do",
            "Gwangju",
            "Gyeonggi-do",
            "Gyeongsangbuk-do",
            "Gyeongsangnam-do",
            "Incheon",
            "Jeju-do",
            "Jeollabuk-do",
            "Jeollanam-do",
            "Sejong",
            "Seoul",
            "Ulsan"
           ],
           "xaxis": "x",
           "y": [
            133,
            44,
            141,
            63,
            40,
            49,
            30,
            660,
            1215,
            112,
            92,
            13,
            17,
            15,
            46,
            563,
            43
           ],
           "yaxis": "y"
          }
         ],
         "name": "94"
        },
        {
         "data": [
          {
           "alignmentgroup": "True",
           "customdata": [
            [
             133,
             19,
             111,
             3
            ],
            [
             44,
             5,
             39,
             0
            ],
            [
             141,
             14,
             127,
             0
            ],
            [
             63,
             39,
             4,
             20
            ],
            [
             40,
             6,
             34,
             0
            ],
            [
             49,
             18,
             29,
             2
            ],
            [
             30,
             9,
             21,
             0
            ],
            [
             662,
             600,
             61,
             1
            ],
            [
             1217,
             404,
             773,
             40
            ],
            [
             112,
             16,
             96,
             0
            ],
            [
             92,
             37,
             55,
             0
            ],
            [
             13,
             6,
             7,
             0
            ],
            [
             17,
             13,
             4,
             0
            ],
            [
             15,
             12,
             3,
             0
            ],
            [
             46,
             6,
             40,
             0
            ],
            [
             563,
             144,
             417,
             2
            ],
            [
             43,
             5,
             37,
             1
            ]
           ],
           "hovertemplate": "<b>%{hovertext}</b><br><br>Days=95<br>province=%{x}<br>Confirmed=%{customdata[0]}<br>Isolated=%{customdata[1]}<br>Released=%{customdata[2]}<br>Deceased=%{customdata[3]}<extra></extra>",
           "hovertext": [
            "Busan",
            "Chungcheongbuk-do",
            "Chungcheongnam-do",
            "Daegu",
            "Daejeon",
            "Gangwon-do",
            "Gwangju",
            "Gyeonggi-do",
            "Gyeongsangbuk-do",
            "Gyeongsangnam-do",
            "Incheon",
            "Jeju-do",
            "Jeollabuk-do",
            "Jeollanam-do",
            "Sejong",
            "Seoul",
            "Ulsan"
           ],
           "ids": [
            "Busan",
            "Chungcheongbuk-do",
            "Chungcheongnam-do",
            "Daegu",
            "Daejeon",
            "Gangwon-do",
            "Gwangju",
            "Gyeonggi-do",
            "Gyeongsangbuk-do",
            "Gyeongsangnam-do",
            "Incheon",
            "Jeju-do",
            "Jeollabuk-do",
            "Jeollanam-do",
            "Sejong",
            "Seoul",
            "Ulsan"
           ],
           "legendgroup": "",
           "marker": {
            "color": "#636efa",
            "opacity": 0.75
           },
           "name": "",
           "offsetgroup": "",
           "orientation": "v",
           "showlegend": false,
           "textposition": "auto",
           "type": "bar",
           "x": [
            "Busan",
            "Chungcheongbuk-do",
            "Chungcheongnam-do",
            "Daegu",
            "Daejeon",
            "Gangwon-do",
            "Gwangju",
            "Gyeonggi-do",
            "Gyeongsangbuk-do",
            "Gyeongsangnam-do",
            "Incheon",
            "Jeju-do",
            "Jeollabuk-do",
            "Jeollanam-do",
            "Sejong",
            "Seoul",
            "Ulsan"
           ],
           "xaxis": "x",
           "y": [
            133,
            44,
            141,
            63,
            40,
            49,
            30,
            662,
            1217,
            112,
            92,
            13,
            17,
            15,
            46,
            563,
            43
           ],
           "yaxis": "y"
          }
         ],
         "name": "95"
        },
        {
         "data": [
          {
           "alignmentgroup": "True",
           "customdata": [
            [
             134,
             20,
             111,
             3
            ],
            [
             44,
             5,
             39,
             0
            ],
            [
             141,
             14,
             127,
             0
            ],
            [
             63,
             39,
             4,
             20
            ],
            [
             40,
             6,
             34,
             0
            ],
            [
             49,
             18,
             29,
             2
            ],
            [
             30,
             9,
             21,
             0
            ],
            [
             669,
             607,
             61,
             1
            ],
            [
             1217,
             404,
             773,
             40
            ],
            [
             112,
             16,
             96,
             0
            ],
            [
             92,
             37,
             55,
             0
            ],
            [
             13,
             6,
             7,
             0
            ],
            [
             17,
             13,
             4,
             0
            ],
            [
             15,
             12,
             3,
             0
            ],
            [
             46,
             6,
             40,
             0
            ],
            [
             563,
             144,
             417,
             2
            ],
            [
             43,
             5,
             37,
             1
            ]
           ],
           "hovertemplate": "<b>%{hovertext}</b><br><br>Days=96<br>province=%{x}<br>Confirmed=%{customdata[0]}<br>Isolated=%{customdata[1]}<br>Released=%{customdata[2]}<br>Deceased=%{customdata[3]}<extra></extra>",
           "hovertext": [
            "Busan",
            "Chungcheongbuk-do",
            "Chungcheongnam-do",
            "Daegu",
            "Daejeon",
            "Gangwon-do",
            "Gwangju",
            "Gyeonggi-do",
            "Gyeongsangbuk-do",
            "Gyeongsangnam-do",
            "Incheon",
            "Jeju-do",
            "Jeollabuk-do",
            "Jeollanam-do",
            "Sejong",
            "Seoul",
            "Ulsan"
           ],
           "ids": [
            "Busan",
            "Chungcheongbuk-do",
            "Chungcheongnam-do",
            "Daegu",
            "Daejeon",
            "Gangwon-do",
            "Gwangju",
            "Gyeonggi-do",
            "Gyeongsangbuk-do",
            "Gyeongsangnam-do",
            "Incheon",
            "Jeju-do",
            "Jeollabuk-do",
            "Jeollanam-do",
            "Sejong",
            "Seoul",
            "Ulsan"
           ],
           "legendgroup": "",
           "marker": {
            "color": "#636efa",
            "opacity": 0.75
           },
           "name": "",
           "offsetgroup": "",
           "orientation": "v",
           "showlegend": false,
           "textposition": "auto",
           "type": "bar",
           "x": [
            "Busan",
            "Chungcheongbuk-do",
            "Chungcheongnam-do",
            "Daegu",
            "Daejeon",
            "Gangwon-do",
            "Gwangju",
            "Gyeonggi-do",
            "Gyeongsangbuk-do",
            "Gyeongsangnam-do",
            "Incheon",
            "Jeju-do",
            "Jeollabuk-do",
            "Jeollanam-do",
            "Sejong",
            "Seoul",
            "Ulsan"
           ],
           "xaxis": "x",
           "y": [
            134,
            44,
            141,
            63,
            40,
            49,
            30,
            669,
            1217,
            112,
            92,
            13,
            17,
            15,
            46,
            563,
            43
           ],
           "yaxis": "y"
          }
         ],
         "name": "96"
        },
        {
         "data": [
          {
           "alignmentgroup": "True",
           "customdata": [
            [
             134,
             20,
             111,
             3
            ],
            [
             44,
             5,
             39,
             0
            ],
            [
             142,
             15,
             127,
             0
            ],
            [
             63,
             39,
             4,
             20
            ],
            [
             40,
             6,
             34,
             0
            ],
            [
             49,
             18,
             29,
             2
            ],
            [
             30,
             9,
             21,
             0
            ],
            [
             672,
             610,
             61,
             1
            ],
            [
             1217,
             404,
             773,
             40
            ],
            [
             112,
             16,
             96,
             0
            ],
            [
             92,
             37,
             55,
             0
            ],
            [
             13,
             6,
             7,
             0
            ],
            [
             17,
             13,
             4,
             0
            ],
            [
             15,
             12,
             3,
             0
            ],
            [
             46,
             6,
             40,
             0
            ],
            [
             563,
             144,
             417,
             2
            ],
            [
             43,
             5,
             37,
             1
            ]
           ],
           "hovertemplate": "<b>%{hovertext}</b><br><br>Days=97<br>province=%{x}<br>Confirmed=%{customdata[0]}<br>Isolated=%{customdata[1]}<br>Released=%{customdata[2]}<br>Deceased=%{customdata[3]}<extra></extra>",
           "hovertext": [
            "Busan",
            "Chungcheongbuk-do",
            "Chungcheongnam-do",
            "Daegu",
            "Daejeon",
            "Gangwon-do",
            "Gwangju",
            "Gyeonggi-do",
            "Gyeongsangbuk-do",
            "Gyeongsangnam-do",
            "Incheon",
            "Jeju-do",
            "Jeollabuk-do",
            "Jeollanam-do",
            "Sejong",
            "Seoul",
            "Ulsan"
           ],
           "ids": [
            "Busan",
            "Chungcheongbuk-do",
            "Chungcheongnam-do",
            "Daegu",
            "Daejeon",
            "Gangwon-do",
            "Gwangju",
            "Gyeonggi-do",
            "Gyeongsangbuk-do",
            "Gyeongsangnam-do",
            "Incheon",
            "Jeju-do",
            "Jeollabuk-do",
            "Jeollanam-do",
            "Sejong",
            "Seoul",
            "Ulsan"
           ],
           "legendgroup": "",
           "marker": {
            "color": "#636efa",
            "opacity": 0.75
           },
           "name": "",
           "offsetgroup": "",
           "orientation": "v",
           "showlegend": false,
           "textposition": "auto",
           "type": "bar",
           "x": [
            "Busan",
            "Chungcheongbuk-do",
            "Chungcheongnam-do",
            "Daegu",
            "Daejeon",
            "Gangwon-do",
            "Gwangju",
            "Gyeonggi-do",
            "Gyeongsangbuk-do",
            "Gyeongsangnam-do",
            "Incheon",
            "Jeju-do",
            "Jeollabuk-do",
            "Jeollanam-do",
            "Sejong",
            "Seoul",
            "Ulsan"
           ],
           "xaxis": "x",
           "y": [
            134,
            44,
            142,
            63,
            40,
            49,
            30,
            672,
            1217,
            112,
            92,
            13,
            17,
            15,
            46,
            563,
            43
           ],
           "yaxis": "y"
          }
         ],
         "name": "97"
        },
        {
         "data": [
          {
           "alignmentgroup": "True",
           "customdata": [
            [
             134,
             20,
             111,
             3
            ],
            [
             44,
             5,
             39,
             0
            ],
            [
             142,
             15,
             127,
             0
            ],
            [
             63,
             39,
             4,
             20
            ],
            [
             40,
             6,
             34,
             0
            ],
            [
             49,
             18,
             29,
             2
            ],
            [
             30,
             9,
             21,
             0
            ],
            [
             674,
             612,
             61,
             1
            ],
            [
             1218,
             405,
             773,
             40
            ],
            [
             112,
             16,
             96,
             0
            ],
            [
             92,
             37,
             55,
             0
            ],
            [
             13,
             6,
             7,
             0
            ],
            [
             17,
             13,
             4,
             0
            ],
            [
             15,
             12,
             3,
             0
            ],
            [
             46,
             6,
             40,
             0
            ],
            [
             563,
             144,
             417,
             2
            ],
            [
             43,
             5,
             37,
             1
            ]
           ],
           "hovertemplate": "<b>%{hovertext}</b><br><br>Days=98<br>province=%{x}<br>Confirmed=%{customdata[0]}<br>Isolated=%{customdata[1]}<br>Released=%{customdata[2]}<br>Deceased=%{customdata[3]}<extra></extra>",
           "hovertext": [
            "Busan",
            "Chungcheongbuk-do",
            "Chungcheongnam-do",
            "Daegu",
            "Daejeon",
            "Gangwon-do",
            "Gwangju",
            "Gyeonggi-do",
            "Gyeongsangbuk-do",
            "Gyeongsangnam-do",
            "Incheon",
            "Jeju-do",
            "Jeollabuk-do",
            "Jeollanam-do",
            "Sejong",
            "Seoul",
            "Ulsan"
           ],
           "ids": [
            "Busan",
            "Chungcheongbuk-do",
            "Chungcheongnam-do",
            "Daegu",
            "Daejeon",
            "Gangwon-do",
            "Gwangju",
            "Gyeonggi-do",
            "Gyeongsangbuk-do",
            "Gyeongsangnam-do",
            "Incheon",
            "Jeju-do",
            "Jeollabuk-do",
            "Jeollanam-do",
            "Sejong",
            "Seoul",
            "Ulsan"
           ],
           "legendgroup": "",
           "marker": {
            "color": "#636efa",
            "opacity": 0.75
           },
           "name": "",
           "offsetgroup": "",
           "orientation": "v",
           "showlegend": false,
           "textposition": "auto",
           "type": "bar",
           "x": [
            "Busan",
            "Chungcheongbuk-do",
            "Chungcheongnam-do",
            "Daegu",
            "Daejeon",
            "Gangwon-do",
            "Gwangju",
            "Gyeonggi-do",
            "Gyeongsangbuk-do",
            "Gyeongsangnam-do",
            "Incheon",
            "Jeju-do",
            "Jeollabuk-do",
            "Jeollanam-do",
            "Sejong",
            "Seoul",
            "Ulsan"
           ],
           "xaxis": "x",
           "y": [
            134,
            44,
            142,
            63,
            40,
            49,
            30,
            674,
            1218,
            112,
            92,
            13,
            17,
            15,
            46,
            563,
            43
           ],
           "yaxis": "y"
          }
         ],
         "name": "98"
        },
        {
         "data": [
          {
           "alignmentgroup": "True",
           "customdata": [
            [
             134,
             20,
             111,
             3
            ],
            [
             44,
             5,
             39,
             0
            ],
            [
             143,
             16,
             127,
             0
            ],
            [
             63,
             39,
             4,
             20
            ],
            [
             40,
             6,
             34,
             0
            ],
            [
             49,
             18,
             29,
             2
            ],
            [
             30,
             9,
             21,
             0
            ],
            [
             676,
             614,
             61,
             1
            ],
            [
             1218,
             405,
             773,
             40
            ],
            [
             112,
             16,
             96,
             0
            ],
            [
             92,
             37,
             55,
             0
            ],
            [
             13,
             6,
             7,
             0
            ],
            [
             17,
             13,
             4,
             0
            ],
            [
             15,
             12,
             3,
             0
            ],
            [
             46,
             6,
             40,
             0
            ],
            [
             563,
             144,
             417,
             2
            ],
            [
             43,
             5,
             37,
             1
            ]
           ],
           "hovertemplate": "<b>%{hovertext}</b><br><br>Days=99<br>province=%{x}<br>Confirmed=%{customdata[0]}<br>Isolated=%{customdata[1]}<br>Released=%{customdata[2]}<br>Deceased=%{customdata[3]}<extra></extra>",
           "hovertext": [
            "Busan",
            "Chungcheongbuk-do",
            "Chungcheongnam-do",
            "Daegu",
            "Daejeon",
            "Gangwon-do",
            "Gwangju",
            "Gyeonggi-do",
            "Gyeongsangbuk-do",
            "Gyeongsangnam-do",
            "Incheon",
            "Jeju-do",
            "Jeollabuk-do",
            "Jeollanam-do",
            "Sejong",
            "Seoul",
            "Ulsan"
           ],
           "ids": [
            "Busan",
            "Chungcheongbuk-do",
            "Chungcheongnam-do",
            "Daegu",
            "Daejeon",
            "Gangwon-do",
            "Gwangju",
            "Gyeonggi-do",
            "Gyeongsangbuk-do",
            "Gyeongsangnam-do",
            "Incheon",
            "Jeju-do",
            "Jeollabuk-do",
            "Jeollanam-do",
            "Sejong",
            "Seoul",
            "Ulsan"
           ],
           "legendgroup": "",
           "marker": {
            "color": "#636efa",
            "opacity": 0.75
           },
           "name": "",
           "offsetgroup": "",
           "orientation": "v",
           "showlegend": false,
           "textposition": "auto",
           "type": "bar",
           "x": [
            "Busan",
            "Chungcheongbuk-do",
            "Chungcheongnam-do",
            "Daegu",
            "Daejeon",
            "Gangwon-do",
            "Gwangju",
            "Gyeonggi-do",
            "Gyeongsangbuk-do",
            "Gyeongsangnam-do",
            "Incheon",
            "Jeju-do",
            "Jeollabuk-do",
            "Jeollanam-do",
            "Sejong",
            "Seoul",
            "Ulsan"
           ],
           "xaxis": "x",
           "y": [
            134,
            44,
            143,
            63,
            40,
            49,
            30,
            676,
            1218,
            112,
            92,
            13,
            17,
            15,
            46,
            563,
            43
           ],
           "yaxis": "y"
          }
         ],
         "name": "99"
        },
        {
         "data": [
          {
           "alignmentgroup": "True",
           "customdata": [
            [
             134,
             20,
             111,
             3
            ],
            [
             44,
             5,
             39,
             0
            ],
            [
             143,
             16,
             127,
             0
            ],
            [
             63,
             39,
             4,
             20
            ],
            [
             40,
             6,
             34,
             0
            ],
            [
             49,
             18,
             29,
             2
            ],
            [
             30,
             9,
             21,
             0
            ],
            [
             677,
             615,
             61,
             1
            ],
            [
             1218,
             405,
             773,
             40
            ],
            [
             112,
             16,
             96,
             0
            ],
            [
             92,
             37,
             55,
             0
            ],
            [
             13,
             6,
             7,
             0
            ],
            [
             17,
             13,
             4,
             0
            ],
            [
             15,
             12,
             3,
             0
            ],
            [
             46,
             6,
             40,
             0
            ],
            [
             563,
             144,
             417,
             2
            ],
            [
             43,
             5,
             37,
             1
            ]
           ],
           "hovertemplate": "<b>%{hovertext}</b><br><br>Days=100<br>province=%{x}<br>Confirmed=%{customdata[0]}<br>Isolated=%{customdata[1]}<br>Released=%{customdata[2]}<br>Deceased=%{customdata[3]}<extra></extra>",
           "hovertext": [
            "Busan",
            "Chungcheongbuk-do",
            "Chungcheongnam-do",
            "Daegu",
            "Daejeon",
            "Gangwon-do",
            "Gwangju",
            "Gyeonggi-do",
            "Gyeongsangbuk-do",
            "Gyeongsangnam-do",
            "Incheon",
            "Jeju-do",
            "Jeollabuk-do",
            "Jeollanam-do",
            "Sejong",
            "Seoul",
            "Ulsan"
           ],
           "ids": [
            "Busan",
            "Chungcheongbuk-do",
            "Chungcheongnam-do",
            "Daegu",
            "Daejeon",
            "Gangwon-do",
            "Gwangju",
            "Gyeonggi-do",
            "Gyeongsangbuk-do",
            "Gyeongsangnam-do",
            "Incheon",
            "Jeju-do",
            "Jeollabuk-do",
            "Jeollanam-do",
            "Sejong",
            "Seoul",
            "Ulsan"
           ],
           "legendgroup": "",
           "marker": {
            "color": "#636efa",
            "opacity": 0.75
           },
           "name": "",
           "offsetgroup": "",
           "orientation": "v",
           "showlegend": false,
           "textposition": "auto",
           "type": "bar",
           "x": [
            "Busan",
            "Chungcheongbuk-do",
            "Chungcheongnam-do",
            "Daegu",
            "Daejeon",
            "Gangwon-do",
            "Gwangju",
            "Gyeonggi-do",
            "Gyeongsangbuk-do",
            "Gyeongsangnam-do",
            "Incheon",
            "Jeju-do",
            "Jeollabuk-do",
            "Jeollanam-do",
            "Sejong",
            "Seoul",
            "Ulsan"
           ],
           "xaxis": "x",
           "y": [
            134,
            44,
            143,
            63,
            40,
            49,
            30,
            677,
            1218,
            112,
            92,
            13,
            17,
            15,
            46,
            563,
            43
           ],
           "yaxis": "y"
          }
         ],
         "name": "100"
        }
       ],
       "layout": {
        "barmode": "relative",
        "height": 600,
        "legend": {
         "tracegroupgap": 0
        },
        "paper_bgcolor": "rgba(0, 0, 0, 0)",
        "plot_bgcolor": "rgba(0, 0, 0, 0)",
        "sliders": [
         {
          "active": 0,
          "currentvalue": {
           "prefix": "Days="
          },
          "len": 0.9,
          "pad": {
           "b": 10,
           "t": 60
          },
          "steps": [
           {
            "args": [
             [
              "0"
             ],
             {
              "frame": {
               "duration": 0,
               "redraw": true
              },
              "fromcurrent": true,
              "mode": "immediate",
              "transition": {
               "duration": 0,
               "easing": "linear"
              }
             }
            ],
            "label": "0",
            "method": "animate"
           },
           {
            "args": [
             [
              "3"
             ],
             {
              "frame": {
               "duration": 0,
               "redraw": true
              },
              "fromcurrent": true,
              "mode": "immediate",
              "transition": {
               "duration": 0,
               "easing": "linear"
              }
             }
            ],
            "label": "3",
            "method": "animate"
           },
           {
            "args": [
             [
              "6"
             ],
             {
              "frame": {
               "duration": 0,
               "redraw": true
              },
              "fromcurrent": true,
              "mode": "immediate",
              "transition": {
               "duration": 0,
               "easing": "linear"
              }
             }
            ],
            "label": "6",
            "method": "animate"
           },
           {
            "args": [
             [
              "7"
             ],
             {
              "frame": {
               "duration": 0,
               "redraw": true
              },
              "fromcurrent": true,
              "mode": "immediate",
              "transition": {
               "duration": 0,
               "easing": "linear"
              }
             }
            ],
            "label": "7",
            "method": "animate"
           },
           {
            "args": [
             [
              "10"
             ],
             {
              "frame": {
               "duration": 0,
               "redraw": true
              },
              "fromcurrent": true,
              "mode": "immediate",
              "transition": {
               "duration": 0,
               "easing": "linear"
              }
             }
            ],
            "label": "10",
            "method": "animate"
           },
           {
            "args": [
             [
              "11"
             ],
             {
              "frame": {
               "duration": 0,
               "redraw": true
              },
              "fromcurrent": true,
              "mode": "immediate",
              "transition": {
               "duration": 0,
               "easing": "linear"
              }
             }
            ],
            "label": "11",
            "method": "animate"
           },
           {
            "args": [
             [
              "12"
             ],
             {
              "frame": {
               "duration": 0,
               "redraw": true
              },
              "fromcurrent": true,
              "mode": "immediate",
              "transition": {
               "duration": 0,
               "easing": "linear"
              }
             }
            ],
            "label": "12",
            "method": "animate"
           },
           {
            "args": [
             [
              "13"
             ],
             {
              "frame": {
               "duration": 0,
               "redraw": true
              },
              "fromcurrent": true,
              "mode": "immediate",
              "transition": {
               "duration": 0,
               "easing": "linear"
              }
             }
            ],
            "label": "13",
            "method": "animate"
           },
           {
            "args": [
             [
              "14"
             ],
             {
              "frame": {
               "duration": 0,
               "redraw": true
              },
              "fromcurrent": true,
              "mode": "immediate",
              "transition": {
               "duration": 0,
               "easing": "linear"
              }
             }
            ],
            "label": "14",
            "method": "animate"
           },
           {
            "args": [
             [
              "16"
             ],
             {
              "frame": {
               "duration": 0,
               "redraw": true
              },
              "fromcurrent": true,
              "mode": "immediate",
              "transition": {
               "duration": 0,
               "easing": "linear"
              }
             }
            ],
            "label": "16",
            "method": "animate"
           },
           {
            "args": [
             [
              "17"
             ],
             {
              "frame": {
               "duration": 0,
               "redraw": true
              },
              "fromcurrent": true,
              "mode": "immediate",
              "transition": {
               "duration": 0,
               "easing": "linear"
              }
             }
            ],
            "label": "17",
            "method": "animate"
           },
           {
            "args": [
             [
              "18"
             ],
             {
              "frame": {
               "duration": 0,
               "redraw": true
              },
              "fromcurrent": true,
              "mode": "immediate",
              "transition": {
               "duration": 0,
               "easing": "linear"
              }
             }
            ],
            "label": "18",
            "method": "animate"
           },
           {
            "args": [
             [
              "20"
             ],
             {
              "frame": {
               "duration": 0,
               "redraw": true
              },
              "fromcurrent": true,
              "mode": "immediate",
              "transition": {
               "duration": 0,
               "easing": "linear"
              }
             }
            ],
            "label": "20",
            "method": "animate"
           },
           {
            "args": [
             [
              "21"
             ],
             {
              "frame": {
               "duration": 0,
               "redraw": true
              },
              "fromcurrent": true,
              "mode": "immediate",
              "transition": {
               "duration": 0,
               "easing": "linear"
              }
             }
            ],
            "label": "21",
            "method": "animate"
           },
           {
            "args": [
             [
              "27"
             ],
             {
              "frame": {
               "duration": 0,
               "redraw": true
              },
              "fromcurrent": true,
              "mode": "immediate",
              "transition": {
               "duration": 0,
               "easing": "linear"
              }
             }
            ],
            "label": "27",
            "method": "animate"
           },
           {
            "args": [
             [
              "29"
             ],
             {
              "frame": {
               "duration": 0,
               "redraw": true
              },
              "fromcurrent": true,
              "mode": "immediate",
              "transition": {
               "duration": 0,
               "easing": "linear"
              }
             }
            ],
            "label": "29",
            "method": "animate"
           },
           {
            "args": [
             [
              "30"
             ],
             {
              "frame": {
               "duration": 0,
               "redraw": true
              },
              "fromcurrent": true,
              "mode": "immediate",
              "transition": {
               "duration": 0,
               "easing": "linear"
              }
             }
            ],
            "label": "30",
            "method": "animate"
           },
           {
            "args": [
             [
              "31"
             ],
             {
              "frame": {
               "duration": 0,
               "redraw": true
              },
              "fromcurrent": true,
              "mode": "immediate",
              "transition": {
               "duration": 0,
               "easing": "linear"
              }
             }
            ],
            "label": "31",
            "method": "animate"
           },
           {
            "args": [
             [
              "32"
             ],
             {
              "frame": {
               "duration": 0,
               "redraw": true
              },
              "fromcurrent": true,
              "mode": "immediate",
              "transition": {
               "duration": 0,
               "easing": "linear"
              }
             }
            ],
            "label": "32",
            "method": "animate"
           },
           {
            "args": [
             [
              "33"
             ],
             {
              "frame": {
               "duration": 0,
               "redraw": true
              },
              "fromcurrent": true,
              "mode": "immediate",
              "transition": {
               "duration": 0,
               "easing": "linear"
              }
             }
            ],
            "label": "33",
            "method": "animate"
           },
           {
            "args": [
             [
              "34"
             ],
             {
              "frame": {
               "duration": 0,
               "redraw": true
              },
              "fromcurrent": true,
              "mode": "immediate",
              "transition": {
               "duration": 0,
               "easing": "linear"
              }
             }
            ],
            "label": "34",
            "method": "animate"
           },
           {
            "args": [
             [
              "35"
             ],
             {
              "frame": {
               "duration": 0,
               "redraw": true
              },
              "fromcurrent": true,
              "mode": "immediate",
              "transition": {
               "duration": 0,
               "easing": "linear"
              }
             }
            ],
            "label": "35",
            "method": "animate"
           },
           {
            "args": [
             [
              "36"
             ],
             {
              "frame": {
               "duration": 0,
               "redraw": true
              },
              "fromcurrent": true,
              "mode": "immediate",
              "transition": {
               "duration": 0,
               "easing": "linear"
              }
             }
            ],
            "label": "36",
            "method": "animate"
           },
           {
            "args": [
             [
              "37"
             ],
             {
              "frame": {
               "duration": 0,
               "redraw": true
              },
              "fromcurrent": true,
              "mode": "immediate",
              "transition": {
               "duration": 0,
               "easing": "linear"
              }
             }
            ],
            "label": "37",
            "method": "animate"
           },
           {
            "args": [
             [
              "38"
             ],
             {
              "frame": {
               "duration": 0,
               "redraw": true
              },
              "fromcurrent": true,
              "mode": "immediate",
              "transition": {
               "duration": 0,
               "easing": "linear"
              }
             }
            ],
            "label": "38",
            "method": "animate"
           },
           {
            "args": [
             [
              "39"
             ],
             {
              "frame": {
               "duration": 0,
               "redraw": true
              },
              "fromcurrent": true,
              "mode": "immediate",
              "transition": {
               "duration": 0,
               "easing": "linear"
              }
             }
            ],
            "label": "39",
            "method": "animate"
           },
           {
            "args": [
             [
              "40"
             ],
             {
              "frame": {
               "duration": 0,
               "redraw": true
              },
              "fromcurrent": true,
              "mode": "immediate",
              "transition": {
               "duration": 0,
               "easing": "linear"
              }
             }
            ],
            "label": "40",
            "method": "animate"
           },
           {
            "args": [
             [
              "41"
             ],
             {
              "frame": {
               "duration": 0,
               "redraw": true
              },
              "fromcurrent": true,
              "mode": "immediate",
              "transition": {
               "duration": 0,
               "easing": "linear"
              }
             }
            ],
            "label": "41",
            "method": "animate"
           },
           {
            "args": [
             [
              "42"
             ],
             {
              "frame": {
               "duration": 0,
               "redraw": true
              },
              "fromcurrent": true,
              "mode": "immediate",
              "transition": {
               "duration": 0,
               "easing": "linear"
              }
             }
            ],
            "label": "42",
            "method": "animate"
           },
           {
            "args": [
             [
              "43"
             ],
             {
              "frame": {
               "duration": 0,
               "redraw": true
              },
              "fromcurrent": true,
              "mode": "immediate",
              "transition": {
               "duration": 0,
               "easing": "linear"
              }
             }
            ],
            "label": "43",
            "method": "animate"
           },
           {
            "args": [
             [
              "44"
             ],
             {
              "frame": {
               "duration": 0,
               "redraw": true
              },
              "fromcurrent": true,
              "mode": "immediate",
              "transition": {
               "duration": 0,
               "easing": "linear"
              }
             }
            ],
            "label": "44",
            "method": "animate"
           },
           {
            "args": [
             [
              "45"
             ],
             {
              "frame": {
               "duration": 0,
               "redraw": true
              },
              "fromcurrent": true,
              "mode": "immediate",
              "transition": {
               "duration": 0,
               "easing": "linear"
              }
             }
            ],
            "label": "45",
            "method": "animate"
           },
           {
            "args": [
             [
              "46"
             ],
             {
              "frame": {
               "duration": 0,
               "redraw": true
              },
              "fromcurrent": true,
              "mode": "immediate",
              "transition": {
               "duration": 0,
               "easing": "linear"
              }
             }
            ],
            "label": "46",
            "method": "animate"
           },
           {
            "args": [
             [
              "47"
             ],
             {
              "frame": {
               "duration": 0,
               "redraw": true
              },
              "fromcurrent": true,
              "mode": "immediate",
              "transition": {
               "duration": 0,
               "easing": "linear"
              }
             }
            ],
            "label": "47",
            "method": "animate"
           },
           {
            "args": [
             [
              "48"
             ],
             {
              "frame": {
               "duration": 0,
               "redraw": true
              },
              "fromcurrent": true,
              "mode": "immediate",
              "transition": {
               "duration": 0,
               "easing": "linear"
              }
             }
            ],
            "label": "48",
            "method": "animate"
           },
           {
            "args": [
             [
              "49"
             ],
             {
              "frame": {
               "duration": 0,
               "redraw": true
              },
              "fromcurrent": true,
              "mode": "immediate",
              "transition": {
               "duration": 0,
               "easing": "linear"
              }
             }
            ],
            "label": "49",
            "method": "animate"
           },
           {
            "args": [
             [
              "50"
             ],
             {
              "frame": {
               "duration": 0,
               "redraw": true
              },
              "fromcurrent": true,
              "mode": "immediate",
              "transition": {
               "duration": 0,
               "easing": "linear"
              }
             }
            ],
            "label": "50",
            "method": "animate"
           },
           {
            "args": [
             [
              "51"
             ],
             {
              "frame": {
               "duration": 0,
               "redraw": true
              },
              "fromcurrent": true,
              "mode": "immediate",
              "transition": {
               "duration": 0,
               "easing": "linear"
              }
             }
            ],
            "label": "51",
            "method": "animate"
           },
           {
            "args": [
             [
              "52"
             ],
             {
              "frame": {
               "duration": 0,
               "redraw": true
              },
              "fromcurrent": true,
              "mode": "immediate",
              "transition": {
               "duration": 0,
               "easing": "linear"
              }
             }
            ],
            "label": "52",
            "method": "animate"
           },
           {
            "args": [
             [
              "53"
             ],
             {
              "frame": {
               "duration": 0,
               "redraw": true
              },
              "fromcurrent": true,
              "mode": "immediate",
              "transition": {
               "duration": 0,
               "easing": "linear"
              }
             }
            ],
            "label": "53",
            "method": "animate"
           },
           {
            "args": [
             [
              "54"
             ],
             {
              "frame": {
               "duration": 0,
               "redraw": true
              },
              "fromcurrent": true,
              "mode": "immediate",
              "transition": {
               "duration": 0,
               "easing": "linear"
              }
             }
            ],
            "label": "54",
            "method": "animate"
           },
           {
            "args": [
             [
              "55"
             ],
             {
              "frame": {
               "duration": 0,
               "redraw": true
              },
              "fromcurrent": true,
              "mode": "immediate",
              "transition": {
               "duration": 0,
               "easing": "linear"
              }
             }
            ],
            "label": "55",
            "method": "animate"
           },
           {
            "args": [
             [
              "56"
             ],
             {
              "frame": {
               "duration": 0,
               "redraw": true
              },
              "fromcurrent": true,
              "mode": "immediate",
              "transition": {
               "duration": 0,
               "easing": "linear"
              }
             }
            ],
            "label": "56",
            "method": "animate"
           },
           {
            "args": [
             [
              "57"
             ],
             {
              "frame": {
               "duration": 0,
               "redraw": true
              },
              "fromcurrent": true,
              "mode": "immediate",
              "transition": {
               "duration": 0,
               "easing": "linear"
              }
             }
            ],
            "label": "57",
            "method": "animate"
           },
           {
            "args": [
             [
              "58"
             ],
             {
              "frame": {
               "duration": 0,
               "redraw": true
              },
              "fromcurrent": true,
              "mode": "immediate",
              "transition": {
               "duration": 0,
               "easing": "linear"
              }
             }
            ],
            "label": "58",
            "method": "animate"
           },
           {
            "args": [
             [
              "59"
             ],
             {
              "frame": {
               "duration": 0,
               "redraw": true
              },
              "fromcurrent": true,
              "mode": "immediate",
              "transition": {
               "duration": 0,
               "easing": "linear"
              }
             }
            ],
            "label": "59",
            "method": "animate"
           },
           {
            "args": [
             [
              "60"
             ],
             {
              "frame": {
               "duration": 0,
               "redraw": true
              },
              "fromcurrent": true,
              "mode": "immediate",
              "transition": {
               "duration": 0,
               "easing": "linear"
              }
             }
            ],
            "label": "60",
            "method": "animate"
           },
           {
            "args": [
             [
              "61"
             ],
             {
              "frame": {
               "duration": 0,
               "redraw": true
              },
              "fromcurrent": true,
              "mode": "immediate",
              "transition": {
               "duration": 0,
               "easing": "linear"
              }
             }
            ],
            "label": "61",
            "method": "animate"
           },
           {
            "args": [
             [
              "62"
             ],
             {
              "frame": {
               "duration": 0,
               "redraw": true
              },
              "fromcurrent": true,
              "mode": "immediate",
              "transition": {
               "duration": 0,
               "easing": "linear"
              }
             }
            ],
            "label": "62",
            "method": "animate"
           },
           {
            "args": [
             [
              "63"
             ],
             {
              "frame": {
               "duration": 0,
               "redraw": true
              },
              "fromcurrent": true,
              "mode": "immediate",
              "transition": {
               "duration": 0,
               "easing": "linear"
              }
             }
            ],
            "label": "63",
            "method": "animate"
           },
           {
            "args": [
             [
              "64"
             ],
             {
              "frame": {
               "duration": 0,
               "redraw": true
              },
              "fromcurrent": true,
              "mode": "immediate",
              "transition": {
               "duration": 0,
               "easing": "linear"
              }
             }
            ],
            "label": "64",
            "method": "animate"
           },
           {
            "args": [
             [
              "65"
             ],
             {
              "frame": {
               "duration": 0,
               "redraw": true
              },
              "fromcurrent": true,
              "mode": "immediate",
              "transition": {
               "duration": 0,
               "easing": "linear"
              }
             }
            ],
            "label": "65",
            "method": "animate"
           },
           {
            "args": [
             [
              "66"
             ],
             {
              "frame": {
               "duration": 0,
               "redraw": true
              },
              "fromcurrent": true,
              "mode": "immediate",
              "transition": {
               "duration": 0,
               "easing": "linear"
              }
             }
            ],
            "label": "66",
            "method": "animate"
           },
           {
            "args": [
             [
              "67"
             ],
             {
              "frame": {
               "duration": 0,
               "redraw": true
              },
              "fromcurrent": true,
              "mode": "immediate",
              "transition": {
               "duration": 0,
               "easing": "linear"
              }
             }
            ],
            "label": "67",
            "method": "animate"
           },
           {
            "args": [
             [
              "68"
             ],
             {
              "frame": {
               "duration": 0,
               "redraw": true
              },
              "fromcurrent": true,
              "mode": "immediate",
              "transition": {
               "duration": 0,
               "easing": "linear"
              }
             }
            ],
            "label": "68",
            "method": "animate"
           },
           {
            "args": [
             [
              "69"
             ],
             {
              "frame": {
               "duration": 0,
               "redraw": true
              },
              "fromcurrent": true,
              "mode": "immediate",
              "transition": {
               "duration": 0,
               "easing": "linear"
              }
             }
            ],
            "label": "69",
            "method": "animate"
           },
           {
            "args": [
             [
              "70"
             ],
             {
              "frame": {
               "duration": 0,
               "redraw": true
              },
              "fromcurrent": true,
              "mode": "immediate",
              "transition": {
               "duration": 0,
               "easing": "linear"
              }
             }
            ],
            "label": "70",
            "method": "animate"
           },
           {
            "args": [
             [
              "71"
             ],
             {
              "frame": {
               "duration": 0,
               "redraw": true
              },
              "fromcurrent": true,
              "mode": "immediate",
              "transition": {
               "duration": 0,
               "easing": "linear"
              }
             }
            ],
            "label": "71",
            "method": "animate"
           },
           {
            "args": [
             [
              "72"
             ],
             {
              "frame": {
               "duration": 0,
               "redraw": true
              },
              "fromcurrent": true,
              "mode": "immediate",
              "transition": {
               "duration": 0,
               "easing": "linear"
              }
             }
            ],
            "label": "72",
            "method": "animate"
           },
           {
            "args": [
             [
              "73"
             ],
             {
              "frame": {
               "duration": 0,
               "redraw": true
              },
              "fromcurrent": true,
              "mode": "immediate",
              "transition": {
               "duration": 0,
               "easing": "linear"
              }
             }
            ],
            "label": "73",
            "method": "animate"
           },
           {
            "args": [
             [
              "74"
             ],
             {
              "frame": {
               "duration": 0,
               "redraw": true
              },
              "fromcurrent": true,
              "mode": "immediate",
              "transition": {
               "duration": 0,
               "easing": "linear"
              }
             }
            ],
            "label": "74",
            "method": "animate"
           },
           {
            "args": [
             [
              "75"
             ],
             {
              "frame": {
               "duration": 0,
               "redraw": true
              },
              "fromcurrent": true,
              "mode": "immediate",
              "transition": {
               "duration": 0,
               "easing": "linear"
              }
             }
            ],
            "label": "75",
            "method": "animate"
           },
           {
            "args": [
             [
              "76"
             ],
             {
              "frame": {
               "duration": 0,
               "redraw": true
              },
              "fromcurrent": true,
              "mode": "immediate",
              "transition": {
               "duration": 0,
               "easing": "linear"
              }
             }
            ],
            "label": "76",
            "method": "animate"
           },
           {
            "args": [
             [
              "77"
             ],
             {
              "frame": {
               "duration": 0,
               "redraw": true
              },
              "fromcurrent": true,
              "mode": "immediate",
              "transition": {
               "duration": 0,
               "easing": "linear"
              }
             }
            ],
            "label": "77",
            "method": "animate"
           },
           {
            "args": [
             [
              "78"
             ],
             {
              "frame": {
               "duration": 0,
               "redraw": true
              },
              "fromcurrent": true,
              "mode": "immediate",
              "transition": {
               "duration": 0,
               "easing": "linear"
              }
             }
            ],
            "label": "78",
            "method": "animate"
           },
           {
            "args": [
             [
              "79"
             ],
             {
              "frame": {
               "duration": 0,
               "redraw": true
              },
              "fromcurrent": true,
              "mode": "immediate",
              "transition": {
               "duration": 0,
               "easing": "linear"
              }
             }
            ],
            "label": "79",
            "method": "animate"
           },
           {
            "args": [
             [
              "80"
             ],
             {
              "frame": {
               "duration": 0,
               "redraw": true
              },
              "fromcurrent": true,
              "mode": "immediate",
              "transition": {
               "duration": 0,
               "easing": "linear"
              }
             }
            ],
            "label": "80",
            "method": "animate"
           },
           {
            "args": [
             [
              "81"
             ],
             {
              "frame": {
               "duration": 0,
               "redraw": true
              },
              "fromcurrent": true,
              "mode": "immediate",
              "transition": {
               "duration": 0,
               "easing": "linear"
              }
             }
            ],
            "label": "81",
            "method": "animate"
           },
           {
            "args": [
             [
              "82"
             ],
             {
              "frame": {
               "duration": 0,
               "redraw": true
              },
              "fromcurrent": true,
              "mode": "immediate",
              "transition": {
               "duration": 0,
               "easing": "linear"
              }
             }
            ],
            "label": "82",
            "method": "animate"
           },
           {
            "args": [
             [
              "83"
             ],
             {
              "frame": {
               "duration": 0,
               "redraw": true
              },
              "fromcurrent": true,
              "mode": "immediate",
              "transition": {
               "duration": 0,
               "easing": "linear"
              }
             }
            ],
            "label": "83",
            "method": "animate"
           },
           {
            "args": [
             [
              "84"
             ],
             {
              "frame": {
               "duration": 0,
               "redraw": true
              },
              "fromcurrent": true,
              "mode": "immediate",
              "transition": {
               "duration": 0,
               "easing": "linear"
              }
             }
            ],
            "label": "84",
            "method": "animate"
           },
           {
            "args": [
             [
              "85"
             ],
             {
              "frame": {
               "duration": 0,
               "redraw": true
              },
              "fromcurrent": true,
              "mode": "immediate",
              "transition": {
               "duration": 0,
               "easing": "linear"
              }
             }
            ],
            "label": "85",
            "method": "animate"
           },
           {
            "args": [
             [
              "86"
             ],
             {
              "frame": {
               "duration": 0,
               "redraw": true
              },
              "fromcurrent": true,
              "mode": "immediate",
              "transition": {
               "duration": 0,
               "easing": "linear"
              }
             }
            ],
            "label": "86",
            "method": "animate"
           },
           {
            "args": [
             [
              "87"
             ],
             {
              "frame": {
               "duration": 0,
               "redraw": true
              },
              "fromcurrent": true,
              "mode": "immediate",
              "transition": {
               "duration": 0,
               "easing": "linear"
              }
             }
            ],
            "label": "87",
            "method": "animate"
           },
           {
            "args": [
             [
              "88"
             ],
             {
              "frame": {
               "duration": 0,
               "redraw": true
              },
              "fromcurrent": true,
              "mode": "immediate",
              "transition": {
               "duration": 0,
               "easing": "linear"
              }
             }
            ],
            "label": "88",
            "method": "animate"
           },
           {
            "args": [
             [
              "89"
             ],
             {
              "frame": {
               "duration": 0,
               "redraw": true
              },
              "fromcurrent": true,
              "mode": "immediate",
              "transition": {
               "duration": 0,
               "easing": "linear"
              }
             }
            ],
            "label": "89",
            "method": "animate"
           },
           {
            "args": [
             [
              "90"
             ],
             {
              "frame": {
               "duration": 0,
               "redraw": true
              },
              "fromcurrent": true,
              "mode": "immediate",
              "transition": {
               "duration": 0,
               "easing": "linear"
              }
             }
            ],
            "label": "90",
            "method": "animate"
           },
           {
            "args": [
             [
              "91"
             ],
             {
              "frame": {
               "duration": 0,
               "redraw": true
              },
              "fromcurrent": true,
              "mode": "immediate",
              "transition": {
               "duration": 0,
               "easing": "linear"
              }
             }
            ],
            "label": "91",
            "method": "animate"
           },
           {
            "args": [
             [
              "92"
             ],
             {
              "frame": {
               "duration": 0,
               "redraw": true
              },
              "fromcurrent": true,
              "mode": "immediate",
              "transition": {
               "duration": 0,
               "easing": "linear"
              }
             }
            ],
            "label": "92",
            "method": "animate"
           },
           {
            "args": [
             [
              "93"
             ],
             {
              "frame": {
               "duration": 0,
               "redraw": true
              },
              "fromcurrent": true,
              "mode": "immediate",
              "transition": {
               "duration": 0,
               "easing": "linear"
              }
             }
            ],
            "label": "93",
            "method": "animate"
           },
           {
            "args": [
             [
              "94"
             ],
             {
              "frame": {
               "duration": 0,
               "redraw": true
              },
              "fromcurrent": true,
              "mode": "immediate",
              "transition": {
               "duration": 0,
               "easing": "linear"
              }
             }
            ],
            "label": "94",
            "method": "animate"
           },
           {
            "args": [
             [
              "95"
             ],
             {
              "frame": {
               "duration": 0,
               "redraw": true
              },
              "fromcurrent": true,
              "mode": "immediate",
              "transition": {
               "duration": 0,
               "easing": "linear"
              }
             }
            ],
            "label": "95",
            "method": "animate"
           },
           {
            "args": [
             [
              "96"
             ],
             {
              "frame": {
               "duration": 0,
               "redraw": true
              },
              "fromcurrent": true,
              "mode": "immediate",
              "transition": {
               "duration": 0,
               "easing": "linear"
              }
             }
            ],
            "label": "96",
            "method": "animate"
           },
           {
            "args": [
             [
              "97"
             ],
             {
              "frame": {
               "duration": 0,
               "redraw": true
              },
              "fromcurrent": true,
              "mode": "immediate",
              "transition": {
               "duration": 0,
               "easing": "linear"
              }
             }
            ],
            "label": "97",
            "method": "animate"
           },
           {
            "args": [
             [
              "98"
             ],
             {
              "frame": {
               "duration": 0,
               "redraw": true
              },
              "fromcurrent": true,
              "mode": "immediate",
              "transition": {
               "duration": 0,
               "easing": "linear"
              }
             }
            ],
            "label": "98",
            "method": "animate"
           },
           {
            "args": [
             [
              "99"
             ],
             {
              "frame": {
               "duration": 0,
               "redraw": true
              },
              "fromcurrent": true,
              "mode": "immediate",
              "transition": {
               "duration": 0,
               "easing": "linear"
              }
             }
            ],
            "label": "99",
            "method": "animate"
           },
           {
            "args": [
             [
              "100"
             ],
             {
              "frame": {
               "duration": 0,
               "redraw": true
              },
              "fromcurrent": true,
              "mode": "immediate",
              "transition": {
               "duration": 0,
               "easing": "linear"
              }
             }
            ],
            "label": "100",
            "method": "animate"
           }
          ],
          "x": 0.1,
          "xanchor": "left",
          "y": 0,
          "yanchor": "top"
         }
        ],
        "template": {
         "data": {
          "bar": [
           {
            "error_x": {
             "color": "#2a3f5f"
            },
            "error_y": {
             "color": "#2a3f5f"
            },
            "marker": {
             "line": {
              "color": "#E5ECF6",
              "width": 0.5
             }
            },
            "type": "bar"
           }
          ],
          "barpolar": [
           {
            "marker": {
             "line": {
              "color": "#E5ECF6",
              "width": 0.5
             }
            },
            "type": "barpolar"
           }
          ],
          "carpet": [
           {
            "aaxis": {
             "endlinecolor": "#2a3f5f",
             "gridcolor": "white",
             "linecolor": "white",
             "minorgridcolor": "white",
             "startlinecolor": "#2a3f5f"
            },
            "baxis": {
             "endlinecolor": "#2a3f5f",
             "gridcolor": "white",
             "linecolor": "white",
             "minorgridcolor": "white",
             "startlinecolor": "#2a3f5f"
            },
            "type": "carpet"
           }
          ],
          "choropleth": [
           {
            "colorbar": {
             "outlinewidth": 0,
             "ticks": ""
            },
            "type": "choropleth"
           }
          ],
          "contour": [
           {
            "colorbar": {
             "outlinewidth": 0,
             "ticks": ""
            },
            "colorscale": [
             [
              0,
              "#0d0887"
             ],
             [
              0.1111111111111111,
              "#46039f"
             ],
             [
              0.2222222222222222,
              "#7201a8"
             ],
             [
              0.3333333333333333,
              "#9c179e"
             ],
             [
              0.4444444444444444,
              "#bd3786"
             ],
             [
              0.5555555555555556,
              "#d8576b"
             ],
             [
              0.6666666666666666,
              "#ed7953"
             ],
             [
              0.7777777777777778,
              "#fb9f3a"
             ],
             [
              0.8888888888888888,
              "#fdca26"
             ],
             [
              1,
              "#f0f921"
             ]
            ],
            "type": "contour"
           }
          ],
          "contourcarpet": [
           {
            "colorbar": {
             "outlinewidth": 0,
             "ticks": ""
            },
            "type": "contourcarpet"
           }
          ],
          "heatmap": [
           {
            "colorbar": {
             "outlinewidth": 0,
             "ticks": ""
            },
            "colorscale": [
             [
              0,
              "#0d0887"
             ],
             [
              0.1111111111111111,
              "#46039f"
             ],
             [
              0.2222222222222222,
              "#7201a8"
             ],
             [
              0.3333333333333333,
              "#9c179e"
             ],
             [
              0.4444444444444444,
              "#bd3786"
             ],
             [
              0.5555555555555556,
              "#d8576b"
             ],
             [
              0.6666666666666666,
              "#ed7953"
             ],
             [
              0.7777777777777778,
              "#fb9f3a"
             ],
             [
              0.8888888888888888,
              "#fdca26"
             ],
             [
              1,
              "#f0f921"
             ]
            ],
            "type": "heatmap"
           }
          ],
          "heatmapgl": [
           {
            "colorbar": {
             "outlinewidth": 0,
             "ticks": ""
            },
            "colorscale": [
             [
              0,
              "#0d0887"
             ],
             [
              0.1111111111111111,
              "#46039f"
             ],
             [
              0.2222222222222222,
              "#7201a8"
             ],
             [
              0.3333333333333333,
              "#9c179e"
             ],
             [
              0.4444444444444444,
              "#bd3786"
             ],
             [
              0.5555555555555556,
              "#d8576b"
             ],
             [
              0.6666666666666666,
              "#ed7953"
             ],
             [
              0.7777777777777778,
              "#fb9f3a"
             ],
             [
              0.8888888888888888,
              "#fdca26"
             ],
             [
              1,
              "#f0f921"
             ]
            ],
            "type": "heatmapgl"
           }
          ],
          "histogram": [
           {
            "marker": {
             "colorbar": {
              "outlinewidth": 0,
              "ticks": ""
             }
            },
            "type": "histogram"
           }
          ],
          "histogram2d": [
           {
            "colorbar": {
             "outlinewidth": 0,
             "ticks": ""
            },
            "colorscale": [
             [
              0,
              "#0d0887"
             ],
             [
              0.1111111111111111,
              "#46039f"
             ],
             [
              0.2222222222222222,
              "#7201a8"
             ],
             [
              0.3333333333333333,
              "#9c179e"
             ],
             [
              0.4444444444444444,
              "#bd3786"
             ],
             [
              0.5555555555555556,
              "#d8576b"
             ],
             [
              0.6666666666666666,
              "#ed7953"
             ],
             [
              0.7777777777777778,
              "#fb9f3a"
             ],
             [
              0.8888888888888888,
              "#fdca26"
             ],
             [
              1,
              "#f0f921"
             ]
            ],
            "type": "histogram2d"
           }
          ],
          "histogram2dcontour": [
           {
            "colorbar": {
             "outlinewidth": 0,
             "ticks": ""
            },
            "colorscale": [
             [
              0,
              "#0d0887"
             ],
             [
              0.1111111111111111,
              "#46039f"
             ],
             [
              0.2222222222222222,
              "#7201a8"
             ],
             [
              0.3333333333333333,
              "#9c179e"
             ],
             [
              0.4444444444444444,
              "#bd3786"
             ],
             [
              0.5555555555555556,
              "#d8576b"
             ],
             [
              0.6666666666666666,
              "#ed7953"
             ],
             [
              0.7777777777777778,
              "#fb9f3a"
             ],
             [
              0.8888888888888888,
              "#fdca26"
             ],
             [
              1,
              "#f0f921"
             ]
            ],
            "type": "histogram2dcontour"
           }
          ],
          "mesh3d": [
           {
            "colorbar": {
             "outlinewidth": 0,
             "ticks": ""
            },
            "type": "mesh3d"
           }
          ],
          "parcoords": [
           {
            "line": {
             "colorbar": {
              "outlinewidth": 0,
              "ticks": ""
             }
            },
            "type": "parcoords"
           }
          ],
          "pie": [
           {
            "automargin": true,
            "type": "pie"
           }
          ],
          "scatter": [
           {
            "marker": {
             "colorbar": {
              "outlinewidth": 0,
              "ticks": ""
             }
            },
            "type": "scatter"
           }
          ],
          "scatter3d": [
           {
            "line": {
             "colorbar": {
              "outlinewidth": 0,
              "ticks": ""
             }
            },
            "marker": {
             "colorbar": {
              "outlinewidth": 0,
              "ticks": ""
             }
            },
            "type": "scatter3d"
           }
          ],
          "scattercarpet": [
           {
            "marker": {
             "colorbar": {
              "outlinewidth": 0,
              "ticks": ""
             }
            },
            "type": "scattercarpet"
           }
          ],
          "scattergeo": [
           {
            "marker": {
             "colorbar": {
              "outlinewidth": 0,
              "ticks": ""
             }
            },
            "type": "scattergeo"
           }
          ],
          "scattergl": [
           {
            "marker": {
             "colorbar": {
              "outlinewidth": 0,
              "ticks": ""
             }
            },
            "type": "scattergl"
           }
          ],
          "scattermapbox": [
           {
            "marker": {
             "colorbar": {
              "outlinewidth": 0,
              "ticks": ""
             }
            },
            "type": "scattermapbox"
           }
          ],
          "scatterpolar": [
           {
            "marker": {
             "colorbar": {
              "outlinewidth": 0,
              "ticks": ""
             }
            },
            "type": "scatterpolar"
           }
          ],
          "scatterpolargl": [
           {
            "marker": {
             "colorbar": {
              "outlinewidth": 0,
              "ticks": ""
             }
            },
            "type": "scatterpolargl"
           }
          ],
          "scatterternary": [
           {
            "marker": {
             "colorbar": {
              "outlinewidth": 0,
              "ticks": ""
             }
            },
            "type": "scatterternary"
           }
          ],
          "surface": [
           {
            "colorbar": {
             "outlinewidth": 0,
             "ticks": ""
            },
            "colorscale": [
             [
              0,
              "#0d0887"
             ],
             [
              0.1111111111111111,
              "#46039f"
             ],
             [
              0.2222222222222222,
              "#7201a8"
             ],
             [
              0.3333333333333333,
              "#9c179e"
             ],
             [
              0.4444444444444444,
              "#bd3786"
             ],
             [
              0.5555555555555556,
              "#d8576b"
             ],
             [
              0.6666666666666666,
              "#ed7953"
             ],
             [
              0.7777777777777778,
              "#fb9f3a"
             ],
             [
              0.8888888888888888,
              "#fdca26"
             ],
             [
              1,
              "#f0f921"
             ]
            ],
            "type": "surface"
           }
          ],
          "table": [
           {
            "cells": {
             "fill": {
              "color": "#EBF0F8"
             },
             "line": {
              "color": "white"
             }
            },
            "header": {
             "fill": {
              "color": "#C8D4E3"
             },
             "line": {
              "color": "white"
             }
            },
            "type": "table"
           }
          ]
         },
         "layout": {
          "annotationdefaults": {
           "arrowcolor": "#2a3f5f",
           "arrowhead": 0,
           "arrowwidth": 1
          },
          "coloraxis": {
           "colorbar": {
            "outlinewidth": 0,
            "ticks": ""
           }
          },
          "colorscale": {
           "diverging": [
            [
             0,
             "#8e0152"
            ],
            [
             0.1,
             "#c51b7d"
            ],
            [
             0.2,
             "#de77ae"
            ],
            [
             0.3,
             "#f1b6da"
            ],
            [
             0.4,
             "#fde0ef"
            ],
            [
             0.5,
             "#f7f7f7"
            ],
            [
             0.6,
             "#e6f5d0"
            ],
            [
             0.7,
             "#b8e186"
            ],
            [
             0.8,
             "#7fbc41"
            ],
            [
             0.9,
             "#4d9221"
            ],
            [
             1,
             "#276419"
            ]
           ],
           "sequential": [
            [
             0,
             "#0d0887"
            ],
            [
             0.1111111111111111,
             "#46039f"
            ],
            [
             0.2222222222222222,
             "#7201a8"
            ],
            [
             0.3333333333333333,
             "#9c179e"
            ],
            [
             0.4444444444444444,
             "#bd3786"
            ],
            [
             0.5555555555555556,
             "#d8576b"
            ],
            [
             0.6666666666666666,
             "#ed7953"
            ],
            [
             0.7777777777777778,
             "#fb9f3a"
            ],
            [
             0.8888888888888888,
             "#fdca26"
            ],
            [
             1,
             "#f0f921"
            ]
           ],
           "sequentialminus": [
            [
             0,
             "#0d0887"
            ],
            [
             0.1111111111111111,
             "#46039f"
            ],
            [
             0.2222222222222222,
             "#7201a8"
            ],
            [
             0.3333333333333333,
             "#9c179e"
            ],
            [
             0.4444444444444444,
             "#bd3786"
            ],
            [
             0.5555555555555556,
             "#d8576b"
            ],
            [
             0.6666666666666666,
             "#ed7953"
            ],
            [
             0.7777777777777778,
             "#fb9f3a"
            ],
            [
             0.8888888888888888,
             "#fdca26"
            ],
            [
             1,
             "#f0f921"
            ]
           ]
          },
          "colorway": [
           "#636efa",
           "#EF553B",
           "#00cc96",
           "#ab63fa",
           "#FFA15A",
           "#19d3f3",
           "#FF6692",
           "#B6E880",
           "#FF97FF",
           "#FECB52"
          ],
          "font": {
           "color": "#2a3f5f"
          },
          "geo": {
           "bgcolor": "white",
           "lakecolor": "white",
           "landcolor": "#E5ECF6",
           "showlakes": true,
           "showland": true,
           "subunitcolor": "white"
          },
          "hoverlabel": {
           "align": "left"
          },
          "hovermode": "closest",
          "mapbox": {
           "style": "light"
          },
          "paper_bgcolor": "white",
          "plot_bgcolor": "#E5ECF6",
          "polar": {
           "angularaxis": {
            "gridcolor": "white",
            "linecolor": "white",
            "ticks": ""
           },
           "bgcolor": "#E5ECF6",
           "radialaxis": {
            "gridcolor": "white",
            "linecolor": "white",
            "ticks": ""
           }
          },
          "scene": {
           "xaxis": {
            "backgroundcolor": "#E5ECF6",
            "gridcolor": "white",
            "gridwidth": 2,
            "linecolor": "white",
            "showbackground": true,
            "ticks": "",
            "zerolinecolor": "white"
           },
           "yaxis": {
            "backgroundcolor": "#E5ECF6",
            "gridcolor": "white",
            "gridwidth": 2,
            "linecolor": "white",
            "showbackground": true,
            "ticks": "",
            "zerolinecolor": "white"
           },
           "zaxis": {
            "backgroundcolor": "#E5ECF6",
            "gridcolor": "white",
            "gridwidth": 2,
            "linecolor": "white",
            "showbackground": true,
            "ticks": "",
            "zerolinecolor": "white"
           }
          },
          "shapedefaults": {
           "line": {
            "color": "#2a3f5f"
           }
          },
          "ternary": {
           "aaxis": {
            "gridcolor": "white",
            "linecolor": "white",
            "ticks": ""
           },
           "baxis": {
            "gridcolor": "white",
            "linecolor": "white",
            "ticks": ""
           },
           "bgcolor": "#E5ECF6",
           "caxis": {
            "gridcolor": "white",
            "linecolor": "white",
            "ticks": ""
           }
          },
          "title": {
           "x": 0.05
          },
          "xaxis": {
           "automargin": true,
           "gridcolor": "white",
           "linecolor": "white",
           "ticks": "",
           "title": {
            "standoff": 15
           },
           "zerolinecolor": "white",
           "zerolinewidth": 2
          },
          "yaxis": {
           "automargin": true,
           "gridcolor": "white",
           "linecolor": "white",
           "ticks": "",
           "title": {
            "standoff": 15
           },
           "zerolinecolor": "white",
           "zerolinewidth": 2
          }
         }
        },
        "title": {
         "text": "Confirmed cases of COVID-19 per province"
        },
        "updatemenus": [
         {
          "buttons": [
           {
            "args": [
             null,
             {
              "frame": {
               "duration": 500,
               "redraw": true
              },
              "fromcurrent": true,
              "mode": "immediate",
              "transition": {
               "duration": 500,
               "easing": "linear"
              }
             }
            ],
            "label": "&#9654;",
            "method": "animate"
           },
           {
            "args": [
             [
              null
             ],
             {
              "frame": {
               "duration": 0,
               "redraw": true
              },
              "fromcurrent": true,
              "mode": "immediate",
              "transition": {
               "duration": 0,
               "easing": "linear"
              }
             }
            ],
            "label": "&#9724;",
            "method": "animate"
           }
          ],
          "direction": "left",
          "pad": {
           "r": 10,
           "t": 70
          },
          "showactive": false,
          "type": "buttons",
          "x": 0.1,
          "xanchor": "right",
          "y": 0,
          "yanchor": "top"
         }
        ],
        "width": 900,
        "xaxis": {
         "anchor": "y",
         "categoryorder": "total descending",
         "domain": [
          0,
          1
         ],
         "tickfont": {
          "size": 10
         },
         "title": {
          "text": ""
         }
        },
        "yaxis": {
         "anchor": "x",
         "automargin": true,
         "domain": [
          0,
          1
         ],
         "title": {
          "text": ""
         }
        }
       }
      },
      "text/html": [
       "<div>\n",
       "        \n",
       "        \n",
       "            <div id=\"e06c9362-ac6b-493d-99f4-798c637ed207\" class=\"plotly-graph-div\" style=\"height:600px; width:900px;\"></div>\n",
       "            <script type=\"text/javascript\">\n",
       "                require([\"plotly\"], function(Plotly) {\n",
       "                    window.PLOTLYENV=window.PLOTLYENV || {};\n",
       "                    \n",
       "                if (document.getElementById(\"e06c9362-ac6b-493d-99f4-798c637ed207\")) {\n",
       "                    Plotly.newPlot(\n",
       "                        'e06c9362-ac6b-493d-99f4-798c637ed207',\n",
       "                        [{\"alignmentgroup\": \"True\", \"customdata\": [[1, 0, 1, 0]], \"hovertemplate\": \"<b>%{hovertext}</b><br><br>Days=0<br>province=%{x}<br>Confirmed=%{customdata[0]}<br>Isolated=%{customdata[1]}<br>Released=%{customdata[2]}<br>Deceased=%{customdata[3]}<extra></extra>\", \"hovertext\": [\"Incheon\"], \"ids\": [\"Incheon\"], \"legendgroup\": \"\", \"marker\": {\"color\": \"#636efa\", \"opacity\": 0.75}, \"name\": \"\", \"offsetgroup\": \"\", \"orientation\": \"v\", \"showlegend\": false, \"textposition\": \"auto\", \"type\": \"bar\", \"x\": [\"Incheon\"], \"xaxis\": \"x\", \"y\": [1], \"yaxis\": \"y\"}],\n",
       "                        {\"barmode\": \"relative\", \"height\": 600, \"legend\": {\"tracegroupgap\": 0}, \"paper_bgcolor\": \"rgba(0, 0, 0, 0)\", \"plot_bgcolor\": \"rgba(0, 0, 0, 0)\", \"sliders\": [{\"active\": 0, \"currentvalue\": {\"prefix\": \"Days=\"}, \"len\": 0.9, \"pad\": {\"b\": 10, \"t\": 60}, \"steps\": [{\"args\": [[\"0\"], {\"frame\": {\"duration\": 0, \"redraw\": true}, \"fromcurrent\": true, \"mode\": \"immediate\", \"transition\": {\"duration\": 0, \"easing\": \"linear\"}}], \"label\": \"0\", \"method\": \"animate\"}, {\"args\": [[\"3\"], {\"frame\": {\"duration\": 0, \"redraw\": true}, \"fromcurrent\": true, \"mode\": \"immediate\", \"transition\": {\"duration\": 0, \"easing\": \"linear\"}}], \"label\": \"3\", \"method\": \"animate\"}, {\"args\": [[\"6\"], {\"frame\": {\"duration\": 0, \"redraw\": true}, \"fromcurrent\": true, \"mode\": \"immediate\", \"transition\": {\"duration\": 0, \"easing\": \"linear\"}}], \"label\": \"6\", \"method\": \"animate\"}, {\"args\": [[\"7\"], {\"frame\": {\"duration\": 0, \"redraw\": true}, \"fromcurrent\": true, \"mode\": \"immediate\", \"transition\": {\"duration\": 0, \"easing\": \"linear\"}}], \"label\": \"7\", \"method\": \"animate\"}, {\"args\": [[\"10\"], {\"frame\": {\"duration\": 0, \"redraw\": true}, \"fromcurrent\": true, \"mode\": \"immediate\", \"transition\": {\"duration\": 0, \"easing\": \"linear\"}}], \"label\": \"10\", \"method\": \"animate\"}, {\"args\": [[\"11\"], {\"frame\": {\"duration\": 0, \"redraw\": true}, \"fromcurrent\": true, \"mode\": \"immediate\", \"transition\": {\"duration\": 0, \"easing\": \"linear\"}}], \"label\": \"11\", \"method\": \"animate\"}, {\"args\": [[\"12\"], {\"frame\": {\"duration\": 0, \"redraw\": true}, \"fromcurrent\": true, \"mode\": \"immediate\", \"transition\": {\"duration\": 0, \"easing\": \"linear\"}}], \"label\": \"12\", \"method\": \"animate\"}, {\"args\": [[\"13\"], {\"frame\": {\"duration\": 0, \"redraw\": true}, \"fromcurrent\": true, \"mode\": \"immediate\", \"transition\": {\"duration\": 0, \"easing\": \"linear\"}}], \"label\": \"13\", \"method\": \"animate\"}, {\"args\": [[\"14\"], {\"frame\": {\"duration\": 0, \"redraw\": true}, \"fromcurrent\": true, \"mode\": \"immediate\", \"transition\": {\"duration\": 0, \"easing\": \"linear\"}}], \"label\": \"14\", \"method\": \"animate\"}, {\"args\": [[\"16\"], {\"frame\": {\"duration\": 0, \"redraw\": true}, \"fromcurrent\": true, \"mode\": \"immediate\", \"transition\": {\"duration\": 0, \"easing\": \"linear\"}}], \"label\": \"16\", \"method\": \"animate\"}, {\"args\": [[\"17\"], {\"frame\": {\"duration\": 0, \"redraw\": true}, \"fromcurrent\": true, \"mode\": \"immediate\", \"transition\": {\"duration\": 0, \"easing\": \"linear\"}}], \"label\": \"17\", \"method\": \"animate\"}, {\"args\": [[\"18\"], {\"frame\": {\"duration\": 0, \"redraw\": true}, \"fromcurrent\": true, \"mode\": \"immediate\", \"transition\": {\"duration\": 0, \"easing\": \"linear\"}}], \"label\": \"18\", \"method\": \"animate\"}, {\"args\": [[\"20\"], {\"frame\": {\"duration\": 0, \"redraw\": true}, \"fromcurrent\": true, \"mode\": \"immediate\", \"transition\": {\"duration\": 0, \"easing\": \"linear\"}}], \"label\": \"20\", \"method\": \"animate\"}, {\"args\": [[\"21\"], {\"frame\": {\"duration\": 0, \"redraw\": true}, \"fromcurrent\": true, \"mode\": \"immediate\", \"transition\": {\"duration\": 0, \"easing\": \"linear\"}}], \"label\": \"21\", \"method\": \"animate\"}, {\"args\": [[\"27\"], {\"frame\": {\"duration\": 0, \"redraw\": true}, \"fromcurrent\": true, \"mode\": \"immediate\", \"transition\": {\"duration\": 0, \"easing\": \"linear\"}}], \"label\": \"27\", \"method\": \"animate\"}, {\"args\": [[\"29\"], {\"frame\": {\"duration\": 0, \"redraw\": true}, \"fromcurrent\": true, \"mode\": \"immediate\", \"transition\": {\"duration\": 0, \"easing\": \"linear\"}}], \"label\": \"29\", \"method\": \"animate\"}, {\"args\": [[\"30\"], {\"frame\": {\"duration\": 0, \"redraw\": true}, \"fromcurrent\": true, \"mode\": \"immediate\", \"transition\": {\"duration\": 0, \"easing\": \"linear\"}}], \"label\": \"30\", \"method\": \"animate\"}, {\"args\": [[\"31\"], {\"frame\": {\"duration\": 0, \"redraw\": true}, \"fromcurrent\": true, \"mode\": \"immediate\", \"transition\": {\"duration\": 0, \"easing\": \"linear\"}}], \"label\": \"31\", \"method\": \"animate\"}, {\"args\": [[\"32\"], {\"frame\": {\"duration\": 0, \"redraw\": true}, \"fromcurrent\": true, \"mode\": \"immediate\", \"transition\": {\"duration\": 0, \"easing\": \"linear\"}}], \"label\": \"32\", \"method\": \"animate\"}, {\"args\": [[\"33\"], {\"frame\": {\"duration\": 0, \"redraw\": true}, \"fromcurrent\": true, \"mode\": \"immediate\", \"transition\": {\"duration\": 0, \"easing\": \"linear\"}}], \"label\": \"33\", \"method\": \"animate\"}, {\"args\": [[\"34\"], {\"frame\": {\"duration\": 0, \"redraw\": true}, \"fromcurrent\": true, \"mode\": \"immediate\", \"transition\": {\"duration\": 0, \"easing\": \"linear\"}}], \"label\": \"34\", \"method\": \"animate\"}, {\"args\": [[\"35\"], {\"frame\": {\"duration\": 0, \"redraw\": true}, \"fromcurrent\": true, \"mode\": \"immediate\", \"transition\": {\"duration\": 0, \"easing\": \"linear\"}}], \"label\": \"35\", \"method\": \"animate\"}, {\"args\": [[\"36\"], {\"frame\": {\"duration\": 0, \"redraw\": true}, \"fromcurrent\": true, \"mode\": \"immediate\", \"transition\": {\"duration\": 0, \"easing\": \"linear\"}}], \"label\": \"36\", \"method\": \"animate\"}, {\"args\": [[\"37\"], {\"frame\": {\"duration\": 0, \"redraw\": true}, \"fromcurrent\": true, \"mode\": \"immediate\", \"transition\": {\"duration\": 0, \"easing\": \"linear\"}}], \"label\": \"37\", \"method\": \"animate\"}, {\"args\": [[\"38\"], {\"frame\": {\"duration\": 0, \"redraw\": true}, \"fromcurrent\": true, \"mode\": \"immediate\", \"transition\": {\"duration\": 0, \"easing\": \"linear\"}}], \"label\": \"38\", \"method\": \"animate\"}, {\"args\": [[\"39\"], {\"frame\": {\"duration\": 0, \"redraw\": true}, \"fromcurrent\": true, \"mode\": \"immediate\", \"transition\": {\"duration\": 0, \"easing\": \"linear\"}}], \"label\": \"39\", \"method\": \"animate\"}, {\"args\": [[\"40\"], {\"frame\": {\"duration\": 0, \"redraw\": true}, \"fromcurrent\": true, \"mode\": \"immediate\", \"transition\": {\"duration\": 0, \"easing\": \"linear\"}}], \"label\": \"40\", \"method\": \"animate\"}, {\"args\": [[\"41\"], {\"frame\": {\"duration\": 0, \"redraw\": true}, \"fromcurrent\": true, \"mode\": \"immediate\", \"transition\": {\"duration\": 0, \"easing\": \"linear\"}}], \"label\": \"41\", \"method\": \"animate\"}, {\"args\": [[\"42\"], {\"frame\": {\"duration\": 0, \"redraw\": true}, \"fromcurrent\": true, \"mode\": \"immediate\", \"transition\": {\"duration\": 0, \"easing\": \"linear\"}}], \"label\": \"42\", \"method\": \"animate\"}, {\"args\": [[\"43\"], {\"frame\": {\"duration\": 0, \"redraw\": true}, \"fromcurrent\": true, \"mode\": \"immediate\", \"transition\": {\"duration\": 0, \"easing\": \"linear\"}}], \"label\": \"43\", \"method\": \"animate\"}, {\"args\": [[\"44\"], {\"frame\": {\"duration\": 0, \"redraw\": true}, \"fromcurrent\": true, \"mode\": \"immediate\", \"transition\": {\"duration\": 0, \"easing\": \"linear\"}}], \"label\": \"44\", \"method\": \"animate\"}, {\"args\": [[\"45\"], {\"frame\": {\"duration\": 0, \"redraw\": true}, \"fromcurrent\": true, \"mode\": \"immediate\", \"transition\": {\"duration\": 0, \"easing\": \"linear\"}}], \"label\": \"45\", \"method\": \"animate\"}, {\"args\": [[\"46\"], {\"frame\": {\"duration\": 0, \"redraw\": true}, \"fromcurrent\": true, \"mode\": \"immediate\", \"transition\": {\"duration\": 0, \"easing\": \"linear\"}}], \"label\": \"46\", \"method\": \"animate\"}, {\"args\": [[\"47\"], {\"frame\": {\"duration\": 0, \"redraw\": true}, \"fromcurrent\": true, \"mode\": \"immediate\", \"transition\": {\"duration\": 0, \"easing\": \"linear\"}}], \"label\": \"47\", \"method\": \"animate\"}, {\"args\": [[\"48\"], {\"frame\": {\"duration\": 0, \"redraw\": true}, \"fromcurrent\": true, \"mode\": \"immediate\", \"transition\": {\"duration\": 0, \"easing\": \"linear\"}}], \"label\": \"48\", \"method\": \"animate\"}, {\"args\": [[\"49\"], {\"frame\": {\"duration\": 0, \"redraw\": true}, \"fromcurrent\": true, \"mode\": \"immediate\", \"transition\": {\"duration\": 0, \"easing\": \"linear\"}}], \"label\": \"49\", \"method\": \"animate\"}, {\"args\": [[\"50\"], {\"frame\": {\"duration\": 0, \"redraw\": true}, \"fromcurrent\": true, \"mode\": \"immediate\", \"transition\": {\"duration\": 0, \"easing\": \"linear\"}}], \"label\": \"50\", \"method\": \"animate\"}, {\"args\": [[\"51\"], {\"frame\": {\"duration\": 0, \"redraw\": true}, \"fromcurrent\": true, \"mode\": \"immediate\", \"transition\": {\"duration\": 0, \"easing\": \"linear\"}}], \"label\": \"51\", \"method\": \"animate\"}, {\"args\": [[\"52\"], {\"frame\": {\"duration\": 0, \"redraw\": true}, \"fromcurrent\": true, \"mode\": \"immediate\", \"transition\": {\"duration\": 0, \"easing\": \"linear\"}}], \"label\": \"52\", \"method\": \"animate\"}, {\"args\": [[\"53\"], {\"frame\": {\"duration\": 0, \"redraw\": true}, \"fromcurrent\": true, \"mode\": \"immediate\", \"transition\": {\"duration\": 0, \"easing\": \"linear\"}}], \"label\": \"53\", \"method\": \"animate\"}, {\"args\": [[\"54\"], {\"frame\": {\"duration\": 0, \"redraw\": true}, \"fromcurrent\": true, \"mode\": \"immediate\", \"transition\": {\"duration\": 0, \"easing\": \"linear\"}}], \"label\": \"54\", \"method\": \"animate\"}, {\"args\": [[\"55\"], {\"frame\": {\"duration\": 0, \"redraw\": true}, \"fromcurrent\": true, \"mode\": \"immediate\", \"transition\": {\"duration\": 0, \"easing\": \"linear\"}}], \"label\": \"55\", \"method\": \"animate\"}, {\"args\": [[\"56\"], {\"frame\": {\"duration\": 0, \"redraw\": true}, \"fromcurrent\": true, \"mode\": \"immediate\", \"transition\": {\"duration\": 0, \"easing\": \"linear\"}}], \"label\": \"56\", \"method\": \"animate\"}, {\"args\": [[\"57\"], {\"frame\": {\"duration\": 0, \"redraw\": true}, \"fromcurrent\": true, \"mode\": \"immediate\", \"transition\": {\"duration\": 0, \"easing\": \"linear\"}}], \"label\": \"57\", \"method\": \"animate\"}, {\"args\": [[\"58\"], {\"frame\": {\"duration\": 0, \"redraw\": true}, \"fromcurrent\": true, \"mode\": \"immediate\", \"transition\": {\"duration\": 0, \"easing\": \"linear\"}}], \"label\": \"58\", \"method\": \"animate\"}, {\"args\": [[\"59\"], {\"frame\": {\"duration\": 0, \"redraw\": true}, \"fromcurrent\": true, \"mode\": \"immediate\", \"transition\": {\"duration\": 0, \"easing\": \"linear\"}}], \"label\": \"59\", \"method\": \"animate\"}, {\"args\": [[\"60\"], {\"frame\": {\"duration\": 0, \"redraw\": true}, \"fromcurrent\": true, \"mode\": \"immediate\", \"transition\": {\"duration\": 0, \"easing\": \"linear\"}}], \"label\": \"60\", \"method\": \"animate\"}, {\"args\": [[\"61\"], {\"frame\": {\"duration\": 0, \"redraw\": true}, \"fromcurrent\": true, \"mode\": \"immediate\", \"transition\": {\"duration\": 0, \"easing\": \"linear\"}}], \"label\": \"61\", \"method\": \"animate\"}, {\"args\": [[\"62\"], {\"frame\": {\"duration\": 0, \"redraw\": true}, \"fromcurrent\": true, \"mode\": \"immediate\", \"transition\": {\"duration\": 0, \"easing\": \"linear\"}}], \"label\": \"62\", \"method\": \"animate\"}, {\"args\": [[\"63\"], {\"frame\": {\"duration\": 0, \"redraw\": true}, \"fromcurrent\": true, \"mode\": \"immediate\", \"transition\": {\"duration\": 0, \"easing\": \"linear\"}}], \"label\": \"63\", \"method\": \"animate\"}, {\"args\": [[\"64\"], {\"frame\": {\"duration\": 0, \"redraw\": true}, \"fromcurrent\": true, \"mode\": \"immediate\", \"transition\": {\"duration\": 0, \"easing\": \"linear\"}}], \"label\": \"64\", \"method\": \"animate\"}, {\"args\": [[\"65\"], {\"frame\": {\"duration\": 0, \"redraw\": true}, \"fromcurrent\": true, \"mode\": \"immediate\", \"transition\": {\"duration\": 0, \"easing\": \"linear\"}}], \"label\": \"65\", \"method\": \"animate\"}, {\"args\": [[\"66\"], {\"frame\": {\"duration\": 0, \"redraw\": true}, \"fromcurrent\": true, \"mode\": \"immediate\", \"transition\": {\"duration\": 0, \"easing\": \"linear\"}}], \"label\": \"66\", \"method\": \"animate\"}, {\"args\": [[\"67\"], {\"frame\": {\"duration\": 0, \"redraw\": true}, \"fromcurrent\": true, \"mode\": \"immediate\", \"transition\": {\"duration\": 0, \"easing\": \"linear\"}}], \"label\": \"67\", \"method\": \"animate\"}, {\"args\": [[\"68\"], {\"frame\": {\"duration\": 0, \"redraw\": true}, \"fromcurrent\": true, \"mode\": \"immediate\", \"transition\": {\"duration\": 0, \"easing\": \"linear\"}}], \"label\": \"68\", \"method\": \"animate\"}, {\"args\": [[\"69\"], {\"frame\": {\"duration\": 0, \"redraw\": true}, \"fromcurrent\": true, \"mode\": \"immediate\", \"transition\": {\"duration\": 0, \"easing\": \"linear\"}}], \"label\": \"69\", \"method\": \"animate\"}, {\"args\": [[\"70\"], {\"frame\": {\"duration\": 0, \"redraw\": true}, \"fromcurrent\": true, \"mode\": \"immediate\", \"transition\": {\"duration\": 0, \"easing\": \"linear\"}}], \"label\": \"70\", \"method\": \"animate\"}, {\"args\": [[\"71\"], {\"frame\": {\"duration\": 0, \"redraw\": true}, \"fromcurrent\": true, \"mode\": \"immediate\", \"transition\": {\"duration\": 0, \"easing\": \"linear\"}}], \"label\": \"71\", \"method\": \"animate\"}, {\"args\": [[\"72\"], {\"frame\": {\"duration\": 0, \"redraw\": true}, \"fromcurrent\": true, \"mode\": \"immediate\", \"transition\": {\"duration\": 0, \"easing\": \"linear\"}}], \"label\": \"72\", \"method\": \"animate\"}, {\"args\": [[\"73\"], {\"frame\": {\"duration\": 0, \"redraw\": true}, \"fromcurrent\": true, \"mode\": \"immediate\", \"transition\": {\"duration\": 0, \"easing\": \"linear\"}}], \"label\": \"73\", \"method\": \"animate\"}, {\"args\": [[\"74\"], {\"frame\": {\"duration\": 0, \"redraw\": true}, \"fromcurrent\": true, \"mode\": \"immediate\", \"transition\": {\"duration\": 0, \"easing\": \"linear\"}}], \"label\": \"74\", \"method\": \"animate\"}, {\"args\": [[\"75\"], {\"frame\": {\"duration\": 0, \"redraw\": true}, \"fromcurrent\": true, \"mode\": \"immediate\", \"transition\": {\"duration\": 0, \"easing\": \"linear\"}}], \"label\": \"75\", \"method\": \"animate\"}, {\"args\": [[\"76\"], {\"frame\": {\"duration\": 0, \"redraw\": true}, \"fromcurrent\": true, \"mode\": \"immediate\", \"transition\": {\"duration\": 0, \"easing\": \"linear\"}}], \"label\": \"76\", \"method\": \"animate\"}, {\"args\": [[\"77\"], {\"frame\": {\"duration\": 0, \"redraw\": true}, \"fromcurrent\": true, \"mode\": \"immediate\", \"transition\": {\"duration\": 0, \"easing\": \"linear\"}}], \"label\": \"77\", \"method\": \"animate\"}, {\"args\": [[\"78\"], {\"frame\": {\"duration\": 0, \"redraw\": true}, \"fromcurrent\": true, \"mode\": \"immediate\", \"transition\": {\"duration\": 0, \"easing\": \"linear\"}}], \"label\": \"78\", \"method\": \"animate\"}, {\"args\": [[\"79\"], {\"frame\": {\"duration\": 0, \"redraw\": true}, \"fromcurrent\": true, \"mode\": \"immediate\", \"transition\": {\"duration\": 0, \"easing\": \"linear\"}}], \"label\": \"79\", \"method\": \"animate\"}, {\"args\": [[\"80\"], {\"frame\": {\"duration\": 0, \"redraw\": true}, \"fromcurrent\": true, \"mode\": \"immediate\", \"transition\": {\"duration\": 0, \"easing\": \"linear\"}}], \"label\": \"80\", \"method\": \"animate\"}, {\"args\": [[\"81\"], {\"frame\": {\"duration\": 0, \"redraw\": true}, \"fromcurrent\": true, \"mode\": \"immediate\", \"transition\": {\"duration\": 0, \"easing\": \"linear\"}}], \"label\": \"81\", \"method\": \"animate\"}, {\"args\": [[\"82\"], {\"frame\": {\"duration\": 0, \"redraw\": true}, \"fromcurrent\": true, \"mode\": \"immediate\", \"transition\": {\"duration\": 0, \"easing\": \"linear\"}}], \"label\": \"82\", \"method\": \"animate\"}, {\"args\": [[\"83\"], {\"frame\": {\"duration\": 0, \"redraw\": true}, \"fromcurrent\": true, \"mode\": \"immediate\", \"transition\": {\"duration\": 0, \"easing\": \"linear\"}}], \"label\": \"83\", \"method\": \"animate\"}, {\"args\": [[\"84\"], {\"frame\": {\"duration\": 0, \"redraw\": true}, \"fromcurrent\": true, \"mode\": \"immediate\", \"transition\": {\"duration\": 0, \"easing\": \"linear\"}}], \"label\": \"84\", \"method\": \"animate\"}, {\"args\": [[\"85\"], {\"frame\": {\"duration\": 0, \"redraw\": true}, \"fromcurrent\": true, \"mode\": \"immediate\", \"transition\": {\"duration\": 0, \"easing\": \"linear\"}}], \"label\": \"85\", \"method\": \"animate\"}, {\"args\": [[\"86\"], {\"frame\": {\"duration\": 0, \"redraw\": true}, \"fromcurrent\": true, \"mode\": \"immediate\", \"transition\": {\"duration\": 0, \"easing\": \"linear\"}}], \"label\": \"86\", \"method\": \"animate\"}, {\"args\": [[\"87\"], {\"frame\": {\"duration\": 0, \"redraw\": true}, \"fromcurrent\": true, \"mode\": \"immediate\", \"transition\": {\"duration\": 0, \"easing\": \"linear\"}}], \"label\": \"87\", \"method\": \"animate\"}, {\"args\": [[\"88\"], {\"frame\": {\"duration\": 0, \"redraw\": true}, \"fromcurrent\": true, \"mode\": \"immediate\", \"transition\": {\"duration\": 0, \"easing\": \"linear\"}}], \"label\": \"88\", \"method\": \"animate\"}, {\"args\": [[\"89\"], {\"frame\": {\"duration\": 0, \"redraw\": true}, \"fromcurrent\": true, \"mode\": \"immediate\", \"transition\": {\"duration\": 0, \"easing\": \"linear\"}}], \"label\": \"89\", \"method\": \"animate\"}, {\"args\": [[\"90\"], {\"frame\": {\"duration\": 0, \"redraw\": true}, \"fromcurrent\": true, \"mode\": \"immediate\", \"transition\": {\"duration\": 0, \"easing\": \"linear\"}}], \"label\": \"90\", \"method\": \"animate\"}, {\"args\": [[\"91\"], {\"frame\": {\"duration\": 0, \"redraw\": true}, \"fromcurrent\": true, \"mode\": \"immediate\", \"transition\": {\"duration\": 0, \"easing\": \"linear\"}}], \"label\": \"91\", \"method\": \"animate\"}, {\"args\": [[\"92\"], {\"frame\": {\"duration\": 0, \"redraw\": true}, \"fromcurrent\": true, \"mode\": \"immediate\", \"transition\": {\"duration\": 0, \"easing\": \"linear\"}}], \"label\": \"92\", \"method\": \"animate\"}, {\"args\": [[\"93\"], {\"frame\": {\"duration\": 0, \"redraw\": true}, \"fromcurrent\": true, \"mode\": \"immediate\", \"transition\": {\"duration\": 0, \"easing\": \"linear\"}}], \"label\": \"93\", \"method\": \"animate\"}, {\"args\": [[\"94\"], {\"frame\": {\"duration\": 0, \"redraw\": true}, \"fromcurrent\": true, \"mode\": \"immediate\", \"transition\": {\"duration\": 0, \"easing\": \"linear\"}}], \"label\": \"94\", \"method\": \"animate\"}, {\"args\": [[\"95\"], {\"frame\": {\"duration\": 0, \"redraw\": true}, \"fromcurrent\": true, \"mode\": \"immediate\", \"transition\": {\"duration\": 0, \"easing\": \"linear\"}}], \"label\": \"95\", \"method\": \"animate\"}, {\"args\": [[\"96\"], {\"frame\": {\"duration\": 0, \"redraw\": true}, \"fromcurrent\": true, \"mode\": \"immediate\", \"transition\": {\"duration\": 0, \"easing\": \"linear\"}}], \"label\": \"96\", \"method\": \"animate\"}, {\"args\": [[\"97\"], {\"frame\": {\"duration\": 0, \"redraw\": true}, \"fromcurrent\": true, \"mode\": \"immediate\", \"transition\": {\"duration\": 0, \"easing\": \"linear\"}}], \"label\": \"97\", \"method\": \"animate\"}, {\"args\": [[\"98\"], {\"frame\": {\"duration\": 0, \"redraw\": true}, \"fromcurrent\": true, \"mode\": \"immediate\", \"transition\": {\"duration\": 0, \"easing\": \"linear\"}}], \"label\": \"98\", \"method\": \"animate\"}, {\"args\": [[\"99\"], {\"frame\": {\"duration\": 0, \"redraw\": true}, \"fromcurrent\": true, \"mode\": \"immediate\", \"transition\": {\"duration\": 0, \"easing\": \"linear\"}}], \"label\": \"99\", \"method\": \"animate\"}, {\"args\": [[\"100\"], {\"frame\": {\"duration\": 0, \"redraw\": true}, \"fromcurrent\": true, \"mode\": \"immediate\", \"transition\": {\"duration\": 0, \"easing\": \"linear\"}}], \"label\": \"100\", \"method\": \"animate\"}], \"x\": 0.1, \"xanchor\": \"left\", \"y\": 0, \"yanchor\": \"top\"}], \"template\": {\"data\": {\"bar\": [{\"error_x\": {\"color\": \"#2a3f5f\"}, \"error_y\": {\"color\": \"#2a3f5f\"}, \"marker\": {\"line\": {\"color\": \"#E5ECF6\", \"width\": 0.5}}, \"type\": \"bar\"}], \"barpolar\": [{\"marker\": {\"line\": {\"color\": \"#E5ECF6\", \"width\": 0.5}}, \"type\": \"barpolar\"}], \"carpet\": [{\"aaxis\": {\"endlinecolor\": \"#2a3f5f\", \"gridcolor\": \"white\", \"linecolor\": \"white\", \"minorgridcolor\": \"white\", \"startlinecolor\": \"#2a3f5f\"}, \"baxis\": {\"endlinecolor\": \"#2a3f5f\", \"gridcolor\": \"white\", \"linecolor\": \"white\", \"minorgridcolor\": \"white\", \"startlinecolor\": \"#2a3f5f\"}, \"type\": \"carpet\"}], \"choropleth\": [{\"colorbar\": {\"outlinewidth\": 0, \"ticks\": \"\"}, \"type\": \"choropleth\"}], \"contour\": [{\"colorbar\": {\"outlinewidth\": 0, \"ticks\": \"\"}, \"colorscale\": [[0.0, \"#0d0887\"], [0.1111111111111111, \"#46039f\"], [0.2222222222222222, \"#7201a8\"], [0.3333333333333333, \"#9c179e\"], [0.4444444444444444, \"#bd3786\"], [0.5555555555555556, \"#d8576b\"], [0.6666666666666666, \"#ed7953\"], [0.7777777777777778, \"#fb9f3a\"], [0.8888888888888888, \"#fdca26\"], [1.0, \"#f0f921\"]], \"type\": \"contour\"}], \"contourcarpet\": [{\"colorbar\": {\"outlinewidth\": 0, \"ticks\": \"\"}, \"type\": \"contourcarpet\"}], \"heatmap\": [{\"colorbar\": {\"outlinewidth\": 0, \"ticks\": \"\"}, \"colorscale\": [[0.0, \"#0d0887\"], [0.1111111111111111, \"#46039f\"], [0.2222222222222222, \"#7201a8\"], [0.3333333333333333, \"#9c179e\"], [0.4444444444444444, \"#bd3786\"], [0.5555555555555556, \"#d8576b\"], [0.6666666666666666, \"#ed7953\"], [0.7777777777777778, \"#fb9f3a\"], [0.8888888888888888, \"#fdca26\"], [1.0, \"#f0f921\"]], \"type\": \"heatmap\"}], \"heatmapgl\": [{\"colorbar\": {\"outlinewidth\": 0, \"ticks\": \"\"}, \"colorscale\": [[0.0, \"#0d0887\"], [0.1111111111111111, \"#46039f\"], [0.2222222222222222, \"#7201a8\"], [0.3333333333333333, \"#9c179e\"], [0.4444444444444444, \"#bd3786\"], [0.5555555555555556, \"#d8576b\"], [0.6666666666666666, \"#ed7953\"], [0.7777777777777778, \"#fb9f3a\"], [0.8888888888888888, \"#fdca26\"], [1.0, \"#f0f921\"]], \"type\": \"heatmapgl\"}], \"histogram\": [{\"marker\": {\"colorbar\": {\"outlinewidth\": 0, \"ticks\": \"\"}}, \"type\": \"histogram\"}], \"histogram2d\": [{\"colorbar\": {\"outlinewidth\": 0, \"ticks\": \"\"}, \"colorscale\": [[0.0, \"#0d0887\"], [0.1111111111111111, \"#46039f\"], [0.2222222222222222, \"#7201a8\"], [0.3333333333333333, \"#9c179e\"], [0.4444444444444444, \"#bd3786\"], [0.5555555555555556, \"#d8576b\"], [0.6666666666666666, \"#ed7953\"], [0.7777777777777778, \"#fb9f3a\"], [0.8888888888888888, \"#fdca26\"], [1.0, \"#f0f921\"]], \"type\": \"histogram2d\"}], \"histogram2dcontour\": [{\"colorbar\": {\"outlinewidth\": 0, \"ticks\": \"\"}, \"colorscale\": [[0.0, \"#0d0887\"], [0.1111111111111111, \"#46039f\"], [0.2222222222222222, \"#7201a8\"], [0.3333333333333333, \"#9c179e\"], [0.4444444444444444, \"#bd3786\"], [0.5555555555555556, \"#d8576b\"], [0.6666666666666666, \"#ed7953\"], [0.7777777777777778, \"#fb9f3a\"], [0.8888888888888888, \"#fdca26\"], [1.0, \"#f0f921\"]], \"type\": \"histogram2dcontour\"}], \"mesh3d\": [{\"colorbar\": {\"outlinewidth\": 0, \"ticks\": \"\"}, \"type\": \"mesh3d\"}], \"parcoords\": [{\"line\": {\"colorbar\": {\"outlinewidth\": 0, \"ticks\": \"\"}}, \"type\": \"parcoords\"}], \"pie\": [{\"automargin\": true, \"type\": \"pie\"}], \"scatter\": [{\"marker\": {\"colorbar\": {\"outlinewidth\": 0, \"ticks\": \"\"}}, \"type\": \"scatter\"}], \"scatter3d\": [{\"line\": {\"colorbar\": {\"outlinewidth\": 0, \"ticks\": \"\"}}, \"marker\": {\"colorbar\": {\"outlinewidth\": 0, \"ticks\": \"\"}}, \"type\": \"scatter3d\"}], \"scattercarpet\": [{\"marker\": {\"colorbar\": {\"outlinewidth\": 0, \"ticks\": \"\"}}, \"type\": \"scattercarpet\"}], \"scattergeo\": [{\"marker\": {\"colorbar\": {\"outlinewidth\": 0, \"ticks\": \"\"}}, \"type\": \"scattergeo\"}], \"scattergl\": [{\"marker\": {\"colorbar\": {\"outlinewidth\": 0, \"ticks\": \"\"}}, \"type\": \"scattergl\"}], \"scattermapbox\": [{\"marker\": {\"colorbar\": {\"outlinewidth\": 0, \"ticks\": \"\"}}, \"type\": \"scattermapbox\"}], \"scatterpolar\": [{\"marker\": {\"colorbar\": {\"outlinewidth\": 0, \"ticks\": \"\"}}, \"type\": \"scatterpolar\"}], \"scatterpolargl\": [{\"marker\": {\"colorbar\": {\"outlinewidth\": 0, \"ticks\": \"\"}}, \"type\": \"scatterpolargl\"}], \"scatterternary\": [{\"marker\": {\"colorbar\": {\"outlinewidth\": 0, \"ticks\": \"\"}}, \"type\": \"scatterternary\"}], \"surface\": [{\"colorbar\": {\"outlinewidth\": 0, \"ticks\": \"\"}, \"colorscale\": [[0.0, \"#0d0887\"], [0.1111111111111111, \"#46039f\"], [0.2222222222222222, \"#7201a8\"], [0.3333333333333333, \"#9c179e\"], [0.4444444444444444, \"#bd3786\"], [0.5555555555555556, \"#d8576b\"], [0.6666666666666666, \"#ed7953\"], [0.7777777777777778, \"#fb9f3a\"], [0.8888888888888888, \"#fdca26\"], [1.0, \"#f0f921\"]], \"type\": \"surface\"}], \"table\": [{\"cells\": {\"fill\": {\"color\": \"#EBF0F8\"}, \"line\": {\"color\": \"white\"}}, \"header\": {\"fill\": {\"color\": \"#C8D4E3\"}, \"line\": {\"color\": \"white\"}}, \"type\": \"table\"}]}, \"layout\": {\"annotationdefaults\": {\"arrowcolor\": \"#2a3f5f\", \"arrowhead\": 0, \"arrowwidth\": 1}, \"coloraxis\": {\"colorbar\": {\"outlinewidth\": 0, \"ticks\": \"\"}}, \"colorscale\": {\"diverging\": [[0, \"#8e0152\"], [0.1, \"#c51b7d\"], [0.2, \"#de77ae\"], [0.3, \"#f1b6da\"], [0.4, \"#fde0ef\"], [0.5, \"#f7f7f7\"], [0.6, \"#e6f5d0\"], [0.7, \"#b8e186\"], [0.8, \"#7fbc41\"], [0.9, \"#4d9221\"], [1, \"#276419\"]], \"sequential\": [[0.0, \"#0d0887\"], [0.1111111111111111, \"#46039f\"], [0.2222222222222222, \"#7201a8\"], [0.3333333333333333, \"#9c179e\"], [0.4444444444444444, \"#bd3786\"], [0.5555555555555556, \"#d8576b\"], [0.6666666666666666, \"#ed7953\"], [0.7777777777777778, \"#fb9f3a\"], [0.8888888888888888, \"#fdca26\"], [1.0, \"#f0f921\"]], \"sequentialminus\": [[0.0, \"#0d0887\"], [0.1111111111111111, \"#46039f\"], [0.2222222222222222, \"#7201a8\"], [0.3333333333333333, \"#9c179e\"], [0.4444444444444444, \"#bd3786\"], [0.5555555555555556, \"#d8576b\"], [0.6666666666666666, \"#ed7953\"], [0.7777777777777778, \"#fb9f3a\"], [0.8888888888888888, \"#fdca26\"], [1.0, \"#f0f921\"]]}, \"colorway\": [\"#636efa\", \"#EF553B\", \"#00cc96\", \"#ab63fa\", \"#FFA15A\", \"#19d3f3\", \"#FF6692\", \"#B6E880\", \"#FF97FF\", \"#FECB52\"], \"font\": {\"color\": \"#2a3f5f\"}, \"geo\": {\"bgcolor\": \"white\", \"lakecolor\": \"white\", \"landcolor\": \"#E5ECF6\", \"showlakes\": true, \"showland\": true, \"subunitcolor\": \"white\"}, \"hoverlabel\": {\"align\": \"left\"}, \"hovermode\": \"closest\", \"mapbox\": {\"style\": \"light\"}, \"paper_bgcolor\": \"white\", \"plot_bgcolor\": \"#E5ECF6\", \"polar\": {\"angularaxis\": {\"gridcolor\": \"white\", \"linecolor\": \"white\", \"ticks\": \"\"}, \"bgcolor\": \"#E5ECF6\", \"radialaxis\": {\"gridcolor\": \"white\", \"linecolor\": \"white\", \"ticks\": \"\"}}, \"scene\": {\"xaxis\": {\"backgroundcolor\": \"#E5ECF6\", \"gridcolor\": \"white\", \"gridwidth\": 2, \"linecolor\": \"white\", \"showbackground\": true, \"ticks\": \"\", \"zerolinecolor\": \"white\"}, \"yaxis\": {\"backgroundcolor\": \"#E5ECF6\", \"gridcolor\": \"white\", \"gridwidth\": 2, \"linecolor\": \"white\", \"showbackground\": true, \"ticks\": \"\", \"zerolinecolor\": \"white\"}, \"zaxis\": {\"backgroundcolor\": \"#E5ECF6\", \"gridcolor\": \"white\", \"gridwidth\": 2, \"linecolor\": \"white\", \"showbackground\": true, \"ticks\": \"\", \"zerolinecolor\": \"white\"}}, \"shapedefaults\": {\"line\": {\"color\": \"#2a3f5f\"}}, \"ternary\": {\"aaxis\": {\"gridcolor\": \"white\", \"linecolor\": \"white\", \"ticks\": \"\"}, \"baxis\": {\"gridcolor\": \"white\", \"linecolor\": \"white\", \"ticks\": \"\"}, \"bgcolor\": \"#E5ECF6\", \"caxis\": {\"gridcolor\": \"white\", \"linecolor\": \"white\", \"ticks\": \"\"}}, \"title\": {\"x\": 0.05}, \"xaxis\": {\"automargin\": true, \"gridcolor\": \"white\", \"linecolor\": \"white\", \"ticks\": \"\", \"title\": {\"standoff\": 15}, \"zerolinecolor\": \"white\", \"zerolinewidth\": 2}, \"yaxis\": {\"automargin\": true, \"gridcolor\": \"white\", \"linecolor\": \"white\", \"ticks\": \"\", \"title\": {\"standoff\": 15}, \"zerolinecolor\": \"white\", \"zerolinewidth\": 2}}}, \"title\": {\"text\": \"Confirmed cases of COVID-19 per province\"}, \"updatemenus\": [{\"buttons\": [{\"args\": [null, {\"frame\": {\"duration\": 500, \"redraw\": true}, \"fromcurrent\": true, \"mode\": \"immediate\", \"transition\": {\"duration\": 500, \"easing\": \"linear\"}}], \"label\": \"&#9654;\", \"method\": \"animate\"}, {\"args\": [[null], {\"frame\": {\"duration\": 0, \"redraw\": true}, \"fromcurrent\": true, \"mode\": \"immediate\", \"transition\": {\"duration\": 0, \"easing\": \"linear\"}}], \"label\": \"&#9724;\", \"method\": \"animate\"}], \"direction\": \"left\", \"pad\": {\"r\": 10, \"t\": 70}, \"showactive\": false, \"type\": \"buttons\", \"x\": 0.1, \"xanchor\": \"right\", \"y\": 0, \"yanchor\": \"top\"}], \"width\": 900, \"xaxis\": {\"anchor\": \"y\", \"categoryorder\": \"total descending\", \"domain\": [0.0, 1.0], \"tickfont\": {\"size\": 10}, \"title\": {\"text\": \"\"}}, \"yaxis\": {\"anchor\": \"x\", \"automargin\": true, \"domain\": [0.0, 1.0], \"title\": {\"text\": \"\"}}},\n",
       "                        {\"responsive\": true}\n",
       "                    ).then(function(){\n",
       "                            Plotly.addFrames('e06c9362-ac6b-493d-99f4-798c637ed207', [{\"data\": [{\"alignmentgroup\": \"True\", \"customdata\": [[1, 0, 1, 0]], \"hovertemplate\": \"<b>%{hovertext}</b><br><br>Days=0<br>province=%{x}<br>Confirmed=%{customdata[0]}<br>Isolated=%{customdata[1]}<br>Released=%{customdata[2]}<br>Deceased=%{customdata[3]}<extra></extra>\", \"hovertext\": [\"Incheon\"], \"ids\": [\"Incheon\"], \"legendgroup\": \"\", \"marker\": {\"color\": \"#636efa\", \"opacity\": 0.75}, \"name\": \"\", \"offsetgroup\": \"\", \"orientation\": \"v\", \"showlegend\": false, \"textposition\": \"auto\", \"x\": [\"Incheon\"], \"xaxis\": \"x\", \"y\": [1], \"yaxis\": \"y\", \"type\": \"bar\"}], \"name\": \"0\"}, {\"data\": [{\"alignmentgroup\": \"True\", \"customdata\": [[1, 0, 1, 0], [1, 0, 1, 0]], \"hovertemplate\": \"<b>%{hovertext}</b><br><br>Days=3<br>province=%{x}<br>Confirmed=%{customdata[0]}<br>Isolated=%{customdata[1]}<br>Released=%{customdata[2]}<br>Deceased=%{customdata[3]}<extra></extra>\", \"hovertext\": [\"Incheon\", \"Seoul\"], \"ids\": [\"Incheon\", \"Seoul\"], \"legendgroup\": \"\", \"marker\": {\"color\": \"#636efa\", \"opacity\": 0.75}, \"name\": \"\", \"offsetgroup\": \"\", \"orientation\": \"v\", \"showlegend\": false, \"textposition\": \"auto\", \"x\": [\"Incheon\", \"Seoul\"], \"xaxis\": \"x\", \"y\": [1, 1], \"yaxis\": \"y\", \"type\": \"bar\"}], \"name\": \"3\"}, {\"data\": [{\"alignmentgroup\": \"True\", \"customdata\": [[1, 0, 1, 0], [1, 0, 1, 0], [1, 0, 1, 0]], \"hovertemplate\": \"<b>%{hovertext}</b><br><br>Days=6<br>province=%{x}<br>Confirmed=%{customdata[0]}<br>Isolated=%{customdata[1]}<br>Released=%{customdata[2]}<br>Deceased=%{customdata[3]}<extra></extra>\", \"hovertext\": [\"Gyeonggi-do\", \"Incheon\", \"Seoul\"], \"ids\": [\"Gyeonggi-do\", \"Incheon\", \"Seoul\"], \"legendgroup\": \"\", \"marker\": {\"color\": \"#636efa\", \"opacity\": 0.75}, \"name\": \"\", \"offsetgroup\": \"\", \"orientation\": \"v\", \"showlegend\": false, \"textposition\": \"auto\", \"x\": [\"Gyeonggi-do\", \"Incheon\", \"Seoul\"], \"xaxis\": \"x\", \"y\": [1, 1, 1], \"yaxis\": \"y\", \"type\": \"bar\"}], \"name\": \"6\"}, {\"data\": [{\"alignmentgroup\": \"True\", \"customdata\": [[2, 0, 2, 0], [1, 0, 1, 0], [1, 0, 1, 0]], \"hovertemplate\": \"<b>%{hovertext}</b><br><br>Days=7<br>province=%{x}<br>Confirmed=%{customdata[0]}<br>Isolated=%{customdata[1]}<br>Released=%{customdata[2]}<br>Deceased=%{customdata[3]}<extra></extra>\", \"hovertext\": [\"Gyeonggi-do\", \"Incheon\", \"Seoul\"], \"ids\": [\"Gyeonggi-do\", \"Incheon\", \"Seoul\"], \"legendgroup\": \"\", \"marker\": {\"color\": \"#636efa\", \"opacity\": 0.75}, \"name\": \"\", \"offsetgroup\": \"\", \"orientation\": \"v\", \"showlegend\": false, \"textposition\": \"auto\", \"x\": [\"Gyeonggi-do\", \"Incheon\", \"Seoul\"], \"xaxis\": \"x\", \"y\": [2, 1, 1], \"yaxis\": \"y\", \"type\": \"bar\"}], \"name\": \"7\"}, {\"data\": [{\"alignmentgroup\": \"True\", \"customdata\": [[2, 0, 2, 0], [1, 0, 1, 0], [4, 0, 4, 0]], \"hovertemplate\": \"<b>%{hovertext}</b><br><br>Days=10<br>province=%{x}<br>Confirmed=%{customdata[0]}<br>Isolated=%{customdata[1]}<br>Released=%{customdata[2]}<br>Deceased=%{customdata[3]}<extra></extra>\", \"hovertext\": [\"Gyeonggi-do\", \"Incheon\", \"Seoul\"], \"ids\": [\"Gyeonggi-do\", \"Incheon\", \"Seoul\"], \"legendgroup\": \"\", \"marker\": {\"color\": \"#636efa\", \"opacity\": 0.75}, \"name\": \"\", \"offsetgroup\": \"\", \"orientation\": \"v\", \"showlegend\": false, \"textposition\": \"auto\", \"x\": [\"Gyeonggi-do\", \"Incheon\", \"Seoul\"], \"xaxis\": \"x\", \"y\": [2, 1, 4], \"yaxis\": \"y\", \"type\": \"bar\"}], \"name\": \"10\"}, {\"data\": [{\"alignmentgroup\": \"True\", \"customdata\": [[2, 0, 2, 0], [1, 0, 1, 0], [1, 0, 1, 0], [7, 0, 7, 0]], \"hovertemplate\": \"<b>%{hovertext}</b><br><br>Days=11<br>province=%{x}<br>Confirmed=%{customdata[0]}<br>Isolated=%{customdata[1]}<br>Released=%{customdata[2]}<br>Deceased=%{customdata[3]}<extra></extra>\", \"hovertext\": [\"Gyeonggi-do\", \"Incheon\", \"Jeollabuk-do\", \"Seoul\"], \"ids\": [\"Gyeonggi-do\", \"Incheon\", \"Jeollabuk-do\", \"Seoul\"], \"legendgroup\": \"\", \"marker\": {\"color\": \"#636efa\", \"opacity\": 0.75}, \"name\": \"\", \"offsetgroup\": \"\", \"orientation\": \"v\", \"showlegend\": false, \"textposition\": \"auto\", \"x\": [\"Gyeonggi-do\", \"Incheon\", \"Jeollabuk-do\", \"Seoul\"], \"xaxis\": \"x\", \"y\": [2, 1, 1, 7], \"yaxis\": \"y\", \"type\": \"bar\"}], \"name\": \"11\"}, {\"data\": [{\"alignmentgroup\": \"True\", \"customdata\": [[3, 0, 3, 0], [1, 0, 1, 0], [1, 0, 1, 0], [7, 0, 7, 0]], \"hovertemplate\": \"<b>%{hovertext}</b><br><br>Days=12<br>province=%{x}<br>Confirmed=%{customdata[0]}<br>Isolated=%{customdata[1]}<br>Released=%{customdata[2]}<br>Deceased=%{customdata[3]}<extra></extra>\", \"hovertext\": [\"Gyeonggi-do\", \"Incheon\", \"Jeollabuk-do\", \"Seoul\"], \"ids\": [\"Gyeonggi-do\", \"Incheon\", \"Jeollabuk-do\", \"Seoul\"], \"legendgroup\": \"\", \"marker\": {\"color\": \"#636efa\", \"opacity\": 0.75}, \"name\": \"\", \"offsetgroup\": \"\", \"orientation\": \"v\", \"showlegend\": false, \"textposition\": \"auto\", \"x\": [\"Gyeonggi-do\", \"Incheon\", \"Jeollabuk-do\", \"Seoul\"], \"xaxis\": \"x\", \"y\": [3, 1, 1, 7], \"yaxis\": \"y\", \"type\": \"bar\"}], \"name\": \"12\"}, {\"data\": [{\"alignmentgroup\": \"True\", \"customdata\": [[5, 0, 5, 0], [1, 0, 1, 0], [1, 0, 1, 0], [8, 0, 8, 0]], \"hovertemplate\": \"<b>%{hovertext}</b><br><br>Days=13<br>province=%{x}<br>Confirmed=%{customdata[0]}<br>Isolated=%{customdata[1]}<br>Released=%{customdata[2]}<br>Deceased=%{customdata[3]}<extra></extra>\", \"hovertext\": [\"Gyeonggi-do\", \"Incheon\", \"Jeollabuk-do\", \"Seoul\"], \"ids\": [\"Gyeonggi-do\", \"Incheon\", \"Jeollabuk-do\", \"Seoul\"], \"legendgroup\": \"\", \"marker\": {\"color\": \"#636efa\", \"opacity\": 0.75}, \"name\": \"\", \"offsetgroup\": \"\", \"orientation\": \"v\", \"showlegend\": false, \"textposition\": \"auto\", \"x\": [\"Gyeonggi-do\", \"Incheon\", \"Jeollabuk-do\", \"Seoul\"], \"xaxis\": \"x\", \"y\": [5, 1, 1, 8], \"yaxis\": \"y\", \"type\": \"bar\"}], \"name\": \"13\"}, {\"data\": [{\"alignmentgroup\": \"True\", \"customdata\": [[1, 0, 1, 0], [5, 0, 5, 0], [1, 0, 1, 0], [1, 0, 1, 0], [8, 0, 8, 0]], \"hovertemplate\": \"<b>%{hovertext}</b><br><br>Days=14<br>province=%{x}<br>Confirmed=%{customdata[0]}<br>Isolated=%{customdata[1]}<br>Released=%{customdata[2]}<br>Deceased=%{customdata[3]}<extra></extra>\", \"hovertext\": [\"Gwangju\", \"Gyeonggi-do\", \"Incheon\", \"Jeollabuk-do\", \"Seoul\"], \"ids\": [\"Gwangju\", \"Gyeonggi-do\", \"Incheon\", \"Jeollabuk-do\", \"Seoul\"], \"legendgroup\": \"\", \"marker\": {\"color\": \"#636efa\", \"opacity\": 0.75}, \"name\": \"\", \"offsetgroup\": \"\", \"orientation\": \"v\", \"showlegend\": false, \"textposition\": \"auto\", \"x\": [\"Gwangju\", \"Gyeonggi-do\", \"Incheon\", \"Jeollabuk-do\", \"Seoul\"], \"xaxis\": \"x\", \"y\": [1, 5, 1, 1, 8], \"yaxis\": \"y\", \"type\": \"bar\"}], \"name\": \"14\"}, {\"data\": [{\"alignmentgroup\": \"True\", \"customdata\": [[2, 0, 2, 0], [7, 0, 7, 0], [1, 0, 1, 0], [1, 0, 1, 0], [10, 0, 10, 0]], \"hovertemplate\": \"<b>%{hovertext}</b><br><br>Days=16<br>province=%{x}<br>Confirmed=%{customdata[0]}<br>Isolated=%{customdata[1]}<br>Released=%{customdata[2]}<br>Deceased=%{customdata[3]}<extra></extra>\", \"hovertext\": [\"Gwangju\", \"Gyeonggi-do\", \"Incheon\", \"Jeollabuk-do\", \"Seoul\"], \"ids\": [\"Gwangju\", \"Gyeonggi-do\", \"Incheon\", \"Jeollabuk-do\", \"Seoul\"], \"legendgroup\": \"\", \"marker\": {\"color\": \"#636efa\", \"opacity\": 0.75}, \"name\": \"\", \"offsetgroup\": \"\", \"orientation\": \"v\", \"showlegend\": false, \"textposition\": \"auto\", \"x\": [\"Gwangju\", \"Gyeonggi-do\", \"Incheon\", \"Jeollabuk-do\", \"Seoul\"], \"xaxis\": \"x\", \"y\": [2, 7, 1, 1, 10], \"yaxis\": \"y\", \"type\": \"bar\"}], \"name\": \"16\"}, {\"data\": [{\"alignmentgroup\": \"True\", \"customdata\": [[2, 0, 2, 0], [7, 0, 7, 0], [1, 0, 1, 0], [1, 0, 1, 0], [1, 0, 1, 0], [11, 0, 11, 0]], \"hovertemplate\": \"<b>%{hovertext}</b><br><br>Days=17<br>province=%{x}<br>Confirmed=%{customdata[0]}<br>Isolated=%{customdata[1]}<br>Released=%{customdata[2]}<br>Deceased=%{customdata[3]}<extra></extra>\", \"hovertext\": [\"Gwangju\", \"Gyeonggi-do\", \"Incheon\", \"Jeollabuk-do\", \"Jeollanam-do\", \"Seoul\"], \"ids\": [\"Gwangju\", \"Gyeonggi-do\", \"Incheon\", \"Jeollabuk-do\", \"Jeollanam-do\", \"Seoul\"], \"legendgroup\": \"\", \"marker\": {\"color\": \"#636efa\", \"opacity\": 0.75}, \"name\": \"\", \"offsetgroup\": \"\", \"orientation\": \"v\", \"showlegend\": false, \"textposition\": \"auto\", \"x\": [\"Gwangju\", \"Gyeonggi-do\", \"Incheon\", \"Jeollabuk-do\", \"Jeollanam-do\", \"Seoul\"], \"xaxis\": \"x\", \"y\": [2, 7, 1, 1, 1, 11], \"yaxis\": \"y\", \"type\": \"bar\"}], \"name\": \"17\"}, {\"data\": [{\"alignmentgroup\": \"True\", \"customdata\": [[2, 0, 2, 0], [7, 0, 7, 0], [1, 0, 1, 0], [1, 0, 1, 0], [1, 0, 1, 0], [12, 0, 12, 0]], \"hovertemplate\": \"<b>%{hovertext}</b><br><br>Days=18<br>province=%{x}<br>Confirmed=%{customdata[0]}<br>Isolated=%{customdata[1]}<br>Released=%{customdata[2]}<br>Deceased=%{customdata[3]}<extra></extra>\", \"hovertext\": [\"Gwangju\", \"Gyeonggi-do\", \"Incheon\", \"Jeollabuk-do\", \"Jeollanam-do\", \"Seoul\"], \"ids\": [\"Gwangju\", \"Gyeonggi-do\", \"Incheon\", \"Jeollabuk-do\", \"Jeollanam-do\", \"Seoul\"], \"legendgroup\": \"\", \"marker\": {\"color\": \"#636efa\", \"opacity\": 0.75}, \"name\": \"\", \"offsetgroup\": \"\", \"orientation\": \"v\", \"showlegend\": false, \"textposition\": \"auto\", \"x\": [\"Gwangju\", \"Gyeonggi-do\", \"Incheon\", \"Jeollabuk-do\", \"Jeollanam-do\", \"Seoul\"], \"xaxis\": \"x\", \"y\": [2, 7, 1, 1, 1, 12], \"yaxis\": \"y\", \"type\": \"bar\"}], \"name\": \"18\"}, {\"data\": [{\"alignmentgroup\": \"True\", \"customdata\": [[2, 0, 2, 0], [10, 1, 9, 0], [1, 0, 1, 0], [1, 0, 1, 0], [1, 0, 1, 0], [12, 0, 12, 0]], \"hovertemplate\": \"<b>%{hovertext}</b><br><br>Days=20<br>province=%{x}<br>Confirmed=%{customdata[0]}<br>Isolated=%{customdata[1]}<br>Released=%{customdata[2]}<br>Deceased=%{customdata[3]}<extra></extra>\", \"hovertext\": [\"Gwangju\", \"Gyeonggi-do\", \"Incheon\", \"Jeollabuk-do\", \"Jeollanam-do\", \"Seoul\"], \"ids\": [\"Gwangju\", \"Gyeonggi-do\", \"Incheon\", \"Jeollabuk-do\", \"Jeollanam-do\", \"Seoul\"], \"legendgroup\": \"\", \"marker\": {\"color\": \"#636efa\", \"opacity\": 0.75}, \"name\": \"\", \"offsetgroup\": \"\", \"orientation\": \"v\", \"showlegend\": false, \"textposition\": \"auto\", \"x\": [\"Gwangju\", \"Gyeonggi-do\", \"Incheon\", \"Jeollabuk-do\", \"Jeollanam-do\", \"Seoul\"], \"xaxis\": \"x\", \"y\": [2, 10, 1, 1, 1, 12], \"yaxis\": \"y\", \"type\": \"bar\"}], \"name\": \"20\"}, {\"data\": [{\"alignmentgroup\": \"True\", \"customdata\": [[2, 0, 2, 0], [11, 1, 10, 0], [1, 0, 1, 0], [1, 0, 1, 0], [1, 0, 1, 0], [12, 0, 12, 0]], \"hovertemplate\": \"<b>%{hovertext}</b><br><br>Days=21<br>province=%{x}<br>Confirmed=%{customdata[0]}<br>Isolated=%{customdata[1]}<br>Released=%{customdata[2]}<br>Deceased=%{customdata[3]}<extra></extra>\", \"hovertext\": [\"Gwangju\", \"Gyeonggi-do\", \"Incheon\", \"Jeollabuk-do\", \"Jeollanam-do\", \"Seoul\"], \"ids\": [\"Gwangju\", \"Gyeonggi-do\", \"Incheon\", \"Jeollabuk-do\", \"Jeollanam-do\", \"Seoul\"], \"legendgroup\": \"\", \"marker\": {\"color\": \"#636efa\", \"opacity\": 0.75}, \"name\": \"\", \"offsetgroup\": \"\", \"orientation\": \"v\", \"showlegend\": false, \"textposition\": \"auto\", \"x\": [\"Gwangju\", \"Gyeonggi-do\", \"Incheon\", \"Jeollabuk-do\", \"Jeollanam-do\", \"Seoul\"], \"xaxis\": \"x\", \"y\": [2, 11, 1, 1, 1, 12], \"yaxis\": \"y\", \"type\": \"bar\"}], \"name\": \"21\"}, {\"data\": [{\"alignmentgroup\": \"True\", \"customdata\": [[2, 0, 2, 0], [11, 1, 10, 0], [1, 0, 1, 0], [1, 0, 1, 0], [1, 0, 1, 0], [14, 0, 14, 0]], \"hovertemplate\": \"<b>%{hovertext}</b><br><br>Days=27<br>province=%{x}<br>Confirmed=%{customdata[0]}<br>Isolated=%{customdata[1]}<br>Released=%{customdata[2]}<br>Deceased=%{customdata[3]}<extra></extra>\", \"hovertext\": [\"Gwangju\", \"Gyeonggi-do\", \"Incheon\", \"Jeollabuk-do\", \"Jeollanam-do\", \"Seoul\"], \"ids\": [\"Gwangju\", \"Gyeonggi-do\", \"Incheon\", \"Jeollabuk-do\", \"Jeollanam-do\", \"Seoul\"], \"legendgroup\": \"\", \"marker\": {\"color\": \"#636efa\", \"opacity\": 0.75}, \"name\": \"\", \"offsetgroup\": \"\", \"orientation\": \"v\", \"showlegend\": false, \"textposition\": \"auto\", \"x\": [\"Gwangju\", \"Gyeonggi-do\", \"Incheon\", \"Jeollabuk-do\", \"Jeollanam-do\", \"Seoul\"], \"xaxis\": \"x\", \"y\": [2, 11, 1, 1, 1, 14], \"yaxis\": \"y\", \"type\": \"bar\"}], \"name\": \"27\"}, {\"data\": [{\"alignmentgroup\": \"True\", \"customdata\": [[6, 5, 0, 1], [2, 0, 2, 0], [12, 1, 11, 0], [2, 0, 2, 0], [1, 0, 1, 0], [1, 0, 1, 0], [1, 0, 1, 0], [14, 0, 14, 0]], \"hovertemplate\": \"<b>%{hovertext}</b><br><br>Days=29<br>province=%{x}<br>Confirmed=%{customdata[0]}<br>Isolated=%{customdata[1]}<br>Released=%{customdata[2]}<br>Deceased=%{customdata[3]}<extra></extra>\", \"hovertext\": [\"Daegu\", \"Gwangju\", \"Gyeonggi-do\", \"Gyeongsangbuk-do\", \"Incheon\", \"Jeollabuk-do\", \"Jeollanam-do\", \"Seoul\"], \"ids\": [\"Daegu\", \"Gwangju\", \"Gyeonggi-do\", \"Gyeongsangbuk-do\", \"Incheon\", \"Jeollabuk-do\", \"Jeollanam-do\", \"Seoul\"], \"legendgroup\": \"\", \"marker\": {\"color\": \"#636efa\", \"opacity\": 0.75}, \"name\": \"\", \"offsetgroup\": \"\", \"orientation\": \"v\", \"showlegend\": false, \"textposition\": \"auto\", \"x\": [\"Daegu\", \"Gwangju\", \"Gyeonggi-do\", \"Gyeongsangbuk-do\", \"Incheon\", \"Jeollabuk-do\", \"Jeollanam-do\", \"Seoul\"], \"xaxis\": \"x\", \"y\": [6, 2, 12, 2, 1, 1, 1, 14], \"yaxis\": \"y\", \"type\": \"bar\"}], \"name\": \"29\"}, {\"data\": [{\"alignmentgroup\": \"True\", \"customdata\": [[26, 21, 4, 1], [2, 0, 2, 0], [12, 1, 11, 0], [8, 0, 6, 2], [1, 0, 1, 0], [1, 0, 1, 0], [1, 0, 1, 0], [16, 1, 15, 0]], \"hovertemplate\": \"<b>%{hovertext}</b><br><br>Days=30<br>province=%{x}<br>Confirmed=%{customdata[0]}<br>Isolated=%{customdata[1]}<br>Released=%{customdata[2]}<br>Deceased=%{customdata[3]}<extra></extra>\", \"hovertext\": [\"Daegu\", \"Gwangju\", \"Gyeonggi-do\", \"Gyeongsangbuk-do\", \"Incheon\", \"Jeollabuk-do\", \"Jeollanam-do\", \"Seoul\"], \"ids\": [\"Daegu\", \"Gwangju\", \"Gyeonggi-do\", \"Gyeongsangbuk-do\", \"Incheon\", \"Jeollabuk-do\", \"Jeollanam-do\", \"Seoul\"], \"legendgroup\": \"\", \"marker\": {\"color\": \"#636efa\", \"opacity\": 0.75}, \"name\": \"\", \"offsetgroup\": \"\", \"orientation\": \"v\", \"showlegend\": false, \"textposition\": \"auto\", \"x\": [\"Daegu\", \"Gwangju\", \"Gyeonggi-do\", \"Gyeongsangbuk-do\", \"Incheon\", \"Jeollabuk-do\", \"Jeollanam-do\", \"Seoul\"], \"xaxis\": \"x\", \"y\": [26, 2, 12, 8, 1, 1, 1, 16], \"yaxis\": \"y\", \"type\": \"bar\"}], \"name\": \"30\"}, {\"data\": [{\"alignmentgroup\": \"True\", \"customdata\": [[1, 0, 1, 0], [44, 39, 4, 1], [3, 0, 3, 0], [12, 1, 11, 0], [20, 6, 11, 3], [3, 0, 3, 0], [1, 0, 1, 0], [1, 0, 1, 0], [2, 0, 2, 0], [1, 0, 1, 0], [21, 1, 20, 0]], \"hovertemplate\": \"<b>%{hovertext}</b><br><br>Days=31<br>province=%{x}<br>Confirmed=%{customdata[0]}<br>Isolated=%{customdata[1]}<br>Released=%{customdata[2]}<br>Deceased=%{customdata[3]}<extra></extra>\", \"hovertext\": [\"Chungcheongbuk-do\", \"Daegu\", \"Gwangju\", \"Gyeonggi-do\", \"Gyeongsangbuk-do\", \"Gyeongsangnam-do\", \"Incheon\", \"Jeju-do\", \"Jeollabuk-do\", \"Jeollanam-do\", \"Seoul\"], \"ids\": [\"Chungcheongbuk-do\", \"Daegu\", \"Gwangju\", \"Gyeonggi-do\", \"Gyeongsangbuk-do\", \"Gyeongsangnam-do\", \"Incheon\", \"Jeju-do\", \"Jeollabuk-do\", \"Jeollanam-do\", \"Seoul\"], \"legendgroup\": \"\", \"marker\": {\"color\": \"#636efa\", \"opacity\": 0.75}, \"name\": \"\", \"offsetgroup\": \"\", \"orientation\": \"v\", \"showlegend\": false, \"textposition\": \"auto\", \"x\": [\"Chungcheongbuk-do\", \"Daegu\", \"Gwangju\", \"Gyeonggi-do\", \"Gyeongsangbuk-do\", \"Gyeongsangnam-do\", \"Incheon\", \"Jeju-do\", \"Jeollabuk-do\", \"Jeollanam-do\", \"Seoul\"], \"xaxis\": \"x\", \"y\": [1, 44, 3, 12, 20, 3, 1, 1, 2, 1, 21], \"yaxis\": \"y\", \"type\": \"bar\"}], \"name\": \"31\"}, {\"data\": [{\"alignmentgroup\": \"True\", \"customdata\": [[2, 0, 2, 0], [1, 0, 1, 0], [1, 0, 1, 0], [45, 39, 4, 2], [1, 0, 1, 0], [6, 0, 6, 0], [14, 3, 11, 0], [42, 16, 21, 5], [4, 0, 4, 0], [1, 0, 1, 0], [1, 0, 1, 0], [3, 0, 3, 0], [1, 0, 1, 0], [1, 0, 1, 0], [23, 1, 22, 0]], \"hovertemplate\": \"<b>%{hovertext}</b><br><br>Days=32<br>province=%{x}<br>Confirmed=%{customdata[0]}<br>Isolated=%{customdata[1]}<br>Released=%{customdata[2]}<br>Deceased=%{customdata[3]}<extra></extra>\", \"hovertext\": [\"Busan\", \"Chungcheongbuk-do\", \"Chungcheongnam-do\", \"Daegu\", \"Daejeon\", \"Gwangju\", \"Gyeonggi-do\", \"Gyeongsangbuk-do\", \"Gyeongsangnam-do\", \"Incheon\", \"Jeju-do\", \"Jeollabuk-do\", \"Jeollanam-do\", \"Sejong\", \"Seoul\"], \"ids\": [\"Busan\", \"Chungcheongbuk-do\", \"Chungcheongnam-do\", \"Daegu\", \"Daejeon\", \"Gwangju\", \"Gyeonggi-do\", \"Gyeongsangbuk-do\", \"Gyeongsangnam-do\", \"Incheon\", \"Jeju-do\", \"Jeollabuk-do\", \"Jeollanam-do\", \"Sejong\", \"Seoul\"], \"legendgroup\": \"\", \"marker\": {\"color\": \"#636efa\", \"opacity\": 0.75}, \"name\": \"\", \"offsetgroup\": \"\", \"orientation\": \"v\", \"showlegend\": false, \"textposition\": \"auto\", \"x\": [\"Busan\", \"Chungcheongbuk-do\", \"Chungcheongnam-do\", \"Daegu\", \"Daejeon\", \"Gwangju\", \"Gyeonggi-do\", \"Gyeongsangbuk-do\", \"Gyeongsangnam-do\", \"Incheon\", \"Jeju-do\", \"Jeollabuk-do\", \"Jeollanam-do\", \"Sejong\", \"Seoul\"], \"xaxis\": \"x\", \"y\": [2, 1, 1, 45, 1, 6, 14, 42, 4, 1, 1, 3, 1, 1, 23], \"yaxis\": \"y\", \"type\": \"bar\"}], \"name\": \"32\"}, {\"data\": [{\"alignmentgroup\": \"True\", \"customdata\": [[16, 2, 14, 0], [3, 0, 3, 0], [1, 0, 1, 0], [45, 39, 4, 2], [2, 0, 2, 0], [4, 1, 3, 0], [8, 0, 8, 0], [21, 8, 13, 0], [69, 28, 32, 9], [8, 1, 7, 0], [2, 0, 2, 0], [2, 0, 2, 0], [3, 0, 3, 0], [1, 0, 1, 0], [1, 0, 1, 0], [27, 1, 26, 0], [1, 0, 1, 0]], \"hovertemplate\": \"<b>%{hovertext}</b><br><br>Days=33<br>province=%{x}<br>Confirmed=%{customdata[0]}<br>Isolated=%{customdata[1]}<br>Released=%{customdata[2]}<br>Deceased=%{customdata[3]}<extra></extra>\", \"hovertext\": [\"Busan\", \"Chungcheongbuk-do\", \"Chungcheongnam-do\", \"Daegu\", \"Daejeon\", \"Gangwon-do\", \"Gwangju\", \"Gyeonggi-do\", \"Gyeongsangbuk-do\", \"Gyeongsangnam-do\", \"Incheon\", \"Jeju-do\", \"Jeollabuk-do\", \"Jeollanam-do\", \"Sejong\", \"Seoul\", \"Ulsan\"], \"ids\": [\"Busan\", \"Chungcheongbuk-do\", \"Chungcheongnam-do\", \"Daegu\", \"Daejeon\", \"Gangwon-do\", \"Gwangju\", \"Gyeonggi-do\", \"Gyeongsangbuk-do\", \"Gyeongsangnam-do\", \"Incheon\", \"Jeju-do\", \"Jeollabuk-do\", \"Jeollanam-do\", \"Sejong\", \"Seoul\", \"Ulsan\"], \"legendgroup\": \"\", \"marker\": {\"color\": \"#636efa\", \"opacity\": 0.75}, \"name\": \"\", \"offsetgroup\": \"\", \"orientation\": \"v\", \"showlegend\": false, \"textposition\": \"auto\", \"x\": [\"Busan\", \"Chungcheongbuk-do\", \"Chungcheongnam-do\", \"Daegu\", \"Daejeon\", \"Gangwon-do\", \"Gwangju\", \"Gyeonggi-do\", \"Gyeongsangbuk-do\", \"Gyeongsangnam-do\", \"Incheon\", \"Jeju-do\", \"Jeollabuk-do\", \"Jeollanam-do\", \"Sejong\", \"Seoul\", \"Ulsan\"], \"xaxis\": \"x\", \"y\": [16, 3, 1, 45, 2, 4, 8, 21, 69, 8, 2, 2, 3, 1, 1, 27, 1], \"yaxis\": \"y\", \"type\": \"bar\"}], \"name\": \"33\"}, {\"data\": [{\"alignmentgroup\": \"True\", \"customdata\": [[38, 2, 36, 0], [3, 0, 3, 0], [1, 0, 1, 0], [45, 39, 4, 2], [3, 1, 2, 0], [4, 1, 3, 0], [9, 0, 9, 0], [25, 12, 13, 0], [102, 43, 50, 9], [17, 1, 16, 0], [2, 0, 2, 0], [2, 0, 2, 0], [3, 0, 3, 0], [1, 0, 1, 0], [1, 0, 1, 0], [31, 1, 30, 0], [1, 0, 1, 0]], \"hovertemplate\": \"<b>%{hovertext}</b><br><br>Days=34<br>province=%{x}<br>Confirmed=%{customdata[0]}<br>Isolated=%{customdata[1]}<br>Released=%{customdata[2]}<br>Deceased=%{customdata[3]}<extra></extra>\", \"hovertext\": [\"Busan\", \"Chungcheongbuk-do\", \"Chungcheongnam-do\", \"Daegu\", \"Daejeon\", \"Gangwon-do\", \"Gwangju\", \"Gyeonggi-do\", \"Gyeongsangbuk-do\", \"Gyeongsangnam-do\", \"Incheon\", \"Jeju-do\", \"Jeollabuk-do\", \"Jeollanam-do\", \"Sejong\", \"Seoul\", \"Ulsan\"], \"ids\": [\"Busan\", \"Chungcheongbuk-do\", \"Chungcheongnam-do\", \"Daegu\", \"Daejeon\", \"Gangwon-do\", \"Gwangju\", \"Gyeonggi-do\", \"Gyeongsangbuk-do\", \"Gyeongsangnam-do\", \"Incheon\", \"Jeju-do\", \"Jeollabuk-do\", \"Jeollanam-do\", \"Sejong\", \"Seoul\", \"Ulsan\"], \"legendgroup\": \"\", \"marker\": {\"color\": \"#636efa\", \"opacity\": 0.75}, \"name\": \"\", \"offsetgroup\": \"\", \"orientation\": \"v\", \"showlegend\": false, \"textposition\": \"auto\", \"x\": [\"Busan\", \"Chungcheongbuk-do\", \"Chungcheongnam-do\", \"Daegu\", \"Daejeon\", \"Gangwon-do\", \"Gwangju\", \"Gyeonggi-do\", \"Gyeongsangbuk-do\", \"Gyeongsangnam-do\", \"Incheon\", \"Jeju-do\", \"Jeollabuk-do\", \"Jeollanam-do\", \"Sejong\", \"Seoul\", \"Ulsan\"], \"xaxis\": \"x\", \"y\": [38, 3, 1, 45, 3, 4, 9, 25, 102, 17, 2, 2, 3, 1, 1, 31, 1], \"yaxis\": \"y\", \"type\": \"bar\"}], \"name\": \"34\"}, {\"data\": [{\"alignmentgroup\": \"True\", \"customdata\": [[44, 2, 42, 0], [3, 0, 3, 0], [1, 0, 1, 0], [46, 39, 4, 3], [3, 1, 2, 0], [4, 1, 3, 0], [9, 0, 9, 0], [37, 22, 15, 0], [130, 49, 72, 9], [23, 1, 22, 0], [2, 0, 2, 0], [2, 0, 2, 0], [3, 0, 3, 0], [1, 0, 1, 0], [1, 0, 1, 0], [33, 1, 32, 0], [2, 0, 2, 0]], \"hovertemplate\": \"<b>%{hovertext}</b><br><br>Days=35<br>province=%{x}<br>Confirmed=%{customdata[0]}<br>Isolated=%{customdata[1]}<br>Released=%{customdata[2]}<br>Deceased=%{customdata[3]}<extra></extra>\", \"hovertext\": [\"Busan\", \"Chungcheongbuk-do\", \"Chungcheongnam-do\", \"Daegu\", \"Daejeon\", \"Gangwon-do\", \"Gwangju\", \"Gyeonggi-do\", \"Gyeongsangbuk-do\", \"Gyeongsangnam-do\", \"Incheon\", \"Jeju-do\", \"Jeollabuk-do\", \"Jeollanam-do\", \"Sejong\", \"Seoul\", \"Ulsan\"], \"ids\": [\"Busan\", \"Chungcheongbuk-do\", \"Chungcheongnam-do\", \"Daegu\", \"Daejeon\", \"Gangwon-do\", \"Gwangju\", \"Gyeonggi-do\", \"Gyeongsangbuk-do\", \"Gyeongsangnam-do\", \"Incheon\", \"Jeju-do\", \"Jeollabuk-do\", \"Jeollanam-do\", \"Sejong\", \"Seoul\", \"Ulsan\"], \"legendgroup\": \"\", \"marker\": {\"color\": \"#636efa\", \"opacity\": 0.75}, \"name\": \"\", \"offsetgroup\": \"\", \"orientation\": \"v\", \"showlegend\": false, \"textposition\": \"auto\", \"x\": [\"Busan\", \"Chungcheongbuk-do\", \"Chungcheongnam-do\", \"Daegu\", \"Daejeon\", \"Gangwon-do\", \"Gwangju\", \"Gyeonggi-do\", \"Gyeongsangbuk-do\", \"Gyeongsangnam-do\", \"Incheon\", \"Jeju-do\", \"Jeollabuk-do\", \"Jeollanam-do\", \"Sejong\", \"Seoul\", \"Ulsan\"], \"xaxis\": \"x\", \"y\": [44, 3, 1, 46, 3, 4, 9, 37, 130, 23, 2, 2, 3, 1, 1, 33, 2], \"yaxis\": \"y\", \"type\": \"bar\"}], \"name\": \"35\"}, {\"data\": [{\"alignmentgroup\": \"True\", \"customdata\": [[55, 2, 53, 0], [6, 0, 6, 0], [4, 0, 4, 0], [47, 39, 4, 4], [3, 1, 2, 0], [4, 1, 3, 0], [9, 0, 9, 0], [44, 26, 17, 1], [182, 66, 106, 10], [28, 1, 27, 0], [3, 0, 3, 0], [2, 0, 2, 0], [3, 0, 3, 0], [1, 0, 1, 0], [1, 0, 1, 0], [41, 1, 40, 0], [4, 0, 4, 0]], \"hovertemplate\": \"<b>%{hovertext}</b><br><br>Days=36<br>province=%{x}<br>Confirmed=%{customdata[0]}<br>Isolated=%{customdata[1]}<br>Released=%{customdata[2]}<br>Deceased=%{customdata[3]}<extra></extra>\", \"hovertext\": [\"Busan\", \"Chungcheongbuk-do\", \"Chungcheongnam-do\", \"Daegu\", \"Daejeon\", \"Gangwon-do\", \"Gwangju\", \"Gyeonggi-do\", \"Gyeongsangbuk-do\", \"Gyeongsangnam-do\", \"Incheon\", \"Jeju-do\", \"Jeollabuk-do\", \"Jeollanam-do\", \"Sejong\", \"Seoul\", \"Ulsan\"], \"ids\": [\"Busan\", \"Chungcheongbuk-do\", \"Chungcheongnam-do\", \"Daegu\", \"Daejeon\", \"Gangwon-do\", \"Gwangju\", \"Gyeonggi-do\", \"Gyeongsangbuk-do\", \"Gyeongsangnam-do\", \"Incheon\", \"Jeju-do\", \"Jeollabuk-do\", \"Jeollanam-do\", \"Sejong\", \"Seoul\", \"Ulsan\"], \"legendgroup\": \"\", \"marker\": {\"color\": \"#636efa\", \"opacity\": 0.75}, \"name\": \"\", \"offsetgroup\": \"\", \"orientation\": \"v\", \"showlegend\": false, \"textposition\": \"auto\", \"x\": [\"Busan\", \"Chungcheongbuk-do\", \"Chungcheongnam-do\", \"Daegu\", \"Daejeon\", \"Gangwon-do\", \"Gwangju\", \"Gyeonggi-do\", \"Gyeongsangbuk-do\", \"Gyeongsangnam-do\", \"Incheon\", \"Jeju-do\", \"Jeollabuk-do\", \"Jeollanam-do\", \"Sejong\", \"Seoul\", \"Ulsan\"], \"xaxis\": \"x\", \"y\": [55, 6, 4, 47, 3, 4, 9, 44, 182, 28, 3, 2, 3, 1, 1, 41, 4], \"yaxis\": \"y\", \"type\": \"bar\"}], \"name\": \"36\"}, {\"data\": [{\"alignmentgroup\": \"True\", \"customdata\": [[60, 2, 58, 0], [7, 0, 7, 0], [9, 0, 9, 0], [48, 39, 4, 5], [8, 1, 7, 0], [4, 1, 3, 0], [9, 0, 9, 0], [53, 28, 24, 1], [250, 82, 156, 12], [40, 1, 39, 0], [3, 0, 3, 0], [2, 0, 2, 0], [4, 1, 3, 0], [1, 0, 1, 0], [1, 0, 1, 0], [51, 1, 50, 0], [5, 0, 5, 0]], \"hovertemplate\": \"<b>%{hovertext}</b><br><br>Days=37<br>province=%{x}<br>Confirmed=%{customdata[0]}<br>Isolated=%{customdata[1]}<br>Released=%{customdata[2]}<br>Deceased=%{customdata[3]}<extra></extra>\", \"hovertext\": [\"Busan\", \"Chungcheongbuk-do\", \"Chungcheongnam-do\", \"Daegu\", \"Daejeon\", \"Gangwon-do\", \"Gwangju\", \"Gyeonggi-do\", \"Gyeongsangbuk-do\", \"Gyeongsangnam-do\", \"Incheon\", \"Jeju-do\", \"Jeollabuk-do\", \"Jeollanam-do\", \"Sejong\", \"Seoul\", \"Ulsan\"], \"ids\": [\"Busan\", \"Chungcheongbuk-do\", \"Chungcheongnam-do\", \"Daegu\", \"Daejeon\", \"Gangwon-do\", \"Gwangju\", \"Gyeonggi-do\", \"Gyeongsangbuk-do\", \"Gyeongsangnam-do\", \"Incheon\", \"Jeju-do\", \"Jeollabuk-do\", \"Jeollanam-do\", \"Sejong\", \"Seoul\", \"Ulsan\"], \"legendgroup\": \"\", \"marker\": {\"color\": \"#636efa\", \"opacity\": 0.75}, \"name\": \"\", \"offsetgroup\": \"\", \"orientation\": \"v\", \"showlegend\": false, \"textposition\": \"auto\", \"x\": [\"Busan\", \"Chungcheongbuk-do\", \"Chungcheongnam-do\", \"Daegu\", \"Daejeon\", \"Gangwon-do\", \"Gwangju\", \"Gyeonggi-do\", \"Gyeongsangbuk-do\", \"Gyeongsangnam-do\", \"Incheon\", \"Jeju-do\", \"Jeollabuk-do\", \"Jeollanam-do\", \"Sejong\", \"Seoul\", \"Ulsan\"], \"xaxis\": \"x\", \"y\": [60, 7, 9, 48, 8, 4, 9, 53, 250, 40, 3, 2, 4, 1, 1, 51, 5], \"yaxis\": \"y\", \"type\": \"bar\"}], \"name\": \"37\"}, {\"data\": [{\"alignmentgroup\": \"True\", \"customdata\": [[66, 2, 64, 0], [10, 0, 10, 0], [18, 0, 18, 0], [50, 39, 4, 7], [9, 1, 8, 0], [5, 1, 4, 0], [9, 0, 9, 0], [63, 32, 30, 1], [302, 102, 188, 12], [45, 1, 44, 0], [3, 0, 3, 0], [2, 0, 2, 0], [5, 2, 3, 0], [1, 0, 1, 0], [1, 0, 1, 0], [69, 1, 68, 0], [10, 0, 10, 0]], \"hovertemplate\": \"<b>%{hovertext}</b><br><br>Days=38<br>province=%{x}<br>Confirmed=%{customdata[0]}<br>Isolated=%{customdata[1]}<br>Released=%{customdata[2]}<br>Deceased=%{customdata[3]}<extra></extra>\", \"hovertext\": [\"Busan\", \"Chungcheongbuk-do\", \"Chungcheongnam-do\", \"Daegu\", \"Daejeon\", \"Gangwon-do\", \"Gwangju\", \"Gyeonggi-do\", \"Gyeongsangbuk-do\", \"Gyeongsangnam-do\", \"Incheon\", \"Jeju-do\", \"Jeollabuk-do\", \"Jeollanam-do\", \"Sejong\", \"Seoul\", \"Ulsan\"], \"ids\": [\"Busan\", \"Chungcheongbuk-do\", \"Chungcheongnam-do\", \"Daegu\", \"Daejeon\", \"Gangwon-do\", \"Gwangju\", \"Gyeonggi-do\", \"Gyeongsangbuk-do\", \"Gyeongsangnam-do\", \"Incheon\", \"Jeju-do\", \"Jeollabuk-do\", \"Jeollanam-do\", \"Sejong\", \"Seoul\", \"Ulsan\"], \"legendgroup\": \"\", \"marker\": {\"color\": \"#636efa\", \"opacity\": 0.75}, \"name\": \"\", \"offsetgroup\": \"\", \"orientation\": \"v\", \"showlegend\": false, \"textposition\": \"auto\", \"x\": [\"Busan\", \"Chungcheongbuk-do\", \"Chungcheongnam-do\", \"Daegu\", \"Daejeon\", \"Gangwon-do\", \"Gwangju\", \"Gyeonggi-do\", \"Gyeongsangbuk-do\", \"Gyeongsangnam-do\", \"Incheon\", \"Jeju-do\", \"Jeollabuk-do\", \"Jeollanam-do\", \"Sejong\", \"Seoul\", \"Ulsan\"], \"xaxis\": \"x\", \"y\": [66, 10, 18, 50, 9, 5, 9, 63, 302, 45, 3, 2, 5, 1, 1, 69, 10], \"yaxis\": \"y\", \"type\": \"bar\"}], \"name\": \"38\"}, {\"data\": [{\"alignmentgroup\": \"True\", \"customdata\": [[71, 2, 68, 1], [10, 0, 10, 0], [45, 1, 44, 0], [53, 39, 4, 10], [12, 1, 11, 0], [5, 1, 4, 0], [9, 0, 9, 0], [74, 39, 34, 1], [360, 126, 220, 14], [57, 1, 56, 0], [6, 1, 5, 0], [2, 0, 2, 0], [5, 2, 3, 0], [2, 1, 1, 0], [1, 0, 1, 0], [76, 1, 75, 0], [16, 0, 15, 1]], \"hovertemplate\": \"<b>%{hovertext}</b><br><br>Days=39<br>province=%{x}<br>Confirmed=%{customdata[0]}<br>Isolated=%{customdata[1]}<br>Released=%{customdata[2]}<br>Deceased=%{customdata[3]}<extra></extra>\", \"hovertext\": [\"Busan\", \"Chungcheongbuk-do\", \"Chungcheongnam-do\", \"Daegu\", \"Daejeon\", \"Gangwon-do\", \"Gwangju\", \"Gyeonggi-do\", \"Gyeongsangbuk-do\", \"Gyeongsangnam-do\", \"Incheon\", \"Jeju-do\", \"Jeollabuk-do\", \"Jeollanam-do\", \"Sejong\", \"Seoul\", \"Ulsan\"], \"ids\": [\"Busan\", \"Chungcheongbuk-do\", \"Chungcheongnam-do\", \"Daegu\", \"Daejeon\", \"Gangwon-do\", \"Gwangju\", \"Gyeonggi-do\", \"Gyeongsangbuk-do\", \"Gyeongsangnam-do\", \"Incheon\", \"Jeju-do\", \"Jeollabuk-do\", \"Jeollanam-do\", \"Sejong\", \"Seoul\", \"Ulsan\"], \"legendgroup\": \"\", \"marker\": {\"color\": \"#636efa\", \"opacity\": 0.75}, \"name\": \"\", \"offsetgroup\": \"\", \"orientation\": \"v\", \"showlegend\": false, \"textposition\": \"auto\", \"x\": [\"Busan\", \"Chungcheongbuk-do\", \"Chungcheongnam-do\", \"Daegu\", \"Daejeon\", \"Gangwon-do\", \"Gwangju\", \"Gyeonggi-do\", \"Gyeongsangbuk-do\", \"Gyeongsangnam-do\", \"Incheon\", \"Jeju-do\", \"Jeollabuk-do\", \"Jeollanam-do\", \"Sejong\", \"Seoul\", \"Ulsan\"], \"xaxis\": \"x\", \"y\": [71, 10, 45, 53, 12, 5, 9, 74, 360, 57, 6, 2, 5, 2, 1, 76, 16], \"yaxis\": \"y\", \"type\": \"bar\"}], \"name\": \"39\"}, {\"data\": [{\"alignmentgroup\": \"True\", \"customdata\": [[76, 2, 73, 1], [11, 0, 11, 0], [62, 1, 61, 0], [56, 39, 4, 13], [12, 1, 11, 0], [6, 1, 5, 0], [9, 0, 9, 0], [84, 45, 38, 1], [411, 136, 261, 14], [58, 1, 57, 0], [6, 1, 5, 0], [2, 0, 2, 0], [6, 3, 3, 0], [3, 1, 2, 0], [1, 0, 1, 0], [86, 1, 85, 0], [16, 0, 15, 1]], \"hovertemplate\": \"<b>%{hovertext}</b><br><br>Days=40<br>province=%{x}<br>Confirmed=%{customdata[0]}<br>Isolated=%{customdata[1]}<br>Released=%{customdata[2]}<br>Deceased=%{customdata[3]}<extra></extra>\", \"hovertext\": [\"Busan\", \"Chungcheongbuk-do\", \"Chungcheongnam-do\", \"Daegu\", \"Daejeon\", \"Gangwon-do\", \"Gwangju\", \"Gyeonggi-do\", \"Gyeongsangbuk-do\", \"Gyeongsangnam-do\", \"Incheon\", \"Jeju-do\", \"Jeollabuk-do\", \"Jeollanam-do\", \"Sejong\", \"Seoul\", \"Ulsan\"], \"ids\": [\"Busan\", \"Chungcheongbuk-do\", \"Chungcheongnam-do\", \"Daegu\", \"Daejeon\", \"Gangwon-do\", \"Gwangju\", \"Gyeonggi-do\", \"Gyeongsangbuk-do\", \"Gyeongsangnam-do\", \"Incheon\", \"Jeju-do\", \"Jeollabuk-do\", \"Jeollanam-do\", \"Sejong\", \"Seoul\", \"Ulsan\"], \"legendgroup\": \"\", \"marker\": {\"color\": \"#636efa\", \"opacity\": 0.75}, \"name\": \"\", \"offsetgroup\": \"\", \"orientation\": \"v\", \"showlegend\": false, \"textposition\": \"auto\", \"x\": [\"Busan\", \"Chungcheongbuk-do\", \"Chungcheongnam-do\", \"Daegu\", \"Daejeon\", \"Gangwon-do\", \"Gwangju\", \"Gyeonggi-do\", \"Gyeongsangbuk-do\", \"Gyeongsangnam-do\", \"Incheon\", \"Jeju-do\", \"Jeollabuk-do\", \"Jeollanam-do\", \"Sejong\", \"Seoul\", \"Ulsan\"], \"xaxis\": \"x\", \"y\": [76, 11, 62, 56, 12, 6, 9, 84, 411, 58, 6, 2, 6, 3, 1, 86, 16], \"yaxis\": \"y\", \"type\": \"bar\"}], \"name\": \"40\"}, {\"data\": [{\"alignmentgroup\": \"True\", \"customdata\": [[79, 2, 76, 1], [11, 0, 11, 0], [76, 1, 75, 0], [61, 39, 4, 18], [13, 1, 12, 0], [16, 1, 15, 0], [9, 0, 9, 0], [93, 50, 42, 1], [488, 146, 328, 14], [60, 1, 59, 0], [7, 1, 6, 0], [2, 0, 2, 0], [6, 3, 3, 0], [4, 1, 3, 0], [1, 0, 1, 0], [93, 2, 91, 0], [19, 0, 18, 1]], \"hovertemplate\": \"<b>%{hovertext}</b><br><br>Days=41<br>province=%{x}<br>Confirmed=%{customdata[0]}<br>Isolated=%{customdata[1]}<br>Released=%{customdata[2]}<br>Deceased=%{customdata[3]}<extra></extra>\", \"hovertext\": [\"Busan\", \"Chungcheongbuk-do\", \"Chungcheongnam-do\", \"Daegu\", \"Daejeon\", \"Gangwon-do\", \"Gwangju\", \"Gyeonggi-do\", \"Gyeongsangbuk-do\", \"Gyeongsangnam-do\", \"Incheon\", \"Jeju-do\", \"Jeollabuk-do\", \"Jeollanam-do\", \"Sejong\", \"Seoul\", \"Ulsan\"], \"ids\": [\"Busan\", \"Chungcheongbuk-do\", \"Chungcheongnam-do\", \"Daegu\", \"Daejeon\", \"Gangwon-do\", \"Gwangju\", \"Gyeonggi-do\", \"Gyeongsangbuk-do\", \"Gyeongsangnam-do\", \"Incheon\", \"Jeju-do\", \"Jeollabuk-do\", \"Jeollanam-do\", \"Sejong\", \"Seoul\", \"Ulsan\"], \"legendgroup\": \"\", \"marker\": {\"color\": \"#636efa\", \"opacity\": 0.75}, \"name\": \"\", \"offsetgroup\": \"\", \"orientation\": \"v\", \"showlegend\": false, \"textposition\": \"auto\", \"x\": [\"Busan\", \"Chungcheongbuk-do\", \"Chungcheongnam-do\", \"Daegu\", \"Daejeon\", \"Gangwon-do\", \"Gwangju\", \"Gyeonggi-do\", \"Gyeongsangbuk-do\", \"Gyeongsangnam-do\", \"Incheon\", \"Jeju-do\", \"Jeollabuk-do\", \"Jeollanam-do\", \"Sejong\", \"Seoul\", \"Ulsan\"], \"xaxis\": \"x\", \"y\": [79, 11, 76, 61, 13, 16, 9, 93, 488, 60, 7, 2, 6, 4, 1, 93, 19], \"yaxis\": \"y\", \"type\": \"bar\"}], \"name\": \"41\"}, {\"data\": [{\"alignmentgroup\": \"True\", \"customdata\": [[80, 2, 77, 1], [11, 0, 11, 0], [79, 1, 78, 0], [61, 39, 4, 18], [13, 1, 12, 0], [18, 1, 17, 0], [12, 0, 12, 0], [95, 51, 43, 1], [536, 149, 372, 15], [61, 1, 60, 0], [7, 1, 6, 0], [3, 0, 3, 0], [7, 3, 4, 0], [4, 1, 3, 0], [1, 0, 1, 0], [99, 2, 97, 0], [19, 0, 18, 1]], \"hovertemplate\": \"<b>%{hovertext}</b><br><br>Days=42<br>province=%{x}<br>Confirmed=%{customdata[0]}<br>Isolated=%{customdata[1]}<br>Released=%{customdata[2]}<br>Deceased=%{customdata[3]}<extra></extra>\", \"hovertext\": [\"Busan\", \"Chungcheongbuk-do\", \"Chungcheongnam-do\", \"Daegu\", \"Daejeon\", \"Gangwon-do\", \"Gwangju\", \"Gyeonggi-do\", \"Gyeongsangbuk-do\", \"Gyeongsangnam-do\", \"Incheon\", \"Jeju-do\", \"Jeollabuk-do\", \"Jeollanam-do\", \"Sejong\", \"Seoul\", \"Ulsan\"], \"ids\": [\"Busan\", \"Chungcheongbuk-do\", \"Chungcheongnam-do\", \"Daegu\", \"Daejeon\", \"Gangwon-do\", \"Gwangju\", \"Gyeonggi-do\", \"Gyeongsangbuk-do\", \"Gyeongsangnam-do\", \"Incheon\", \"Jeju-do\", \"Jeollabuk-do\", \"Jeollanam-do\", \"Sejong\", \"Seoul\", \"Ulsan\"], \"legendgroup\": \"\", \"marker\": {\"color\": \"#636efa\", \"opacity\": 0.75}, \"name\": \"\", \"offsetgroup\": \"\", \"orientation\": \"v\", \"showlegend\": false, \"textposition\": \"auto\", \"x\": [\"Busan\", \"Chungcheongbuk-do\", \"Chungcheongnam-do\", \"Daegu\", \"Daejeon\", \"Gangwon-do\", \"Gwangju\", \"Gyeonggi-do\", \"Gyeongsangbuk-do\", \"Gyeongsangnam-do\", \"Incheon\", \"Jeju-do\", \"Jeollabuk-do\", \"Jeollanam-do\", \"Sejong\", \"Seoul\", \"Ulsan\"], \"xaxis\": \"x\", \"y\": [80, 11, 79, 61, 13, 18, 12, 95, 536, 61, 7, 3, 7, 4, 1, 99, 19], \"yaxis\": \"y\", \"type\": \"bar\"}], \"name\": \"42\"}, {\"data\": [{\"alignmentgroup\": \"True\", \"customdata\": [[83, 2, 80, 1], [11, 0, 11, 0], [81, 1, 80, 0], [61, 39, 4, 18], [14, 1, 13, 0], [19, 2, 17, 0], [12, 0, 12, 0], [103, 57, 45, 1], [627, 154, 457, 16], [63, 1, 62, 0], [9, 1, 8, 0], [3, 0, 3, 0], [7, 3, 4, 0], [4, 1, 3, 0], [1, 0, 1, 0], [99, 2, 97, 0], [21, 0, 20, 1]], \"hovertemplate\": \"<b>%{hovertext}</b><br><br>Days=43<br>province=%{x}<br>Confirmed=%{customdata[0]}<br>Isolated=%{customdata[1]}<br>Released=%{customdata[2]}<br>Deceased=%{customdata[3]}<extra></extra>\", \"hovertext\": [\"Busan\", \"Chungcheongbuk-do\", \"Chungcheongnam-do\", \"Daegu\", \"Daejeon\", \"Gangwon-do\", \"Gwangju\", \"Gyeonggi-do\", \"Gyeongsangbuk-do\", \"Gyeongsangnam-do\", \"Incheon\", \"Jeju-do\", \"Jeollabuk-do\", \"Jeollanam-do\", \"Sejong\", \"Seoul\", \"Ulsan\"], \"ids\": [\"Busan\", \"Chungcheongbuk-do\", \"Chungcheongnam-do\", \"Daegu\", \"Daejeon\", \"Gangwon-do\", \"Gwangju\", \"Gyeonggi-do\", \"Gyeongsangbuk-do\", \"Gyeongsangnam-do\", \"Incheon\", \"Jeju-do\", \"Jeollabuk-do\", \"Jeollanam-do\", \"Sejong\", \"Seoul\", \"Ulsan\"], \"legendgroup\": \"\", \"marker\": {\"color\": \"#636efa\", \"opacity\": 0.75}, \"name\": \"\", \"offsetgroup\": \"\", \"orientation\": \"v\", \"showlegend\": false, \"textposition\": \"auto\", \"x\": [\"Busan\", \"Chungcheongbuk-do\", \"Chungcheongnam-do\", \"Daegu\", \"Daejeon\", \"Gangwon-do\", \"Gwangju\", \"Gyeonggi-do\", \"Gyeongsangbuk-do\", \"Gyeongsangnam-do\", \"Incheon\", \"Jeju-do\", \"Jeollabuk-do\", \"Jeollanam-do\", \"Sejong\", \"Seoul\", \"Ulsan\"], \"xaxis\": \"x\", \"y\": [83, 11, 81, 61, 14, 19, 12, 103, 627, 63, 9, 3, 7, 4, 1, 99, 21], \"yaxis\": \"y\", \"type\": \"bar\"}], \"name\": \"43\"}, {\"data\": [{\"alignmentgroup\": \"True\", \"customdata\": [[84, 2, 81, 1], [12, 0, 12, 0], [84, 1, 83, 0], [61, 39, 4, 18], [17, 1, 16, 0], [23, 3, 19, 1], [13, 0, 13, 0], [110, 63, 46, 1], [709, 169, 523, 17], [71, 2, 69, 0], [9, 1, 8, 0], [4, 0, 4, 0], [7, 3, 4, 0], [4, 1, 3, 0], [1, 0, 1, 0], [104, 3, 101, 0], [21, 0, 20, 1]], \"hovertemplate\": \"<b>%{hovertext}</b><br><br>Days=44<br>province=%{x}<br>Confirmed=%{customdata[0]}<br>Isolated=%{customdata[1]}<br>Released=%{customdata[2]}<br>Deceased=%{customdata[3]}<extra></extra>\", \"hovertext\": [\"Busan\", \"Chungcheongbuk-do\", \"Chungcheongnam-do\", \"Daegu\", \"Daejeon\", \"Gangwon-do\", \"Gwangju\", \"Gyeonggi-do\", \"Gyeongsangbuk-do\", \"Gyeongsangnam-do\", \"Incheon\", \"Jeju-do\", \"Jeollabuk-do\", \"Jeollanam-do\", \"Sejong\", \"Seoul\", \"Ulsan\"], \"ids\": [\"Busan\", \"Chungcheongbuk-do\", \"Chungcheongnam-do\", \"Daegu\", \"Daejeon\", \"Gangwon-do\", \"Gwangju\", \"Gyeonggi-do\", \"Gyeongsangbuk-do\", \"Gyeongsangnam-do\", \"Incheon\", \"Jeju-do\", \"Jeollabuk-do\", \"Jeollanam-do\", \"Sejong\", \"Seoul\", \"Ulsan\"], \"legendgroup\": \"\", \"marker\": {\"color\": \"#636efa\", \"opacity\": 0.75}, \"name\": \"\", \"offsetgroup\": \"\", \"orientation\": \"v\", \"showlegend\": false, \"textposition\": \"auto\", \"x\": [\"Busan\", \"Chungcheongbuk-do\", \"Chungcheongnam-do\", \"Daegu\", \"Daejeon\", \"Gangwon-do\", \"Gwangju\", \"Gyeonggi-do\", \"Gyeongsangbuk-do\", \"Gyeongsangnam-do\", \"Incheon\", \"Jeju-do\", \"Jeollabuk-do\", \"Jeollanam-do\", \"Sejong\", \"Seoul\", \"Ulsan\"], \"xaxis\": \"x\", \"y\": [84, 12, 84, 61, 17, 23, 13, 110, 709, 71, 9, 4, 7, 4, 1, 104, 21], \"yaxis\": \"y\", \"type\": \"bar\"}], \"name\": \"44\"}, {\"data\": [{\"alignmentgroup\": \"True\", \"customdata\": [[85, 2, 82, 1], [15, 1, 14, 0], [89, 1, 88, 0], [62, 39, 4, 19], [17, 1, 16, 0], [24, 3, 20, 1], [13, 0, 13, 0], [120, 72, 47, 1], [827, 223, 586, 18], [75, 2, 73, 0], [9, 1, 8, 0], [4, 0, 4, 0], [7, 3, 4, 0], [4, 1, 3, 0], [1, 0, 1, 0], [106, 3, 103, 0], [21, 0, 20, 1]], \"hovertemplate\": \"<b>%{hovertext}</b><br><br>Days=45<br>province=%{x}<br>Confirmed=%{customdata[0]}<br>Isolated=%{customdata[1]}<br>Released=%{customdata[2]}<br>Deceased=%{customdata[3]}<extra></extra>\", \"hovertext\": [\"Busan\", \"Chungcheongbuk-do\", \"Chungcheongnam-do\", \"Daegu\", \"Daejeon\", \"Gangwon-do\", \"Gwangju\", \"Gyeonggi-do\", \"Gyeongsangbuk-do\", \"Gyeongsangnam-do\", \"Incheon\", \"Jeju-do\", \"Jeollabuk-do\", \"Jeollanam-do\", \"Sejong\", \"Seoul\", \"Ulsan\"], \"ids\": [\"Busan\", \"Chungcheongbuk-do\", \"Chungcheongnam-do\", \"Daegu\", \"Daejeon\", \"Gangwon-do\", \"Gwangju\", \"Gyeonggi-do\", \"Gyeongsangbuk-do\", \"Gyeongsangnam-do\", \"Incheon\", \"Jeju-do\", \"Jeollabuk-do\", \"Jeollanam-do\", \"Sejong\", \"Seoul\", \"Ulsan\"], \"legendgroup\": \"\", \"marker\": {\"color\": \"#636efa\", \"opacity\": 0.75}, \"name\": \"\", \"offsetgroup\": \"\", \"orientation\": \"v\", \"showlegend\": false, \"textposition\": \"auto\", \"x\": [\"Busan\", \"Chungcheongbuk-do\", \"Chungcheongnam-do\", \"Daegu\", \"Daejeon\", \"Gangwon-do\", \"Gwangju\", \"Gyeonggi-do\", \"Gyeongsangbuk-do\", \"Gyeongsangnam-do\", \"Incheon\", \"Jeju-do\", \"Jeollabuk-do\", \"Jeollanam-do\", \"Sejong\", \"Seoul\", \"Ulsan\"], \"xaxis\": \"x\", \"y\": [85, 15, 89, 62, 17, 24, 13, 120, 827, 75, 9, 4, 7, 4, 1, 106, 21], \"yaxis\": \"y\", \"type\": \"bar\"}], \"name\": \"45\"}, {\"data\": [{\"alignmentgroup\": \"True\", \"customdata\": [[88, 2, 85, 1], [20, 2, 18, 0], [92, 2, 90, 0], [62, 39, 4, 19], [17, 1, 16, 0], [24, 3, 20, 1], [13, 0, 13, 0], [131, 83, 47, 1], [894, 234, 640, 20], [78, 2, 76, 0], [9, 1, 8, 0], [4, 0, 4, 0], [7, 3, 4, 0], [4, 1, 3, 0], [1, 0, 1, 0], [113, 3, 110, 0], [21, 0, 20, 1]], \"hovertemplate\": \"<b>%{hovertext}</b><br><br>Days=46<br>province=%{x}<br>Confirmed=%{customdata[0]}<br>Isolated=%{customdata[1]}<br>Released=%{customdata[2]}<br>Deceased=%{customdata[3]}<extra></extra>\", \"hovertext\": [\"Busan\", \"Chungcheongbuk-do\", \"Chungcheongnam-do\", \"Daegu\", \"Daejeon\", \"Gangwon-do\", \"Gwangju\", \"Gyeonggi-do\", \"Gyeongsangbuk-do\", \"Gyeongsangnam-do\", \"Incheon\", \"Jeju-do\", \"Jeollabuk-do\", \"Jeollanam-do\", \"Sejong\", \"Seoul\", \"Ulsan\"], \"ids\": [\"Busan\", \"Chungcheongbuk-do\", \"Chungcheongnam-do\", \"Daegu\", \"Daejeon\", \"Gangwon-do\", \"Gwangju\", \"Gyeonggi-do\", \"Gyeongsangbuk-do\", \"Gyeongsangnam-do\", \"Incheon\", \"Jeju-do\", \"Jeollabuk-do\", \"Jeollanam-do\", \"Sejong\", \"Seoul\", \"Ulsan\"], \"legendgroup\": \"\", \"marker\": {\"color\": \"#636efa\", \"opacity\": 0.75}, \"name\": \"\", \"offsetgroup\": \"\", \"orientation\": \"v\", \"showlegend\": false, \"textposition\": \"auto\", \"x\": [\"Busan\", \"Chungcheongbuk-do\", \"Chungcheongnam-do\", \"Daegu\", \"Daejeon\", \"Gangwon-do\", \"Gwangju\", \"Gyeonggi-do\", \"Gyeongsangbuk-do\", \"Gyeongsangnam-do\", \"Incheon\", \"Jeju-do\", \"Jeollabuk-do\", \"Jeollanam-do\", \"Sejong\", \"Seoul\", \"Ulsan\"], \"xaxis\": \"x\", \"y\": [88, 20, 92, 62, 17, 24, 13, 131, 894, 78, 9, 4, 7, 4, 1, 113, 21], \"yaxis\": \"y\", \"type\": \"bar\"}], \"name\": \"46\"}, {\"data\": [{\"alignmentgroup\": \"True\", \"customdata\": [[89, 2, 86, 1], [24, 2, 22, 0], [96, 2, 94, 0], [62, 39, 4, 19], [17, 1, 16, 0], [25, 3, 21, 1], [14, 0, 14, 0], [141, 93, 47, 1], [920, 240, 658, 22], [79, 2, 77, 0], [9, 1, 8, 0], [4, 0, 4, 0], [7, 3, 4, 0], [4, 1, 3, 0], [2, 0, 2, 0], [120, 3, 116, 1], [22, 0, 21, 1]], \"hovertemplate\": \"<b>%{hovertext}</b><br><br>Days=47<br>province=%{x}<br>Confirmed=%{customdata[0]}<br>Isolated=%{customdata[1]}<br>Released=%{customdata[2]}<br>Deceased=%{customdata[3]}<extra></extra>\", \"hovertext\": [\"Busan\", \"Chungcheongbuk-do\", \"Chungcheongnam-do\", \"Daegu\", \"Daejeon\", \"Gangwon-do\", \"Gwangju\", \"Gyeonggi-do\", \"Gyeongsangbuk-do\", \"Gyeongsangnam-do\", \"Incheon\", \"Jeju-do\", \"Jeollabuk-do\", \"Jeollanam-do\", \"Sejong\", \"Seoul\", \"Ulsan\"], \"ids\": [\"Busan\", \"Chungcheongbuk-do\", \"Chungcheongnam-do\", \"Daegu\", \"Daejeon\", \"Gangwon-do\", \"Gwangju\", \"Gyeonggi-do\", \"Gyeongsangbuk-do\", \"Gyeongsangnam-do\", \"Incheon\", \"Jeju-do\", \"Jeollabuk-do\", \"Jeollanam-do\", \"Sejong\", \"Seoul\", \"Ulsan\"], \"legendgroup\": \"\", \"marker\": {\"color\": \"#636efa\", \"opacity\": 0.75}, \"name\": \"\", \"offsetgroup\": \"\", \"orientation\": \"v\", \"showlegend\": false, \"textposition\": \"auto\", \"x\": [\"Busan\", \"Chungcheongbuk-do\", \"Chungcheongnam-do\", \"Daegu\", \"Daejeon\", \"Gangwon-do\", \"Gwangju\", \"Gyeonggi-do\", \"Gyeongsangbuk-do\", \"Gyeongsangnam-do\", \"Incheon\", \"Jeju-do\", \"Jeollabuk-do\", \"Jeollanam-do\", \"Sejong\", \"Seoul\", \"Ulsan\"], \"xaxis\": \"x\", \"y\": [89, 24, 96, 62, 17, 25, 14, 141, 920, 79, 9, 4, 7, 4, 2, 120, 22], \"yaxis\": \"y\", \"type\": \"bar\"}], \"name\": \"47\"}, {\"data\": [{\"alignmentgroup\": \"True\", \"customdata\": [[89, 2, 86, 1], [25, 2, 23, 0], [100, 2, 98, 0], [63, 39, 4, 20], [17, 1, 16, 0], [26, 4, 21, 1], [15, 0, 15, 0], [153, 103, 49, 1], [942, 243, 677, 22], [79, 2, 77, 0], [9, 1, 8, 0], [4, 0, 4, 0], [7, 3, 4, 0], [4, 1, 3, 0], [4, 0, 4, 0], [130, 3, 126, 1], [22, 0, 21, 1]], \"hovertemplate\": \"<b>%{hovertext}</b><br><br>Days=48<br>province=%{x}<br>Confirmed=%{customdata[0]}<br>Isolated=%{customdata[1]}<br>Released=%{customdata[2]}<br>Deceased=%{customdata[3]}<extra></extra>\", \"hovertext\": [\"Busan\", \"Chungcheongbuk-do\", \"Chungcheongnam-do\", \"Daegu\", \"Daejeon\", \"Gangwon-do\", \"Gwangju\", \"Gyeonggi-do\", \"Gyeongsangbuk-do\", \"Gyeongsangnam-do\", \"Incheon\", \"Jeju-do\", \"Jeollabuk-do\", \"Jeollanam-do\", \"Sejong\", \"Seoul\", \"Ulsan\"], \"ids\": [\"Busan\", \"Chungcheongbuk-do\", \"Chungcheongnam-do\", \"Daegu\", \"Daejeon\", \"Gangwon-do\", \"Gwangju\", \"Gyeonggi-do\", \"Gyeongsangbuk-do\", \"Gyeongsangnam-do\", \"Incheon\", \"Jeju-do\", \"Jeollabuk-do\", \"Jeollanam-do\", \"Sejong\", \"Seoul\", \"Ulsan\"], \"legendgroup\": \"\", \"marker\": {\"color\": \"#636efa\", \"opacity\": 0.75}, \"name\": \"\", \"offsetgroup\": \"\", \"orientation\": \"v\", \"showlegend\": false, \"textposition\": \"auto\", \"x\": [\"Busan\", \"Chungcheongbuk-do\", \"Chungcheongnam-do\", \"Daegu\", \"Daejeon\", \"Gangwon-do\", \"Gwangju\", \"Gyeonggi-do\", \"Gyeongsangbuk-do\", \"Gyeongsangnam-do\", \"Incheon\", \"Jeju-do\", \"Jeollabuk-do\", \"Jeollanam-do\", \"Sejong\", \"Seoul\", \"Ulsan\"], \"xaxis\": \"x\", \"y\": [89, 25, 100, 63, 17, 26, 15, 153, 942, 79, 9, 4, 7, 4, 4, 130, 22], \"yaxis\": \"y\", \"type\": \"bar\"}], \"name\": \"48\"}, {\"data\": [{\"alignmentgroup\": \"True\", \"customdata\": [[89, 2, 86, 1], [26, 2, 24, 0], [102, 2, 100, 0], [63, 39, 4, 20], [17, 1, 16, 0], [26, 4, 21, 1], [15, 0, 15, 0], [165, 114, 50, 1], [955, 246, 687, 22], [79, 2, 77, 0], [22, 4, 18, 0], [4, 0, 4, 0], [7, 3, 4, 0], [4, 1, 3, 0], [6, 0, 6, 0], [156, 8, 147, 1], [22, 0, 21, 1]], \"hovertemplate\": \"<b>%{hovertext}</b><br><br>Days=49<br>province=%{x}<br>Confirmed=%{customdata[0]}<br>Isolated=%{customdata[1]}<br>Released=%{customdata[2]}<br>Deceased=%{customdata[3]}<extra></extra>\", \"hovertext\": [\"Busan\", \"Chungcheongbuk-do\", \"Chungcheongnam-do\", \"Daegu\", \"Daejeon\", \"Gangwon-do\", \"Gwangju\", \"Gyeonggi-do\", \"Gyeongsangbuk-do\", \"Gyeongsangnam-do\", \"Incheon\", \"Jeju-do\", \"Jeollabuk-do\", \"Jeollanam-do\", \"Sejong\", \"Seoul\", \"Ulsan\"], \"ids\": [\"Busan\", \"Chungcheongbuk-do\", \"Chungcheongnam-do\", \"Daegu\", \"Daejeon\", \"Gangwon-do\", \"Gwangju\", \"Gyeonggi-do\", \"Gyeongsangbuk-do\", \"Gyeongsangnam-do\", \"Incheon\", \"Jeju-do\", \"Jeollabuk-do\", \"Jeollanam-do\", \"Sejong\", \"Seoul\", \"Ulsan\"], \"legendgroup\": \"\", \"marker\": {\"color\": \"#636efa\", \"opacity\": 0.75}, \"name\": \"\", \"offsetgroup\": \"\", \"orientation\": \"v\", \"showlegend\": false, \"textposition\": \"auto\", \"x\": [\"Busan\", \"Chungcheongbuk-do\", \"Chungcheongnam-do\", \"Daegu\", \"Daejeon\", \"Gangwon-do\", \"Gwangju\", \"Gyeonggi-do\", \"Gyeongsangbuk-do\", \"Gyeongsangnam-do\", \"Incheon\", \"Jeju-do\", \"Jeollabuk-do\", \"Jeollanam-do\", \"Sejong\", \"Seoul\", \"Ulsan\"], \"xaxis\": \"x\", \"y\": [89, 26, 102, 63, 17, 26, 15, 165, 955, 79, 22, 4, 7, 4, 6, 156, 22], \"yaxis\": \"y\", \"type\": \"bar\"}], \"name\": \"49\"}, {\"data\": [{\"alignmentgroup\": \"True\", \"customdata\": [[91, 2, 88, 1], [27, 2, 25, 0], [112, 2, 110, 0], [63, 39, 4, 20], [17, 1, 16, 0], [27, 4, 22, 1], [15, 0, 15, 0], [175, 123, 51, 1], [969, 251, 694, 24], [80, 2, 78, 0], [25, 4, 21, 0], [4, 0, 4, 0], [7, 3, 4, 0], [4, 1, 3, 0], [12, 1, 11, 0], [202, 11, 190, 1], [23, 0, 22, 1]], \"hovertemplate\": \"<b>%{hovertext}</b><br><br>Days=50<br>province=%{x}<br>Confirmed=%{customdata[0]}<br>Isolated=%{customdata[1]}<br>Released=%{customdata[2]}<br>Deceased=%{customdata[3]}<extra></extra>\", \"hovertext\": [\"Busan\", \"Chungcheongbuk-do\", \"Chungcheongnam-do\", \"Daegu\", \"Daejeon\", \"Gangwon-do\", \"Gwangju\", \"Gyeonggi-do\", \"Gyeongsangbuk-do\", \"Gyeongsangnam-do\", \"Incheon\", \"Jeju-do\", \"Jeollabuk-do\", \"Jeollanam-do\", \"Sejong\", \"Seoul\", \"Ulsan\"], \"ids\": [\"Busan\", \"Chungcheongbuk-do\", \"Chungcheongnam-do\", \"Daegu\", \"Daejeon\", \"Gangwon-do\", \"Gwangju\", \"Gyeonggi-do\", \"Gyeongsangbuk-do\", \"Gyeongsangnam-do\", \"Incheon\", \"Jeju-do\", \"Jeollabuk-do\", \"Jeollanam-do\", \"Sejong\", \"Seoul\", \"Ulsan\"], \"legendgroup\": \"\", \"marker\": {\"color\": \"#636efa\", \"opacity\": 0.75}, \"name\": \"\", \"offsetgroup\": \"\", \"orientation\": \"v\", \"showlegend\": false, \"textposition\": \"auto\", \"x\": [\"Busan\", \"Chungcheongbuk-do\", \"Chungcheongnam-do\", \"Daegu\", \"Daejeon\", \"Gangwon-do\", \"Gwangju\", \"Gyeonggi-do\", \"Gyeongsangbuk-do\", \"Gyeongsangnam-do\", \"Incheon\", \"Jeju-do\", \"Jeollabuk-do\", \"Jeollanam-do\", \"Sejong\", \"Seoul\", \"Ulsan\"], \"xaxis\": \"x\", \"y\": [91, 27, 112, 63, 17, 27, 15, 175, 969, 80, 25, 4, 7, 4, 12, 202, 23], \"yaxis\": \"y\", \"type\": \"bar\"}], \"name\": \"50\"}, {\"data\": [{\"alignmentgroup\": \"True\", \"customdata\": [[93, 2, 90, 1], [27, 2, 25, 0], [113, 2, 111, 0], [63, 39, 4, 20], [19, 2, 17, 0], [27, 4, 22, 1], [15, 0, 15, 0], [180, 127, 52, 1], [983, 256, 702, 25], [81, 2, 79, 0], [26, 4, 22, 0], [4, 0, 4, 0], [7, 3, 4, 0], [4, 1, 3, 0], [19, 2, 17, 0], [220, 13, 206, 1], [23, 0, 22, 1]], \"hovertemplate\": \"<b>%{hovertext}</b><br><br>Days=51<br>province=%{x}<br>Confirmed=%{customdata[0]}<br>Isolated=%{customdata[1]}<br>Released=%{customdata[2]}<br>Deceased=%{customdata[3]}<extra></extra>\", \"hovertext\": [\"Busan\", \"Chungcheongbuk-do\", \"Chungcheongnam-do\", \"Daegu\", \"Daejeon\", \"Gangwon-do\", \"Gwangju\", \"Gyeonggi-do\", \"Gyeongsangbuk-do\", \"Gyeongsangnam-do\", \"Incheon\", \"Jeju-do\", \"Jeollabuk-do\", \"Jeollanam-do\", \"Sejong\", \"Seoul\", \"Ulsan\"], \"ids\": [\"Busan\", \"Chungcheongbuk-do\", \"Chungcheongnam-do\", \"Daegu\", \"Daejeon\", \"Gangwon-do\", \"Gwangju\", \"Gyeonggi-do\", \"Gyeongsangbuk-do\", \"Gyeongsangnam-do\", \"Incheon\", \"Jeju-do\", \"Jeollabuk-do\", \"Jeollanam-do\", \"Sejong\", \"Seoul\", \"Ulsan\"], \"legendgroup\": \"\", \"marker\": {\"color\": \"#636efa\", \"opacity\": 0.75}, \"name\": \"\", \"offsetgroup\": \"\", \"orientation\": \"v\", \"showlegend\": false, \"textposition\": \"auto\", \"x\": [\"Busan\", \"Chungcheongbuk-do\", \"Chungcheongnam-do\", \"Daegu\", \"Daejeon\", \"Gangwon-do\", \"Gwangju\", \"Gyeonggi-do\", \"Gyeongsangbuk-do\", \"Gyeongsangnam-do\", \"Incheon\", \"Jeju-do\", \"Jeollabuk-do\", \"Jeollanam-do\", \"Sejong\", \"Seoul\", \"Ulsan\"], \"xaxis\": \"x\", \"y\": [93, 27, 113, 63, 19, 27, 15, 180, 983, 81, 26, 4, 7, 4, 19, 220, 23], \"yaxis\": \"y\", \"type\": \"bar\"}], \"name\": \"51\"}, {\"data\": [{\"alignmentgroup\": \"True\", \"customdata\": [[94, 2, 91, 1], [27, 2, 25, 0], [113, 2, 111, 0], [63, 39, 4, 20], [21, 2, 19, 0], [27, 4, 22, 1], [15, 0, 15, 0], [186, 133, 52, 1], [984, 256, 703, 25], [81, 2, 79, 0], [27, 4, 23, 0], [4, 0, 4, 0], [7, 3, 4, 0], [4, 1, 3, 0], [30, 3, 27, 0], [231, 14, 216, 1], [25, 0, 24, 1]], \"hovertemplate\": \"<b>%{hovertext}</b><br><br>Days=52<br>province=%{x}<br>Confirmed=%{customdata[0]}<br>Isolated=%{customdata[1]}<br>Released=%{customdata[2]}<br>Deceased=%{customdata[3]}<extra></extra>\", \"hovertext\": [\"Busan\", \"Chungcheongbuk-do\", \"Chungcheongnam-do\", \"Daegu\", \"Daejeon\", \"Gangwon-do\", \"Gwangju\", \"Gyeonggi-do\", \"Gyeongsangbuk-do\", \"Gyeongsangnam-do\", \"Incheon\", \"Jeju-do\", \"Jeollabuk-do\", \"Jeollanam-do\", \"Sejong\", \"Seoul\", \"Ulsan\"], \"ids\": [\"Busan\", \"Chungcheongbuk-do\", \"Chungcheongnam-do\", \"Daegu\", \"Daejeon\", \"Gangwon-do\", \"Gwangju\", \"Gyeonggi-do\", \"Gyeongsangbuk-do\", \"Gyeongsangnam-do\", \"Incheon\", \"Jeju-do\", \"Jeollabuk-do\", \"Jeollanam-do\", \"Sejong\", \"Seoul\", \"Ulsan\"], \"legendgroup\": \"\", \"marker\": {\"color\": \"#636efa\", \"opacity\": 0.75}, \"name\": \"\", \"offsetgroup\": \"\", \"orientation\": \"v\", \"showlegend\": false, \"textposition\": \"auto\", \"x\": [\"Busan\", \"Chungcheongbuk-do\", \"Chungcheongnam-do\", \"Daegu\", \"Daejeon\", \"Gangwon-do\", \"Gwangju\", \"Gyeonggi-do\", \"Gyeongsangbuk-do\", \"Gyeongsangnam-do\", \"Incheon\", \"Jeju-do\", \"Jeollabuk-do\", \"Jeollanam-do\", \"Sejong\", \"Seoul\", \"Ulsan\"], \"xaxis\": \"x\", \"y\": [94, 27, 113, 63, 21, 27, 15, 186, 984, 81, 27, 4, 7, 4, 30, 231, 25], \"yaxis\": \"y\", \"type\": \"bar\"}], \"name\": \"52\"}, {\"data\": [{\"alignmentgroup\": \"True\", \"customdata\": [[98, 3, 92, 3], [28, 2, 26, 0], [113, 2, 111, 0], [63, 39, 4, 20], [21, 2, 19, 0], [27, 4, 22, 1], [15, 0, 15, 0], [201, 147, 53, 1], [988, 257, 706, 25], [81, 2, 79, 0], [28, 4, 24, 0], [4, 0, 4, 0], [7, 3, 4, 0], [4, 1, 3, 0], [31, 3, 28, 0], [240, 15, 224, 1], [25, 0, 24, 1]], \"hovertemplate\": \"<b>%{hovertext}</b><br><br>Days=53<br>province=%{x}<br>Confirmed=%{customdata[0]}<br>Isolated=%{customdata[1]}<br>Released=%{customdata[2]}<br>Deceased=%{customdata[3]}<extra></extra>\", \"hovertext\": [\"Busan\", \"Chungcheongbuk-do\", \"Chungcheongnam-do\", \"Daegu\", \"Daejeon\", \"Gangwon-do\", \"Gwangju\", \"Gyeonggi-do\", \"Gyeongsangbuk-do\", \"Gyeongsangnam-do\", \"Incheon\", \"Jeju-do\", \"Jeollabuk-do\", \"Jeollanam-do\", \"Sejong\", \"Seoul\", \"Ulsan\"], \"ids\": [\"Busan\", \"Chungcheongbuk-do\", \"Chungcheongnam-do\", \"Daegu\", \"Daejeon\", \"Gangwon-do\", \"Gwangju\", \"Gyeonggi-do\", \"Gyeongsangbuk-do\", \"Gyeongsangnam-do\", \"Incheon\", \"Jeju-do\", \"Jeollabuk-do\", \"Jeollanam-do\", \"Sejong\", \"Seoul\", \"Ulsan\"], \"legendgroup\": \"\", \"marker\": {\"color\": \"#636efa\", \"opacity\": 0.75}, \"name\": \"\", \"offsetgroup\": \"\", \"orientation\": \"v\", \"showlegend\": false, \"textposition\": \"auto\", \"x\": [\"Busan\", \"Chungcheongbuk-do\", \"Chungcheongnam-do\", \"Daegu\", \"Daejeon\", \"Gangwon-do\", \"Gwangju\", \"Gyeonggi-do\", \"Gyeongsangbuk-do\", \"Gyeongsangnam-do\", \"Incheon\", \"Jeju-do\", \"Jeollabuk-do\", \"Jeollanam-do\", \"Sejong\", \"Seoul\", \"Ulsan\"], \"xaxis\": \"x\", \"y\": [98, 28, 113, 63, 21, 27, 15, 201, 988, 81, 28, 4, 7, 4, 31, 240, 25], \"yaxis\": \"y\", \"type\": \"bar\"}], \"name\": \"53\"}, {\"data\": [{\"alignmentgroup\": \"True\", \"customdata\": [[100, 3, 94, 3], [31, 2, 29, 0], [113, 2, 111, 0], [63, 39, 4, 20], [21, 2, 19, 0], [27, 4, 22, 1], [16, 0, 16, 0], [211, 156, 54, 1], [994, 259, 710, 25], [81, 2, 79, 0], [30, 4, 26, 0], [4, 0, 4, 0], [7, 3, 4, 0], [4, 1, 3, 0], [32, 3, 29, 0], [248, 17, 230, 1], [26, 0, 25, 1]], \"hovertemplate\": \"<b>%{hovertext}</b><br><br>Days=54<br>province=%{x}<br>Confirmed=%{customdata[0]}<br>Isolated=%{customdata[1]}<br>Released=%{customdata[2]}<br>Deceased=%{customdata[3]}<extra></extra>\", \"hovertext\": [\"Busan\", \"Chungcheongbuk-do\", \"Chungcheongnam-do\", \"Daegu\", \"Daejeon\", \"Gangwon-do\", \"Gwangju\", \"Gyeonggi-do\", \"Gyeongsangbuk-do\", \"Gyeongsangnam-do\", \"Incheon\", \"Jeju-do\", \"Jeollabuk-do\", \"Jeollanam-do\", \"Sejong\", \"Seoul\", \"Ulsan\"], \"ids\": [\"Busan\", \"Chungcheongbuk-do\", \"Chungcheongnam-do\", \"Daegu\", \"Daejeon\", \"Gangwon-do\", \"Gwangju\", \"Gyeonggi-do\", \"Gyeongsangbuk-do\", \"Gyeongsangnam-do\", \"Incheon\", \"Jeju-do\", \"Jeollabuk-do\", \"Jeollanam-do\", \"Sejong\", \"Seoul\", \"Ulsan\"], \"legendgroup\": \"\", \"marker\": {\"color\": \"#636efa\", \"opacity\": 0.75}, \"name\": \"\", \"offsetgroup\": \"\", \"orientation\": \"v\", \"showlegend\": false, \"textposition\": \"auto\", \"x\": [\"Busan\", \"Chungcheongbuk-do\", \"Chungcheongnam-do\", \"Daegu\", \"Daejeon\", \"Gangwon-do\", \"Gwangju\", \"Gyeonggi-do\", \"Gyeongsangbuk-do\", \"Gyeongsangnam-do\", \"Incheon\", \"Jeju-do\", \"Jeollabuk-do\", \"Jeollanam-do\", \"Sejong\", \"Seoul\", \"Ulsan\"], \"xaxis\": \"x\", \"y\": [100, 31, 113, 63, 21, 27, 16, 211, 994, 81, 30, 4, 7, 4, 32, 248, 26], \"yaxis\": \"y\", \"type\": \"bar\"}], \"name\": \"54\"}, {\"data\": [{\"alignmentgroup\": \"True\", \"customdata\": [[101, 3, 95, 3], [31, 2, 29, 0], [113, 2, 111, 0], [63, 39, 4, 20], [21, 2, 19, 0], [27, 4, 22, 1], [16, 0, 16, 0], [231, 176, 54, 1], [1003, 262, 714, 27], [81, 2, 79, 0], [30, 4, 26, 0], [4, 0, 4, 0], [7, 3, 4, 0], [4, 1, 3, 0], [33, 3, 30, 0], [254, 19, 234, 1], [26, 0, 25, 1]], \"hovertemplate\": \"<b>%{hovertext}</b><br><br>Days=55<br>province=%{x}<br>Confirmed=%{customdata[0]}<br>Isolated=%{customdata[1]}<br>Released=%{customdata[2]}<br>Deceased=%{customdata[3]}<extra></extra>\", \"hovertext\": [\"Busan\", \"Chungcheongbuk-do\", \"Chungcheongnam-do\", \"Daegu\", \"Daejeon\", \"Gangwon-do\", \"Gwangju\", \"Gyeonggi-do\", \"Gyeongsangbuk-do\", \"Gyeongsangnam-do\", \"Incheon\", \"Jeju-do\", \"Jeollabuk-do\", \"Jeollanam-do\", \"Sejong\", \"Seoul\", \"Ulsan\"], \"ids\": [\"Busan\", \"Chungcheongbuk-do\", \"Chungcheongnam-do\", \"Daegu\", \"Daejeon\", \"Gangwon-do\", \"Gwangju\", \"Gyeonggi-do\", \"Gyeongsangbuk-do\", \"Gyeongsangnam-do\", \"Incheon\", \"Jeju-do\", \"Jeollabuk-do\", \"Jeollanam-do\", \"Sejong\", \"Seoul\", \"Ulsan\"], \"legendgroup\": \"\", \"marker\": {\"color\": \"#636efa\", \"opacity\": 0.75}, \"name\": \"\", \"offsetgroup\": \"\", \"orientation\": \"v\", \"showlegend\": false, \"textposition\": \"auto\", \"x\": [\"Busan\", \"Chungcheongbuk-do\", \"Chungcheongnam-do\", \"Daegu\", \"Daejeon\", \"Gangwon-do\", \"Gwangju\", \"Gyeonggi-do\", \"Gyeongsangbuk-do\", \"Gyeongsangnam-do\", \"Incheon\", \"Jeju-do\", \"Jeollabuk-do\", \"Jeollanam-do\", \"Sejong\", \"Seoul\", \"Ulsan\"], \"xaxis\": \"x\", \"y\": [101, 31, 113, 63, 21, 27, 16, 231, 1003, 81, 30, 4, 7, 4, 33, 254, 26], \"yaxis\": \"y\", \"type\": \"bar\"}], \"name\": \"55\"}, {\"data\": [{\"alignmentgroup\": \"True\", \"customdata\": [[101, 3, 95, 3], [31, 2, 29, 0], [113, 2, 111, 0], [63, 39, 4, 20], [21, 2, 19, 0], [27, 4, 22, 1], [16, 0, 16, 0], [264, 209, 54, 1], [1008, 265, 716, 27], [82, 2, 80, 0], [31, 4, 27, 0], [4, 0, 4, 0], [8, 4, 4, 0], [4, 1, 3, 0], [33, 3, 30, 0], [267, 21, 245, 1], [26, 0, 25, 1]], \"hovertemplate\": \"<b>%{hovertext}</b><br><br>Days=56<br>province=%{x}<br>Confirmed=%{customdata[0]}<br>Isolated=%{customdata[1]}<br>Released=%{customdata[2]}<br>Deceased=%{customdata[3]}<extra></extra>\", \"hovertext\": [\"Busan\", \"Chungcheongbuk-do\", \"Chungcheongnam-do\", \"Daegu\", \"Daejeon\", \"Gangwon-do\", \"Gwangju\", \"Gyeonggi-do\", \"Gyeongsangbuk-do\", \"Gyeongsangnam-do\", \"Incheon\", \"Jeju-do\", \"Jeollabuk-do\", \"Jeollanam-do\", \"Sejong\", \"Seoul\", \"Ulsan\"], \"ids\": [\"Busan\", \"Chungcheongbuk-do\", \"Chungcheongnam-do\", \"Daegu\", \"Daejeon\", \"Gangwon-do\", \"Gwangju\", \"Gyeonggi-do\", \"Gyeongsangbuk-do\", \"Gyeongsangnam-do\", \"Incheon\", \"Jeju-do\", \"Jeollabuk-do\", \"Jeollanam-do\", \"Sejong\", \"Seoul\", \"Ulsan\"], \"legendgroup\": \"\", \"marker\": {\"color\": \"#636efa\", \"opacity\": 0.75}, \"name\": \"\", \"offsetgroup\": \"\", \"orientation\": \"v\", \"showlegend\": false, \"textposition\": \"auto\", \"x\": [\"Busan\", \"Chungcheongbuk-do\", \"Chungcheongnam-do\", \"Daegu\", \"Daejeon\", \"Gangwon-do\", \"Gwangju\", \"Gyeonggi-do\", \"Gyeongsangbuk-do\", \"Gyeongsangnam-do\", \"Incheon\", \"Jeju-do\", \"Jeollabuk-do\", \"Jeollanam-do\", \"Sejong\", \"Seoul\", \"Ulsan\"], \"xaxis\": \"x\", \"y\": [101, 31, 113, 63, 21, 27, 16, 264, 1008, 82, 31, 4, 8, 4, 33, 267, 26], \"yaxis\": \"y\", \"type\": \"bar\"}], \"name\": \"56\"}, {\"data\": [{\"alignmentgroup\": \"True\", \"customdata\": [[102, 3, 96, 3], [32, 2, 30, 0], [116, 2, 114, 0], [63, 39, 4, 20], [21, 2, 19, 0], [28, 4, 23, 1], [18, 0, 18, 0], [279, 224, 54, 1], [1018, 266, 725, 27], [82, 2, 80, 0], [32, 4, 28, 0], [4, 0, 4, 0], [9, 5, 4, 0], [5, 2, 3, 0], [34, 3, 31, 0], [271, 23, 247, 1], [28, 0, 27, 1]], \"hovertemplate\": \"<b>%{hovertext}</b><br><br>Days=57<br>province=%{x}<br>Confirmed=%{customdata[0]}<br>Isolated=%{customdata[1]}<br>Released=%{customdata[2]}<br>Deceased=%{customdata[3]}<extra></extra>\", \"hovertext\": [\"Busan\", \"Chungcheongbuk-do\", \"Chungcheongnam-do\", \"Daegu\", \"Daejeon\", \"Gangwon-do\", \"Gwangju\", \"Gyeonggi-do\", \"Gyeongsangbuk-do\", \"Gyeongsangnam-do\", \"Incheon\", \"Jeju-do\", \"Jeollabuk-do\", \"Jeollanam-do\", \"Sejong\", \"Seoul\", \"Ulsan\"], \"ids\": [\"Busan\", \"Chungcheongbuk-do\", \"Chungcheongnam-do\", \"Daegu\", \"Daejeon\", \"Gangwon-do\", \"Gwangju\", \"Gyeonggi-do\", \"Gyeongsangbuk-do\", \"Gyeongsangnam-do\", \"Incheon\", \"Jeju-do\", \"Jeollabuk-do\", \"Jeollanam-do\", \"Sejong\", \"Seoul\", \"Ulsan\"], \"legendgroup\": \"\", \"marker\": {\"color\": \"#636efa\", \"opacity\": 0.75}, \"name\": \"\", \"offsetgroup\": \"\", \"orientation\": \"v\", \"showlegend\": false, \"textposition\": \"auto\", \"x\": [\"Busan\", \"Chungcheongbuk-do\", \"Chungcheongnam-do\", \"Daegu\", \"Daejeon\", \"Gangwon-do\", \"Gwangju\", \"Gyeonggi-do\", \"Gyeongsangbuk-do\", \"Gyeongsangnam-do\", \"Incheon\", \"Jeju-do\", \"Jeollabuk-do\", \"Jeollanam-do\", \"Sejong\", \"Seoul\", \"Ulsan\"], \"xaxis\": \"x\", \"y\": [102, 32, 116, 63, 21, 28, 18, 279, 1018, 82, 32, 4, 9, 5, 34, 271, 28], \"yaxis\": \"y\", \"type\": \"bar\"}], \"name\": \"57\"}, {\"data\": [{\"alignmentgroup\": \"True\", \"customdata\": [[104, 3, 98, 3], [33, 2, 31, 0], [116, 2, 114, 0], [63, 39, 4, 20], [21, 2, 19, 0], [28, 4, 23, 1], [18, 0, 18, 0], [300, 245, 54, 1], [1035, 277, 731, 27], [82, 2, 80, 0], [32, 4, 28, 0], [4, 0, 4, 0], [10, 6, 4, 0], [5, 2, 3, 0], [34, 3, 31, 0], [282, 28, 253, 1], [34, 1, 32, 1]], \"hovertemplate\": \"<b>%{hovertext}</b><br><br>Days=58<br>province=%{x}<br>Confirmed=%{customdata[0]}<br>Isolated=%{customdata[1]}<br>Released=%{customdata[2]}<br>Deceased=%{customdata[3]}<extra></extra>\", \"hovertext\": [\"Busan\", \"Chungcheongbuk-do\", \"Chungcheongnam-do\", \"Daegu\", \"Daejeon\", \"Gangwon-do\", \"Gwangju\", \"Gyeonggi-do\", \"Gyeongsangbuk-do\", \"Gyeongsangnam-do\", \"Incheon\", \"Jeju-do\", \"Jeollabuk-do\", \"Jeollanam-do\", \"Sejong\", \"Seoul\", \"Ulsan\"], \"ids\": [\"Busan\", \"Chungcheongbuk-do\", \"Chungcheongnam-do\", \"Daegu\", \"Daejeon\", \"Gangwon-do\", \"Gwangju\", \"Gyeonggi-do\", \"Gyeongsangbuk-do\", \"Gyeongsangnam-do\", \"Incheon\", \"Jeju-do\", \"Jeollabuk-do\", \"Jeollanam-do\", \"Sejong\", \"Seoul\", \"Ulsan\"], \"legendgroup\": \"\", \"marker\": {\"color\": \"#636efa\", \"opacity\": 0.75}, \"name\": \"\", \"offsetgroup\": \"\", \"orientation\": \"v\", \"showlegend\": false, \"textposition\": \"auto\", \"x\": [\"Busan\", \"Chungcheongbuk-do\", \"Chungcheongnam-do\", \"Daegu\", \"Daejeon\", \"Gangwon-do\", \"Gwangju\", \"Gyeonggi-do\", \"Gyeongsangbuk-do\", \"Gyeongsangnam-do\", \"Incheon\", \"Jeju-do\", \"Jeollabuk-do\", \"Jeollanam-do\", \"Sejong\", \"Seoul\", \"Ulsan\"], \"xaxis\": \"x\", \"y\": [104, 33, 116, 63, 21, 28, 18, 300, 1035, 82, 32, 4, 10, 5, 34, 282, 34], \"yaxis\": \"y\", \"type\": \"bar\"}], \"name\": \"58\"}, {\"data\": [{\"alignmentgroup\": \"True\", \"customdata\": [[104, 3, 98, 3], [33, 2, 31, 0], [117, 3, 114, 0], [63, 39, 4, 20], [21, 2, 19, 0], [28, 4, 23, 1], [18, 0, 18, 0], [312, 256, 55, 1], [1047, 285, 735, 27], [83, 3, 80, 0], [39, 9, 30, 0], [4, 0, 4, 0], [10, 6, 4, 0], [5, 2, 3, 0], [34, 3, 31, 0], [299, 32, 265, 2], [34, 1, 32, 1]], \"hovertemplate\": \"<b>%{hovertext}</b><br><br>Days=59<br>province=%{x}<br>Confirmed=%{customdata[0]}<br>Isolated=%{customdata[1]}<br>Released=%{customdata[2]}<br>Deceased=%{customdata[3]}<extra></extra>\", \"hovertext\": [\"Busan\", \"Chungcheongbuk-do\", \"Chungcheongnam-do\", \"Daegu\", \"Daejeon\", \"Gangwon-do\", \"Gwangju\", \"Gyeonggi-do\", \"Gyeongsangbuk-do\", \"Gyeongsangnam-do\", \"Incheon\", \"Jeju-do\", \"Jeollabuk-do\", \"Jeollanam-do\", \"Sejong\", \"Seoul\", \"Ulsan\"], \"ids\": [\"Busan\", \"Chungcheongbuk-do\", \"Chungcheongnam-do\", \"Daegu\", \"Daejeon\", \"Gangwon-do\", \"Gwangju\", \"Gyeonggi-do\", \"Gyeongsangbuk-do\", \"Gyeongsangnam-do\", \"Incheon\", \"Jeju-do\", \"Jeollabuk-do\", \"Jeollanam-do\", \"Sejong\", \"Seoul\", \"Ulsan\"], \"legendgroup\": \"\", \"marker\": {\"color\": \"#636efa\", \"opacity\": 0.75}, \"name\": \"\", \"offsetgroup\": \"\", \"orientation\": \"v\", \"showlegend\": false, \"textposition\": \"auto\", \"x\": [\"Busan\", \"Chungcheongbuk-do\", \"Chungcheongnam-do\", \"Daegu\", \"Daejeon\", \"Gangwon-do\", \"Gwangju\", \"Gyeonggi-do\", \"Gyeongsangbuk-do\", \"Gyeongsangnam-do\", \"Incheon\", \"Jeju-do\", \"Jeollabuk-do\", \"Jeollanam-do\", \"Sejong\", \"Seoul\", \"Ulsan\"], \"xaxis\": \"x\", \"y\": [104, 33, 117, 63, 21, 28, 18, 312, 1047, 83, 39, 4, 10, 5, 34, 299, 34], \"yaxis\": \"y\", \"type\": \"bar\"}], \"name\": \"59\"}, {\"data\": [{\"alignmentgroup\": \"True\", \"customdata\": [[104, 3, 98, 3], [34, 2, 32, 0], [117, 3, 114, 0], [63, 39, 4, 20], [21, 2, 19, 0], [28, 4, 23, 1], [19, 1, 18, 0], [323, 266, 56, 1], [1088, 300, 753, 35], [84, 4, 80, 0], [40, 9, 31, 0], [4, 0, 4, 0], [10, 6, 4, 0], [5, 2, 3, 0], [34, 3, 31, 0], [316, 40, 274, 2], [34, 1, 32, 1]], \"hovertemplate\": \"<b>%{hovertext}</b><br><br>Days=60<br>province=%{x}<br>Confirmed=%{customdata[0]}<br>Isolated=%{customdata[1]}<br>Released=%{customdata[2]}<br>Deceased=%{customdata[3]}<extra></extra>\", \"hovertext\": [\"Busan\", \"Chungcheongbuk-do\", \"Chungcheongnam-do\", \"Daegu\", \"Daejeon\", \"Gangwon-do\", \"Gwangju\", \"Gyeonggi-do\", \"Gyeongsangbuk-do\", \"Gyeongsangnam-do\", \"Incheon\", \"Jeju-do\", \"Jeollabuk-do\", \"Jeollanam-do\", \"Sejong\", \"Seoul\", \"Ulsan\"], \"ids\": [\"Busan\", \"Chungcheongbuk-do\", \"Chungcheongnam-do\", \"Daegu\", \"Daejeon\", \"Gangwon-do\", \"Gwangju\", \"Gyeonggi-do\", \"Gyeongsangbuk-do\", \"Gyeongsangnam-do\", \"Incheon\", \"Jeju-do\", \"Jeollabuk-do\", \"Jeollanam-do\", \"Sejong\", \"Seoul\", \"Ulsan\"], \"legendgroup\": \"\", \"marker\": {\"color\": \"#636efa\", \"opacity\": 0.75}, \"name\": \"\", \"offsetgroup\": \"\", \"orientation\": \"v\", \"showlegend\": false, \"textposition\": \"auto\", \"x\": [\"Busan\", \"Chungcheongbuk-do\", \"Chungcheongnam-do\", \"Daegu\", \"Daejeon\", \"Gangwon-do\", \"Gwangju\", \"Gyeonggi-do\", \"Gyeongsangbuk-do\", \"Gyeongsangnam-do\", \"Incheon\", \"Jeju-do\", \"Jeollabuk-do\", \"Jeollanam-do\", \"Sejong\", \"Seoul\", \"Ulsan\"], \"xaxis\": \"x\", \"y\": [104, 34, 117, 63, 21, 28, 19, 323, 1088, 84, 40, 4, 10, 5, 34, 316, 34], \"yaxis\": \"y\", \"type\": \"bar\"}], \"name\": \"60\"}, {\"data\": [{\"alignmentgroup\": \"True\", \"customdata\": [[104, 3, 98, 3], [35, 2, 33, 0], [118, 3, 115, 0], [63, 39, 4, 20], [23, 3, 20, 0], [28, 4, 23, 1], [19, 1, 18, 0], [338, 281, 56, 1], [1097, 308, 753, 36], [85, 5, 80, 0], [40, 9, 31, 0], [4, 0, 4, 0], [10, 6, 4, 0], [6, 3, 3, 0], [34, 3, 31, 0], [324, 42, 280, 2], [34, 1, 32, 1]], \"hovertemplate\": \"<b>%{hovertext}</b><br><br>Days=61<br>province=%{x}<br>Confirmed=%{customdata[0]}<br>Isolated=%{customdata[1]}<br>Released=%{customdata[2]}<br>Deceased=%{customdata[3]}<extra></extra>\", \"hovertext\": [\"Busan\", \"Chungcheongbuk-do\", \"Chungcheongnam-do\", \"Daegu\", \"Daejeon\", \"Gangwon-do\", \"Gwangju\", \"Gyeonggi-do\", \"Gyeongsangbuk-do\", \"Gyeongsangnam-do\", \"Incheon\", \"Jeju-do\", \"Jeollabuk-do\", \"Jeollanam-do\", \"Sejong\", \"Seoul\", \"Ulsan\"], \"ids\": [\"Busan\", \"Chungcheongbuk-do\", \"Chungcheongnam-do\", \"Daegu\", \"Daejeon\", \"Gangwon-do\", \"Gwangju\", \"Gyeonggi-do\", \"Gyeongsangbuk-do\", \"Gyeongsangnam-do\", \"Incheon\", \"Jeju-do\", \"Jeollabuk-do\", \"Jeollanam-do\", \"Sejong\", \"Seoul\", \"Ulsan\"], \"legendgroup\": \"\", \"marker\": {\"color\": \"#636efa\", \"opacity\": 0.75}, \"name\": \"\", \"offsetgroup\": \"\", \"orientation\": \"v\", \"showlegend\": false, \"textposition\": \"auto\", \"x\": [\"Busan\", \"Chungcheongbuk-do\", \"Chungcheongnam-do\", \"Daegu\", \"Daejeon\", \"Gangwon-do\", \"Gwangju\", \"Gyeonggi-do\", \"Gyeongsangbuk-do\", \"Gyeongsangnam-do\", \"Incheon\", \"Jeju-do\", \"Jeollabuk-do\", \"Jeollanam-do\", \"Sejong\", \"Seoul\", \"Ulsan\"], \"xaxis\": \"x\", \"y\": [104, 35, 118, 63, 23, 28, 19, 338, 1097, 85, 40, 4, 10, 6, 34, 324, 34], \"yaxis\": \"y\", \"type\": \"bar\"}], \"name\": \"61\"}, {\"data\": [{\"alignmentgroup\": \"True\", \"customdata\": [[107, 3, 101, 3], [38, 2, 36, 0], [118, 3, 115, 0], [63, 39, 4, 20], [23, 3, 20, 0], [28, 4, 23, 1], [19, 1, 18, 0], [353, 294, 58, 1], [1099, 310, 753, 36], [86, 5, 81, 0], [40, 9, 31, 0], [4, 0, 4, 0], [10, 6, 4, 0], [6, 3, 3, 0], [35, 3, 32, 0], [330, 42, 286, 2], [34, 1, 32, 1]], \"hovertemplate\": \"<b>%{hovertext}</b><br><br>Days=62<br>province=%{x}<br>Confirmed=%{customdata[0]}<br>Isolated=%{customdata[1]}<br>Released=%{customdata[2]}<br>Deceased=%{customdata[3]}<extra></extra>\", \"hovertext\": [\"Busan\", \"Chungcheongbuk-do\", \"Chungcheongnam-do\", \"Daegu\", \"Daejeon\", \"Gangwon-do\", \"Gwangju\", \"Gyeonggi-do\", \"Gyeongsangbuk-do\", \"Gyeongsangnam-do\", \"Incheon\", \"Jeju-do\", \"Jeollabuk-do\", \"Jeollanam-do\", \"Sejong\", \"Seoul\", \"Ulsan\"], \"ids\": [\"Busan\", \"Chungcheongbuk-do\", \"Chungcheongnam-do\", \"Daegu\", \"Daejeon\", \"Gangwon-do\", \"Gwangju\", \"Gyeonggi-do\", \"Gyeongsangbuk-do\", \"Gyeongsangnam-do\", \"Incheon\", \"Jeju-do\", \"Jeollabuk-do\", \"Jeollanam-do\", \"Sejong\", \"Seoul\", \"Ulsan\"], \"legendgroup\": \"\", \"marker\": {\"color\": \"#636efa\", \"opacity\": 0.75}, \"name\": \"\", \"offsetgroup\": \"\", \"orientation\": \"v\", \"showlegend\": false, \"textposition\": \"auto\", \"x\": [\"Busan\", \"Chungcheongbuk-do\", \"Chungcheongnam-do\", \"Daegu\", \"Daejeon\", \"Gangwon-do\", \"Gwangju\", \"Gyeonggi-do\", \"Gyeongsangbuk-do\", \"Gyeongsangnam-do\", \"Incheon\", \"Jeju-do\", \"Jeollabuk-do\", \"Jeollanam-do\", \"Sejong\", \"Seoul\", \"Ulsan\"], \"xaxis\": \"x\", \"y\": [107, 38, 118, 63, 23, 28, 19, 353, 1099, 86, 40, 4, 10, 6, 35, 330, 34], \"yaxis\": \"y\", \"type\": \"bar\"}], \"name\": \"62\"}, {\"data\": [{\"alignmentgroup\": \"True\", \"customdata\": [[107, 3, 101, 3], [38, 2, 36, 0], [118, 3, 115, 0], [63, 39, 4, 20], [23, 3, 20, 0], [29, 5, 23, 1], [19, 1, 18, 0], [365, 306, 58, 1], [1100, 310, 754, 36], [87, 5, 82, 0], [42, 10, 32, 0], [4, 0, 4, 0], [10, 6, 4, 0], [6, 3, 3, 0], [35, 3, 32, 0], [336, 42, 292, 2], [34, 1, 32, 1]], \"hovertemplate\": \"<b>%{hovertext}</b><br><br>Days=63<br>province=%{x}<br>Confirmed=%{customdata[0]}<br>Isolated=%{customdata[1]}<br>Released=%{customdata[2]}<br>Deceased=%{customdata[3]}<extra></extra>\", \"hovertext\": [\"Busan\", \"Chungcheongbuk-do\", \"Chungcheongnam-do\", \"Daegu\", \"Daejeon\", \"Gangwon-do\", \"Gwangju\", \"Gyeonggi-do\", \"Gyeongsangbuk-do\", \"Gyeongsangnam-do\", \"Incheon\", \"Jeju-do\", \"Jeollabuk-do\", \"Jeollanam-do\", \"Sejong\", \"Seoul\", \"Ulsan\"], \"ids\": [\"Busan\", \"Chungcheongbuk-do\", \"Chungcheongnam-do\", \"Daegu\", \"Daejeon\", \"Gangwon-do\", \"Gwangju\", \"Gyeonggi-do\", \"Gyeongsangbuk-do\", \"Gyeongsangnam-do\", \"Incheon\", \"Jeju-do\", \"Jeollabuk-do\", \"Jeollanam-do\", \"Sejong\", \"Seoul\", \"Ulsan\"], \"legendgroup\": \"\", \"marker\": {\"color\": \"#636efa\", \"opacity\": 0.75}, \"name\": \"\", \"offsetgroup\": \"\", \"orientation\": \"v\", \"showlegend\": false, \"textposition\": \"auto\", \"x\": [\"Busan\", \"Chungcheongbuk-do\", \"Chungcheongnam-do\", \"Daegu\", \"Daejeon\", \"Gangwon-do\", \"Gwangju\", \"Gyeonggi-do\", \"Gyeongsangbuk-do\", \"Gyeongsangnam-do\", \"Incheon\", \"Jeju-do\", \"Jeollabuk-do\", \"Jeollanam-do\", \"Sejong\", \"Seoul\", \"Ulsan\"], \"xaxis\": \"x\", \"y\": [107, 38, 118, 63, 23, 29, 19, 365, 1100, 87, 42, 4, 10, 6, 35, 336, 34], \"yaxis\": \"y\", \"type\": \"bar\"}], \"name\": \"63\"}, {\"data\": [{\"alignmentgroup\": \"True\", \"customdata\": [[108, 3, 102, 3], [38, 2, 36, 0], [121, 3, 118, 0], [63, 39, 4, 20], [26, 4, 22, 0], [30, 5, 24, 1], [19, 1, 18, 0], [388, 329, 58, 1], [1106, 315, 755, 36], [87, 5, 82, 0], [42, 10, 32, 0], [6, 1, 5, 0], [10, 6, 4, 0], [8, 5, 3, 0], [37, 3, 34, 0], [349, 48, 299, 2], [35, 2, 32, 1]], \"hovertemplate\": \"<b>%{hovertext}</b><br><br>Days=64<br>province=%{x}<br>Confirmed=%{customdata[0]}<br>Isolated=%{customdata[1]}<br>Released=%{customdata[2]}<br>Deceased=%{customdata[3]}<extra></extra>\", \"hovertext\": [\"Busan\", \"Chungcheongbuk-do\", \"Chungcheongnam-do\", \"Daegu\", \"Daejeon\", \"Gangwon-do\", \"Gwangju\", \"Gyeonggi-do\", \"Gyeongsangbuk-do\", \"Gyeongsangnam-do\", \"Incheon\", \"Jeju-do\", \"Jeollabuk-do\", \"Jeollanam-do\", \"Sejong\", \"Seoul\", \"Ulsan\"], \"ids\": [\"Busan\", \"Chungcheongbuk-do\", \"Chungcheongnam-do\", \"Daegu\", \"Daejeon\", \"Gangwon-do\", \"Gwangju\", \"Gyeonggi-do\", \"Gyeongsangbuk-do\", \"Gyeongsangnam-do\", \"Incheon\", \"Jeju-do\", \"Jeollabuk-do\", \"Jeollanam-do\", \"Sejong\", \"Seoul\", \"Ulsan\"], \"legendgroup\": \"\", \"marker\": {\"color\": \"#636efa\", \"opacity\": 0.75}, \"name\": \"\", \"offsetgroup\": \"\", \"orientation\": \"v\", \"showlegend\": false, \"textposition\": \"auto\", \"x\": [\"Busan\", \"Chungcheongbuk-do\", \"Chungcheongnam-do\", \"Daegu\", \"Daejeon\", \"Gangwon-do\", \"Gwangju\", \"Gyeonggi-do\", \"Gyeongsangbuk-do\", \"Gyeongsangnam-do\", \"Incheon\", \"Jeju-do\", \"Jeollabuk-do\", \"Jeollanam-do\", \"Sejong\", \"Seoul\", \"Ulsan\"], \"xaxis\": \"x\", \"y\": [108, 38, 121, 63, 26, 30, 19, 388, 1106, 87, 42, 6, 10, 8, 37, 349, 35], \"yaxis\": \"y\", \"type\": \"bar\"}], \"name\": \"64\"}, {\"data\": [{\"alignmentgroup\": \"True\", \"customdata\": [[109, 4, 102, 3], [39, 2, 37, 0], [122, 3, 119, 0], [63, 39, 4, 20], [29, 4, 25, 0], [30, 5, 24, 1], [19, 1, 18, 0], [403, 342, 60, 1], [1116, 321, 758, 37], [87, 5, 82, 0], [44, 11, 33, 0], [7, 1, 6, 0], [10, 6, 4, 0], [8, 5, 3, 0], [37, 3, 34, 0], [362, 53, 307, 2], [35, 2, 32, 1]], \"hovertemplate\": \"<b>%{hovertext}</b><br><br>Days=65<br>province=%{x}<br>Confirmed=%{customdata[0]}<br>Isolated=%{customdata[1]}<br>Released=%{customdata[2]}<br>Deceased=%{customdata[3]}<extra></extra>\", \"hovertext\": [\"Busan\", \"Chungcheongbuk-do\", \"Chungcheongnam-do\", \"Daegu\", \"Daejeon\", \"Gangwon-do\", \"Gwangju\", \"Gyeonggi-do\", \"Gyeongsangbuk-do\", \"Gyeongsangnam-do\", \"Incheon\", \"Jeju-do\", \"Jeollabuk-do\", \"Jeollanam-do\", \"Sejong\", \"Seoul\", \"Ulsan\"], \"ids\": [\"Busan\", \"Chungcheongbuk-do\", \"Chungcheongnam-do\", \"Daegu\", \"Daejeon\", \"Gangwon-do\", \"Gwangju\", \"Gyeonggi-do\", \"Gyeongsangbuk-do\", \"Gyeongsangnam-do\", \"Incheon\", \"Jeju-do\", \"Jeollabuk-do\", \"Jeollanam-do\", \"Sejong\", \"Seoul\", \"Ulsan\"], \"legendgroup\": \"\", \"marker\": {\"color\": \"#636efa\", \"opacity\": 0.75}, \"name\": \"\", \"offsetgroup\": \"\", \"orientation\": \"v\", \"showlegend\": false, \"textposition\": \"auto\", \"x\": [\"Busan\", \"Chungcheongbuk-do\", \"Chungcheongnam-do\", \"Daegu\", \"Daejeon\", \"Gangwon-do\", \"Gwangju\", \"Gyeonggi-do\", \"Gyeongsangbuk-do\", \"Gyeongsangnam-do\", \"Incheon\", \"Jeju-do\", \"Jeollabuk-do\", \"Jeollanam-do\", \"Sejong\", \"Seoul\", \"Ulsan\"], \"xaxis\": \"x\", \"y\": [109, 39, 122, 63, 29, 30, 19, 403, 1116, 87, 44, 7, 10, 8, 37, 362, 35], \"yaxis\": \"y\", \"type\": \"bar\"}], \"name\": \"65\"}, {\"data\": [{\"alignmentgroup\": \"True\", \"customdata\": [[110, 5, 102, 3], [41, 3, 38, 0], [122, 3, 119, 0], [63, 39, 4, 20], [30, 5, 25, 0], [30, 5, 24, 1], [20, 1, 19, 0], [416, 355, 60, 1], [1127, 329, 760, 38], [88, 5, 83, 0], [47, 11, 36, 0], [7, 1, 6, 0], [10, 6, 4, 0], [8, 5, 3, 0], [37, 3, 34, 0], [376, 56, 318, 2], [37, 3, 33, 1]], \"hovertemplate\": \"<b>%{hovertext}</b><br><br>Days=66<br>province=%{x}<br>Confirmed=%{customdata[0]}<br>Isolated=%{customdata[1]}<br>Released=%{customdata[2]}<br>Deceased=%{customdata[3]}<extra></extra>\", \"hovertext\": [\"Busan\", \"Chungcheongbuk-do\", \"Chungcheongnam-do\", \"Daegu\", \"Daejeon\", \"Gangwon-do\", \"Gwangju\", \"Gyeonggi-do\", \"Gyeongsangbuk-do\", \"Gyeongsangnam-do\", \"Incheon\", \"Jeju-do\", \"Jeollabuk-do\", \"Jeollanam-do\", \"Sejong\", \"Seoul\", \"Ulsan\"], \"ids\": [\"Busan\", \"Chungcheongbuk-do\", \"Chungcheongnam-do\", \"Daegu\", \"Daejeon\", \"Gangwon-do\", \"Gwangju\", \"Gyeonggi-do\", \"Gyeongsangbuk-do\", \"Gyeongsangnam-do\", \"Incheon\", \"Jeju-do\", \"Jeollabuk-do\", \"Jeollanam-do\", \"Sejong\", \"Seoul\", \"Ulsan\"], \"legendgroup\": \"\", \"marker\": {\"color\": \"#636efa\", \"opacity\": 0.75}, \"name\": \"\", \"offsetgroup\": \"\", \"orientation\": \"v\", \"showlegend\": false, \"textposition\": \"auto\", \"x\": [\"Busan\", \"Chungcheongbuk-do\", \"Chungcheongnam-do\", \"Daegu\", \"Daejeon\", \"Gangwon-do\", \"Gwangju\", \"Gyeonggi-do\", \"Gyeongsangbuk-do\", \"Gyeongsangnam-do\", \"Incheon\", \"Jeju-do\", \"Jeollabuk-do\", \"Jeollanam-do\", \"Sejong\", \"Seoul\", \"Ulsan\"], \"xaxis\": \"x\", \"y\": [110, 41, 122, 63, 30, 30, 20, 416, 1127, 88, 47, 7, 10, 8, 37, 376, 37], \"yaxis\": \"y\", \"type\": \"bar\"}], \"name\": \"66\"}, {\"data\": [{\"alignmentgroup\": \"True\", \"customdata\": [[112, 5, 104, 3], [41, 3, 38, 0], [124, 3, 121, 0], [63, 39, 4, 20], [30, 5, 25, 0], [31, 6, 24, 1], [20, 1, 19, 0], [435, 374, 60, 1], [1130, 330, 762, 38], [88, 5, 83, 0], [52, 13, 39, 0], [8, 1, 7, 0], [10, 6, 4, 0], [8, 5, 3, 0], [37, 3, 34, 0], [391, 59, 330, 2], [38, 4, 33, 1]], \"hovertemplate\": \"<b>%{hovertext}</b><br><br>Days=67<br>province=%{x}<br>Confirmed=%{customdata[0]}<br>Isolated=%{customdata[1]}<br>Released=%{customdata[2]}<br>Deceased=%{customdata[3]}<extra></extra>\", \"hovertext\": [\"Busan\", \"Chungcheongbuk-do\", \"Chungcheongnam-do\", \"Daegu\", \"Daejeon\", \"Gangwon-do\", \"Gwangju\", \"Gyeonggi-do\", \"Gyeongsangbuk-do\", \"Gyeongsangnam-do\", \"Incheon\", \"Jeju-do\", \"Jeollabuk-do\", \"Jeollanam-do\", \"Sejong\", \"Seoul\", \"Ulsan\"], \"ids\": [\"Busan\", \"Chungcheongbuk-do\", \"Chungcheongnam-do\", \"Daegu\", \"Daejeon\", \"Gangwon-do\", \"Gwangju\", \"Gyeonggi-do\", \"Gyeongsangbuk-do\", \"Gyeongsangnam-do\", \"Incheon\", \"Jeju-do\", \"Jeollabuk-do\", \"Jeollanam-do\", \"Sejong\", \"Seoul\", \"Ulsan\"], \"legendgroup\": \"\", \"marker\": {\"color\": \"#636efa\", \"opacity\": 0.75}, \"name\": \"\", \"offsetgroup\": \"\", \"orientation\": \"v\", \"showlegend\": false, \"textposition\": \"auto\", \"x\": [\"Busan\", \"Chungcheongbuk-do\", \"Chungcheongnam-do\", \"Daegu\", \"Daejeon\", \"Gangwon-do\", \"Gwangju\", \"Gyeonggi-do\", \"Gyeongsangbuk-do\", \"Gyeongsangnam-do\", \"Incheon\", \"Jeju-do\", \"Jeollabuk-do\", \"Jeollanam-do\", \"Sejong\", \"Seoul\", \"Ulsan\"], \"xaxis\": \"x\", \"y\": [112, 41, 124, 63, 30, 31, 20, 435, 1130, 88, 52, 8, 10, 8, 37, 391, 38], \"yaxis\": \"y\", \"type\": \"bar\"}], \"name\": \"67\"}, {\"data\": [{\"alignmentgroup\": \"True\", \"customdata\": [[114, 5, 106, 3], [41, 3, 38, 0], [125, 4, 121, 0], [63, 39, 4, 20], [33, 5, 28, 0], [33, 8, 24, 1], [20, 1, 19, 0], [455, 393, 61, 1], [1132, 331, 763, 38], [91, 6, 85, 0], [59, 16, 43, 0], [8, 1, 7, 0], [12, 8, 4, 0], [9, 6, 3, 0], [39, 5, 34, 0], [413, 66, 345, 2], [38, 4, 33, 1]], \"hovertemplate\": \"<b>%{hovertext}</b><br><br>Days=68<br>province=%{x}<br>Confirmed=%{customdata[0]}<br>Isolated=%{customdata[1]}<br>Released=%{customdata[2]}<br>Deceased=%{customdata[3]}<extra></extra>\", \"hovertext\": [\"Busan\", \"Chungcheongbuk-do\", \"Chungcheongnam-do\", \"Daegu\", \"Daejeon\", \"Gangwon-do\", \"Gwangju\", \"Gyeonggi-do\", \"Gyeongsangbuk-do\", \"Gyeongsangnam-do\", \"Incheon\", \"Jeju-do\", \"Jeollabuk-do\", \"Jeollanam-do\", \"Sejong\", \"Seoul\", \"Ulsan\"], \"ids\": [\"Busan\", \"Chungcheongbuk-do\", \"Chungcheongnam-do\", \"Daegu\", \"Daejeon\", \"Gangwon-do\", \"Gwangju\", \"Gyeonggi-do\", \"Gyeongsangbuk-do\", \"Gyeongsangnam-do\", \"Incheon\", \"Jeju-do\", \"Jeollabuk-do\", \"Jeollanam-do\", \"Sejong\", \"Seoul\", \"Ulsan\"], \"legendgroup\": \"\", \"marker\": {\"color\": \"#636efa\", \"opacity\": 0.75}, \"name\": \"\", \"offsetgroup\": \"\", \"orientation\": \"v\", \"showlegend\": false, \"textposition\": \"auto\", \"x\": [\"Busan\", \"Chungcheongbuk-do\", \"Chungcheongnam-do\", \"Daegu\", \"Daejeon\", \"Gangwon-do\", \"Gwangju\", \"Gyeonggi-do\", \"Gyeongsangbuk-do\", \"Gyeongsangnam-do\", \"Incheon\", \"Jeju-do\", \"Jeollabuk-do\", \"Jeollanam-do\", \"Sejong\", \"Seoul\", \"Ulsan\"], \"xaxis\": \"x\", \"y\": [114, 41, 125, 63, 33, 33, 20, 455, 1132, 91, 59, 8, 12, 9, 39, 413, 38], \"yaxis\": \"y\", \"type\": \"bar\"}], \"name\": \"68\"}, {\"data\": [{\"alignmentgroup\": \"True\", \"customdata\": [[116, 6, 107, 3], [44, 5, 39, 0], [125, 4, 121, 0], [63, 39, 4, 20], [33, 5, 28, 0], [35, 8, 26, 1], [20, 1, 19, 0], [466, 404, 61, 1], [1143, 338, 765, 40], [92, 6, 86, 0], [61, 16, 45, 0], [9, 2, 7, 0], [13, 9, 4, 0], [9, 6, 3, 0], [39, 5, 34, 0], [434, 72, 360, 2], [38, 4, 33, 1]], \"hovertemplate\": \"<b>%{hovertext}</b><br><br>Days=69<br>province=%{x}<br>Confirmed=%{customdata[0]}<br>Isolated=%{customdata[1]}<br>Released=%{customdata[2]}<br>Deceased=%{customdata[3]}<extra></extra>\", \"hovertext\": [\"Busan\", \"Chungcheongbuk-do\", \"Chungcheongnam-do\", \"Daegu\", \"Daejeon\", \"Gangwon-do\", \"Gwangju\", \"Gyeonggi-do\", \"Gyeongsangbuk-do\", \"Gyeongsangnam-do\", \"Incheon\", \"Jeju-do\", \"Jeollabuk-do\", \"Jeollanam-do\", \"Sejong\", \"Seoul\", \"Ulsan\"], \"ids\": [\"Busan\", \"Chungcheongbuk-do\", \"Chungcheongnam-do\", \"Daegu\", \"Daejeon\", \"Gangwon-do\", \"Gwangju\", \"Gyeonggi-do\", \"Gyeongsangbuk-do\", \"Gyeongsangnam-do\", \"Incheon\", \"Jeju-do\", \"Jeollabuk-do\", \"Jeollanam-do\", \"Sejong\", \"Seoul\", \"Ulsan\"], \"legendgroup\": \"\", \"marker\": {\"color\": \"#636efa\", \"opacity\": 0.75}, \"name\": \"\", \"offsetgroup\": \"\", \"orientation\": \"v\", \"showlegend\": false, \"textposition\": \"auto\", \"x\": [\"Busan\", \"Chungcheongbuk-do\", \"Chungcheongnam-do\", \"Daegu\", \"Daejeon\", \"Gangwon-do\", \"Gwangju\", \"Gyeonggi-do\", \"Gyeongsangbuk-do\", \"Gyeongsangnam-do\", \"Incheon\", \"Jeju-do\", \"Jeollabuk-do\", \"Jeollanam-do\", \"Sejong\", \"Seoul\", \"Ulsan\"], \"xaxis\": \"x\", \"y\": [116, 44, 125, 63, 33, 35, 20, 466, 1143, 92, 61, 9, 13, 9, 39, 434, 38], \"yaxis\": \"y\", \"type\": \"bar\"}], \"name\": \"69\"}, {\"data\": [{\"alignmentgroup\": \"True\", \"customdata\": [[116, 6, 107, 3], [44, 5, 39, 0], [126, 5, 121, 0], [63, 39, 4, 20], [35, 5, 30, 0], [35, 8, 26, 1], [20, 1, 19, 0], [478, 416, 61, 1], [1147, 340, 767, 40], [92, 6, 86, 0], [66, 19, 47, 0], [9, 2, 7, 0], [13, 9, 4, 0], [11, 8, 3, 0], [39, 5, 34, 0], [454, 83, 369, 2], [38, 4, 33, 1]], \"hovertemplate\": \"<b>%{hovertext}</b><br><br>Days=70<br>province=%{x}<br>Confirmed=%{customdata[0]}<br>Isolated=%{customdata[1]}<br>Released=%{customdata[2]}<br>Deceased=%{customdata[3]}<extra></extra>\", \"hovertext\": [\"Busan\", \"Chungcheongbuk-do\", \"Chungcheongnam-do\", \"Daegu\", \"Daejeon\", \"Gangwon-do\", \"Gwangju\", \"Gyeonggi-do\", \"Gyeongsangbuk-do\", \"Gyeongsangnam-do\", \"Incheon\", \"Jeju-do\", \"Jeollabuk-do\", \"Jeollanam-do\", \"Sejong\", \"Seoul\", \"Ulsan\"], \"ids\": [\"Busan\", \"Chungcheongbuk-do\", \"Chungcheongnam-do\", \"Daegu\", \"Daejeon\", \"Gangwon-do\", \"Gwangju\", \"Gyeonggi-do\", \"Gyeongsangbuk-do\", \"Gyeongsangnam-do\", \"Incheon\", \"Jeju-do\", \"Jeollabuk-do\", \"Jeollanam-do\", \"Sejong\", \"Seoul\", \"Ulsan\"], \"legendgroup\": \"\", \"marker\": {\"color\": \"#636efa\", \"opacity\": 0.75}, \"name\": \"\", \"offsetgroup\": \"\", \"orientation\": \"v\", \"showlegend\": false, \"textposition\": \"auto\", \"x\": [\"Busan\", \"Chungcheongbuk-do\", \"Chungcheongnam-do\", \"Daegu\", \"Daejeon\", \"Gangwon-do\", \"Gwangju\", \"Gyeonggi-do\", \"Gyeongsangbuk-do\", \"Gyeongsangnam-do\", \"Incheon\", \"Jeju-do\", \"Jeollabuk-do\", \"Jeollanam-do\", \"Sejong\", \"Seoul\", \"Ulsan\"], \"xaxis\": \"x\", \"y\": [116, 44, 126, 63, 35, 35, 20, 478, 1147, 92, 66, 9, 13, 11, 39, 454, 38], \"yaxis\": \"y\", \"type\": \"bar\"}], \"name\": \"70\"}, {\"data\": [{\"alignmentgroup\": \"True\", \"customdata\": [[119, 6, 110, 3], [44, 5, 39, 0], [129, 6, 123, 0], [63, 39, 4, 20], [35, 5, 30, 0], [37, 9, 27, 1], [24, 4, 20, 0], [501, 439, 61, 1], [1150, 342, 768, 40], [101, 11, 90, 0], [70, 22, 48, 0], [9, 2, 7, 0], [14, 10, 4, 0], [13, 10, 3, 0], [39, 5, 34, 0], [478, 92, 384, 2], [38, 4, 33, 1]], \"hovertemplate\": \"<b>%{hovertext}</b><br><br>Days=71<br>province=%{x}<br>Confirmed=%{customdata[0]}<br>Isolated=%{customdata[1]}<br>Released=%{customdata[2]}<br>Deceased=%{customdata[3]}<extra></extra>\", \"hovertext\": [\"Busan\", \"Chungcheongbuk-do\", \"Chungcheongnam-do\", \"Daegu\", \"Daejeon\", \"Gangwon-do\", \"Gwangju\", \"Gyeonggi-do\", \"Gyeongsangbuk-do\", \"Gyeongsangnam-do\", \"Incheon\", \"Jeju-do\", \"Jeollabuk-do\", \"Jeollanam-do\", \"Sejong\", \"Seoul\", \"Ulsan\"], \"ids\": [\"Busan\", \"Chungcheongbuk-do\", \"Chungcheongnam-do\", \"Daegu\", \"Daejeon\", \"Gangwon-do\", \"Gwangju\", \"Gyeonggi-do\", \"Gyeongsangbuk-do\", \"Gyeongsangnam-do\", \"Incheon\", \"Jeju-do\", \"Jeollabuk-do\", \"Jeollanam-do\", \"Sejong\", \"Seoul\", \"Ulsan\"], \"legendgroup\": \"\", \"marker\": {\"color\": \"#636efa\", \"opacity\": 0.75}, \"name\": \"\", \"offsetgroup\": \"\", \"orientation\": \"v\", \"showlegend\": false, \"textposition\": \"auto\", \"x\": [\"Busan\", \"Chungcheongbuk-do\", \"Chungcheongnam-do\", \"Daegu\", \"Daejeon\", \"Gangwon-do\", \"Gwangju\", \"Gyeonggi-do\", \"Gyeongsangbuk-do\", \"Gyeongsangnam-do\", \"Incheon\", \"Jeju-do\", \"Jeollabuk-do\", \"Jeollanam-do\", \"Sejong\", \"Seoul\", \"Ulsan\"], \"xaxis\": \"x\", \"y\": [119, 44, 129, 63, 35, 37, 24, 501, 1150, 101, 70, 9, 14, 13, 39, 478, 38], \"yaxis\": \"y\", \"type\": \"bar\"}], \"name\": \"71\"}, {\"data\": [{\"alignmentgroup\": \"True\", \"customdata\": [[119, 6, 110, 3], [44, 5, 39, 0], [131, 7, 124, 0], [63, 39, 4, 20], [35, 5, 30, 0], [37, 9, 27, 1], [25, 5, 20, 0], [520, 458, 61, 1], [1153, 345, 768, 40], [102, 11, 91, 0], [74, 25, 49, 0], [9, 2, 7, 0], [14, 10, 4, 0], [14, 11, 3, 0], [39, 5, 34, 0], [494, 99, 393, 2], [39, 4, 34, 1]], \"hovertemplate\": \"<b>%{hovertext}</b><br><br>Days=72<br>province=%{x}<br>Confirmed=%{customdata[0]}<br>Isolated=%{customdata[1]}<br>Released=%{customdata[2]}<br>Deceased=%{customdata[3]}<extra></extra>\", \"hovertext\": [\"Busan\", \"Chungcheongbuk-do\", \"Chungcheongnam-do\", \"Daegu\", \"Daejeon\", \"Gangwon-do\", \"Gwangju\", \"Gyeonggi-do\", \"Gyeongsangbuk-do\", \"Gyeongsangnam-do\", \"Incheon\", \"Jeju-do\", \"Jeollabuk-do\", \"Jeollanam-do\", \"Sejong\", \"Seoul\", \"Ulsan\"], \"ids\": [\"Busan\", \"Chungcheongbuk-do\", \"Chungcheongnam-do\", \"Daegu\", \"Daejeon\", \"Gangwon-do\", \"Gwangju\", \"Gyeonggi-do\", \"Gyeongsangbuk-do\", \"Gyeongsangnam-do\", \"Incheon\", \"Jeju-do\", \"Jeollabuk-do\", \"Jeollanam-do\", \"Sejong\", \"Seoul\", \"Ulsan\"], \"legendgroup\": \"\", \"marker\": {\"color\": \"#636efa\", \"opacity\": 0.75}, \"name\": \"\", \"offsetgroup\": \"\", \"orientation\": \"v\", \"showlegend\": false, \"textposition\": \"auto\", \"x\": [\"Busan\", \"Chungcheongbuk-do\", \"Chungcheongnam-do\", \"Daegu\", \"Daejeon\", \"Gangwon-do\", \"Gwangju\", \"Gyeonggi-do\", \"Gyeongsangbuk-do\", \"Gyeongsangnam-do\", \"Incheon\", \"Jeju-do\", \"Jeollabuk-do\", \"Jeollanam-do\", \"Sejong\", \"Seoul\", \"Ulsan\"], \"xaxis\": \"x\", \"y\": [119, 44, 131, 63, 35, 37, 25, 520, 1153, 102, 74, 9, 14, 14, 39, 494, 39], \"yaxis\": \"y\", \"type\": \"bar\"}], \"name\": \"72\"}, {\"data\": [{\"alignmentgroup\": \"True\", \"customdata\": [[119, 6, 110, 3], [44, 5, 39, 0], [132, 7, 125, 0], [63, 39, 4, 20], [35, 5, 30, 0], [39, 11, 27, 1], [26, 5, 21, 0], [546, 484, 61, 1], [1158, 347, 771, 40], [103, 11, 92, 0], [75, 25, 50, 0], [9, 2, 7, 0], [15, 11, 4, 0], [15, 12, 3, 0], [39, 5, 34, 0], [513, 108, 403, 2], [39, 4, 34, 1]], \"hovertemplate\": \"<b>%{hovertext}</b><br><br>Days=73<br>province=%{x}<br>Confirmed=%{customdata[0]}<br>Isolated=%{customdata[1]}<br>Released=%{customdata[2]}<br>Deceased=%{customdata[3]}<extra></extra>\", \"hovertext\": [\"Busan\", \"Chungcheongbuk-do\", \"Chungcheongnam-do\", \"Daegu\", \"Daejeon\", \"Gangwon-do\", \"Gwangju\", \"Gyeonggi-do\", \"Gyeongsangbuk-do\", \"Gyeongsangnam-do\", \"Incheon\", \"Jeju-do\", \"Jeollabuk-do\", \"Jeollanam-do\", \"Sejong\", \"Seoul\", \"Ulsan\"], \"ids\": [\"Busan\", \"Chungcheongbuk-do\", \"Chungcheongnam-do\", \"Daegu\", \"Daejeon\", \"Gangwon-do\", \"Gwangju\", \"Gyeonggi-do\", \"Gyeongsangbuk-do\", \"Gyeongsangnam-do\", \"Incheon\", \"Jeju-do\", \"Jeollabuk-do\", \"Jeollanam-do\", \"Sejong\", \"Seoul\", \"Ulsan\"], \"legendgroup\": \"\", \"marker\": {\"color\": \"#636efa\", \"opacity\": 0.75}, \"name\": \"\", \"offsetgroup\": \"\", \"orientation\": \"v\", \"showlegend\": false, \"textposition\": \"auto\", \"x\": [\"Busan\", \"Chungcheongbuk-do\", \"Chungcheongnam-do\", \"Daegu\", \"Daejeon\", \"Gangwon-do\", \"Gwangju\", \"Gyeonggi-do\", \"Gyeongsangbuk-do\", \"Gyeongsangnam-do\", \"Incheon\", \"Jeju-do\", \"Jeollabuk-do\", \"Jeollanam-do\", \"Sejong\", \"Seoul\", \"Ulsan\"], \"xaxis\": \"x\", \"y\": [119, 44, 132, 63, 35, 39, 26, 546, 1158, 103, 75, 9, 15, 15, 39, 513, 39], \"yaxis\": \"y\", \"type\": \"bar\"}], \"name\": \"73\"}, {\"data\": [{\"alignmentgroup\": \"True\", \"customdata\": [[119, 6, 110, 3], [44, 5, 39, 0], [133, 7, 126, 0], [63, 39, 4, 20], [35, 5, 30, 0], [40, 11, 27, 2], [26, 5, 21, 0], [563, 501, 61, 1], [1160, 349, 771, 40], [104, 11, 93, 0], [78, 25, 53, 0], [12, 5, 7, 0], [15, 11, 4, 0], [15, 12, 3, 0], [39, 5, 34, 0], [533, 121, 410, 2], [39, 4, 34, 1]], \"hovertemplate\": \"<b>%{hovertext}</b><br><br>Days=74<br>province=%{x}<br>Confirmed=%{customdata[0]}<br>Isolated=%{customdata[1]}<br>Released=%{customdata[2]}<br>Deceased=%{customdata[3]}<extra></extra>\", \"hovertext\": [\"Busan\", \"Chungcheongbuk-do\", \"Chungcheongnam-do\", \"Daegu\", \"Daejeon\", \"Gangwon-do\", \"Gwangju\", \"Gyeonggi-do\", \"Gyeongsangbuk-do\", \"Gyeongsangnam-do\", \"Incheon\", \"Jeju-do\", \"Jeollabuk-do\", \"Jeollanam-do\", \"Sejong\", \"Seoul\", \"Ulsan\"], \"ids\": [\"Busan\", \"Chungcheongbuk-do\", \"Chungcheongnam-do\", \"Daegu\", \"Daejeon\", \"Gangwon-do\", \"Gwangju\", \"Gyeonggi-do\", \"Gyeongsangbuk-do\", \"Gyeongsangnam-do\", \"Incheon\", \"Jeju-do\", \"Jeollabuk-do\", \"Jeollanam-do\", \"Sejong\", \"Seoul\", \"Ulsan\"], \"legendgroup\": \"\", \"marker\": {\"color\": \"#636efa\", \"opacity\": 0.75}, \"name\": \"\", \"offsetgroup\": \"\", \"orientation\": \"v\", \"showlegend\": false, \"textposition\": \"auto\", \"x\": [\"Busan\", \"Chungcheongbuk-do\", \"Chungcheongnam-do\", \"Daegu\", \"Daejeon\", \"Gangwon-do\", \"Gwangju\", \"Gyeonggi-do\", \"Gyeongsangbuk-do\", \"Gyeongsangnam-do\", \"Incheon\", \"Jeju-do\", \"Jeollabuk-do\", \"Jeollanam-do\", \"Sejong\", \"Seoul\", \"Ulsan\"], \"xaxis\": \"x\", \"y\": [119, 44, 133, 63, 35, 40, 26, 563, 1160, 104, 78, 12, 15, 15, 39, 533, 39], \"yaxis\": \"y\", \"type\": \"bar\"}], \"name\": \"74\"}, {\"data\": [{\"alignmentgroup\": \"True\", \"customdata\": [[119, 6, 110, 3], [44, 5, 39, 0], [133, 7, 126, 0], [63, 39, 4, 20], [36, 5, 31, 0], [42, 13, 27, 2], [27, 6, 21, 0], [576, 514, 61, 1], [1165, 354, 771, 40], [105, 11, 94, 0], [79, 26, 53, 0], [12, 5, 7, 0], [16, 12, 4, 0], [15, 12, 3, 0], [39, 5, 34, 0], [552, 135, 415, 2], [39, 4, 34, 1]], \"hovertemplate\": \"<b>%{hovertext}</b><br><br>Days=75<br>province=%{x}<br>Confirmed=%{customdata[0]}<br>Isolated=%{customdata[1]}<br>Released=%{customdata[2]}<br>Deceased=%{customdata[3]}<extra></extra>\", \"hovertext\": [\"Busan\", \"Chungcheongbuk-do\", \"Chungcheongnam-do\", \"Daegu\", \"Daejeon\", \"Gangwon-do\", \"Gwangju\", \"Gyeonggi-do\", \"Gyeongsangbuk-do\", \"Gyeongsangnam-do\", \"Incheon\", \"Jeju-do\", \"Jeollabuk-do\", \"Jeollanam-do\", \"Sejong\", \"Seoul\", \"Ulsan\"], \"ids\": [\"Busan\", \"Chungcheongbuk-do\", \"Chungcheongnam-do\", \"Daegu\", \"Daejeon\", \"Gangwon-do\", \"Gwangju\", \"Gyeonggi-do\", \"Gyeongsangbuk-do\", \"Gyeongsangnam-do\", \"Incheon\", \"Jeju-do\", \"Jeollabuk-do\", \"Jeollanam-do\", \"Sejong\", \"Seoul\", \"Ulsan\"], \"legendgroup\": \"\", \"marker\": {\"color\": \"#636efa\", \"opacity\": 0.75}, \"name\": \"\", \"offsetgroup\": \"\", \"orientation\": \"v\", \"showlegend\": false, \"textposition\": \"auto\", \"x\": [\"Busan\", \"Chungcheongbuk-do\", \"Chungcheongnam-do\", \"Daegu\", \"Daejeon\", \"Gangwon-do\", \"Gwangju\", \"Gyeonggi-do\", \"Gyeongsangbuk-do\", \"Gyeongsangnam-do\", \"Incheon\", \"Jeju-do\", \"Jeollabuk-do\", \"Jeollanam-do\", \"Sejong\", \"Seoul\", \"Ulsan\"], \"xaxis\": \"x\", \"y\": [119, 44, 133, 63, 36, 42, 27, 576, 1165, 105, 79, 12, 16, 15, 39, 552, 39], \"yaxis\": \"y\", \"type\": \"bar\"}], \"name\": \"75\"}, {\"data\": [{\"alignmentgroup\": \"True\", \"customdata\": [[119, 6, 110, 3], [44, 5, 39, 0], [134, 8, 126, 0], [63, 39, 4, 20], [38, 5, 33, 0], [43, 13, 28, 2], [27, 6, 21, 0], [583, 521, 61, 1], [1167, 356, 771, 40], [107, 13, 94, 0], [80, 27, 53, 0], [12, 5, 7, 0], [16, 12, 4, 0], [15, 12, 3, 0], [39, 5, 34, 0], [563, 144, 417, 2], [39, 4, 34, 1]], \"hovertemplate\": \"<b>%{hovertext}</b><br><br>Days=76<br>province=%{x}<br>Confirmed=%{customdata[0]}<br>Isolated=%{customdata[1]}<br>Released=%{customdata[2]}<br>Deceased=%{customdata[3]}<extra></extra>\", \"hovertext\": [\"Busan\", \"Chungcheongbuk-do\", \"Chungcheongnam-do\", \"Daegu\", \"Daejeon\", \"Gangwon-do\", \"Gwangju\", \"Gyeonggi-do\", \"Gyeongsangbuk-do\", \"Gyeongsangnam-do\", \"Incheon\", \"Jeju-do\", \"Jeollabuk-do\", \"Jeollanam-do\", \"Sejong\", \"Seoul\", \"Ulsan\"], \"ids\": [\"Busan\", \"Chungcheongbuk-do\", \"Chungcheongnam-do\", \"Daegu\", \"Daejeon\", \"Gangwon-do\", \"Gwangju\", \"Gyeonggi-do\", \"Gyeongsangbuk-do\", \"Gyeongsangnam-do\", \"Incheon\", \"Jeju-do\", \"Jeollabuk-do\", \"Jeollanam-do\", \"Sejong\", \"Seoul\", \"Ulsan\"], \"legendgroup\": \"\", \"marker\": {\"color\": \"#636efa\", \"opacity\": 0.75}, \"name\": \"\", \"offsetgroup\": \"\", \"orientation\": \"v\", \"showlegend\": false, \"textposition\": \"auto\", \"x\": [\"Busan\", \"Chungcheongbuk-do\", \"Chungcheongnam-do\", \"Daegu\", \"Daejeon\", \"Gangwon-do\", \"Gwangju\", \"Gyeonggi-do\", \"Gyeongsangbuk-do\", \"Gyeongsangnam-do\", \"Incheon\", \"Jeju-do\", \"Jeollabuk-do\", \"Jeollanam-do\", \"Sejong\", \"Seoul\", \"Ulsan\"], \"xaxis\": \"x\", \"y\": [119, 44, 134, 63, 38, 43, 27, 583, 1167, 107, 80, 12, 16, 15, 39, 563, 39], \"yaxis\": \"y\", \"type\": \"bar\"}], \"name\": \"76\"}, {\"data\": [{\"alignmentgroup\": \"True\", \"customdata\": [[120, 7, 110, 3], [44, 5, 39, 0], [135, 8, 127, 0], [63, 39, 4, 20], [38, 5, 33, 0], [45, 14, 29, 2], [27, 6, 21, 0], [591, 529, 61, 1], [1168, 357, 771, 40], [108, 14, 94, 0], [80, 27, 53, 0], [12, 5, 7, 0], [16, 12, 4, 0], [15, 12, 3, 0], [39, 5, 34, 0], [563, 144, 417, 2], [39, 4, 34, 1]], \"hovertemplate\": \"<b>%{hovertext}</b><br><br>Days=77<br>province=%{x}<br>Confirmed=%{customdata[0]}<br>Isolated=%{customdata[1]}<br>Released=%{customdata[2]}<br>Deceased=%{customdata[3]}<extra></extra>\", \"hovertext\": [\"Busan\", \"Chungcheongbuk-do\", \"Chungcheongnam-do\", \"Daegu\", \"Daejeon\", \"Gangwon-do\", \"Gwangju\", \"Gyeonggi-do\", \"Gyeongsangbuk-do\", \"Gyeongsangnam-do\", \"Incheon\", \"Jeju-do\", \"Jeollabuk-do\", \"Jeollanam-do\", \"Sejong\", \"Seoul\", \"Ulsan\"], \"ids\": [\"Busan\", \"Chungcheongbuk-do\", \"Chungcheongnam-do\", \"Daegu\", \"Daejeon\", \"Gangwon-do\", \"Gwangju\", \"Gyeonggi-do\", \"Gyeongsangbuk-do\", \"Gyeongsangnam-do\", \"Incheon\", \"Jeju-do\", \"Jeollabuk-do\", \"Jeollanam-do\", \"Sejong\", \"Seoul\", \"Ulsan\"], \"legendgroup\": \"\", \"marker\": {\"color\": \"#636efa\", \"opacity\": 0.75}, \"name\": \"\", \"offsetgroup\": \"\", \"orientation\": \"v\", \"showlegend\": false, \"textposition\": \"auto\", \"x\": [\"Busan\", \"Chungcheongbuk-do\", \"Chungcheongnam-do\", \"Daegu\", \"Daejeon\", \"Gangwon-do\", \"Gwangju\", \"Gyeonggi-do\", \"Gyeongsangbuk-do\", \"Gyeongsangnam-do\", \"Incheon\", \"Jeju-do\", \"Jeollabuk-do\", \"Jeollanam-do\", \"Sejong\", \"Seoul\", \"Ulsan\"], \"xaxis\": \"x\", \"y\": [120, 44, 135, 63, 38, 45, 27, 591, 1168, 108, 80, 12, 16, 15, 39, 563, 39], \"yaxis\": \"y\", \"type\": \"bar\"}], \"name\": \"77\"}, {\"data\": [{\"alignmentgroup\": \"True\", \"customdata\": [[122, 8, 111, 3], [44, 5, 39, 0], [136, 9, 127, 0], [63, 39, 4, 20], [38, 5, 33, 0], [46, 15, 29, 2], [27, 6, 21, 0], [599, 537, 61, 1], [1172, 360, 772, 40], [109, 14, 95, 0], [83, 28, 55, 0], [12, 5, 7, 0], [17, 13, 4, 0], [15, 12, 3, 0], [42, 5, 37, 0], [563, 144, 417, 2], [39, 4, 34, 1]], \"hovertemplate\": \"<b>%{hovertext}</b><br><br>Days=78<br>province=%{x}<br>Confirmed=%{customdata[0]}<br>Isolated=%{customdata[1]}<br>Released=%{customdata[2]}<br>Deceased=%{customdata[3]}<extra></extra>\", \"hovertext\": [\"Busan\", \"Chungcheongbuk-do\", \"Chungcheongnam-do\", \"Daegu\", \"Daejeon\", \"Gangwon-do\", \"Gwangju\", \"Gyeonggi-do\", \"Gyeongsangbuk-do\", \"Gyeongsangnam-do\", \"Incheon\", \"Jeju-do\", \"Jeollabuk-do\", \"Jeollanam-do\", \"Sejong\", \"Seoul\", \"Ulsan\"], \"ids\": [\"Busan\", \"Chungcheongbuk-do\", \"Chungcheongnam-do\", \"Daegu\", \"Daejeon\", \"Gangwon-do\", \"Gwangju\", \"Gyeonggi-do\", \"Gyeongsangbuk-do\", \"Gyeongsangnam-do\", \"Incheon\", \"Jeju-do\", \"Jeollabuk-do\", \"Jeollanam-do\", \"Sejong\", \"Seoul\", \"Ulsan\"], \"legendgroup\": \"\", \"marker\": {\"color\": \"#636efa\", \"opacity\": 0.75}, \"name\": \"\", \"offsetgroup\": \"\", \"orientation\": \"v\", \"showlegend\": false, \"textposition\": \"auto\", \"x\": [\"Busan\", \"Chungcheongbuk-do\", \"Chungcheongnam-do\", \"Daegu\", \"Daejeon\", \"Gangwon-do\", \"Gwangju\", \"Gyeonggi-do\", \"Gyeongsangbuk-do\", \"Gyeongsangnam-do\", \"Incheon\", \"Jeju-do\", \"Jeollabuk-do\", \"Jeollanam-do\", \"Sejong\", \"Seoul\", \"Ulsan\"], \"xaxis\": \"x\", \"y\": [122, 44, 136, 63, 38, 46, 27, 599, 1172, 109, 83, 12, 17, 15, 42, 563, 39], \"yaxis\": \"y\", \"type\": \"bar\"}], \"name\": \"78\"}, {\"data\": [{\"alignmentgroup\": \"True\", \"customdata\": [[122, 8, 111, 3], [44, 5, 39, 0], [136, 9, 127, 0], [63, 39, 4, 20], [39, 5, 34, 0], [46, 15, 29, 2], [27, 6, 21, 0], [608, 546, 61, 1], [1172, 360, 772, 40], [111, 16, 95, 0], [83, 28, 55, 0], [12, 5, 7, 0], [17, 13, 4, 0], [15, 12, 3, 0], [43, 6, 37, 0], [563, 144, 417, 2], [39, 4, 34, 1]], \"hovertemplate\": \"<b>%{hovertext}</b><br><br>Days=79<br>province=%{x}<br>Confirmed=%{customdata[0]}<br>Isolated=%{customdata[1]}<br>Released=%{customdata[2]}<br>Deceased=%{customdata[3]}<extra></extra>\", \"hovertext\": [\"Busan\", \"Chungcheongbuk-do\", \"Chungcheongnam-do\", \"Daegu\", \"Daejeon\", \"Gangwon-do\", \"Gwangju\", \"Gyeonggi-do\", \"Gyeongsangbuk-do\", \"Gyeongsangnam-do\", \"Incheon\", \"Jeju-do\", \"Jeollabuk-do\", \"Jeollanam-do\", \"Sejong\", \"Seoul\", \"Ulsan\"], \"ids\": [\"Busan\", \"Chungcheongbuk-do\", \"Chungcheongnam-do\", \"Daegu\", \"Daejeon\", \"Gangwon-do\", \"Gwangju\", \"Gyeonggi-do\", \"Gyeongsangbuk-do\", \"Gyeongsangnam-do\", \"Incheon\", \"Jeju-do\", \"Jeollabuk-do\", \"Jeollanam-do\", \"Sejong\", \"Seoul\", \"Ulsan\"], \"legendgroup\": \"\", \"marker\": {\"color\": \"#636efa\", \"opacity\": 0.75}, \"name\": \"\", \"offsetgroup\": \"\", \"orientation\": \"v\", \"showlegend\": false, \"textposition\": \"auto\", \"x\": [\"Busan\", \"Chungcheongbuk-do\", \"Chungcheongnam-do\", \"Daegu\", \"Daejeon\", \"Gangwon-do\", \"Gwangju\", \"Gyeonggi-do\", \"Gyeongsangbuk-do\", \"Gyeongsangnam-do\", \"Incheon\", \"Jeju-do\", \"Jeollabuk-do\", \"Jeollanam-do\", \"Sejong\", \"Seoul\", \"Ulsan\"], \"xaxis\": \"x\", \"y\": [122, 44, 136, 63, 39, 46, 27, 608, 1172, 111, 83, 12, 17, 15, 43, 563, 39], \"yaxis\": \"y\", \"type\": \"bar\"}], \"name\": \"79\"}, {\"data\": [{\"alignmentgroup\": \"True\", \"customdata\": [[123, 9, 111, 3], [44, 5, 39, 0], [136, 9, 127, 0], [63, 39, 4, 20], [39, 5, 34, 0], [46, 15, 29, 2], [27, 6, 21, 0], [616, 554, 61, 1], [1179, 367, 772, 40], [111, 16, 95, 0], [85, 30, 55, 0], [12, 5, 7, 0], [17, 13, 4, 0], [15, 12, 3, 0], [43, 6, 37, 0], [563, 144, 417, 2], [39, 4, 34, 1]], \"hovertemplate\": \"<b>%{hovertext}</b><br><br>Days=80<br>province=%{x}<br>Confirmed=%{customdata[0]}<br>Isolated=%{customdata[1]}<br>Released=%{customdata[2]}<br>Deceased=%{customdata[3]}<extra></extra>\", \"hovertext\": [\"Busan\", \"Chungcheongbuk-do\", \"Chungcheongnam-do\", \"Daegu\", \"Daejeon\", \"Gangwon-do\", \"Gwangju\", \"Gyeonggi-do\", \"Gyeongsangbuk-do\", \"Gyeongsangnam-do\", \"Incheon\", \"Jeju-do\", \"Jeollabuk-do\", \"Jeollanam-do\", \"Sejong\", \"Seoul\", \"Ulsan\"], \"ids\": [\"Busan\", \"Chungcheongbuk-do\", \"Chungcheongnam-do\", \"Daegu\", \"Daejeon\", \"Gangwon-do\", \"Gwangju\", \"Gyeonggi-do\", \"Gyeongsangbuk-do\", \"Gyeongsangnam-do\", \"Incheon\", \"Jeju-do\", \"Jeollabuk-do\", \"Jeollanam-do\", \"Sejong\", \"Seoul\", \"Ulsan\"], \"legendgroup\": \"\", \"marker\": {\"color\": \"#636efa\", \"opacity\": 0.75}, \"name\": \"\", \"offsetgroup\": \"\", \"orientation\": \"v\", \"showlegend\": false, \"textposition\": \"auto\", \"x\": [\"Busan\", \"Chungcheongbuk-do\", \"Chungcheongnam-do\", \"Daegu\", \"Daejeon\", \"Gangwon-do\", \"Gwangju\", \"Gyeonggi-do\", \"Gyeongsangbuk-do\", \"Gyeongsangnam-do\", \"Incheon\", \"Jeju-do\", \"Jeollabuk-do\", \"Jeollanam-do\", \"Sejong\", \"Seoul\", \"Ulsan\"], \"xaxis\": \"x\", \"y\": [123, 44, 136, 63, 39, 46, 27, 616, 1179, 111, 85, 12, 17, 15, 43, 563, 39], \"yaxis\": \"y\", \"type\": \"bar\"}], \"name\": \"80\"}, {\"data\": [{\"alignmentgroup\": \"True\", \"customdata\": [[123, 9, 111, 3], [44, 5, 39, 0], [136, 9, 127, 0], [63, 39, 4, 20], [39, 5, 34, 0], [46, 15, 29, 2], [27, 6, 21, 0], [624, 562, 61, 1], [1182, 370, 772, 40], [111, 16, 95, 0], [86, 31, 55, 0], [12, 5, 7, 0], [17, 13, 4, 0], [15, 12, 3, 0], [43, 6, 37, 0], [563, 144, 417, 2], [40, 4, 35, 1]], \"hovertemplate\": \"<b>%{hovertext}</b><br><br>Days=81<br>province=%{x}<br>Confirmed=%{customdata[0]}<br>Isolated=%{customdata[1]}<br>Released=%{customdata[2]}<br>Deceased=%{customdata[3]}<extra></extra>\", \"hovertext\": [\"Busan\", \"Chungcheongbuk-do\", \"Chungcheongnam-do\", \"Daegu\", \"Daejeon\", \"Gangwon-do\", \"Gwangju\", \"Gyeonggi-do\", \"Gyeongsangbuk-do\", \"Gyeongsangnam-do\", \"Incheon\", \"Jeju-do\", \"Jeollabuk-do\", \"Jeollanam-do\", \"Sejong\", \"Seoul\", \"Ulsan\"], \"ids\": [\"Busan\", \"Chungcheongbuk-do\", \"Chungcheongnam-do\", \"Daegu\", \"Daejeon\", \"Gangwon-do\", \"Gwangju\", \"Gyeonggi-do\", \"Gyeongsangbuk-do\", \"Gyeongsangnam-do\", \"Incheon\", \"Jeju-do\", \"Jeollabuk-do\", \"Jeollanam-do\", \"Sejong\", \"Seoul\", \"Ulsan\"], \"legendgroup\": \"\", \"marker\": {\"color\": \"#636efa\", \"opacity\": 0.75}, \"name\": \"\", \"offsetgroup\": \"\", \"orientation\": \"v\", \"showlegend\": false, \"textposition\": \"auto\", \"x\": [\"Busan\", \"Chungcheongbuk-do\", \"Chungcheongnam-do\", \"Daegu\", \"Daejeon\", \"Gangwon-do\", \"Gwangju\", \"Gyeonggi-do\", \"Gyeongsangbuk-do\", \"Gyeongsangnam-do\", \"Incheon\", \"Jeju-do\", \"Jeollabuk-do\", \"Jeollanam-do\", \"Sejong\", \"Seoul\", \"Ulsan\"], \"xaxis\": \"x\", \"y\": [123, 44, 136, 63, 39, 46, 27, 624, 1182, 111, 86, 12, 17, 15, 43, 563, 40], \"yaxis\": \"y\", \"type\": \"bar\"}], \"name\": \"81\"}, {\"data\": [{\"alignmentgroup\": \"True\", \"customdata\": [[123, 9, 111, 3], [44, 5, 39, 0], [137, 10, 127, 0], [63, 39, 4, 20], [39, 5, 34, 0], [46, 15, 29, 2], [27, 6, 21, 0], [629, 567, 61, 1], [1185, 373, 772, 40], [111, 16, 95, 0], [86, 31, 55, 0], [12, 5, 7, 0], [17, 13, 4, 0], [15, 12, 3, 0], [43, 6, 37, 0], [563, 144, 417, 2], [41, 4, 36, 1]], \"hovertemplate\": \"<b>%{hovertext}</b><br><br>Days=82<br>province=%{x}<br>Confirmed=%{customdata[0]}<br>Isolated=%{customdata[1]}<br>Released=%{customdata[2]}<br>Deceased=%{customdata[3]}<extra></extra>\", \"hovertext\": [\"Busan\", \"Chungcheongbuk-do\", \"Chungcheongnam-do\", \"Daegu\", \"Daejeon\", \"Gangwon-do\", \"Gwangju\", \"Gyeonggi-do\", \"Gyeongsangbuk-do\", \"Gyeongsangnam-do\", \"Incheon\", \"Jeju-do\", \"Jeollabuk-do\", \"Jeollanam-do\", \"Sejong\", \"Seoul\", \"Ulsan\"], \"ids\": [\"Busan\", \"Chungcheongbuk-do\", \"Chungcheongnam-do\", \"Daegu\", \"Daejeon\", \"Gangwon-do\", \"Gwangju\", \"Gyeonggi-do\", \"Gyeongsangbuk-do\", \"Gyeongsangnam-do\", \"Incheon\", \"Jeju-do\", \"Jeollabuk-do\", \"Jeollanam-do\", \"Sejong\", \"Seoul\", \"Ulsan\"], \"legendgroup\": \"\", \"marker\": {\"color\": \"#636efa\", \"opacity\": 0.75}, \"name\": \"\", \"offsetgroup\": \"\", \"orientation\": \"v\", \"showlegend\": false, \"textposition\": \"auto\", \"x\": [\"Busan\", \"Chungcheongbuk-do\", \"Chungcheongnam-do\", \"Daegu\", \"Daejeon\", \"Gangwon-do\", \"Gwangju\", \"Gyeonggi-do\", \"Gyeongsangbuk-do\", \"Gyeongsangnam-do\", \"Incheon\", \"Jeju-do\", \"Jeollabuk-do\", \"Jeollanam-do\", \"Sejong\", \"Seoul\", \"Ulsan\"], \"xaxis\": \"x\", \"y\": [123, 44, 137, 63, 39, 46, 27, 629, 1185, 111, 86, 12, 17, 15, 43, 563, 41], \"yaxis\": \"y\", \"type\": \"bar\"}], \"name\": \"82\"}, {\"data\": [{\"alignmentgroup\": \"True\", \"customdata\": [[123, 9, 111, 3], [44, 5, 39, 0], [137, 10, 127, 0], [63, 39, 4, 20], [39, 5, 34, 0], [46, 15, 29, 2], [27, 6, 21, 0], [634, 572, 61, 1], [1189, 377, 772, 40], [111, 16, 95, 0], [87, 32, 55, 0], [12, 5, 7, 0], [17, 13, 4, 0], [15, 12, 3, 0], [43, 6, 37, 0], [563, 144, 417, 2], [41, 4, 36, 1]], \"hovertemplate\": \"<b>%{hovertext}</b><br><br>Days=83<br>province=%{x}<br>Confirmed=%{customdata[0]}<br>Isolated=%{customdata[1]}<br>Released=%{customdata[2]}<br>Deceased=%{customdata[3]}<extra></extra>\", \"hovertext\": [\"Busan\", \"Chungcheongbuk-do\", \"Chungcheongnam-do\", \"Daegu\", \"Daejeon\", \"Gangwon-do\", \"Gwangju\", \"Gyeonggi-do\", \"Gyeongsangbuk-do\", \"Gyeongsangnam-do\", \"Incheon\", \"Jeju-do\", \"Jeollabuk-do\", \"Jeollanam-do\", \"Sejong\", \"Seoul\", \"Ulsan\"], \"ids\": [\"Busan\", \"Chungcheongbuk-do\", \"Chungcheongnam-do\", \"Daegu\", \"Daejeon\", \"Gangwon-do\", \"Gwangju\", \"Gyeonggi-do\", \"Gyeongsangbuk-do\", \"Gyeongsangnam-do\", \"Incheon\", \"Jeju-do\", \"Jeollabuk-do\", \"Jeollanam-do\", \"Sejong\", \"Seoul\", \"Ulsan\"], \"legendgroup\": \"\", \"marker\": {\"color\": \"#636efa\", \"opacity\": 0.75}, \"name\": \"\", \"offsetgroup\": \"\", \"orientation\": \"v\", \"showlegend\": false, \"textposition\": \"auto\", \"x\": [\"Busan\", \"Chungcheongbuk-do\", \"Chungcheongnam-do\", \"Daegu\", \"Daejeon\", \"Gangwon-do\", \"Gwangju\", \"Gyeonggi-do\", \"Gyeongsangbuk-do\", \"Gyeongsangnam-do\", \"Incheon\", \"Jeju-do\", \"Jeollabuk-do\", \"Jeollanam-do\", \"Sejong\", \"Seoul\", \"Ulsan\"], \"xaxis\": \"x\", \"y\": [123, 44, 137, 63, 39, 46, 27, 634, 1189, 111, 87, 12, 17, 15, 43, 563, 41], \"yaxis\": \"y\", \"type\": \"bar\"}], \"name\": \"83\"}, {\"data\": [{\"alignmentgroup\": \"True\", \"customdata\": [[123, 9, 111, 3], [44, 5, 39, 0], [137, 10, 127, 0], [63, 39, 4, 20], [39, 5, 34, 0], [46, 15, 29, 2], [27, 6, 21, 0], [641, 579, 61, 1], [1193, 381, 772, 40], [111, 16, 95, 0], [88, 33, 55, 0], [12, 5, 7, 0], [17, 13, 4, 0], [15, 12, 3, 0], [44, 6, 38, 0], [563, 144, 417, 2], [42, 4, 37, 1]], \"hovertemplate\": \"<b>%{hovertext}</b><br><br>Days=84<br>province=%{x}<br>Confirmed=%{customdata[0]}<br>Isolated=%{customdata[1]}<br>Released=%{customdata[2]}<br>Deceased=%{customdata[3]}<extra></extra>\", \"hovertext\": [\"Busan\", \"Chungcheongbuk-do\", \"Chungcheongnam-do\", \"Daegu\", \"Daejeon\", \"Gangwon-do\", \"Gwangju\", \"Gyeonggi-do\", \"Gyeongsangbuk-do\", \"Gyeongsangnam-do\", \"Incheon\", \"Jeju-do\", \"Jeollabuk-do\", \"Jeollanam-do\", \"Sejong\", \"Seoul\", \"Ulsan\"], \"ids\": [\"Busan\", \"Chungcheongbuk-do\", \"Chungcheongnam-do\", \"Daegu\", \"Daejeon\", \"Gangwon-do\", \"Gwangju\", \"Gyeonggi-do\", \"Gyeongsangbuk-do\", \"Gyeongsangnam-do\", \"Incheon\", \"Jeju-do\", \"Jeollabuk-do\", \"Jeollanam-do\", \"Sejong\", \"Seoul\", \"Ulsan\"], \"legendgroup\": \"\", \"marker\": {\"color\": \"#636efa\", \"opacity\": 0.75}, \"name\": \"\", \"offsetgroup\": \"\", \"orientation\": \"v\", \"showlegend\": false, \"textposition\": \"auto\", \"x\": [\"Busan\", \"Chungcheongbuk-do\", \"Chungcheongnam-do\", \"Daegu\", \"Daejeon\", \"Gangwon-do\", \"Gwangju\", \"Gyeonggi-do\", \"Gyeongsangbuk-do\", \"Gyeongsangnam-do\", \"Incheon\", \"Jeju-do\", \"Jeollabuk-do\", \"Jeollanam-do\", \"Sejong\", \"Seoul\", \"Ulsan\"], \"xaxis\": \"x\", \"y\": [123, 44, 137, 63, 39, 46, 27, 641, 1193, 111, 88, 12, 17, 15, 44, 563, 42], \"yaxis\": \"y\", \"type\": \"bar\"}], \"name\": \"84\"}, {\"data\": [{\"alignmentgroup\": \"True\", \"customdata\": [[124, 10, 111, 3], [44, 5, 39, 0], [137, 10, 127, 0], [63, 39, 4, 20], [39, 5, 34, 0], [48, 17, 29, 2], [28, 7, 21, 0], [646, 584, 61, 1], [1199, 386, 773, 40], [111, 16, 95, 0], [88, 33, 55, 0], [13, 6, 7, 0], [17, 13, 4, 0], [15, 12, 3, 0], [44, 6, 38, 0], [563, 144, 417, 2], [42, 4, 37, 1]], \"hovertemplate\": \"<b>%{hovertext}</b><br><br>Days=85<br>province=%{x}<br>Confirmed=%{customdata[0]}<br>Isolated=%{customdata[1]}<br>Released=%{customdata[2]}<br>Deceased=%{customdata[3]}<extra></extra>\", \"hovertext\": [\"Busan\", \"Chungcheongbuk-do\", \"Chungcheongnam-do\", \"Daegu\", \"Daejeon\", \"Gangwon-do\", \"Gwangju\", \"Gyeonggi-do\", \"Gyeongsangbuk-do\", \"Gyeongsangnam-do\", \"Incheon\", \"Jeju-do\", \"Jeollabuk-do\", \"Jeollanam-do\", \"Sejong\", \"Seoul\", \"Ulsan\"], \"ids\": [\"Busan\", \"Chungcheongbuk-do\", \"Chungcheongnam-do\", \"Daegu\", \"Daejeon\", \"Gangwon-do\", \"Gwangju\", \"Gyeonggi-do\", \"Gyeongsangbuk-do\", \"Gyeongsangnam-do\", \"Incheon\", \"Jeju-do\", \"Jeollabuk-do\", \"Jeollanam-do\", \"Sejong\", \"Seoul\", \"Ulsan\"], \"legendgroup\": \"\", \"marker\": {\"color\": \"#636efa\", \"opacity\": 0.75}, \"name\": \"\", \"offsetgroup\": \"\", \"orientation\": \"v\", \"showlegend\": false, \"textposition\": \"auto\", \"x\": [\"Busan\", \"Chungcheongbuk-do\", \"Chungcheongnam-do\", \"Daegu\", \"Daejeon\", \"Gangwon-do\", \"Gwangju\", \"Gyeonggi-do\", \"Gyeongsangbuk-do\", \"Gyeongsangnam-do\", \"Incheon\", \"Jeju-do\", \"Jeollabuk-do\", \"Jeollanam-do\", \"Sejong\", \"Seoul\", \"Ulsan\"], \"xaxis\": \"x\", \"y\": [124, 44, 137, 63, 39, 48, 28, 646, 1199, 111, 88, 13, 17, 15, 44, 563, 42], \"yaxis\": \"y\", \"type\": \"bar\"}], \"name\": \"85\"}, {\"data\": [{\"alignmentgroup\": \"True\", \"customdata\": [[127, 13, 111, 3], [44, 5, 39, 0], [138, 11, 127, 0], [63, 39, 4, 20], [39, 5, 34, 0], [48, 17, 29, 2], [28, 7, 21, 0], [649, 587, 61, 1], [1204, 391, 773, 40], [111, 16, 95, 0], [88, 33, 55, 0], [13, 6, 7, 0], [17, 13, 4, 0], [15, 12, 3, 0], [44, 6, 38, 0], [563, 144, 417, 2], [42, 4, 37, 1]], \"hovertemplate\": \"<b>%{hovertext}</b><br><br>Days=86<br>province=%{x}<br>Confirmed=%{customdata[0]}<br>Isolated=%{customdata[1]}<br>Released=%{customdata[2]}<br>Deceased=%{customdata[3]}<extra></extra>\", \"hovertext\": [\"Busan\", \"Chungcheongbuk-do\", \"Chungcheongnam-do\", \"Daegu\", \"Daejeon\", \"Gangwon-do\", \"Gwangju\", \"Gyeonggi-do\", \"Gyeongsangbuk-do\", \"Gyeongsangnam-do\", \"Incheon\", \"Jeju-do\", \"Jeollabuk-do\", \"Jeollanam-do\", \"Sejong\", \"Seoul\", \"Ulsan\"], \"ids\": [\"Busan\", \"Chungcheongbuk-do\", \"Chungcheongnam-do\", \"Daegu\", \"Daejeon\", \"Gangwon-do\", \"Gwangju\", \"Gyeonggi-do\", \"Gyeongsangbuk-do\", \"Gyeongsangnam-do\", \"Incheon\", \"Jeju-do\", \"Jeollabuk-do\", \"Jeollanam-do\", \"Sejong\", \"Seoul\", \"Ulsan\"], \"legendgroup\": \"\", \"marker\": {\"color\": \"#636efa\", \"opacity\": 0.75}, \"name\": \"\", \"offsetgroup\": \"\", \"orientation\": \"v\", \"showlegend\": false, \"textposition\": \"auto\", \"x\": [\"Busan\", \"Chungcheongbuk-do\", \"Chungcheongnam-do\", \"Daegu\", \"Daejeon\", \"Gangwon-do\", \"Gwangju\", \"Gyeonggi-do\", \"Gyeongsangbuk-do\", \"Gyeongsangnam-do\", \"Incheon\", \"Jeju-do\", \"Jeollabuk-do\", \"Jeollanam-do\", \"Sejong\", \"Seoul\", \"Ulsan\"], \"xaxis\": \"x\", \"y\": [127, 44, 138, 63, 39, 48, 28, 649, 1204, 111, 88, 13, 17, 15, 44, 563, 42], \"yaxis\": \"y\", \"type\": \"bar\"}], \"name\": \"86\"}, {\"data\": [{\"alignmentgroup\": \"True\", \"customdata\": [[127, 13, 111, 3], [44, 5, 39, 0], [138, 11, 127, 0], [63, 39, 4, 20], [39, 5, 34, 0], [48, 17, 29, 2], [30, 9, 21, 0], [650, 588, 61, 1], [1209, 396, 773, 40], [112, 16, 96, 0], [89, 34, 55, 0], [13, 6, 7, 0], [17, 13, 4, 0], [15, 12, 3, 0], [44, 6, 38, 0], [563, 144, 417, 2], [42, 4, 37, 1]], \"hovertemplate\": \"<b>%{hovertext}</b><br><br>Days=87<br>province=%{x}<br>Confirmed=%{customdata[0]}<br>Isolated=%{customdata[1]}<br>Released=%{customdata[2]}<br>Deceased=%{customdata[3]}<extra></extra>\", \"hovertext\": [\"Busan\", \"Chungcheongbuk-do\", \"Chungcheongnam-do\", \"Daegu\", \"Daejeon\", \"Gangwon-do\", \"Gwangju\", \"Gyeonggi-do\", \"Gyeongsangbuk-do\", \"Gyeongsangnam-do\", \"Incheon\", \"Jeju-do\", \"Jeollabuk-do\", \"Jeollanam-do\", \"Sejong\", \"Seoul\", \"Ulsan\"], \"ids\": [\"Busan\", \"Chungcheongbuk-do\", \"Chungcheongnam-do\", \"Daegu\", \"Daejeon\", \"Gangwon-do\", \"Gwangju\", \"Gyeonggi-do\", \"Gyeongsangbuk-do\", \"Gyeongsangnam-do\", \"Incheon\", \"Jeju-do\", \"Jeollabuk-do\", \"Jeollanam-do\", \"Sejong\", \"Seoul\", \"Ulsan\"], \"legendgroup\": \"\", \"marker\": {\"color\": \"#636efa\", \"opacity\": 0.75}, \"name\": \"\", \"offsetgroup\": \"\", \"orientation\": \"v\", \"showlegend\": false, \"textposition\": \"auto\", \"x\": [\"Busan\", \"Chungcheongbuk-do\", \"Chungcheongnam-do\", \"Daegu\", \"Daejeon\", \"Gangwon-do\", \"Gwangju\", \"Gyeonggi-do\", \"Gyeongsangbuk-do\", \"Gyeongsangnam-do\", \"Incheon\", \"Jeju-do\", \"Jeollabuk-do\", \"Jeollanam-do\", \"Sejong\", \"Seoul\", \"Ulsan\"], \"xaxis\": \"x\", \"y\": [127, 44, 138, 63, 39, 48, 30, 650, 1209, 112, 89, 13, 17, 15, 44, 563, 42], \"yaxis\": \"y\", \"type\": \"bar\"}], \"name\": \"87\"}, {\"data\": [{\"alignmentgroup\": \"True\", \"customdata\": [[127, 13, 111, 3], [44, 5, 39, 0], [140, 13, 127, 0], [63, 39, 4, 20], [39, 5, 34, 0], [49, 18, 29, 2], [30, 9, 21, 0], [654, 592, 61, 1], [1211, 398, 773, 40], [112, 16, 96, 0], [90, 35, 55, 0], [13, 6, 7, 0], [17, 13, 4, 0], [15, 12, 3, 0], [44, 6, 38, 0], [563, 144, 417, 2], [42, 4, 37, 1]], \"hovertemplate\": \"<b>%{hovertext}</b><br><br>Days=88<br>province=%{x}<br>Confirmed=%{customdata[0]}<br>Isolated=%{customdata[1]}<br>Released=%{customdata[2]}<br>Deceased=%{customdata[3]}<extra></extra>\", \"hovertext\": [\"Busan\", \"Chungcheongbuk-do\", \"Chungcheongnam-do\", \"Daegu\", \"Daejeon\", \"Gangwon-do\", \"Gwangju\", \"Gyeonggi-do\", \"Gyeongsangbuk-do\", \"Gyeongsangnam-do\", \"Incheon\", \"Jeju-do\", \"Jeollabuk-do\", \"Jeollanam-do\", \"Sejong\", \"Seoul\", \"Ulsan\"], \"ids\": [\"Busan\", \"Chungcheongbuk-do\", \"Chungcheongnam-do\", \"Daegu\", \"Daejeon\", \"Gangwon-do\", \"Gwangju\", \"Gyeonggi-do\", \"Gyeongsangbuk-do\", \"Gyeongsangnam-do\", \"Incheon\", \"Jeju-do\", \"Jeollabuk-do\", \"Jeollanam-do\", \"Sejong\", \"Seoul\", \"Ulsan\"], \"legendgroup\": \"\", \"marker\": {\"color\": \"#636efa\", \"opacity\": 0.75}, \"name\": \"\", \"offsetgroup\": \"\", \"orientation\": \"v\", \"showlegend\": false, \"textposition\": \"auto\", \"x\": [\"Busan\", \"Chungcheongbuk-do\", \"Chungcheongnam-do\", \"Daegu\", \"Daejeon\", \"Gangwon-do\", \"Gwangju\", \"Gyeonggi-do\", \"Gyeongsangbuk-do\", \"Gyeongsangnam-do\", \"Incheon\", \"Jeju-do\", \"Jeollabuk-do\", \"Jeollanam-do\", \"Sejong\", \"Seoul\", \"Ulsan\"], \"xaxis\": \"x\", \"y\": [127, 44, 140, 63, 39, 49, 30, 654, 1211, 112, 90, 13, 17, 15, 44, 563, 42], \"yaxis\": \"y\", \"type\": \"bar\"}], \"name\": \"88\"}, {\"data\": [{\"alignmentgroup\": \"True\", \"customdata\": [[129, 15, 111, 3], [44, 5, 39, 0], [140, 13, 127, 0], [63, 39, 4, 20], [39, 5, 34, 0], [49, 18, 29, 2], [30, 9, 21, 0], [654, 592, 61, 1], [1212, 399, 773, 40], [112, 16, 96, 0], [91, 36, 55, 0], [13, 6, 7, 0], [17, 13, 4, 0], [15, 12, 3, 0], [44, 6, 38, 0], [563, 144, 417, 2], [42, 4, 37, 1]], \"hovertemplate\": \"<b>%{hovertext}</b><br><br>Days=89<br>province=%{x}<br>Confirmed=%{customdata[0]}<br>Isolated=%{customdata[1]}<br>Released=%{customdata[2]}<br>Deceased=%{customdata[3]}<extra></extra>\", \"hovertext\": [\"Busan\", \"Chungcheongbuk-do\", \"Chungcheongnam-do\", \"Daegu\", \"Daejeon\", \"Gangwon-do\", \"Gwangju\", \"Gyeonggi-do\", \"Gyeongsangbuk-do\", \"Gyeongsangnam-do\", \"Incheon\", \"Jeju-do\", \"Jeollabuk-do\", \"Jeollanam-do\", \"Sejong\", \"Seoul\", \"Ulsan\"], \"ids\": [\"Busan\", \"Chungcheongbuk-do\", \"Chungcheongnam-do\", \"Daegu\", \"Daejeon\", \"Gangwon-do\", \"Gwangju\", \"Gyeonggi-do\", \"Gyeongsangbuk-do\", \"Gyeongsangnam-do\", \"Incheon\", \"Jeju-do\", \"Jeollabuk-do\", \"Jeollanam-do\", \"Sejong\", \"Seoul\", \"Ulsan\"], \"legendgroup\": \"\", \"marker\": {\"color\": \"#636efa\", \"opacity\": 0.75}, \"name\": \"\", \"offsetgroup\": \"\", \"orientation\": \"v\", \"showlegend\": false, \"textposition\": \"auto\", \"x\": [\"Busan\", \"Chungcheongbuk-do\", \"Chungcheongnam-do\", \"Daegu\", \"Daejeon\", \"Gangwon-do\", \"Gwangju\", \"Gyeonggi-do\", \"Gyeongsangbuk-do\", \"Gyeongsangnam-do\", \"Incheon\", \"Jeju-do\", \"Jeollabuk-do\", \"Jeollanam-do\", \"Sejong\", \"Seoul\", \"Ulsan\"], \"xaxis\": \"x\", \"y\": [129, 44, 140, 63, 39, 49, 30, 654, 1212, 112, 91, 13, 17, 15, 44, 563, 42], \"yaxis\": \"y\", \"type\": \"bar\"}], \"name\": \"89\"}, {\"data\": [{\"alignmentgroup\": \"True\", \"customdata\": [[129, 15, 111, 3], [44, 5, 39, 0], [140, 13, 127, 0], [63, 39, 4, 20], [39, 5, 34, 0], [49, 18, 29, 2], [30, 9, 21, 0], [656, 594, 61, 1], [1213, 400, 773, 40], [112, 16, 96, 0], [92, 37, 55, 0], [13, 6, 7, 0], [17, 13, 4, 0], [15, 12, 3, 0], [44, 6, 38, 0], [563, 144, 417, 2], [43, 5, 37, 1]], \"hovertemplate\": \"<b>%{hovertext}</b><br><br>Days=90<br>province=%{x}<br>Confirmed=%{customdata[0]}<br>Isolated=%{customdata[1]}<br>Released=%{customdata[2]}<br>Deceased=%{customdata[3]}<extra></extra>\", \"hovertext\": [\"Busan\", \"Chungcheongbuk-do\", \"Chungcheongnam-do\", \"Daegu\", \"Daejeon\", \"Gangwon-do\", \"Gwangju\", \"Gyeonggi-do\", \"Gyeongsangbuk-do\", \"Gyeongsangnam-do\", \"Incheon\", \"Jeju-do\", \"Jeollabuk-do\", \"Jeollanam-do\", \"Sejong\", \"Seoul\", \"Ulsan\"], \"ids\": [\"Busan\", \"Chungcheongbuk-do\", \"Chungcheongnam-do\", \"Daegu\", \"Daejeon\", \"Gangwon-do\", \"Gwangju\", \"Gyeonggi-do\", \"Gyeongsangbuk-do\", \"Gyeongsangnam-do\", \"Incheon\", \"Jeju-do\", \"Jeollabuk-do\", \"Jeollanam-do\", \"Sejong\", \"Seoul\", \"Ulsan\"], \"legendgroup\": \"\", \"marker\": {\"color\": \"#636efa\", \"opacity\": 0.75}, \"name\": \"\", \"offsetgroup\": \"\", \"orientation\": \"v\", \"showlegend\": false, \"textposition\": \"auto\", \"x\": [\"Busan\", \"Chungcheongbuk-do\", \"Chungcheongnam-do\", \"Daegu\", \"Daejeon\", \"Gangwon-do\", \"Gwangju\", \"Gyeonggi-do\", \"Gyeongsangbuk-do\", \"Gyeongsangnam-do\", \"Incheon\", \"Jeju-do\", \"Jeollabuk-do\", \"Jeollanam-do\", \"Sejong\", \"Seoul\", \"Ulsan\"], \"xaxis\": \"x\", \"y\": [129, 44, 140, 63, 39, 49, 30, 656, 1213, 112, 92, 13, 17, 15, 44, 563, 43], \"yaxis\": \"y\", \"type\": \"bar\"}], \"name\": \"90\"}, {\"data\": [{\"alignmentgroup\": \"True\", \"customdata\": [[129, 15, 111, 3], [44, 5, 39, 0], [140, 13, 127, 0], [63, 39, 4, 20], [39, 5, 34, 0], [49, 18, 29, 2], [30, 9, 21, 0], [658, 596, 61, 1], [1213, 400, 773, 40], [112, 16, 96, 0], [92, 37, 55, 0], [13, 6, 7, 0], [17, 13, 4, 0], [15, 12, 3, 0], [45, 6, 39, 0], [563, 144, 417, 2], [43, 5, 37, 1]], \"hovertemplate\": \"<b>%{hovertext}</b><br><br>Days=91<br>province=%{x}<br>Confirmed=%{customdata[0]}<br>Isolated=%{customdata[1]}<br>Released=%{customdata[2]}<br>Deceased=%{customdata[3]}<extra></extra>\", \"hovertext\": [\"Busan\", \"Chungcheongbuk-do\", \"Chungcheongnam-do\", \"Daegu\", \"Daejeon\", \"Gangwon-do\", \"Gwangju\", \"Gyeonggi-do\", \"Gyeongsangbuk-do\", \"Gyeongsangnam-do\", \"Incheon\", \"Jeju-do\", \"Jeollabuk-do\", \"Jeollanam-do\", \"Sejong\", \"Seoul\", \"Ulsan\"], \"ids\": [\"Busan\", \"Chungcheongbuk-do\", \"Chungcheongnam-do\", \"Daegu\", \"Daejeon\", \"Gangwon-do\", \"Gwangju\", \"Gyeonggi-do\", \"Gyeongsangbuk-do\", \"Gyeongsangnam-do\", \"Incheon\", \"Jeju-do\", \"Jeollabuk-do\", \"Jeollanam-do\", \"Sejong\", \"Seoul\", \"Ulsan\"], \"legendgroup\": \"\", \"marker\": {\"color\": \"#636efa\", \"opacity\": 0.75}, \"name\": \"\", \"offsetgroup\": \"\", \"orientation\": \"v\", \"showlegend\": false, \"textposition\": \"auto\", \"x\": [\"Busan\", \"Chungcheongbuk-do\", \"Chungcheongnam-do\", \"Daegu\", \"Daejeon\", \"Gangwon-do\", \"Gwangju\", \"Gyeonggi-do\", \"Gyeongsangbuk-do\", \"Gyeongsangnam-do\", \"Incheon\", \"Jeju-do\", \"Jeollabuk-do\", \"Jeollanam-do\", \"Sejong\", \"Seoul\", \"Ulsan\"], \"xaxis\": \"x\", \"y\": [129, 44, 140, 63, 39, 49, 30, 658, 1213, 112, 92, 13, 17, 15, 45, 563, 43], \"yaxis\": \"y\", \"type\": \"bar\"}], \"name\": \"91\"}, {\"data\": [{\"alignmentgroup\": \"True\", \"customdata\": [[131, 17, 111, 3], [44, 5, 39, 0], [141, 14, 127, 0], [63, 39, 4, 20], [40, 6, 34, 0], [49, 18, 29, 2], [30, 9, 21, 0], [658, 596, 61, 1], [1215, 402, 773, 40], [112, 16, 96, 0], [92, 37, 55, 0], [13, 6, 7, 0], [17, 13, 4, 0], [15, 12, 3, 0], [46, 6, 40, 0], [563, 144, 417, 2], [43, 5, 37, 1]], \"hovertemplate\": \"<b>%{hovertext}</b><br><br>Days=92<br>province=%{x}<br>Confirmed=%{customdata[0]}<br>Isolated=%{customdata[1]}<br>Released=%{customdata[2]}<br>Deceased=%{customdata[3]}<extra></extra>\", \"hovertext\": [\"Busan\", \"Chungcheongbuk-do\", \"Chungcheongnam-do\", \"Daegu\", \"Daejeon\", \"Gangwon-do\", \"Gwangju\", \"Gyeonggi-do\", \"Gyeongsangbuk-do\", \"Gyeongsangnam-do\", \"Incheon\", \"Jeju-do\", \"Jeollabuk-do\", \"Jeollanam-do\", \"Sejong\", \"Seoul\", \"Ulsan\"], \"ids\": [\"Busan\", \"Chungcheongbuk-do\", \"Chungcheongnam-do\", \"Daegu\", \"Daejeon\", \"Gangwon-do\", \"Gwangju\", \"Gyeonggi-do\", \"Gyeongsangbuk-do\", \"Gyeongsangnam-do\", \"Incheon\", \"Jeju-do\", \"Jeollabuk-do\", \"Jeollanam-do\", \"Sejong\", \"Seoul\", \"Ulsan\"], \"legendgroup\": \"\", \"marker\": {\"color\": \"#636efa\", \"opacity\": 0.75}, \"name\": \"\", \"offsetgroup\": \"\", \"orientation\": \"v\", \"showlegend\": false, \"textposition\": \"auto\", \"x\": [\"Busan\", \"Chungcheongbuk-do\", \"Chungcheongnam-do\", \"Daegu\", \"Daejeon\", \"Gangwon-do\", \"Gwangju\", \"Gyeonggi-do\", \"Gyeongsangbuk-do\", \"Gyeongsangnam-do\", \"Incheon\", \"Jeju-do\", \"Jeollabuk-do\", \"Jeollanam-do\", \"Sejong\", \"Seoul\", \"Ulsan\"], \"xaxis\": \"x\", \"y\": [131, 44, 141, 63, 40, 49, 30, 658, 1215, 112, 92, 13, 17, 15, 46, 563, 43], \"yaxis\": \"y\", \"type\": \"bar\"}], \"name\": \"92\"}, {\"data\": [{\"alignmentgroup\": \"True\", \"customdata\": [[132, 18, 111, 3], [44, 5, 39, 0], [141, 14, 127, 0], [63, 39, 4, 20], [40, 6, 34, 0], [49, 18, 29, 2], [30, 9, 21, 0], [659, 597, 61, 1], [1215, 402, 773, 40], [112, 16, 96, 0], [92, 37, 55, 0], [13, 6, 7, 0], [17, 13, 4, 0], [15, 12, 3, 0], [46, 6, 40, 0], [563, 144, 417, 2], [43, 5, 37, 1]], \"hovertemplate\": \"<b>%{hovertext}</b><br><br>Days=93<br>province=%{x}<br>Confirmed=%{customdata[0]}<br>Isolated=%{customdata[1]}<br>Released=%{customdata[2]}<br>Deceased=%{customdata[3]}<extra></extra>\", \"hovertext\": [\"Busan\", \"Chungcheongbuk-do\", \"Chungcheongnam-do\", \"Daegu\", \"Daejeon\", \"Gangwon-do\", \"Gwangju\", \"Gyeonggi-do\", \"Gyeongsangbuk-do\", \"Gyeongsangnam-do\", \"Incheon\", \"Jeju-do\", \"Jeollabuk-do\", \"Jeollanam-do\", \"Sejong\", \"Seoul\", \"Ulsan\"], \"ids\": [\"Busan\", \"Chungcheongbuk-do\", \"Chungcheongnam-do\", \"Daegu\", \"Daejeon\", \"Gangwon-do\", \"Gwangju\", \"Gyeonggi-do\", \"Gyeongsangbuk-do\", \"Gyeongsangnam-do\", \"Incheon\", \"Jeju-do\", \"Jeollabuk-do\", \"Jeollanam-do\", \"Sejong\", \"Seoul\", \"Ulsan\"], \"legendgroup\": \"\", \"marker\": {\"color\": \"#636efa\", \"opacity\": 0.75}, \"name\": \"\", \"offsetgroup\": \"\", \"orientation\": \"v\", \"showlegend\": false, \"textposition\": \"auto\", \"x\": [\"Busan\", \"Chungcheongbuk-do\", \"Chungcheongnam-do\", \"Daegu\", \"Daejeon\", \"Gangwon-do\", \"Gwangju\", \"Gyeonggi-do\", \"Gyeongsangbuk-do\", \"Gyeongsangnam-do\", \"Incheon\", \"Jeju-do\", \"Jeollabuk-do\", \"Jeollanam-do\", \"Sejong\", \"Seoul\", \"Ulsan\"], \"xaxis\": \"x\", \"y\": [132, 44, 141, 63, 40, 49, 30, 659, 1215, 112, 92, 13, 17, 15, 46, 563, 43], \"yaxis\": \"y\", \"type\": \"bar\"}], \"name\": \"93\"}, {\"data\": [{\"alignmentgroup\": \"True\", \"customdata\": [[133, 19, 111, 3], [44, 5, 39, 0], [141, 14, 127, 0], [63, 39, 4, 20], [40, 6, 34, 0], [49, 18, 29, 2], [30, 9, 21, 0], [660, 598, 61, 1], [1215, 402, 773, 40], [112, 16, 96, 0], [92, 37, 55, 0], [13, 6, 7, 0], [17, 13, 4, 0], [15, 12, 3, 0], [46, 6, 40, 0], [563, 144, 417, 2], [43, 5, 37, 1]], \"hovertemplate\": \"<b>%{hovertext}</b><br><br>Days=94<br>province=%{x}<br>Confirmed=%{customdata[0]}<br>Isolated=%{customdata[1]}<br>Released=%{customdata[2]}<br>Deceased=%{customdata[3]}<extra></extra>\", \"hovertext\": [\"Busan\", \"Chungcheongbuk-do\", \"Chungcheongnam-do\", \"Daegu\", \"Daejeon\", \"Gangwon-do\", \"Gwangju\", \"Gyeonggi-do\", \"Gyeongsangbuk-do\", \"Gyeongsangnam-do\", \"Incheon\", \"Jeju-do\", \"Jeollabuk-do\", \"Jeollanam-do\", \"Sejong\", \"Seoul\", \"Ulsan\"], \"ids\": [\"Busan\", \"Chungcheongbuk-do\", \"Chungcheongnam-do\", \"Daegu\", \"Daejeon\", \"Gangwon-do\", \"Gwangju\", \"Gyeonggi-do\", \"Gyeongsangbuk-do\", \"Gyeongsangnam-do\", \"Incheon\", \"Jeju-do\", \"Jeollabuk-do\", \"Jeollanam-do\", \"Sejong\", \"Seoul\", \"Ulsan\"], \"legendgroup\": \"\", \"marker\": {\"color\": \"#636efa\", \"opacity\": 0.75}, \"name\": \"\", \"offsetgroup\": \"\", \"orientation\": \"v\", \"showlegend\": false, \"textposition\": \"auto\", \"x\": [\"Busan\", \"Chungcheongbuk-do\", \"Chungcheongnam-do\", \"Daegu\", \"Daejeon\", \"Gangwon-do\", \"Gwangju\", \"Gyeonggi-do\", \"Gyeongsangbuk-do\", \"Gyeongsangnam-do\", \"Incheon\", \"Jeju-do\", \"Jeollabuk-do\", \"Jeollanam-do\", \"Sejong\", \"Seoul\", \"Ulsan\"], \"xaxis\": \"x\", \"y\": [133, 44, 141, 63, 40, 49, 30, 660, 1215, 112, 92, 13, 17, 15, 46, 563, 43], \"yaxis\": \"y\", \"type\": \"bar\"}], \"name\": \"94\"}, {\"data\": [{\"alignmentgroup\": \"True\", \"customdata\": [[133, 19, 111, 3], [44, 5, 39, 0], [141, 14, 127, 0], [63, 39, 4, 20], [40, 6, 34, 0], [49, 18, 29, 2], [30, 9, 21, 0], [662, 600, 61, 1], [1217, 404, 773, 40], [112, 16, 96, 0], [92, 37, 55, 0], [13, 6, 7, 0], [17, 13, 4, 0], [15, 12, 3, 0], [46, 6, 40, 0], [563, 144, 417, 2], [43, 5, 37, 1]], \"hovertemplate\": \"<b>%{hovertext}</b><br><br>Days=95<br>province=%{x}<br>Confirmed=%{customdata[0]}<br>Isolated=%{customdata[1]}<br>Released=%{customdata[2]}<br>Deceased=%{customdata[3]}<extra></extra>\", \"hovertext\": [\"Busan\", \"Chungcheongbuk-do\", \"Chungcheongnam-do\", \"Daegu\", \"Daejeon\", \"Gangwon-do\", \"Gwangju\", \"Gyeonggi-do\", \"Gyeongsangbuk-do\", \"Gyeongsangnam-do\", \"Incheon\", \"Jeju-do\", \"Jeollabuk-do\", \"Jeollanam-do\", \"Sejong\", \"Seoul\", \"Ulsan\"], \"ids\": [\"Busan\", \"Chungcheongbuk-do\", \"Chungcheongnam-do\", \"Daegu\", \"Daejeon\", \"Gangwon-do\", \"Gwangju\", \"Gyeonggi-do\", \"Gyeongsangbuk-do\", \"Gyeongsangnam-do\", \"Incheon\", \"Jeju-do\", \"Jeollabuk-do\", \"Jeollanam-do\", \"Sejong\", \"Seoul\", \"Ulsan\"], \"legendgroup\": \"\", \"marker\": {\"color\": \"#636efa\", \"opacity\": 0.75}, \"name\": \"\", \"offsetgroup\": \"\", \"orientation\": \"v\", \"showlegend\": false, \"textposition\": \"auto\", \"x\": [\"Busan\", \"Chungcheongbuk-do\", \"Chungcheongnam-do\", \"Daegu\", \"Daejeon\", \"Gangwon-do\", \"Gwangju\", \"Gyeonggi-do\", \"Gyeongsangbuk-do\", \"Gyeongsangnam-do\", \"Incheon\", \"Jeju-do\", \"Jeollabuk-do\", \"Jeollanam-do\", \"Sejong\", \"Seoul\", \"Ulsan\"], \"xaxis\": \"x\", \"y\": [133, 44, 141, 63, 40, 49, 30, 662, 1217, 112, 92, 13, 17, 15, 46, 563, 43], \"yaxis\": \"y\", \"type\": \"bar\"}], \"name\": \"95\"}, {\"data\": [{\"alignmentgroup\": \"True\", \"customdata\": [[134, 20, 111, 3], [44, 5, 39, 0], [141, 14, 127, 0], [63, 39, 4, 20], [40, 6, 34, 0], [49, 18, 29, 2], [30, 9, 21, 0], [669, 607, 61, 1], [1217, 404, 773, 40], [112, 16, 96, 0], [92, 37, 55, 0], [13, 6, 7, 0], [17, 13, 4, 0], [15, 12, 3, 0], [46, 6, 40, 0], [563, 144, 417, 2], [43, 5, 37, 1]], \"hovertemplate\": \"<b>%{hovertext}</b><br><br>Days=96<br>province=%{x}<br>Confirmed=%{customdata[0]}<br>Isolated=%{customdata[1]}<br>Released=%{customdata[2]}<br>Deceased=%{customdata[3]}<extra></extra>\", \"hovertext\": [\"Busan\", \"Chungcheongbuk-do\", \"Chungcheongnam-do\", \"Daegu\", \"Daejeon\", \"Gangwon-do\", \"Gwangju\", \"Gyeonggi-do\", \"Gyeongsangbuk-do\", \"Gyeongsangnam-do\", \"Incheon\", \"Jeju-do\", \"Jeollabuk-do\", \"Jeollanam-do\", \"Sejong\", \"Seoul\", \"Ulsan\"], \"ids\": [\"Busan\", \"Chungcheongbuk-do\", \"Chungcheongnam-do\", \"Daegu\", \"Daejeon\", \"Gangwon-do\", \"Gwangju\", \"Gyeonggi-do\", \"Gyeongsangbuk-do\", \"Gyeongsangnam-do\", \"Incheon\", \"Jeju-do\", \"Jeollabuk-do\", \"Jeollanam-do\", \"Sejong\", \"Seoul\", \"Ulsan\"], \"legendgroup\": \"\", \"marker\": {\"color\": \"#636efa\", \"opacity\": 0.75}, \"name\": \"\", \"offsetgroup\": \"\", \"orientation\": \"v\", \"showlegend\": false, \"textposition\": \"auto\", \"x\": [\"Busan\", \"Chungcheongbuk-do\", \"Chungcheongnam-do\", \"Daegu\", \"Daejeon\", \"Gangwon-do\", \"Gwangju\", \"Gyeonggi-do\", \"Gyeongsangbuk-do\", \"Gyeongsangnam-do\", \"Incheon\", \"Jeju-do\", \"Jeollabuk-do\", \"Jeollanam-do\", \"Sejong\", \"Seoul\", \"Ulsan\"], \"xaxis\": \"x\", \"y\": [134, 44, 141, 63, 40, 49, 30, 669, 1217, 112, 92, 13, 17, 15, 46, 563, 43], \"yaxis\": \"y\", \"type\": \"bar\"}], \"name\": \"96\"}, {\"data\": [{\"alignmentgroup\": \"True\", \"customdata\": [[134, 20, 111, 3], [44, 5, 39, 0], [142, 15, 127, 0], [63, 39, 4, 20], [40, 6, 34, 0], [49, 18, 29, 2], [30, 9, 21, 0], [672, 610, 61, 1], [1217, 404, 773, 40], [112, 16, 96, 0], [92, 37, 55, 0], [13, 6, 7, 0], [17, 13, 4, 0], [15, 12, 3, 0], [46, 6, 40, 0], [563, 144, 417, 2], [43, 5, 37, 1]], \"hovertemplate\": \"<b>%{hovertext}</b><br><br>Days=97<br>province=%{x}<br>Confirmed=%{customdata[0]}<br>Isolated=%{customdata[1]}<br>Released=%{customdata[2]}<br>Deceased=%{customdata[3]}<extra></extra>\", \"hovertext\": [\"Busan\", \"Chungcheongbuk-do\", \"Chungcheongnam-do\", \"Daegu\", \"Daejeon\", \"Gangwon-do\", \"Gwangju\", \"Gyeonggi-do\", \"Gyeongsangbuk-do\", \"Gyeongsangnam-do\", \"Incheon\", \"Jeju-do\", \"Jeollabuk-do\", \"Jeollanam-do\", \"Sejong\", \"Seoul\", \"Ulsan\"], \"ids\": [\"Busan\", \"Chungcheongbuk-do\", \"Chungcheongnam-do\", \"Daegu\", \"Daejeon\", \"Gangwon-do\", \"Gwangju\", \"Gyeonggi-do\", \"Gyeongsangbuk-do\", \"Gyeongsangnam-do\", \"Incheon\", \"Jeju-do\", \"Jeollabuk-do\", \"Jeollanam-do\", \"Sejong\", \"Seoul\", \"Ulsan\"], \"legendgroup\": \"\", \"marker\": {\"color\": \"#636efa\", \"opacity\": 0.75}, \"name\": \"\", \"offsetgroup\": \"\", \"orientation\": \"v\", \"showlegend\": false, \"textposition\": \"auto\", \"x\": [\"Busan\", \"Chungcheongbuk-do\", \"Chungcheongnam-do\", \"Daegu\", \"Daejeon\", \"Gangwon-do\", \"Gwangju\", \"Gyeonggi-do\", \"Gyeongsangbuk-do\", \"Gyeongsangnam-do\", \"Incheon\", \"Jeju-do\", \"Jeollabuk-do\", \"Jeollanam-do\", \"Sejong\", \"Seoul\", \"Ulsan\"], \"xaxis\": \"x\", \"y\": [134, 44, 142, 63, 40, 49, 30, 672, 1217, 112, 92, 13, 17, 15, 46, 563, 43], \"yaxis\": \"y\", \"type\": \"bar\"}], \"name\": \"97\"}, {\"data\": [{\"alignmentgroup\": \"True\", \"customdata\": [[134, 20, 111, 3], [44, 5, 39, 0], [142, 15, 127, 0], [63, 39, 4, 20], [40, 6, 34, 0], [49, 18, 29, 2], [30, 9, 21, 0], [674, 612, 61, 1], [1218, 405, 773, 40], [112, 16, 96, 0], [92, 37, 55, 0], [13, 6, 7, 0], [17, 13, 4, 0], [15, 12, 3, 0], [46, 6, 40, 0], [563, 144, 417, 2], [43, 5, 37, 1]], \"hovertemplate\": \"<b>%{hovertext}</b><br><br>Days=98<br>province=%{x}<br>Confirmed=%{customdata[0]}<br>Isolated=%{customdata[1]}<br>Released=%{customdata[2]}<br>Deceased=%{customdata[3]}<extra></extra>\", \"hovertext\": [\"Busan\", \"Chungcheongbuk-do\", \"Chungcheongnam-do\", \"Daegu\", \"Daejeon\", \"Gangwon-do\", \"Gwangju\", \"Gyeonggi-do\", \"Gyeongsangbuk-do\", \"Gyeongsangnam-do\", \"Incheon\", \"Jeju-do\", \"Jeollabuk-do\", \"Jeollanam-do\", \"Sejong\", \"Seoul\", \"Ulsan\"], \"ids\": [\"Busan\", \"Chungcheongbuk-do\", \"Chungcheongnam-do\", \"Daegu\", \"Daejeon\", \"Gangwon-do\", \"Gwangju\", \"Gyeonggi-do\", \"Gyeongsangbuk-do\", \"Gyeongsangnam-do\", \"Incheon\", \"Jeju-do\", \"Jeollabuk-do\", \"Jeollanam-do\", \"Sejong\", \"Seoul\", \"Ulsan\"], \"legendgroup\": \"\", \"marker\": {\"color\": \"#636efa\", \"opacity\": 0.75}, \"name\": \"\", \"offsetgroup\": \"\", \"orientation\": \"v\", \"showlegend\": false, \"textposition\": \"auto\", \"x\": [\"Busan\", \"Chungcheongbuk-do\", \"Chungcheongnam-do\", \"Daegu\", \"Daejeon\", \"Gangwon-do\", \"Gwangju\", \"Gyeonggi-do\", \"Gyeongsangbuk-do\", \"Gyeongsangnam-do\", \"Incheon\", \"Jeju-do\", \"Jeollabuk-do\", \"Jeollanam-do\", \"Sejong\", \"Seoul\", \"Ulsan\"], \"xaxis\": \"x\", \"y\": [134, 44, 142, 63, 40, 49, 30, 674, 1218, 112, 92, 13, 17, 15, 46, 563, 43], \"yaxis\": \"y\", \"type\": \"bar\"}], \"name\": \"98\"}, {\"data\": [{\"alignmentgroup\": \"True\", \"customdata\": [[134, 20, 111, 3], [44, 5, 39, 0], [143, 16, 127, 0], [63, 39, 4, 20], [40, 6, 34, 0], [49, 18, 29, 2], [30, 9, 21, 0], [676, 614, 61, 1], [1218, 405, 773, 40], [112, 16, 96, 0], [92, 37, 55, 0], [13, 6, 7, 0], [17, 13, 4, 0], [15, 12, 3, 0], [46, 6, 40, 0], [563, 144, 417, 2], [43, 5, 37, 1]], \"hovertemplate\": \"<b>%{hovertext}</b><br><br>Days=99<br>province=%{x}<br>Confirmed=%{customdata[0]}<br>Isolated=%{customdata[1]}<br>Released=%{customdata[2]}<br>Deceased=%{customdata[3]}<extra></extra>\", \"hovertext\": [\"Busan\", \"Chungcheongbuk-do\", \"Chungcheongnam-do\", \"Daegu\", \"Daejeon\", \"Gangwon-do\", \"Gwangju\", \"Gyeonggi-do\", \"Gyeongsangbuk-do\", \"Gyeongsangnam-do\", \"Incheon\", \"Jeju-do\", \"Jeollabuk-do\", \"Jeollanam-do\", \"Sejong\", \"Seoul\", \"Ulsan\"], \"ids\": [\"Busan\", \"Chungcheongbuk-do\", \"Chungcheongnam-do\", \"Daegu\", \"Daejeon\", \"Gangwon-do\", \"Gwangju\", \"Gyeonggi-do\", \"Gyeongsangbuk-do\", \"Gyeongsangnam-do\", \"Incheon\", \"Jeju-do\", \"Jeollabuk-do\", \"Jeollanam-do\", \"Sejong\", \"Seoul\", \"Ulsan\"], \"legendgroup\": \"\", \"marker\": {\"color\": \"#636efa\", \"opacity\": 0.75}, \"name\": \"\", \"offsetgroup\": \"\", \"orientation\": \"v\", \"showlegend\": false, \"textposition\": \"auto\", \"x\": [\"Busan\", \"Chungcheongbuk-do\", \"Chungcheongnam-do\", \"Daegu\", \"Daejeon\", \"Gangwon-do\", \"Gwangju\", \"Gyeonggi-do\", \"Gyeongsangbuk-do\", \"Gyeongsangnam-do\", \"Incheon\", \"Jeju-do\", \"Jeollabuk-do\", \"Jeollanam-do\", \"Sejong\", \"Seoul\", \"Ulsan\"], \"xaxis\": \"x\", \"y\": [134, 44, 143, 63, 40, 49, 30, 676, 1218, 112, 92, 13, 17, 15, 46, 563, 43], \"yaxis\": \"y\", \"type\": \"bar\"}], \"name\": \"99\"}, {\"data\": [{\"alignmentgroup\": \"True\", \"customdata\": [[134, 20, 111, 3], [44, 5, 39, 0], [143, 16, 127, 0], [63, 39, 4, 20], [40, 6, 34, 0], [49, 18, 29, 2], [30, 9, 21, 0], [677, 615, 61, 1], [1218, 405, 773, 40], [112, 16, 96, 0], [92, 37, 55, 0], [13, 6, 7, 0], [17, 13, 4, 0], [15, 12, 3, 0], [46, 6, 40, 0], [563, 144, 417, 2], [43, 5, 37, 1]], \"hovertemplate\": \"<b>%{hovertext}</b><br><br>Days=100<br>province=%{x}<br>Confirmed=%{customdata[0]}<br>Isolated=%{customdata[1]}<br>Released=%{customdata[2]}<br>Deceased=%{customdata[3]}<extra></extra>\", \"hovertext\": [\"Busan\", \"Chungcheongbuk-do\", \"Chungcheongnam-do\", \"Daegu\", \"Daejeon\", \"Gangwon-do\", \"Gwangju\", \"Gyeonggi-do\", \"Gyeongsangbuk-do\", \"Gyeongsangnam-do\", \"Incheon\", \"Jeju-do\", \"Jeollabuk-do\", \"Jeollanam-do\", \"Sejong\", \"Seoul\", \"Ulsan\"], \"ids\": [\"Busan\", \"Chungcheongbuk-do\", \"Chungcheongnam-do\", \"Daegu\", \"Daejeon\", \"Gangwon-do\", \"Gwangju\", \"Gyeonggi-do\", \"Gyeongsangbuk-do\", \"Gyeongsangnam-do\", \"Incheon\", \"Jeju-do\", \"Jeollabuk-do\", \"Jeollanam-do\", \"Sejong\", \"Seoul\", \"Ulsan\"], \"legendgroup\": \"\", \"marker\": {\"color\": \"#636efa\", \"opacity\": 0.75}, \"name\": \"\", \"offsetgroup\": \"\", \"orientation\": \"v\", \"showlegend\": false, \"textposition\": \"auto\", \"x\": [\"Busan\", \"Chungcheongbuk-do\", \"Chungcheongnam-do\", \"Daegu\", \"Daejeon\", \"Gangwon-do\", \"Gwangju\", \"Gyeonggi-do\", \"Gyeongsangbuk-do\", \"Gyeongsangnam-do\", \"Incheon\", \"Jeju-do\", \"Jeollabuk-do\", \"Jeollanam-do\", \"Sejong\", \"Seoul\", \"Ulsan\"], \"xaxis\": \"x\", \"y\": [134, 44, 143, 63, 40, 49, 30, 677, 1218, 112, 92, 13, 17, 15, 46, 563, 43], \"yaxis\": \"y\", \"type\": \"bar\"}], \"name\": \"100\"}]);\n",
       "                        }).then(function(){\n",
       "                            \n",
       "var gd = document.getElementById('e06c9362-ac6b-493d-99f4-798c637ed207');\n",
       "var x = new MutationObserver(function (mutations, observer) {{\n",
       "        var display = window.getComputedStyle(gd).display;\n",
       "        if (!display || display === 'none') {{\n",
       "            console.log([gd, 'removed!']);\n",
       "            Plotly.purge(gd);\n",
       "            observer.disconnect();\n",
       "        }}\n",
       "}});\n",
       "\n",
       "// Listen for the removal of the full notebook cells\n",
       "var notebookContainer = gd.closest('#notebook-container');\n",
       "if (notebookContainer) {{\n",
       "    x.observe(notebookContainer, {childList: true});\n",
       "}}\n",
       "\n",
       "// Listen for the clearing of the current output cell\n",
       "var outputEl = gd.closest('.output');\n",
       "if (outputEl) {{\n",
       "    x.observe(outputEl, {childList: true});\n",
       "}}\n",
       "\n",
       "                        })\n",
       "                };\n",
       "                });\n",
       "            </script>\n",
       "        </div>"
      ]
     },
     "metadata": {},
     "output_type": "display_data"
    }
   ],
   "source": [
    "fig = px.bar(df_plot,x='province',y='Confirmed',animation_frame='Days',animation_group='province',\n",
    "            hover_name='province',hover_data=['Confirmed','Isolated','Released','Deceased'],\n",
    "            title='Confirmed cases of COVID-19 per province',opacity=0.75)\n",
    "\n",
    "# Setting background to transparent\n",
    "fig.update_layout({'plot_bgcolor': 'rgba(0, 0, 0, 0)',\n",
    "                   'paper_bgcolor': 'rgba(0, 0, 0, 0)',})\n",
    "\n",
    "# Ordering bars and setting figure size\n",
    "fig.update_layout(xaxis={'categoryorder':'total descending'},width=900,height=600)\n",
    "\n",
    "# Not displaying axis labels\n",
    "fig.update_yaxes(title_text='', automargin=True)\n",
    "fig.update_xaxes(title_text='', tickfont=dict(size=10))\n",
    "\n",
    "fig.show()"
   ]
  },
  {
   "cell_type": "markdown",
   "metadata": {},
   "source": [
    "## What could have happened geographically?"
   ]
  },
  {
   "cell_type": "markdown",
   "metadata": {},
   "source": [
    "The province that currently carries the biggest amount of cases historically is Gyeongsangbuk-do, and the magnitude is incredible, being more than the sum of the second and third largest focal points (Gyeonggi-do and Seoul). But what is so special (or, in this case, dangerous) about Gyeongsangbuk-do?"
   ]
  },
  {
   "cell_type": "markdown",
   "metadata": {},
   "source": [
    "Upon closer inspection of the data that we have, we unfortunately can see a difference between those who we can trace the route and status, and those we can't. The table below shows that difference, which is not depicted in the geographical plots of before:"
   ]
  },
  {
   "cell_type": "markdown",
   "metadata": {},
   "source": [
    "So Daegu actually contains more than 60% of the national cases!"
   ]
  },
  {
   "cell_type": "markdown",
   "metadata": {},
   "source": [
    "According to http://nationalatlas.ngii.go.kr/pages/page_1266.php, Daegu is the second most population dense province (right after Seoul, the third worst hotspot) and has one of the busiest airports (https://en.wikipedia.org/wiki/List_of_the_busiest_airports_in_South_Korea#2017_final_statistics), while Gyeongsangbuk-do does not have any data amongst the busiest airports. Therefore, it seems as if Daegu could function as a centre for air travelling for the surrounding provinces.\n",
    "\n",
    "The conclusion couldn't be more natural: avoiding densely populated areas and busy airports seem to be a good idea to reduce the risks of contracting the disease."
   ]
  }
 ],
 "metadata": {
  "kernelspec": {
   "display_name": "Python 3",
   "language": "python",
   "name": "python3"
  },
  "language_info": {
   "codemirror_mode": {
    "name": "ipython",
    "version": 3
   },
   "file_extension": ".py",
   "mimetype": "text/x-python",
   "name": "python",
   "nbconvert_exporter": "python",
   "pygments_lexer": "ipython3",
   "version": "3.7.1"
  }
 },
 "nbformat": 4,
 "nbformat_minor": 2
}
